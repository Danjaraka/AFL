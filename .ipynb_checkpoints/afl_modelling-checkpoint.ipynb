{
 "cells": [
  {
   "cell_type": "markdown",
   "id": "2421715a-990e-43ef-9669-39552f944ad0",
   "metadata": {},
   "source": [
    "# Libraries"
   ]
  },
  {
   "cell_type": "code",
   "execution_count": 352,
   "id": "46b83c50-25bb-4c68-b93a-65931ece5b82",
   "metadata": {
    "tags": []
   },
   "outputs": [],
   "source": [
    "import pandas as pd\n",
    "import numpy as np\n",
    "import optuna\n",
    "import plotly\n",
    "from optuna.visualization import plot_contour, plot_edf, plot_intermediate_values, plot_optimization_history, plot_parallel_coordinate\n",
    "from optuna.visualization import plot_param_importances, plot_rank, plot_slice, plot_timeline\n",
    "from sklearn.linear_model import LogisticRegression\n",
    "from sklearn.model_selection import train_test_split\n",
    "from sklearn.metrics import classification_report, confusion_matrix\n",
    "from sklearn.metrics import accuracy_score\n",
    "from sklearn.preprocessing import OrdinalEncoder\n",
    "from sklearn.linear_model import LinearRegression\n",
    "from sklearn.metrics import mean_squared_error, mean_absolute_error, r2_score\n",
    "from sklearn.neighbors import KNeighborsRegressor\n",
    "from sklearn.preprocessing import StandardScaler\n",
    "from math import sqrt\n",
    "\n",
    "pd.set_option('display.max_columns', None)"
   ]
  },
  {
   "cell_type": "markdown",
   "id": "7a7690e5-4915-4035-9fed-c3b55197a169",
   "metadata": {},
   "source": [
    "# Functions"
   ]
  },
  {
   "cell_type": "code",
   "execution_count": 353,
   "id": "bf581a41-14b3-427d-ad32-8b3c719a106a",
   "metadata": {
    "tags": []
   },
   "outputs": [],
   "source": [
    "def na_columns(df):\n",
    "    na_count_per_column = df.isna().sum()\n",
    "    return na_count_per_column"
   ]
  },
  {
   "cell_type": "markdown",
   "id": "bf797b8a-f9b6-4562-89ab-60592d14b130",
   "metadata": {},
   "source": [
    "# Data loading"
   ]
  },
  {
   "cell_type": "code",
   "execution_count": 354,
   "id": "8ad2ea3f-897a-406b-9160-648aed31df4c",
   "metadata": {
    "tags": []
   },
   "outputs": [
    {
     "data": {
      "text/html": [
       "<div>\n",
       "<style scoped>\n",
       "    .dataframe tbody tr th:only-of-type {\n",
       "        vertical-align: middle;\n",
       "    }\n",
       "\n",
       "    .dataframe tbody tr th {\n",
       "        vertical-align: top;\n",
       "    }\n",
       "\n",
       "    .dataframe thead th {\n",
       "        text-align: right;\n",
       "    }\n",
       "</style>\n",
       "<table border=\"1\" class=\"dataframe\">\n",
       "  <thead>\n",
       "    <tr style=\"text-align: right;\">\n",
       "      <th></th>\n",
       "      <th>year</th>\n",
       "      <th>round</th>\n",
       "      <th>date</th>\n",
       "      <th>time</th>\n",
       "      <th>region</th>\n",
       "      <th>venue</th>\n",
       "      <th>hteam</th>\n",
       "      <th>ateam</th>\n",
       "      <th>hscore</th>\n",
       "      <th>ascore</th>\n",
       "      <th>is_grand_final</th>\n",
       "      <th>is_final</th>\n",
       "      <th>home_win</th>\n",
       "      <th>hdiff</th>\n",
       "    </tr>\n",
       "  </thead>\n",
       "  <tbody>\n",
       "    <tr>\n",
       "      <th>0</th>\n",
       "      <td>2012</td>\n",
       "      <td>1</td>\n",
       "      <td>2012-03-31</td>\n",
       "      <td>16:45:00</td>\n",
       "      <td>WA</td>\n",
       "      <td>Subiaco</td>\n",
       "      <td>Fremantle</td>\n",
       "      <td>Geelong</td>\n",
       "      <td>105</td>\n",
       "      <td>101</td>\n",
       "      <td>0</td>\n",
       "      <td>0</td>\n",
       "      <td>1</td>\n",
       "      <td>4</td>\n",
       "    </tr>\n",
       "    <tr>\n",
       "      <th>1</th>\n",
       "      <td>2012</td>\n",
       "      <td>1</td>\n",
       "      <td>2012-03-31</td>\n",
       "      <td>15:45:00</td>\n",
       "      <td>QLD</td>\n",
       "      <td>Carrara</td>\n",
       "      <td>Gold Coast</td>\n",
       "      <td>Adelaide</td>\n",
       "      <td>68</td>\n",
       "      <td>137</td>\n",
       "      <td>0</td>\n",
       "      <td>0</td>\n",
       "      <td>0</td>\n",
       "      <td>-69</td>\n",
       "    </tr>\n",
       "    <tr>\n",
       "      <th>2</th>\n",
       "      <td>2012</td>\n",
       "      <td>1</td>\n",
       "      <td>2012-03-24</td>\n",
       "      <td>19:20:00</td>\n",
       "      <td>NSW</td>\n",
       "      <td>Stadium Australia</td>\n",
       "      <td>Greater Western Sydney</td>\n",
       "      <td>Sydney</td>\n",
       "      <td>37</td>\n",
       "      <td>100</td>\n",
       "      <td>0</td>\n",
       "      <td>0</td>\n",
       "      <td>0</td>\n",
       "      <td>-63</td>\n",
       "    </tr>\n",
       "    <tr>\n",
       "      <th>3</th>\n",
       "      <td>2012</td>\n",
       "      <td>1</td>\n",
       "      <td>2012-03-30</td>\n",
       "      <td>19:50:00</td>\n",
       "      <td>VIC</td>\n",
       "      <td>M.C.G.</td>\n",
       "      <td>Hawthorn</td>\n",
       "      <td>Collingwood</td>\n",
       "      <td>137</td>\n",
       "      <td>115</td>\n",
       "      <td>0</td>\n",
       "      <td>0</td>\n",
       "      <td>1</td>\n",
       "      <td>22</td>\n",
       "    </tr>\n",
       "    <tr>\n",
       "      <th>4</th>\n",
       "      <td>2012</td>\n",
       "      <td>1</td>\n",
       "      <td>2012-03-31</td>\n",
       "      <td>13:45:00</td>\n",
       "      <td>VIC</td>\n",
       "      <td>M.C.G.</td>\n",
       "      <td>Melbourne</td>\n",
       "      <td>Brisbane Lions</td>\n",
       "      <td>78</td>\n",
       "      <td>119</td>\n",
       "      <td>0</td>\n",
       "      <td>0</td>\n",
       "      <td>0</td>\n",
       "      <td>-41</td>\n",
       "    </tr>\n",
       "  </tbody>\n",
       "</table>\n",
       "</div>"
      ],
      "text/plain": [
       "   year  round        date      time region              venue  \\\n",
       "0  2012      1  2012-03-31  16:45:00     WA            Subiaco   \n",
       "1  2012      1  2012-03-31  15:45:00    QLD            Carrara   \n",
       "2  2012      1  2012-03-24  19:20:00    NSW  Stadium Australia   \n",
       "3  2012      1  2012-03-30  19:50:00    VIC             M.C.G.   \n",
       "4  2012      1  2012-03-31  13:45:00    VIC             M.C.G.   \n",
       "\n",
       "                    hteam           ateam  hscore  ascore  is_grand_final  \\\n",
       "0               Fremantle         Geelong     105     101               0   \n",
       "1              Gold Coast        Adelaide      68     137               0   \n",
       "2  Greater Western Sydney          Sydney      37     100               0   \n",
       "3                Hawthorn     Collingwood     137     115               0   \n",
       "4               Melbourne  Brisbane Lions      78     119               0   \n",
       "\n",
       "   is_final  home_win  hdiff  \n",
       "0         0         1      4  \n",
       "1         0         0    -69  \n",
       "2         0         0    -63  \n",
       "3         0         1     22  \n",
       "4         0         0    -41  "
      ]
     },
     "execution_count": 354,
     "metadata": {},
     "output_type": "execute_result"
    }
   ],
   "source": [
    "fixture = pd.read_csv('fixture.csv')\n",
    "fixture.head()"
   ]
  },
  {
   "cell_type": "code",
   "execution_count": 355,
   "id": "cb895dae-d841-46c4-855b-63c61005f0c6",
   "metadata": {
    "tags": []
   },
   "outputs": [
    {
     "data": {
      "text/plain": [
       "year              0\n",
       "round             0\n",
       "date              0\n",
       "time              0\n",
       "region            0\n",
       "venue             0\n",
       "hteam             0\n",
       "ateam             0\n",
       "hscore            0\n",
       "ascore            0\n",
       "is_grand_final    0\n",
       "is_final          0\n",
       "home_win          0\n",
       "hdiff             0\n",
       "dtype: int64"
      ]
     },
     "execution_count": 355,
     "metadata": {},
     "output_type": "execute_result"
    }
   ],
   "source": [
    "na_columns(fixture)"
   ]
  },
  {
   "cell_type": "code",
   "execution_count": 356,
   "id": "1d8aabf4-1518-4614-9aa2-2026fcdd0df9",
   "metadata": {
    "tags": []
   },
   "outputs": [
    {
     "data": {
      "text/html": [
       "<div>\n",
       "<style scoped>\n",
       "    .dataframe tbody tr th:only-of-type {\n",
       "        vertical-align: middle;\n",
       "    }\n",
       "\n",
       "    .dataframe tbody tr th {\n",
       "        vertical-align: top;\n",
       "    }\n",
       "\n",
       "    .dataframe thead th {\n",
       "        text-align: right;\n",
       "    }\n",
       "</style>\n",
       "<table border=\"1\" class=\"dataframe\">\n",
       "  <thead>\n",
       "    <tr style=\"text-align: right;\">\n",
       "      <th></th>\n",
       "      <th>year</th>\n",
       "      <th>round</th>\n",
       "      <th>date</th>\n",
       "      <th>time</th>\n",
       "      <th>region</th>\n",
       "      <th>venue</th>\n",
       "      <th>hteam</th>\n",
       "      <th>ateam</th>\n",
       "      <th>hscore</th>\n",
       "      <th>ascore</th>\n",
       "      <th>is_grand_final</th>\n",
       "      <th>is_final</th>\n",
       "      <th>home_win</th>\n",
       "      <th>hdiff</th>\n",
       "    </tr>\n",
       "  </thead>\n",
       "  <tbody>\n",
       "  </tbody>\n",
       "</table>\n",
       "</div>"
      ],
      "text/plain": [
       "Empty DataFrame\n",
       "Columns: [year, round, date, time, region, venue, hteam, ateam, hscore, ascore, is_grand_final, is_final, home_win, hdiff]\n",
       "Index: []"
      ]
     },
     "execution_count": 356,
     "metadata": {},
     "output_type": "execute_result"
    }
   ],
   "source": [
    "fixture[fixture.isna().any(axis=1)]"
   ]
  },
  {
   "cell_type": "markdown",
   "id": "25cb59b9-7f5e-420a-beab-7806e5144166",
   "metadata": {},
   "source": [
    "# Data Prep"
   ]
  },
  {
   "cell_type": "code",
   "execution_count": 309,
   "id": "7500f37a-a129-4515-9ac5-4ba6c3b1743f",
   "metadata": {
    "tags": []
   },
   "outputs": [
    {
     "data": {
      "text/html": [
       "<div>\n",
       "<style scoped>\n",
       "    .dataframe tbody tr th:only-of-type {\n",
       "        vertical-align: middle;\n",
       "    }\n",
       "\n",
       "    .dataframe tbody tr th {\n",
       "        vertical-align: top;\n",
       "    }\n",
       "\n",
       "    .dataframe thead th {\n",
       "        text-align: right;\n",
       "    }\n",
       "</style>\n",
       "<table border=\"1\" class=\"dataframe\">\n",
       "  <thead>\n",
       "    <tr style=\"text-align: right;\">\n",
       "      <th></th>\n",
       "      <th>year</th>\n",
       "      <th>round</th>\n",
       "      <th>date</th>\n",
       "      <th>time</th>\n",
       "      <th>venue</th>\n",
       "      <th>hscore</th>\n",
       "      <th>ascore</th>\n",
       "      <th>is_grand_final</th>\n",
       "      <th>is_final</th>\n",
       "      <th>home_win</th>\n",
       "      <th>hdiff</th>\n",
       "      <th>month</th>\n",
       "      <th>day</th>\n",
       "      <th>time_int</th>\n",
       "      <th>time_group</th>\n",
       "      <th>region_ACT</th>\n",
       "      <th>region_CHN</th>\n",
       "      <th>region_NSW</th>\n",
       "      <th>region_NT</th>\n",
       "      <th>region_QLD</th>\n",
       "      <th>region_SA</th>\n",
       "      <th>region_TAS</th>\n",
       "      <th>region_VIC</th>\n",
       "      <th>region_WA</th>\n",
       "      <th>hteam_Adelaide</th>\n",
       "      <th>hteam_Brisbane Lions</th>\n",
       "      <th>hteam_Carlton</th>\n",
       "      <th>hteam_Collingwood</th>\n",
       "      <th>hteam_Essendon</th>\n",
       "      <th>hteam_Fremantle</th>\n",
       "      <th>hteam_Geelong</th>\n",
       "      <th>hteam_Gold Coast</th>\n",
       "      <th>hteam_Greater Western Sydney</th>\n",
       "      <th>hteam_Hawthorn</th>\n",
       "      <th>hteam_Melbourne</th>\n",
       "      <th>hteam_North Melbourne</th>\n",
       "      <th>hteam_Port Adelaide</th>\n",
       "      <th>hteam_Richmond</th>\n",
       "      <th>hteam_St Kilda</th>\n",
       "      <th>hteam_Sydney</th>\n",
       "      <th>hteam_West Coast</th>\n",
       "      <th>hteam_Western Bulldogs</th>\n",
       "      <th>ateam_Adelaide</th>\n",
       "      <th>ateam_Brisbane Lions</th>\n",
       "      <th>ateam_Carlton</th>\n",
       "      <th>ateam_Collingwood</th>\n",
       "      <th>ateam_Essendon</th>\n",
       "      <th>ateam_Fremantle</th>\n",
       "      <th>ateam_Geelong</th>\n",
       "      <th>ateam_Gold Coast</th>\n",
       "      <th>ateam_Greater Western Sydney</th>\n",
       "      <th>ateam_Hawthorn</th>\n",
       "      <th>ateam_Melbourne</th>\n",
       "      <th>ateam_North Melbourne</th>\n",
       "      <th>ateam_Port Adelaide</th>\n",
       "      <th>ateam_Richmond</th>\n",
       "      <th>ateam_St Kilda</th>\n",
       "      <th>ateam_Sydney</th>\n",
       "      <th>ateam_West Coast</th>\n",
       "      <th>ateam_Western Bulldogs</th>\n",
       "      <th>day_group_Friday</th>\n",
       "      <th>day_group_Saturday</th>\n",
       "      <th>day_group_Sunday</th>\n",
       "      <th>day_group_Weekday</th>\n",
       "      <th>year_encoded</th>\n",
       "    </tr>\n",
       "  </thead>\n",
       "  <tbody>\n",
       "    <tr>\n",
       "      <th>0</th>\n",
       "      <td>2017</td>\n",
       "      <td>1</td>\n",
       "      <td>2017-03-26</td>\n",
       "      <td>14:50:00</td>\n",
       "      <td>Adelaide Oval</td>\n",
       "      <td>147</td>\n",
       "      <td>91</td>\n",
       "      <td>0</td>\n",
       "      <td>0</td>\n",
       "      <td>1</td>\n",
       "      <td>56</td>\n",
       "      <td>3</td>\n",
       "      <td>Sunday</td>\n",
       "      <td>1450</td>\n",
       "      <td>2</td>\n",
       "      <td>0</td>\n",
       "      <td>0</td>\n",
       "      <td>0</td>\n",
       "      <td>0</td>\n",
       "      <td>0</td>\n",
       "      <td>1</td>\n",
       "      <td>0</td>\n",
       "      <td>0</td>\n",
       "      <td>0</td>\n",
       "      <td>1</td>\n",
       "      <td>0</td>\n",
       "      <td>0</td>\n",
       "      <td>0</td>\n",
       "      <td>0</td>\n",
       "      <td>0</td>\n",
       "      <td>0</td>\n",
       "      <td>0</td>\n",
       "      <td>0</td>\n",
       "      <td>0</td>\n",
       "      <td>0</td>\n",
       "      <td>0</td>\n",
       "      <td>0</td>\n",
       "      <td>0</td>\n",
       "      <td>0</td>\n",
       "      <td>0</td>\n",
       "      <td>0</td>\n",
       "      <td>0</td>\n",
       "      <td>0</td>\n",
       "      <td>0</td>\n",
       "      <td>0</td>\n",
       "      <td>0</td>\n",
       "      <td>0</td>\n",
       "      <td>0</td>\n",
       "      <td>0</td>\n",
       "      <td>0</td>\n",
       "      <td>1</td>\n",
       "      <td>0</td>\n",
       "      <td>0</td>\n",
       "      <td>0</td>\n",
       "      <td>0</td>\n",
       "      <td>0</td>\n",
       "      <td>0</td>\n",
       "      <td>0</td>\n",
       "      <td>0</td>\n",
       "      <td>0</td>\n",
       "      <td>0</td>\n",
       "      <td>0</td>\n",
       "      <td>1</td>\n",
       "      <td>0</td>\n",
       "      <td>0.0</td>\n",
       "    </tr>\n",
       "    <tr>\n",
       "      <th>1</th>\n",
       "      <td>2017</td>\n",
       "      <td>1</td>\n",
       "      <td>2017-03-23</td>\n",
       "      <td>19:20:00</td>\n",
       "      <td>M.C.G.</td>\n",
       "      <td>89</td>\n",
       "      <td>132</td>\n",
       "      <td>0</td>\n",
       "      <td>0</td>\n",
       "      <td>0</td>\n",
       "      <td>-43</td>\n",
       "      <td>3</td>\n",
       "      <td>Thursday</td>\n",
       "      <td>1920</td>\n",
       "      <td>7</td>\n",
       "      <td>0</td>\n",
       "      <td>0</td>\n",
       "      <td>0</td>\n",
       "      <td>0</td>\n",
       "      <td>0</td>\n",
       "      <td>0</td>\n",
       "      <td>0</td>\n",
       "      <td>1</td>\n",
       "      <td>0</td>\n",
       "      <td>0</td>\n",
       "      <td>0</td>\n",
       "      <td>1</td>\n",
       "      <td>0</td>\n",
       "      <td>0</td>\n",
       "      <td>0</td>\n",
       "      <td>0</td>\n",
       "      <td>0</td>\n",
       "      <td>0</td>\n",
       "      <td>0</td>\n",
       "      <td>0</td>\n",
       "      <td>0</td>\n",
       "      <td>0</td>\n",
       "      <td>0</td>\n",
       "      <td>0</td>\n",
       "      <td>0</td>\n",
       "      <td>0</td>\n",
       "      <td>0</td>\n",
       "      <td>0</td>\n",
       "      <td>0</td>\n",
       "      <td>0</td>\n",
       "      <td>0</td>\n",
       "      <td>0</td>\n",
       "      <td>0</td>\n",
       "      <td>0</td>\n",
       "      <td>0</td>\n",
       "      <td>0</td>\n",
       "      <td>0</td>\n",
       "      <td>0</td>\n",
       "      <td>0</td>\n",
       "      <td>0</td>\n",
       "      <td>1</td>\n",
       "      <td>0</td>\n",
       "      <td>0</td>\n",
       "      <td>0</td>\n",
       "      <td>0</td>\n",
       "      <td>0</td>\n",
       "      <td>0</td>\n",
       "      <td>0</td>\n",
       "      <td>1</td>\n",
       "      <td>0.0</td>\n",
       "    </tr>\n",
       "    <tr>\n",
       "      <th>2</th>\n",
       "      <td>2017</td>\n",
       "      <td>1</td>\n",
       "      <td>2017-03-24</td>\n",
       "      <td>19:50:00</td>\n",
       "      <td>M.C.G.</td>\n",
       "      <td>86</td>\n",
       "      <td>100</td>\n",
       "      <td>0</td>\n",
       "      <td>0</td>\n",
       "      <td>0</td>\n",
       "      <td>-14</td>\n",
       "      <td>3</td>\n",
       "      <td>Friday</td>\n",
       "      <td>1950</td>\n",
       "      <td>7</td>\n",
       "      <td>0</td>\n",
       "      <td>0</td>\n",
       "      <td>0</td>\n",
       "      <td>0</td>\n",
       "      <td>0</td>\n",
       "      <td>0</td>\n",
       "      <td>0</td>\n",
       "      <td>1</td>\n",
       "      <td>0</td>\n",
       "      <td>0</td>\n",
       "      <td>0</td>\n",
       "      <td>0</td>\n",
       "      <td>1</td>\n",
       "      <td>0</td>\n",
       "      <td>0</td>\n",
       "      <td>0</td>\n",
       "      <td>0</td>\n",
       "      <td>0</td>\n",
       "      <td>0</td>\n",
       "      <td>0</td>\n",
       "      <td>0</td>\n",
       "      <td>0</td>\n",
       "      <td>0</td>\n",
       "      <td>0</td>\n",
       "      <td>0</td>\n",
       "      <td>0</td>\n",
       "      <td>0</td>\n",
       "      <td>0</td>\n",
       "      <td>0</td>\n",
       "      <td>0</td>\n",
       "      <td>0</td>\n",
       "      <td>0</td>\n",
       "      <td>0</td>\n",
       "      <td>0</td>\n",
       "      <td>0</td>\n",
       "      <td>0</td>\n",
       "      <td>0</td>\n",
       "      <td>0</td>\n",
       "      <td>0</td>\n",
       "      <td>0</td>\n",
       "      <td>0</td>\n",
       "      <td>0</td>\n",
       "      <td>0</td>\n",
       "      <td>0</td>\n",
       "      <td>1</td>\n",
       "      <td>1</td>\n",
       "      <td>0</td>\n",
       "      <td>0</td>\n",
       "      <td>0</td>\n",
       "      <td>0.0</td>\n",
       "    </tr>\n",
       "    <tr>\n",
       "      <th>3</th>\n",
       "      <td>2017</td>\n",
       "      <td>1</td>\n",
       "      <td>2017-03-25</td>\n",
       "      <td>19:25:00</td>\n",
       "      <td>M.C.G.</td>\n",
       "      <td>116</td>\n",
       "      <td>91</td>\n",
       "      <td>0</td>\n",
       "      <td>0</td>\n",
       "      <td>1</td>\n",
       "      <td>25</td>\n",
       "      <td>3</td>\n",
       "      <td>Saturday</td>\n",
       "      <td>1925</td>\n",
       "      <td>7</td>\n",
       "      <td>0</td>\n",
       "      <td>0</td>\n",
       "      <td>0</td>\n",
       "      <td>0</td>\n",
       "      <td>0</td>\n",
       "      <td>0</td>\n",
       "      <td>0</td>\n",
       "      <td>1</td>\n",
       "      <td>0</td>\n",
       "      <td>0</td>\n",
       "      <td>0</td>\n",
       "      <td>0</td>\n",
       "      <td>0</td>\n",
       "      <td>1</td>\n",
       "      <td>0</td>\n",
       "      <td>0</td>\n",
       "      <td>0</td>\n",
       "      <td>0</td>\n",
       "      <td>0</td>\n",
       "      <td>0</td>\n",
       "      <td>0</td>\n",
       "      <td>0</td>\n",
       "      <td>0</td>\n",
       "      <td>0</td>\n",
       "      <td>0</td>\n",
       "      <td>0</td>\n",
       "      <td>0</td>\n",
       "      <td>0</td>\n",
       "      <td>0</td>\n",
       "      <td>0</td>\n",
       "      <td>0</td>\n",
       "      <td>0</td>\n",
       "      <td>0</td>\n",
       "      <td>0</td>\n",
       "      <td>0</td>\n",
       "      <td>0</td>\n",
       "      <td>1</td>\n",
       "      <td>0</td>\n",
       "      <td>0</td>\n",
       "      <td>0</td>\n",
       "      <td>0</td>\n",
       "      <td>0</td>\n",
       "      <td>0</td>\n",
       "      <td>0</td>\n",
       "      <td>0</td>\n",
       "      <td>0</td>\n",
       "      <td>1</td>\n",
       "      <td>0</td>\n",
       "      <td>0</td>\n",
       "      <td>0.0</td>\n",
       "    </tr>\n",
       "    <tr>\n",
       "      <th>4</th>\n",
       "      <td>2017</td>\n",
       "      <td>1</td>\n",
       "      <td>2017-03-26</td>\n",
       "      <td>16:40:00</td>\n",
       "      <td>Subiaco</td>\n",
       "      <td>73</td>\n",
       "      <td>115</td>\n",
       "      <td>0</td>\n",
       "      <td>0</td>\n",
       "      <td>0</td>\n",
       "      <td>-42</td>\n",
       "      <td>3</td>\n",
       "      <td>Sunday</td>\n",
       "      <td>1640</td>\n",
       "      <td>4</td>\n",
       "      <td>0</td>\n",
       "      <td>0</td>\n",
       "      <td>0</td>\n",
       "      <td>0</td>\n",
       "      <td>0</td>\n",
       "      <td>0</td>\n",
       "      <td>0</td>\n",
       "      <td>0</td>\n",
       "      <td>1</td>\n",
       "      <td>0</td>\n",
       "      <td>0</td>\n",
       "      <td>0</td>\n",
       "      <td>0</td>\n",
       "      <td>0</td>\n",
       "      <td>1</td>\n",
       "      <td>0</td>\n",
       "      <td>0</td>\n",
       "      <td>0</td>\n",
       "      <td>0</td>\n",
       "      <td>0</td>\n",
       "      <td>0</td>\n",
       "      <td>0</td>\n",
       "      <td>0</td>\n",
       "      <td>0</td>\n",
       "      <td>0</td>\n",
       "      <td>0</td>\n",
       "      <td>0</td>\n",
       "      <td>0</td>\n",
       "      <td>0</td>\n",
       "      <td>0</td>\n",
       "      <td>0</td>\n",
       "      <td>0</td>\n",
       "      <td>0</td>\n",
       "      <td>1</td>\n",
       "      <td>0</td>\n",
       "      <td>0</td>\n",
       "      <td>0</td>\n",
       "      <td>0</td>\n",
       "      <td>0</td>\n",
       "      <td>0</td>\n",
       "      <td>0</td>\n",
       "      <td>0</td>\n",
       "      <td>0</td>\n",
       "      <td>0</td>\n",
       "      <td>0</td>\n",
       "      <td>0</td>\n",
       "      <td>0</td>\n",
       "      <td>1</td>\n",
       "      <td>0</td>\n",
       "      <td>0.0</td>\n",
       "    </tr>\n",
       "  </tbody>\n",
       "</table>\n",
       "</div>"
      ],
      "text/plain": [
       "   year  round       date      time          venue  hscore  ascore  \\\n",
       "0  2017      1 2017-03-26  14:50:00  Adelaide Oval     147      91   \n",
       "1  2017      1 2017-03-23  19:20:00         M.C.G.      89     132   \n",
       "2  2017      1 2017-03-24  19:50:00         M.C.G.      86     100   \n",
       "3  2017      1 2017-03-25  19:25:00         M.C.G.     116      91   \n",
       "4  2017      1 2017-03-26  16:40:00        Subiaco      73     115   \n",
       "\n",
       "   is_grand_final  is_final  home_win  hdiff  month       day  time_int  \\\n",
       "0               0         0         1     56      3    Sunday      1450   \n",
       "1               0         0         0    -43      3  Thursday      1920   \n",
       "2               0         0         0    -14      3    Friday      1950   \n",
       "3               0         0         1     25      3  Saturday      1925   \n",
       "4               0         0         0    -42      3    Sunday      1640   \n",
       "\n",
       "   time_group  region_ACT  region_CHN  region_NSW  region_NT  region_QLD  \\\n",
       "0           2           0           0           0          0           0   \n",
       "1           7           0           0           0          0           0   \n",
       "2           7           0           0           0          0           0   \n",
       "3           7           0           0           0          0           0   \n",
       "4           4           0           0           0          0           0   \n",
       "\n",
       "   region_SA  region_TAS  region_VIC  region_WA  hteam_Adelaide  \\\n",
       "0          1           0           0          0               1   \n",
       "1          0           0           1          0               0   \n",
       "2          0           0           1          0               0   \n",
       "3          0           0           1          0               0   \n",
       "4          0           0           0          1               0   \n",
       "\n",
       "   hteam_Brisbane Lions  hteam_Carlton  hteam_Collingwood  hteam_Essendon  \\\n",
       "0                     0              0                  0               0   \n",
       "1                     0              1                  0               0   \n",
       "2                     0              0                  1               0   \n",
       "3                     0              0                  0               1   \n",
       "4                     0              0                  0               0   \n",
       "\n",
       "   hteam_Fremantle  hteam_Geelong  hteam_Gold Coast  \\\n",
       "0                0              0                 0   \n",
       "1                0              0                 0   \n",
       "2                0              0                 0   \n",
       "3                0              0                 0   \n",
       "4                1              0                 0   \n",
       "\n",
       "   hteam_Greater Western Sydney  hteam_Hawthorn  hteam_Melbourne  \\\n",
       "0                             0               0                0   \n",
       "1                             0               0                0   \n",
       "2                             0               0                0   \n",
       "3                             0               0                0   \n",
       "4                             0               0                0   \n",
       "\n",
       "   hteam_North Melbourne  hteam_Port Adelaide  hteam_Richmond  hteam_St Kilda  \\\n",
       "0                      0                    0               0               0   \n",
       "1                      0                    0               0               0   \n",
       "2                      0                    0               0               0   \n",
       "3                      0                    0               0               0   \n",
       "4                      0                    0               0               0   \n",
       "\n",
       "   hteam_Sydney  hteam_West Coast  hteam_Western Bulldogs  ateam_Adelaide  \\\n",
       "0             0                 0                       0               0   \n",
       "1             0                 0                       0               0   \n",
       "2             0                 0                       0               0   \n",
       "3             0                 0                       0               0   \n",
       "4             0                 0                       0               0   \n",
       "\n",
       "   ateam_Brisbane Lions  ateam_Carlton  ateam_Collingwood  ateam_Essendon  \\\n",
       "0                     0              0                  0               0   \n",
       "1                     0              0                  0               0   \n",
       "2                     0              0                  0               0   \n",
       "3                     0              0                  0               0   \n",
       "4                     0              0                  0               0   \n",
       "\n",
       "   ateam_Fremantle  ateam_Geelong  ateam_Gold Coast  \\\n",
       "0                0              0                 0   \n",
       "1                0              0                 0   \n",
       "2                0              0                 0   \n",
       "3                0              0                 0   \n",
       "4                0              1                 0   \n",
       "\n",
       "   ateam_Greater Western Sydney  ateam_Hawthorn  ateam_Melbourne  \\\n",
       "0                             1               0                0   \n",
       "1                             0               0                0   \n",
       "2                             0               0                0   \n",
       "3                             0               1                0   \n",
       "4                             0               0                0   \n",
       "\n",
       "   ateam_North Melbourne  ateam_Port Adelaide  ateam_Richmond  ateam_St Kilda  \\\n",
       "0                      0                    0               0               0   \n",
       "1                      0                    0               1               0   \n",
       "2                      0                    0               0               0   \n",
       "3                      0                    0               0               0   \n",
       "4                      0                    0               0               0   \n",
       "\n",
       "   ateam_Sydney  ateam_West Coast  ateam_Western Bulldogs  day_group_Friday  \\\n",
       "0             0                 0                       0                 0   \n",
       "1             0                 0                       0                 0   \n",
       "2             0                 0                       1                 1   \n",
       "3             0                 0                       0                 0   \n",
       "4             0                 0                       0                 0   \n",
       "\n",
       "   day_group_Saturday  day_group_Sunday  day_group_Weekday  year_encoded  \n",
       "0                   0                 1                  0           0.0  \n",
       "1                   0                 0                  1           0.0  \n",
       "2                   0                 0                  0           0.0  \n",
       "3                   1                 0                  0           0.0  \n",
       "4                   0                 1                  0           0.0  "
      ]
     },
     "execution_count": 309,
     "metadata": {},
     "output_type": "execute_result"
    }
   ],
   "source": [
    "# convert to datetime dtype and extract month and day\n",
    "fixture['date'] = pd.to_datetime(fixture['date'])\n",
    "fixture['month'] = fixture['date'].dt.month\n",
    "fixture['day'] = fixture['date'].dt.day_name()\n",
    "\n",
    "# convert day into group so that monday, tues, wed, and thurs are all counted as a weekday game.\n",
    "fixture['day_group'] = fixture['day'].apply(lambda x:'Weekday' if x in ['Monday', 'Tuesday', 'Wednesday', 'Thursday'] else x)\n",
    "\n",
    "# Removing colons and converting time to integer\n",
    "fixture['time_int'] = fixture['time'].str.replace(':', '').astype(int) / 100\n",
    "fixture['time_int'] = fixture['time_int'].astype(int)\n",
    "\n",
    "# create a time group column to show the time floor div\n",
    "fixture['time_group'] = (fixture['time_int'] - 1200) // 100\n",
    "\n",
    "# convert dataframe to one-hot vector\n",
    "fixture_oh = pd.get_dummies(fixture, columns=['region', 'hteam', 'ateam', 'day_group'], dtype='int')\n",
    "\n",
    "# ordinal encode the year\n",
    "encoder = OrdinalEncoder()\n",
    "fixture_oh['year_encoded'] = encoder.fit_transform(fixture_oh[['year']])\n",
    "\n",
    "fixture_oh.head()"
   ]
  },
  {
   "cell_type": "code",
   "execution_count": 140,
   "id": "8cb11c16-f726-4834-a8e8-2f65f28b1b2e",
   "metadata": {
    "tags": []
   },
   "outputs": [
    {
     "data": {
      "text/plain": [
       "array(['Sunday', 'Weekday', 'Friday', 'Saturday'], dtype=object)"
      ]
     },
     "execution_count": 140,
     "metadata": {},
     "output_type": "execute_result"
    }
   ],
   "source": [
    "fixture['day_group'].unique()"
   ]
  },
  {
   "cell_type": "markdown",
   "id": "4d91fa77-f068-4308-a0dc-800711d7bfbe",
   "metadata": {},
   "source": [
    "# Regression Modelling"
   ]
  },
  {
   "cell_type": "code",
   "execution_count": 310,
   "id": "ddc08c84-36fa-4fff-a19b-0ac4f34d4f82",
   "metadata": {
    "tags": []
   },
   "outputs": [],
   "source": [
    "# Define your features and target variable\n",
    "X = fixture_oh.drop(['home_win', 'ascore', 'hscore', 'hdiff', 'date', 'time', 'venue', 'time_int', 'year', 'day'], axis=1)\n",
    "y = fixture_oh['hdiff']\n",
    "\n",
    "# Split the data\n",
    "X_train, X_test, y_train, y_test = train_test_split(X, y, test_size=0.1, shuffle=True, random_state=42)\n",
    "# X_train, X_val, y_train, y_val = train_test_split(X_train, y_train, test_size=0.1, shuffle=True, random_state=42)"
   ]
  },
  {
   "cell_type": "code",
   "execution_count": 311,
   "id": "032e02b4-face-4847-99a7-1f6ddaedb7d0",
   "metadata": {
    "tags": []
   },
   "outputs": [
    {
     "data": {
      "text/html": [
       "<div>\n",
       "<style scoped>\n",
       "    .dataframe tbody tr th:only-of-type {\n",
       "        vertical-align: middle;\n",
       "    }\n",
       "\n",
       "    .dataframe tbody tr th {\n",
       "        vertical-align: top;\n",
       "    }\n",
       "\n",
       "    .dataframe thead th {\n",
       "        text-align: right;\n",
       "    }\n",
       "</style>\n",
       "<table border=\"1\" class=\"dataframe\">\n",
       "  <thead>\n",
       "    <tr style=\"text-align: right;\">\n",
       "      <th></th>\n",
       "      <th>round</th>\n",
       "      <th>is_grand_final</th>\n",
       "      <th>is_final</th>\n",
       "      <th>month</th>\n",
       "      <th>time_group</th>\n",
       "      <th>region_ACT</th>\n",
       "      <th>region_CHN</th>\n",
       "      <th>region_NSW</th>\n",
       "      <th>region_NT</th>\n",
       "      <th>region_QLD</th>\n",
       "      <th>region_SA</th>\n",
       "      <th>region_TAS</th>\n",
       "      <th>region_VIC</th>\n",
       "      <th>region_WA</th>\n",
       "      <th>hteam_Adelaide</th>\n",
       "      <th>hteam_Brisbane Lions</th>\n",
       "      <th>hteam_Carlton</th>\n",
       "      <th>hteam_Collingwood</th>\n",
       "      <th>hteam_Essendon</th>\n",
       "      <th>hteam_Fremantle</th>\n",
       "      <th>hteam_Geelong</th>\n",
       "      <th>hteam_Gold Coast</th>\n",
       "      <th>hteam_Greater Western Sydney</th>\n",
       "      <th>hteam_Hawthorn</th>\n",
       "      <th>hteam_Melbourne</th>\n",
       "      <th>hteam_North Melbourne</th>\n",
       "      <th>hteam_Port Adelaide</th>\n",
       "      <th>hteam_Richmond</th>\n",
       "      <th>hteam_St Kilda</th>\n",
       "      <th>hteam_Sydney</th>\n",
       "      <th>hteam_West Coast</th>\n",
       "      <th>hteam_Western Bulldogs</th>\n",
       "      <th>ateam_Adelaide</th>\n",
       "      <th>ateam_Brisbane Lions</th>\n",
       "      <th>ateam_Carlton</th>\n",
       "      <th>ateam_Collingwood</th>\n",
       "      <th>ateam_Essendon</th>\n",
       "      <th>ateam_Fremantle</th>\n",
       "      <th>ateam_Geelong</th>\n",
       "      <th>ateam_Gold Coast</th>\n",
       "      <th>ateam_Greater Western Sydney</th>\n",
       "      <th>ateam_Hawthorn</th>\n",
       "      <th>ateam_Melbourne</th>\n",
       "      <th>ateam_North Melbourne</th>\n",
       "      <th>ateam_Port Adelaide</th>\n",
       "      <th>ateam_Richmond</th>\n",
       "      <th>ateam_St Kilda</th>\n",
       "      <th>ateam_Sydney</th>\n",
       "      <th>ateam_West Coast</th>\n",
       "      <th>ateam_Western Bulldogs</th>\n",
       "      <th>day_group_Friday</th>\n",
       "      <th>day_group_Saturday</th>\n",
       "      <th>day_group_Sunday</th>\n",
       "      <th>day_group_Weekday</th>\n",
       "      <th>year_encoded</th>\n",
       "    </tr>\n",
       "  </thead>\n",
       "  <tbody>\n",
       "    <tr>\n",
       "      <th>354</th>\n",
       "      <td>18</td>\n",
       "      <td>0</td>\n",
       "      <td>0</td>\n",
       "      <td>7</td>\n",
       "      <td>4</td>\n",
       "      <td>0</td>\n",
       "      <td>0</td>\n",
       "      <td>0</td>\n",
       "      <td>0</td>\n",
       "      <td>0</td>\n",
       "      <td>0</td>\n",
       "      <td>0</td>\n",
       "      <td>1</td>\n",
       "      <td>0</td>\n",
       "      <td>0</td>\n",
       "      <td>0</td>\n",
       "      <td>0</td>\n",
       "      <td>0</td>\n",
       "      <td>1</td>\n",
       "      <td>0</td>\n",
       "      <td>0</td>\n",
       "      <td>0</td>\n",
       "      <td>0</td>\n",
       "      <td>0</td>\n",
       "      <td>0</td>\n",
       "      <td>0</td>\n",
       "      <td>0</td>\n",
       "      <td>0</td>\n",
       "      <td>0</td>\n",
       "      <td>0</td>\n",
       "      <td>0</td>\n",
       "      <td>0</td>\n",
       "      <td>0</td>\n",
       "      <td>0</td>\n",
       "      <td>0</td>\n",
       "      <td>0</td>\n",
       "      <td>0</td>\n",
       "      <td>1</td>\n",
       "      <td>0</td>\n",
       "      <td>0</td>\n",
       "      <td>0</td>\n",
       "      <td>0</td>\n",
       "      <td>0</td>\n",
       "      <td>0</td>\n",
       "      <td>0</td>\n",
       "      <td>0</td>\n",
       "      <td>0</td>\n",
       "      <td>0</td>\n",
       "      <td>0</td>\n",
       "      <td>0</td>\n",
       "      <td>0</td>\n",
       "      <td>1</td>\n",
       "      <td>0</td>\n",
       "      <td>0</td>\n",
       "      <td>1.0</td>\n",
       "    </tr>\n",
       "    <tr>\n",
       "      <th>30</th>\n",
       "      <td>4</td>\n",
       "      <td>0</td>\n",
       "      <td>0</td>\n",
       "      <td>4</td>\n",
       "      <td>3</td>\n",
       "      <td>0</td>\n",
       "      <td>0</td>\n",
       "      <td>0</td>\n",
       "      <td>0</td>\n",
       "      <td>0</td>\n",
       "      <td>0</td>\n",
       "      <td>0</td>\n",
       "      <td>1</td>\n",
       "      <td>0</td>\n",
       "      <td>0</td>\n",
       "      <td>0</td>\n",
       "      <td>0</td>\n",
       "      <td>1</td>\n",
       "      <td>0</td>\n",
       "      <td>0</td>\n",
       "      <td>0</td>\n",
       "      <td>0</td>\n",
       "      <td>0</td>\n",
       "      <td>0</td>\n",
       "      <td>0</td>\n",
       "      <td>0</td>\n",
       "      <td>0</td>\n",
       "      <td>0</td>\n",
       "      <td>0</td>\n",
       "      <td>0</td>\n",
       "      <td>0</td>\n",
       "      <td>0</td>\n",
       "      <td>0</td>\n",
       "      <td>0</td>\n",
       "      <td>0</td>\n",
       "      <td>0</td>\n",
       "      <td>0</td>\n",
       "      <td>0</td>\n",
       "      <td>0</td>\n",
       "      <td>0</td>\n",
       "      <td>0</td>\n",
       "      <td>0</td>\n",
       "      <td>0</td>\n",
       "      <td>0</td>\n",
       "      <td>0</td>\n",
       "      <td>0</td>\n",
       "      <td>1</td>\n",
       "      <td>0</td>\n",
       "      <td>0</td>\n",
       "      <td>0</td>\n",
       "      <td>0</td>\n",
       "      <td>0</td>\n",
       "      <td>1</td>\n",
       "      <td>0</td>\n",
       "      <td>0.0</td>\n",
       "    </tr>\n",
       "    <tr>\n",
       "      <th>247</th>\n",
       "      <td>5</td>\n",
       "      <td>0</td>\n",
       "      <td>0</td>\n",
       "      <td>4</td>\n",
       "      <td>7</td>\n",
       "      <td>0</td>\n",
       "      <td>0</td>\n",
       "      <td>0</td>\n",
       "      <td>0</td>\n",
       "      <td>0</td>\n",
       "      <td>0</td>\n",
       "      <td>0</td>\n",
       "      <td>1</td>\n",
       "      <td>0</td>\n",
       "      <td>0</td>\n",
       "      <td>0</td>\n",
       "      <td>0</td>\n",
       "      <td>0</td>\n",
       "      <td>0</td>\n",
       "      <td>0</td>\n",
       "      <td>0</td>\n",
       "      <td>0</td>\n",
       "      <td>0</td>\n",
       "      <td>0</td>\n",
       "      <td>1</td>\n",
       "      <td>0</td>\n",
       "      <td>0</td>\n",
       "      <td>0</td>\n",
       "      <td>0</td>\n",
       "      <td>0</td>\n",
       "      <td>0</td>\n",
       "      <td>0</td>\n",
       "      <td>0</td>\n",
       "      <td>0</td>\n",
       "      <td>0</td>\n",
       "      <td>0</td>\n",
       "      <td>0</td>\n",
       "      <td>0</td>\n",
       "      <td>0</td>\n",
       "      <td>0</td>\n",
       "      <td>0</td>\n",
       "      <td>0</td>\n",
       "      <td>0</td>\n",
       "      <td>0</td>\n",
       "      <td>0</td>\n",
       "      <td>1</td>\n",
       "      <td>0</td>\n",
       "      <td>0</td>\n",
       "      <td>0</td>\n",
       "      <td>0</td>\n",
       "      <td>0</td>\n",
       "      <td>0</td>\n",
       "      <td>0</td>\n",
       "      <td>1</td>\n",
       "      <td>1.0</td>\n",
       "    </tr>\n",
       "    <tr>\n",
       "      <th>1144</th>\n",
       "      <td>19</td>\n",
       "      <td>0</td>\n",
       "      <td>0</td>\n",
       "      <td>7</td>\n",
       "      <td>1</td>\n",
       "      <td>0</td>\n",
       "      <td>0</td>\n",
       "      <td>0</td>\n",
       "      <td>0</td>\n",
       "      <td>0</td>\n",
       "      <td>0</td>\n",
       "      <td>0</td>\n",
       "      <td>1</td>\n",
       "      <td>0</td>\n",
       "      <td>0</td>\n",
       "      <td>0</td>\n",
       "      <td>1</td>\n",
       "      <td>0</td>\n",
       "      <td>0</td>\n",
       "      <td>0</td>\n",
       "      <td>0</td>\n",
       "      <td>0</td>\n",
       "      <td>0</td>\n",
       "      <td>0</td>\n",
       "      <td>0</td>\n",
       "      <td>0</td>\n",
       "      <td>0</td>\n",
       "      <td>0</td>\n",
       "      <td>0</td>\n",
       "      <td>0</td>\n",
       "      <td>0</td>\n",
       "      <td>0</td>\n",
       "      <td>0</td>\n",
       "      <td>0</td>\n",
       "      <td>0</td>\n",
       "      <td>0</td>\n",
       "      <td>0</td>\n",
       "      <td>0</td>\n",
       "      <td>0</td>\n",
       "      <td>0</td>\n",
       "      <td>1</td>\n",
       "      <td>0</td>\n",
       "      <td>0</td>\n",
       "      <td>0</td>\n",
       "      <td>0</td>\n",
       "      <td>0</td>\n",
       "      <td>0</td>\n",
       "      <td>0</td>\n",
       "      <td>0</td>\n",
       "      <td>0</td>\n",
       "      <td>0</td>\n",
       "      <td>0</td>\n",
       "      <td>1</td>\n",
       "      <td>0</td>\n",
       "      <td>5.0</td>\n",
       "    </tr>\n",
       "    <tr>\n",
       "      <th>439</th>\n",
       "      <td>3</td>\n",
       "      <td>0</td>\n",
       "      <td>0</td>\n",
       "      <td>4</td>\n",
       "      <td>7</td>\n",
       "      <td>0</td>\n",
       "      <td>0</td>\n",
       "      <td>0</td>\n",
       "      <td>0</td>\n",
       "      <td>0</td>\n",
       "      <td>0</td>\n",
       "      <td>0</td>\n",
       "      <td>1</td>\n",
       "      <td>0</td>\n",
       "      <td>0</td>\n",
       "      <td>0</td>\n",
       "      <td>0</td>\n",
       "      <td>0</td>\n",
       "      <td>0</td>\n",
       "      <td>0</td>\n",
       "      <td>0</td>\n",
       "      <td>0</td>\n",
       "      <td>0</td>\n",
       "      <td>0</td>\n",
       "      <td>1</td>\n",
       "      <td>0</td>\n",
       "      <td>0</td>\n",
       "      <td>0</td>\n",
       "      <td>0</td>\n",
       "      <td>0</td>\n",
       "      <td>0</td>\n",
       "      <td>0</td>\n",
       "      <td>0</td>\n",
       "      <td>0</td>\n",
       "      <td>0</td>\n",
       "      <td>0</td>\n",
       "      <td>1</td>\n",
       "      <td>0</td>\n",
       "      <td>0</td>\n",
       "      <td>0</td>\n",
       "      <td>0</td>\n",
       "      <td>0</td>\n",
       "      <td>0</td>\n",
       "      <td>0</td>\n",
       "      <td>0</td>\n",
       "      <td>0</td>\n",
       "      <td>0</td>\n",
       "      <td>0</td>\n",
       "      <td>0</td>\n",
       "      <td>0</td>\n",
       "      <td>1</td>\n",
       "      <td>0</td>\n",
       "      <td>0</td>\n",
       "      <td>0</td>\n",
       "      <td>2.0</td>\n",
       "    </tr>\n",
       "  </tbody>\n",
       "</table>\n",
       "</div>"
      ],
      "text/plain": [
       "      round  is_grand_final  is_final  month  time_group  region_ACT  \\\n",
       "354      18               0         0      7           4           0   \n",
       "30        4               0         0      4           3           0   \n",
       "247       5               0         0      4           7           0   \n",
       "1144     19               0         0      7           1           0   \n",
       "439       3               0         0      4           7           0   \n",
       "\n",
       "      region_CHN  region_NSW  region_NT  region_QLD  region_SA  region_TAS  \\\n",
       "354            0           0          0           0          0           0   \n",
       "30             0           0          0           0          0           0   \n",
       "247            0           0          0           0          0           0   \n",
       "1144           0           0          0           0          0           0   \n",
       "439            0           0          0           0          0           0   \n",
       "\n",
       "      region_VIC  region_WA  hteam_Adelaide  hteam_Brisbane Lions  \\\n",
       "354            1          0               0                     0   \n",
       "30             1          0               0                     0   \n",
       "247            1          0               0                     0   \n",
       "1144           1          0               0                     0   \n",
       "439            1          0               0                     0   \n",
       "\n",
       "      hteam_Carlton  hteam_Collingwood  hteam_Essendon  hteam_Fremantle  \\\n",
       "354               0                  0               1                0   \n",
       "30                0                  1               0                0   \n",
       "247               0                  0               0                0   \n",
       "1144              1                  0               0                0   \n",
       "439               0                  0               0                0   \n",
       "\n",
       "      hteam_Geelong  hteam_Gold Coast  hteam_Greater Western Sydney  \\\n",
       "354               0                 0                             0   \n",
       "30                0                 0                             0   \n",
       "247               0                 0                             0   \n",
       "1144              0                 0                             0   \n",
       "439               0                 0                             0   \n",
       "\n",
       "      hteam_Hawthorn  hteam_Melbourne  hteam_North Melbourne  \\\n",
       "354                0                0                      0   \n",
       "30                 0                0                      0   \n",
       "247                0                1                      0   \n",
       "1144               0                0                      0   \n",
       "439                0                1                      0   \n",
       "\n",
       "      hteam_Port Adelaide  hteam_Richmond  hteam_St Kilda  hteam_Sydney  \\\n",
       "354                     0               0               0             0   \n",
       "30                      0               0               0             0   \n",
       "247                     0               0               0             0   \n",
       "1144                    0               0               0             0   \n",
       "439                     0               0               0             0   \n",
       "\n",
       "      hteam_West Coast  hteam_Western Bulldogs  ateam_Adelaide  \\\n",
       "354                  0                       0               0   \n",
       "30                   0                       0               0   \n",
       "247                  0                       0               0   \n",
       "1144                 0                       0               0   \n",
       "439                  0                       0               0   \n",
       "\n",
       "      ateam_Brisbane Lions  ateam_Carlton  ateam_Collingwood  ateam_Essendon  \\\n",
       "354                      0              0                  0               0   \n",
       "30                       0              0                  0               0   \n",
       "247                      0              0                  0               0   \n",
       "1144                     0              0                  0               0   \n",
       "439                      0              0                  0               1   \n",
       "\n",
       "      ateam_Fremantle  ateam_Geelong  ateam_Gold Coast  \\\n",
       "354                 1              0                 0   \n",
       "30                  0              0                 0   \n",
       "247                 0              0                 0   \n",
       "1144                0              0                 0   \n",
       "439                 0              0                 0   \n",
       "\n",
       "      ateam_Greater Western Sydney  ateam_Hawthorn  ateam_Melbourne  \\\n",
       "354                              0               0                0   \n",
       "30                               0               0                0   \n",
       "247                              0               0                0   \n",
       "1144                             1               0                0   \n",
       "439                              0               0                0   \n",
       "\n",
       "      ateam_North Melbourne  ateam_Port Adelaide  ateam_Richmond  \\\n",
       "354                       0                    0               0   \n",
       "30                        0                    0               0   \n",
       "247                       0                    0               1   \n",
       "1144                      0                    0               0   \n",
       "439                       0                    0               0   \n",
       "\n",
       "      ateam_St Kilda  ateam_Sydney  ateam_West Coast  ateam_Western Bulldogs  \\\n",
       "354                0             0                 0                       0   \n",
       "30                 1             0                 0                       0   \n",
       "247                0             0                 0                       0   \n",
       "1144               0             0                 0                       0   \n",
       "439                0             0                 0                       0   \n",
       "\n",
       "      day_group_Friday  day_group_Saturday  day_group_Sunday  \\\n",
       "354                  0                   1                 0   \n",
       "30                   0                   0                 1   \n",
       "247                  0                   0                 0   \n",
       "1144                 0                   0                 1   \n",
       "439                  1                   0                 0   \n",
       "\n",
       "      day_group_Weekday  year_encoded  \n",
       "354                   0           1.0  \n",
       "30                    0           0.0  \n",
       "247                   1           1.0  \n",
       "1144                  0           5.0  \n",
       "439                   0           2.0  "
      ]
     },
     "execution_count": 311,
     "metadata": {},
     "output_type": "execute_result"
    }
   ],
   "source": [
    "X_train.head()"
   ]
  },
  {
   "cell_type": "code",
   "execution_count": 312,
   "id": "3e76837f-1a76-49b0-8208-f93e24bb4636",
   "metadata": {
    "tags": []
   },
   "outputs": [
    {
     "data": {
      "text/html": [
       "<style>#sk-container-id-22 {color: black;}#sk-container-id-22 pre{padding: 0;}#sk-container-id-22 div.sk-toggleable {background-color: white;}#sk-container-id-22 label.sk-toggleable__label {cursor: pointer;display: block;width: 100%;margin-bottom: 0;padding: 0.3em;box-sizing: border-box;text-align: center;}#sk-container-id-22 label.sk-toggleable__label-arrow:before {content: \"▸\";float: left;margin-right: 0.25em;color: #696969;}#sk-container-id-22 label.sk-toggleable__label-arrow:hover:before {color: black;}#sk-container-id-22 div.sk-estimator:hover label.sk-toggleable__label-arrow:before {color: black;}#sk-container-id-22 div.sk-toggleable__content {max-height: 0;max-width: 0;overflow: hidden;text-align: left;background-color: #f0f8ff;}#sk-container-id-22 div.sk-toggleable__content pre {margin: 0.2em;color: black;border-radius: 0.25em;background-color: #f0f8ff;}#sk-container-id-22 input.sk-toggleable__control:checked~div.sk-toggleable__content {max-height: 200px;max-width: 100%;overflow: auto;}#sk-container-id-22 input.sk-toggleable__control:checked~label.sk-toggleable__label-arrow:before {content: \"▾\";}#sk-container-id-22 div.sk-estimator input.sk-toggleable__control:checked~label.sk-toggleable__label {background-color: #d4ebff;}#sk-container-id-22 div.sk-label input.sk-toggleable__control:checked~label.sk-toggleable__label {background-color: #d4ebff;}#sk-container-id-22 input.sk-hidden--visually {border: 0;clip: rect(1px 1px 1px 1px);clip: rect(1px, 1px, 1px, 1px);height: 1px;margin: -1px;overflow: hidden;padding: 0;position: absolute;width: 1px;}#sk-container-id-22 div.sk-estimator {font-family: monospace;background-color: #f0f8ff;border: 1px dotted black;border-radius: 0.25em;box-sizing: border-box;margin-bottom: 0.5em;}#sk-container-id-22 div.sk-estimator:hover {background-color: #d4ebff;}#sk-container-id-22 div.sk-parallel-item::after {content: \"\";width: 100%;border-bottom: 1px solid gray;flex-grow: 1;}#sk-container-id-22 div.sk-label:hover label.sk-toggleable__label {background-color: #d4ebff;}#sk-container-id-22 div.sk-serial::before {content: \"\";position: absolute;border-left: 1px solid gray;box-sizing: border-box;top: 0;bottom: 0;left: 50%;z-index: 0;}#sk-container-id-22 div.sk-serial {display: flex;flex-direction: column;align-items: center;background-color: white;padding-right: 0.2em;padding-left: 0.2em;position: relative;}#sk-container-id-22 div.sk-item {position: relative;z-index: 1;}#sk-container-id-22 div.sk-parallel {display: flex;align-items: stretch;justify-content: center;background-color: white;position: relative;}#sk-container-id-22 div.sk-item::before, #sk-container-id-22 div.sk-parallel-item::before {content: \"\";position: absolute;border-left: 1px solid gray;box-sizing: border-box;top: 0;bottom: 0;left: 50%;z-index: -1;}#sk-container-id-22 div.sk-parallel-item {display: flex;flex-direction: column;z-index: 1;position: relative;background-color: white;}#sk-container-id-22 div.sk-parallel-item:first-child::after {align-self: flex-end;width: 50%;}#sk-container-id-22 div.sk-parallel-item:last-child::after {align-self: flex-start;width: 50%;}#sk-container-id-22 div.sk-parallel-item:only-child::after {width: 0;}#sk-container-id-22 div.sk-dashed-wrapped {border: 1px dashed gray;margin: 0 0.4em 0.5em 0.4em;box-sizing: border-box;padding-bottom: 0.4em;background-color: white;}#sk-container-id-22 div.sk-label label {font-family: monospace;font-weight: bold;display: inline-block;line-height: 1.2em;}#sk-container-id-22 div.sk-label-container {text-align: center;}#sk-container-id-22 div.sk-container {/* jupyter's `normalize.less` sets `[hidden] { display: none; }` but bootstrap.min.css set `[hidden] { display: none !important; }` so we also need the `!important` here to be able to override the default hidden behavior on the sphinx rendered scikit-learn.org. See: https://github.com/scikit-learn/scikit-learn/issues/21755 */display: inline-block !important;position: relative;}#sk-container-id-22 div.sk-text-repr-fallback {display: none;}</style><div id=\"sk-container-id-22\" class=\"sk-top-container\"><div class=\"sk-text-repr-fallback\"><pre>LinearRegression()</pre><b>In a Jupyter environment, please rerun this cell to show the HTML representation or trust the notebook. <br />On GitHub, the HTML representation is unable to render, please try loading this page with nbviewer.org.</b></div><div class=\"sk-container\" hidden><div class=\"sk-item\"><div class=\"sk-estimator sk-toggleable\"><input class=\"sk-toggleable__control sk-hidden--visually\" id=\"sk-estimator-id-26\" type=\"checkbox\" checked><label for=\"sk-estimator-id-26\" class=\"sk-toggleable__label sk-toggleable__label-arrow\">LinearRegression</label><div class=\"sk-toggleable__content\"><pre>LinearRegression()</pre></div></div></div></div></div>"
      ],
      "text/plain": [
       "LinearRegression()"
      ]
     },
     "execution_count": 312,
     "metadata": {},
     "output_type": "execute_result"
    }
   ],
   "source": [
    "# Create and fit the model\n",
    "model = LinearRegression()\n",
    "model.fit(X_train, y_train)"
   ]
  },
  {
   "cell_type": "code",
   "execution_count": 313,
   "id": "d25e8281-a1f7-4367-9dc5-4ae3781d8ab2",
   "metadata": {
    "tags": []
   },
   "outputs": [
    {
     "name": "stdout",
     "output_type": "stream",
     "text": [
      "Mean Squared Error (MSE): 1349.4641698103555\n",
      "Root Mean Squared Error (RMSE): 36.73505369276538\n",
      "Mean Absolute Error (MAE): 29.443235585387324\n",
      "R-squared: 0.24560242359941298\n"
     ]
    }
   ],
   "source": [
    "# Make predictions on the test data\n",
    "y_pred = model.predict(X_test)\n",
    "\n",
    "# Evaluate the model\n",
    "mse = mean_squared_error(y_test, y_pred)\n",
    "rmse = sqrt(mse)\n",
    "mae = mean_absolute_error(y_test, y_pred)\n",
    "r2 = r2_score(y_test, y_pred)\n",
    "\n",
    "# Print the evaluation metrics\n",
    "print(\"Mean Squared Error (MSE):\", mse)\n",
    "print(\"Root Mean Squared Error (RMSE):\", rmse)\n",
    "print(\"Mean Absolute Error (MAE):\", mae)\n",
    "print(\"R-squared:\", r2)"
   ]
  },
  {
   "cell_type": "markdown",
   "id": "59019eb0-cb80-4b85-9635-604a13997757",
   "metadata": {},
   "source": [
    "### KNN Regressor"
   ]
  },
  {
   "cell_type": "markdown",
   "id": "a015e27f-7959-49cb-9c0a-61169533b9ae",
   "metadata": {},
   "source": [
    "Use the validation error. "
   ]
  },
  {
   "cell_type": "code",
   "execution_count": 314,
   "id": "3eddc9c9-0ad9-42e4-8630-2d2162f018c1",
   "metadata": {
    "tags": []
   },
   "outputs": [
    {
     "name": "stdout",
     "output_type": "stream",
     "text": [
      "RMSE value for k=  1 is: 46.16695055928713\n",
      "RMSE value for k=  2 is: 44.34618931816187\n",
      "RMSE value for k=  3 is: 42.770770517277654\n",
      "RMSE value for k=  4 is: 42.62289604902081\n",
      "RMSE value for k=  5 is: 41.83177914551177\n",
      "RMSE value for k=  6 is: 40.77245869586989\n",
      "RMSE value for k=  7 is: 41.414253752929596\n",
      "RMSE value for k=  8 is: 40.88475461845488\n",
      "RMSE value for k=  9 is: 41.038731064696094\n",
      "RMSE value for k=  10 is: 41.07605193118639\n",
      "RMSE value for k=  11 is: 40.8925026831997\n",
      "RMSE value for k=  12 is: 41.264533646815906\n",
      "RMSE value for k=  13 is: 41.060377752992416\n",
      "RMSE value for k=  14 is: 41.52453976854367\n",
      "RMSE value for k=  15 is: 41.62264641797396\n",
      "RMSE value for k=  16 is: 41.631569541952274\n",
      "RMSE value for k=  17 is: 41.89366155056118\n",
      "RMSE value for k=  18 is: 41.72481128229593\n",
      "RMSE value for k=  19 is: 41.967533029318865\n",
      "RMSE value for k=  20 is: 41.70934218316219\n",
      "RMSE value for k=  21 is: 41.940044441752576\n",
      "RMSE value for k=  22 is: 41.93968892677979\n",
      "RMSE value for k=  23 is: 42.165309947581136\n",
      "RMSE value for k=  24 is: 41.98481326846403\n",
      "RMSE value for k=  25 is: 42.22717101382694\n",
      "RMSE value for k=  26 is: 41.90685262111736\n",
      "RMSE value for k=  27 is: 42.08745640622947\n",
      "RMSE value for k=  28 is: 41.95749934423661\n",
      "RMSE value for k=  29 is: 41.91693362568475\n",
      "RMSE value for k=  30 is: 42.30237482095961\n",
      "RMSE value for k=  31 is: 42.12184884623384\n",
      "RMSE value for k=  32 is: 42.10071733982889\n",
      "RMSE value for k=  33 is: 42.07934010372821\n",
      "RMSE value for k=  34 is: 41.96615665626613\n",
      "RMSE value for k=  35 is: 42.019301878806765\n",
      "RMSE value for k=  36 is: 41.86116595425355\n",
      "RMSE value for k=  37 is: 41.80408340971288\n",
      "RMSE value for k=  38 is: 41.809926330016786\n",
      "RMSE value for k=  39 is: 41.63556980538453\n",
      "RMSE value for k=  40 is: 41.8192957750333\n"
     ]
    }
   ],
   "source": [
    "rmse_val = [] #to store rmse values for different k\n",
    "for K in range(40):\n",
    "    K = K+1\n",
    "    model = KNeighborsRegressor(n_neighbors = K)\n",
    "\n",
    "    model.fit(X_train, y_train)  #fit the model\n",
    "    pred=model.predict(X_test) #make prediction on test set\n",
    "    error = sqrt(mean_squared_error(y_test, pred)) #calculate rmse\n",
    "    rmse_val.append(error) #store rmse values\n",
    "    print('RMSE value for k= ' , K , 'is:', error)"
   ]
  },
  {
   "cell_type": "code",
   "execution_count": 315,
   "id": "d0c9d6f7-9e47-4c33-9aeb-bfb2a09c1ed6",
   "metadata": {
    "tags": []
   },
   "outputs": [
    {
     "data": {
      "text/plain": [
       "{'n_neighbors': 104}"
      ]
     },
     "execution_count": 315,
     "metadata": {},
     "output_type": "execute_result"
    }
   ],
   "source": [
    "from sklearn.model_selection import GridSearchCV\n",
    "\n",
    "K_lst = [i for i in range(2, 201)]  # 2 to 50\n",
    "params = {'n_neighbors': K_lst}\n",
    "\n",
    "knn = KNeighborsRegressor()\n",
    "\n",
    "model = GridSearchCV(knn, params, cv=3)\n",
    "model.fit(X_train, y_train)\n",
    "model.best_params_"
   ]
  },
  {
   "cell_type": "code",
   "execution_count": 316,
   "id": "810d41c7-f10b-4bd9-9a01-c117e20d0131",
   "metadata": {
    "tags": []
   },
   "outputs": [
    {
     "name": "stdout",
     "output_type": "stream",
     "text": [
      "Mean Squared Error: 41.9310018775075\n"
     ]
    }
   ],
   "source": [
    "knn_model = KNeighborsRegressor(n_neighbors=104)\n",
    "\n",
    "# Train the model\n",
    "knn_model.fit(X_train, y_train)\n",
    "\n",
    "# Make predictions\n",
    "y_pred = knn_model.predict(X_test)\n",
    "\n",
    "# Evaluate the model\n",
    "mse = sqrt(mean_squared_error(y_test, y_pred))\n",
    "print(\"Mean Squared Error:\", mse)"
   ]
  },
  {
   "cell_type": "markdown",
   "id": "52f25f4e-70a1-4d07-8fe4-395b80d9aa24",
   "metadata": {},
   "source": [
    "### Random Forest"
   ]
  },
  {
   "cell_type": "code",
   "execution_count": 272,
   "id": "417191cc-d503-4e35-94d3-d2cd65a201b0",
   "metadata": {
    "tags": []
   },
   "outputs": [
    {
     "data": {
      "text/html": [
       "<style>#sk-container-id-19 {color: black;}#sk-container-id-19 pre{padding: 0;}#sk-container-id-19 div.sk-toggleable {background-color: white;}#sk-container-id-19 label.sk-toggleable__label {cursor: pointer;display: block;width: 100%;margin-bottom: 0;padding: 0.3em;box-sizing: border-box;text-align: center;}#sk-container-id-19 label.sk-toggleable__label-arrow:before {content: \"▸\";float: left;margin-right: 0.25em;color: #696969;}#sk-container-id-19 label.sk-toggleable__label-arrow:hover:before {color: black;}#sk-container-id-19 div.sk-estimator:hover label.sk-toggleable__label-arrow:before {color: black;}#sk-container-id-19 div.sk-toggleable__content {max-height: 0;max-width: 0;overflow: hidden;text-align: left;background-color: #f0f8ff;}#sk-container-id-19 div.sk-toggleable__content pre {margin: 0.2em;color: black;border-radius: 0.25em;background-color: #f0f8ff;}#sk-container-id-19 input.sk-toggleable__control:checked~div.sk-toggleable__content {max-height: 200px;max-width: 100%;overflow: auto;}#sk-container-id-19 input.sk-toggleable__control:checked~label.sk-toggleable__label-arrow:before {content: \"▾\";}#sk-container-id-19 div.sk-estimator input.sk-toggleable__control:checked~label.sk-toggleable__label {background-color: #d4ebff;}#sk-container-id-19 div.sk-label input.sk-toggleable__control:checked~label.sk-toggleable__label {background-color: #d4ebff;}#sk-container-id-19 input.sk-hidden--visually {border: 0;clip: rect(1px 1px 1px 1px);clip: rect(1px, 1px, 1px, 1px);height: 1px;margin: -1px;overflow: hidden;padding: 0;position: absolute;width: 1px;}#sk-container-id-19 div.sk-estimator {font-family: monospace;background-color: #f0f8ff;border: 1px dotted black;border-radius: 0.25em;box-sizing: border-box;margin-bottom: 0.5em;}#sk-container-id-19 div.sk-estimator:hover {background-color: #d4ebff;}#sk-container-id-19 div.sk-parallel-item::after {content: \"\";width: 100%;border-bottom: 1px solid gray;flex-grow: 1;}#sk-container-id-19 div.sk-label:hover label.sk-toggleable__label {background-color: #d4ebff;}#sk-container-id-19 div.sk-serial::before {content: \"\";position: absolute;border-left: 1px solid gray;box-sizing: border-box;top: 0;bottom: 0;left: 50%;z-index: 0;}#sk-container-id-19 div.sk-serial {display: flex;flex-direction: column;align-items: center;background-color: white;padding-right: 0.2em;padding-left: 0.2em;position: relative;}#sk-container-id-19 div.sk-item {position: relative;z-index: 1;}#sk-container-id-19 div.sk-parallel {display: flex;align-items: stretch;justify-content: center;background-color: white;position: relative;}#sk-container-id-19 div.sk-item::before, #sk-container-id-19 div.sk-parallel-item::before {content: \"\";position: absolute;border-left: 1px solid gray;box-sizing: border-box;top: 0;bottom: 0;left: 50%;z-index: -1;}#sk-container-id-19 div.sk-parallel-item {display: flex;flex-direction: column;z-index: 1;position: relative;background-color: white;}#sk-container-id-19 div.sk-parallel-item:first-child::after {align-self: flex-end;width: 50%;}#sk-container-id-19 div.sk-parallel-item:last-child::after {align-self: flex-start;width: 50%;}#sk-container-id-19 div.sk-parallel-item:only-child::after {width: 0;}#sk-container-id-19 div.sk-dashed-wrapped {border: 1px dashed gray;margin: 0 0.4em 0.5em 0.4em;box-sizing: border-box;padding-bottom: 0.4em;background-color: white;}#sk-container-id-19 div.sk-label label {font-family: monospace;font-weight: bold;display: inline-block;line-height: 1.2em;}#sk-container-id-19 div.sk-label-container {text-align: center;}#sk-container-id-19 div.sk-container {/* jupyter's `normalize.less` sets `[hidden] { display: none; }` but bootstrap.min.css set `[hidden] { display: none !important; }` so we also need the `!important` here to be able to override the default hidden behavior on the sphinx rendered scikit-learn.org. See: https://github.com/scikit-learn/scikit-learn/issues/21755 */display: inline-block !important;position: relative;}#sk-container-id-19 div.sk-text-repr-fallback {display: none;}</style><div id=\"sk-container-id-19\" class=\"sk-top-container\"><div class=\"sk-text-repr-fallback\"><pre>RandomForestRegressor(random_state=42)</pre><b>In a Jupyter environment, please rerun this cell to show the HTML representation or trust the notebook. <br />On GitHub, the HTML representation is unable to render, please try loading this page with nbviewer.org.</b></div><div class=\"sk-container\" hidden><div class=\"sk-item\"><div class=\"sk-estimator sk-toggleable\"><input class=\"sk-toggleable__control sk-hidden--visually\" id=\"sk-estimator-id-19\" type=\"checkbox\" checked><label for=\"sk-estimator-id-19\" class=\"sk-toggleable__label sk-toggleable__label-arrow\">RandomForestRegressor</label><div class=\"sk-toggleable__content\"><pre>RandomForestRegressor(random_state=42)</pre></div></div></div></div></div>"
      ],
      "text/plain": [
       "RandomForestRegressor(random_state=42)"
      ]
     },
     "execution_count": 272,
     "metadata": {},
     "output_type": "execute_result"
    }
   ],
   "source": [
    "from sklearn.ensemble import RandomForestRegressor\n",
    "\n",
    "# You can adjust n_estimators, max_depth, and other parameters as needed\n",
    "rf_model = RandomForestRegressor(n_estimators=100, random_state=42)\n",
    "\n",
    "rf_model.fit(X_train, y_train)"
   ]
  },
  {
   "cell_type": "code",
   "execution_count": 301,
   "id": "ed654d4f-5b04-46b8-8e71-36e1f213ba9b",
   "metadata": {
    "tags": []
   },
   "outputs": [
    {
     "name": "stdout",
     "output_type": "stream",
     "text": [
      "Fitting 3 folds for each of 84 candidates, totalling 252 fits\n",
      "Best parameters: {'max_depth': 50, 'min_samples_leaf': 10, 'min_samples_split': 2, 'n_estimators': 200}\n",
      "Best score: 0.09253094601016836\n",
      "Mean Squared Error on Test Set: 1420.7380986293842\n",
      "Root Mean Squared Error on Test Set: 37.692679642463524\n",
      "R-squared on Test Set: 0.20575780944475963\n"
     ]
    }
   ],
   "source": [
    "# https://www.analyticsvidhya.com/blog/2015/06/tuning-random-forest-model/\n",
    "# Define the parameter grid\n",
    "param_grid = {\n",
    "    'n_estimators': [200],\n",
    "    'max_depth': [3, 5, 10, 20, 50, 100, 200],\n",
    "    'min_samples_split': [2, 5, 10], \n",
    "    'min_samples_leaf': [1, 10, 50, 100]\n",
    "}\n",
    "\n",
    "# Initialize the grid search model\n",
    "grid_search = GridSearchCV(RandomForestRegressor(random_state=42), param_grid, cv=3, n_jobs=-1, verbose=2)\n",
    "\n",
    "# Fit the grid search to the data\n",
    "grid_search.fit(X_train, y_train)\n",
    "\n",
    "# Evaluate the best model\n",
    "best_model = grid_search.best_estimator_\n",
    "y_pred = best_model.predict(X_test)\n",
    "mse = mean_squared_error(y_test, y_pred)\n",
    "rmse = sqrt(mean_squared_error(y_test, y_pred))\n",
    "r2 = r2_score(y_test, y_pred)\n",
    "\n",
    "# Print the best parameters and best score\n",
    "print(\"Best parameters:\", grid_search.best_params_)\n",
    "print(\"Best score:\", grid_search.best_score_)\n",
    "\n",
    "print(\"Mean Squared Error on Test Set:\", mse)\n",
    "print(\"Root Mean Squared Error on Test Set:\", rmse)\n",
    "print(\"R-squared on Test Set:\", r2)"
   ]
  },
  {
   "cell_type": "code",
   "execution_count": 278,
   "id": "247c095e-6411-4270-ba3c-e1a8f0e4b9f1",
   "metadata": {
    "collapsed": true,
    "jupyter": {
     "outputs_hidden": true
    },
    "tags": []
   },
   "outputs": [
    {
     "name": "stderr",
     "output_type": "stream",
     "text": [
      "[I 2023-12-21 04:34:49,556] A new study created in memory with name: no-name-4eebd269-9b12-44f6-b991-06c8603a038e\n",
      "[I 2023-12-21 04:34:50,925] Trial 0 finished with value: 1374.2441946210758 and parameters: {'n_estimators': 300, 'max_depth': 30}. Best is trial 0 with value: 1374.2441946210758.\n",
      "[I 2023-12-21 04:34:51,379] Trial 1 finished with value: 1336.0097627302973 and parameters: {'n_estimators': 100, 'max_depth': 30}. Best is trial 1 with value: 1336.0097627302973.\n",
      "[I 2023-12-21 04:34:51,429] Trial 2 finished with value: 1414.3189436619718 and parameters: {'n_estimators': 10, 'max_depth': 50}. Best is trial 1 with value: 1336.0097627302973.\n",
      "[I 2023-12-21 04:34:51,478] Trial 3 finished with value: 1454.9891551951528 and parameters: {'n_estimators': 10, 'max_depth': 30}. Best is trial 1 with value: 1336.0097627302973.\n",
      "[I 2023-12-21 04:34:51,939] Trial 4 finished with value: 1342.944115523445 and parameters: {'n_estimators': 100, 'max_depth': 30}. Best is trial 1 with value: 1336.0097627302973.\n",
      "[I 2023-12-21 04:34:52,335] Trial 5 finished with value: 1352.7364048238924 and parameters: {'n_estimators': 100, 'max_depth': 20}. Best is trial 1 with value: 1336.0097627302973.\n",
      "[I 2023-12-21 04:34:53,270] Trial 6 finished with value: 1344.4612165492958 and parameters: {'n_estimators': 200, 'max_depth': 50}. Best is trial 1 with value: 1336.0097627302973.\n",
      "[I 2023-12-21 04:34:54,186] Trial 7 finished with value: 1334.0554938376997 and parameters: {'n_estimators': 200, 'max_depth': 30}. Best is trial 7 with value: 1334.0554938376997.\n",
      "[I 2023-12-21 04:34:54,574] Trial 8 finished with value: 1354.5768653995444 and parameters: {'n_estimators': 100, 'max_depth': 20}. Best is trial 7 with value: 1334.0554938376997.\n",
      "[I 2023-12-21 04:34:55,945] Trial 9 finished with value: 1329.0933198748046 and parameters: {'n_estimators': 300, 'max_depth': 60}. Best is trial 9 with value: 1329.0933198748046.\n",
      "[I 2023-12-21 04:34:57,323] Trial 10 finished with value: 1357.8794517996869 and parameters: {'n_estimators': 300, 'max_depth': 60}. Best is trial 9 with value: 1329.0933198748046.\n",
      "[I 2023-12-21 04:34:57,445] Trial 11 finished with value: 1420.2143521972232 and parameters: {'n_estimators': 50, 'max_depth': 10}. Best is trial 9 with value: 1329.0933198748046.\n",
      "[I 2023-12-21 04:34:58,386] Trial 12 finished with value: 1357.3576214788734 and parameters: {'n_estimators': 200, 'max_depth': 60}. Best is trial 9 with value: 1329.0933198748046.\n",
      "[I 2023-12-21 04:34:59,336] Trial 13 finished with value: 1377.553129699726 and parameters: {'n_estimators': 200, 'max_depth': 40}. Best is trial 9 with value: 1329.0933198748046.\n",
      "[I 2023-12-21 04:35:00,747] Trial 14 finished with value: 1379.8916290297338 and parameters: {'n_estimators': 300, 'max_depth': 60}. Best is trial 9 with value: 1329.0933198748046.\n",
      "[I 2023-12-21 04:35:00,985] Trial 15 finished with value: 1342.0447283271055 and parameters: {'n_estimators': 50, 'max_depth': 40}. Best is trial 9 with value: 1329.0933198748046.\n",
      "[I 2023-12-21 04:35:02,410] Trial 16 finished with value: 1347.8865722222222 and parameters: {'n_estimators': 300, 'max_depth': 60}. Best is trial 9 with value: 1329.0933198748046.\n",
      "[I 2023-12-21 04:35:03,342] Trial 17 finished with value: 1368.483785534519 and parameters: {'n_estimators': 200, 'max_depth': 30}. Best is trial 9 with value: 1329.0933198748046.\n",
      "[I 2023-12-21 04:35:03,807] Trial 18 finished with value: 1390.972914476494 and parameters: {'n_estimators': 200, 'max_depth': 10}. Best is trial 9 with value: 1329.0933198748046.\n",
      "[I 2023-12-21 04:35:05,185] Trial 19 finished with value: 1371.5797899061033 and parameters: {'n_estimators': 300, 'max_depth': 60}. Best is trial 9 with value: 1329.0933198748046.\n",
      "[I 2023-12-21 04:35:05,237] Trial 20 finished with value: 1348.3401408450704 and parameters: {'n_estimators': 10, 'max_depth': 50}. Best is trial 9 with value: 1329.0933198748046.\n",
      "[I 2023-12-21 04:35:05,694] Trial 21 finished with value: 1362.3040547368803 and parameters: {'n_estimators': 100, 'max_depth': 30}. Best is trial 9 with value: 1329.0933198748046.\n",
      "[I 2023-12-21 04:35:06,150] Trial 22 finished with value: 1341.9232318622178 and parameters: {'n_estimators': 100, 'max_depth': 30}. Best is trial 9 with value: 1329.0933198748046.\n",
      "[I 2023-12-21 04:35:06,381] Trial 23 finished with value: 1398.5995890890606 and parameters: {'n_estimators': 50, 'max_depth': 30}. Best is trial 9 with value: 1329.0933198748046.\n",
      "[I 2023-12-21 04:35:07,288] Trial 24 finished with value: 1335.5587693377724 and parameters: {'n_estimators': 200, 'max_depth': 30}. Best is trial 9 with value: 1329.0933198748046.\n",
      "[I 2023-12-21 04:35:08,215] Trial 25 finished with value: 1347.4706269231708 and parameters: {'n_estimators': 200, 'max_depth': 40}. Best is trial 9 with value: 1329.0933198748046.\n",
      "[I 2023-12-21 04:35:08,689] Trial 26 finished with value: 1415.495756150739 and parameters: {'n_estimators': 200, 'max_depth': 10}. Best is trial 9 with value: 1329.0933198748046.\n",
      "[I 2023-12-21 04:35:09,473] Trial 27 finished with value: 1340.1457327600967 and parameters: {'n_estimators': 200, 'max_depth': 20}. Best is trial 9 with value: 1329.0933198748046.\n",
      "[I 2023-12-21 04:35:10,881] Trial 28 finished with value: 1348.4615033646323 and parameters: {'n_estimators': 300, 'max_depth': 60}. Best is trial 9 with value: 1329.0933198748046.\n",
      "[I 2023-12-21 04:35:12,286] Trial 29 finished with value: 1360.5186658628659 and parameters: {'n_estimators': 300, 'max_depth': 30}. Best is trial 9 with value: 1329.0933198748046.\n",
      "[I 2023-12-21 04:35:13,199] Trial 30 finished with value: 1361.5053733761365 and parameters: {'n_estimators': 200, 'max_depth': 30}. Best is trial 9 with value: 1329.0933198748046.\n",
      "[I 2023-12-21 04:35:13,657] Trial 31 finished with value: 1382.1626421928065 and parameters: {'n_estimators': 100, 'max_depth': 30}. Best is trial 9 with value: 1329.0933198748046.\n",
      "[I 2023-12-21 04:35:13,707] Trial 32 finished with value: 1469.1904894384554 and parameters: {'n_estimators': 10, 'max_depth': 30}. Best is trial 9 with value: 1329.0933198748046.\n",
      "[I 2023-12-21 04:35:14,613] Trial 33 finished with value: 1369.9511898258643 and parameters: {'n_estimators': 200, 'max_depth': 30}. Best is trial 9 with value: 1329.0933198748046.\n",
      "[I 2023-12-21 04:35:15,072] Trial 34 finished with value: 1350.3413600281617 and parameters: {'n_estimators': 100, 'max_depth': 30}. Best is trial 9 with value: 1329.0933198748046.\n",
      "[I 2023-12-21 04:35:15,124] Trial 35 finished with value: 1516.04838028169 and parameters: {'n_estimators': 10, 'max_depth': 50}. Best is trial 9 with value: 1329.0933198748046.\n",
      "[I 2023-12-21 04:35:16,483] Trial 36 finished with value: 1342.4050962336812 and parameters: {'n_estimators': 300, 'max_depth': 30}. Best is trial 9 with value: 1329.0933198748046.\n",
      "[I 2023-12-21 04:35:16,871] Trial 37 finished with value: 1384.55602155417 and parameters: {'n_estimators': 100, 'max_depth': 20}. Best is trial 9 with value: 1329.0933198748046.\n",
      "[I 2023-12-21 04:35:17,777] Trial 38 finished with value: 1359.2593136828089 and parameters: {'n_estimators': 200, 'max_depth': 30}. Best is trial 9 with value: 1329.0933198748046.\n",
      "[I 2023-12-21 04:35:18,015] Trial 39 finished with value: 1380.7695014084507 and parameters: {'n_estimators': 50, 'max_depth': 60}. Best is trial 9 with value: 1329.0933198748046.\n",
      "[I 2023-12-21 04:35:18,478] Trial 40 finished with value: 1353.0018943661973 and parameters: {'n_estimators': 100, 'max_depth': 50}. Best is trial 9 with value: 1329.0933198748046.\n",
      "[I 2023-12-21 04:35:19,258] Trial 41 finished with value: 1343.2452846216233 and parameters: {'n_estimators': 200, 'max_depth': 20}. Best is trial 9 with value: 1329.0933198748046.\n",
      "[I 2023-12-21 04:35:20,046] Trial 42 finished with value: 1334.0506124563847 and parameters: {'n_estimators': 200, 'max_depth': 20}. Best is trial 9 with value: 1329.0933198748046.\n"
     ]
    },
    {
     "name": "stdout",
     "output_type": "stream",
     "text": [
      "[CV] END max_depth=10, min_samples_split=5, n_estimators=200; total time=   0.6s\n",
      "[CV] END max_depth=20, min_samples_split=5, n_estimators=100; total time=   0.4s\n",
      "[CV] END max_depth=20, min_samples_split=10, n_estimators=300; total time=   1.2s\n",
      "[CV] END max_depth=10, min_samples_split=5, n_estimators=300; total time=   0.8s\n",
      "[CV] END max_depth=20, min_samples_split=10, n_estimators=100; total time=   0.4s\n",
      "[CV] END max_depth=30, min_samples_split=2, n_estimators=200; total time=   1.0s\n",
      "[CV] END max_depth=10, min_samples_split=5, n_estimators=200; total time=   0.6s\n",
      "[CV] END max_depth=20, min_samples_split=5, n_estimators=100; total time=   0.4s\n",
      "[CV] END max_depth=20, min_samples_split=10, n_estimators=300; total time=   1.1s\n",
      "[CV] END max_depth=10, min_samples_split=2, n_estimators=100; total time=   0.3s\n",
      "[CV] END max_depth=20, min_samples_split=2, n_estimators=200; total time=   0.9s\n",
      "[CV] END max_depth=30, min_samples_split=2, n_estimators=200; total time=   1.0s\n",
      "[CV] END max_depth=10, min_samples_split=2, n_estimators=200; total time=   0.6s\n",
      "[CV] END max_depth=20, min_samples_split=5, n_estimators=100; total time=   0.5s\n",
      "[CV] END max_depth=20, min_samples_split=10, n_estimators=300; total time=   1.1s\n",
      "[CV] END max_depth=10, min_samples_split=5, n_estimators=100; total time=   0.3s\n",
      "[CV] END max_depth=20, min_samples_split=2, n_estimators=200; total time=   0.9s\n",
      "[CV] END max_depth=30, min_samples_split=2, n_estimators=200; total time=   1.0s\n",
      "[CV] END max_depth=10, min_samples_split=2, n_estimators=200; total time=   0.6s\n",
      "[CV] END max_depth=20, min_samples_split=5, n_estimators=200; total time=   0.8s\n",
      "[CV] END max_depth=30, min_samples_split=5, n_estimators=100; total time=   0.4s\n",
      "[CV] END max_depth=30, min_samples_split=10, n_estimators=100; total time=   0.4s\n",
      "[CV] END max_depth=10, min_samples_split=10, n_estimators=200; total time=   0.5s\n",
      "[CV] END max_depth=20, min_samples_split=2, n_estimators=300; total time=   1.3s\n",
      "[CV] END max_depth=30, min_samples_split=10, n_estimators=100; total time=   0.4s\n",
      "[CV] END max_depth=10, min_samples_split=10, n_estimators=200; total time=   0.6s\n",
      "[CV] END max_depth=20, min_samples_split=5, n_estimators=200; total time=   0.8s\n",
      "[CV] END max_depth=30, min_samples_split=5, n_estimators=100; total time=   0.4s\n",
      "[CV] END max_depth=30, min_samples_split=10, n_estimators=100; total time=   0.4s\n"
     ]
    },
    {
     "name": "stderr",
     "output_type": "stream",
     "text": [
      "[I 2023-12-21 04:35:20,857] Trial 43 finished with value: 1346.9479648540528 and parameters: {'n_estimators': 200, 'max_depth': 20}. Best is trial 9 with value: 1329.0933198748046.\n"
     ]
    },
    {
     "name": "stdout",
     "output_type": "stream",
     "text": [
      "[CV] END max_depth=10, min_samples_split=10, n_estimators=100; total time=   0.3s\n",
      "[CV] END max_depth=10, min_samples_split=10, n_estimators=300; total time=   0.8s\n",
      "[CV] END max_depth=30, min_samples_split=2, n_estimators=100; total time=   0.5s\n",
      "[CV] END max_depth=30, min_samples_split=5, n_estimators=200; total time=   0.8s\n",
      "[CV] END max_depth=10, min_samples_split=10, n_estimators=100; total time=   0.3s\n",
      "[CV] END max_depth=10, min_samples_split=10, n_estimators=300; total time=   0.8s\n",
      "[CV] END max_depth=30, min_samples_split=2, n_estimators=100; total time=   0.5s\n",
      "[CV] END max_depth=30, min_samples_split=5, n_estimators=200; total time=   0.8s\n",
      "[CV] END max_depth=10, min_samples_split=2, n_estimators=300; total time=   0.9s\n",
      "[CV] END max_depth=20, min_samples_split=10, n_estimators=200; total time=   0.7s\n",
      "[CV] END max_depth=30, min_samples_split=5, n_estimators=200; total time=   0.8s\n",
      "[CV] END max_depth=10, min_samples_split=2, n_estimators=300; total time=   0.9s\n",
      "[CV] END max_depth=20, min_samples_split=10, n_estimators=100; total time=   0.4s\n",
      "[CV] END max_depth=30, min_samples_split=2, n_estimators=300; total time=   1.4s\n",
      "[CV] END max_depth=10, min_samples_split=2, n_estimators=200; total time=   0.6s\n",
      "[CV] END max_depth=20, min_samples_split=2, n_estimators=300; total time=   1.4s\n",
      "[CV] END max_depth=30, min_samples_split=10, n_estimators=200; total time=   0.7s\n",
      "[CV] END max_depth=10, min_samples_split=10, n_estimators=200; total time=   0.6s\n",
      "[CV] END max_depth=20, min_samples_split=2, n_estimators=300; total time=   1.4s\n",
      "[CV] END max_depth=30, min_samples_split=10, n_estimators=200; total time=   0.6s\n",
      "[CV] END max_depth=10, min_samples_split=5, n_estimators=200; total time=   0.6s\n",
      "[CV] END max_depth=20, min_samples_split=5, n_estimators=200; total time=   0.9s\n",
      "[CV] END max_depth=30, min_samples_split=5, n_estimators=100; total time=   0.5s\n",
      "[CV] END max_depth=30, min_samples_split=10, n_estimators=200; total time=   0.6s\n",
      "[CV] END max_depth=10, min_samples_split=5, n_estimators=300; total time=   0.9s\n",
      "[CV] END max_depth=20, min_samples_split=10, n_estimators=100; total time=   0.4s\n",
      "[CV] END max_depth=30, min_samples_split=2, n_estimators=300; total time=   1.4s\n",
      "[CV] END max_depth=10, min_samples_split=2, n_estimators=100; total time=   0.3s\n",
      "[CV] END max_depth=20, min_samples_split=2, n_estimators=200; total time=   0.9s\n",
      "[CV] END max_depth=30, min_samples_split=2, n_estimators=300; total time=   1.4s\n",
      "[CV] END max_depth=10, min_samples_split=5, n_estimators=100; total time=   0.3s\n",
      "[CV] END max_depth=10, min_samples_split=10, n_estimators=300; total time=   0.8s\n",
      "[CV] END max_depth=30, min_samples_split=2, n_estimators=100; total time=   0.5s\n",
      "[CV] END max_depth=30, min_samples_split=5, n_estimators=300; total time=   1.1s\n",
      "[CV] END max_depth=10, min_samples_split=2, n_estimators=300; total time=   0.9s\n",
      "[CV] END max_depth=20, min_samples_split=10, n_estimators=200; total time=   0.7s\n",
      "[CV] END max_depth=30, min_samples_split=5, n_estimators=300; total time=   1.2s\n",
      "[CV] END max_depth=10, min_samples_split=5, n_estimators=300; total time=   0.9s\n",
      "[CV] END max_depth=20, min_samples_split=10, n_estimators=200; total time=   0.8s\n",
      "[CV] END max_depth=30, min_samples_split=5, n_estimators=300; total time=   1.2s\n"
     ]
    },
    {
     "name": "stderr",
     "output_type": "stream",
     "text": [
      "[I 2023-12-21 04:35:21,647] Trial 44 finished with value: 1364.5713465174679 and parameters: {'n_estimators': 200, 'max_depth': 20}. Best is trial 9 with value: 1329.0933198748046.\n"
     ]
    },
    {
     "name": "stdout",
     "output_type": "stream",
     "text": [
      "[CV] END max_depth=10, min_samples_split=2, n_estimators=100; total time=   0.3s\n",
      "[CV] END max_depth=20, min_samples_split=2, n_estimators=100; total time=   0.5s\n",
      "[CV] END max_depth=20, min_samples_split=5, n_estimators=300; total time=   1.3s\n",
      "[CV] END max_depth=30, min_samples_split=10, n_estimators=300; total time=   0.8s\n",
      "[CV] END max_depth=10, min_samples_split=10, n_estimators=100; total time=   0.3s\n",
      "[CV] END max_depth=20, min_samples_split=2, n_estimators=100; total time=   0.5s\n",
      "[CV] END max_depth=20, min_samples_split=5, n_estimators=300; total time=   1.3s\n",
      "[CV] END max_depth=30, min_samples_split=10, n_estimators=300; total time=   0.9s\n",
      "[CV] END max_depth=10, min_samples_split=5, n_estimators=100; total time=   0.3s\n",
      "[CV] END max_depth=20, min_samples_split=2, n_estimators=100; total time=   0.5s\n",
      "[CV] END max_depth=20, min_samples_split=5, n_estimators=300; total time=   1.2s\n",
      "[CV] END max_depth=30, min_samples_split=10, n_estimators=300; total time=   0.9s\n"
     ]
    },
    {
     "name": "stderr",
     "output_type": "stream",
     "text": [
      "[I 2023-12-21 04:35:22,570] Trial 45 finished with value: 1350.5673003380161 and parameters: {'n_estimators': 200, 'max_depth': 40}. Best is trial 9 with value: 1329.0933198748046.\n",
      "[I 2023-12-21 04:35:23,270] Trial 46 finished with value: 1394.4100140917883 and parameters: {'n_estimators': 300, 'max_depth': 10}. Best is trial 9 with value: 1329.0933198748046.\n",
      "[I 2023-12-21 04:35:24,220] Trial 47 finished with value: 1331.044214964789 and parameters: {'n_estimators': 200, 'max_depth': 60}. Best is trial 9 with value: 1329.0933198748046.\n",
      "[I 2023-12-21 04:35:25,149] Trial 48 finished with value: 1370.063700528169 and parameters: {'n_estimators': 200, 'max_depth': 60}. Best is trial 9 with value: 1329.0933198748046.\n",
      "[I 2023-12-21 04:35:26,103] Trial 49 finished with value: 1371.9656985915494 and parameters: {'n_estimators': 200, 'max_depth': 60}. Best is trial 9 with value: 1329.0933198748046.\n"
     ]
    }
   ],
   "source": [
    "def objective(trial):\n",
    "    # Define the hyperparameters' search space\n",
    "    n_estimators = trial.suggest_categorical('n_estimators', [10, 50, 100, 200, 300, 400, 500, 600])\n",
    "    max_depth = trial.suggest_categorical('max_depth', [10, 20, 30, 40, 50, 60])\n",
    "\n",
    "    # Create and train the model\n",
    "    model = RandomForestRegressor(n_estimators=n_estimators, max_depth=max_depth)\n",
    "    model.fit(X_train, y_train)\n",
    "\n",
    "    # Make predictions and calculate the error\n",
    "    preds = model.predict(X_test)\n",
    "    mse = mean_squared_error(y_test, preds)\n",
    "\n",
    "    return mse\n",
    "\n",
    "# Create a study object and specify direction as 'minimize' for MSE\n",
    "study = optuna.create_study(direction='minimize')\n",
    "\n",
    "# Perform optimization\n",
    "study.optimize(objective, n_trials=50)  # Number of trials is combinations of hyperparameters"
   ]
  },
  {
   "cell_type": "code",
   "execution_count": 279,
   "id": "506bb19a-9ac4-4ccf-856a-8f2e42382222",
   "metadata": {
    "tags": []
   },
   "outputs": [
    {
     "name": "stdout",
     "output_type": "stream",
     "text": [
      "Best hyperparameters: {'n_estimators': 300, 'max_depth': 60}\n"
     ]
    }
   ],
   "source": [
    "# Best hyperparameters\n",
    "print('Best hyperparameters:', study.best_params)"
   ]
  },
  {
   "cell_type": "code",
   "execution_count": 280,
   "id": "1703af3a-70c1-4665-b2f2-928cca2ccb18",
   "metadata": {
    "tags": []
   },
   "outputs": [
    {
     "data": {
      "application/vnd.plotly.v1+json": {
       "config": {
        "plotlyServerURL": "https://plot.ly"
       },
       "data": [
        {
         "autocontour": true,
         "colorbar": {
          "title": {
           "text": "Objective Value"
          }
         },
         "colorscale": [
          [
           0,
           "rgb(247,251,255)"
          ],
          [
           0.125,
           "rgb(222,235,247)"
          ],
          [
           0.25,
           "rgb(198,219,239)"
          ],
          [
           0.375,
           "rgb(158,202,225)"
          ],
          [
           0.5,
           "rgb(107,174,214)"
          ],
          [
           0.625,
           "rgb(66,146,198)"
          ],
          [
           0.75,
           "rgb(33,113,181)"
          ],
          [
           0.875,
           "rgb(8,81,156)"
          ],
          [
           1,
           "rgb(8,48,107)"
          ]
         ],
         "connectgaps": true,
         "contours": {
          "coloring": "heatmap",
          "end": 1450,
          "size": 10,
          "start": 1330
         },
         "hoverinfo": "none",
         "line": {
          "smoothing": 1.3
         },
         "reversescale": true,
         "type": "contour",
         "x": [
          7.5,
          10,
          20,
          30,
          40,
          50,
          60,
          62.5
         ],
         "y": [
          -4.5,
          10,
          50,
          100,
          200,
          300,
          314.5
         ],
         "z": [
          [
           null,
           null,
           null,
           null,
           null,
           null,
           null,
           null
          ],
          [
           null,
           null,
           null,
           1454.9891551951528,
           null,
           1348.3401408450704,
           null,
           null
          ],
          [
           null,
           1420.2143521972232,
           null,
           1398.5995890890606,
           1342.0447283271055,
           null,
           1380.7695014084507,
           null
          ],
          [
           null,
           null,
           1352.7364048238924,
           1336.0097627302973,
           null,
           1353.0018943661973,
           null,
           null
          ],
          [
           null,
           1390.972914476494,
           1334.0506124563847,
           1334.0554938376997,
           1347.4706269231708,
           1344.4612165492958,
           1331.044214964789,
           null
          ],
          [
           null,
           1394.4100140917883,
           null,
           1342.4050962336812,
           null,
           null,
           1329.0933198748046,
           null
          ],
          [
           null,
           null,
           null,
           null,
           null,
           null,
           null,
           null
          ]
         ]
        },
        {
         "marker": {
          "color": "black",
          "line": {
           "color": "Gray",
           "width": 2
          }
         },
         "mode": "markers",
         "name": "Feasible Trial",
         "showlegend": false,
         "type": "scatter",
         "x": [
          30,
          30,
          50,
          30,
          30,
          20,
          50,
          30,
          20,
          60,
          60,
          10,
          60,
          40,
          60,
          40,
          60,
          30,
          10,
          60,
          50,
          30,
          30,
          30,
          30,
          40,
          10,
          20,
          60,
          30,
          30,
          30,
          30,
          30,
          30,
          50,
          30,
          20,
          30,
          60,
          50,
          20,
          20,
          20,
          20,
          40,
          10,
          60,
          60,
          60
         ],
         "y": [
          300,
          100,
          10,
          10,
          100,
          100,
          200,
          200,
          100,
          300,
          300,
          50,
          200,
          200,
          300,
          50,
          300,
          200,
          200,
          300,
          10,
          100,
          100,
          50,
          200,
          200,
          200,
          200,
          300,
          300,
          200,
          100,
          10,
          200,
          100,
          10,
          300,
          100,
          200,
          50,
          100,
          200,
          200,
          200,
          200,
          200,
          300,
          200,
          200,
          200
         ]
        },
        {
         "marker": {
          "color": "#cccccc",
          "line": {
           "color": "Gray",
           "width": 2
          }
         },
         "mode": "markers",
         "name": "Infeasible Trial",
         "showlegend": false,
         "type": "scatter",
         "x": [],
         "y": []
        }
       ],
       "layout": {
        "autosize": true,
        "template": {
         "data": {
          "bar": [
           {
            "error_x": {
             "color": "#2a3f5f"
            },
            "error_y": {
             "color": "#2a3f5f"
            },
            "marker": {
             "line": {
              "color": "#E5ECF6",
              "width": 0.5
             },
             "pattern": {
              "fillmode": "overlay",
              "size": 10,
              "solidity": 0.2
             }
            },
            "type": "bar"
           }
          ],
          "barpolar": [
           {
            "marker": {
             "line": {
              "color": "#E5ECF6",
              "width": 0.5
             },
             "pattern": {
              "fillmode": "overlay",
              "size": 10,
              "solidity": 0.2
             }
            },
            "type": "barpolar"
           }
          ],
          "carpet": [
           {
            "aaxis": {
             "endlinecolor": "#2a3f5f",
             "gridcolor": "white",
             "linecolor": "white",
             "minorgridcolor": "white",
             "startlinecolor": "#2a3f5f"
            },
            "baxis": {
             "endlinecolor": "#2a3f5f",
             "gridcolor": "white",
             "linecolor": "white",
             "minorgridcolor": "white",
             "startlinecolor": "#2a3f5f"
            },
            "type": "carpet"
           }
          ],
          "choropleth": [
           {
            "colorbar": {
             "outlinewidth": 0,
             "ticks": ""
            },
            "type": "choropleth"
           }
          ],
          "contour": [
           {
            "colorbar": {
             "outlinewidth": 0,
             "ticks": ""
            },
            "colorscale": [
             [
              0,
              "#0d0887"
             ],
             [
              0.1111111111111111,
              "#46039f"
             ],
             [
              0.2222222222222222,
              "#7201a8"
             ],
             [
              0.3333333333333333,
              "#9c179e"
             ],
             [
              0.4444444444444444,
              "#bd3786"
             ],
             [
              0.5555555555555556,
              "#d8576b"
             ],
             [
              0.6666666666666666,
              "#ed7953"
             ],
             [
              0.7777777777777778,
              "#fb9f3a"
             ],
             [
              0.8888888888888888,
              "#fdca26"
             ],
             [
              1,
              "#f0f921"
             ]
            ],
            "type": "contour"
           }
          ],
          "contourcarpet": [
           {
            "colorbar": {
             "outlinewidth": 0,
             "ticks": ""
            },
            "type": "contourcarpet"
           }
          ],
          "heatmap": [
           {
            "colorbar": {
             "outlinewidth": 0,
             "ticks": ""
            },
            "colorscale": [
             [
              0,
              "#0d0887"
             ],
             [
              0.1111111111111111,
              "#46039f"
             ],
             [
              0.2222222222222222,
              "#7201a8"
             ],
             [
              0.3333333333333333,
              "#9c179e"
             ],
             [
              0.4444444444444444,
              "#bd3786"
             ],
             [
              0.5555555555555556,
              "#d8576b"
             ],
             [
              0.6666666666666666,
              "#ed7953"
             ],
             [
              0.7777777777777778,
              "#fb9f3a"
             ],
             [
              0.8888888888888888,
              "#fdca26"
             ],
             [
              1,
              "#f0f921"
             ]
            ],
            "type": "heatmap"
           }
          ],
          "heatmapgl": [
           {
            "colorbar": {
             "outlinewidth": 0,
             "ticks": ""
            },
            "colorscale": [
             [
              0,
              "#0d0887"
             ],
             [
              0.1111111111111111,
              "#46039f"
             ],
             [
              0.2222222222222222,
              "#7201a8"
             ],
             [
              0.3333333333333333,
              "#9c179e"
             ],
             [
              0.4444444444444444,
              "#bd3786"
             ],
             [
              0.5555555555555556,
              "#d8576b"
             ],
             [
              0.6666666666666666,
              "#ed7953"
             ],
             [
              0.7777777777777778,
              "#fb9f3a"
             ],
             [
              0.8888888888888888,
              "#fdca26"
             ],
             [
              1,
              "#f0f921"
             ]
            ],
            "type": "heatmapgl"
           }
          ],
          "histogram": [
           {
            "marker": {
             "pattern": {
              "fillmode": "overlay",
              "size": 10,
              "solidity": 0.2
             }
            },
            "type": "histogram"
           }
          ],
          "histogram2d": [
           {
            "colorbar": {
             "outlinewidth": 0,
             "ticks": ""
            },
            "colorscale": [
             [
              0,
              "#0d0887"
             ],
             [
              0.1111111111111111,
              "#46039f"
             ],
             [
              0.2222222222222222,
              "#7201a8"
             ],
             [
              0.3333333333333333,
              "#9c179e"
             ],
             [
              0.4444444444444444,
              "#bd3786"
             ],
             [
              0.5555555555555556,
              "#d8576b"
             ],
             [
              0.6666666666666666,
              "#ed7953"
             ],
             [
              0.7777777777777778,
              "#fb9f3a"
             ],
             [
              0.8888888888888888,
              "#fdca26"
             ],
             [
              1,
              "#f0f921"
             ]
            ],
            "type": "histogram2d"
           }
          ],
          "histogram2dcontour": [
           {
            "colorbar": {
             "outlinewidth": 0,
             "ticks": ""
            },
            "colorscale": [
             [
              0,
              "#0d0887"
             ],
             [
              0.1111111111111111,
              "#46039f"
             ],
             [
              0.2222222222222222,
              "#7201a8"
             ],
             [
              0.3333333333333333,
              "#9c179e"
             ],
             [
              0.4444444444444444,
              "#bd3786"
             ],
             [
              0.5555555555555556,
              "#d8576b"
             ],
             [
              0.6666666666666666,
              "#ed7953"
             ],
             [
              0.7777777777777778,
              "#fb9f3a"
             ],
             [
              0.8888888888888888,
              "#fdca26"
             ],
             [
              1,
              "#f0f921"
             ]
            ],
            "type": "histogram2dcontour"
           }
          ],
          "mesh3d": [
           {
            "colorbar": {
             "outlinewidth": 0,
             "ticks": ""
            },
            "type": "mesh3d"
           }
          ],
          "parcoords": [
           {
            "line": {
             "colorbar": {
              "outlinewidth": 0,
              "ticks": ""
             }
            },
            "type": "parcoords"
           }
          ],
          "pie": [
           {
            "automargin": true,
            "type": "pie"
           }
          ],
          "scatter": [
           {
            "fillpattern": {
             "fillmode": "overlay",
             "size": 10,
             "solidity": 0.2
            },
            "type": "scatter"
           }
          ],
          "scatter3d": [
           {
            "line": {
             "colorbar": {
              "outlinewidth": 0,
              "ticks": ""
             }
            },
            "marker": {
             "colorbar": {
              "outlinewidth": 0,
              "ticks": ""
             }
            },
            "type": "scatter3d"
           }
          ],
          "scattercarpet": [
           {
            "marker": {
             "colorbar": {
              "outlinewidth": 0,
              "ticks": ""
             }
            },
            "type": "scattercarpet"
           }
          ],
          "scattergeo": [
           {
            "marker": {
             "colorbar": {
              "outlinewidth": 0,
              "ticks": ""
             }
            },
            "type": "scattergeo"
           }
          ],
          "scattergl": [
           {
            "marker": {
             "colorbar": {
              "outlinewidth": 0,
              "ticks": ""
             }
            },
            "type": "scattergl"
           }
          ],
          "scattermapbox": [
           {
            "marker": {
             "colorbar": {
              "outlinewidth": 0,
              "ticks": ""
             }
            },
            "type": "scattermapbox"
           }
          ],
          "scatterpolar": [
           {
            "marker": {
             "colorbar": {
              "outlinewidth": 0,
              "ticks": ""
             }
            },
            "type": "scatterpolar"
           }
          ],
          "scatterpolargl": [
           {
            "marker": {
             "colorbar": {
              "outlinewidth": 0,
              "ticks": ""
             }
            },
            "type": "scatterpolargl"
           }
          ],
          "scatterternary": [
           {
            "marker": {
             "colorbar": {
              "outlinewidth": 0,
              "ticks": ""
             }
            },
            "type": "scatterternary"
           }
          ],
          "surface": [
           {
            "colorbar": {
             "outlinewidth": 0,
             "ticks": ""
            },
            "colorscale": [
             [
              0,
              "#0d0887"
             ],
             [
              0.1111111111111111,
              "#46039f"
             ],
             [
              0.2222222222222222,
              "#7201a8"
             ],
             [
              0.3333333333333333,
              "#9c179e"
             ],
             [
              0.4444444444444444,
              "#bd3786"
             ],
             [
              0.5555555555555556,
              "#d8576b"
             ],
             [
              0.6666666666666666,
              "#ed7953"
             ],
             [
              0.7777777777777778,
              "#fb9f3a"
             ],
             [
              0.8888888888888888,
              "#fdca26"
             ],
             [
              1,
              "#f0f921"
             ]
            ],
            "type": "surface"
           }
          ],
          "table": [
           {
            "cells": {
             "fill": {
              "color": "#EBF0F8"
             },
             "line": {
              "color": "white"
             }
            },
            "header": {
             "fill": {
              "color": "#C8D4E3"
             },
             "line": {
              "color": "white"
             }
            },
            "type": "table"
           }
          ]
         },
         "layout": {
          "annotationdefaults": {
           "arrowcolor": "#2a3f5f",
           "arrowhead": 0,
           "arrowwidth": 1
          },
          "autotypenumbers": "strict",
          "coloraxis": {
           "colorbar": {
            "outlinewidth": 0,
            "ticks": ""
           }
          },
          "colorscale": {
           "diverging": [
            [
             0,
             "#8e0152"
            ],
            [
             0.1,
             "#c51b7d"
            ],
            [
             0.2,
             "#de77ae"
            ],
            [
             0.3,
             "#f1b6da"
            ],
            [
             0.4,
             "#fde0ef"
            ],
            [
             0.5,
             "#f7f7f7"
            ],
            [
             0.6,
             "#e6f5d0"
            ],
            [
             0.7,
             "#b8e186"
            ],
            [
             0.8,
             "#7fbc41"
            ],
            [
             0.9,
             "#4d9221"
            ],
            [
             1,
             "#276419"
            ]
           ],
           "sequential": [
            [
             0,
             "#0d0887"
            ],
            [
             0.1111111111111111,
             "#46039f"
            ],
            [
             0.2222222222222222,
             "#7201a8"
            ],
            [
             0.3333333333333333,
             "#9c179e"
            ],
            [
             0.4444444444444444,
             "#bd3786"
            ],
            [
             0.5555555555555556,
             "#d8576b"
            ],
            [
             0.6666666666666666,
             "#ed7953"
            ],
            [
             0.7777777777777778,
             "#fb9f3a"
            ],
            [
             0.8888888888888888,
             "#fdca26"
            ],
            [
             1,
             "#f0f921"
            ]
           ],
           "sequentialminus": [
            [
             0,
             "#0d0887"
            ],
            [
             0.1111111111111111,
             "#46039f"
            ],
            [
             0.2222222222222222,
             "#7201a8"
            ],
            [
             0.3333333333333333,
             "#9c179e"
            ],
            [
             0.4444444444444444,
             "#bd3786"
            ],
            [
             0.5555555555555556,
             "#d8576b"
            ],
            [
             0.6666666666666666,
             "#ed7953"
            ],
            [
             0.7777777777777778,
             "#fb9f3a"
            ],
            [
             0.8888888888888888,
             "#fdca26"
            ],
            [
             1,
             "#f0f921"
            ]
           ]
          },
          "colorway": [
           "#636efa",
           "#EF553B",
           "#00cc96",
           "#ab63fa",
           "#FFA15A",
           "#19d3f3",
           "#FF6692",
           "#B6E880",
           "#FF97FF",
           "#FECB52"
          ],
          "font": {
           "color": "#2a3f5f"
          },
          "geo": {
           "bgcolor": "white",
           "lakecolor": "white",
           "landcolor": "#E5ECF6",
           "showlakes": true,
           "showland": true,
           "subunitcolor": "white"
          },
          "hoverlabel": {
           "align": "left"
          },
          "hovermode": "closest",
          "mapbox": {
           "style": "light"
          },
          "paper_bgcolor": "white",
          "plot_bgcolor": "#E5ECF6",
          "polar": {
           "angularaxis": {
            "gridcolor": "white",
            "linecolor": "white",
            "ticks": ""
           },
           "bgcolor": "#E5ECF6",
           "radialaxis": {
            "gridcolor": "white",
            "linecolor": "white",
            "ticks": ""
           }
          },
          "scene": {
           "xaxis": {
            "backgroundcolor": "#E5ECF6",
            "gridcolor": "white",
            "gridwidth": 2,
            "linecolor": "white",
            "showbackground": true,
            "ticks": "",
            "zerolinecolor": "white"
           },
           "yaxis": {
            "backgroundcolor": "#E5ECF6",
            "gridcolor": "white",
            "gridwidth": 2,
            "linecolor": "white",
            "showbackground": true,
            "ticks": "",
            "zerolinecolor": "white"
           },
           "zaxis": {
            "backgroundcolor": "#E5ECF6",
            "gridcolor": "white",
            "gridwidth": 2,
            "linecolor": "white",
            "showbackground": true,
            "ticks": "",
            "zerolinecolor": "white"
           }
          },
          "shapedefaults": {
           "line": {
            "color": "#2a3f5f"
           }
          },
          "ternary": {
           "aaxis": {
            "gridcolor": "white",
            "linecolor": "white",
            "ticks": ""
           },
           "baxis": {
            "gridcolor": "white",
            "linecolor": "white",
            "ticks": ""
           },
           "bgcolor": "#E5ECF6",
           "caxis": {
            "gridcolor": "white",
            "linecolor": "white",
            "ticks": ""
           }
          },
          "title": {
           "x": 0.05
          },
          "xaxis": {
           "automargin": true,
           "gridcolor": "white",
           "linecolor": "white",
           "ticks": "",
           "title": {
            "standoff": 15
           },
           "zerolinecolor": "white",
           "zerolinewidth": 2
          },
          "yaxis": {
           "automargin": true,
           "gridcolor": "white",
           "linecolor": "white",
           "ticks": "",
           "title": {
            "standoff": 15
           },
           "zerolinecolor": "white",
           "zerolinewidth": 2
          }
         }
        },
        "title": {
         "text": "Contour Plot"
        },
        "xaxis": {
         "range": [
          7.5,
          62.5
         ],
         "title": {
          "text": "max_depth"
         },
         "type": "linear"
        },
        "yaxis": {
         "range": [
          -4.5,
          314.5
         ],
         "title": {
          "text": "n_estimators"
         },
         "type": "linear"
        }
       }
      },
      "image/png": "[encoded data removed]",
      "text/html": [
       "<div>                            <div id=\"58b49631-7cbe-4370-b166-2e7c6d7ab43d\" class=\"plotly-graph-div\" style=\"height:525px; width:100%;\"></div>            <script type=\"text/javascript\">                require([\"plotly\"], function(Plotly) {                    window.PLOTLYENV=window.PLOTLYENV || {};                                    if (document.getElementById(\"58b49631-7cbe-4370-b166-2e7c6d7ab43d\")) {                    Plotly.newPlot(                        \"58b49631-7cbe-4370-b166-2e7c6d7ab43d\",                        [{\"colorbar\":{\"title\":{\"text\":\"Objective Value\"}},\"colorscale\":[[0.0,\"rgb(247,251,255)\"],[0.125,\"rgb(222,235,247)\"],[0.25,\"rgb(198,219,239)\"],[0.375,\"rgb(158,202,225)\"],[0.5,\"rgb(107,174,214)\"],[0.625,\"rgb(66,146,198)\"],[0.75,\"rgb(33,113,181)\"],[0.875,\"rgb(8,81,156)\"],[1.0,\"rgb(8,48,107)\"]],\"connectgaps\":true,\"contours\":{\"coloring\":\"heatmap\"},\"hoverinfo\":\"none\",\"line\":{\"smoothing\":1.3},\"reversescale\":true,\"x\":[7.5,10,20,30,40,50,60,62.5],\"y\":[-4.5,10,50,100,200,300,314.5],\"z\":[[null,null,null,null,null,null,null,null],[null,null,null,1454.9891551951528,null,1348.3401408450704,null,null],[null,1420.2143521972232,null,1398.5995890890606,1342.0447283271055,null,1380.7695014084507,null],[null,null,1352.7364048238924,1336.0097627302973,null,1353.0018943661973,null,null],[null,1390.972914476494,1334.0506124563847,1334.0554938376997,1347.4706269231708,1344.4612165492958,1331.044214964789,null],[null,1394.4100140917883,null,1342.4050962336812,null,null,1329.0933198748046,null],[null,null,null,null,null,null,null,null]],\"type\":\"contour\"},{\"marker\":{\"color\":\"black\",\"line\":{\"color\":\"Gray\",\"width\":2.0}},\"mode\":\"markers\",\"name\":\"Feasible Trial\",\"showlegend\":false,\"x\":[30,30,50,30,30,20,50,30,20,60,60,10,60,40,60,40,60,30,10,60,50,30,30,30,30,40,10,20,60,30,30,30,30,30,30,50,30,20,30,60,50,20,20,20,20,40,10,60,60,60],\"y\":[300,100,10,10,100,100,200,200,100,300,300,50,200,200,300,50,300,200,200,300,10,100,100,50,200,200,200,200,300,300,200,100,10,200,100,10,300,100,200,50,100,200,200,200,200,200,300,200,200,200],\"type\":\"scatter\"},{\"marker\":{\"color\":\"#cccccc\",\"line\":{\"color\":\"Gray\",\"width\":2.0}},\"mode\":\"markers\",\"name\":\"Infeasible Trial\",\"showlegend\":false,\"x\":[],\"y\":[],\"type\":\"scatter\"}],                        {\"title\":{\"text\":\"Contour Plot\"},\"template\":{\"data\":{\"histogram2dcontour\":[{\"type\":\"histogram2dcontour\",\"colorbar\":{\"outlinewidth\":0,\"ticks\":\"\"},\"colorscale\":[[0.0,\"#0d0887\"],[0.1111111111111111,\"#46039f\"],[0.2222222222222222,\"#7201a8\"],[0.3333333333333333,\"#9c179e\"],[0.4444444444444444,\"#bd3786\"],[0.5555555555555556,\"#d8576b\"],[0.6666666666666666,\"#ed7953\"],[0.7777777777777778,\"#fb9f3a\"],[0.8888888888888888,\"#fdca26\"],[1.0,\"#f0f921\"]]}],\"choropleth\":[{\"type\":\"choropleth\",\"colorbar\":{\"outlinewidth\":0,\"ticks\":\"\"}}],\"histogram2d\":[{\"type\":\"histogram2d\",\"colorbar\":{\"outlinewidth\":0,\"ticks\":\"\"},\"colorscale\":[[0.0,\"#0d0887\"],[0.1111111111111111,\"#46039f\"],[0.2222222222222222,\"#7201a8\"],[0.3333333333333333,\"#9c179e\"],[0.4444444444444444,\"#bd3786\"],[0.5555555555555556,\"#d8576b\"],[0.6666666666666666,\"#ed7953\"],[0.7777777777777778,\"#fb9f3a\"],[0.8888888888888888,\"#fdca26\"],[1.0,\"#f0f921\"]]}],\"heatmap\":[{\"type\":\"heatmap\",\"colorbar\":{\"outlinewidth\":0,\"ticks\":\"\"},\"colorscale\":[[0.0,\"#0d0887\"],[0.1111111111111111,\"#46039f\"],[0.2222222222222222,\"#7201a8\"],[0.3333333333333333,\"#9c179e\"],[0.4444444444444444,\"#bd3786\"],[0.5555555555555556,\"#d8576b\"],[0.6666666666666666,\"#ed7953\"],[0.7777777777777778,\"#fb9f3a\"],[0.8888888888888888,\"#fdca26\"],[1.0,\"#f0f921\"]]}],\"heatmapgl\":[{\"type\":\"heatmapgl\",\"colorbar\":{\"outlinewidth\":0,\"ticks\":\"\"},\"colorscale\":[[0.0,\"#0d0887\"],[0.1111111111111111,\"#46039f\"],[0.2222222222222222,\"#7201a8\"],[0.3333333333333333,\"#9c179e\"],[0.4444444444444444,\"#bd3786\"],[0.5555555555555556,\"#d8576b\"],[0.6666666666666666,\"#ed7953\"],[0.7777777777777778,\"#fb9f3a\"],[0.8888888888888888,\"#fdca26\"],[1.0,\"#f0f921\"]]}],\"contourcarpet\":[{\"type\":\"contourcarpet\",\"colorbar\":{\"outlinewidth\":0,\"ticks\":\"\"}}],\"contour\":[{\"type\":\"contour\",\"colorbar\":{\"outlinewidth\":0,\"ticks\":\"\"},\"colorscale\":[[0.0,\"#0d0887\"],[0.1111111111111111,\"#46039f\"],[0.2222222222222222,\"#7201a8\"],[0.3333333333333333,\"#9c179e\"],[0.4444444444444444,\"#bd3786\"],[0.5555555555555556,\"#d8576b\"],[0.6666666666666666,\"#ed7953\"],[0.7777777777777778,\"#fb9f3a\"],[0.8888888888888888,\"#fdca26\"],[1.0,\"#f0f921\"]]}],\"surface\":[{\"type\":\"surface\",\"colorbar\":{\"outlinewidth\":0,\"ticks\":\"\"},\"colorscale\":[[0.0,\"#0d0887\"],[0.1111111111111111,\"#46039f\"],[0.2222222222222222,\"#7201a8\"],[0.3333333333333333,\"#9c179e\"],[0.4444444444444444,\"#bd3786\"],[0.5555555555555556,\"#d8576b\"],[0.6666666666666666,\"#ed7953\"],[0.7777777777777778,\"#fb9f3a\"],[0.8888888888888888,\"#fdca26\"],[1.0,\"#f0f921\"]]}],\"mesh3d\":[{\"type\":\"mesh3d\",\"colorbar\":{\"outlinewidth\":0,\"ticks\":\"\"}}],\"scatter\":[{\"fillpattern\":{\"fillmode\":\"overlay\",\"size\":10,\"solidity\":0.2},\"type\":\"scatter\"}],\"parcoords\":[{\"type\":\"parcoords\",\"line\":{\"colorbar\":{\"outlinewidth\":0,\"ticks\":\"\"}}}],\"scatterpolargl\":[{\"type\":\"scatterpolargl\",\"marker\":{\"colorbar\":{\"outlinewidth\":0,\"ticks\":\"\"}}}],\"bar\":[{\"error_x\":{\"color\":\"#2a3f5f\"},\"error_y\":{\"color\":\"#2a3f5f\"},\"marker\":{\"line\":{\"color\":\"#E5ECF6\",\"width\":0.5},\"pattern\":{\"fillmode\":\"overlay\",\"size\":10,\"solidity\":0.2}},\"type\":\"bar\"}],\"scattergeo\":[{\"type\":\"scattergeo\",\"marker\":{\"colorbar\":{\"outlinewidth\":0,\"ticks\":\"\"}}}],\"scatterpolar\":[{\"type\":\"scatterpolar\",\"marker\":{\"colorbar\":{\"outlinewidth\":0,\"ticks\":\"\"}}}],\"histogram\":[{\"marker\":{\"pattern\":{\"fillmode\":\"overlay\",\"size\":10,\"solidity\":0.2}},\"type\":\"histogram\"}],\"scattergl\":[{\"type\":\"scattergl\",\"marker\":{\"colorbar\":{\"outlinewidth\":0,\"ticks\":\"\"}}}],\"scatter3d\":[{\"type\":\"scatter3d\",\"line\":{\"colorbar\":{\"outlinewidth\":0,\"ticks\":\"\"}},\"marker\":{\"colorbar\":{\"outlinewidth\":0,\"ticks\":\"\"}}}],\"scattermapbox\":[{\"type\":\"scattermapbox\",\"marker\":{\"colorbar\":{\"outlinewidth\":0,\"ticks\":\"\"}}}],\"scatterternary\":[{\"type\":\"scatterternary\",\"marker\":{\"colorbar\":{\"outlinewidth\":0,\"ticks\":\"\"}}}],\"scattercarpet\":[{\"type\":\"scattercarpet\",\"marker\":{\"colorbar\":{\"outlinewidth\":0,\"ticks\":\"\"}}}],\"carpet\":[{\"aaxis\":{\"endlinecolor\":\"#2a3f5f\",\"gridcolor\":\"white\",\"linecolor\":\"white\",\"minorgridcolor\":\"white\",\"startlinecolor\":\"#2a3f5f\"},\"baxis\":{\"endlinecolor\":\"#2a3f5f\",\"gridcolor\":\"white\",\"linecolor\":\"white\",\"minorgridcolor\":\"white\",\"startlinecolor\":\"#2a3f5f\"},\"type\":\"carpet\"}],\"table\":[{\"cells\":{\"fill\":{\"color\":\"#EBF0F8\"},\"line\":{\"color\":\"white\"}},\"header\":{\"fill\":{\"color\":\"#C8D4E3\"},\"line\":{\"color\":\"white\"}},\"type\":\"table\"}],\"barpolar\":[{\"marker\":{\"line\":{\"color\":\"#E5ECF6\",\"width\":0.5},\"pattern\":{\"fillmode\":\"overlay\",\"size\":10,\"solidity\":0.2}},\"type\":\"barpolar\"}],\"pie\":[{\"automargin\":true,\"type\":\"pie\"}]},\"layout\":{\"autotypenumbers\":\"strict\",\"colorway\":[\"#636efa\",\"#EF553B\",\"#00cc96\",\"#ab63fa\",\"#FFA15A\",\"#19d3f3\",\"#FF6692\",\"#B6E880\",\"#FF97FF\",\"#FECB52\"],\"font\":{\"color\":\"#2a3f5f\"},\"hovermode\":\"closest\",\"hoverlabel\":{\"align\":\"left\"},\"paper_bgcolor\":\"white\",\"plot_bgcolor\":\"#E5ECF6\",\"polar\":{\"bgcolor\":\"#E5ECF6\",\"angularaxis\":{\"gridcolor\":\"white\",\"linecolor\":\"white\",\"ticks\":\"\"},\"radialaxis\":{\"gridcolor\":\"white\",\"linecolor\":\"white\",\"ticks\":\"\"}},\"ternary\":{\"bgcolor\":\"#E5ECF6\",\"aaxis\":{\"gridcolor\":\"white\",\"linecolor\":\"white\",\"ticks\":\"\"},\"baxis\":{\"gridcolor\":\"white\",\"linecolor\":\"white\",\"ticks\":\"\"},\"caxis\":{\"gridcolor\":\"white\",\"linecolor\":\"white\",\"ticks\":\"\"}},\"coloraxis\":{\"colorbar\":{\"outlinewidth\":0,\"ticks\":\"\"}},\"colorscale\":{\"sequential\":[[0.0,\"#0d0887\"],[0.1111111111111111,\"#46039f\"],[0.2222222222222222,\"#7201a8\"],[0.3333333333333333,\"#9c179e\"],[0.4444444444444444,\"#bd3786\"],[0.5555555555555556,\"#d8576b\"],[0.6666666666666666,\"#ed7953\"],[0.7777777777777778,\"#fb9f3a\"],[0.8888888888888888,\"#fdca26\"],[1.0,\"#f0f921\"]],\"sequentialminus\":[[0.0,\"#0d0887\"],[0.1111111111111111,\"#46039f\"],[0.2222222222222222,\"#7201a8\"],[0.3333333333333333,\"#9c179e\"],[0.4444444444444444,\"#bd3786\"],[0.5555555555555556,\"#d8576b\"],[0.6666666666666666,\"#ed7953\"],[0.7777777777777778,\"#fb9f3a\"],[0.8888888888888888,\"#fdca26\"],[1.0,\"#f0f921\"]],\"diverging\":[[0,\"#8e0152\"],[0.1,\"#c51b7d\"],[0.2,\"#de77ae\"],[0.3,\"#f1b6da\"],[0.4,\"#fde0ef\"],[0.5,\"#f7f7f7\"],[0.6,\"#e6f5d0\"],[0.7,\"#b8e186\"],[0.8,\"#7fbc41\"],[0.9,\"#4d9221\"],[1,\"#276419\"]]},\"xaxis\":{\"gridcolor\":\"white\",\"linecolor\":\"white\",\"ticks\":\"\",\"title\":{\"standoff\":15},\"zerolinecolor\":\"white\",\"automargin\":true,\"zerolinewidth\":2},\"yaxis\":{\"gridcolor\":\"white\",\"linecolor\":\"white\",\"ticks\":\"\",\"title\":{\"standoff\":15},\"zerolinecolor\":\"white\",\"automargin\":true,\"zerolinewidth\":2},\"scene\":{\"xaxis\":{\"backgroundcolor\":\"#E5ECF6\",\"gridcolor\":\"white\",\"linecolor\":\"white\",\"showbackground\":true,\"ticks\":\"\",\"zerolinecolor\":\"white\",\"gridwidth\":2},\"yaxis\":{\"backgroundcolor\":\"#E5ECF6\",\"gridcolor\":\"white\",\"linecolor\":\"white\",\"showbackground\":true,\"ticks\":\"\",\"zerolinecolor\":\"white\",\"gridwidth\":2},\"zaxis\":{\"backgroundcolor\":\"#E5ECF6\",\"gridcolor\":\"white\",\"linecolor\":\"white\",\"showbackground\":true,\"ticks\":\"\",\"zerolinecolor\":\"white\",\"gridwidth\":2}},\"shapedefaults\":{\"line\":{\"color\":\"#2a3f5f\"}},\"annotationdefaults\":{\"arrowcolor\":\"#2a3f5f\",\"arrowhead\":0,\"arrowwidth\":1},\"geo\":{\"bgcolor\":\"white\",\"landcolor\":\"#E5ECF6\",\"subunitcolor\":\"white\",\"showland\":true,\"showlakes\":true,\"lakecolor\":\"white\"},\"title\":{\"x\":0.05},\"mapbox\":{\"style\":\"light\"}}},\"xaxis\":{\"title\":{\"text\":\"max_depth\"},\"range\":[7.5,62.5]},\"yaxis\":{\"title\":{\"text\":\"n_estimators\"},\"range\":[-4.5,314.5]}},                        {\"responsive\": true}                    ).then(function(){\n",
       "                            \n",
       "var gd = document.getElementById('58b49631-7cbe-4370-b166-2e7c6d7ab43d');\n",
       "var x = new MutationObserver(function (mutations, observer) {{\n",
       "        var display = window.getComputedStyle(gd).display;\n",
       "        if (!display || display === 'none') {{\n",
       "            console.log([gd, 'removed!']);\n",
       "            Plotly.purge(gd);\n",
       "            observer.disconnect();\n",
       "        }}\n",
       "}});\n",
       "\n",
       "// Listen for the removal of the full notebook cells\n",
       "var notebookContainer = gd.closest('#notebook-container');\n",
       "if (notebookContainer) {{\n",
       "    x.observe(notebookContainer, {childList: true});\n",
       "}}\n",
       "\n",
       "// Listen for the clearing of the current output cell\n",
       "var outputEl = gd.closest('.output');\n",
       "if (outputEl) {{\n",
       "    x.observe(outputEl, {childList: true});\n",
       "}}\n",
       "\n",
       "                        })                };                });            </script>        </div>"
      ]
     },
     "metadata": {},
     "output_type": "display_data"
    }
   ],
   "source": [
    "plot_contour(study)"
   ]
  },
  {
   "cell_type": "code",
   "execution_count": 282,
   "id": "497e096d-28f9-4ec4-817c-ef3a7c47f347",
   "metadata": {
    "tags": []
   },
   "outputs": [
    {
     "name": "stderr",
     "output_type": "stream",
     "text": [
      "/tmp/ipykernel_21/3430271029.py:1: ExperimentalWarning:\n",
      "\n",
      "plot_rank is experimental (supported from v3.2.0). The interface can change in the future.\n",
      "\n"
     ]
    },
    {
     "data": {
      "application/vnd.plotly.v1+json": {
       "config": {
        "plotlyServerURL": "https://plot.ly"
       },
       "data": [
        {
         "hovertemplate": "%{hovertext}<extra></extra>",
         "hovertext": [
          "Trial #0<br>n_estimators: 300<br>max_depth: 30<br><b>Objective Value: 1374.2441946210758</b>",
          "Trial #1<br>n_estimators: 100<br>max_depth: 30<br><b>Objective Value: 1336.0097627302973</b>",
          "Trial #2<br>n_estimators: 10<br>max_depth: 50<br><b>Objective Value: 1414.3189436619718</b>",
          "Trial #3<br>n_estimators: 10<br>max_depth: 30<br><b>Objective Value: 1454.9891551951528</b>",
          "Trial #4<br>n_estimators: 100<br>max_depth: 30<br><b>Objective Value: 1342.944115523445</b>",
          "Trial #5<br>n_estimators: 100<br>max_depth: 20<br><b>Objective Value: 1352.7364048238924</b>",
          "Trial #6<br>n_estimators: 200<br>max_depth: 50<br><b>Objective Value: 1344.4612165492958</b>",
          "Trial #7<br>n_estimators: 200<br>max_depth: 30<br><b>Objective Value: 1334.0554938376997</b>",
          "Trial #8<br>n_estimators: 100<br>max_depth: 20<br><b>Objective Value: 1354.5768653995444</b>",
          "Trial #9<br>n_estimators: 300<br>max_depth: 60<br><b>Objective Value: 1329.0933198748046</b>",
          "Trial #10<br>n_estimators: 300<br>max_depth: 60<br><b>Objective Value: 1357.8794517996869</b>",
          "Trial #11<br>n_estimators: 50<br>max_depth: 10<br><b>Objective Value: 1420.2143521972232</b>",
          "Trial #12<br>n_estimators: 200<br>max_depth: 60<br><b>Objective Value: 1357.3576214788734</b>",
          "Trial #13<br>n_estimators: 200<br>max_depth: 40<br><b>Objective Value: 1377.553129699726</b>",
          "Trial #14<br>n_estimators: 300<br>max_depth: 60<br><b>Objective Value: 1379.8916290297338</b>",
          "Trial #15<br>n_estimators: 50<br>max_depth: 40<br><b>Objective Value: 1342.0447283271055</b>",
          "Trial #16<br>n_estimators: 300<br>max_depth: 60<br><b>Objective Value: 1347.8865722222222</b>",
          "Trial #17<br>n_estimators: 200<br>max_depth: 30<br><b>Objective Value: 1368.483785534519</b>",
          "Trial #18<br>n_estimators: 200<br>max_depth: 10<br><b>Objective Value: 1390.972914476494</b>",
          "Trial #19<br>n_estimators: 300<br>max_depth: 60<br><b>Objective Value: 1371.5797899061033</b>",
          "Trial #20<br>n_estimators: 10<br>max_depth: 50<br><b>Objective Value: 1348.3401408450704</b>",
          "Trial #21<br>n_estimators: 100<br>max_depth: 30<br><b>Objective Value: 1362.3040547368803</b>",
          "Trial #22<br>n_estimators: 100<br>max_depth: 30<br><b>Objective Value: 1341.9232318622178</b>",
          "Trial #23<br>n_estimators: 50<br>max_depth: 30<br><b>Objective Value: 1398.5995890890606</b>",
          "Trial #24<br>n_estimators: 200<br>max_depth: 30<br><b>Objective Value: 1335.5587693377724</b>",
          "Trial #25<br>n_estimators: 200<br>max_depth: 40<br><b>Objective Value: 1347.4706269231708</b>",
          "Trial #26<br>n_estimators: 200<br>max_depth: 10<br><b>Objective Value: 1415.495756150739</b>",
          "Trial #27<br>n_estimators: 200<br>max_depth: 20<br><b>Objective Value: 1340.1457327600967</b>",
          "Trial #28<br>n_estimators: 300<br>max_depth: 60<br><b>Objective Value: 1348.4615033646323</b>",
          "Trial #29<br>n_estimators: 300<br>max_depth: 30<br><b>Objective Value: 1360.5186658628659</b>",
          "Trial #30<br>n_estimators: 200<br>max_depth: 30<br><b>Objective Value: 1361.5053733761365</b>",
          "Trial #31<br>n_estimators: 100<br>max_depth: 30<br><b>Objective Value: 1382.1626421928065</b>",
          "Trial #32<br>n_estimators: 10<br>max_depth: 30<br><b>Objective Value: 1469.1904894384554</b>",
          "Trial #33<br>n_estimators: 200<br>max_depth: 30<br><b>Objective Value: 1369.9511898258643</b>",
          "Trial #34<br>n_estimators: 100<br>max_depth: 30<br><b>Objective Value: 1350.3413600281617</b>",
          "Trial #35<br>n_estimators: 10<br>max_depth: 50<br><b>Objective Value: 1516.04838028169</b>",
          "Trial #36<br>n_estimators: 300<br>max_depth: 30<br><b>Objective Value: 1342.4050962336812</b>",
          "Trial #37<br>n_estimators: 100<br>max_depth: 20<br><b>Objective Value: 1384.55602155417</b>",
          "Trial #38<br>n_estimators: 200<br>max_depth: 30<br><b>Objective Value: 1359.2593136828089</b>",
          "Trial #39<br>n_estimators: 50<br>max_depth: 60<br><b>Objective Value: 1380.7695014084507</b>",
          "Trial #40<br>n_estimators: 100<br>max_depth: 50<br><b>Objective Value: 1353.0018943661973</b>",
          "Trial #41<br>n_estimators: 200<br>max_depth: 20<br><b>Objective Value: 1343.2452846216233</b>",
          "Trial #42<br>n_estimators: 200<br>max_depth: 20<br><b>Objective Value: 1334.0506124563847</b>",
          "Trial #43<br>n_estimators: 200<br>max_depth: 20<br><b>Objective Value: 1346.9479648540528</b>",
          "Trial #44<br>n_estimators: 200<br>max_depth: 20<br><b>Objective Value: 1364.5713465174679</b>",
          "Trial #45<br>n_estimators: 200<br>max_depth: 40<br><b>Objective Value: 1350.5673003380161</b>",
          "Trial #46<br>n_estimators: 300<br>max_depth: 10<br><b>Objective Value: 1394.4100140917883</b>",
          "Trial #47<br>n_estimators: 200<br>max_depth: 60<br><b>Objective Value: 1331.044214964789</b>",
          "Trial #48<br>n_estimators: 200<br>max_depth: 60<br><b>Objective Value: 1370.063700528169</b>",
          "Trial #49<br>n_estimators: 200<br>max_depth: 60<br><b>Objective Value: 1371.9656985915494</b>"
         ],
         "marker": {
          "color": [
           "rgb(252.0, 165.0, 93.0)",
           "rgb(70.0, 118.0, 181.0)",
           "rgb(216.0, 49.0, 40.0)",
           "rgb(185.0, 20.0, 38.0)",
           "rgb(118.0, 175.0, 210.0)",
           "rgb(227.0, 244.0, 243.0)",
           "rgb(141.0, 193.0, 220.0)",
           "rgb(61.0, 93.0, 168.0)",
           "rgb(239.0, 249.0, 220.0)",
           "rgb(49.0, 54.0, 149.0)",
           "rgb(252.0, 254.0, 197.0)",
           "rgb(196.0, 29.0, 39.0)",
           "rgb(246.0, 251.0, 208.0)",
           "rgb(250.0, 151.0, 87.0)",
           "rgb(248.0, 138.0, 80.0)",
           "rgb(99.0, 152.0, 198.0)",
           "rgb(174.0, 219.0, 234.0)",
           "rgb(254.0, 218.0, 138.0)",
           "rgb(233.0, 87.0, 57.0)",
           "rgb(253.0, 187.0, 109.0)",
           "rgb(185.0, 224.0, 237.0)",
           "rgb(254.0, 233.0, 157.0)",
           "rgb(89.0, 141.0, 192.0)",
           "rgb(222.0, 62.0, 45.0)",
           "rgb(65.0, 105.0, 174.0)",
           "rgb(163.0, 211.0, 230.0)",
           "rgb(206.0, 39.0, 39.0)",
           "rgb(80.0, 130.0, 187.0)",
           "rgb(196.0, 229.0, 240.0)",
           "rgb(255.0, 246.0, 177.0)",
           "rgb(254.0, 239.0, 167.0)",
           "rgb(244.0, 112.0, 68.0)",
           "rgb(175.0, 10.0, 38.0)",
           "rgb(254.0, 208.0, 129.0)",
           "rgb(207.0, 235.0, 243.0)",
           "rgb(165.0, 0.0, 38.0)",
           "rgb(108.0, 164.0, 204.0)",
           "rgb(239.0, 99.0, 62.0)",
           "rgb(255.0, 252.0, 186.0)",
           "rgb(246.0, 125.0, 74.0)",
           "rgb(233.0, 246.0, 232.0)",
           "rgb(129.0, 184.0, 215.0)",
           "rgb(57.0, 80.0, 162.0)",
           "rgb(152.0, 202.0, 225.0)",
           "rgb(254.0, 227.0, 148.0)",
           "rgb(218.0, 240.0, 246.0)",
           "rgb(227.0, 74.0, 51.0)",
           "rgb(53.0, 67.0, 155.0)",
           "rgb(253.0, 197.0, 119.0)",
           "rgb(253.0, 177.0, 100.0)"
          ],
          "line": {
           "color": "Grey",
           "width": 0.5
          }
         },
         "mode": "markers",
         "showlegend": false,
         "type": "scatter",
         "x": [
          30,
          30,
          50,
          30,
          30,
          20,
          50,
          30,
          20,
          60,
          60,
          10,
          60,
          40,
          60,
          40,
          60,
          30,
          10,
          60,
          50,
          30,
          30,
          30,
          30,
          40,
          10,
          20,
          60,
          30,
          30,
          30,
          30,
          30,
          30,
          50,
          30,
          20,
          30,
          60,
          50,
          20,
          20,
          20,
          20,
          40,
          10,
          60,
          60,
          60
         ],
         "y": [
          300,
          100,
          10,
          10,
          100,
          100,
          200,
          200,
          100,
          300,
          300,
          50,
          200,
          200,
          300,
          50,
          300,
          200,
          200,
          300,
          10,
          100,
          100,
          50,
          200,
          200,
          200,
          200,
          300,
          300,
          200,
          100,
          10,
          200,
          100,
          10,
          300,
          100,
          200,
          50,
          100,
          200,
          200,
          200,
          200,
          200,
          300,
          200,
          200,
          200
         ]
        },
        {
         "hoverinfo": "none",
         "marker": {
          "cmax": 1,
          "cmin": 0,
          "colorbar": {
           "thickness": 10,
           "ticktext": [
            "min. (1329.09)",
            "25% (1345.08)",
            "50% (1358.57)",
            "75% (1379.31)",
            "max. (1516.05)"
           ],
           "tickvals": [
            0,
            0.25,
            0.5,
            0.75,
            1
           ]
          },
          "colorscale": [
           [
            0,
            "rgb(49,54,149)"
           ],
           [
            0.1,
            "rgb(69,117,180)"
           ],
           [
            0.2,
            "rgb(116,173,209)"
           ],
           [
            0.3,
            "rgb(171,217,233)"
           ],
           [
            0.4,
            "rgb(224,243,248)"
           ],
           [
            0.5,
            "rgb(255,255,191)"
           ],
           [
            0.6,
            "rgb(254,224,144)"
           ],
           [
            0.7,
            "rgb(253,174,97)"
           ],
           [
            0.8,
            "rgb(244,109,67)"
           ],
           [
            0.9,
            "rgb(215,48,39)"
           ],
           [
            1,
            "rgb(165,0,38)"
           ]
          ],
          "showscale": true
         },
         "mode": "markers",
         "showlegend": false,
         "type": "scatter",
         "x": [
          null
         ],
         "y": [
          null
         ]
        }
       ],
       "layout": {
        "autosize": true,
        "template": {
         "data": {
          "bar": [
           {
            "error_x": {
             "color": "#2a3f5f"
            },
            "error_y": {
             "color": "#2a3f5f"
            },
            "marker": {
             "line": {
              "color": "#E5ECF6",
              "width": 0.5
             },
             "pattern": {
              "fillmode": "overlay",
              "size": 10,
              "solidity": 0.2
             }
            },
            "type": "bar"
           }
          ],
          "barpolar": [
           {
            "marker": {
             "line": {
              "color": "#E5ECF6",
              "width": 0.5
             },
             "pattern": {
              "fillmode": "overlay",
              "size": 10,
              "solidity": 0.2
             }
            },
            "type": "barpolar"
           }
          ],
          "carpet": [
           {
            "aaxis": {
             "endlinecolor": "#2a3f5f",
             "gridcolor": "white",
             "linecolor": "white",
             "minorgridcolor": "white",
             "startlinecolor": "#2a3f5f"
            },
            "baxis": {
             "endlinecolor": "#2a3f5f",
             "gridcolor": "white",
             "linecolor": "white",
             "minorgridcolor": "white",
             "startlinecolor": "#2a3f5f"
            },
            "type": "carpet"
           }
          ],
          "choropleth": [
           {
            "colorbar": {
             "outlinewidth": 0,
             "ticks": ""
            },
            "type": "choropleth"
           }
          ],
          "contour": [
           {
            "colorbar": {
             "outlinewidth": 0,
             "ticks": ""
            },
            "colorscale": [
             [
              0,
              "#0d0887"
             ],
             [
              0.1111111111111111,
              "#46039f"
             ],
             [
              0.2222222222222222,
              "#7201a8"
             ],
             [
              0.3333333333333333,
              "#9c179e"
             ],
             [
              0.4444444444444444,
              "#bd3786"
             ],
             [
              0.5555555555555556,
              "#d8576b"
             ],
             [
              0.6666666666666666,
              "#ed7953"
             ],
             [
              0.7777777777777778,
              "#fb9f3a"
             ],
             [
              0.8888888888888888,
              "#fdca26"
             ],
             [
              1,
              "#f0f921"
             ]
            ],
            "type": "contour"
           }
          ],
          "contourcarpet": [
           {
            "colorbar": {
             "outlinewidth": 0,
             "ticks": ""
            },
            "type": "contourcarpet"
           }
          ],
          "heatmap": [
           {
            "colorbar": {
             "outlinewidth": 0,
             "ticks": ""
            },
            "colorscale": [
             [
              0,
              "#0d0887"
             ],
             [
              0.1111111111111111,
              "#46039f"
             ],
             [
              0.2222222222222222,
              "#7201a8"
             ],
             [
              0.3333333333333333,
              "#9c179e"
             ],
             [
              0.4444444444444444,
              "#bd3786"
             ],
             [
              0.5555555555555556,
              "#d8576b"
             ],
             [
              0.6666666666666666,
              "#ed7953"
             ],
             [
              0.7777777777777778,
              "#fb9f3a"
             ],
             [
              0.8888888888888888,
              "#fdca26"
             ],
             [
              1,
              "#f0f921"
             ]
            ],
            "type": "heatmap"
           }
          ],
          "heatmapgl": [
           {
            "colorbar": {
             "outlinewidth": 0,
             "ticks": ""
            },
            "colorscale": [
             [
              0,
              "#0d0887"
             ],
             [
              0.1111111111111111,
              "#46039f"
             ],
             [
              0.2222222222222222,
              "#7201a8"
             ],
             [
              0.3333333333333333,
              "#9c179e"
             ],
             [
              0.4444444444444444,
              "#bd3786"
             ],
             [
              0.5555555555555556,
              "#d8576b"
             ],
             [
              0.6666666666666666,
              "#ed7953"
             ],
             [
              0.7777777777777778,
              "#fb9f3a"
             ],
             [
              0.8888888888888888,
              "#fdca26"
             ],
             [
              1,
              "#f0f921"
             ]
            ],
            "type": "heatmapgl"
           }
          ],
          "histogram": [
           {
            "marker": {
             "pattern": {
              "fillmode": "overlay",
              "size": 10,
              "solidity": 0.2
             }
            },
            "type": "histogram"
           }
          ],
          "histogram2d": [
           {
            "colorbar": {
             "outlinewidth": 0,
             "ticks": ""
            },
            "colorscale": [
             [
              0,
              "#0d0887"
             ],
             [
              0.1111111111111111,
              "#46039f"
             ],
             [
              0.2222222222222222,
              "#7201a8"
             ],
             [
              0.3333333333333333,
              "#9c179e"
             ],
             [
              0.4444444444444444,
              "#bd3786"
             ],
             [
              0.5555555555555556,
              "#d8576b"
             ],
             [
              0.6666666666666666,
              "#ed7953"
             ],
             [
              0.7777777777777778,
              "#fb9f3a"
             ],
             [
              0.8888888888888888,
              "#fdca26"
             ],
             [
              1,
              "#f0f921"
             ]
            ],
            "type": "histogram2d"
           }
          ],
          "histogram2dcontour": [
           {
            "colorbar": {
             "outlinewidth": 0,
             "ticks": ""
            },
            "colorscale": [
             [
              0,
              "#0d0887"
             ],
             [
              0.1111111111111111,
              "#46039f"
             ],
             [
              0.2222222222222222,
              "#7201a8"
             ],
             [
              0.3333333333333333,
              "#9c179e"
             ],
             [
              0.4444444444444444,
              "#bd3786"
             ],
             [
              0.5555555555555556,
              "#d8576b"
             ],
             [
              0.6666666666666666,
              "#ed7953"
             ],
             [
              0.7777777777777778,
              "#fb9f3a"
             ],
             [
              0.8888888888888888,
              "#fdca26"
             ],
             [
              1,
              "#f0f921"
             ]
            ],
            "type": "histogram2dcontour"
           }
          ],
          "mesh3d": [
           {
            "colorbar": {
             "outlinewidth": 0,
             "ticks": ""
            },
            "type": "mesh3d"
           }
          ],
          "parcoords": [
           {
            "line": {
             "colorbar": {
              "outlinewidth": 0,
              "ticks": ""
             }
            },
            "type": "parcoords"
           }
          ],
          "pie": [
           {
            "automargin": true,
            "type": "pie"
           }
          ],
          "scatter": [
           {
            "fillpattern": {
             "fillmode": "overlay",
             "size": 10,
             "solidity": 0.2
            },
            "type": "scatter"
           }
          ],
          "scatter3d": [
           {
            "line": {
             "colorbar": {
              "outlinewidth": 0,
              "ticks": ""
             }
            },
            "marker": {
             "colorbar": {
              "outlinewidth": 0,
              "ticks": ""
             }
            },
            "type": "scatter3d"
           }
          ],
          "scattercarpet": [
           {
            "marker": {
             "colorbar": {
              "outlinewidth": 0,
              "ticks": ""
             }
            },
            "type": "scattercarpet"
           }
          ],
          "scattergeo": [
           {
            "marker": {
             "colorbar": {
              "outlinewidth": 0,
              "ticks": ""
             }
            },
            "type": "scattergeo"
           }
          ],
          "scattergl": [
           {
            "marker": {
             "colorbar": {
              "outlinewidth": 0,
              "ticks": ""
             }
            },
            "type": "scattergl"
           }
          ],
          "scattermapbox": [
           {
            "marker": {
             "colorbar": {
              "outlinewidth": 0,
              "ticks": ""
             }
            },
            "type": "scattermapbox"
           }
          ],
          "scatterpolar": [
           {
            "marker": {
             "colorbar": {
              "outlinewidth": 0,
              "ticks": ""
             }
            },
            "type": "scatterpolar"
           }
          ],
          "scatterpolargl": [
           {
            "marker": {
             "colorbar": {
              "outlinewidth": 0,
              "ticks": ""
             }
            },
            "type": "scatterpolargl"
           }
          ],
          "scatterternary": [
           {
            "marker": {
             "colorbar": {
              "outlinewidth": 0,
              "ticks": ""
             }
            },
            "type": "scatterternary"
           }
          ],
          "surface": [
           {
            "colorbar": {
             "outlinewidth": 0,
             "ticks": ""
            },
            "colorscale": [
             [
              0,
              "#0d0887"
             ],
             [
              0.1111111111111111,
              "#46039f"
             ],
             [
              0.2222222222222222,
              "#7201a8"
             ],
             [
              0.3333333333333333,
              "#9c179e"
             ],
             [
              0.4444444444444444,
              "#bd3786"
             ],
             [
              0.5555555555555556,
              "#d8576b"
             ],
             [
              0.6666666666666666,
              "#ed7953"
             ],
             [
              0.7777777777777778,
              "#fb9f3a"
             ],
             [
              0.8888888888888888,
              "#fdca26"
             ],
             [
              1,
              "#f0f921"
             ]
            ],
            "type": "surface"
           }
          ],
          "table": [
           {
            "cells": {
             "fill": {
              "color": "#EBF0F8"
             },
             "line": {
              "color": "white"
             }
            },
            "header": {
             "fill": {
              "color": "#C8D4E3"
             },
             "line": {
              "color": "white"
             }
            },
            "type": "table"
           }
          ]
         },
         "layout": {
          "annotationdefaults": {
           "arrowcolor": "#2a3f5f",
           "arrowhead": 0,
           "arrowwidth": 1
          },
          "autotypenumbers": "strict",
          "coloraxis": {
           "colorbar": {
            "outlinewidth": 0,
            "ticks": ""
           }
          },
          "colorscale": {
           "diverging": [
            [
             0,
             "#8e0152"
            ],
            [
             0.1,
             "#c51b7d"
            ],
            [
             0.2,
             "#de77ae"
            ],
            [
             0.3,
             "#f1b6da"
            ],
            [
             0.4,
             "#fde0ef"
            ],
            [
             0.5,
             "#f7f7f7"
            ],
            [
             0.6,
             "#e6f5d0"
            ],
            [
             0.7,
             "#b8e186"
            ],
            [
             0.8,
             "#7fbc41"
            ],
            [
             0.9,
             "#4d9221"
            ],
            [
             1,
             "#276419"
            ]
           ],
           "sequential": [
            [
             0,
             "#0d0887"
            ],
            [
             0.1111111111111111,
             "#46039f"
            ],
            [
             0.2222222222222222,
             "#7201a8"
            ],
            [
             0.3333333333333333,
             "#9c179e"
            ],
            [
             0.4444444444444444,
             "#bd3786"
            ],
            [
             0.5555555555555556,
             "#d8576b"
            ],
            [
             0.6666666666666666,
             "#ed7953"
            ],
            [
             0.7777777777777778,
             "#fb9f3a"
            ],
            [
             0.8888888888888888,
             "#fdca26"
            ],
            [
             1,
             "#f0f921"
            ]
           ],
           "sequentialminus": [
            [
             0,
             "#0d0887"
            ],
            [
             0.1111111111111111,
             "#46039f"
            ],
            [
             0.2222222222222222,
             "#7201a8"
            ],
            [
             0.3333333333333333,
             "#9c179e"
            ],
            [
             0.4444444444444444,
             "#bd3786"
            ],
            [
             0.5555555555555556,
             "#d8576b"
            ],
            [
             0.6666666666666666,
             "#ed7953"
            ],
            [
             0.7777777777777778,
             "#fb9f3a"
            ],
            [
             0.8888888888888888,
             "#fdca26"
            ],
            [
             1,
             "#f0f921"
            ]
           ]
          },
          "colorway": [
           "#636efa",
           "#EF553B",
           "#00cc96",
           "#ab63fa",
           "#FFA15A",
           "#19d3f3",
           "#FF6692",
           "#B6E880",
           "#FF97FF",
           "#FECB52"
          ],
          "font": {
           "color": "#2a3f5f"
          },
          "geo": {
           "bgcolor": "white",
           "lakecolor": "white",
           "landcolor": "#E5ECF6",
           "showlakes": true,
           "showland": true,
           "subunitcolor": "white"
          },
          "hoverlabel": {
           "align": "left"
          },
          "hovermode": "closest",
          "mapbox": {
           "style": "light"
          },
          "paper_bgcolor": "white",
          "plot_bgcolor": "#E5ECF6",
          "polar": {
           "angularaxis": {
            "gridcolor": "white",
            "linecolor": "white",
            "ticks": ""
           },
           "bgcolor": "#E5ECF6",
           "radialaxis": {
            "gridcolor": "white",
            "linecolor": "white",
            "ticks": ""
           }
          },
          "scene": {
           "xaxis": {
            "backgroundcolor": "#E5ECF6",
            "gridcolor": "white",
            "gridwidth": 2,
            "linecolor": "white",
            "showbackground": true,
            "ticks": "",
            "zerolinecolor": "white"
           },
           "yaxis": {
            "backgroundcolor": "#E5ECF6",
            "gridcolor": "white",
            "gridwidth": 2,
            "linecolor": "white",
            "showbackground": true,
            "ticks": "",
            "zerolinecolor": "white"
           },
           "zaxis": {
            "backgroundcolor": "#E5ECF6",
            "gridcolor": "white",
            "gridwidth": 2,
            "linecolor": "white",
            "showbackground": true,
            "ticks": "",
            "zerolinecolor": "white"
           }
          },
          "shapedefaults": {
           "line": {
            "color": "#2a3f5f"
           }
          },
          "ternary": {
           "aaxis": {
            "gridcolor": "white",
            "linecolor": "white",
            "ticks": ""
           },
           "baxis": {
            "gridcolor": "white",
            "linecolor": "white",
            "ticks": ""
           },
           "bgcolor": "#E5ECF6",
           "caxis": {
            "gridcolor": "white",
            "linecolor": "white",
            "ticks": ""
           }
          },
          "title": {
           "x": 0.05
          },
          "xaxis": {
           "automargin": true,
           "gridcolor": "white",
           "linecolor": "white",
           "ticks": "",
           "title": {
            "standoff": 15
           },
           "zerolinecolor": "white",
           "zerolinewidth": 2
          },
          "yaxis": {
           "automargin": true,
           "gridcolor": "white",
           "linecolor": "white",
           "ticks": "",
           "title": {
            "standoff": 15
           },
           "zerolinecolor": "white",
           "zerolinewidth": 2
          }
         }
        },
        "title": {
         "text": "Rank (Objective Value)"
        },
        "xaxis": {
         "range": [
          7.5,
          62.5
         ],
         "title": {
          "text": "max_depth"
         },
         "type": "linear"
        },
        "yaxis": {
         "range": [
          -4.5,
          314.5
         ],
         "title": {
          "text": "n_estimators"
         },
         "type": "linear"
        }
       }
      },
      "image/png": "[encoded data removed]",
      "text/html": [
       "<div>                            <div id=\"d846c84a-96a4-4676-abfc-8f47e94c8ef9\" class=\"plotly-graph-div\" style=\"height:525px; width:100%;\"></div>            <script type=\"text/javascript\">                require([\"plotly\"], function(Plotly) {                    window.PLOTLYENV=window.PLOTLYENV || {};                                    if (document.getElementById(\"d846c84a-96a4-4676-abfc-8f47e94c8ef9\")) {                    Plotly.newPlot(                        \"d846c84a-96a4-4676-abfc-8f47e94c8ef9\",                        [{\"hovertemplate\":\"%{hovertext}\\u003cextra\\u003e\\u003c\\u002fextra\\u003e\",\"hovertext\":[\"Trial #0\\u003cbr\\u003en_estimators: 300\\u003cbr\\u003emax_depth: 30\\u003cbr\\u003e\\u003cb\\u003eObjective Value: 1374.2441946210758\\u003c\\u002fb\\u003e\",\"Trial #1\\u003cbr\\u003en_estimators: 100\\u003cbr\\u003emax_depth: 30\\u003cbr\\u003e\\u003cb\\u003eObjective Value: 1336.0097627302973\\u003c\\u002fb\\u003e\",\"Trial #2\\u003cbr\\u003en_estimators: 10\\u003cbr\\u003emax_depth: 50\\u003cbr\\u003e\\u003cb\\u003eObjective Value: 1414.3189436619718\\u003c\\u002fb\\u003e\",\"Trial #3\\u003cbr\\u003en_estimators: 10\\u003cbr\\u003emax_depth: 30\\u003cbr\\u003e\\u003cb\\u003eObjective Value: 1454.9891551951528\\u003c\\u002fb\\u003e\",\"Trial #4\\u003cbr\\u003en_estimators: 100\\u003cbr\\u003emax_depth: 30\\u003cbr\\u003e\\u003cb\\u003eObjective Value: 1342.944115523445\\u003c\\u002fb\\u003e\",\"Trial #5\\u003cbr\\u003en_estimators: 100\\u003cbr\\u003emax_depth: 20\\u003cbr\\u003e\\u003cb\\u003eObjective Value: 1352.7364048238924\\u003c\\u002fb\\u003e\",\"Trial #6\\u003cbr\\u003en_estimators: 200\\u003cbr\\u003emax_depth: 50\\u003cbr\\u003e\\u003cb\\u003eObjective Value: 1344.4612165492958\\u003c\\u002fb\\u003e\",\"Trial #7\\u003cbr\\u003en_estimators: 200\\u003cbr\\u003emax_depth: 30\\u003cbr\\u003e\\u003cb\\u003eObjective Value: 1334.0554938376997\\u003c\\u002fb\\u003e\",\"Trial #8\\u003cbr\\u003en_estimators: 100\\u003cbr\\u003emax_depth: 20\\u003cbr\\u003e\\u003cb\\u003eObjective Value: 1354.5768653995444\\u003c\\u002fb\\u003e\",\"Trial #9\\u003cbr\\u003en_estimators: 300\\u003cbr\\u003emax_depth: 60\\u003cbr\\u003e\\u003cb\\u003eObjective Value: 1329.0933198748046\\u003c\\u002fb\\u003e\",\"Trial #10\\u003cbr\\u003en_estimators: 300\\u003cbr\\u003emax_depth: 60\\u003cbr\\u003e\\u003cb\\u003eObjective Value: 1357.8794517996869\\u003c\\u002fb\\u003e\",\"Trial #11\\u003cbr\\u003en_estimators: 50\\u003cbr\\u003emax_depth: 10\\u003cbr\\u003e\\u003cb\\u003eObjective Value: 1420.2143521972232\\u003c\\u002fb\\u003e\",\"Trial #12\\u003cbr\\u003en_estimators: 200\\u003cbr\\u003emax_depth: 60\\u003cbr\\u003e\\u003cb\\u003eObjective Value: 1357.3576214788734\\u003c\\u002fb\\u003e\",\"Trial #13\\u003cbr\\u003en_estimators: 200\\u003cbr\\u003emax_depth: 40\\u003cbr\\u003e\\u003cb\\u003eObjective Value: 1377.553129699726\\u003c\\u002fb\\u003e\",\"Trial #14\\u003cbr\\u003en_estimators: 300\\u003cbr\\u003emax_depth: 60\\u003cbr\\u003e\\u003cb\\u003eObjective Value: 1379.8916290297338\\u003c\\u002fb\\u003e\",\"Trial #15\\u003cbr\\u003en_estimators: 50\\u003cbr\\u003emax_depth: 40\\u003cbr\\u003e\\u003cb\\u003eObjective Value: 1342.0447283271055\\u003c\\u002fb\\u003e\",\"Trial #16\\u003cbr\\u003en_estimators: 300\\u003cbr\\u003emax_depth: 60\\u003cbr\\u003e\\u003cb\\u003eObjective Value: 1347.8865722222222\\u003c\\u002fb\\u003e\",\"Trial #17\\u003cbr\\u003en_estimators: 200\\u003cbr\\u003emax_depth: 30\\u003cbr\\u003e\\u003cb\\u003eObjective Value: 1368.483785534519\\u003c\\u002fb\\u003e\",\"Trial #18\\u003cbr\\u003en_estimators: 200\\u003cbr\\u003emax_depth: 10\\u003cbr\\u003e\\u003cb\\u003eObjective Value: 1390.972914476494\\u003c\\u002fb\\u003e\",\"Trial #19\\u003cbr\\u003en_estimators: 300\\u003cbr\\u003emax_depth: 60\\u003cbr\\u003e\\u003cb\\u003eObjective Value: 1371.5797899061033\\u003c\\u002fb\\u003e\",\"Trial #20\\u003cbr\\u003en_estimators: 10\\u003cbr\\u003emax_depth: 50\\u003cbr\\u003e\\u003cb\\u003eObjective Value: 1348.3401408450704\\u003c\\u002fb\\u003e\",\"Trial #21\\u003cbr\\u003en_estimators: 100\\u003cbr\\u003emax_depth: 30\\u003cbr\\u003e\\u003cb\\u003eObjective Value: 1362.3040547368803\\u003c\\u002fb\\u003e\",\"Trial #22\\u003cbr\\u003en_estimators: 100\\u003cbr\\u003emax_depth: 30\\u003cbr\\u003e\\u003cb\\u003eObjective Value: 1341.9232318622178\\u003c\\u002fb\\u003e\",\"Trial #23\\u003cbr\\u003en_estimators: 50\\u003cbr\\u003emax_depth: 30\\u003cbr\\u003e\\u003cb\\u003eObjective Value: 1398.5995890890606\\u003c\\u002fb\\u003e\",\"Trial #24\\u003cbr\\u003en_estimators: 200\\u003cbr\\u003emax_depth: 30\\u003cbr\\u003e\\u003cb\\u003eObjective Value: 1335.5587693377724\\u003c\\u002fb\\u003e\",\"Trial #25\\u003cbr\\u003en_estimators: 200\\u003cbr\\u003emax_depth: 40\\u003cbr\\u003e\\u003cb\\u003eObjective Value: 1347.4706269231708\\u003c\\u002fb\\u003e\",\"Trial #26\\u003cbr\\u003en_estimators: 200\\u003cbr\\u003emax_depth: 10\\u003cbr\\u003e\\u003cb\\u003eObjective Value: 1415.495756150739\\u003c\\u002fb\\u003e\",\"Trial #27\\u003cbr\\u003en_estimators: 200\\u003cbr\\u003emax_depth: 20\\u003cbr\\u003e\\u003cb\\u003eObjective Value: 1340.1457327600967\\u003c\\u002fb\\u003e\",\"Trial #28\\u003cbr\\u003en_estimators: 300\\u003cbr\\u003emax_depth: 60\\u003cbr\\u003e\\u003cb\\u003eObjective Value: 1348.4615033646323\\u003c\\u002fb\\u003e\",\"Trial #29\\u003cbr\\u003en_estimators: 300\\u003cbr\\u003emax_depth: 30\\u003cbr\\u003e\\u003cb\\u003eObjective Value: 1360.5186658628659\\u003c\\u002fb\\u003e\",\"Trial #30\\u003cbr\\u003en_estimators: 200\\u003cbr\\u003emax_depth: 30\\u003cbr\\u003e\\u003cb\\u003eObjective Value: 1361.5053733761365\\u003c\\u002fb\\u003e\",\"Trial #31\\u003cbr\\u003en_estimators: 100\\u003cbr\\u003emax_depth: 30\\u003cbr\\u003e\\u003cb\\u003eObjective Value: 1382.1626421928065\\u003c\\u002fb\\u003e\",\"Trial #32\\u003cbr\\u003en_estimators: 10\\u003cbr\\u003emax_depth: 30\\u003cbr\\u003e\\u003cb\\u003eObjective Value: 1469.1904894384554\\u003c\\u002fb\\u003e\",\"Trial #33\\u003cbr\\u003en_estimators: 200\\u003cbr\\u003emax_depth: 30\\u003cbr\\u003e\\u003cb\\u003eObjective Value: 1369.9511898258643\\u003c\\u002fb\\u003e\",\"Trial #34\\u003cbr\\u003en_estimators: 100\\u003cbr\\u003emax_depth: 30\\u003cbr\\u003e\\u003cb\\u003eObjective Value: 1350.3413600281617\\u003c\\u002fb\\u003e\",\"Trial #35\\u003cbr\\u003en_estimators: 10\\u003cbr\\u003emax_depth: 50\\u003cbr\\u003e\\u003cb\\u003eObjective Value: 1516.04838028169\\u003c\\u002fb\\u003e\",\"Trial #36\\u003cbr\\u003en_estimators: 300\\u003cbr\\u003emax_depth: 30\\u003cbr\\u003e\\u003cb\\u003eObjective Value: 1342.4050962336812\\u003c\\u002fb\\u003e\",\"Trial #37\\u003cbr\\u003en_estimators: 100\\u003cbr\\u003emax_depth: 20\\u003cbr\\u003e\\u003cb\\u003eObjective Value: 1384.55602155417\\u003c\\u002fb\\u003e\",\"Trial #38\\u003cbr\\u003en_estimators: 200\\u003cbr\\u003emax_depth: 30\\u003cbr\\u003e\\u003cb\\u003eObjective Value: 1359.2593136828089\\u003c\\u002fb\\u003e\",\"Trial #39\\u003cbr\\u003en_estimators: 50\\u003cbr\\u003emax_depth: 60\\u003cbr\\u003e\\u003cb\\u003eObjective Value: 1380.7695014084507\\u003c\\u002fb\\u003e\",\"Trial #40\\u003cbr\\u003en_estimators: 100\\u003cbr\\u003emax_depth: 50\\u003cbr\\u003e\\u003cb\\u003eObjective Value: 1353.0018943661973\\u003c\\u002fb\\u003e\",\"Trial #41\\u003cbr\\u003en_estimators: 200\\u003cbr\\u003emax_depth: 20\\u003cbr\\u003e\\u003cb\\u003eObjective Value: 1343.2452846216233\\u003c\\u002fb\\u003e\",\"Trial #42\\u003cbr\\u003en_estimators: 200\\u003cbr\\u003emax_depth: 20\\u003cbr\\u003e\\u003cb\\u003eObjective Value: 1334.0506124563847\\u003c\\u002fb\\u003e\",\"Trial #43\\u003cbr\\u003en_estimators: 200\\u003cbr\\u003emax_depth: 20\\u003cbr\\u003e\\u003cb\\u003eObjective Value: 1346.9479648540528\\u003c\\u002fb\\u003e\",\"Trial #44\\u003cbr\\u003en_estimators: 200\\u003cbr\\u003emax_depth: 20\\u003cbr\\u003e\\u003cb\\u003eObjective Value: 1364.5713465174679\\u003c\\u002fb\\u003e\",\"Trial #45\\u003cbr\\u003en_estimators: 200\\u003cbr\\u003emax_depth: 40\\u003cbr\\u003e\\u003cb\\u003eObjective Value: 1350.5673003380161\\u003c\\u002fb\\u003e\",\"Trial #46\\u003cbr\\u003en_estimators: 300\\u003cbr\\u003emax_depth: 10\\u003cbr\\u003e\\u003cb\\u003eObjective Value: 1394.4100140917883\\u003c\\u002fb\\u003e\",\"Trial #47\\u003cbr\\u003en_estimators: 200\\u003cbr\\u003emax_depth: 60\\u003cbr\\u003e\\u003cb\\u003eObjective Value: 1331.044214964789\\u003c\\u002fb\\u003e\",\"Trial #48\\u003cbr\\u003en_estimators: 200\\u003cbr\\u003emax_depth: 60\\u003cbr\\u003e\\u003cb\\u003eObjective Value: 1370.063700528169\\u003c\\u002fb\\u003e\",\"Trial #49\\u003cbr\\u003en_estimators: 200\\u003cbr\\u003emax_depth: 60\\u003cbr\\u003e\\u003cb\\u003eObjective Value: 1371.9656985915494\\u003c\\u002fb\\u003e\"],\"marker\":{\"color\":[\"rgb(252.0, 165.0, 93.0)\",\"rgb(70.0, 118.0, 181.0)\",\"rgb(216.0, 49.0, 40.0)\",\"rgb(185.0, 20.0, 38.0)\",\"rgb(118.0, 175.0, 210.0)\",\"rgb(227.0, 244.0, 243.0)\",\"rgb(141.0, 193.0, 220.0)\",\"rgb(61.0, 93.0, 168.0)\",\"rgb(239.0, 249.0, 220.0)\",\"rgb(49.0, 54.0, 149.0)\",\"rgb(252.0, 254.0, 197.0)\",\"rgb(196.0, 29.0, 39.0)\",\"rgb(246.0, 251.0, 208.0)\",\"rgb(250.0, 151.0, 87.0)\",\"rgb(248.0, 138.0, 80.0)\",\"rgb(99.0, 152.0, 198.0)\",\"rgb(174.0, 219.0, 234.0)\",\"rgb(254.0, 218.0, 138.0)\",\"rgb(233.0, 87.0, 57.0)\",\"rgb(253.0, 187.0, 109.0)\",\"rgb(185.0, 224.0, 237.0)\",\"rgb(254.0, 233.0, 157.0)\",\"rgb(89.0, 141.0, 192.0)\",\"rgb(222.0, 62.0, 45.0)\",\"rgb(65.0, 105.0, 174.0)\",\"rgb(163.0, 211.0, 230.0)\",\"rgb(206.0, 39.0, 39.0)\",\"rgb(80.0, 130.0, 187.0)\",\"rgb(196.0, 229.0, 240.0)\",\"rgb(255.0, 246.0, 177.0)\",\"rgb(254.0, 239.0, 167.0)\",\"rgb(244.0, 112.0, 68.0)\",\"rgb(175.0, 10.0, 38.0)\",\"rgb(254.0, 208.0, 129.0)\",\"rgb(207.0, 235.0, 243.0)\",\"rgb(165.0, 0.0, 38.0)\",\"rgb(108.0, 164.0, 204.0)\",\"rgb(239.0, 99.0, 62.0)\",\"rgb(255.0, 252.0, 186.0)\",\"rgb(246.0, 125.0, 74.0)\",\"rgb(233.0, 246.0, 232.0)\",\"rgb(129.0, 184.0, 215.0)\",\"rgb(57.0, 80.0, 162.0)\",\"rgb(152.0, 202.0, 225.0)\",\"rgb(254.0, 227.0, 148.0)\",\"rgb(218.0, 240.0, 246.0)\",\"rgb(227.0, 74.0, 51.0)\",\"rgb(53.0, 67.0, 155.0)\",\"rgb(253.0, 197.0, 119.0)\",\"rgb(253.0, 177.0, 100.0)\"],\"line\":{\"color\":\"Grey\",\"width\":0.5}},\"mode\":\"markers\",\"showlegend\":false,\"x\":[30,30,50,30,30,20,50,30,20,60,60,10,60,40,60,40,60,30,10,60,50,30,30,30,30,40,10,20,60,30,30,30,30,30,30,50,30,20,30,60,50,20,20,20,20,40,10,60,60,60],\"y\":[300,100,10,10,100,100,200,200,100,300,300,50,200,200,300,50,300,200,200,300,10,100,100,50,200,200,200,200,300,300,200,100,10,200,100,10,300,100,200,50,100,200,200,200,200,200,300,200,200,200],\"type\":\"scatter\"},{\"hoverinfo\":\"none\",\"marker\":{\"cmax\":1,\"cmin\":0,\"colorbar\":{\"thickness\":10,\"ticktext\":[\"min. (1329.09)\",\"25% (1345.08)\",\"50% (1358.57)\",\"75% (1379.31)\",\"max. (1516.05)\"],\"tickvals\":[0,0.25,0.5,0.75,1]},\"colorscale\":[[0.0,\"rgb(49,54,149)\"],[0.1,\"rgb(69,117,180)\"],[0.2,\"rgb(116,173,209)\"],[0.3,\"rgb(171,217,233)\"],[0.4,\"rgb(224,243,248)\"],[0.5,\"rgb(255,255,191)\"],[0.6,\"rgb(254,224,144)\"],[0.7,\"rgb(253,174,97)\"],[0.8,\"rgb(244,109,67)\"],[0.9,\"rgb(215,48,39)\"],[1.0,\"rgb(165,0,38)\"]],\"showscale\":true},\"mode\":\"markers\",\"showlegend\":false,\"x\":[null],\"y\":[null],\"type\":\"scatter\"}],                        {\"title\":{\"text\":\"Rank (Objective Value)\"},\"template\":{\"data\":{\"histogram2dcontour\":[{\"type\":\"histogram2dcontour\",\"colorbar\":{\"outlinewidth\":0,\"ticks\":\"\"},\"colorscale\":[[0.0,\"#0d0887\"],[0.1111111111111111,\"#46039f\"],[0.2222222222222222,\"#7201a8\"],[0.3333333333333333,\"#9c179e\"],[0.4444444444444444,\"#bd3786\"],[0.5555555555555556,\"#d8576b\"],[0.6666666666666666,\"#ed7953\"],[0.7777777777777778,\"#fb9f3a\"],[0.8888888888888888,\"#fdca26\"],[1.0,\"#f0f921\"]]}],\"choropleth\":[{\"type\":\"choropleth\",\"colorbar\":{\"outlinewidth\":0,\"ticks\":\"\"}}],\"histogram2d\":[{\"type\":\"histogram2d\",\"colorbar\":{\"outlinewidth\":0,\"ticks\":\"\"},\"colorscale\":[[0.0,\"#0d0887\"],[0.1111111111111111,\"#46039f\"],[0.2222222222222222,\"#7201a8\"],[0.3333333333333333,\"#9c179e\"],[0.4444444444444444,\"#bd3786\"],[0.5555555555555556,\"#d8576b\"],[0.6666666666666666,\"#ed7953\"],[0.7777777777777778,\"#fb9f3a\"],[0.8888888888888888,\"#fdca26\"],[1.0,\"#f0f921\"]]}],\"heatmap\":[{\"type\":\"heatmap\",\"colorbar\":{\"outlinewidth\":0,\"ticks\":\"\"},\"colorscale\":[[0.0,\"#0d0887\"],[0.1111111111111111,\"#46039f\"],[0.2222222222222222,\"#7201a8\"],[0.3333333333333333,\"#9c179e\"],[0.4444444444444444,\"#bd3786\"],[0.5555555555555556,\"#d8576b\"],[0.6666666666666666,\"#ed7953\"],[0.7777777777777778,\"#fb9f3a\"],[0.8888888888888888,\"#fdca26\"],[1.0,\"#f0f921\"]]}],\"heatmapgl\":[{\"type\":\"heatmapgl\",\"colorbar\":{\"outlinewidth\":0,\"ticks\":\"\"},\"colorscale\":[[0.0,\"#0d0887\"],[0.1111111111111111,\"#46039f\"],[0.2222222222222222,\"#7201a8\"],[0.3333333333333333,\"#9c179e\"],[0.4444444444444444,\"#bd3786\"],[0.5555555555555556,\"#d8576b\"],[0.6666666666666666,\"#ed7953\"],[0.7777777777777778,\"#fb9f3a\"],[0.8888888888888888,\"#fdca26\"],[1.0,\"#f0f921\"]]}],\"contourcarpet\":[{\"type\":\"contourcarpet\",\"colorbar\":{\"outlinewidth\":0,\"ticks\":\"\"}}],\"contour\":[{\"type\":\"contour\",\"colorbar\":{\"outlinewidth\":0,\"ticks\":\"\"},\"colorscale\":[[0.0,\"#0d0887\"],[0.1111111111111111,\"#46039f\"],[0.2222222222222222,\"#7201a8\"],[0.3333333333333333,\"#9c179e\"],[0.4444444444444444,\"#bd3786\"],[0.5555555555555556,\"#d8576b\"],[0.6666666666666666,\"#ed7953\"],[0.7777777777777778,\"#fb9f3a\"],[0.8888888888888888,\"#fdca26\"],[1.0,\"#f0f921\"]]}],\"surface\":[{\"type\":\"surface\",\"colorbar\":{\"outlinewidth\":0,\"ticks\":\"\"},\"colorscale\":[[0.0,\"#0d0887\"],[0.1111111111111111,\"#46039f\"],[0.2222222222222222,\"#7201a8\"],[0.3333333333333333,\"#9c179e\"],[0.4444444444444444,\"#bd3786\"],[0.5555555555555556,\"#d8576b\"],[0.6666666666666666,\"#ed7953\"],[0.7777777777777778,\"#fb9f3a\"],[0.8888888888888888,\"#fdca26\"],[1.0,\"#f0f921\"]]}],\"mesh3d\":[{\"type\":\"mesh3d\",\"colorbar\":{\"outlinewidth\":0,\"ticks\":\"\"}}],\"scatter\":[{\"fillpattern\":{\"fillmode\":\"overlay\",\"size\":10,\"solidity\":0.2},\"type\":\"scatter\"}],\"parcoords\":[{\"type\":\"parcoords\",\"line\":{\"colorbar\":{\"outlinewidth\":0,\"ticks\":\"\"}}}],\"scatterpolargl\":[{\"type\":\"scatterpolargl\",\"marker\":{\"colorbar\":{\"outlinewidth\":0,\"ticks\":\"\"}}}],\"bar\":[{\"error_x\":{\"color\":\"#2a3f5f\"},\"error_y\":{\"color\":\"#2a3f5f\"},\"marker\":{\"line\":{\"color\":\"#E5ECF6\",\"width\":0.5},\"pattern\":{\"fillmode\":\"overlay\",\"size\":10,\"solidity\":0.2}},\"type\":\"bar\"}],\"scattergeo\":[{\"type\":\"scattergeo\",\"marker\":{\"colorbar\":{\"outlinewidth\":0,\"ticks\":\"\"}}}],\"scatterpolar\":[{\"type\":\"scatterpolar\",\"marker\":{\"colorbar\":{\"outlinewidth\":0,\"ticks\":\"\"}}}],\"histogram\":[{\"marker\":{\"pattern\":{\"fillmode\":\"overlay\",\"size\":10,\"solidity\":0.2}},\"type\":\"histogram\"}],\"scattergl\":[{\"type\":\"scattergl\",\"marker\":{\"colorbar\":{\"outlinewidth\":0,\"ticks\":\"\"}}}],\"scatter3d\":[{\"type\":\"scatter3d\",\"line\":{\"colorbar\":{\"outlinewidth\":0,\"ticks\":\"\"}},\"marker\":{\"colorbar\":{\"outlinewidth\":0,\"ticks\":\"\"}}}],\"scattermapbox\":[{\"type\":\"scattermapbox\",\"marker\":{\"colorbar\":{\"outlinewidth\":0,\"ticks\":\"\"}}}],\"scatterternary\":[{\"type\":\"scatterternary\",\"marker\":{\"colorbar\":{\"outlinewidth\":0,\"ticks\":\"\"}}}],\"scattercarpet\":[{\"type\":\"scattercarpet\",\"marker\":{\"colorbar\":{\"outlinewidth\":0,\"ticks\":\"\"}}}],\"carpet\":[{\"aaxis\":{\"endlinecolor\":\"#2a3f5f\",\"gridcolor\":\"white\",\"linecolor\":\"white\",\"minorgridcolor\":\"white\",\"startlinecolor\":\"#2a3f5f\"},\"baxis\":{\"endlinecolor\":\"#2a3f5f\",\"gridcolor\":\"white\",\"linecolor\":\"white\",\"minorgridcolor\":\"white\",\"startlinecolor\":\"#2a3f5f\"},\"type\":\"carpet\"}],\"table\":[{\"cells\":{\"fill\":{\"color\":\"#EBF0F8\"},\"line\":{\"color\":\"white\"}},\"header\":{\"fill\":{\"color\":\"#C8D4E3\"},\"line\":{\"color\":\"white\"}},\"type\":\"table\"}],\"barpolar\":[{\"marker\":{\"line\":{\"color\":\"#E5ECF6\",\"width\":0.5},\"pattern\":{\"fillmode\":\"overlay\",\"size\":10,\"solidity\":0.2}},\"type\":\"barpolar\"}],\"pie\":[{\"automargin\":true,\"type\":\"pie\"}]},\"layout\":{\"autotypenumbers\":\"strict\",\"colorway\":[\"#636efa\",\"#EF553B\",\"#00cc96\",\"#ab63fa\",\"#FFA15A\",\"#19d3f3\",\"#FF6692\",\"#B6E880\",\"#FF97FF\",\"#FECB52\"],\"font\":{\"color\":\"#2a3f5f\"},\"hovermode\":\"closest\",\"hoverlabel\":{\"align\":\"left\"},\"paper_bgcolor\":\"white\",\"plot_bgcolor\":\"#E5ECF6\",\"polar\":{\"bgcolor\":\"#E5ECF6\",\"angularaxis\":{\"gridcolor\":\"white\",\"linecolor\":\"white\",\"ticks\":\"\"},\"radialaxis\":{\"gridcolor\":\"white\",\"linecolor\":\"white\",\"ticks\":\"\"}},\"ternary\":{\"bgcolor\":\"#E5ECF6\",\"aaxis\":{\"gridcolor\":\"white\",\"linecolor\":\"white\",\"ticks\":\"\"},\"baxis\":{\"gridcolor\":\"white\",\"linecolor\":\"white\",\"ticks\":\"\"},\"caxis\":{\"gridcolor\":\"white\",\"linecolor\":\"white\",\"ticks\":\"\"}},\"coloraxis\":{\"colorbar\":{\"outlinewidth\":0,\"ticks\":\"\"}},\"colorscale\":{\"sequential\":[[0.0,\"#0d0887\"],[0.1111111111111111,\"#46039f\"],[0.2222222222222222,\"#7201a8\"],[0.3333333333333333,\"#9c179e\"],[0.4444444444444444,\"#bd3786\"],[0.5555555555555556,\"#d8576b\"],[0.6666666666666666,\"#ed7953\"],[0.7777777777777778,\"#fb9f3a\"],[0.8888888888888888,\"#fdca26\"],[1.0,\"#f0f921\"]],\"sequentialminus\":[[0.0,\"#0d0887\"],[0.1111111111111111,\"#46039f\"],[0.2222222222222222,\"#7201a8\"],[0.3333333333333333,\"#9c179e\"],[0.4444444444444444,\"#bd3786\"],[0.5555555555555556,\"#d8576b\"],[0.6666666666666666,\"#ed7953\"],[0.7777777777777778,\"#fb9f3a\"],[0.8888888888888888,\"#fdca26\"],[1.0,\"#f0f921\"]],\"diverging\":[[0,\"#8e0152\"],[0.1,\"#c51b7d\"],[0.2,\"#de77ae\"],[0.3,\"#f1b6da\"],[0.4,\"#fde0ef\"],[0.5,\"#f7f7f7\"],[0.6,\"#e6f5d0\"],[0.7,\"#b8e186\"],[0.8,\"#7fbc41\"],[0.9,\"#4d9221\"],[1,\"#276419\"]]},\"xaxis\":{\"gridcolor\":\"white\",\"linecolor\":\"white\",\"ticks\":\"\",\"title\":{\"standoff\":15},\"zerolinecolor\":\"white\",\"automargin\":true,\"zerolinewidth\":2},\"yaxis\":{\"gridcolor\":\"white\",\"linecolor\":\"white\",\"ticks\":\"\",\"title\":{\"standoff\":15},\"zerolinecolor\":\"white\",\"automargin\":true,\"zerolinewidth\":2},\"scene\":{\"xaxis\":{\"backgroundcolor\":\"#E5ECF6\",\"gridcolor\":\"white\",\"linecolor\":\"white\",\"showbackground\":true,\"ticks\":\"\",\"zerolinecolor\":\"white\",\"gridwidth\":2},\"yaxis\":{\"backgroundcolor\":\"#E5ECF6\",\"gridcolor\":\"white\",\"linecolor\":\"white\",\"showbackground\":true,\"ticks\":\"\",\"zerolinecolor\":\"white\",\"gridwidth\":2},\"zaxis\":{\"backgroundcolor\":\"#E5ECF6\",\"gridcolor\":\"white\",\"linecolor\":\"white\",\"showbackground\":true,\"ticks\":\"\",\"zerolinecolor\":\"white\",\"gridwidth\":2}},\"shapedefaults\":{\"line\":{\"color\":\"#2a3f5f\"}},\"annotationdefaults\":{\"arrowcolor\":\"#2a3f5f\",\"arrowhead\":0,\"arrowwidth\":1},\"geo\":{\"bgcolor\":\"white\",\"landcolor\":\"#E5ECF6\",\"subunitcolor\":\"white\",\"showland\":true,\"showlakes\":true,\"lakecolor\":\"white\"},\"title\":{\"x\":0.05},\"mapbox\":{\"style\":\"light\"}}},\"xaxis\":{\"title\":{\"text\":\"max_depth\"},\"range\":[7.5,62.5]},\"yaxis\":{\"title\":{\"text\":\"n_estimators\"},\"range\":[-4.5,314.5]}},                        {\"responsive\": true}                    ).then(function(){\n",
       "                            \n",
       "var gd = document.getElementById('d846c84a-96a4-4676-abfc-8f47e94c8ef9');\n",
       "var x = new MutationObserver(function (mutations, observer) {{\n",
       "        var display = window.getComputedStyle(gd).display;\n",
       "        if (!display || display === 'none') {{\n",
       "            console.log([gd, 'removed!']);\n",
       "            Plotly.purge(gd);\n",
       "            observer.disconnect();\n",
       "        }}\n",
       "}});\n",
       "\n",
       "// Listen for the removal of the full notebook cells\n",
       "var notebookContainer = gd.closest('#notebook-container');\n",
       "if (notebookContainer) {{\n",
       "    x.observe(notebookContainer, {childList: true});\n",
       "}}\n",
       "\n",
       "// Listen for the clearing of the current output cell\n",
       "var outputEl = gd.closest('.output');\n",
       "if (outputEl) {{\n",
       "    x.observe(outputEl, {childList: true});\n",
       "}}\n",
       "\n",
       "                        })                };                });            </script>        </div>"
      ]
     },
     "metadata": {},
     "output_type": "display_data"
    }
   ],
   "source": [
    "plot_rank(study)"
   ]
  },
  {
   "cell_type": "code",
   "execution_count": 283,
   "id": "7aabaef6-06d0-4614-b4f3-99eed4953d6c",
   "metadata": {
    "tags": []
   },
   "outputs": [
    {
     "data": {
      "application/vnd.plotly.v1+json": {
       "config": {
        "plotlyServerURL": "https://plot.ly"
       },
       "data": [
        {
         "cliponaxis": false,
         "hovertemplate": [
          "max_depth (CategoricalDistribution): 0.2603818539071346<extra></extra>",
          "n_estimators (CategoricalDistribution): 0.7396181460928655<extra></extra>"
         ],
         "name": "Objective Value",
         "orientation": "h",
         "text": [
          "0.26",
          "0.74"
         ],
         "textposition": "outside",
         "type": "bar",
         "x": [
          0.2603818539071346,
          0.7396181460928655
         ],
         "y": [
          "max_depth",
          "n_estimators"
         ]
        }
       ],
       "layout": {
        "autosize": true,
        "template": {
         "data": {
          "bar": [
           {
            "error_x": {
             "color": "#2a3f5f"
            },
            "error_y": {
             "color": "#2a3f5f"
            },
            "marker": {
             "line": {
              "color": "#E5ECF6",
              "width": 0.5
             },
             "pattern": {
              "fillmode": "overlay",
              "size": 10,
              "solidity": 0.2
             }
            },
            "type": "bar"
           }
          ],
          "barpolar": [
           {
            "marker": {
             "line": {
              "color": "#E5ECF6",
              "width": 0.5
             },
             "pattern": {
              "fillmode": "overlay",
              "size": 10,
              "solidity": 0.2
             }
            },
            "type": "barpolar"
           }
          ],
          "carpet": [
           {
            "aaxis": {
             "endlinecolor": "#2a3f5f",
             "gridcolor": "white",
             "linecolor": "white",
             "minorgridcolor": "white",
             "startlinecolor": "#2a3f5f"
            },
            "baxis": {
             "endlinecolor": "#2a3f5f",
             "gridcolor": "white",
             "linecolor": "white",
             "minorgridcolor": "white",
             "startlinecolor": "#2a3f5f"
            },
            "type": "carpet"
           }
          ],
          "choropleth": [
           {
            "colorbar": {
             "outlinewidth": 0,
             "ticks": ""
            },
            "type": "choropleth"
           }
          ],
          "contour": [
           {
            "colorbar": {
             "outlinewidth": 0,
             "ticks": ""
            },
            "colorscale": [
             [
              0,
              "#0d0887"
             ],
             [
              0.1111111111111111,
              "#46039f"
             ],
             [
              0.2222222222222222,
              "#7201a8"
             ],
             [
              0.3333333333333333,
              "#9c179e"
             ],
             [
              0.4444444444444444,
              "#bd3786"
             ],
             [
              0.5555555555555556,
              "#d8576b"
             ],
             [
              0.6666666666666666,
              "#ed7953"
             ],
             [
              0.7777777777777778,
              "#fb9f3a"
             ],
             [
              0.8888888888888888,
              "#fdca26"
             ],
             [
              1,
              "#f0f921"
             ]
            ],
            "type": "contour"
           }
          ],
          "contourcarpet": [
           {
            "colorbar": {
             "outlinewidth": 0,
             "ticks": ""
            },
            "type": "contourcarpet"
           }
          ],
          "heatmap": [
           {
            "colorbar": {
             "outlinewidth": 0,
             "ticks": ""
            },
            "colorscale": [
             [
              0,
              "#0d0887"
             ],
             [
              0.1111111111111111,
              "#46039f"
             ],
             [
              0.2222222222222222,
              "#7201a8"
             ],
             [
              0.3333333333333333,
              "#9c179e"
             ],
             [
              0.4444444444444444,
              "#bd3786"
             ],
             [
              0.5555555555555556,
              "#d8576b"
             ],
             [
              0.6666666666666666,
              "#ed7953"
             ],
             [
              0.7777777777777778,
              "#fb9f3a"
             ],
             [
              0.8888888888888888,
              "#fdca26"
             ],
             [
              1,
              "#f0f921"
             ]
            ],
            "type": "heatmap"
           }
          ],
          "heatmapgl": [
           {
            "colorbar": {
             "outlinewidth": 0,
             "ticks": ""
            },
            "colorscale": [
             [
              0,
              "#0d0887"
             ],
             [
              0.1111111111111111,
              "#46039f"
             ],
             [
              0.2222222222222222,
              "#7201a8"
             ],
             [
              0.3333333333333333,
              "#9c179e"
             ],
             [
              0.4444444444444444,
              "#bd3786"
             ],
             [
              0.5555555555555556,
              "#d8576b"
             ],
             [
              0.6666666666666666,
              "#ed7953"
             ],
             [
              0.7777777777777778,
              "#fb9f3a"
             ],
             [
              0.8888888888888888,
              "#fdca26"
             ],
             [
              1,
              "#f0f921"
             ]
            ],
            "type": "heatmapgl"
           }
          ],
          "histogram": [
           {
            "marker": {
             "pattern": {
              "fillmode": "overlay",
              "size": 10,
              "solidity": 0.2
             }
            },
            "type": "histogram"
           }
          ],
          "histogram2d": [
           {
            "colorbar": {
             "outlinewidth": 0,
             "ticks": ""
            },
            "colorscale": [
             [
              0,
              "#0d0887"
             ],
             [
              0.1111111111111111,
              "#46039f"
             ],
             [
              0.2222222222222222,
              "#7201a8"
             ],
             [
              0.3333333333333333,
              "#9c179e"
             ],
             [
              0.4444444444444444,
              "#bd3786"
             ],
             [
              0.5555555555555556,
              "#d8576b"
             ],
             [
              0.6666666666666666,
              "#ed7953"
             ],
             [
              0.7777777777777778,
              "#fb9f3a"
             ],
             [
              0.8888888888888888,
              "#fdca26"
             ],
             [
              1,
              "#f0f921"
             ]
            ],
            "type": "histogram2d"
           }
          ],
          "histogram2dcontour": [
           {
            "colorbar": {
             "outlinewidth": 0,
             "ticks": ""
            },
            "colorscale": [
             [
              0,
              "#0d0887"
             ],
             [
              0.1111111111111111,
              "#46039f"
             ],
             [
              0.2222222222222222,
              "#7201a8"
             ],
             [
              0.3333333333333333,
              "#9c179e"
             ],
             [
              0.4444444444444444,
              "#bd3786"
             ],
             [
              0.5555555555555556,
              "#d8576b"
             ],
             [
              0.6666666666666666,
              "#ed7953"
             ],
             [
              0.7777777777777778,
              "#fb9f3a"
             ],
             [
              0.8888888888888888,
              "#fdca26"
             ],
             [
              1,
              "#f0f921"
             ]
            ],
            "type": "histogram2dcontour"
           }
          ],
          "mesh3d": [
           {
            "colorbar": {
             "outlinewidth": 0,
             "ticks": ""
            },
            "type": "mesh3d"
           }
          ],
          "parcoords": [
           {
            "line": {
             "colorbar": {
              "outlinewidth": 0,
              "ticks": ""
             }
            },
            "type": "parcoords"
           }
          ],
          "pie": [
           {
            "automargin": true,
            "type": "pie"
           }
          ],
          "scatter": [
           {
            "fillpattern": {
             "fillmode": "overlay",
             "size": 10,
             "solidity": 0.2
            },
            "type": "scatter"
           }
          ],
          "scatter3d": [
           {
            "line": {
             "colorbar": {
              "outlinewidth": 0,
              "ticks": ""
             }
            },
            "marker": {
             "colorbar": {
              "outlinewidth": 0,
              "ticks": ""
             }
            },
            "type": "scatter3d"
           }
          ],
          "scattercarpet": [
           {
            "marker": {
             "colorbar": {
              "outlinewidth": 0,
              "ticks": ""
             }
            },
            "type": "scattercarpet"
           }
          ],
          "scattergeo": [
           {
            "marker": {
             "colorbar": {
              "outlinewidth": 0,
              "ticks": ""
             }
            },
            "type": "scattergeo"
           }
          ],
          "scattergl": [
           {
            "marker": {
             "colorbar": {
              "outlinewidth": 0,
              "ticks": ""
             }
            },
            "type": "scattergl"
           }
          ],
          "scattermapbox": [
           {
            "marker": {
             "colorbar": {
              "outlinewidth": 0,
              "ticks": ""
             }
            },
            "type": "scattermapbox"
           }
          ],
          "scatterpolar": [
           {
            "marker": {
             "colorbar": {
              "outlinewidth": 0,
              "ticks": ""
             }
            },
            "type": "scatterpolar"
           }
          ],
          "scatterpolargl": [
           {
            "marker": {
             "colorbar": {
              "outlinewidth": 0,
              "ticks": ""
             }
            },
            "type": "scatterpolargl"
           }
          ],
          "scatterternary": [
           {
            "marker": {
             "colorbar": {
              "outlinewidth": 0,
              "ticks": ""
             }
            },
            "type": "scatterternary"
           }
          ],
          "surface": [
           {
            "colorbar": {
             "outlinewidth": 0,
             "ticks": ""
            },
            "colorscale": [
             [
              0,
              "#0d0887"
             ],
             [
              0.1111111111111111,
              "#46039f"
             ],
             [
              0.2222222222222222,
              "#7201a8"
             ],
             [
              0.3333333333333333,
              "#9c179e"
             ],
             [
              0.4444444444444444,
              "#bd3786"
             ],
             [
              0.5555555555555556,
              "#d8576b"
             ],
             [
              0.6666666666666666,
              "#ed7953"
             ],
             [
              0.7777777777777778,
              "#fb9f3a"
             ],
             [
              0.8888888888888888,
              "#fdca26"
             ],
             [
              1,
              "#f0f921"
             ]
            ],
            "type": "surface"
           }
          ],
          "table": [
           {
            "cells": {
             "fill": {
              "color": "#EBF0F8"
             },
             "line": {
              "color": "white"
             }
            },
            "header": {
             "fill": {
              "color": "#C8D4E3"
             },
             "line": {
              "color": "white"
             }
            },
            "type": "table"
           }
          ]
         },
         "layout": {
          "annotationdefaults": {
           "arrowcolor": "#2a3f5f",
           "arrowhead": 0,
           "arrowwidth": 1
          },
          "autotypenumbers": "strict",
          "coloraxis": {
           "colorbar": {
            "outlinewidth": 0,
            "ticks": ""
           }
          },
          "colorscale": {
           "diverging": [
            [
             0,
             "#8e0152"
            ],
            [
             0.1,
             "#c51b7d"
            ],
            [
             0.2,
             "#de77ae"
            ],
            [
             0.3,
             "#f1b6da"
            ],
            [
             0.4,
             "#fde0ef"
            ],
            [
             0.5,
             "#f7f7f7"
            ],
            [
             0.6,
             "#e6f5d0"
            ],
            [
             0.7,
             "#b8e186"
            ],
            [
             0.8,
             "#7fbc41"
            ],
            [
             0.9,
             "#4d9221"
            ],
            [
             1,
             "#276419"
            ]
           ],
           "sequential": [
            [
             0,
             "#0d0887"
            ],
            [
             0.1111111111111111,
             "#46039f"
            ],
            [
             0.2222222222222222,
             "#7201a8"
            ],
            [
             0.3333333333333333,
             "#9c179e"
            ],
            [
             0.4444444444444444,
             "#bd3786"
            ],
            [
             0.5555555555555556,
             "#d8576b"
            ],
            [
             0.6666666666666666,
             "#ed7953"
            ],
            [
             0.7777777777777778,
             "#fb9f3a"
            ],
            [
             0.8888888888888888,
             "#fdca26"
            ],
            [
             1,
             "#f0f921"
            ]
           ],
           "sequentialminus": [
            [
             0,
             "#0d0887"
            ],
            [
             0.1111111111111111,
             "#46039f"
            ],
            [
             0.2222222222222222,
             "#7201a8"
            ],
            [
             0.3333333333333333,
             "#9c179e"
            ],
            [
             0.4444444444444444,
             "#bd3786"
            ],
            [
             0.5555555555555556,
             "#d8576b"
            ],
            [
             0.6666666666666666,
             "#ed7953"
            ],
            [
             0.7777777777777778,
             "#fb9f3a"
            ],
            [
             0.8888888888888888,
             "#fdca26"
            ],
            [
             1,
             "#f0f921"
            ]
           ]
          },
          "colorway": [
           "#636efa",
           "#EF553B",
           "#00cc96",
           "#ab63fa",
           "#FFA15A",
           "#19d3f3",
           "#FF6692",
           "#B6E880",
           "#FF97FF",
           "#FECB52"
          ],
          "font": {
           "color": "#2a3f5f"
          },
          "geo": {
           "bgcolor": "white",
           "lakecolor": "white",
           "landcolor": "#E5ECF6",
           "showlakes": true,
           "showland": true,
           "subunitcolor": "white"
          },
          "hoverlabel": {
           "align": "left"
          },
          "hovermode": "closest",
          "mapbox": {
           "style": "light"
          },
          "paper_bgcolor": "white",
          "plot_bgcolor": "#E5ECF6",
          "polar": {
           "angularaxis": {
            "gridcolor": "white",
            "linecolor": "white",
            "ticks": ""
           },
           "bgcolor": "#E5ECF6",
           "radialaxis": {
            "gridcolor": "white",
            "linecolor": "white",
            "ticks": ""
           }
          },
          "scene": {
           "xaxis": {
            "backgroundcolor": "#E5ECF6",
            "gridcolor": "white",
            "gridwidth": 2,
            "linecolor": "white",
            "showbackground": true,
            "ticks": "",
            "zerolinecolor": "white"
           },
           "yaxis": {
            "backgroundcolor": "#E5ECF6",
            "gridcolor": "white",
            "gridwidth": 2,
            "linecolor": "white",
            "showbackground": true,
            "ticks": "",
            "zerolinecolor": "white"
           },
           "zaxis": {
            "backgroundcolor": "#E5ECF6",
            "gridcolor": "white",
            "gridwidth": 2,
            "linecolor": "white",
            "showbackground": true,
            "ticks": "",
            "zerolinecolor": "white"
           }
          },
          "shapedefaults": {
           "line": {
            "color": "#2a3f5f"
           }
          },
          "ternary": {
           "aaxis": {
            "gridcolor": "white",
            "linecolor": "white",
            "ticks": ""
           },
           "baxis": {
            "gridcolor": "white",
            "linecolor": "white",
            "ticks": ""
           },
           "bgcolor": "#E5ECF6",
           "caxis": {
            "gridcolor": "white",
            "linecolor": "white",
            "ticks": ""
           }
          },
          "title": {
           "x": 0.05
          },
          "xaxis": {
           "automargin": true,
           "gridcolor": "white",
           "linecolor": "white",
           "ticks": "",
           "title": {
            "standoff": 15
           },
           "zerolinecolor": "white",
           "zerolinewidth": 2
          },
          "yaxis": {
           "automargin": true,
           "gridcolor": "white",
           "linecolor": "white",
           "ticks": "",
           "title": {
            "standoff": 15
           },
           "zerolinecolor": "white",
           "zerolinewidth": 2
          }
         }
        },
        "title": {
         "text": "Hyperparameter Importances"
        },
        "xaxis": {
         "autorange": true,
         "range": [
          0,
          0.7785454169398583
         ],
         "title": {
          "text": "Hyperparameter Importance"
         },
         "type": "linear"
        },
        "yaxis": {
         "autorange": true,
         "range": [
          -0.5,
          1.5
         ],
         "title": {
          "text": "Hyperparameter"
         },
         "type": "category"
        }
       }
      },
      "image/png": "[encoded data removed]",
      "text/html": [
       "<div>                            <div id=\"007b2a17-551b-4517-a5d5-9be69772cf3c\" class=\"plotly-graph-div\" style=\"height:525px; width:100%;\"></div>            <script type=\"text/javascript\">                require([\"plotly\"], function(Plotly) {                    window.PLOTLYENV=window.PLOTLYENV || {};                                    if (document.getElementById(\"007b2a17-551b-4517-a5d5-9be69772cf3c\")) {                    Plotly.newPlot(                        \"007b2a17-551b-4517-a5d5-9be69772cf3c\",                        [{\"cliponaxis\":false,\"hovertemplate\":[\"max_depth (CategoricalDistribution): 0.2603818539071346\\u003cextra\\u003e\\u003c\\u002fextra\\u003e\",\"n_estimators (CategoricalDistribution): 0.7396181460928655\\u003cextra\\u003e\\u003c\\u002fextra\\u003e\"],\"name\":\"Objective Value\",\"orientation\":\"h\",\"text\":[\"0.26\",\"0.74\"],\"textposition\":\"outside\",\"x\":[0.2603818539071346,0.7396181460928655],\"y\":[\"max_depth\",\"n_estimators\"],\"type\":\"bar\"}],                        {\"title\":{\"text\":\"Hyperparameter Importances\"},\"xaxis\":{\"title\":{\"text\":\"Hyperparameter Importance\"}},\"yaxis\":{\"title\":{\"text\":\"Hyperparameter\"}},\"template\":{\"data\":{\"histogram2dcontour\":[{\"type\":\"histogram2dcontour\",\"colorbar\":{\"outlinewidth\":0,\"ticks\":\"\"},\"colorscale\":[[0.0,\"#0d0887\"],[0.1111111111111111,\"#46039f\"],[0.2222222222222222,\"#7201a8\"],[0.3333333333333333,\"#9c179e\"],[0.4444444444444444,\"#bd3786\"],[0.5555555555555556,\"#d8576b\"],[0.6666666666666666,\"#ed7953\"],[0.7777777777777778,\"#fb9f3a\"],[0.8888888888888888,\"#fdca26\"],[1.0,\"#f0f921\"]]}],\"choropleth\":[{\"type\":\"choropleth\",\"colorbar\":{\"outlinewidth\":0,\"ticks\":\"\"}}],\"histogram2d\":[{\"type\":\"histogram2d\",\"colorbar\":{\"outlinewidth\":0,\"ticks\":\"\"},\"colorscale\":[[0.0,\"#0d0887\"],[0.1111111111111111,\"#46039f\"],[0.2222222222222222,\"#7201a8\"],[0.3333333333333333,\"#9c179e\"],[0.4444444444444444,\"#bd3786\"],[0.5555555555555556,\"#d8576b\"],[0.6666666666666666,\"#ed7953\"],[0.7777777777777778,\"#fb9f3a\"],[0.8888888888888888,\"#fdca26\"],[1.0,\"#f0f921\"]]}],\"heatmap\":[{\"type\":\"heatmap\",\"colorbar\":{\"outlinewidth\":0,\"ticks\":\"\"},\"colorscale\":[[0.0,\"#0d0887\"],[0.1111111111111111,\"#46039f\"],[0.2222222222222222,\"#7201a8\"],[0.3333333333333333,\"#9c179e\"],[0.4444444444444444,\"#bd3786\"],[0.5555555555555556,\"#d8576b\"],[0.6666666666666666,\"#ed7953\"],[0.7777777777777778,\"#fb9f3a\"],[0.8888888888888888,\"#fdca26\"],[1.0,\"#f0f921\"]]}],\"heatmapgl\":[{\"type\":\"heatmapgl\",\"colorbar\":{\"outlinewidth\":0,\"ticks\":\"\"},\"colorscale\":[[0.0,\"#0d0887\"],[0.1111111111111111,\"#46039f\"],[0.2222222222222222,\"#7201a8\"],[0.3333333333333333,\"#9c179e\"],[0.4444444444444444,\"#bd3786\"],[0.5555555555555556,\"#d8576b\"],[0.6666666666666666,\"#ed7953\"],[0.7777777777777778,\"#fb9f3a\"],[0.8888888888888888,\"#fdca26\"],[1.0,\"#f0f921\"]]}],\"contourcarpet\":[{\"type\":\"contourcarpet\",\"colorbar\":{\"outlinewidth\":0,\"ticks\":\"\"}}],\"contour\":[{\"type\":\"contour\",\"colorbar\":{\"outlinewidth\":0,\"ticks\":\"\"},\"colorscale\":[[0.0,\"#0d0887\"],[0.1111111111111111,\"#46039f\"],[0.2222222222222222,\"#7201a8\"],[0.3333333333333333,\"#9c179e\"],[0.4444444444444444,\"#bd3786\"],[0.5555555555555556,\"#d8576b\"],[0.6666666666666666,\"#ed7953\"],[0.7777777777777778,\"#fb9f3a\"],[0.8888888888888888,\"#fdca26\"],[1.0,\"#f0f921\"]]}],\"surface\":[{\"type\":\"surface\",\"colorbar\":{\"outlinewidth\":0,\"ticks\":\"\"},\"colorscale\":[[0.0,\"#0d0887\"],[0.1111111111111111,\"#46039f\"],[0.2222222222222222,\"#7201a8\"],[0.3333333333333333,\"#9c179e\"],[0.4444444444444444,\"#bd3786\"],[0.5555555555555556,\"#d8576b\"],[0.6666666666666666,\"#ed7953\"],[0.7777777777777778,\"#fb9f3a\"],[0.8888888888888888,\"#fdca26\"],[1.0,\"#f0f921\"]]}],\"mesh3d\":[{\"type\":\"mesh3d\",\"colorbar\":{\"outlinewidth\":0,\"ticks\":\"\"}}],\"scatter\":[{\"fillpattern\":{\"fillmode\":\"overlay\",\"size\":10,\"solidity\":0.2},\"type\":\"scatter\"}],\"parcoords\":[{\"type\":\"parcoords\",\"line\":{\"colorbar\":{\"outlinewidth\":0,\"ticks\":\"\"}}}],\"scatterpolargl\":[{\"type\":\"scatterpolargl\",\"marker\":{\"colorbar\":{\"outlinewidth\":0,\"ticks\":\"\"}}}],\"bar\":[{\"error_x\":{\"color\":\"#2a3f5f\"},\"error_y\":{\"color\":\"#2a3f5f\"},\"marker\":{\"line\":{\"color\":\"#E5ECF6\",\"width\":0.5},\"pattern\":{\"fillmode\":\"overlay\",\"size\":10,\"solidity\":0.2}},\"type\":\"bar\"}],\"scattergeo\":[{\"type\":\"scattergeo\",\"marker\":{\"colorbar\":{\"outlinewidth\":0,\"ticks\":\"\"}}}],\"scatterpolar\":[{\"type\":\"scatterpolar\",\"marker\":{\"colorbar\":{\"outlinewidth\":0,\"ticks\":\"\"}}}],\"histogram\":[{\"marker\":{\"pattern\":{\"fillmode\":\"overlay\",\"size\":10,\"solidity\":0.2}},\"type\":\"histogram\"}],\"scattergl\":[{\"type\":\"scattergl\",\"marker\":{\"colorbar\":{\"outlinewidth\":0,\"ticks\":\"\"}}}],\"scatter3d\":[{\"type\":\"scatter3d\",\"line\":{\"colorbar\":{\"outlinewidth\":0,\"ticks\":\"\"}},\"marker\":{\"colorbar\":{\"outlinewidth\":0,\"ticks\":\"\"}}}],\"scattermapbox\":[{\"type\":\"scattermapbox\",\"marker\":{\"colorbar\":{\"outlinewidth\":0,\"ticks\":\"\"}}}],\"scatterternary\":[{\"type\":\"scatterternary\",\"marker\":{\"colorbar\":{\"outlinewidth\":0,\"ticks\":\"\"}}}],\"scattercarpet\":[{\"type\":\"scattercarpet\",\"marker\":{\"colorbar\":{\"outlinewidth\":0,\"ticks\":\"\"}}}],\"carpet\":[{\"aaxis\":{\"endlinecolor\":\"#2a3f5f\",\"gridcolor\":\"white\",\"linecolor\":\"white\",\"minorgridcolor\":\"white\",\"startlinecolor\":\"#2a3f5f\"},\"baxis\":{\"endlinecolor\":\"#2a3f5f\",\"gridcolor\":\"white\",\"linecolor\":\"white\",\"minorgridcolor\":\"white\",\"startlinecolor\":\"#2a3f5f\"},\"type\":\"carpet\"}],\"table\":[{\"cells\":{\"fill\":{\"color\":\"#EBF0F8\"},\"line\":{\"color\":\"white\"}},\"header\":{\"fill\":{\"color\":\"#C8D4E3\"},\"line\":{\"color\":\"white\"}},\"type\":\"table\"}],\"barpolar\":[{\"marker\":{\"line\":{\"color\":\"#E5ECF6\",\"width\":0.5},\"pattern\":{\"fillmode\":\"overlay\",\"size\":10,\"solidity\":0.2}},\"type\":\"barpolar\"}],\"pie\":[{\"automargin\":true,\"type\":\"pie\"}]},\"layout\":{\"autotypenumbers\":\"strict\",\"colorway\":[\"#636efa\",\"#EF553B\",\"#00cc96\",\"#ab63fa\",\"#FFA15A\",\"#19d3f3\",\"#FF6692\",\"#B6E880\",\"#FF97FF\",\"#FECB52\"],\"font\":{\"color\":\"#2a3f5f\"},\"hovermode\":\"closest\",\"hoverlabel\":{\"align\":\"left\"},\"paper_bgcolor\":\"white\",\"plot_bgcolor\":\"#E5ECF6\",\"polar\":{\"bgcolor\":\"#E5ECF6\",\"angularaxis\":{\"gridcolor\":\"white\",\"linecolor\":\"white\",\"ticks\":\"\"},\"radialaxis\":{\"gridcolor\":\"white\",\"linecolor\":\"white\",\"ticks\":\"\"}},\"ternary\":{\"bgcolor\":\"#E5ECF6\",\"aaxis\":{\"gridcolor\":\"white\",\"linecolor\":\"white\",\"ticks\":\"\"},\"baxis\":{\"gridcolor\":\"white\",\"linecolor\":\"white\",\"ticks\":\"\"},\"caxis\":{\"gridcolor\":\"white\",\"linecolor\":\"white\",\"ticks\":\"\"}},\"coloraxis\":{\"colorbar\":{\"outlinewidth\":0,\"ticks\":\"\"}},\"colorscale\":{\"sequential\":[[0.0,\"#0d0887\"],[0.1111111111111111,\"#46039f\"],[0.2222222222222222,\"#7201a8\"],[0.3333333333333333,\"#9c179e\"],[0.4444444444444444,\"#bd3786\"],[0.5555555555555556,\"#d8576b\"],[0.6666666666666666,\"#ed7953\"],[0.7777777777777778,\"#fb9f3a\"],[0.8888888888888888,\"#fdca26\"],[1.0,\"#f0f921\"]],\"sequentialminus\":[[0.0,\"#0d0887\"],[0.1111111111111111,\"#46039f\"],[0.2222222222222222,\"#7201a8\"],[0.3333333333333333,\"#9c179e\"],[0.4444444444444444,\"#bd3786\"],[0.5555555555555556,\"#d8576b\"],[0.6666666666666666,\"#ed7953\"],[0.7777777777777778,\"#fb9f3a\"],[0.8888888888888888,\"#fdca26\"],[1.0,\"#f0f921\"]],\"diverging\":[[0,\"#8e0152\"],[0.1,\"#c51b7d\"],[0.2,\"#de77ae\"],[0.3,\"#f1b6da\"],[0.4,\"#fde0ef\"],[0.5,\"#f7f7f7\"],[0.6,\"#e6f5d0\"],[0.7,\"#b8e186\"],[0.8,\"#7fbc41\"],[0.9,\"#4d9221\"],[1,\"#276419\"]]},\"xaxis\":{\"gridcolor\":\"white\",\"linecolor\":\"white\",\"ticks\":\"\",\"title\":{\"standoff\":15},\"zerolinecolor\":\"white\",\"automargin\":true,\"zerolinewidth\":2},\"yaxis\":{\"gridcolor\":\"white\",\"linecolor\":\"white\",\"ticks\":\"\",\"title\":{\"standoff\":15},\"zerolinecolor\":\"white\",\"automargin\":true,\"zerolinewidth\":2},\"scene\":{\"xaxis\":{\"backgroundcolor\":\"#E5ECF6\",\"gridcolor\":\"white\",\"linecolor\":\"white\",\"showbackground\":true,\"ticks\":\"\",\"zerolinecolor\":\"white\",\"gridwidth\":2},\"yaxis\":{\"backgroundcolor\":\"#E5ECF6\",\"gridcolor\":\"white\",\"linecolor\":\"white\",\"showbackground\":true,\"ticks\":\"\",\"zerolinecolor\":\"white\",\"gridwidth\":2},\"zaxis\":{\"backgroundcolor\":\"#E5ECF6\",\"gridcolor\":\"white\",\"linecolor\":\"white\",\"showbackground\":true,\"ticks\":\"\",\"zerolinecolor\":\"white\",\"gridwidth\":2}},\"shapedefaults\":{\"line\":{\"color\":\"#2a3f5f\"}},\"annotationdefaults\":{\"arrowcolor\":\"#2a3f5f\",\"arrowhead\":0,\"arrowwidth\":1},\"geo\":{\"bgcolor\":\"white\",\"landcolor\":\"#E5ECF6\",\"subunitcolor\":\"white\",\"showland\":true,\"showlakes\":true,\"lakecolor\":\"white\"},\"title\":{\"x\":0.05},\"mapbox\":{\"style\":\"light\"}}}},                        {\"responsive\": true}                    ).then(function(){\n",
       "                            \n",
       "var gd = document.getElementById('007b2a17-551b-4517-a5d5-9be69772cf3c');\n",
       "var x = new MutationObserver(function (mutations, observer) {{\n",
       "        var display = window.getComputedStyle(gd).display;\n",
       "        if (!display || display === 'none') {{\n",
       "            console.log([gd, 'removed!']);\n",
       "            Plotly.purge(gd);\n",
       "            observer.disconnect();\n",
       "        }}\n",
       "}});\n",
       "\n",
       "// Listen for the removal of the full notebook cells\n",
       "var notebookContainer = gd.closest('#notebook-container');\n",
       "if (notebookContainer) {{\n",
       "    x.observe(notebookContainer, {childList: true});\n",
       "}}\n",
       "\n",
       "// Listen for the clearing of the current output cell\n",
       "var outputEl = gd.closest('.output');\n",
       "if (outputEl) {{\n",
       "    x.observe(outputEl, {childList: true});\n",
       "}}\n",
       "\n",
       "                        })                };                });            </script>        </div>"
      ]
     },
     "metadata": {},
     "output_type": "display_data"
    }
   ],
   "source": [
    "plot_param_importances(study)"
   ]
  },
  {
   "cell_type": "markdown",
   "id": "ffd4f8b5-b64c-49d8-a12c-e01e93fc452a",
   "metadata": {
    "tags": []
   },
   "source": [
    "# Classifier Modeling\n",
    "\n",
    "## Logistic Regression Model"
   ]
  },
  {
   "cell_type": "code",
   "execution_count": 317,
   "id": "1f8282e9-bca0-495e-a38d-8e894fc1785c",
   "metadata": {
    "tags": []
   },
   "outputs": [],
   "source": [
    "# Define your features and target variable\n",
    "X = fixture_oh.drop(['home_win', 'ascore', 'hscore', 'hdiff', 'date', 'time', 'venue', 'time_int', 'year', 'day'], axis=1)\n",
    "y = fixture_oh['home_win']\n",
    "\n",
    "# Split the data\n",
    "X_train, X_test, y_train, y_test = train_test_split(X, y, test_size=0.1, shuffle=True, random_state=42)\n",
    "X_train, X_val, y_train, y_val = train_test_split(X_train, y_train, test_size=0.1, shuffle=True, random_state=42)"
   ]
  },
  {
   "cell_type": "code",
   "execution_count": 318,
   "id": "83e38d8d-c201-45db-a040-5a28d04a5c4c",
   "metadata": {
    "tags": []
   },
   "outputs": [
    {
     "data": {
      "text/html": [
       "<div>\n",
       "<style scoped>\n",
       "    .dataframe tbody tr th:only-of-type {\n",
       "        vertical-align: middle;\n",
       "    }\n",
       "\n",
       "    .dataframe tbody tr th {\n",
       "        vertical-align: top;\n",
       "    }\n",
       "\n",
       "    .dataframe thead th {\n",
       "        text-align: right;\n",
       "    }\n",
       "</style>\n",
       "<table border=\"1\" class=\"dataframe\">\n",
       "  <thead>\n",
       "    <tr style=\"text-align: right;\">\n",
       "      <th></th>\n",
       "      <th>round</th>\n",
       "      <th>is_grand_final</th>\n",
       "      <th>is_final</th>\n",
       "      <th>month</th>\n",
       "      <th>time_group</th>\n",
       "      <th>region_ACT</th>\n",
       "      <th>region_CHN</th>\n",
       "      <th>region_NSW</th>\n",
       "      <th>region_NT</th>\n",
       "      <th>region_QLD</th>\n",
       "      <th>region_SA</th>\n",
       "      <th>region_TAS</th>\n",
       "      <th>region_VIC</th>\n",
       "      <th>region_WA</th>\n",
       "      <th>hteam_Adelaide</th>\n",
       "      <th>hteam_Brisbane Lions</th>\n",
       "      <th>hteam_Carlton</th>\n",
       "      <th>hteam_Collingwood</th>\n",
       "      <th>hteam_Essendon</th>\n",
       "      <th>hteam_Fremantle</th>\n",
       "      <th>hteam_Geelong</th>\n",
       "      <th>hteam_Gold Coast</th>\n",
       "      <th>hteam_Greater Western Sydney</th>\n",
       "      <th>hteam_Hawthorn</th>\n",
       "      <th>hteam_Melbourne</th>\n",
       "      <th>hteam_North Melbourne</th>\n",
       "      <th>hteam_Port Adelaide</th>\n",
       "      <th>hteam_Richmond</th>\n",
       "      <th>hteam_St Kilda</th>\n",
       "      <th>hteam_Sydney</th>\n",
       "      <th>hteam_West Coast</th>\n",
       "      <th>hteam_Western Bulldogs</th>\n",
       "      <th>ateam_Adelaide</th>\n",
       "      <th>ateam_Brisbane Lions</th>\n",
       "      <th>ateam_Carlton</th>\n",
       "      <th>ateam_Collingwood</th>\n",
       "      <th>ateam_Essendon</th>\n",
       "      <th>ateam_Fremantle</th>\n",
       "      <th>ateam_Geelong</th>\n",
       "      <th>ateam_Gold Coast</th>\n",
       "      <th>ateam_Greater Western Sydney</th>\n",
       "      <th>ateam_Hawthorn</th>\n",
       "      <th>ateam_Melbourne</th>\n",
       "      <th>ateam_North Melbourne</th>\n",
       "      <th>ateam_Port Adelaide</th>\n",
       "      <th>ateam_Richmond</th>\n",
       "      <th>ateam_St Kilda</th>\n",
       "      <th>ateam_Sydney</th>\n",
       "      <th>ateam_West Coast</th>\n",
       "      <th>ateam_Western Bulldogs</th>\n",
       "      <th>day_group_Friday</th>\n",
       "      <th>day_group_Saturday</th>\n",
       "      <th>day_group_Sunday</th>\n",
       "      <th>day_group_Weekday</th>\n",
       "      <th>year_encoded</th>\n",
       "    </tr>\n",
       "  </thead>\n",
       "  <tbody>\n",
       "    <tr>\n",
       "      <th>869</th>\n",
       "      <td>10</td>\n",
       "      <td>0</td>\n",
       "      <td>0</td>\n",
       "      <td>5</td>\n",
       "      <td>5</td>\n",
       "      <td>0</td>\n",
       "      <td>0</td>\n",
       "      <td>0</td>\n",
       "      <td>0</td>\n",
       "      <td>0</td>\n",
       "      <td>0</td>\n",
       "      <td>0</td>\n",
       "      <td>0</td>\n",
       "      <td>1</td>\n",
       "      <td>0</td>\n",
       "      <td>0</td>\n",
       "      <td>0</td>\n",
       "      <td>0</td>\n",
       "      <td>0</td>\n",
       "      <td>1</td>\n",
       "      <td>0</td>\n",
       "      <td>0</td>\n",
       "      <td>0</td>\n",
       "      <td>0</td>\n",
       "      <td>0</td>\n",
       "      <td>0</td>\n",
       "      <td>0</td>\n",
       "      <td>0</td>\n",
       "      <td>0</td>\n",
       "      <td>0</td>\n",
       "      <td>0</td>\n",
       "      <td>0</td>\n",
       "      <td>0</td>\n",
       "      <td>0</td>\n",
       "      <td>0</td>\n",
       "      <td>0</td>\n",
       "      <td>0</td>\n",
       "      <td>0</td>\n",
       "      <td>0</td>\n",
       "      <td>0</td>\n",
       "      <td>0</td>\n",
       "      <td>0</td>\n",
       "      <td>0</td>\n",
       "      <td>0</td>\n",
       "      <td>0</td>\n",
       "      <td>0</td>\n",
       "      <td>0</td>\n",
       "      <td>1</td>\n",
       "      <td>0</td>\n",
       "      <td>0</td>\n",
       "      <td>0</td>\n",
       "      <td>1</td>\n",
       "      <td>0</td>\n",
       "      <td>0</td>\n",
       "      <td>4.0</td>\n",
       "    </tr>\n",
       "    <tr>\n",
       "      <th>281</th>\n",
       "      <td>9</td>\n",
       "      <td>0</td>\n",
       "      <td>0</td>\n",
       "      <td>5</td>\n",
       "      <td>1</td>\n",
       "      <td>0</td>\n",
       "      <td>0</td>\n",
       "      <td>0</td>\n",
       "      <td>0</td>\n",
       "      <td>0</td>\n",
       "      <td>0</td>\n",
       "      <td>0</td>\n",
       "      <td>1</td>\n",
       "      <td>0</td>\n",
       "      <td>0</td>\n",
       "      <td>0</td>\n",
       "      <td>1</td>\n",
       "      <td>0</td>\n",
       "      <td>0</td>\n",
       "      <td>0</td>\n",
       "      <td>0</td>\n",
       "      <td>0</td>\n",
       "      <td>0</td>\n",
       "      <td>0</td>\n",
       "      <td>0</td>\n",
       "      <td>0</td>\n",
       "      <td>0</td>\n",
       "      <td>0</td>\n",
       "      <td>0</td>\n",
       "      <td>0</td>\n",
       "      <td>0</td>\n",
       "      <td>0</td>\n",
       "      <td>0</td>\n",
       "      <td>0</td>\n",
       "      <td>0</td>\n",
       "      <td>0</td>\n",
       "      <td>0</td>\n",
       "      <td>0</td>\n",
       "      <td>0</td>\n",
       "      <td>0</td>\n",
       "      <td>0</td>\n",
       "      <td>0</td>\n",
       "      <td>1</td>\n",
       "      <td>0</td>\n",
       "      <td>0</td>\n",
       "      <td>0</td>\n",
       "      <td>0</td>\n",
       "      <td>0</td>\n",
       "      <td>0</td>\n",
       "      <td>0</td>\n",
       "      <td>0</td>\n",
       "      <td>0</td>\n",
       "      <td>1</td>\n",
       "      <td>0</td>\n",
       "      <td>1.0</td>\n",
       "    </tr>\n",
       "    <tr>\n",
       "      <th>285</th>\n",
       "      <td>9</td>\n",
       "      <td>0</td>\n",
       "      <td>0</td>\n",
       "      <td>5</td>\n",
       "      <td>7</td>\n",
       "      <td>0</td>\n",
       "      <td>0</td>\n",
       "      <td>0</td>\n",
       "      <td>0</td>\n",
       "      <td>0</td>\n",
       "      <td>0</td>\n",
       "      <td>0</td>\n",
       "      <td>1</td>\n",
       "      <td>0</td>\n",
       "      <td>0</td>\n",
       "      <td>0</td>\n",
       "      <td>0</td>\n",
       "      <td>0</td>\n",
       "      <td>0</td>\n",
       "      <td>0</td>\n",
       "      <td>0</td>\n",
       "      <td>0</td>\n",
       "      <td>0</td>\n",
       "      <td>0</td>\n",
       "      <td>0</td>\n",
       "      <td>0</td>\n",
       "      <td>0</td>\n",
       "      <td>0</td>\n",
       "      <td>1</td>\n",
       "      <td>0</td>\n",
       "      <td>0</td>\n",
       "      <td>0</td>\n",
       "      <td>0</td>\n",
       "      <td>0</td>\n",
       "      <td>0</td>\n",
       "      <td>1</td>\n",
       "      <td>0</td>\n",
       "      <td>0</td>\n",
       "      <td>0</td>\n",
       "      <td>0</td>\n",
       "      <td>0</td>\n",
       "      <td>0</td>\n",
       "      <td>0</td>\n",
       "      <td>0</td>\n",
       "      <td>0</td>\n",
       "      <td>0</td>\n",
       "      <td>0</td>\n",
       "      <td>0</td>\n",
       "      <td>0</td>\n",
       "      <td>0</td>\n",
       "      <td>0</td>\n",
       "      <td>1</td>\n",
       "      <td>0</td>\n",
       "      <td>0</td>\n",
       "      <td>1.0</td>\n",
       "    </tr>\n",
       "    <tr>\n",
       "      <th>1347</th>\n",
       "      <td>18</td>\n",
       "      <td>0</td>\n",
       "      <td>0</td>\n",
       "      <td>7</td>\n",
       "      <td>1</td>\n",
       "      <td>0</td>\n",
       "      <td>0</td>\n",
       "      <td>0</td>\n",
       "      <td>0</td>\n",
       "      <td>0</td>\n",
       "      <td>0</td>\n",
       "      <td>0</td>\n",
       "      <td>1</td>\n",
       "      <td>0</td>\n",
       "      <td>0</td>\n",
       "      <td>0</td>\n",
       "      <td>0</td>\n",
       "      <td>0</td>\n",
       "      <td>0</td>\n",
       "      <td>0</td>\n",
       "      <td>0</td>\n",
       "      <td>0</td>\n",
       "      <td>0</td>\n",
       "      <td>0</td>\n",
       "      <td>0</td>\n",
       "      <td>1</td>\n",
       "      <td>0</td>\n",
       "      <td>0</td>\n",
       "      <td>0</td>\n",
       "      <td>0</td>\n",
       "      <td>0</td>\n",
       "      <td>0</td>\n",
       "      <td>0</td>\n",
       "      <td>0</td>\n",
       "      <td>0</td>\n",
       "      <td>0</td>\n",
       "      <td>0</td>\n",
       "      <td>0</td>\n",
       "      <td>0</td>\n",
       "      <td>0</td>\n",
       "      <td>0</td>\n",
       "      <td>1</td>\n",
       "      <td>0</td>\n",
       "      <td>0</td>\n",
       "      <td>0</td>\n",
       "      <td>0</td>\n",
       "      <td>0</td>\n",
       "      <td>0</td>\n",
       "      <td>0</td>\n",
       "      <td>0</td>\n",
       "      <td>0</td>\n",
       "      <td>0</td>\n",
       "      <td>1</td>\n",
       "      <td>0</td>\n",
       "      <td>6.0</td>\n",
       "    </tr>\n",
       "    <tr>\n",
       "      <th>1278</th>\n",
       "      <td>10</td>\n",
       "      <td>0</td>\n",
       "      <td>0</td>\n",
       "      <td>5</td>\n",
       "      <td>7</td>\n",
       "      <td>0</td>\n",
       "      <td>0</td>\n",
       "      <td>0</td>\n",
       "      <td>0</td>\n",
       "      <td>1</td>\n",
       "      <td>0</td>\n",
       "      <td>0</td>\n",
       "      <td>0</td>\n",
       "      <td>0</td>\n",
       "      <td>0</td>\n",
       "      <td>1</td>\n",
       "      <td>0</td>\n",
       "      <td>0</td>\n",
       "      <td>0</td>\n",
       "      <td>0</td>\n",
       "      <td>0</td>\n",
       "      <td>0</td>\n",
       "      <td>0</td>\n",
       "      <td>0</td>\n",
       "      <td>0</td>\n",
       "      <td>0</td>\n",
       "      <td>0</td>\n",
       "      <td>0</td>\n",
       "      <td>0</td>\n",
       "      <td>0</td>\n",
       "      <td>0</td>\n",
       "      <td>0</td>\n",
       "      <td>0</td>\n",
       "      <td>0</td>\n",
       "      <td>0</td>\n",
       "      <td>0</td>\n",
       "      <td>0</td>\n",
       "      <td>0</td>\n",
       "      <td>0</td>\n",
       "      <td>1</td>\n",
       "      <td>0</td>\n",
       "      <td>0</td>\n",
       "      <td>0</td>\n",
       "      <td>0</td>\n",
       "      <td>0</td>\n",
       "      <td>0</td>\n",
       "      <td>0</td>\n",
       "      <td>0</td>\n",
       "      <td>0</td>\n",
       "      <td>0</td>\n",
       "      <td>0</td>\n",
       "      <td>1</td>\n",
       "      <td>0</td>\n",
       "      <td>0</td>\n",
       "      <td>6.0</td>\n",
       "    </tr>\n",
       "  </tbody>\n",
       "</table>\n",
       "</div>"
      ],
      "text/plain": [
       "      round  is_grand_final  is_final  month  time_group  region_ACT  \\\n",
       "869      10               0         0      5           5           0   \n",
       "281       9               0         0      5           1           0   \n",
       "285       9               0         0      5           7           0   \n",
       "1347     18               0         0      7           1           0   \n",
       "1278     10               0         0      5           7           0   \n",
       "\n",
       "      region_CHN  region_NSW  region_NT  region_QLD  region_SA  region_TAS  \\\n",
       "869            0           0          0           0          0           0   \n",
       "281            0           0          0           0          0           0   \n",
       "285            0           0          0           0          0           0   \n",
       "1347           0           0          0           0          0           0   \n",
       "1278           0           0          0           1          0           0   \n",
       "\n",
       "      region_VIC  region_WA  hteam_Adelaide  hteam_Brisbane Lions  \\\n",
       "869            0          1               0                     0   \n",
       "281            1          0               0                     0   \n",
       "285            1          0               0                     0   \n",
       "1347           1          0               0                     0   \n",
       "1278           0          0               0                     1   \n",
       "\n",
       "      hteam_Carlton  hteam_Collingwood  hteam_Essendon  hteam_Fremantle  \\\n",
       "869               0                  0               0                1   \n",
       "281               1                  0               0                0   \n",
       "285               0                  0               0                0   \n",
       "1347              0                  0               0                0   \n",
       "1278              0                  0               0                0   \n",
       "\n",
       "      hteam_Geelong  hteam_Gold Coast  hteam_Greater Western Sydney  \\\n",
       "869               0                 0                             0   \n",
       "281               0                 0                             0   \n",
       "285               0                 0                             0   \n",
       "1347              0                 0                             0   \n",
       "1278              0                 0                             0   \n",
       "\n",
       "      hteam_Hawthorn  hteam_Melbourne  hteam_North Melbourne  \\\n",
       "869                0                0                      0   \n",
       "281                0                0                      0   \n",
       "285                0                0                      0   \n",
       "1347               0                0                      1   \n",
       "1278               0                0                      0   \n",
       "\n",
       "      hteam_Port Adelaide  hteam_Richmond  hteam_St Kilda  hteam_Sydney  \\\n",
       "869                     0               0               0             0   \n",
       "281                     0               0               0             0   \n",
       "285                     0               0               1             0   \n",
       "1347                    0               0               0             0   \n",
       "1278                    0               0               0             0   \n",
       "\n",
       "      hteam_West Coast  hteam_Western Bulldogs  ateam_Adelaide  \\\n",
       "869                  0                       0               0   \n",
       "281                  0                       0               0   \n",
       "285                  0                       0               0   \n",
       "1347                 0                       0               0   \n",
       "1278                 0                       0               0   \n",
       "\n",
       "      ateam_Brisbane Lions  ateam_Carlton  ateam_Collingwood  ateam_Essendon  \\\n",
       "869                      0              0                  0               0   \n",
       "281                      0              0                  0               0   \n",
       "285                      0              0                  1               0   \n",
       "1347                     0              0                  0               0   \n",
       "1278                     0              0                  0               0   \n",
       "\n",
       "      ateam_Fremantle  ateam_Geelong  ateam_Gold Coast  \\\n",
       "869                 0              0                 0   \n",
       "281                 0              0                 0   \n",
       "285                 0              0                 0   \n",
       "1347                0              0                 0   \n",
       "1278                0              0                 1   \n",
       "\n",
       "      ateam_Greater Western Sydney  ateam_Hawthorn  ateam_Melbourne  \\\n",
       "869                              0               0                0   \n",
       "281                              0               0                1   \n",
       "285                              0               0                0   \n",
       "1347                             0               1                0   \n",
       "1278                             0               0                0   \n",
       "\n",
       "      ateam_North Melbourne  ateam_Port Adelaide  ateam_Richmond  \\\n",
       "869                       0                    0               0   \n",
       "281                       0                    0               0   \n",
       "285                       0                    0               0   \n",
       "1347                      0                    0               0   \n",
       "1278                      0                    0               0   \n",
       "\n",
       "      ateam_St Kilda  ateam_Sydney  ateam_West Coast  ateam_Western Bulldogs  \\\n",
       "869                0             1                 0                       0   \n",
       "281                0             0                 0                       0   \n",
       "285                0             0                 0                       0   \n",
       "1347               0             0                 0                       0   \n",
       "1278               0             0                 0                       0   \n",
       "\n",
       "      day_group_Friday  day_group_Saturday  day_group_Sunday  \\\n",
       "869                  0                   1                 0   \n",
       "281                  0                   0                 1   \n",
       "285                  0                   1                 0   \n",
       "1347                 0                   0                 1   \n",
       "1278                 0                   1                 0   \n",
       "\n",
       "      day_group_Weekday  year_encoded  \n",
       "869                   0           4.0  \n",
       "281                   0           1.0  \n",
       "285                   0           1.0  \n",
       "1347                  0           6.0  \n",
       "1278                  0           6.0  "
      ]
     },
     "execution_count": 318,
     "metadata": {},
     "output_type": "execute_result"
    }
   ],
   "source": [
    "X_train.head()"
   ]
  },
  {
   "cell_type": "code",
   "execution_count": 319,
   "id": "7a7fe7b4-1cae-426b-936d-969e49712523",
   "metadata": {
    "tags": []
   },
   "outputs": [
    {
     "data": {
      "text/html": [
       "<style>#sk-container-id-23 {color: black;}#sk-container-id-23 pre{padding: 0;}#sk-container-id-23 div.sk-toggleable {background-color: white;}#sk-container-id-23 label.sk-toggleable__label {cursor: pointer;display: block;width: 100%;margin-bottom: 0;padding: 0.3em;box-sizing: border-box;text-align: center;}#sk-container-id-23 label.sk-toggleable__label-arrow:before {content: \"▸\";float: left;margin-right: 0.25em;color: #696969;}#sk-container-id-23 label.sk-toggleable__label-arrow:hover:before {color: black;}#sk-container-id-23 div.sk-estimator:hover label.sk-toggleable__label-arrow:before {color: black;}#sk-container-id-23 div.sk-toggleable__content {max-height: 0;max-width: 0;overflow: hidden;text-align: left;background-color: #f0f8ff;}#sk-container-id-23 div.sk-toggleable__content pre {margin: 0.2em;color: black;border-radius: 0.25em;background-color: #f0f8ff;}#sk-container-id-23 input.sk-toggleable__control:checked~div.sk-toggleable__content {max-height: 200px;max-width: 100%;overflow: auto;}#sk-container-id-23 input.sk-toggleable__control:checked~label.sk-toggleable__label-arrow:before {content: \"▾\";}#sk-container-id-23 div.sk-estimator input.sk-toggleable__control:checked~label.sk-toggleable__label {background-color: #d4ebff;}#sk-container-id-23 div.sk-label input.sk-toggleable__control:checked~label.sk-toggleable__label {background-color: #d4ebff;}#sk-container-id-23 input.sk-hidden--visually {border: 0;clip: rect(1px 1px 1px 1px);clip: rect(1px, 1px, 1px, 1px);height: 1px;margin: -1px;overflow: hidden;padding: 0;position: absolute;width: 1px;}#sk-container-id-23 div.sk-estimator {font-family: monospace;background-color: #f0f8ff;border: 1px dotted black;border-radius: 0.25em;box-sizing: border-box;margin-bottom: 0.5em;}#sk-container-id-23 div.sk-estimator:hover {background-color: #d4ebff;}#sk-container-id-23 div.sk-parallel-item::after {content: \"\";width: 100%;border-bottom: 1px solid gray;flex-grow: 1;}#sk-container-id-23 div.sk-label:hover label.sk-toggleable__label {background-color: #d4ebff;}#sk-container-id-23 div.sk-serial::before {content: \"\";position: absolute;border-left: 1px solid gray;box-sizing: border-box;top: 0;bottom: 0;left: 50%;z-index: 0;}#sk-container-id-23 div.sk-serial {display: flex;flex-direction: column;align-items: center;background-color: white;padding-right: 0.2em;padding-left: 0.2em;position: relative;}#sk-container-id-23 div.sk-item {position: relative;z-index: 1;}#sk-container-id-23 div.sk-parallel {display: flex;align-items: stretch;justify-content: center;background-color: white;position: relative;}#sk-container-id-23 div.sk-item::before, #sk-container-id-23 div.sk-parallel-item::before {content: \"\";position: absolute;border-left: 1px solid gray;box-sizing: border-box;top: 0;bottom: 0;left: 50%;z-index: -1;}#sk-container-id-23 div.sk-parallel-item {display: flex;flex-direction: column;z-index: 1;position: relative;background-color: white;}#sk-container-id-23 div.sk-parallel-item:first-child::after {align-self: flex-end;width: 50%;}#sk-container-id-23 div.sk-parallel-item:last-child::after {align-self: flex-start;width: 50%;}#sk-container-id-23 div.sk-parallel-item:only-child::after {width: 0;}#sk-container-id-23 div.sk-dashed-wrapped {border: 1px dashed gray;margin: 0 0.4em 0.5em 0.4em;box-sizing: border-box;padding-bottom: 0.4em;background-color: white;}#sk-container-id-23 div.sk-label label {font-family: monospace;font-weight: bold;display: inline-block;line-height: 1.2em;}#sk-container-id-23 div.sk-label-container {text-align: center;}#sk-container-id-23 div.sk-container {/* jupyter's `normalize.less` sets `[hidden] { display: none; }` but bootstrap.min.css set `[hidden] { display: none !important; }` so we also need the `!important` here to be able to override the default hidden behavior on the sphinx rendered scikit-learn.org. See: https://github.com/scikit-learn/scikit-learn/issues/21755 */display: inline-block !important;position: relative;}#sk-container-id-23 div.sk-text-repr-fallback {display: none;}</style><div id=\"sk-container-id-23\" class=\"sk-top-container\"><div class=\"sk-text-repr-fallback\"><pre>LogisticRegression(max_iter=500)</pre><b>In a Jupyter environment, please rerun this cell to show the HTML representation or trust the notebook. <br />On GitHub, the HTML representation is unable to render, please try loading this page with nbviewer.org.</b></div><div class=\"sk-container\" hidden><div class=\"sk-item\"><div class=\"sk-estimator sk-toggleable\"><input class=\"sk-toggleable__control sk-hidden--visually\" id=\"sk-estimator-id-27\" type=\"checkbox\" checked><label for=\"sk-estimator-id-27\" class=\"sk-toggleable__label sk-toggleable__label-arrow\">LogisticRegression</label><div class=\"sk-toggleable__content\"><pre>LogisticRegression(max_iter=500)</pre></div></div></div></div></div>"
      ],
      "text/plain": [
       "LogisticRegression(max_iter=500)"
      ]
     },
     "execution_count": 319,
     "metadata": {},
     "output_type": "execute_result"
    }
   ],
   "source": [
    "# Create and fit the model\n",
    "model = LogisticRegression(max_iter=500)\n",
    "model.fit(X_train, y_train)"
   ]
  },
  {
   "cell_type": "code",
   "execution_count": 320,
   "id": "732ddb1e-26c8-43ee-bd96-0782cc4e015e",
   "metadata": {
    "tags": []
   },
   "outputs": [
    {
     "name": "stdout",
     "output_type": "stream",
     "text": [
      "              precision    recall  f1-score   support\n",
      "\n",
      "           0       0.62      0.45      0.52        58\n",
      "           1       0.68      0.81      0.74        84\n",
      "\n",
      "    accuracy                           0.66       142\n",
      "   macro avg       0.65      0.63      0.63       142\n",
      "weighted avg       0.66      0.66      0.65       142\n",
      "\n"
     ]
    }
   ],
   "source": [
    "# Predict and evaluate\n",
    "y_pred = model.predict(X_test)\n",
    "print(classification_report(y_test, y_pred))"
   ]
  },
  {
   "cell_type": "markdown",
   "id": "75efdd7c-a4a7-4f93-9ace-0c0c8a9da0b6",
   "metadata": {},
   "source": [
    "### Optuna Logistic Regression"
   ]
  },
  {
   "cell_type": "code",
   "execution_count": 157,
   "id": "12589d90-b81e-4b0a-8bf4-8eb9a3d7124b",
   "metadata": {
    "tags": []
   },
   "outputs": [],
   "source": [
    "def objective(trial):\n",
    "    \n",
    "    solver = 'lbfgs'\n",
    "    # Suggest a penalty type\n",
    "    # penalty = trial.suggest_categorical('penalty', ['l2', None])\n",
    "\n",
    "\n",
    "    # Suggest a value for C\n",
    "    C = trial.suggest_float('C', 1e-4, 1e4, log=True)\n",
    "\n",
    "    # Model definition\n",
    "    model = LogisticRegression(max_iter=1000, C=C, solver='lbfgs')\n",
    "\n",
    "    # Fit model\n",
    "    model.fit(X_train, y_train)\n",
    "\n",
    "    # Predict and calculate accuracy\n",
    "    y_pred = model.predict(X_test)\n",
    "    accuracy = accuracy_score(y_test, y_pred)\n",
    "\n",
    "    return accuracy"
   ]
  },
  {
   "cell_type": "code",
   "execution_count": 158,
   "id": "55237ee7-fa33-4052-a274-d4ea567f8aad",
   "metadata": {
    "collapsed": true,
    "jupyter": {
     "outputs_hidden": true
    },
    "tags": []
   },
   "outputs": [
    {
     "name": "stderr",
     "output_type": "stream",
     "text": [
      "[I 2023-12-21 03:37:30,104] A new study created in memory with name: no-name-d0f54ca7-27fb-4149-ac85-40de7671f2ae\n",
      "[I 2023-12-21 03:37:30,188] Trial 0 finished with value: 0.6619718309859155 and parameters: {'C': 3.2793061777127344}. Best is trial 0 with value: 0.6619718309859155.\n",
      "[I 2023-12-21 03:37:30,259] Trial 1 finished with value: 0.6619718309859155 and parameters: {'C': 4.22155172940769}. Best is trial 0 with value: 0.6619718309859155.\n",
      "[I 2023-12-21 03:37:30,316] Trial 2 finished with value: 0.6619718309859155 and parameters: {'C': 5.0964568733078774}. Best is trial 0 with value: 0.6619718309859155.\n",
      "[I 2023-12-21 03:37:30,334] Trial 3 finished with value: 0.5985915492957746 and parameters: {'C': 0.012615457400227077}. Best is trial 0 with value: 0.6619718309859155.\n",
      "[I 2023-12-21 03:37:30,354] Trial 4 finished with value: 0.6408450704225352 and parameters: {'C': 0.057698621971757694}. Best is trial 0 with value: 0.6619718309859155.\n",
      "[I 2023-12-21 03:37:30,372] Trial 5 finished with value: 0.5985915492957746 and parameters: {'C': 0.01433131378056048}. Best is trial 0 with value: 0.6619718309859155.\n",
      "[I 2023-12-21 03:37:30,386] Trial 6 finished with value: 0.5915492957746479 and parameters: {'C': 0.0019475380718979023}. Best is trial 0 with value: 0.6619718309859155.\n",
      "[I 2023-12-21 03:37:30,471] Trial 7 finished with value: 0.6619718309859155 and parameters: {'C': 2468.167596736313}. Best is trial 0 with value: 0.6619718309859155.\n",
      "[I 2023-12-21 03:37:30,578] Trial 8 finished with value: 0.6619718309859155 and parameters: {'C': 6133.493942179061}. Best is trial 0 with value: 0.6619718309859155.\n",
      "[I 2023-12-21 03:37:30,594] Trial 9 finished with value: 0.5915492957746479 and parameters: {'C': 0.0005253964265439243}. Best is trial 0 with value: 0.6619718309859155.\n",
      "[I 2023-12-21 03:37:30,679] Trial 10 finished with value: 0.6619718309859155 and parameters: {'C': 53.9270675827447}. Best is trial 0 with value: 0.6619718309859155.\n",
      "[I 2023-12-21 03:37:30,756] Trial 11 finished with value: 0.6619718309859155 and parameters: {'C': 1.9353980014889915}. Best is trial 0 with value: 0.6619718309859155.\n",
      "[I 2023-12-21 03:37:30,834] Trial 12 finished with value: 0.6619718309859155 and parameters: {'C': 80.21633387699279}. Best is trial 0 with value: 0.6619718309859155.\n",
      "[I 2023-12-21 03:37:30,887] Trial 13 finished with value: 0.6619718309859155 and parameters: {'C': 0.22248664352397637}. Best is trial 0 with value: 0.6619718309859155.\n",
      "[I 2023-12-21 03:37:30,960] Trial 14 finished with value: 0.6619718309859155 and parameters: {'C': 27.763573715100332}. Best is trial 0 with value: 0.6619718309859155.\n",
      "[I 2023-12-21 03:37:31,062] Trial 15 finished with value: 0.6619718309859155 and parameters: {'C': 378.2317236638049}. Best is trial 0 with value: 0.6619718309859155.\n",
      "[I 2023-12-21 03:37:31,122] Trial 16 finished with value: 0.6619718309859155 and parameters: {'C': 0.6531267708672147}. Best is trial 0 with value: 0.6619718309859155.\n",
      "[I 2023-12-21 03:37:31,186] Trial 17 finished with value: 0.6619718309859155 and parameters: {'C': 7.669322037995653}. Best is trial 0 with value: 0.6619718309859155.\n",
      "[I 2023-12-21 03:37:31,262] Trial 18 finished with value: 0.6619718309859155 and parameters: {'C': 413.85772658535865}. Best is trial 0 with value: 0.6619718309859155.\n",
      "[I 2023-12-21 03:37:31,298] Trial 19 finished with value: 0.647887323943662 and parameters: {'C': 0.1988092067866751}. Best is trial 0 with value: 0.6619718309859155.\n",
      "[I 2023-12-21 03:37:31,313] Trial 20 finished with value: 0.5915492957746479 and parameters: {'C': 0.00012121117767960303}. Best is trial 0 with value: 0.6619718309859155.\n",
      "[I 2023-12-21 03:37:31,373] Trial 21 finished with value: 0.6619718309859155 and parameters: {'C': 3.938405273187124}. Best is trial 0 with value: 0.6619718309859155.\n",
      "[I 2023-12-21 03:37:31,440] Trial 22 finished with value: 0.6619718309859155 and parameters: {'C': 12.907836901497259}. Best is trial 0 with value: 0.6619718309859155.\n",
      "[I 2023-12-21 03:37:31,493] Trial 23 finished with value: 0.6619718309859155 and parameters: {'C': 1.1842061907519494}. Best is trial 0 with value: 0.6619718309859155.\n",
      "[I 2023-12-21 03:37:31,588] Trial 24 finished with value: 0.6619718309859155 and parameters: {'C': 246.66841332803693}. Best is trial 0 with value: 0.6619718309859155.\n",
      "[I 2023-12-21 03:37:31,632] Trial 25 finished with value: 0.6549295774647887 and parameters: {'C': 0.3476648136521626}. Best is trial 0 with value: 0.6619718309859155.\n",
      "[I 2023-12-21 03:37:31,732] Trial 26 finished with value: 0.6619718309859155 and parameters: {'C': 6.887770465148703}. Best is trial 0 with value: 0.6619718309859155.\n",
      "[I 2023-12-21 03:37:31,759] Trial 27 finished with value: 0.6408450704225352 and parameters: {'C': 0.08870487738216691}. Best is trial 0 with value: 0.6619718309859155.\n",
      "[I 2023-12-21 03:37:31,811] Trial 28 finished with value: 0.6619718309859155 and parameters: {'C': 1.1001216915757082}. Best is trial 0 with value: 0.6619718309859155.\n",
      "[I 2023-12-21 03:37:31,906] Trial 29 finished with value: 0.6619718309859155 and parameters: {'C': 25.089391117024668}. Best is trial 0 with value: 0.6619718309859155.\n",
      "[I 2023-12-21 03:37:31,927] Trial 30 finished with value: 0.6126760563380281 and parameters: {'C': 0.02012993730829079}. Best is trial 0 with value: 0.6619718309859155.\n",
      "[I 2023-12-21 03:37:32,043] Trial 31 finished with value: 0.6619718309859155 and parameters: {'C': 7989.138006001001}. Best is trial 0 with value: 0.6619718309859155.\n",
      "[I 2023-12-21 03:37:32,138] Trial 32 finished with value: 0.6619718309859155 and parameters: {'C': 1271.529961066054}. Best is trial 0 with value: 0.6619718309859155.\n",
      "[I 2023-12-21 03:37:32,257] Trial 33 finished with value: 0.6619718309859155 and parameters: {'C': 1274.6586341023994}. Best is trial 0 with value: 0.6619718309859155.\n",
      "[I 2023-12-21 03:37:32,340] Trial 34 finished with value: 0.6619718309859155 and parameters: {'C': 103.58856722403573}. Best is trial 0 with value: 0.6619718309859155.\n",
      "[I 2023-12-21 03:37:32,490] Trial 35 finished with value: 0.6619718309859155 and parameters: {'C': 3.161648568781441}. Best is trial 0 with value: 0.6619718309859155.\n",
      "[I 2023-12-21 03:37:32,513] Trial 36 finished with value: 0.6197183098591549 and parameters: {'C': 0.02719040362461338}. Best is trial 0 with value: 0.6619718309859155.\n",
      "[I 2023-12-21 03:37:32,533] Trial 37 finished with value: 0.5915492957746479 and parameters: {'C': 0.007972012380675839}. Best is trial 0 with value: 0.6619718309859155.\n",
      "[I 2023-12-21 03:37:32,660] Trial 38 finished with value: 0.6619718309859155 and parameters: {'C': 2367.4135561581884}. Best is trial 0 with value: 0.6619718309859155.\n",
      "[I 2023-12-21 03:37:32,764] Trial 39 finished with value: 0.6619718309859155 and parameters: {'C': 27.12131812698984}. Best is trial 0 with value: 0.6619718309859155.\n",
      "[I 2023-12-21 03:37:32,783] Trial 40 finished with value: 0.5915492957746479 and parameters: {'C': 0.0022262495794091912}. Best is trial 0 with value: 0.6619718309859155.\n",
      "[I 2023-12-21 03:37:32,893] Trial 41 finished with value: 0.6619718309859155 and parameters: {'C': 6691.073512879847}. Best is trial 0 with value: 0.6619718309859155.\n",
      "[I 2023-12-21 03:37:32,966] Trial 42 finished with value: 0.6619718309859155 and parameters: {'C': 178.1083167716946}. Best is trial 0 with value: 0.6619718309859155.\n",
      "[I 2023-12-21 03:37:33,061] Trial 43 finished with value: 0.6619718309859155 and parameters: {'C': 4242.690226408908}. Best is trial 0 with value: 0.6619718309859155.\n",
      "[I 2023-12-21 03:37:33,165] Trial 44 finished with value: 0.6619718309859155 and parameters: {'C': 1506.1760288292394}. Best is trial 0 with value: 0.6619718309859155.\n",
      "[I 2023-12-21 03:37:33,245] Trial 45 finished with value: 0.6619718309859155 and parameters: {'C': 490.9336686875851}. Best is trial 0 with value: 0.6619718309859155.\n",
      "[I 2023-12-21 03:37:33,327] Trial 46 finished with value: 0.6619718309859155 and parameters: {'C': 68.84226547091369}. Best is trial 0 with value: 0.6619718309859155.\n",
      "[I 2023-12-21 03:37:33,373] Trial 47 finished with value: 0.6549295774647887 and parameters: {'C': 0.48463025276180266}. Best is trial 0 with value: 0.6619718309859155.\n",
      "[I 2023-12-21 03:37:33,469] Trial 48 finished with value: 0.6619718309859155 and parameters: {'C': 2.0263204126247363}. Best is trial 0 with value: 0.6619718309859155.\n",
      "[I 2023-12-21 03:37:33,536] Trial 49 finished with value: 0.6619718309859155 and parameters: {'C': 10.921959369153544}. Best is trial 0 with value: 0.6619718309859155.\n",
      "[I 2023-12-21 03:37:33,571] Trial 50 finished with value: 0.6408450704225352 and parameters: {'C': 0.07897518125176374}. Best is trial 0 with value: 0.6619718309859155.\n",
      "[I 2023-12-21 03:37:33,655] Trial 51 finished with value: 0.6619718309859155 and parameters: {'C': 50.86504468469418}. Best is trial 0 with value: 0.6619718309859155.\n",
      "[I 2023-12-21 03:37:33,773] Trial 52 finished with value: 0.6619718309859155 and parameters: {'C': 644.116967462289}. Best is trial 0 with value: 0.6619718309859155.\n",
      "[I 2023-12-21 03:37:33,836] Trial 53 finished with value: 0.6619718309859155 and parameters: {'C': 3.8027071697113506}. Best is trial 0 with value: 0.6619718309859155.\n",
      "[I 2023-12-21 03:37:33,943] Trial 54 finished with value: 0.6619718309859155 and parameters: {'C': 16.611731734028954}. Best is trial 0 with value: 0.6619718309859155.\n",
      "[I 2023-12-21 03:37:34,032] Trial 55 finished with value: 0.6619718309859155 and parameters: {'C': 2963.007904344829}. Best is trial 0 with value: 0.6619718309859155.\n",
      "[I 2023-12-21 03:37:34,120] Trial 56 finished with value: 0.6619718309859155 and parameters: {'C': 5.981162611024969}. Best is trial 0 with value: 0.6619718309859155.\n",
      "[I 2023-12-21 03:37:34,190] Trial 57 finished with value: 0.6619718309859155 and parameters: {'C': 0.7872612463959887}. Best is trial 0 with value: 0.6619718309859155.\n",
      "[I 2023-12-21 03:37:34,296] Trial 58 finished with value: 0.6619718309859155 and parameters: {'C': 144.8407150343111}. Best is trial 0 with value: 0.6619718309859155.\n",
      "[I 2023-12-21 03:37:34,385] Trial 59 finished with value: 0.6619718309859155 and parameters: {'C': 45.474000393972005}. Best is trial 0 with value: 0.6619718309859155.\n",
      "[I 2023-12-21 03:37:34,446] Trial 60 finished with value: 0.6619718309859155 and parameters: {'C': 1.2973192703150478}. Best is trial 0 with value: 0.6619718309859155.\n",
      "[I 2023-12-21 03:37:34,489] Trial 61 finished with value: 0.6408450704225352 and parameters: {'C': 0.15940439992468475}. Best is trial 0 with value: 0.6619718309859155.\n",
      "[I 2023-12-21 03:37:34,567] Trial 62 finished with value: 0.6619718309859155 and parameters: {'C': 1.6104044975558625}. Best is trial 0 with value: 0.6619718309859155.\n",
      "[I 2023-12-21 03:37:34,637] Trial 63 finished with value: 0.6619718309859155 and parameters: {'C': 3.3609229061675836}. Best is trial 0 with value: 0.6619718309859155.\n",
      "[I 2023-12-21 03:37:34,726] Trial 64 finished with value: 0.6549295774647887 and parameters: {'C': 0.340559415891096}. Best is trial 0 with value: 0.6619718309859155.\n",
      "[I 2023-12-21 03:37:34,802] Trial 65 finished with value: 0.6619718309859155 and parameters: {'C': 11.513701883134914}. Best is trial 0 with value: 0.6619718309859155.\n",
      "[I 2023-12-21 03:37:34,865] Trial 66 finished with value: 0.6619718309859155 and parameters: {'C': 5.498243779044384}. Best is trial 0 with value: 0.6619718309859155.\n",
      "[I 2023-12-21 03:37:34,932] Trial 67 finished with value: 0.6619718309859155 and parameters: {'C': 2.156116293630419}. Best is trial 0 with value: 0.6619718309859155.\n",
      "[I 2023-12-21 03:37:35,021] Trial 68 finished with value: 0.6619718309859155 and parameters: {'C': 21.078298273962844}. Best is trial 0 with value: 0.6619718309859155.\n",
      "[I 2023-12-21 03:37:35,147] Trial 69 finished with value: 0.6619718309859155 and parameters: {'C': 696.9119767848857}. Best is trial 0 with value: 0.6619718309859155.\n",
      "[I 2023-12-21 03:37:35,240] Trial 70 finished with value: 0.6619718309859155 and parameters: {'C': 8547.065001268993}. Best is trial 0 with value: 0.6619718309859155.\n",
      "[I 2023-12-21 03:37:35,340] Trial 71 finished with value: 0.6619718309859155 and parameters: {'C': 335.8526006180573}. Best is trial 0 with value: 0.6619718309859155.\n",
      "[I 2023-12-21 03:37:35,429] Trial 72 finished with value: 0.6619718309859155 and parameters: {'C': 8.033175646494175}. Best is trial 0 with value: 0.6619718309859155.\n",
      "[I 2023-12-21 03:37:35,521] Trial 73 finished with value: 0.6619718309859155 and parameters: {'C': 35.07719347484611}. Best is trial 0 with value: 0.6619718309859155.\n",
      "[I 2023-12-21 03:37:35,615] Trial 74 finished with value: 0.6619718309859155 and parameters: {'C': 78.78294995658595}. Best is trial 0 with value: 0.6619718309859155.\n",
      "[I 2023-12-21 03:37:35,730] Trial 75 finished with value: 0.6619718309859155 and parameters: {'C': 4299.114904255295}. Best is trial 0 with value: 0.6619718309859155.\n",
      "[I 2023-12-21 03:37:35,780] Trial 76 finished with value: 0.6619718309859155 and parameters: {'C': 0.6279398990969673}. Best is trial 0 with value: 0.6619718309859155.\n",
      "[I 2023-12-21 03:37:35,873] Trial 77 finished with value: 0.6619718309859155 and parameters: {'C': 1708.0776317922855}. Best is trial 0 with value: 0.6619718309859155.\n",
      "[I 2023-12-21 03:37:35,982] Trial 78 finished with value: 0.6619718309859155 and parameters: {'C': 116.188374514113}. Best is trial 0 with value: 0.6619718309859155.\n",
      "[I 2023-12-21 03:37:36,150] Trial 79 finished with value: 0.6619718309859155 and parameters: {'C': 1016.9248574941935}. Best is trial 0 with value: 0.6619718309859155.\n",
      "[I 2023-12-21 03:37:36,250] Trial 80 finished with value: 0.6619718309859155 and parameters: {'C': 212.2142316174059}. Best is trial 0 with value: 0.6619718309859155.\n",
      "[I 2023-12-21 03:37:36,290] Trial 81 finished with value: 0.6549295774647887 and parameters: {'C': 0.33027928063644574}. Best is trial 0 with value: 0.6619718309859155.\n",
      "[I 2023-12-21 03:37:36,325] Trial 82 finished with value: 0.6338028169014085 and parameters: {'C': 0.12441332892479114}. Best is trial 0 with value: 0.6619718309859155.\n",
      "[I 2023-12-21 03:37:36,382] Trial 83 finished with value: 0.6619718309859155 and parameters: {'C': 0.7960502272462382}. Best is trial 0 with value: 0.6619718309859155.\n",
      "[I 2023-12-21 03:37:36,446] Trial 84 finished with value: 0.6549295774647887 and parameters: {'C': 2.561430238733351}. Best is trial 0 with value: 0.6619718309859155.\n",
      "[I 2023-12-21 03:37:36,471] Trial 85 finished with value: 0.6338028169014085 and parameters: {'C': 0.03314322258894792}. Best is trial 0 with value: 0.6619718309859155.\n",
      "[I 2023-12-21 03:37:36,513] Trial 86 finished with value: 0.6549295774647887 and parameters: {'C': 0.27115514788194683}. Best is trial 0 with value: 0.6619718309859155.\n",
      "[I 2023-12-21 03:37:36,602] Trial 87 finished with value: 0.6619718309859155 and parameters: {'C': 5352.075996838047}. Best is trial 0 with value: 0.6619718309859155.\n",
      "[I 2023-12-21 03:37:36,706] Trial 88 finished with value: 0.6619718309859155 and parameters: {'C': 2750.5178852915383}. Best is trial 0 with value: 0.6619718309859155.\n",
      "[I 2023-12-21 03:37:36,772] Trial 89 finished with value: 0.6549295774647887 and parameters: {'C': 14.277436803746747}. Best is trial 0 with value: 0.6619718309859155.\n",
      "[I 2023-12-21 03:37:36,862] Trial 90 finished with value: 0.6619718309859155 and parameters: {'C': 1.382143863312133}. Best is trial 0 with value: 0.6619718309859155.\n",
      "[I 2023-12-21 03:37:36,922] Trial 91 finished with value: 0.6619718309859155 and parameters: {'C': 4.50676298665825}. Best is trial 0 with value: 0.6619718309859155.\n",
      "[I 2023-12-21 03:37:36,991] Trial 92 finished with value: 0.6619718309859155 and parameters: {'C': 25.658647147305963}. Best is trial 0 with value: 0.6619718309859155.\n",
      "[I 2023-12-21 03:37:37,073] Trial 93 finished with value: 0.6619718309859155 and parameters: {'C': 8.870259877897896}. Best is trial 0 with value: 0.6619718309859155.\n",
      "[I 2023-12-21 03:37:37,167] Trial 94 finished with value: 0.6619718309859155 and parameters: {'C': 59.26579994740084}. Best is trial 0 with value: 0.6619718309859155.\n",
      "[I 2023-12-21 03:37:37,186] Trial 95 finished with value: 0.5915492957746479 and parameters: {'C': 0.000145700192489618}. Best is trial 0 with value: 0.6619718309859155.\n",
      "[I 2023-12-21 03:37:37,275] Trial 96 finished with value: 0.6619718309859155 and parameters: {'C': 14.723931253721128}. Best is trial 0 with value: 0.6619718309859155.\n",
      "[I 2023-12-21 03:37:37,351] Trial 97 finished with value: 0.6619718309859155 and parameters: {'C': 32.04001580326168}. Best is trial 0 with value: 0.6619718309859155.\n",
      "[I 2023-12-21 03:37:37,471] Trial 98 finished with value: 0.6619718309859155 and parameters: {'C': 5.64033758578745}. Best is trial 0 with value: 0.6619718309859155.\n",
      "[I 2023-12-21 03:37:37,533] Trial 99 finished with value: 0.6549295774647887 and parameters: {'C': 2.279101067347708}. Best is trial 0 with value: 0.6619718309859155.\n"
     ]
    }
   ],
   "source": [
    "study = optuna.create_study(direction='maximize')\n",
    "study.optimize(objective, n_trials=100)  # You can adjust the number of trials"
   ]
  },
  {
   "cell_type": "code",
   "execution_count": 161,
   "id": "c77c9f6c-2da9-4ed2-9f26-a722b38a24b2",
   "metadata": {
    "tags": []
   },
   "outputs": [
    {
     "name": "stderr",
     "output_type": "stream",
     "text": [
      "/tmp/ipykernel_21/1651240418.py:1: ExperimentalWarning:\n",
      "\n",
      "plot_rank is experimental (supported from v3.2.0). The interface can change in the future.\n",
      "\n"
     ]
    },
    {
     "data": {
      "application/vnd.plotly.v1+json": {
       "config": {
        "plotlyServerURL": "https://plot.ly"
       },
       "data": [
        {
         "marker": {
          "color": [
           0,
           1,
           2,
           3,
           4,
           5,
           6,
           7,
           8,
           9,
           10,
           11,
           12,
           13,
           14,
           15,
           16,
           17,
           18,
           19,
           20,
           21,
           22,
           23,
           24,
           25,
           26,
           27,
           28,
           29,
           30,
           31,
           32,
           33,
           34,
           35,
           36,
           37,
           38,
           39,
           40,
           41,
           42,
           43,
           44,
           45,
           46,
           47,
           48,
           49,
           50,
           51,
           52,
           53,
           54,
           55,
           56,
           57,
           58,
           59,
           60,
           61,
           62,
           63,
           64,
           65,
           66,
           67,
           68,
           69,
           70,
           71,
           72,
           73,
           74,
           75,
           76,
           77,
           78,
           79,
           80,
           81,
           82,
           83,
           84,
           85,
           86,
           87,
           88,
           89,
           90,
           91,
           92,
           93,
           94,
           95,
           96,
           97,
           98,
           99
          ],
          "colorbar": {
           "title": {
            "text": "Trial"
           },
           "x": 1,
           "xpad": 40,
           "y": 0.5
          },
          "colorscale": [
           [
            0,
            "rgb(247,251,255)"
           ],
           [
            0.125,
            "rgb(222,235,247)"
           ],
           [
            0.25,
            "rgb(198,219,239)"
           ],
           [
            0.375,
            "rgb(158,202,225)"
           ],
           [
            0.5,
            "rgb(107,174,214)"
           ],
           [
            0.625,
            "rgb(66,146,198)"
           ],
           [
            0.75,
            "rgb(33,113,181)"
           ],
           [
            0.875,
            "rgb(8,81,156)"
           ],
           [
            1,
            "rgb(8,48,107)"
           ]
          ],
          "line": {
           "color": "Grey",
           "width": 0.5
          }
         },
         "mode": "markers",
         "name": "Feasible Trial",
         "showlegend": false,
         "type": "scatter",
         "x": [
          3.2793061777127344,
          4.22155172940769,
          5.0964568733078774,
          0.012615457400227077,
          0.057698621971757694,
          0.01433131378056048,
          0.0019475380718979023,
          2468.167596736313,
          6133.493942179061,
          0.0005253964265439243,
          53.9270675827447,
          1.9353980014889915,
          80.21633387699279,
          0.22248664352397637,
          27.763573715100332,
          378.2317236638049,
          0.6531267708672147,
          7.669322037995653,
          413.85772658535865,
          0.1988092067866751,
          0.00012121117767960303,
          3.938405273187124,
          12.907836901497259,
          1.1842061907519494,
          246.66841332803693,
          0.3476648136521626,
          6.887770465148703,
          0.08870487738216691,
          1.1001216915757082,
          25.089391117024668,
          0.02012993730829079,
          7989.138006001001,
          1271.529961066054,
          1274.6586341023994,
          103.58856722403573,
          3.161648568781441,
          0.02719040362461338,
          0.007972012380675839,
          2367.4135561581884,
          27.12131812698984,
          0.0022262495794091912,
          6691.073512879847,
          178.1083167716946,
          4242.690226408908,
          1506.1760288292394,
          490.9336686875851,
          68.84226547091369,
          0.48463025276180266,
          2.0263204126247363,
          10.921959369153544,
          0.07897518125176374,
          50.86504468469418,
          644.116967462289,
          3.8027071697113506,
          16.611731734028954,
          2963.007904344829,
          5.981162611024969,
          0.7872612463959887,
          144.8407150343111,
          45.474000393972005,
          1.2973192703150478,
          0.15940439992468475,
          1.6104044975558625,
          3.3609229061675836,
          0.340559415891096,
          11.513701883134914,
          5.498243779044384,
          2.156116293630419,
          21.078298273962844,
          696.9119767848857,
          8547.065001268993,
          335.8526006180573,
          8.033175646494175,
          35.07719347484611,
          78.78294995658595,
          4299.114904255295,
          0.6279398990969673,
          1708.0776317922855,
          116.188374514113,
          1016.9248574941935,
          212.2142316174059,
          0.33027928063644574,
          0.12441332892479114,
          0.7960502272462382,
          2.561430238733351,
          0.03314322258894792,
          0.27115514788194683,
          5352.075996838047,
          2750.5178852915383,
          14.277436803746747,
          1.382143863312133,
          4.50676298665825,
          25.658647147305963,
          8.870259877897896,
          59.26579994740084,
          0.000145700192489618,
          14.723931253721128,
          32.04001580326168,
          5.64033758578745,
          2.279101067347708
         ],
         "y": [
          0.6619718309859155,
          0.6619718309859155,
          0.6619718309859155,
          0.5985915492957746,
          0.6408450704225352,
          0.5985915492957746,
          0.5915492957746479,
          0.6619718309859155,
          0.6619718309859155,
          0.5915492957746479,
          0.6619718309859155,
          0.6619718309859155,
          0.6619718309859155,
          0.6619718309859155,
          0.6619718309859155,
          0.6619718309859155,
          0.6619718309859155,
          0.6619718309859155,
          0.6619718309859155,
          0.647887323943662,
          0.5915492957746479,
          0.6619718309859155,
          0.6619718309859155,
          0.6619718309859155,
          0.6619718309859155,
          0.6549295774647887,
          0.6619718309859155,
          0.6408450704225352,
          0.6619718309859155,
          0.6619718309859155,
          0.6126760563380281,
          0.6619718309859155,
          0.6619718309859155,
          0.6619718309859155,
          0.6619718309859155,
          0.6619718309859155,
          0.6197183098591549,
          0.5915492957746479,
          0.6619718309859155,
          0.6619718309859155,
          0.5915492957746479,
          0.6619718309859155,
          0.6619718309859155,
          0.6619718309859155,
          0.6619718309859155,
          0.6619718309859155,
          0.6619718309859155,
          0.6549295774647887,
          0.6619718309859155,
          0.6619718309859155,
          0.6408450704225352,
          0.6619718309859155,
          0.6619718309859155,
          0.6619718309859155,
          0.6619718309859155,
          0.6619718309859155,
          0.6619718309859155,
          0.6619718309859155,
          0.6619718309859155,
          0.6619718309859155,
          0.6619718309859155,
          0.6408450704225352,
          0.6619718309859155,
          0.6619718309859155,
          0.6549295774647887,
          0.6619718309859155,
          0.6619718309859155,
          0.6619718309859155,
          0.6619718309859155,
          0.6619718309859155,
          0.6619718309859155,
          0.6619718309859155,
          0.6619718309859155,
          0.6619718309859155,
          0.6619718309859155,
          0.6619718309859155,
          0.6619718309859155,
          0.6619718309859155,
          0.6619718309859155,
          0.6619718309859155,
          0.6619718309859155,
          0.6549295774647887,
          0.6338028169014085,
          0.6619718309859155,
          0.6549295774647887,
          0.6338028169014085,
          0.6549295774647887,
          0.6619718309859155,
          0.6619718309859155,
          0.6549295774647887,
          0.6619718309859155,
          0.6619718309859155,
          0.6619718309859155,
          0.6619718309859155,
          0.6619718309859155,
          0.5915492957746479,
          0.6619718309859155,
          0.6619718309859155,
          0.6619718309859155,
          0.6549295774647887
         ]
        }
       ],
       "layout": {
        "autosize": true,
        "template": {
         "data": {
          "bar": [
           {
            "error_x": {
             "color": "#2a3f5f"
            },
            "error_y": {
             "color": "#2a3f5f"
            },
            "marker": {
             "line": {
              "color": "#E5ECF6",
              "width": 0.5
             },
             "pattern": {
              "fillmode": "overlay",
              "size": 10,
              "solidity": 0.2
             }
            },
            "type": "bar"
           }
          ],
          "barpolar": [
           {
            "marker": {
             "line": {
              "color": "#E5ECF6",
              "width": 0.5
             },
             "pattern": {
              "fillmode": "overlay",
              "size": 10,
              "solidity": 0.2
             }
            },
            "type": "barpolar"
           }
          ],
          "carpet": [
           {
            "aaxis": {
             "endlinecolor": "#2a3f5f",
             "gridcolor": "white",
             "linecolor": "white",
             "minorgridcolor": "white",
             "startlinecolor": "#2a3f5f"
            },
            "baxis": {
             "endlinecolor": "#2a3f5f",
             "gridcolor": "white",
             "linecolor": "white",
             "minorgridcolor": "white",
             "startlinecolor": "#2a3f5f"
            },
            "type": "carpet"
           }
          ],
          "choropleth": [
           {
            "colorbar": {
             "outlinewidth": 0,
             "ticks": ""
            },
            "type": "choropleth"
           }
          ],
          "contour": [
           {
            "colorbar": {
             "outlinewidth": 0,
             "ticks": ""
            },
            "colorscale": [
             [
              0,
              "#0d0887"
             ],
             [
              0.1111111111111111,
              "#46039f"
             ],
             [
              0.2222222222222222,
              "#7201a8"
             ],
             [
              0.3333333333333333,
              "#9c179e"
             ],
             [
              0.4444444444444444,
              "#bd3786"
             ],
             [
              0.5555555555555556,
              "#d8576b"
             ],
             [
              0.6666666666666666,
              "#ed7953"
             ],
             [
              0.7777777777777778,
              "#fb9f3a"
             ],
             [
              0.8888888888888888,
              "#fdca26"
             ],
             [
              1,
              "#f0f921"
             ]
            ],
            "type": "contour"
           }
          ],
          "contourcarpet": [
           {
            "colorbar": {
             "outlinewidth": 0,
             "ticks": ""
            },
            "type": "contourcarpet"
           }
          ],
          "heatmap": [
           {
            "colorbar": {
             "outlinewidth": 0,
             "ticks": ""
            },
            "colorscale": [
             [
              0,
              "#0d0887"
             ],
             [
              0.1111111111111111,
              "#46039f"
             ],
             [
              0.2222222222222222,
              "#7201a8"
             ],
             [
              0.3333333333333333,
              "#9c179e"
             ],
             [
              0.4444444444444444,
              "#bd3786"
             ],
             [
              0.5555555555555556,
              "#d8576b"
             ],
             [
              0.6666666666666666,
              "#ed7953"
             ],
             [
              0.7777777777777778,
              "#fb9f3a"
             ],
             [
              0.8888888888888888,
              "#fdca26"
             ],
             [
              1,
              "#f0f921"
             ]
            ],
            "type": "heatmap"
           }
          ],
          "heatmapgl": [
           {
            "colorbar": {
             "outlinewidth": 0,
             "ticks": ""
            },
            "colorscale": [
             [
              0,
              "#0d0887"
             ],
             [
              0.1111111111111111,
              "#46039f"
             ],
             [
              0.2222222222222222,
              "#7201a8"
             ],
             [
              0.3333333333333333,
              "#9c179e"
             ],
             [
              0.4444444444444444,
              "#bd3786"
             ],
             [
              0.5555555555555556,
              "#d8576b"
             ],
             [
              0.6666666666666666,
              "#ed7953"
             ],
             [
              0.7777777777777778,
              "#fb9f3a"
             ],
             [
              0.8888888888888888,
              "#fdca26"
             ],
             [
              1,
              "#f0f921"
             ]
            ],
            "type": "heatmapgl"
           }
          ],
          "histogram": [
           {
            "marker": {
             "pattern": {
              "fillmode": "overlay",
              "size": 10,
              "solidity": 0.2
             }
            },
            "type": "histogram"
           }
          ],
          "histogram2d": [
           {
            "colorbar": {
             "outlinewidth": 0,
             "ticks": ""
            },
            "colorscale": [
             [
              0,
              "#0d0887"
             ],
             [
              0.1111111111111111,
              "#46039f"
             ],
             [
              0.2222222222222222,
              "#7201a8"
             ],
             [
              0.3333333333333333,
              "#9c179e"
             ],
             [
              0.4444444444444444,
              "#bd3786"
             ],
             [
              0.5555555555555556,
              "#d8576b"
             ],
             [
              0.6666666666666666,
              "#ed7953"
             ],
             [
              0.7777777777777778,
              "#fb9f3a"
             ],
             [
              0.8888888888888888,
              "#fdca26"
             ],
             [
              1,
              "#f0f921"
             ]
            ],
            "type": "histogram2d"
           }
          ],
          "histogram2dcontour": [
           {
            "colorbar": {
             "outlinewidth": 0,
             "ticks": ""
            },
            "colorscale": [
             [
              0,
              "#0d0887"
             ],
             [
              0.1111111111111111,
              "#46039f"
             ],
             [
              0.2222222222222222,
              "#7201a8"
             ],
             [
              0.3333333333333333,
              "#9c179e"
             ],
             [
              0.4444444444444444,
              "#bd3786"
             ],
             [
              0.5555555555555556,
              "#d8576b"
             ],
             [
              0.6666666666666666,
              "#ed7953"
             ],
             [
              0.7777777777777778,
              "#fb9f3a"
             ],
             [
              0.8888888888888888,
              "#fdca26"
             ],
             [
              1,
              "#f0f921"
             ]
            ],
            "type": "histogram2dcontour"
           }
          ],
          "mesh3d": [
           {
            "colorbar": {
             "outlinewidth": 0,
             "ticks": ""
            },
            "type": "mesh3d"
           }
          ],
          "parcoords": [
           {
            "line": {
             "colorbar": {
              "outlinewidth": 0,
              "ticks": ""
             }
            },
            "type": "parcoords"
           }
          ],
          "pie": [
           {
            "automargin": true,
            "type": "pie"
           }
          ],
          "scatter": [
           {
            "fillpattern": {
             "fillmode": "overlay",
             "size": 10,
             "solidity": 0.2
            },
            "type": "scatter"
           }
          ],
          "scatter3d": [
           {
            "line": {
             "colorbar": {
              "outlinewidth": 0,
              "ticks": ""
             }
            },
            "marker": {
             "colorbar": {
              "outlinewidth": 0,
              "ticks": ""
             }
            },
            "type": "scatter3d"
           }
          ],
          "scattercarpet": [
           {
            "marker": {
             "colorbar": {
              "outlinewidth": 0,
              "ticks": ""
             }
            },
            "type": "scattercarpet"
           }
          ],
          "scattergeo": [
           {
            "marker": {
             "colorbar": {
              "outlinewidth": 0,
              "ticks": ""
             }
            },
            "type": "scattergeo"
           }
          ],
          "scattergl": [
           {
            "marker": {
             "colorbar": {
              "outlinewidth": 0,
              "ticks": ""
             }
            },
            "type": "scattergl"
           }
          ],
          "scattermapbox": [
           {
            "marker": {
             "colorbar": {
              "outlinewidth": 0,
              "ticks": ""
             }
            },
            "type": "scattermapbox"
           }
          ],
          "scatterpolar": [
           {
            "marker": {
             "colorbar": {
              "outlinewidth": 0,
              "ticks": ""
             }
            },
            "type": "scatterpolar"
           }
          ],
          "scatterpolargl": [
           {
            "marker": {
             "colorbar": {
              "outlinewidth": 0,
              "ticks": ""
             }
            },
            "type": "scatterpolargl"
           }
          ],
          "scatterternary": [
           {
            "marker": {
             "colorbar": {
              "outlinewidth": 0,
              "ticks": ""
             }
            },
            "type": "scatterternary"
           }
          ],
          "surface": [
           {
            "colorbar": {
             "outlinewidth": 0,
             "ticks": ""
            },
            "colorscale": [
             [
              0,
              "#0d0887"
             ],
             [
              0.1111111111111111,
              "#46039f"
             ],
             [
              0.2222222222222222,
              "#7201a8"
             ],
             [
              0.3333333333333333,
              "#9c179e"
             ],
             [
              0.4444444444444444,
              "#bd3786"
             ],
             [
              0.5555555555555556,
              "#d8576b"
             ],
             [
              0.6666666666666666,
              "#ed7953"
             ],
             [
              0.7777777777777778,
              "#fb9f3a"
             ],
             [
              0.8888888888888888,
              "#fdca26"
             ],
             [
              1,
              "#f0f921"
             ]
            ],
            "type": "surface"
           }
          ],
          "table": [
           {
            "cells": {
             "fill": {
              "color": "#EBF0F8"
             },
             "line": {
              "color": "white"
             }
            },
            "header": {
             "fill": {
              "color": "#C8D4E3"
             },
             "line": {
              "color": "white"
             }
            },
            "type": "table"
           }
          ]
         },
         "layout": {
          "annotationdefaults": {
           "arrowcolor": "#2a3f5f",
           "arrowhead": 0,
           "arrowwidth": 1
          },
          "autotypenumbers": "strict",
          "coloraxis": {
           "colorbar": {
            "outlinewidth": 0,
            "ticks": ""
           }
          },
          "colorscale": {
           "diverging": [
            [
             0,
             "#8e0152"
            ],
            [
             0.1,
             "#c51b7d"
            ],
            [
             0.2,
             "#de77ae"
            ],
            [
             0.3,
             "#f1b6da"
            ],
            [
             0.4,
             "#fde0ef"
            ],
            [
             0.5,
             "#f7f7f7"
            ],
            [
             0.6,
             "#e6f5d0"
            ],
            [
             0.7,
             "#b8e186"
            ],
            [
             0.8,
             "#7fbc41"
            ],
            [
             0.9,
             "#4d9221"
            ],
            [
             1,
             "#276419"
            ]
           ],
           "sequential": [
            [
             0,
             "#0d0887"
            ],
            [
             0.1111111111111111,
             "#46039f"
            ],
            [
             0.2222222222222222,
             "#7201a8"
            ],
            [
             0.3333333333333333,
             "#9c179e"
            ],
            [
             0.4444444444444444,
             "#bd3786"
            ],
            [
             0.5555555555555556,
             "#d8576b"
            ],
            [
             0.6666666666666666,
             "#ed7953"
            ],
            [
             0.7777777777777778,
             "#fb9f3a"
            ],
            [
             0.8888888888888888,
             "#fdca26"
            ],
            [
             1,
             "#f0f921"
            ]
           ],
           "sequentialminus": [
            [
             0,
             "#0d0887"
            ],
            [
             0.1111111111111111,
             "#46039f"
            ],
            [
             0.2222222222222222,
             "#7201a8"
            ],
            [
             0.3333333333333333,
             "#9c179e"
            ],
            [
             0.4444444444444444,
             "#bd3786"
            ],
            [
             0.5555555555555556,
             "#d8576b"
            ],
            [
             0.6666666666666666,
             "#ed7953"
            ],
            [
             0.7777777777777778,
             "#fb9f3a"
            ],
            [
             0.8888888888888888,
             "#fdca26"
            ],
            [
             1,
             "#f0f921"
            ]
           ]
          },
          "colorway": [
           "#636efa",
           "#EF553B",
           "#00cc96",
           "#ab63fa",
           "#FFA15A",
           "#19d3f3",
           "#FF6692",
           "#B6E880",
           "#FF97FF",
           "#FECB52"
          ],
          "font": {
           "color": "#2a3f5f"
          },
          "geo": {
           "bgcolor": "white",
           "lakecolor": "white",
           "landcolor": "#E5ECF6",
           "showlakes": true,
           "showland": true,
           "subunitcolor": "white"
          },
          "hoverlabel": {
           "align": "left"
          },
          "hovermode": "closest",
          "mapbox": {
           "style": "light"
          },
          "paper_bgcolor": "white",
          "plot_bgcolor": "#E5ECF6",
          "polar": {
           "angularaxis": {
            "gridcolor": "white",
            "linecolor": "white",
            "ticks": ""
           },
           "bgcolor": "#E5ECF6",
           "radialaxis": {
            "gridcolor": "white",
            "linecolor": "white",
            "ticks": ""
           }
          },
          "scene": {
           "xaxis": {
            "backgroundcolor": "#E5ECF6",
            "gridcolor": "white",
            "gridwidth": 2,
            "linecolor": "white",
            "showbackground": true,
            "ticks": "",
            "zerolinecolor": "white"
           },
           "yaxis": {
            "backgroundcolor": "#E5ECF6",
            "gridcolor": "white",
            "gridwidth": 2,
            "linecolor": "white",
            "showbackground": true,
            "ticks": "",
            "zerolinecolor": "white"
           },
           "zaxis": {
            "backgroundcolor": "#E5ECF6",
            "gridcolor": "white",
            "gridwidth": 2,
            "linecolor": "white",
            "showbackground": true,
            "ticks": "",
            "zerolinecolor": "white"
           }
          },
          "shapedefaults": {
           "line": {
            "color": "#2a3f5f"
           }
          },
          "ternary": {
           "aaxis": {
            "gridcolor": "white",
            "linecolor": "white",
            "ticks": ""
           },
           "baxis": {
            "gridcolor": "white",
            "linecolor": "white",
            "ticks": ""
           },
           "bgcolor": "#E5ECF6",
           "caxis": {
            "gridcolor": "white",
            "linecolor": "white",
            "ticks": ""
           }
          },
          "title": {
           "x": 0.05
          },
          "xaxis": {
           "automargin": true,
           "gridcolor": "white",
           "linecolor": "white",
           "ticks": "",
           "title": {
            "standoff": 15
           },
           "zerolinecolor": "white",
           "zerolinewidth": 2
          },
          "yaxis": {
           "automargin": true,
           "gridcolor": "white",
           "linecolor": "white",
           "ticks": "",
           "title": {
            "standoff": 15
           },
           "zerolinecolor": "white",
           "zerolinewidth": 2
          }
         }
        },
        "title": {
         "text": "Slice Plot"
        },
        "xaxis": {
         "autorange": true,
         "range": [
          -4.402751080312386,
          4.418110757962731
         ],
         "title": {
          "text": "C"
         },
         "type": "log"
        },
        "yaxis": {
         "autorange": true,
         "range": [
          0.585737727334883,
          0.6677833994256803
         ],
         "title": {
          "text": "Objective Value"
         },
         "type": "linear"
        }
       }
      },
      "image/png": "[encoded data removed]",
      "text/html": [
       "<div>                            <div id=\"ee670e02-8a0a-4174-9088-71a4b8ba062e\" class=\"plotly-graph-div\" style=\"height:525px; width:100%;\"></div>            <script type=\"text/javascript\">                require([\"plotly\"], function(Plotly) {                    window.PLOTLYENV=window.PLOTLYENV || {};                                    if (document.getElementById(\"ee670e02-8a0a-4174-9088-71a4b8ba062e\")) {                    Plotly.newPlot(                        \"ee670e02-8a0a-4174-9088-71a4b8ba062e\",                        [{\"marker\":{\"color\":[0,1,2,3,4,5,6,7,8,9,10,11,12,13,14,15,16,17,18,19,20,21,22,23,24,25,26,27,28,29,30,31,32,33,34,35,36,37,38,39,40,41,42,43,44,45,46,47,48,49,50,51,52,53,54,55,56,57,58,59,60,61,62,63,64,65,66,67,68,69,70,71,72,73,74,75,76,77,78,79,80,81,82,83,84,85,86,87,88,89,90,91,92,93,94,95,96,97,98,99],\"colorbar\":{\"title\":{\"text\":\"Trial\"},\"x\":1.0,\"xpad\":40},\"colorscale\":[[0.0,\"rgb(247,251,255)\"],[0.125,\"rgb(222,235,247)\"],[0.25,\"rgb(198,219,239)\"],[0.375,\"rgb(158,202,225)\"],[0.5,\"rgb(107,174,214)\"],[0.625,\"rgb(66,146,198)\"],[0.75,\"rgb(33,113,181)\"],[0.875,\"rgb(8,81,156)\"],[1.0,\"rgb(8,48,107)\"]],\"line\":{\"color\":\"Grey\",\"width\":0.5}},\"mode\":\"markers\",\"name\":\"Feasible Trial\",\"showlegend\":false,\"x\":[3.2793061777127344,4.22155172940769,5.0964568733078774,0.012615457400227077,0.057698621971757694,0.01433131378056048,0.0019475380718979023,2468.167596736313,6133.493942179061,0.0005253964265439243,53.9270675827447,1.9353980014889915,80.21633387699279,0.22248664352397637,27.763573715100332,378.2317236638049,0.6531267708672147,7.669322037995653,413.85772658535865,0.1988092067866751,0.00012121117767960303,3.938405273187124,12.907836901497259,1.1842061907519494,246.66841332803693,0.3476648136521626,6.887770465148703,0.08870487738216691,1.1001216915757082,25.089391117024668,0.02012993730829079,7989.138006001001,1271.529961066054,1274.6586341023994,103.58856722403573,3.161648568781441,0.02719040362461338,0.007972012380675839,2367.4135561581884,27.12131812698984,0.0022262495794091912,6691.073512879847,178.1083167716946,4242.690226408908,1506.1760288292394,490.9336686875851,68.84226547091369,0.48463025276180266,2.0263204126247363,10.921959369153544,0.07897518125176374,50.86504468469418,644.116967462289,3.8027071697113506,16.611731734028954,2963.007904344829,5.981162611024969,0.7872612463959887,144.8407150343111,45.474000393972005,1.2973192703150478,0.15940439992468475,1.6104044975558625,3.3609229061675836,0.340559415891096,11.513701883134914,5.498243779044384,2.156116293630419,21.078298273962844,696.9119767848857,8547.065001268993,335.8526006180573,8.033175646494175,35.07719347484611,78.78294995658595,4299.114904255295,0.6279398990969673,1708.0776317922855,116.188374514113,1016.9248574941935,212.2142316174059,0.33027928063644574,0.12441332892479114,0.7960502272462382,2.561430238733351,0.03314322258894792,0.27115514788194683,5352.075996838047,2750.5178852915383,14.277436803746747,1.382143863312133,4.50676298665825,25.658647147305963,8.870259877897896,59.26579994740084,0.000145700192489618,14.723931253721128,32.04001580326168,5.64033758578745,2.279101067347708],\"y\":[0.6619718309859155,0.6619718309859155,0.6619718309859155,0.5985915492957746,0.6408450704225352,0.5985915492957746,0.5915492957746479,0.6619718309859155,0.6619718309859155,0.5915492957746479,0.6619718309859155,0.6619718309859155,0.6619718309859155,0.6619718309859155,0.6619718309859155,0.6619718309859155,0.6619718309859155,0.6619718309859155,0.6619718309859155,0.647887323943662,0.5915492957746479,0.6619718309859155,0.6619718309859155,0.6619718309859155,0.6619718309859155,0.6549295774647887,0.6619718309859155,0.6408450704225352,0.6619718309859155,0.6619718309859155,0.6126760563380281,0.6619718309859155,0.6619718309859155,0.6619718309859155,0.6619718309859155,0.6619718309859155,0.6197183098591549,0.5915492957746479,0.6619718309859155,0.6619718309859155,0.5915492957746479,0.6619718309859155,0.6619718309859155,0.6619718309859155,0.6619718309859155,0.6619718309859155,0.6619718309859155,0.6549295774647887,0.6619718309859155,0.6619718309859155,0.6408450704225352,0.6619718309859155,0.6619718309859155,0.6619718309859155,0.6619718309859155,0.6619718309859155,0.6619718309859155,0.6619718309859155,0.6619718309859155,0.6619718309859155,0.6619718309859155,0.6408450704225352,0.6619718309859155,0.6619718309859155,0.6549295774647887,0.6619718309859155,0.6619718309859155,0.6619718309859155,0.6619718309859155,0.6619718309859155,0.6619718309859155,0.6619718309859155,0.6619718309859155,0.6619718309859155,0.6619718309859155,0.6619718309859155,0.6619718309859155,0.6619718309859155,0.6619718309859155,0.6619718309859155,0.6619718309859155,0.6549295774647887,0.6338028169014085,0.6619718309859155,0.6549295774647887,0.6338028169014085,0.6549295774647887,0.6619718309859155,0.6619718309859155,0.6549295774647887,0.6619718309859155,0.6619718309859155,0.6619718309859155,0.6619718309859155,0.6619718309859155,0.5915492957746479,0.6619718309859155,0.6619718309859155,0.6619718309859155,0.6549295774647887],\"type\":\"scatter\"}],                        {\"title\":{\"text\":\"Slice Plot\"},\"template\":{\"data\":{\"histogram2dcontour\":[{\"type\":\"histogram2dcontour\",\"colorbar\":{\"outlinewidth\":0,\"ticks\":\"\"},\"colorscale\":[[0.0,\"#0d0887\"],[0.1111111111111111,\"#46039f\"],[0.2222222222222222,\"#7201a8\"],[0.3333333333333333,\"#9c179e\"],[0.4444444444444444,\"#bd3786\"],[0.5555555555555556,\"#d8576b\"],[0.6666666666666666,\"#ed7953\"],[0.7777777777777778,\"#fb9f3a\"],[0.8888888888888888,\"#fdca26\"],[1.0,\"#f0f921\"]]}],\"choropleth\":[{\"type\":\"choropleth\",\"colorbar\":{\"outlinewidth\":0,\"ticks\":\"\"}}],\"histogram2d\":[{\"type\":\"histogram2d\",\"colorbar\":{\"outlinewidth\":0,\"ticks\":\"\"},\"colorscale\":[[0.0,\"#0d0887\"],[0.1111111111111111,\"#46039f\"],[0.2222222222222222,\"#7201a8\"],[0.3333333333333333,\"#9c179e\"],[0.4444444444444444,\"#bd3786\"],[0.5555555555555556,\"#d8576b\"],[0.6666666666666666,\"#ed7953\"],[0.7777777777777778,\"#fb9f3a\"],[0.8888888888888888,\"#fdca26\"],[1.0,\"#f0f921\"]]}],\"heatmap\":[{\"type\":\"heatmap\",\"colorbar\":{\"outlinewidth\":0,\"ticks\":\"\"},\"colorscale\":[[0.0,\"#0d0887\"],[0.1111111111111111,\"#46039f\"],[0.2222222222222222,\"#7201a8\"],[0.3333333333333333,\"#9c179e\"],[0.4444444444444444,\"#bd3786\"],[0.5555555555555556,\"#d8576b\"],[0.6666666666666666,\"#ed7953\"],[0.7777777777777778,\"#fb9f3a\"],[0.8888888888888888,\"#fdca26\"],[1.0,\"#f0f921\"]]}],\"heatmapgl\":[{\"type\":\"heatmapgl\",\"colorbar\":{\"outlinewidth\":0,\"ticks\":\"\"},\"colorscale\":[[0.0,\"#0d0887\"],[0.1111111111111111,\"#46039f\"],[0.2222222222222222,\"#7201a8\"],[0.3333333333333333,\"#9c179e\"],[0.4444444444444444,\"#bd3786\"],[0.5555555555555556,\"#d8576b\"],[0.6666666666666666,\"#ed7953\"],[0.7777777777777778,\"#fb9f3a\"],[0.8888888888888888,\"#fdca26\"],[1.0,\"#f0f921\"]]}],\"contourcarpet\":[{\"type\":\"contourcarpet\",\"colorbar\":{\"outlinewidth\":0,\"ticks\":\"\"}}],\"contour\":[{\"type\":\"contour\",\"colorbar\":{\"outlinewidth\":0,\"ticks\":\"\"},\"colorscale\":[[0.0,\"#0d0887\"],[0.1111111111111111,\"#46039f\"],[0.2222222222222222,\"#7201a8\"],[0.3333333333333333,\"#9c179e\"],[0.4444444444444444,\"#bd3786\"],[0.5555555555555556,\"#d8576b\"],[0.6666666666666666,\"#ed7953\"],[0.7777777777777778,\"#fb9f3a\"],[0.8888888888888888,\"#fdca26\"],[1.0,\"#f0f921\"]]}],\"surface\":[{\"type\":\"surface\",\"colorbar\":{\"outlinewidth\":0,\"ticks\":\"\"},\"colorscale\":[[0.0,\"#0d0887\"],[0.1111111111111111,\"#46039f\"],[0.2222222222222222,\"#7201a8\"],[0.3333333333333333,\"#9c179e\"],[0.4444444444444444,\"#bd3786\"],[0.5555555555555556,\"#d8576b\"],[0.6666666666666666,\"#ed7953\"],[0.7777777777777778,\"#fb9f3a\"],[0.8888888888888888,\"#fdca26\"],[1.0,\"#f0f921\"]]}],\"mesh3d\":[{\"type\":\"mesh3d\",\"colorbar\":{\"outlinewidth\":0,\"ticks\":\"\"}}],\"scatter\":[{\"fillpattern\":{\"fillmode\":\"overlay\",\"size\":10,\"solidity\":0.2},\"type\":\"scatter\"}],\"parcoords\":[{\"type\":\"parcoords\",\"line\":{\"colorbar\":{\"outlinewidth\":0,\"ticks\":\"\"}}}],\"scatterpolargl\":[{\"type\":\"scatterpolargl\",\"marker\":{\"colorbar\":{\"outlinewidth\":0,\"ticks\":\"\"}}}],\"bar\":[{\"error_x\":{\"color\":\"#2a3f5f\"},\"error_y\":{\"color\":\"#2a3f5f\"},\"marker\":{\"line\":{\"color\":\"#E5ECF6\",\"width\":0.5},\"pattern\":{\"fillmode\":\"overlay\",\"size\":10,\"solidity\":0.2}},\"type\":\"bar\"}],\"scattergeo\":[{\"type\":\"scattergeo\",\"marker\":{\"colorbar\":{\"outlinewidth\":0,\"ticks\":\"\"}}}],\"scatterpolar\":[{\"type\":\"scatterpolar\",\"marker\":{\"colorbar\":{\"outlinewidth\":0,\"ticks\":\"\"}}}],\"histogram\":[{\"marker\":{\"pattern\":{\"fillmode\":\"overlay\",\"size\":10,\"solidity\":0.2}},\"type\":\"histogram\"}],\"scattergl\":[{\"type\":\"scattergl\",\"marker\":{\"colorbar\":{\"outlinewidth\":0,\"ticks\":\"\"}}}],\"scatter3d\":[{\"type\":\"scatter3d\",\"line\":{\"colorbar\":{\"outlinewidth\":0,\"ticks\":\"\"}},\"marker\":{\"colorbar\":{\"outlinewidth\":0,\"ticks\":\"\"}}}],\"scattermapbox\":[{\"type\":\"scattermapbox\",\"marker\":{\"colorbar\":{\"outlinewidth\":0,\"ticks\":\"\"}}}],\"scatterternary\":[{\"type\":\"scatterternary\",\"marker\":{\"colorbar\":{\"outlinewidth\":0,\"ticks\":\"\"}}}],\"scattercarpet\":[{\"type\":\"scattercarpet\",\"marker\":{\"colorbar\":{\"outlinewidth\":0,\"ticks\":\"\"}}}],\"carpet\":[{\"aaxis\":{\"endlinecolor\":\"#2a3f5f\",\"gridcolor\":\"white\",\"linecolor\":\"white\",\"minorgridcolor\":\"white\",\"startlinecolor\":\"#2a3f5f\"},\"baxis\":{\"endlinecolor\":\"#2a3f5f\",\"gridcolor\":\"white\",\"linecolor\":\"white\",\"minorgridcolor\":\"white\",\"startlinecolor\":\"#2a3f5f\"},\"type\":\"carpet\"}],\"table\":[{\"cells\":{\"fill\":{\"color\":\"#EBF0F8\"},\"line\":{\"color\":\"white\"}},\"header\":{\"fill\":{\"color\":\"#C8D4E3\"},\"line\":{\"color\":\"white\"}},\"type\":\"table\"}],\"barpolar\":[{\"marker\":{\"line\":{\"color\":\"#E5ECF6\",\"width\":0.5},\"pattern\":{\"fillmode\":\"overlay\",\"size\":10,\"solidity\":0.2}},\"type\":\"barpolar\"}],\"pie\":[{\"automargin\":true,\"type\":\"pie\"}]},\"layout\":{\"autotypenumbers\":\"strict\",\"colorway\":[\"#636efa\",\"#EF553B\",\"#00cc96\",\"#ab63fa\",\"#FFA15A\",\"#19d3f3\",\"#FF6692\",\"#B6E880\",\"#FF97FF\",\"#FECB52\"],\"font\":{\"color\":\"#2a3f5f\"},\"hovermode\":\"closest\",\"hoverlabel\":{\"align\":\"left\"},\"paper_bgcolor\":\"white\",\"plot_bgcolor\":\"#E5ECF6\",\"polar\":{\"bgcolor\":\"#E5ECF6\",\"angularaxis\":{\"gridcolor\":\"white\",\"linecolor\":\"white\",\"ticks\":\"\"},\"radialaxis\":{\"gridcolor\":\"white\",\"linecolor\":\"white\",\"ticks\":\"\"}},\"ternary\":{\"bgcolor\":\"#E5ECF6\",\"aaxis\":{\"gridcolor\":\"white\",\"linecolor\":\"white\",\"ticks\":\"\"},\"baxis\":{\"gridcolor\":\"white\",\"linecolor\":\"white\",\"ticks\":\"\"},\"caxis\":{\"gridcolor\":\"white\",\"linecolor\":\"white\",\"ticks\":\"\"}},\"coloraxis\":{\"colorbar\":{\"outlinewidth\":0,\"ticks\":\"\"}},\"colorscale\":{\"sequential\":[[0.0,\"#0d0887\"],[0.1111111111111111,\"#46039f\"],[0.2222222222222222,\"#7201a8\"],[0.3333333333333333,\"#9c179e\"],[0.4444444444444444,\"#bd3786\"],[0.5555555555555556,\"#d8576b\"],[0.6666666666666666,\"#ed7953\"],[0.7777777777777778,\"#fb9f3a\"],[0.8888888888888888,\"#fdca26\"],[1.0,\"#f0f921\"]],\"sequentialminus\":[[0.0,\"#0d0887\"],[0.1111111111111111,\"#46039f\"],[0.2222222222222222,\"#7201a8\"],[0.3333333333333333,\"#9c179e\"],[0.4444444444444444,\"#bd3786\"],[0.5555555555555556,\"#d8576b\"],[0.6666666666666666,\"#ed7953\"],[0.7777777777777778,\"#fb9f3a\"],[0.8888888888888888,\"#fdca26\"],[1.0,\"#f0f921\"]],\"diverging\":[[0,\"#8e0152\"],[0.1,\"#c51b7d\"],[0.2,\"#de77ae\"],[0.3,\"#f1b6da\"],[0.4,\"#fde0ef\"],[0.5,\"#f7f7f7\"],[0.6,\"#e6f5d0\"],[0.7,\"#b8e186\"],[0.8,\"#7fbc41\"],[0.9,\"#4d9221\"],[1,\"#276419\"]]},\"xaxis\":{\"gridcolor\":\"white\",\"linecolor\":\"white\",\"ticks\":\"\",\"title\":{\"standoff\":15},\"zerolinecolor\":\"white\",\"automargin\":true,\"zerolinewidth\":2},\"yaxis\":{\"gridcolor\":\"white\",\"linecolor\":\"white\",\"ticks\":\"\",\"title\":{\"standoff\":15},\"zerolinecolor\":\"white\",\"automargin\":true,\"zerolinewidth\":2},\"scene\":{\"xaxis\":{\"backgroundcolor\":\"#E5ECF6\",\"gridcolor\":\"white\",\"linecolor\":\"white\",\"showbackground\":true,\"ticks\":\"\",\"zerolinecolor\":\"white\",\"gridwidth\":2},\"yaxis\":{\"backgroundcolor\":\"#E5ECF6\",\"gridcolor\":\"white\",\"linecolor\":\"white\",\"showbackground\":true,\"ticks\":\"\",\"zerolinecolor\":\"white\",\"gridwidth\":2},\"zaxis\":{\"backgroundcolor\":\"#E5ECF6\",\"gridcolor\":\"white\",\"linecolor\":\"white\",\"showbackground\":true,\"ticks\":\"\",\"zerolinecolor\":\"white\",\"gridwidth\":2}},\"shapedefaults\":{\"line\":{\"color\":\"#2a3f5f\"}},\"annotationdefaults\":{\"arrowcolor\":\"#2a3f5f\",\"arrowhead\":0,\"arrowwidth\":1},\"geo\":{\"bgcolor\":\"white\",\"landcolor\":\"#E5ECF6\",\"subunitcolor\":\"white\",\"showland\":true,\"showlakes\":true,\"lakecolor\":\"white\"},\"title\":{\"x\":0.05},\"mapbox\":{\"style\":\"light\"}}},\"xaxis\":{\"title\":{\"text\":\"C\"},\"type\":\"log\"},\"yaxis\":{\"title\":{\"text\":\"Objective Value\"}}},                        {\"responsive\": true}                    ).then(function(){\n",
       "                            \n",
       "var gd = document.getElementById('ee670e02-8a0a-4174-9088-71a4b8ba062e');\n",
       "var x = new MutationObserver(function (mutations, observer) {{\n",
       "        var display = window.getComputedStyle(gd).display;\n",
       "        if (!display || display === 'none') {{\n",
       "            console.log([gd, 'removed!']);\n",
       "            Plotly.purge(gd);\n",
       "            observer.disconnect();\n",
       "        }}\n",
       "}});\n",
       "\n",
       "// Listen for the removal of the full notebook cells\n",
       "var notebookContainer = gd.closest('#notebook-container');\n",
       "if (notebookContainer) {{\n",
       "    x.observe(notebookContainer, {childList: true});\n",
       "}}\n",
       "\n",
       "// Listen for the clearing of the current output cell\n",
       "var outputEl = gd.closest('.output');\n",
       "if (outputEl) {{\n",
       "    x.observe(outputEl, {childList: true});\n",
       "}}\n",
       "\n",
       "                        })                };                });            </script>        </div>"
      ]
     },
     "metadata": {},
     "output_type": "display_data"
    }
   ],
   "source": [
    "plot_rank(study)"
   ]
  },
  {
   "cell_type": "code",
   "execution_count": 162,
   "id": "8e018fc2-fcab-47ef-8863-134392af094d",
   "metadata": {
    "tags": []
   },
   "outputs": [
    {
     "data": {
      "application/vnd.plotly.v1+json": {
       "config": {
        "plotlyServerURL": "https://plot.ly"
       },
       "data": [
        {
         "marker": {
          "color": [
           0,
           1,
           2,
           3,
           4,
           5,
           6,
           7,
           8,
           9,
           10,
           11,
           12,
           13,
           14,
           15,
           16,
           17,
           18,
           19,
           20,
           21,
           22,
           23,
           24,
           25,
           26,
           27,
           28,
           29,
           30,
           31,
           32,
           33,
           34,
           35,
           36,
           37,
           38,
           39,
           40,
           41,
           42,
           43,
           44,
           45,
           46,
           47,
           48,
           49,
           50,
           51,
           52,
           53,
           54,
           55,
           56,
           57,
           58,
           59,
           60,
           61,
           62,
           63,
           64,
           65,
           66,
           67,
           68,
           69,
           70,
           71,
           72,
           73,
           74,
           75,
           76,
           77,
           78,
           79,
           80,
           81,
           82,
           83,
           84,
           85,
           86,
           87,
           88,
           89,
           90,
           91,
           92,
           93,
           94,
           95,
           96,
           97,
           98,
           99
          ],
          "colorbar": {
           "title": {
            "text": "Trial"
           },
           "x": 1,
           "xpad": 40,
           "y": 0.5
          },
          "colorscale": [
           [
            0,
            "rgb(247,251,255)"
           ],
           [
            0.125,
            "rgb(222,235,247)"
           ],
           [
            0.25,
            "rgb(198,219,239)"
           ],
           [
            0.375,
            "rgb(158,202,225)"
           ],
           [
            0.5,
            "rgb(107,174,214)"
           ],
           [
            0.625,
            "rgb(66,146,198)"
           ],
           [
            0.75,
            "rgb(33,113,181)"
           ],
           [
            0.875,
            "rgb(8,81,156)"
           ],
           [
            1,
            "rgb(8,48,107)"
           ]
          ],
          "line": {
           "color": "Grey",
           "width": 0.5
          }
         },
         "mode": "markers",
         "name": "Feasible Trial",
         "showlegend": false,
         "type": "scatter",
         "x": [
          3.2793061777127344,
          4.22155172940769,
          5.0964568733078774,
          0.012615457400227077,
          0.057698621971757694,
          0.01433131378056048,
          0.0019475380718979023,
          2468.167596736313,
          6133.493942179061,
          0.0005253964265439243,
          53.9270675827447,
          1.9353980014889915,
          80.21633387699279,
          0.22248664352397637,
          27.763573715100332,
          378.2317236638049,
          0.6531267708672147,
          7.669322037995653,
          413.85772658535865,
          0.1988092067866751,
          0.00012121117767960303,
          3.938405273187124,
          12.907836901497259,
          1.1842061907519494,
          246.66841332803693,
          0.3476648136521626,
          6.887770465148703,
          0.08870487738216691,
          1.1001216915757082,
          25.089391117024668,
          0.02012993730829079,
          7989.138006001001,
          1271.529961066054,
          1274.6586341023994,
          103.58856722403573,
          3.161648568781441,
          0.02719040362461338,
          0.007972012380675839,
          2367.4135561581884,
          27.12131812698984,
          0.0022262495794091912,
          6691.073512879847,
          178.1083167716946,
          4242.690226408908,
          1506.1760288292394,
          490.9336686875851,
          68.84226547091369,
          0.48463025276180266,
          2.0263204126247363,
          10.921959369153544,
          0.07897518125176374,
          50.86504468469418,
          644.116967462289,
          3.8027071697113506,
          16.611731734028954,
          2963.007904344829,
          5.981162611024969,
          0.7872612463959887,
          144.8407150343111,
          45.474000393972005,
          1.2973192703150478,
          0.15940439992468475,
          1.6104044975558625,
          3.3609229061675836,
          0.340559415891096,
          11.513701883134914,
          5.498243779044384,
          2.156116293630419,
          21.078298273962844,
          696.9119767848857,
          8547.065001268993,
          335.8526006180573,
          8.033175646494175,
          35.07719347484611,
          78.78294995658595,
          4299.114904255295,
          0.6279398990969673,
          1708.0776317922855,
          116.188374514113,
          1016.9248574941935,
          212.2142316174059,
          0.33027928063644574,
          0.12441332892479114,
          0.7960502272462382,
          2.561430238733351,
          0.03314322258894792,
          0.27115514788194683,
          5352.075996838047,
          2750.5178852915383,
          14.277436803746747,
          1.382143863312133,
          4.50676298665825,
          25.658647147305963,
          8.870259877897896,
          59.26579994740084,
          0.000145700192489618,
          14.723931253721128,
          32.04001580326168,
          5.64033758578745,
          2.279101067347708
         ],
         "y": [
          0.6619718309859155,
          0.6619718309859155,
          0.6619718309859155,
          0.5985915492957746,
          0.6408450704225352,
          0.5985915492957746,
          0.5915492957746479,
          0.6619718309859155,
          0.6619718309859155,
          0.5915492957746479,
          0.6619718309859155,
          0.6619718309859155,
          0.6619718309859155,
          0.6619718309859155,
          0.6619718309859155,
          0.6619718309859155,
          0.6619718309859155,
          0.6619718309859155,
          0.6619718309859155,
          0.647887323943662,
          0.5915492957746479,
          0.6619718309859155,
          0.6619718309859155,
          0.6619718309859155,
          0.6619718309859155,
          0.6549295774647887,
          0.6619718309859155,
          0.6408450704225352,
          0.6619718309859155,
          0.6619718309859155,
          0.6126760563380281,
          0.6619718309859155,
          0.6619718309859155,
          0.6619718309859155,
          0.6619718309859155,
          0.6619718309859155,
          0.6197183098591549,
          0.5915492957746479,
          0.6619718309859155,
          0.6619718309859155,
          0.5915492957746479,
          0.6619718309859155,
          0.6619718309859155,
          0.6619718309859155,
          0.6619718309859155,
          0.6619718309859155,
          0.6619718309859155,
          0.6549295774647887,
          0.6619718309859155,
          0.6619718309859155,
          0.6408450704225352,
          0.6619718309859155,
          0.6619718309859155,
          0.6619718309859155,
          0.6619718309859155,
          0.6619718309859155,
          0.6619718309859155,
          0.6619718309859155,
          0.6619718309859155,
          0.6619718309859155,
          0.6619718309859155,
          0.6408450704225352,
          0.6619718309859155,
          0.6619718309859155,
          0.6549295774647887,
          0.6619718309859155,
          0.6619718309859155,
          0.6619718309859155,
          0.6619718309859155,
          0.6619718309859155,
          0.6619718309859155,
          0.6619718309859155,
          0.6619718309859155,
          0.6619718309859155,
          0.6619718309859155,
          0.6619718309859155,
          0.6619718309859155,
          0.6619718309859155,
          0.6619718309859155,
          0.6619718309859155,
          0.6619718309859155,
          0.6549295774647887,
          0.6338028169014085,
          0.6619718309859155,
          0.6549295774647887,
          0.6338028169014085,
          0.6549295774647887,
          0.6619718309859155,
          0.6619718309859155,
          0.6549295774647887,
          0.6619718309859155,
          0.6619718309859155,
          0.6619718309859155,
          0.6619718309859155,
          0.6619718309859155,
          0.5915492957746479,
          0.6619718309859155,
          0.6619718309859155,
          0.6619718309859155,
          0.6549295774647887
         ]
        }
       ],
       "layout": {
        "autosize": true,
        "template": {
         "data": {
          "bar": [
           {
            "error_x": {
             "color": "#2a3f5f"
            },
            "error_y": {
             "color": "#2a3f5f"
            },
            "marker": {
             "line": {
              "color": "#E5ECF6",
              "width": 0.5
             },
             "pattern": {
              "fillmode": "overlay",
              "size": 10,
              "solidity": 0.2
             }
            },
            "type": "bar"
           }
          ],
          "barpolar": [
           {
            "marker": {
             "line": {
              "color": "#E5ECF6",
              "width": 0.5
             },
             "pattern": {
              "fillmode": "overlay",
              "size": 10,
              "solidity": 0.2
             }
            },
            "type": "barpolar"
           }
          ],
          "carpet": [
           {
            "aaxis": {
             "endlinecolor": "#2a3f5f",
             "gridcolor": "white",
             "linecolor": "white",
             "minorgridcolor": "white",
             "startlinecolor": "#2a3f5f"
            },
            "baxis": {
             "endlinecolor": "#2a3f5f",
             "gridcolor": "white",
             "linecolor": "white",
             "minorgridcolor": "white",
             "startlinecolor": "#2a3f5f"
            },
            "type": "carpet"
           }
          ],
          "choropleth": [
           {
            "colorbar": {
             "outlinewidth": 0,
             "ticks": ""
            },
            "type": "choropleth"
           }
          ],
          "contour": [
           {
            "colorbar": {
             "outlinewidth": 0,
             "ticks": ""
            },
            "colorscale": [
             [
              0,
              "#0d0887"
             ],
             [
              0.1111111111111111,
              "#46039f"
             ],
             [
              0.2222222222222222,
              "#7201a8"
             ],
             [
              0.3333333333333333,
              "#9c179e"
             ],
             [
              0.4444444444444444,
              "#bd3786"
             ],
             [
              0.5555555555555556,
              "#d8576b"
             ],
             [
              0.6666666666666666,
              "#ed7953"
             ],
             [
              0.7777777777777778,
              "#fb9f3a"
             ],
             [
              0.8888888888888888,
              "#fdca26"
             ],
             [
              1,
              "#f0f921"
             ]
            ],
            "type": "contour"
           }
          ],
          "contourcarpet": [
           {
            "colorbar": {
             "outlinewidth": 0,
             "ticks": ""
            },
            "type": "contourcarpet"
           }
          ],
          "heatmap": [
           {
            "colorbar": {
             "outlinewidth": 0,
             "ticks": ""
            },
            "colorscale": [
             [
              0,
              "#0d0887"
             ],
             [
              0.1111111111111111,
              "#46039f"
             ],
             [
              0.2222222222222222,
              "#7201a8"
             ],
             [
              0.3333333333333333,
              "#9c179e"
             ],
             [
              0.4444444444444444,
              "#bd3786"
             ],
             [
              0.5555555555555556,
              "#d8576b"
             ],
             [
              0.6666666666666666,
              "#ed7953"
             ],
             [
              0.7777777777777778,
              "#fb9f3a"
             ],
             [
              0.8888888888888888,
              "#fdca26"
             ],
             [
              1,
              "#f0f921"
             ]
            ],
            "type": "heatmap"
           }
          ],
          "heatmapgl": [
           {
            "colorbar": {
             "outlinewidth": 0,
             "ticks": ""
            },
            "colorscale": [
             [
              0,
              "#0d0887"
             ],
             [
              0.1111111111111111,
              "#46039f"
             ],
             [
              0.2222222222222222,
              "#7201a8"
             ],
             [
              0.3333333333333333,
              "#9c179e"
             ],
             [
              0.4444444444444444,
              "#bd3786"
             ],
             [
              0.5555555555555556,
              "#d8576b"
             ],
             [
              0.6666666666666666,
              "#ed7953"
             ],
             [
              0.7777777777777778,
              "#fb9f3a"
             ],
             [
              0.8888888888888888,
              "#fdca26"
             ],
             [
              1,
              "#f0f921"
             ]
            ],
            "type": "heatmapgl"
           }
          ],
          "histogram": [
           {
            "marker": {
             "pattern": {
              "fillmode": "overlay",
              "size": 10,
              "solidity": 0.2
             }
            },
            "type": "histogram"
           }
          ],
          "histogram2d": [
           {
            "colorbar": {
             "outlinewidth": 0,
             "ticks": ""
            },
            "colorscale": [
             [
              0,
              "#0d0887"
             ],
             [
              0.1111111111111111,
              "#46039f"
             ],
             [
              0.2222222222222222,
              "#7201a8"
             ],
             [
              0.3333333333333333,
              "#9c179e"
             ],
             [
              0.4444444444444444,
              "#bd3786"
             ],
             [
              0.5555555555555556,
              "#d8576b"
             ],
             [
              0.6666666666666666,
              "#ed7953"
             ],
             [
              0.7777777777777778,
              "#fb9f3a"
             ],
             [
              0.8888888888888888,
              "#fdca26"
             ],
             [
              1,
              "#f0f921"
             ]
            ],
            "type": "histogram2d"
           }
          ],
          "histogram2dcontour": [
           {
            "colorbar": {
             "outlinewidth": 0,
             "ticks": ""
            },
            "colorscale": [
             [
              0,
              "#0d0887"
             ],
             [
              0.1111111111111111,
              "#46039f"
             ],
             [
              0.2222222222222222,
              "#7201a8"
             ],
             [
              0.3333333333333333,
              "#9c179e"
             ],
             [
              0.4444444444444444,
              "#bd3786"
             ],
             [
              0.5555555555555556,
              "#d8576b"
             ],
             [
              0.6666666666666666,
              "#ed7953"
             ],
             [
              0.7777777777777778,
              "#fb9f3a"
             ],
             [
              0.8888888888888888,
              "#fdca26"
             ],
             [
              1,
              "#f0f921"
             ]
            ],
            "type": "histogram2dcontour"
           }
          ],
          "mesh3d": [
           {
            "colorbar": {
             "outlinewidth": 0,
             "ticks": ""
            },
            "type": "mesh3d"
           }
          ],
          "parcoords": [
           {
            "line": {
             "colorbar": {
              "outlinewidth": 0,
              "ticks": ""
             }
            },
            "type": "parcoords"
           }
          ],
          "pie": [
           {
            "automargin": true,
            "type": "pie"
           }
          ],
          "scatter": [
           {
            "fillpattern": {
             "fillmode": "overlay",
             "size": 10,
             "solidity": 0.2
            },
            "type": "scatter"
           }
          ],
          "scatter3d": [
           {
            "line": {
             "colorbar": {
              "outlinewidth": 0,
              "ticks": ""
             }
            },
            "marker": {
             "colorbar": {
              "outlinewidth": 0,
              "ticks": ""
             }
            },
            "type": "scatter3d"
           }
          ],
          "scattercarpet": [
           {
            "marker": {
             "colorbar": {
              "outlinewidth": 0,
              "ticks": ""
             }
            },
            "type": "scattercarpet"
           }
          ],
          "scattergeo": [
           {
            "marker": {
             "colorbar": {
              "outlinewidth": 0,
              "ticks": ""
             }
            },
            "type": "scattergeo"
           }
          ],
          "scattergl": [
           {
            "marker": {
             "colorbar": {
              "outlinewidth": 0,
              "ticks": ""
             }
            },
            "type": "scattergl"
           }
          ],
          "scattermapbox": [
           {
            "marker": {
             "colorbar": {
              "outlinewidth": 0,
              "ticks": ""
             }
            },
            "type": "scattermapbox"
           }
          ],
          "scatterpolar": [
           {
            "marker": {
             "colorbar": {
              "outlinewidth": 0,
              "ticks": ""
             }
            },
            "type": "scatterpolar"
           }
          ],
          "scatterpolargl": [
           {
            "marker": {
             "colorbar": {
              "outlinewidth": 0,
              "ticks": ""
             }
            },
            "type": "scatterpolargl"
           }
          ],
          "scatterternary": [
           {
            "marker": {
             "colorbar": {
              "outlinewidth": 0,
              "ticks": ""
             }
            },
            "type": "scatterternary"
           }
          ],
          "surface": [
           {
            "colorbar": {
             "outlinewidth": 0,
             "ticks": ""
            },
            "colorscale": [
             [
              0,
              "#0d0887"
             ],
             [
              0.1111111111111111,
              "#46039f"
             ],
             [
              0.2222222222222222,
              "#7201a8"
             ],
             [
              0.3333333333333333,
              "#9c179e"
             ],
             [
              0.4444444444444444,
              "#bd3786"
             ],
             [
              0.5555555555555556,
              "#d8576b"
             ],
             [
              0.6666666666666666,
              "#ed7953"
             ],
             [
              0.7777777777777778,
              "#fb9f3a"
             ],
             [
              0.8888888888888888,
              "#fdca26"
             ],
             [
              1,
              "#f0f921"
             ]
            ],
            "type": "surface"
           }
          ],
          "table": [
           {
            "cells": {
             "fill": {
              "color": "#EBF0F8"
             },
             "line": {
              "color": "white"
             }
            },
            "header": {
             "fill": {
              "color": "#C8D4E3"
             },
             "line": {
              "color": "white"
             }
            },
            "type": "table"
           }
          ]
         },
         "layout": {
          "annotationdefaults": {
           "arrowcolor": "#2a3f5f",
           "arrowhead": 0,
           "arrowwidth": 1
          },
          "autotypenumbers": "strict",
          "coloraxis": {
           "colorbar": {
            "outlinewidth": 0,
            "ticks": ""
           }
          },
          "colorscale": {
           "diverging": [
            [
             0,
             "#8e0152"
            ],
            [
             0.1,
             "#c51b7d"
            ],
            [
             0.2,
             "#de77ae"
            ],
            [
             0.3,
             "#f1b6da"
            ],
            [
             0.4,
             "#fde0ef"
            ],
            [
             0.5,
             "#f7f7f7"
            ],
            [
             0.6,
             "#e6f5d0"
            ],
            [
             0.7,
             "#b8e186"
            ],
            [
             0.8,
             "#7fbc41"
            ],
            [
             0.9,
             "#4d9221"
            ],
            [
             1,
             "#276419"
            ]
           ],
           "sequential": [
            [
             0,
             "#0d0887"
            ],
            [
             0.1111111111111111,
             "#46039f"
            ],
            [
             0.2222222222222222,
             "#7201a8"
            ],
            [
             0.3333333333333333,
             "#9c179e"
            ],
            [
             0.4444444444444444,
             "#bd3786"
            ],
            [
             0.5555555555555556,
             "#d8576b"
            ],
            [
             0.6666666666666666,
             "#ed7953"
            ],
            [
             0.7777777777777778,
             "#fb9f3a"
            ],
            [
             0.8888888888888888,
             "#fdca26"
            ],
            [
             1,
             "#f0f921"
            ]
           ],
           "sequentialminus": [
            [
             0,
             "#0d0887"
            ],
            [
             0.1111111111111111,
             "#46039f"
            ],
            [
             0.2222222222222222,
             "#7201a8"
            ],
            [
             0.3333333333333333,
             "#9c179e"
            ],
            [
             0.4444444444444444,
             "#bd3786"
            ],
            [
             0.5555555555555556,
             "#d8576b"
            ],
            [
             0.6666666666666666,
             "#ed7953"
            ],
            [
             0.7777777777777778,
             "#fb9f3a"
            ],
            [
             0.8888888888888888,
             "#fdca26"
            ],
            [
             1,
             "#f0f921"
            ]
           ]
          },
          "colorway": [
           "#636efa",
           "#EF553B",
           "#00cc96",
           "#ab63fa",
           "#FFA15A",
           "#19d3f3",
           "#FF6692",
           "#B6E880",
           "#FF97FF",
           "#FECB52"
          ],
          "font": {
           "color": "#2a3f5f"
          },
          "geo": {
           "bgcolor": "white",
           "lakecolor": "white",
           "landcolor": "#E5ECF6",
           "showlakes": true,
           "showland": true,
           "subunitcolor": "white"
          },
          "hoverlabel": {
           "align": "left"
          },
          "hovermode": "closest",
          "mapbox": {
           "style": "light"
          },
          "paper_bgcolor": "white",
          "plot_bgcolor": "#E5ECF6",
          "polar": {
           "angularaxis": {
            "gridcolor": "white",
            "linecolor": "white",
            "ticks": ""
           },
           "bgcolor": "#E5ECF6",
           "radialaxis": {
            "gridcolor": "white",
            "linecolor": "white",
            "ticks": ""
           }
          },
          "scene": {
           "xaxis": {
            "backgroundcolor": "#E5ECF6",
            "gridcolor": "white",
            "gridwidth": 2,
            "linecolor": "white",
            "showbackground": true,
            "ticks": "",
            "zerolinecolor": "white"
           },
           "yaxis": {
            "backgroundcolor": "#E5ECF6",
            "gridcolor": "white",
            "gridwidth": 2,
            "linecolor": "white",
            "showbackground": true,
            "ticks": "",
            "zerolinecolor": "white"
           },
           "zaxis": {
            "backgroundcolor": "#E5ECF6",
            "gridcolor": "white",
            "gridwidth": 2,
            "linecolor": "white",
            "showbackground": true,
            "ticks": "",
            "zerolinecolor": "white"
           }
          },
          "shapedefaults": {
           "line": {
            "color": "#2a3f5f"
           }
          },
          "ternary": {
           "aaxis": {
            "gridcolor": "white",
            "linecolor": "white",
            "ticks": ""
           },
           "baxis": {
            "gridcolor": "white",
            "linecolor": "white",
            "ticks": ""
           },
           "bgcolor": "#E5ECF6",
           "caxis": {
            "gridcolor": "white",
            "linecolor": "white",
            "ticks": ""
           }
          },
          "title": {
           "x": 0.05
          },
          "xaxis": {
           "automargin": true,
           "gridcolor": "white",
           "linecolor": "white",
           "ticks": "",
           "title": {
            "standoff": 15
           },
           "zerolinecolor": "white",
           "zerolinewidth": 2
          },
          "yaxis": {
           "automargin": true,
           "gridcolor": "white",
           "linecolor": "white",
           "ticks": "",
           "title": {
            "standoff": 15
           },
           "zerolinecolor": "white",
           "zerolinewidth": 2
          }
         }
        },
        "title": {
         "text": "Slice Plot"
        },
        "xaxis": {
         "autorange": true,
         "range": [
          -4.402751080312386,
          4.418110757962731
         ],
         "title": {
          "text": "C"
         },
         "type": "log"
        },
        "yaxis": {
         "autorange": true,
         "range": [
          0.585737727334883,
          0.6677833994256803
         ],
         "title": {
          "text": "Objective Value"
         },
         "type": "linear"
        }
       }
      },
      "image/png": "[encoded data removed]",
      "text/html": [
       "<div>                            <div id=\"f7ac380a-9b55-4cab-b555-3ed09397d367\" class=\"plotly-graph-div\" style=\"height:525px; width:100%;\"></div>            <script type=\"text/javascript\">                require([\"plotly\"], function(Plotly) {                    window.PLOTLYENV=window.PLOTLYENV || {};                                    if (document.getElementById(\"f7ac380a-9b55-4cab-b555-3ed09397d367\")) {                    Plotly.newPlot(                        \"f7ac380a-9b55-4cab-b555-3ed09397d367\",                        [{\"marker\":{\"color\":[0,1,2,3,4,5,6,7,8,9,10,11,12,13,14,15,16,17,18,19,20,21,22,23,24,25,26,27,28,29,30,31,32,33,34,35,36,37,38,39,40,41,42,43,44,45,46,47,48,49,50,51,52,53,54,55,56,57,58,59,60,61,62,63,64,65,66,67,68,69,70,71,72,73,74,75,76,77,78,79,80,81,82,83,84,85,86,87,88,89,90,91,92,93,94,95,96,97,98,99],\"colorbar\":{\"title\":{\"text\":\"Trial\"},\"x\":1.0,\"xpad\":40},\"colorscale\":[[0.0,\"rgb(247,251,255)\"],[0.125,\"rgb(222,235,247)\"],[0.25,\"rgb(198,219,239)\"],[0.375,\"rgb(158,202,225)\"],[0.5,\"rgb(107,174,214)\"],[0.625,\"rgb(66,146,198)\"],[0.75,\"rgb(33,113,181)\"],[0.875,\"rgb(8,81,156)\"],[1.0,\"rgb(8,48,107)\"]],\"line\":{\"color\":\"Grey\",\"width\":0.5}},\"mode\":\"markers\",\"name\":\"Feasible Trial\",\"showlegend\":false,\"x\":[3.2793061777127344,4.22155172940769,5.0964568733078774,0.012615457400227077,0.057698621971757694,0.01433131378056048,0.0019475380718979023,2468.167596736313,6133.493942179061,0.0005253964265439243,53.9270675827447,1.9353980014889915,80.21633387699279,0.22248664352397637,27.763573715100332,378.2317236638049,0.6531267708672147,7.669322037995653,413.85772658535865,0.1988092067866751,0.00012121117767960303,3.938405273187124,12.907836901497259,1.1842061907519494,246.66841332803693,0.3476648136521626,6.887770465148703,0.08870487738216691,1.1001216915757082,25.089391117024668,0.02012993730829079,7989.138006001001,1271.529961066054,1274.6586341023994,103.58856722403573,3.161648568781441,0.02719040362461338,0.007972012380675839,2367.4135561581884,27.12131812698984,0.0022262495794091912,6691.073512879847,178.1083167716946,4242.690226408908,1506.1760288292394,490.9336686875851,68.84226547091369,0.48463025276180266,2.0263204126247363,10.921959369153544,0.07897518125176374,50.86504468469418,644.116967462289,3.8027071697113506,16.611731734028954,2963.007904344829,5.981162611024969,0.7872612463959887,144.8407150343111,45.474000393972005,1.2973192703150478,0.15940439992468475,1.6104044975558625,3.3609229061675836,0.340559415891096,11.513701883134914,5.498243779044384,2.156116293630419,21.078298273962844,696.9119767848857,8547.065001268993,335.8526006180573,8.033175646494175,35.07719347484611,78.78294995658595,4299.114904255295,0.6279398990969673,1708.0776317922855,116.188374514113,1016.9248574941935,212.2142316174059,0.33027928063644574,0.12441332892479114,0.7960502272462382,2.561430238733351,0.03314322258894792,0.27115514788194683,5352.075996838047,2750.5178852915383,14.277436803746747,1.382143863312133,4.50676298665825,25.658647147305963,8.870259877897896,59.26579994740084,0.000145700192489618,14.723931253721128,32.04001580326168,5.64033758578745,2.279101067347708],\"y\":[0.6619718309859155,0.6619718309859155,0.6619718309859155,0.5985915492957746,0.6408450704225352,0.5985915492957746,0.5915492957746479,0.6619718309859155,0.6619718309859155,0.5915492957746479,0.6619718309859155,0.6619718309859155,0.6619718309859155,0.6619718309859155,0.6619718309859155,0.6619718309859155,0.6619718309859155,0.6619718309859155,0.6619718309859155,0.647887323943662,0.5915492957746479,0.6619718309859155,0.6619718309859155,0.6619718309859155,0.6619718309859155,0.6549295774647887,0.6619718309859155,0.6408450704225352,0.6619718309859155,0.6619718309859155,0.6126760563380281,0.6619718309859155,0.6619718309859155,0.6619718309859155,0.6619718309859155,0.6619718309859155,0.6197183098591549,0.5915492957746479,0.6619718309859155,0.6619718309859155,0.5915492957746479,0.6619718309859155,0.6619718309859155,0.6619718309859155,0.6619718309859155,0.6619718309859155,0.6619718309859155,0.6549295774647887,0.6619718309859155,0.6619718309859155,0.6408450704225352,0.6619718309859155,0.6619718309859155,0.6619718309859155,0.6619718309859155,0.6619718309859155,0.6619718309859155,0.6619718309859155,0.6619718309859155,0.6619718309859155,0.6619718309859155,0.6408450704225352,0.6619718309859155,0.6619718309859155,0.6549295774647887,0.6619718309859155,0.6619718309859155,0.6619718309859155,0.6619718309859155,0.6619718309859155,0.6619718309859155,0.6619718309859155,0.6619718309859155,0.6619718309859155,0.6619718309859155,0.6619718309859155,0.6619718309859155,0.6619718309859155,0.6619718309859155,0.6619718309859155,0.6619718309859155,0.6549295774647887,0.6338028169014085,0.6619718309859155,0.6549295774647887,0.6338028169014085,0.6549295774647887,0.6619718309859155,0.6619718309859155,0.6549295774647887,0.6619718309859155,0.6619718309859155,0.6619718309859155,0.6619718309859155,0.6619718309859155,0.5915492957746479,0.6619718309859155,0.6619718309859155,0.6619718309859155,0.6549295774647887],\"type\":\"scatter\"}],                        {\"title\":{\"text\":\"Slice Plot\"},\"template\":{\"data\":{\"histogram2dcontour\":[{\"type\":\"histogram2dcontour\",\"colorbar\":{\"outlinewidth\":0,\"ticks\":\"\"},\"colorscale\":[[0.0,\"#0d0887\"],[0.1111111111111111,\"#46039f\"],[0.2222222222222222,\"#7201a8\"],[0.3333333333333333,\"#9c179e\"],[0.4444444444444444,\"#bd3786\"],[0.5555555555555556,\"#d8576b\"],[0.6666666666666666,\"#ed7953\"],[0.7777777777777778,\"#fb9f3a\"],[0.8888888888888888,\"#fdca26\"],[1.0,\"#f0f921\"]]}],\"choropleth\":[{\"type\":\"choropleth\",\"colorbar\":{\"outlinewidth\":0,\"ticks\":\"\"}}],\"histogram2d\":[{\"type\":\"histogram2d\",\"colorbar\":{\"outlinewidth\":0,\"ticks\":\"\"},\"colorscale\":[[0.0,\"#0d0887\"],[0.1111111111111111,\"#46039f\"],[0.2222222222222222,\"#7201a8\"],[0.3333333333333333,\"#9c179e\"],[0.4444444444444444,\"#bd3786\"],[0.5555555555555556,\"#d8576b\"],[0.6666666666666666,\"#ed7953\"],[0.7777777777777778,\"#fb9f3a\"],[0.8888888888888888,\"#fdca26\"],[1.0,\"#f0f921\"]]}],\"heatmap\":[{\"type\":\"heatmap\",\"colorbar\":{\"outlinewidth\":0,\"ticks\":\"\"},\"colorscale\":[[0.0,\"#0d0887\"],[0.1111111111111111,\"#46039f\"],[0.2222222222222222,\"#7201a8\"],[0.3333333333333333,\"#9c179e\"],[0.4444444444444444,\"#bd3786\"],[0.5555555555555556,\"#d8576b\"],[0.6666666666666666,\"#ed7953\"],[0.7777777777777778,\"#fb9f3a\"],[0.8888888888888888,\"#fdca26\"],[1.0,\"#f0f921\"]]}],\"heatmapgl\":[{\"type\":\"heatmapgl\",\"colorbar\":{\"outlinewidth\":0,\"ticks\":\"\"},\"colorscale\":[[0.0,\"#0d0887\"],[0.1111111111111111,\"#46039f\"],[0.2222222222222222,\"#7201a8\"],[0.3333333333333333,\"#9c179e\"],[0.4444444444444444,\"#bd3786\"],[0.5555555555555556,\"#d8576b\"],[0.6666666666666666,\"#ed7953\"],[0.7777777777777778,\"#fb9f3a\"],[0.8888888888888888,\"#fdca26\"],[1.0,\"#f0f921\"]]}],\"contourcarpet\":[{\"type\":\"contourcarpet\",\"colorbar\":{\"outlinewidth\":0,\"ticks\":\"\"}}],\"contour\":[{\"type\":\"contour\",\"colorbar\":{\"outlinewidth\":0,\"ticks\":\"\"},\"colorscale\":[[0.0,\"#0d0887\"],[0.1111111111111111,\"#46039f\"],[0.2222222222222222,\"#7201a8\"],[0.3333333333333333,\"#9c179e\"],[0.4444444444444444,\"#bd3786\"],[0.5555555555555556,\"#d8576b\"],[0.6666666666666666,\"#ed7953\"],[0.7777777777777778,\"#fb9f3a\"],[0.8888888888888888,\"#fdca26\"],[1.0,\"#f0f921\"]]}],\"surface\":[{\"type\":\"surface\",\"colorbar\":{\"outlinewidth\":0,\"ticks\":\"\"},\"colorscale\":[[0.0,\"#0d0887\"],[0.1111111111111111,\"#46039f\"],[0.2222222222222222,\"#7201a8\"],[0.3333333333333333,\"#9c179e\"],[0.4444444444444444,\"#bd3786\"],[0.5555555555555556,\"#d8576b\"],[0.6666666666666666,\"#ed7953\"],[0.7777777777777778,\"#fb9f3a\"],[0.8888888888888888,\"#fdca26\"],[1.0,\"#f0f921\"]]}],\"mesh3d\":[{\"type\":\"mesh3d\",\"colorbar\":{\"outlinewidth\":0,\"ticks\":\"\"}}],\"scatter\":[{\"fillpattern\":{\"fillmode\":\"overlay\",\"size\":10,\"solidity\":0.2},\"type\":\"scatter\"}],\"parcoords\":[{\"type\":\"parcoords\",\"line\":{\"colorbar\":{\"outlinewidth\":0,\"ticks\":\"\"}}}],\"scatterpolargl\":[{\"type\":\"scatterpolargl\",\"marker\":{\"colorbar\":{\"outlinewidth\":0,\"ticks\":\"\"}}}],\"bar\":[{\"error_x\":{\"color\":\"#2a3f5f\"},\"error_y\":{\"color\":\"#2a3f5f\"},\"marker\":{\"line\":{\"color\":\"#E5ECF6\",\"width\":0.5},\"pattern\":{\"fillmode\":\"overlay\",\"size\":10,\"solidity\":0.2}},\"type\":\"bar\"}],\"scattergeo\":[{\"type\":\"scattergeo\",\"marker\":{\"colorbar\":{\"outlinewidth\":0,\"ticks\":\"\"}}}],\"scatterpolar\":[{\"type\":\"scatterpolar\",\"marker\":{\"colorbar\":{\"outlinewidth\":0,\"ticks\":\"\"}}}],\"histogram\":[{\"marker\":{\"pattern\":{\"fillmode\":\"overlay\",\"size\":10,\"solidity\":0.2}},\"type\":\"histogram\"}],\"scattergl\":[{\"type\":\"scattergl\",\"marker\":{\"colorbar\":{\"outlinewidth\":0,\"ticks\":\"\"}}}],\"scatter3d\":[{\"type\":\"scatter3d\",\"line\":{\"colorbar\":{\"outlinewidth\":0,\"ticks\":\"\"}},\"marker\":{\"colorbar\":{\"outlinewidth\":0,\"ticks\":\"\"}}}],\"scattermapbox\":[{\"type\":\"scattermapbox\",\"marker\":{\"colorbar\":{\"outlinewidth\":0,\"ticks\":\"\"}}}],\"scatterternary\":[{\"type\":\"scatterternary\",\"marker\":{\"colorbar\":{\"outlinewidth\":0,\"ticks\":\"\"}}}],\"scattercarpet\":[{\"type\":\"scattercarpet\",\"marker\":{\"colorbar\":{\"outlinewidth\":0,\"ticks\":\"\"}}}],\"carpet\":[{\"aaxis\":{\"endlinecolor\":\"#2a3f5f\",\"gridcolor\":\"white\",\"linecolor\":\"white\",\"minorgridcolor\":\"white\",\"startlinecolor\":\"#2a3f5f\"},\"baxis\":{\"endlinecolor\":\"#2a3f5f\",\"gridcolor\":\"white\",\"linecolor\":\"white\",\"minorgridcolor\":\"white\",\"startlinecolor\":\"#2a3f5f\"},\"type\":\"carpet\"}],\"table\":[{\"cells\":{\"fill\":{\"color\":\"#EBF0F8\"},\"line\":{\"color\":\"white\"}},\"header\":{\"fill\":{\"color\":\"#C8D4E3\"},\"line\":{\"color\":\"white\"}},\"type\":\"table\"}],\"barpolar\":[{\"marker\":{\"line\":{\"color\":\"#E5ECF6\",\"width\":0.5},\"pattern\":{\"fillmode\":\"overlay\",\"size\":10,\"solidity\":0.2}},\"type\":\"barpolar\"}],\"pie\":[{\"automargin\":true,\"type\":\"pie\"}]},\"layout\":{\"autotypenumbers\":\"strict\",\"colorway\":[\"#636efa\",\"#EF553B\",\"#00cc96\",\"#ab63fa\",\"#FFA15A\",\"#19d3f3\",\"#FF6692\",\"#B6E880\",\"#FF97FF\",\"#FECB52\"],\"font\":{\"color\":\"#2a3f5f\"},\"hovermode\":\"closest\",\"hoverlabel\":{\"align\":\"left\"},\"paper_bgcolor\":\"white\",\"plot_bgcolor\":\"#E5ECF6\",\"polar\":{\"bgcolor\":\"#E5ECF6\",\"angularaxis\":{\"gridcolor\":\"white\",\"linecolor\":\"white\",\"ticks\":\"\"},\"radialaxis\":{\"gridcolor\":\"white\",\"linecolor\":\"white\",\"ticks\":\"\"}},\"ternary\":{\"bgcolor\":\"#E5ECF6\",\"aaxis\":{\"gridcolor\":\"white\",\"linecolor\":\"white\",\"ticks\":\"\"},\"baxis\":{\"gridcolor\":\"white\",\"linecolor\":\"white\",\"ticks\":\"\"},\"caxis\":{\"gridcolor\":\"white\",\"linecolor\":\"white\",\"ticks\":\"\"}},\"coloraxis\":{\"colorbar\":{\"outlinewidth\":0,\"ticks\":\"\"}},\"colorscale\":{\"sequential\":[[0.0,\"#0d0887\"],[0.1111111111111111,\"#46039f\"],[0.2222222222222222,\"#7201a8\"],[0.3333333333333333,\"#9c179e\"],[0.4444444444444444,\"#bd3786\"],[0.5555555555555556,\"#d8576b\"],[0.6666666666666666,\"#ed7953\"],[0.7777777777777778,\"#fb9f3a\"],[0.8888888888888888,\"#fdca26\"],[1.0,\"#f0f921\"]],\"sequentialminus\":[[0.0,\"#0d0887\"],[0.1111111111111111,\"#46039f\"],[0.2222222222222222,\"#7201a8\"],[0.3333333333333333,\"#9c179e\"],[0.4444444444444444,\"#bd3786\"],[0.5555555555555556,\"#d8576b\"],[0.6666666666666666,\"#ed7953\"],[0.7777777777777778,\"#fb9f3a\"],[0.8888888888888888,\"#fdca26\"],[1.0,\"#f0f921\"]],\"diverging\":[[0,\"#8e0152\"],[0.1,\"#c51b7d\"],[0.2,\"#de77ae\"],[0.3,\"#f1b6da\"],[0.4,\"#fde0ef\"],[0.5,\"#f7f7f7\"],[0.6,\"#e6f5d0\"],[0.7,\"#b8e186\"],[0.8,\"#7fbc41\"],[0.9,\"#4d9221\"],[1,\"#276419\"]]},\"xaxis\":{\"gridcolor\":\"white\",\"linecolor\":\"white\",\"ticks\":\"\",\"title\":{\"standoff\":15},\"zerolinecolor\":\"white\",\"automargin\":true,\"zerolinewidth\":2},\"yaxis\":{\"gridcolor\":\"white\",\"linecolor\":\"white\",\"ticks\":\"\",\"title\":{\"standoff\":15},\"zerolinecolor\":\"white\",\"automargin\":true,\"zerolinewidth\":2},\"scene\":{\"xaxis\":{\"backgroundcolor\":\"#E5ECF6\",\"gridcolor\":\"white\",\"linecolor\":\"white\",\"showbackground\":true,\"ticks\":\"\",\"zerolinecolor\":\"white\",\"gridwidth\":2},\"yaxis\":{\"backgroundcolor\":\"#E5ECF6\",\"gridcolor\":\"white\",\"linecolor\":\"white\",\"showbackground\":true,\"ticks\":\"\",\"zerolinecolor\":\"white\",\"gridwidth\":2},\"zaxis\":{\"backgroundcolor\":\"#E5ECF6\",\"gridcolor\":\"white\",\"linecolor\":\"white\",\"showbackground\":true,\"ticks\":\"\",\"zerolinecolor\":\"white\",\"gridwidth\":2}},\"shapedefaults\":{\"line\":{\"color\":\"#2a3f5f\"}},\"annotationdefaults\":{\"arrowcolor\":\"#2a3f5f\",\"arrowhead\":0,\"arrowwidth\":1},\"geo\":{\"bgcolor\":\"white\",\"landcolor\":\"#E5ECF6\",\"subunitcolor\":\"white\",\"showland\":true,\"showlakes\":true,\"lakecolor\":\"white\"},\"title\":{\"x\":0.05},\"mapbox\":{\"style\":\"light\"}}},\"xaxis\":{\"title\":{\"text\":\"C\"},\"type\":\"log\"},\"yaxis\":{\"title\":{\"text\":\"Objective Value\"}}},                        {\"responsive\": true}                    ).then(function(){\n",
       "                            \n",
       "var gd = document.getElementById('f7ac380a-9b55-4cab-b555-3ed09397d367');\n",
       "var x = new MutationObserver(function (mutations, observer) {{\n",
       "        var display = window.getComputedStyle(gd).display;\n",
       "        if (!display || display === 'none') {{\n",
       "            console.log([gd, 'removed!']);\n",
       "            Plotly.purge(gd);\n",
       "            observer.disconnect();\n",
       "        }}\n",
       "}});\n",
       "\n",
       "// Listen for the removal of the full notebook cells\n",
       "var notebookContainer = gd.closest('#notebook-container');\n",
       "if (notebookContainer) {{\n",
       "    x.observe(notebookContainer, {childList: true});\n",
       "}}\n",
       "\n",
       "// Listen for the clearing of the current output cell\n",
       "var outputEl = gd.closest('.output');\n",
       "if (outputEl) {{\n",
       "    x.observe(outputEl, {childList: true});\n",
       "}}\n",
       "\n",
       "                        })                };                });            </script>        </div>"
      ]
     },
     "metadata": {},
     "output_type": "display_data"
    }
   ],
   "source": [
    "plot_slice(study)"
   ]
  },
  {
   "cell_type": "code",
   "execution_count": 163,
   "id": "512b98c9-58df-4a6f-8b58-60e8b347735c",
   "metadata": {
    "tags": []
   },
   "outputs": [
    {
     "name": "stdout",
     "output_type": "stream",
     "text": [
      "Best parameters: {'C': 3.2793061777127344}\n"
     ]
    }
   ],
   "source": [
    "# Retrieve the best hyperparameters\n",
    "best_params = study.best_params\n",
    "print('Best parameters:', best_params)"
   ]
  },
  {
   "cell_type": "code",
   "execution_count": 164,
   "id": "6433618a-06fb-43a5-8a12-6db62565b67b",
   "metadata": {
    "tags": []
   },
   "outputs": [
    {
     "data": {
      "text/html": [
       "<style>#sk-container-id-9 {color: black;}#sk-container-id-9 pre{padding: 0;}#sk-container-id-9 div.sk-toggleable {background-color: white;}#sk-container-id-9 label.sk-toggleable__label {cursor: pointer;display: block;width: 100%;margin-bottom: 0;padding: 0.3em;box-sizing: border-box;text-align: center;}#sk-container-id-9 label.sk-toggleable__label-arrow:before {content: \"▸\";float: left;margin-right: 0.25em;color: #696969;}#sk-container-id-9 label.sk-toggleable__label-arrow:hover:before {color: black;}#sk-container-id-9 div.sk-estimator:hover label.sk-toggleable__label-arrow:before {color: black;}#sk-container-id-9 div.sk-toggleable__content {max-height: 0;max-width: 0;overflow: hidden;text-align: left;background-color: #f0f8ff;}#sk-container-id-9 div.sk-toggleable__content pre {margin: 0.2em;color: black;border-radius: 0.25em;background-color: #f0f8ff;}#sk-container-id-9 input.sk-toggleable__control:checked~div.sk-toggleable__content {max-height: 200px;max-width: 100%;overflow: auto;}#sk-container-id-9 input.sk-toggleable__control:checked~label.sk-toggleable__label-arrow:before {content: \"▾\";}#sk-container-id-9 div.sk-estimator input.sk-toggleable__control:checked~label.sk-toggleable__label {background-color: #d4ebff;}#sk-container-id-9 div.sk-label input.sk-toggleable__control:checked~label.sk-toggleable__label {background-color: #d4ebff;}#sk-container-id-9 input.sk-hidden--visually {border: 0;clip: rect(1px 1px 1px 1px);clip: rect(1px, 1px, 1px, 1px);height: 1px;margin: -1px;overflow: hidden;padding: 0;position: absolute;width: 1px;}#sk-container-id-9 div.sk-estimator {font-family: monospace;background-color: #f0f8ff;border: 1px dotted black;border-radius: 0.25em;box-sizing: border-box;margin-bottom: 0.5em;}#sk-container-id-9 div.sk-estimator:hover {background-color: #d4ebff;}#sk-container-id-9 div.sk-parallel-item::after {content: \"\";width: 100%;border-bottom: 1px solid gray;flex-grow: 1;}#sk-container-id-9 div.sk-label:hover label.sk-toggleable__label {background-color: #d4ebff;}#sk-container-id-9 div.sk-serial::before {content: \"\";position: absolute;border-left: 1px solid gray;box-sizing: border-box;top: 0;bottom: 0;left: 50%;z-index: 0;}#sk-container-id-9 div.sk-serial {display: flex;flex-direction: column;align-items: center;background-color: white;padding-right: 0.2em;padding-left: 0.2em;position: relative;}#sk-container-id-9 div.sk-item {position: relative;z-index: 1;}#sk-container-id-9 div.sk-parallel {display: flex;align-items: stretch;justify-content: center;background-color: white;position: relative;}#sk-container-id-9 div.sk-item::before, #sk-container-id-9 div.sk-parallel-item::before {content: \"\";position: absolute;border-left: 1px solid gray;box-sizing: border-box;top: 0;bottom: 0;left: 50%;z-index: -1;}#sk-container-id-9 div.sk-parallel-item {display: flex;flex-direction: column;z-index: 1;position: relative;background-color: white;}#sk-container-id-9 div.sk-parallel-item:first-child::after {align-self: flex-end;width: 50%;}#sk-container-id-9 div.sk-parallel-item:last-child::after {align-self: flex-start;width: 50%;}#sk-container-id-9 div.sk-parallel-item:only-child::after {width: 0;}#sk-container-id-9 div.sk-dashed-wrapped {border: 1px dashed gray;margin: 0 0.4em 0.5em 0.4em;box-sizing: border-box;padding-bottom: 0.4em;background-color: white;}#sk-container-id-9 div.sk-label label {font-family: monospace;font-weight: bold;display: inline-block;line-height: 1.2em;}#sk-container-id-9 div.sk-label-container {text-align: center;}#sk-container-id-9 div.sk-container {/* jupyter's `normalize.less` sets `[hidden] { display: none; }` but bootstrap.min.css set `[hidden] { display: none !important; }` so we also need the `!important` here to be able to override the default hidden behavior on the sphinx rendered scikit-learn.org. See: https://github.com/scikit-learn/scikit-learn/issues/21755 */display: inline-block !important;position: relative;}#sk-container-id-9 div.sk-text-repr-fallback {display: none;}</style><div id=\"sk-container-id-9\" class=\"sk-top-container\"><div class=\"sk-text-repr-fallback\"><pre>LogisticRegression(C=3.2793061777127344, max_iter=1000)</pre><b>In a Jupyter environment, please rerun this cell to show the HTML representation or trust the notebook. <br />On GitHub, the HTML representation is unable to render, please try loading this page with nbviewer.org.</b></div><div class=\"sk-container\" hidden><div class=\"sk-item\"><div class=\"sk-estimator sk-toggleable\"><input class=\"sk-toggleable__control sk-hidden--visually\" id=\"sk-estimator-id-9\" type=\"checkbox\" checked><label for=\"sk-estimator-id-9\" class=\"sk-toggleable__label sk-toggleable__label-arrow\">LogisticRegression</label><div class=\"sk-toggleable__content\"><pre>LogisticRegression(C=3.2793061777127344, max_iter=1000)</pre></div></div></div></div></div>"
      ],
      "text/plain": [
       "LogisticRegression(C=3.2793061777127344, max_iter=1000)"
      ]
     },
     "execution_count": 164,
     "metadata": {},
     "output_type": "execute_result"
    }
   ],
   "source": [
    "# Create and fit the model\n",
    "model = LogisticRegression(max_iter=1000, **best_params)\n",
    "model.fit(X_train, y_train)"
   ]
  },
  {
   "cell_type": "code",
   "execution_count": 281,
   "id": "a1bdd82a-9ff0-41b6-b3d6-ec1539adc8d2",
   "metadata": {
    "tags": []
   },
   "outputs": [
    {
     "ename": "ValueError",
     "evalue": "Classification metrics can't handle a mix of multiclass and continuous targets",
     "output_type": "error",
     "traceback": [
      "\u001b[0;31m---------------------------------------------------------------------------\u001b[0m",
      "\u001b[0;31mValueError\u001b[0m                                Traceback (most recent call last)",
      "Cell \u001b[0;32mIn[281], line 3\u001b[0m\n\u001b[1;32m      1\u001b[0m \u001b[38;5;66;03m# Predict and evaluate\u001b[39;00m\n\u001b[1;32m      2\u001b[0m y_pred \u001b[38;5;241m=\u001b[39m model\u001b[38;5;241m.\u001b[39mpredict(X_test)\n\u001b[0;32m----> 3\u001b[0m \u001b[38;5;28mprint\u001b[39m(\u001b[43mclassification_report\u001b[49m\u001b[43m(\u001b[49m\u001b[43my_test\u001b[49m\u001b[43m,\u001b[49m\u001b[43m \u001b[49m\u001b[43my_pred\u001b[49m\u001b[43m)\u001b[49m)\n",
      "File \u001b[0;32m/usr/local/lib/python3.11/dist-packages/sklearn/utils/_param_validation.py:214\u001b[0m, in \u001b[0;36mvalidate_params.<locals>.decorator.<locals>.wrapper\u001b[0;34m(*args, **kwargs)\u001b[0m\n\u001b[1;32m    208\u001b[0m \u001b[38;5;28;01mtry\u001b[39;00m:\n\u001b[1;32m    209\u001b[0m     \u001b[38;5;28;01mwith\u001b[39;00m config_context(\n\u001b[1;32m    210\u001b[0m         skip_parameter_validation\u001b[38;5;241m=\u001b[39m(\n\u001b[1;32m    211\u001b[0m             prefer_skip_nested_validation \u001b[38;5;129;01mor\u001b[39;00m global_skip_validation\n\u001b[1;32m    212\u001b[0m         )\n\u001b[1;32m    213\u001b[0m     ):\n\u001b[0;32m--> 214\u001b[0m         \u001b[38;5;28;01mreturn\u001b[39;00m \u001b[43mfunc\u001b[49m\u001b[43m(\u001b[49m\u001b[38;5;241;43m*\u001b[39;49m\u001b[43margs\u001b[49m\u001b[43m,\u001b[49m\u001b[43m \u001b[49m\u001b[38;5;241;43m*\u001b[39;49m\u001b[38;5;241;43m*\u001b[39;49m\u001b[43mkwargs\u001b[49m\u001b[43m)\u001b[49m\n\u001b[1;32m    215\u001b[0m \u001b[38;5;28;01mexcept\u001b[39;00m InvalidParameterError \u001b[38;5;28;01mas\u001b[39;00m e:\n\u001b[1;32m    216\u001b[0m     \u001b[38;5;66;03m# When the function is just a wrapper around an estimator, we allow\u001b[39;00m\n\u001b[1;32m    217\u001b[0m     \u001b[38;5;66;03m# the function to delegate validation to the estimator, but we replace\u001b[39;00m\n\u001b[1;32m    218\u001b[0m     \u001b[38;5;66;03m# the name of the estimator by the name of the function in the error\u001b[39;00m\n\u001b[1;32m    219\u001b[0m     \u001b[38;5;66;03m# message to avoid confusion.\u001b[39;00m\n\u001b[1;32m    220\u001b[0m     msg \u001b[38;5;241m=\u001b[39m re\u001b[38;5;241m.\u001b[39msub(\n\u001b[1;32m    221\u001b[0m         \u001b[38;5;124mr\u001b[39m\u001b[38;5;124m\"\u001b[39m\u001b[38;5;124mparameter of \u001b[39m\u001b[38;5;124m\\\u001b[39m\u001b[38;5;124mw+ must be\u001b[39m\u001b[38;5;124m\"\u001b[39m,\n\u001b[1;32m    222\u001b[0m         \u001b[38;5;124mf\u001b[39m\u001b[38;5;124m\"\u001b[39m\u001b[38;5;124mparameter of \u001b[39m\u001b[38;5;132;01m{\u001b[39;00mfunc\u001b[38;5;241m.\u001b[39m\u001b[38;5;18m__qualname__\u001b[39m\u001b[38;5;132;01m}\u001b[39;00m\u001b[38;5;124m must be\u001b[39m\u001b[38;5;124m\"\u001b[39m,\n\u001b[1;32m    223\u001b[0m         \u001b[38;5;28mstr\u001b[39m(e),\n\u001b[1;32m    224\u001b[0m     )\n",
      "File \u001b[0;32m/usr/local/lib/python3.11/dist-packages/sklearn/metrics/_classification.py:2545\u001b[0m, in \u001b[0;36mclassification_report\u001b[0;34m(y_true, y_pred, labels, target_names, sample_weight, digits, output_dict, zero_division)\u001b[0m\n\u001b[1;32m   2410\u001b[0m \u001b[38;5;129m@validate_params\u001b[39m(\n\u001b[1;32m   2411\u001b[0m     {\n\u001b[1;32m   2412\u001b[0m         \u001b[38;5;124m\"\u001b[39m\u001b[38;5;124my_true\u001b[39m\u001b[38;5;124m\"\u001b[39m: [\u001b[38;5;124m\"\u001b[39m\u001b[38;5;124marray-like\u001b[39m\u001b[38;5;124m\"\u001b[39m, \u001b[38;5;124m\"\u001b[39m\u001b[38;5;124msparse matrix\u001b[39m\u001b[38;5;124m\"\u001b[39m],\n\u001b[0;32m   (...)\u001b[0m\n\u001b[1;32m   2436\u001b[0m     zero_division\u001b[38;5;241m=\u001b[39m\u001b[38;5;124m\"\u001b[39m\u001b[38;5;124mwarn\u001b[39m\u001b[38;5;124m\"\u001b[39m,\n\u001b[1;32m   2437\u001b[0m ):\n\u001b[1;32m   2438\u001b[0m \u001b[38;5;250m    \u001b[39m\u001b[38;5;124;03m\"\"\"Build a text report showing the main classification metrics.\u001b[39;00m\n\u001b[1;32m   2439\u001b[0m \n\u001b[1;32m   2440\u001b[0m \u001b[38;5;124;03m    Read more in the :ref:`User Guide <classification_report>`.\u001b[39;00m\n\u001b[0;32m   (...)\u001b[0m\n\u001b[1;32m   2542\u001b[0m \u001b[38;5;124;03m    <BLANKLINE>\u001b[39;00m\n\u001b[1;32m   2543\u001b[0m \u001b[38;5;124;03m    \"\"\"\u001b[39;00m\n\u001b[0;32m-> 2545\u001b[0m     y_type, y_true, y_pred \u001b[38;5;241m=\u001b[39m \u001b[43m_check_targets\u001b[49m\u001b[43m(\u001b[49m\u001b[43my_true\u001b[49m\u001b[43m,\u001b[49m\u001b[43m \u001b[49m\u001b[43my_pred\u001b[49m\u001b[43m)\u001b[49m\n\u001b[1;32m   2547\u001b[0m     \u001b[38;5;28;01mif\u001b[39;00m labels \u001b[38;5;129;01mis\u001b[39;00m \u001b[38;5;28;01mNone\u001b[39;00m:\n\u001b[1;32m   2548\u001b[0m         labels \u001b[38;5;241m=\u001b[39m unique_labels(y_true, y_pred)\n",
      "File \u001b[0;32m/usr/local/lib/python3.11/dist-packages/sklearn/metrics/_classification.py:93\u001b[0m, in \u001b[0;36m_check_targets\u001b[0;34m(y_true, y_pred)\u001b[0m\n\u001b[1;32m     90\u001b[0m     y_type \u001b[38;5;241m=\u001b[39m {\u001b[38;5;124m\"\u001b[39m\u001b[38;5;124mmulticlass\u001b[39m\u001b[38;5;124m\"\u001b[39m}\n\u001b[1;32m     92\u001b[0m \u001b[38;5;28;01mif\u001b[39;00m \u001b[38;5;28mlen\u001b[39m(y_type) \u001b[38;5;241m>\u001b[39m \u001b[38;5;241m1\u001b[39m:\n\u001b[0;32m---> 93\u001b[0m     \u001b[38;5;28;01mraise\u001b[39;00m \u001b[38;5;167;01mValueError\u001b[39;00m(\n\u001b[1;32m     94\u001b[0m         \u001b[38;5;124m\"\u001b[39m\u001b[38;5;124mClassification metrics can\u001b[39m\u001b[38;5;124m'\u001b[39m\u001b[38;5;124mt handle a mix of \u001b[39m\u001b[38;5;132;01m{0}\u001b[39;00m\u001b[38;5;124m and \u001b[39m\u001b[38;5;132;01m{1}\u001b[39;00m\u001b[38;5;124m targets\u001b[39m\u001b[38;5;124m\"\u001b[39m\u001b[38;5;241m.\u001b[39mformat(\n\u001b[1;32m     95\u001b[0m             type_true, type_pred\n\u001b[1;32m     96\u001b[0m         )\n\u001b[1;32m     97\u001b[0m     )\n\u001b[1;32m     99\u001b[0m \u001b[38;5;66;03m# We can't have more than one value on y_type => The set is no more needed\u001b[39;00m\n\u001b[1;32m    100\u001b[0m y_type \u001b[38;5;241m=\u001b[39m y_type\u001b[38;5;241m.\u001b[39mpop()\n",
      "\u001b[0;31mValueError\u001b[0m: Classification metrics can't handle a mix of multiclass and continuous targets"
     ]
    }
   ],
   "source": [
    "# Predict and evaluate\n",
    "y_pred = model.predict(X_test)\n",
    "print(classification_report(y_test, y_pred))"
   ]
  },
  {
   "cell_type": "markdown",
   "id": "18f292df-9851-452d-bf18-e4d8dbd29c63",
   "metadata": {},
   "source": [
    "## Optuna Models"
   ]
  },
  {
   "cell_type": "code",
   "execution_count": 17,
   "id": "929cf2a4-42ce-4f4f-a0e8-7db61b4d69dc",
   "metadata": {},
   "outputs": [
    {
     "name": "stderr",
     "output_type": "stream",
     "text": [
      "[I 2023-12-21 02:37:41,827] A new study created in memory with name: no-name-b51d84c8-85ec-4d3e-86ec-3e698036e3d6\n",
      "[I 2023-12-21 02:37:41,830] Trial 0 finished with value: 0.6056338028169014 and parameters: {'classifier': 'SVC', 'svc_c': 1.4181639828497497e-08}. Best is trial 0 with value: 0.6056338028169014.\n",
      "[I 2023-12-21 02:37:41,832] Trial 1 finished with value: 0.6056338028169014 and parameters: {'classifier': 'RandomForest', 'rf_max_depth': 7}. Best is trial 0 with value: 0.6056338028169014.\n",
      "[I 2023-12-21 02:37:41,835] Trial 2 finished with value: 0.6056338028169014 and parameters: {'classifier': 'RandomForest', 'rf_max_depth': 9}. Best is trial 0 with value: 0.6056338028169014.\n",
      "[I 2023-12-21 02:37:41,838] Trial 3 finished with value: 0.6056338028169014 and parameters: {'classifier': 'SVC', 'svc_c': 72759317.0288819}. Best is trial 0 with value: 0.6056338028169014.\n",
      "[I 2023-12-21 02:37:41,841] Trial 4 finished with value: 0.6056338028169014 and parameters: {'classifier': 'SVC', 'svc_c': 4.624216160189978e-09}. Best is trial 0 with value: 0.6056338028169014.\n",
      "[I 2023-12-21 02:37:41,844] Trial 5 finished with value: 0.6056338028169014 and parameters: {'classifier': 'RandomForest', 'rf_max_depth': 4}. Best is trial 0 with value: 0.6056338028169014.\n",
      "[I 2023-12-21 02:37:41,846] Trial 6 finished with value: 0.6056338028169014 and parameters: {'classifier': 'RandomForest', 'rf_max_depth': 18}. Best is trial 0 with value: 0.6056338028169014.\n",
      "[I 2023-12-21 02:37:41,848] Trial 7 finished with value: 0.6056338028169014 and parameters: {'classifier': 'RandomForest', 'rf_max_depth': 21}. Best is trial 0 with value: 0.6056338028169014.\n",
      "[I 2023-12-21 02:37:41,851] Trial 8 finished with value: 0.6056338028169014 and parameters: {'classifier': 'SVC', 'svc_c': 3.2948628345668455e-08}. Best is trial 0 with value: 0.6056338028169014.\n",
      "[I 2023-12-21 02:37:41,853] Trial 9 finished with value: 0.6056338028169014 and parameters: {'classifier': 'SVC', 'svc_c': 1572707988.395187}. Best is trial 0 with value: 0.6056338028169014.\n",
      "[I 2023-12-21 02:37:41,858] Trial 10 finished with value: 0.6056338028169014 and parameters: {'classifier': 'SVC', 'svc_c': 0.0635529662811651}. Best is trial 0 with value: 0.6056338028169014.\n",
      "[I 2023-12-21 02:37:41,864] Trial 11 finished with value: 0.6056338028169014 and parameters: {'classifier': 'RandomForest', 'rf_max_depth': 2}. Best is trial 0 with value: 0.6056338028169014.\n",
      "[I 2023-12-21 02:37:41,869] Trial 12 finished with value: 0.6056338028169014 and parameters: {'classifier': 'RandomForest', 'rf_max_depth': 7}. Best is trial 0 with value: 0.6056338028169014.\n",
      "[I 2023-12-21 02:37:41,874] Trial 13 finished with value: 0.6056338028169014 and parameters: {'classifier': 'SVC', 'svc_c': 0.01998614414752006}. Best is trial 0 with value: 0.6056338028169014.\n",
      "[I 2023-12-21 02:37:41,879] Trial 14 finished with value: 0.6056338028169014 and parameters: {'classifier': 'SVC', 'svc_c': 1.1453216665610527e-05}. Best is trial 0 with value: 0.6056338028169014.\n",
      "[I 2023-12-21 02:37:41,884] Trial 15 finished with value: 0.6056338028169014 and parameters: {'classifier': 'RandomForest', 'rf_max_depth': 3}. Best is trial 0 with value: 0.6056338028169014.\n",
      "[I 2023-12-21 02:37:41,888] Trial 16 finished with value: 0.6056338028169014 and parameters: {'classifier': 'SVC', 'svc_c': 5197.024390894107}. Best is trial 0 with value: 0.6056338028169014.\n",
      "[I 2023-12-21 02:37:41,893] Trial 17 finished with value: 0.6056338028169014 and parameters: {'classifier': 'RandomForest', 'rf_max_depth': 11}. Best is trial 0 with value: 0.6056338028169014.\n",
      "[I 2023-12-21 02:37:41,899] Trial 18 finished with value: 0.6056338028169014 and parameters: {'classifier': 'RandomForest', 'rf_max_depth': 5}. Best is trial 0 with value: 0.6056338028169014.\n",
      "[I 2023-12-21 02:37:41,905] Trial 19 finished with value: 0.6056338028169014 and parameters: {'classifier': 'SVC', 'svc_c': 1.4266331581253678e-10}. Best is trial 0 with value: 0.6056338028169014.\n",
      "[I 2023-12-21 02:37:41,910] Trial 20 finished with value: 0.6056338028169014 and parameters: {'classifier': 'RandomForest', 'rf_max_depth': 13}. Best is trial 0 with value: 0.6056338028169014.\n",
      "[I 2023-12-21 02:37:41,915] Trial 21 finished with value: 0.6056338028169014 and parameters: {'classifier': 'RandomForest', 'rf_max_depth': 8}. Best is trial 0 with value: 0.6056338028169014.\n",
      "[I 2023-12-21 02:37:41,920] Trial 22 finished with value: 0.6056338028169014 and parameters: {'classifier': 'RandomForest', 'rf_max_depth': 27}. Best is trial 0 with value: 0.6056338028169014.\n",
      "[I 2023-12-21 02:37:41,926] Trial 23 finished with value: 0.6056338028169014 and parameters: {'classifier': 'RandomForest', 'rf_max_depth': 10}. Best is trial 0 with value: 0.6056338028169014.\n",
      "[I 2023-12-21 02:37:41,931] Trial 24 finished with value: 0.6056338028169014 and parameters: {'classifier': 'RandomForest', 'rf_max_depth': 6}. Best is trial 0 with value: 0.6056338028169014.\n",
      "[I 2023-12-21 02:37:41,936] Trial 25 finished with value: 0.6056338028169014 and parameters: {'classifier': 'RandomForest', 'rf_max_depth': 3}. Best is trial 0 with value: 0.6056338028169014.\n",
      "[I 2023-12-21 02:37:41,941] Trial 26 finished with value: 0.6056338028169014 and parameters: {'classifier': 'SVC', 'svc_c': 3216.988002138254}. Best is trial 0 with value: 0.6056338028169014.\n",
      "[I 2023-12-21 02:37:41,947] Trial 27 finished with value: 0.6056338028169014 and parameters: {'classifier': 'RandomForest', 'rf_max_depth': 15}. Best is trial 0 with value: 0.6056338028169014.\n",
      "[I 2023-12-21 02:37:41,952] Trial 28 finished with value: 0.6056338028169014 and parameters: {'classifier': 'SVC', 'svc_c': 3.123629275694629e-06}. Best is trial 0 with value: 0.6056338028169014.\n",
      "[I 2023-12-21 02:37:41,957] Trial 29 finished with value: 0.6056338028169014 and parameters: {'classifier': 'SVC', 'svc_c': 0.0002828774136682873}. Best is trial 0 with value: 0.6056338028169014.\n",
      "[I 2023-12-21 02:37:41,963] Trial 30 finished with value: 0.6056338028169014 and parameters: {'classifier': 'RandomForest', 'rf_max_depth': 4}. Best is trial 0 with value: 0.6056338028169014.\n",
      "[I 2023-12-21 02:37:41,968] Trial 31 finished with value: 0.6056338028169014 and parameters: {'classifier': 'SVC', 'svc_c': 1369162813.5872877}. Best is trial 0 with value: 0.6056338028169014.\n",
      "[I 2023-12-21 02:37:41,973] Trial 32 finished with value: 0.6056338028169014 and parameters: {'classifier': 'SVC', 'svc_c': 1403.9149538709064}. Best is trial 0 with value: 0.6056338028169014.\n",
      "[I 2023-12-21 02:37:41,978] Trial 33 finished with value: 0.6056338028169014 and parameters: {'classifier': 'SVC', 'svc_c': 2026995.654439316}. Best is trial 0 with value: 0.6056338028169014.\n",
      "[I 2023-12-21 02:37:41,984] Trial 34 finished with value: 0.6056338028169014 and parameters: {'classifier': 'SVC', 'svc_c': 10.996629342772522}. Best is trial 0 with value: 0.6056338028169014.\n",
      "[I 2023-12-21 02:37:41,990] Trial 35 finished with value: 0.6056338028169014 and parameters: {'classifier': 'SVC', 'svc_c': 1077715.7364394423}. Best is trial 0 with value: 0.6056338028169014.\n",
      "[I 2023-12-21 02:37:41,996] Trial 36 finished with value: 0.6056338028169014 and parameters: {'classifier': 'RandomForest', 'rf_max_depth': 9}. Best is trial 0 with value: 0.6056338028169014.\n",
      "[I 2023-12-21 02:37:42,001] Trial 37 finished with value: 0.6056338028169014 and parameters: {'classifier': 'SVC', 'svc_c': 42.40525682761419}. Best is trial 0 with value: 0.6056338028169014.\n",
      "[I 2023-12-21 02:37:42,006] Trial 38 finished with value: 0.6056338028169014 and parameters: {'classifier': 'RandomForest', 'rf_max_depth': 2}. Best is trial 0 with value: 0.6056338028169014.\n",
      "[I 2023-12-21 02:37:42,011] Trial 39 finished with value: 0.6056338028169014 and parameters: {'classifier': 'SVC', 'svc_c': 19639162.52916377}. Best is trial 0 with value: 0.6056338028169014.\n",
      "[I 2023-12-21 02:37:42,017] Trial 40 finished with value: 0.6056338028169014 and parameters: {'classifier': 'RandomForest', 'rf_max_depth': 6}. Best is trial 0 with value: 0.6056338028169014.\n",
      "[I 2023-12-21 02:37:42,022] Trial 41 finished with value: 0.6056338028169014 and parameters: {'classifier': 'SVC', 'svc_c': 2.797725172529102e-10}. Best is trial 0 with value: 0.6056338028169014.\n",
      "[I 2023-12-21 02:37:42,028] Trial 42 finished with value: 0.6056338028169014 and parameters: {'classifier': 'SVC', 'svc_c': 3.568780586202632e-08}. Best is trial 0 with value: 0.6056338028169014.\n",
      "[I 2023-12-21 02:37:42,034] Trial 43 finished with value: 0.6056338028169014 and parameters: {'classifier': 'SVC', 'svc_c': 3.7085314486621923e-07}. Best is trial 0 with value: 0.6056338028169014.\n",
      "[I 2023-12-21 02:37:42,039] Trial 44 finished with value: 0.6056338028169014 and parameters: {'classifier': 'SVC', 'svc_c': 0.0008492034904551472}. Best is trial 0 with value: 0.6056338028169014.\n",
      "[I 2023-12-21 02:37:42,046] Trial 45 finished with value: 0.6056338028169014 and parameters: {'classifier': 'SVC', 'svc_c': 6.0255001254364895e-09}. Best is trial 0 with value: 0.6056338028169014.\n",
      "[I 2023-12-21 02:37:42,052] Trial 46 finished with value: 0.6056338028169014 and parameters: {'classifier': 'SVC', 'svc_c': 9.458103835541239e-05}. Best is trial 0 with value: 0.6056338028169014.\n",
      "[I 2023-12-21 02:37:42,058] Trial 47 finished with value: 0.6056338028169014 and parameters: {'classifier': 'RandomForest', 'rf_max_depth': 13}. Best is trial 0 with value: 0.6056338028169014.\n",
      "[I 2023-12-21 02:37:42,063] Trial 48 finished with value: 0.6056338028169014 and parameters: {'classifier': 'SVC', 'svc_c': 0.04038716590465111}. Best is trial 0 with value: 0.6056338028169014.\n",
      "[I 2023-12-21 02:37:42,069] Trial 49 finished with value: 0.6056338028169014 and parameters: {'classifier': 'RandomForest', 'rf_max_depth': 4}. Best is trial 0 with value: 0.6056338028169014.\n",
      "[I 2023-12-21 02:37:42,074] Trial 50 finished with value: 0.6056338028169014 and parameters: {'classifier': 'SVC', 'svc_c': 1.804990905806879e-09}. Best is trial 0 with value: 0.6056338028169014.\n",
      "[I 2023-12-21 02:37:42,080] Trial 51 finished with value: 0.6056338028169014 and parameters: {'classifier': 'RandomForest', 'rf_max_depth': 4}. Best is trial 0 with value: 0.6056338028169014.\n",
      "[I 2023-12-21 02:37:42,085] Trial 52 finished with value: 0.6056338028169014 and parameters: {'classifier': 'RandomForest', 'rf_max_depth': 3}. Best is trial 0 with value: 0.6056338028169014.\n",
      "[I 2023-12-21 02:37:42,091] Trial 53 finished with value: 0.6056338028169014 and parameters: {'classifier': 'RandomForest', 'rf_max_depth': 5}. Best is trial 0 with value: 0.6056338028169014.\n",
      "[I 2023-12-21 02:37:42,097] Trial 54 finished with value: 0.6056338028169014 and parameters: {'classifier': 'RandomForest', 'rf_max_depth': 8}. Best is trial 0 with value: 0.6056338028169014.\n",
      "[I 2023-12-21 02:37:42,103] Trial 55 finished with value: 0.6056338028169014 and parameters: {'classifier': 'RandomForest', 'rf_max_depth': 6}. Best is trial 0 with value: 0.6056338028169014.\n",
      "[I 2023-12-21 02:37:42,109] Trial 56 finished with value: 0.6056338028169014 and parameters: {'classifier': 'RandomForest', 'rf_max_depth': 5}. Best is trial 0 with value: 0.6056338028169014.\n",
      "[I 2023-12-21 02:37:42,115] Trial 57 finished with value: 0.6056338028169014 and parameters: {'classifier': 'RandomForest', 'rf_max_depth': 22}. Best is trial 0 with value: 0.6056338028169014.\n",
      "[I 2023-12-21 02:37:42,121] Trial 58 finished with value: 0.6056338028169014 and parameters: {'classifier': 'SVC', 'svc_c': 3.3378106597248606e-07}. Best is trial 0 with value: 0.6056338028169014.\n",
      "[I 2023-12-21 02:37:42,127] Trial 59 finished with value: 0.6056338028169014 and parameters: {'classifier': 'RandomForest', 'rf_max_depth': 11}. Best is trial 0 with value: 0.6056338028169014.\n",
      "[I 2023-12-21 02:37:42,133] Trial 60 finished with value: 0.6056338028169014 and parameters: {'classifier': 'RandomForest', 'rf_max_depth': 17}. Best is trial 0 with value: 0.6056338028169014.\n",
      "[I 2023-12-21 02:37:42,138] Trial 61 finished with value: 0.6056338028169014 and parameters: {'classifier': 'RandomForest', 'rf_max_depth': 20}. Best is trial 0 with value: 0.6056338028169014.\n",
      "[I 2023-12-21 02:37:42,143] Trial 62 finished with value: 0.6056338028169014 and parameters: {'classifier': 'RandomForest', 'rf_max_depth': 28}. Best is trial 0 with value: 0.6056338028169014.\n",
      "[I 2023-12-21 02:37:42,149] Trial 63 finished with value: 0.6056338028169014 and parameters: {'classifier': 'RandomForest', 'rf_max_depth': 7}. Best is trial 0 with value: 0.6056338028169014.\n",
      "[I 2023-12-21 02:37:42,156] Trial 64 finished with value: 0.6056338028169014 and parameters: {'classifier': 'RandomForest', 'rf_max_depth': 32}. Best is trial 0 with value: 0.6056338028169014.\n",
      "[I 2023-12-21 02:37:42,161] Trial 65 finished with value: 0.6056338028169014 and parameters: {'classifier': 'SVC', 'svc_c': 3.805511238899284e-08}. Best is trial 0 with value: 0.6056338028169014.\n",
      "[I 2023-12-21 02:37:42,167] Trial 66 finished with value: 0.6056338028169014 and parameters: {'classifier': 'RandomForest', 'rf_max_depth': 2}. Best is trial 0 with value: 0.6056338028169014.\n",
      "[I 2023-12-21 02:37:42,173] Trial 67 finished with value: 0.6056338028169014 and parameters: {'classifier': 'SVC', 'svc_c': 0.8563445901809349}. Best is trial 0 with value: 0.6056338028169014.\n",
      "[I 2023-12-21 02:37:42,178] Trial 68 finished with value: 0.6056338028169014 and parameters: {'classifier': 'RandomForest', 'rf_max_depth': 13}. Best is trial 0 with value: 0.6056338028169014.\n",
      "[I 2023-12-21 02:37:42,184] Trial 69 finished with value: 0.6056338028169014 and parameters: {'classifier': 'SVC', 'svc_c': 5237128190.981132}. Best is trial 0 with value: 0.6056338028169014.\n",
      "[I 2023-12-21 02:37:42,190] Trial 70 finished with value: 0.6056338028169014 and parameters: {'classifier': 'RandomForest', 'rf_max_depth': 18}. Best is trial 0 with value: 0.6056338028169014.\n",
      "[I 2023-12-21 02:37:42,196] Trial 71 finished with value: 0.6056338028169014 and parameters: {'classifier': 'RandomForest', 'rf_max_depth': 22}. Best is trial 0 with value: 0.6056338028169014.\n",
      "[I 2023-12-21 02:37:42,202] Trial 72 finished with value: 0.6056338028169014 and parameters: {'classifier': 'RandomForest', 'rf_max_depth': 16}. Best is trial 0 with value: 0.6056338028169014.\n",
      "[I 2023-12-21 02:37:42,207] Trial 73 finished with value: 0.6056338028169014 and parameters: {'classifier': 'RandomForest', 'rf_max_depth': 11}. Best is trial 0 with value: 0.6056338028169014.\n",
      "[I 2023-12-21 02:37:42,213] Trial 74 finished with value: 0.6056338028169014 and parameters: {'classifier': 'SVC', 'svc_c': 5.918491315513557e-06}. Best is trial 0 with value: 0.6056338028169014.\n",
      "[I 2023-12-21 02:37:42,219] Trial 75 finished with value: 0.6056338028169014 and parameters: {'classifier': 'RandomForest', 'rf_max_depth': 26}. Best is trial 0 with value: 0.6056338028169014.\n",
      "[I 2023-12-21 02:37:42,225] Trial 76 finished with value: 0.6056338028169014 and parameters: {'classifier': 'SVC', 'svc_c': 117808902.9763001}. Best is trial 0 with value: 0.6056338028169014.\n",
      "[I 2023-12-21 02:37:42,232] Trial 77 finished with value: 0.6056338028169014 and parameters: {'classifier': 'RandomForest', 'rf_max_depth': 8}. Best is trial 0 with value: 0.6056338028169014.\n",
      "[I 2023-12-21 02:37:42,238] Trial 78 finished with value: 0.6056338028169014 and parameters: {'classifier': 'SVC', 'svc_c': 44462.092057288624}. Best is trial 0 with value: 0.6056338028169014.\n",
      "[I 2023-12-21 02:37:42,244] Trial 79 finished with value: 0.6056338028169014 and parameters: {'classifier': 'RandomForest', 'rf_max_depth': 10}. Best is trial 0 with value: 0.6056338028169014.\n",
      "[I 2023-12-21 02:37:42,249] Trial 80 finished with value: 0.6056338028169014 and parameters: {'classifier': 'SVC', 'svc_c': 0.010282290543644745}. Best is trial 0 with value: 0.6056338028169014.\n",
      "[I 2023-12-21 02:37:42,255] Trial 81 finished with value: 0.6056338028169014 and parameters: {'classifier': 'SVC', 'svc_c': 1.905021553281324e-09}. Best is trial 0 with value: 0.6056338028169014.\n",
      "[I 2023-12-21 02:37:42,263] Trial 82 finished with value: 0.6056338028169014 and parameters: {'classifier': 'SVC', 'svc_c': 2.0356422462135785e-07}. Best is trial 0 with value: 0.6056338028169014.\n",
      "[I 2023-12-21 02:37:42,270] Trial 83 finished with value: 0.6056338028169014 and parameters: {'classifier': 'SVC', 'svc_c': 2.0027468488595736e-05}. Best is trial 0 with value: 0.6056338028169014.\n",
      "[I 2023-12-21 02:37:42,276] Trial 84 finished with value: 0.6056338028169014 and parameters: {'classifier': 'SVC', 'svc_c': 1.2433278954890235e-10}. Best is trial 0 with value: 0.6056338028169014.\n",
      "[I 2023-12-21 02:37:42,281] Trial 85 finished with value: 0.6056338028169014 and parameters: {'classifier': 'SVC', 'svc_c': 0.002314386483007169}. Best is trial 0 with value: 0.6056338028169014.\n",
      "[I 2023-12-21 02:37:42,286] Trial 86 finished with value: 0.6056338028169014 and parameters: {'classifier': 'RandomForest', 'rf_max_depth': 14}. Best is trial 0 with value: 0.6056338028169014.\n",
      "[I 2023-12-21 02:37:42,291] Trial 87 finished with value: 0.6056338028169014 and parameters: {'classifier': 'SVC', 'svc_c': 0.4502586859868355}. Best is trial 0 with value: 0.6056338028169014.\n",
      "[I 2023-12-21 02:37:42,297] Trial 88 finished with value: 0.6056338028169014 and parameters: {'classifier': 'RandomForest', 'rf_max_depth': 20}. Best is trial 0 with value: 0.6056338028169014.\n",
      "[I 2023-12-21 02:37:42,303] Trial 89 finished with value: 0.6056338028169014 and parameters: {'classifier': 'RandomForest', 'rf_max_depth': 5}. Best is trial 0 with value: 0.6056338028169014.\n",
      "[I 2023-12-21 02:37:42,309] Trial 90 finished with value: 0.6056338028169014 and parameters: {'classifier': 'SVC', 'svc_c': 2.0102616400747386e-06}. Best is trial 0 with value: 0.6056338028169014.\n",
      "[I 2023-12-21 02:37:42,315] Trial 91 finished with value: 0.6056338028169014 and parameters: {'classifier': 'SVC', 'svc_c': 65177181.50934078}. Best is trial 0 with value: 0.6056338028169014.\n",
      "[I 2023-12-21 02:37:42,321] Trial 92 finished with value: 0.6056338028169014 and parameters: {'classifier': 'SVC', 'svc_c': 428684112.9545504}. Best is trial 0 with value: 0.6056338028169014.\n",
      "[I 2023-12-21 02:37:42,327] Trial 93 finished with value: 0.6056338028169014 and parameters: {'classifier': 'SVC', 'svc_c': 219226.9453519954}. Best is trial 0 with value: 0.6056338028169014.\n",
      "[I 2023-12-21 02:37:42,332] Trial 94 finished with value: 0.6056338028169014 and parameters: {'classifier': 'SVC', 'svc_c': 7738869055.317552}. Best is trial 0 with value: 0.6056338028169014.\n",
      "[I 2023-12-21 02:37:42,338] Trial 95 finished with value: 0.6056338028169014 and parameters: {'classifier': 'RandomForest', 'rf_max_depth': 12}. Best is trial 0 with value: 0.6056338028169014.\n",
      "[I 2023-12-21 02:37:42,344] Trial 96 finished with value: 0.6056338028169014 and parameters: {'classifier': 'SVC', 'svc_c': 123.45599639770784}. Best is trial 0 with value: 0.6056338028169014.\n",
      "[I 2023-12-21 02:37:42,350] Trial 97 finished with value: 0.6056338028169014 and parameters: {'classifier': 'RandomForest', 'rf_max_depth': 7}. Best is trial 0 with value: 0.6056338028169014.\n",
      "[I 2023-12-21 02:37:42,356] Trial 98 finished with value: 0.6056338028169014 and parameters: {'classifier': 'SVC', 'svc_c': 18029967.740781806}. Best is trial 0 with value: 0.6056338028169014.\n",
      "[I 2023-12-21 02:37:42,361] Trial 99 finished with value: 0.6056338028169014 and parameters: {'classifier': 'RandomForest', 'rf_max_depth': 6}. Best is trial 0 with value: 0.6056338028169014.\n"
     ]
    }
   ],
   "source": [
    "from sklearn.ensemble import RandomForestClassifier\n",
    "def objective(trial):\n",
    "\n",
    "    # 2. Suggest values for the hyperparameters using a trial object.\n",
    "    classifier_name = trial.suggest_categorical('classifier', ['SVC', 'RandomForest'])\n",
    "    if classifier_name == 'SVC':\n",
    "         svc_c = trial.suggest_float('svc_c', 1e-10, 1e10, log=True)\n",
    "         classifier_obj = sklearn.svm.SVC(C=svc_c, gamma='auto')\n",
    "    else:\n",
    "        rf_max_depth = trial.suggest_int('rf_max_depth', 2, 32, log=True)\n",
    "        classifier_obj = RandomForestClassifier(max_depth=rf_max_depth, n_estimators=10)\n",
    "        \n",
    "    # Predict and calculate accuracy\n",
    "    y_pred = model.predict(X_test)\n",
    "    accuracy = accuracy_score(y_test, y_pred)\n",
    "\n",
    "    return accuracy\n",
    "\n",
    "# 3. Create a study object and optimize the objective function.\n",
    "study = optuna.create_study(direction='maximize')\n",
    "study.optimize(objective, n_trials=100)"
   ]
  },
  {
   "cell_type": "code",
   "execution_count": null,
   "id": "cedb7372-1d72-4e7a-9ad6-7f794b57b82d",
   "metadata": {},
   "outputs": [],
   "source": []
  }
 ],
 "metadata": {
  "kernelspec": {
   "display_name": "Python 3 (ipykernel)",
   "language": "python",
   "name": "python3"
  },
  "language_info": {
   "codemirror_mode": {
    "name": "ipython",
    "version": 3
   },
   "file_extension": ".py",
   "mimetype": "text/x-python",
   "name": "python",
   "nbconvert_exporter": "python",
   "pygments_lexer": "ipython3",
   "version": "3.11.0rc1"
  }
 },
 "nbformat": 4,
 "nbformat_minor": 5
}
