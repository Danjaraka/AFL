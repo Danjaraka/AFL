{
 "cells": [
  {
   "cell_type": "markdown",
   "id": "d2255c86-40a9-4c3c-afcb-3e225da5c671",
   "metadata": {},
   "source": [
    "# Libraries"
   ]
  },
  {
   "cell_type": "code",
   "execution_count": 6,
   "id": "38977081-534c-4eec-9cee-aabf85daf3f9",
   "metadata": {
    "tags": []
   },
   "outputs": [],
   "source": [
    "library(fitzRoy)\n",
    "library(dplyr)\n",
    "library(jsonlite)\n",
    "library(lubridate)"
   ]
  },
  {
   "cell_type": "markdown",
   "id": "1f89c4b1-6fa9-4392-8059-705ad45254c8",
   "metadata": {},
   "source": [
    "# Functions"
   ]
  },
  {
   "cell_type": "code",
   "execution_count": 7,
   "id": "ec381cdd-a368-4969-9882-3c4ca5daecd0",
   "metadata": {
    "tags": []
   },
   "outputs": [],
   "source": [
    "preprocess_fixture <- function(fixture) {\n",
    "    # create new column for each state. \n",
    "    fixture_clean <- fixture %>% mutate(region = case_when(\n",
    "        venue %in% c('Adelaide Hills', 'Adelaide Oval', 'Norwood Oval') ~ \"SA\",\n",
    "        venue %in% c('M.C.G.', 'Docklands', 'Eureka Stadium', 'Kardinia Park', 'Marvel Stadium', \n",
    "                     'GMHBA Stadium', 'Mars Stadium') ~ \"VIC\",\n",
    "        venue %in% c('Carrara', 'Gabba', \"Cazaly's Stadium\", \"Riverway Stadium\") ~ \"QLD\",\n",
    "        venue %in% c('S.C.G.', 'Sydney Showground', 'Stadium Australia') ~ \"NSW\",\n",
    "        venue %in% c('Marrara Oval', 'Traeger Park') ~ 'NT',\n",
    "        venue %in% c('Bellerive Oval', 'York Park', 'University of Tasmania Stadium') ~ \"TAS\",\n",
    "        venue %in% c('Manuka Oval', 'UNSW Canberra Oval') ~ 'ACT',\n",
    "        venue %in% c('Perth Stadium', 'Optus Stadium', 'Subiaco') ~ 'WA',\n",
    "        venue %in% c('Jiangwan Stadium', 'Adelaide Arena at Jiangwan Stadium') ~ 'CHN',\n",
    "        TRUE ~ NA_character_  # set NA for all other observations\n",
    "    ))\n",
    "    \n",
    "    fixture_clean$date <- as.Date(fixture_clean$localtime)\n",
    "    fixture_clean$time <- format(ymd_hms(fixture_clean$localtime), \"%H:%M:%S\")\n",
    "    \n",
    "    fixture_clean$home_win <- ifelse(fixture_clean$hscore > fixture_clean$ascore, 1, 0) \n",
    "    \n",
    "    # select specific rows\n",
    "    fixture_clean <- select(fixture_clean, year, round, date, time, region, venue, hteam, ateam, hscore, ascore, home_win)\n",
    "    \n",
    "    return(fixture_clean)\n",
    "}\n",
    "\n",
    "# function to check if a column contains NA values.\n",
    "check_na_column <- function(df, col_name) {\n",
    "    return(sum(is.na(df[[col_name]])))\n",
    "}"
   ]
  },
  {
   "cell_type": "markdown",
   "id": "f09dbc7b-75b5-44bd-a1af-8167a99175b6",
   "metadata": {},
   "source": [
    "# Data Cleaning"
   ]
  },
  {
   "cell_type": "markdown",
   "id": "0b35f982-6ad7-4175-b5bf-d6ca65513309",
   "metadata": {},
   "source": [
    "Start with the cruncher data as it provides a good baseline to work with. "
   ]
  },
  {
   "cell_type": "code",
   "execution_count": 4,
   "id": "10c6ea91-1a82-4e51-9b95-944f10da0a2a",
   "metadata": {
    "tags": []
   },
   "outputs": [
    {
     "ename": "ERROR",
     "evalue": "Error in fromJSON(\"https://thecruncherau.vercel.app/afl/data.json\"): could not find function \"fromJSON\"\n",
     "output_type": "error",
     "traceback": [
      "Error in fromJSON(\"https://thecruncherau.vercel.app/afl/data.json\"): could not find function \"fromJSON\"\nTraceback:\n"
     ]
    }
   ],
   "source": [
    "# cruncher gives some good clean baseline data to work with  \n",
    "cruncher <- fromJSON(\"https://thecruncherau.vercel.app/afl/data.json\")"
   ]
  },
  {
   "cell_type": "code",
   "execution_count": 44,
   "id": "5f76a3e3-82c4-467a-ad0a-b654dcaceae8",
   "metadata": {
    "tags": []
   },
   "outputs": [
    {
     "data": {
      "text/html": [
       "<table class=\"dataframe\">\n",
       "<caption>A data.frame: 6 × 11</caption>\n",
       "<thead>\n",
       "\t<tr><th></th><th scope=col>year</th><th scope=col>round</th><th scope=col>date</th><th scope=col>time</th><th scope=col>location</th><th scope=col>region</th><th scope=col>hteam</th><th scope=col>ateam</th><th scope=col>hscore</th><th scope=col>ascore</th><th scope=col>home_win</th></tr>\n",
       "\t<tr><th></th><th scope=col>&lt;int&gt;</th><th scope=col>&lt;chr&gt;</th><th scope=col>&lt;chr&gt;</th><th scope=col>&lt;chr&gt;</th><th scope=col>&lt;chr&gt;</th><th scope=col>&lt;chr&gt;</th><th scope=col>&lt;chr&gt;</th><th scope=col>&lt;chr&gt;</th><th scope=col>&lt;int&gt;</th><th scope=col>&lt;int&gt;</th><th scope=col>&lt;dbl&gt;</th></tr>\n",
       "</thead>\n",
       "<tbody>\n",
       "\t<tr><th scope=row>1</th><td>2017</td><td>1</td><td>23/03/2017</td><td>19:20:00</td><td>Melbourne </td><td>VIC</td><td>Carlton    </td><td>Richmond        </td><td> 89</td><td>132</td><td>0</td></tr>\n",
       "\t<tr><th scope=row>2</th><td>2017</td><td>1</td><td>24/03/2017</td><td>19:50:00</td><td>Melbourne </td><td>VIC</td><td>Collingwood</td><td>Western Bulldogs</td><td> 86</td><td>100</td><td>0</td></tr>\n",
       "\t<tr><th scope=row>3</th><td>2017</td><td>1</td><td>25/03/2017</td><td>16:35:00</td><td>Moore Park</td><td>NSW</td><td>Sydney     </td><td>Port Adelaide   </td><td> 82</td><td>110</td><td>0</td></tr>\n",
       "\t<tr><th scope=row>4</th><td>2017</td><td>1</td><td>25/03/2017</td><td>16:35:00</td><td>Docklands </td><td>VIC</td><td>St Kilda   </td><td>Melbourne       </td><td> 90</td><td>120</td><td>0</td></tr>\n",
       "\t<tr><th scope=row>5</th><td>2017</td><td>1</td><td>25/03/2017</td><td>19:25:00</td><td>Carrara   </td><td>QLD</td><td>Gold Coast </td><td>Brisbane Lions  </td><td> 96</td><td> 98</td><td>0</td></tr>\n",
       "\t<tr><th scope=row>6</th><td>2017</td><td>1</td><td>25/03/2017</td><td>19:25:00</td><td>Melbourne </td><td>VIC</td><td>Essendon   </td><td>Hawthorn        </td><td>116</td><td> 91</td><td>1</td></tr>\n",
       "</tbody>\n",
       "</table>\n"
      ],
      "text/latex": [
       "A data.frame: 6 × 11\n",
       "\\begin{tabular}{r|lllllllllll}\n",
       "  & year & round & date & time & location & region & hteam & ateam & hscore & ascore & home\\_win\\\\\n",
       "  & <int> & <chr> & <chr> & <chr> & <chr> & <chr> & <chr> & <chr> & <int> & <int> & <dbl>\\\\\n",
       "\\hline\n",
       "\t1 & 2017 & 1 & 23/03/2017 & 19:20:00 & Melbourne  & VIC & Carlton     & Richmond         &  89 & 132 & 0\\\\\n",
       "\t2 & 2017 & 1 & 24/03/2017 & 19:50:00 & Melbourne  & VIC & Collingwood & Western Bulldogs &  86 & 100 & 0\\\\\n",
       "\t3 & 2017 & 1 & 25/03/2017 & 16:35:00 & Moore Park & NSW & Sydney      & Port Adelaide    &  82 & 110 & 0\\\\\n",
       "\t4 & 2017 & 1 & 25/03/2017 & 16:35:00 & Docklands  & VIC & St Kilda    & Melbourne        &  90 & 120 & 0\\\\\n",
       "\t5 & 2017 & 1 & 25/03/2017 & 19:25:00 & Carrara    & QLD & Gold Coast  & Brisbane Lions   &  96 &  98 & 0\\\\\n",
       "\t6 & 2017 & 1 & 25/03/2017 & 19:25:00 & Melbourne  & VIC & Essendon    & Hawthorn         & 116 &  91 & 1\\\\\n",
       "\\end{tabular}\n"
      ],
      "text/markdown": [
       "\n",
       "A data.frame: 6 × 11\n",
       "\n",
       "| <!--/--> | year &lt;int&gt; | round &lt;chr&gt; | date &lt;chr&gt; | time &lt;chr&gt; | location &lt;chr&gt; | region &lt;chr&gt; | hteam &lt;chr&gt; | ateam &lt;chr&gt; | hscore &lt;int&gt; | ascore &lt;int&gt; | home_win &lt;dbl&gt; |\n",
       "|---|---|---|---|---|---|---|---|---|---|---|---|\n",
       "| 1 | 2017 | 1 | 23/03/2017 | 19:20:00 | Melbourne  | VIC | Carlton     | Richmond         |  89 | 132 | 0 |\n",
       "| 2 | 2017 | 1 | 24/03/2017 | 19:50:00 | Melbourne  | VIC | Collingwood | Western Bulldogs |  86 | 100 | 0 |\n",
       "| 3 | 2017 | 1 | 25/03/2017 | 16:35:00 | Moore Park | NSW | Sydney      | Port Adelaide    |  82 | 110 | 0 |\n",
       "| 4 | 2017 | 1 | 25/03/2017 | 16:35:00 | Docklands  | VIC | St Kilda    | Melbourne        |  90 | 120 | 0 |\n",
       "| 5 | 2017 | 1 | 25/03/2017 | 19:25:00 | Carrara    | QLD | Gold Coast  | Brisbane Lions   |  96 |  98 | 0 |\n",
       "| 6 | 2017 | 1 | 25/03/2017 | 19:25:00 | Melbourne  | VIC | Essendon    | Hawthorn         | 116 |  91 | 1 |\n",
       "\n"
      ],
      "text/plain": [
       "  year round date       time     location   region hteam       ateam           \n",
       "1 2017 1     23/03/2017 19:20:00 Melbourne  VIC    Carlton     Richmond        \n",
       "2 2017 1     24/03/2017 19:50:00 Melbourne  VIC    Collingwood Western Bulldogs\n",
       "3 2017 1     25/03/2017 16:35:00 Moore Park NSW    Sydney      Port Adelaide   \n",
       "4 2017 1     25/03/2017 16:35:00 Docklands  VIC    St Kilda    Melbourne       \n",
       "5 2017 1     25/03/2017 19:25:00 Carrara    QLD    Gold Coast  Brisbane Lions  \n",
       "6 2017 1     25/03/2017 19:25:00 Melbourne  VIC    Essendon    Hawthorn        \n",
       "  hscore ascore home_win\n",
       "1  89    132    0       \n",
       "2  86    100    0       \n",
       "3  82    110    0       \n",
       "4  90    120    0       \n",
       "5  96     98    0       \n",
       "6 116     91    1       "
      ]
     },
     "metadata": {},
     "output_type": "display_data"
    }
   ],
   "source": [
    "cruncher$home_win <- ifelse(cruncher$hscore > cruncher$ascore, 1, 0) \n",
    "head(cruncher_clean)"
   ]
  },
  {
   "cell_type": "markdown",
   "id": "f6aa8795-9521-4558-a270-ffc3cd86f2a8",
   "metadata": {},
   "source": [
    "Create a new column to represent a home win."
   ]
  },
  {
   "cell_type": "code",
   "execution_count": 8,
   "id": "fe7a1d8d-4b8d-4041-b7fb-388f5f2e74d9",
   "metadata": {
    "collapsed": true,
    "jupyter": {
     "outputs_hidden": true
    },
    "tags": []
   },
   "outputs": [
    {
     "name": "stderr",
     "output_type": "stream",
     "text": [
      "\u001b[36mℹ\u001b[39m No round specified - returning results for all rounds in \u001b[34m\u001b[34m2017\u001b[34m\u001b[39m\n",
      "\n",
      "\u001b[36mℹ\u001b[39m Getting data from \u001b[32mhttps://api.squiggle.com.au/?q=games;year=2017\u001b[39m\n",
      "\n",
      "\u001b[32m✔\u001b[39m Getting data from \u001b[32mhttps://api.squiggle.com.au/?q=games;year=2017\u001b[39m ... done\n",
      "\n",
      "\n",
      "\n",
      "\u001b[36mℹ\u001b[39m No round specified - returning results for all rounds in \u001b[34m\u001b[34m2018\u001b[34m\u001b[39m\n",
      "\n",
      "\u001b[36mℹ\u001b[39m Getting data from \u001b[32mhttps://api.squiggle.com.au/?q=games;year=2018\u001b[39m\n",
      "\n",
      "\u001b[32m✔\u001b[39m Getting data from \u001b[32mhttps://api.squiggle.com.au/?q=games;year=2018\u001b[39m ... done\n",
      "\n",
      "\n",
      "\n",
      "\u001b[36mℹ\u001b[39m No round specified - returning results for all rounds in \u001b[34m\u001b[34m2019\u001b[34m\u001b[39m\n",
      "\n",
      "\u001b[36mℹ\u001b[39m Getting data from \u001b[32mhttps://api.squiggle.com.au/?q=games;year=2019\u001b[39m\n",
      "\n",
      "\u001b[32m✔\u001b[39m Getting data from \u001b[32mhttps://api.squiggle.com.au/?q=games;year=2019\u001b[39m ... done\n",
      "\n",
      "\n",
      "\n",
      "\u001b[36mℹ\u001b[39m No round specified - returning results for all rounds in \u001b[34m\u001b[34m2020\u001b[34m\u001b[39m\n",
      "\n",
      "\u001b[36mℹ\u001b[39m Getting data from \u001b[32mhttps://api.squiggle.com.au/?q=games;year=2020\u001b[39m\n",
      "\n",
      "\u001b[32m✔\u001b[39m Getting data from \u001b[32mhttps://api.squiggle.com.au/?q=games;year=2020\u001b[39m ... done\n",
      "\n",
      "\n",
      "\n",
      "\u001b[36mℹ\u001b[39m No round specified - returning results for all rounds in \u001b[34m\u001b[34m2021\u001b[34m\u001b[39m\n",
      "\n",
      "\u001b[36mℹ\u001b[39m Getting data from \u001b[32mhttps://api.squiggle.com.au/?q=games;year=2021\u001b[39m\n",
      "\n",
      "\u001b[32m✔\u001b[39m Getting data from \u001b[32mhttps://api.squiggle.com.au/?q=games;year=2021\u001b[39m ... done\n",
      "\n",
      "\n",
      "\n",
      "\u001b[36mℹ\u001b[39m No round specified - returning results for all rounds in \u001b[34m\u001b[34m2022\u001b[34m\u001b[39m\n",
      "\n",
      "\u001b[36mℹ\u001b[39m Getting data from \u001b[32mhttps://api.squiggle.com.au/?q=games;year=2022\u001b[39m\n",
      "\n",
      "\u001b[32m✔\u001b[39m Getting data from \u001b[32mhttps://api.squiggle.com.au/?q=games;year=2022\u001b[39m ... done\n",
      "\n",
      "\n",
      "\n",
      "\u001b[36mℹ\u001b[39m No round specified - returning results for all rounds in \u001b[34m\u001b[34m2023\u001b[34m\u001b[39m\n",
      "\n",
      "\u001b[36mℹ\u001b[39m Getting data from \u001b[32mhttps://api.squiggle.com.au/?q=games;year=2023\u001b[39m\n",
      "\n",
      "\u001b[32m✔\u001b[39m Getting data from \u001b[32mhttps://api.squiggle.com.au/?q=games;year=2023\u001b[39m ... done\n",
      "\n",
      "\n",
      "\n"
     ]
    }
   ],
   "source": [
    "fixture_17 <- fetch_fixture_squiggle(2017)\n",
    "fixture_18 <- fetch_fixture_squiggle(2018)\n",
    "fixture_19 <- fetch_fixture_squiggle(2019)\n",
    "fixture_20 <- fetch_fixture_squiggle(2020)\n",
    "fixture_21 <- fetch_fixture_squiggle(2021)\n",
    "fixture_22 <- fetch_fixture_squiggle(2022)\n",
    "fixture_23 <- fetch_fixture_squiggle(2023)"
   ]
  },
  {
   "cell_type": "markdown",
   "id": "242fd4a0-7f68-43c2-ba06-6889de790a80",
   "metadata": {},
   "source": [
    "Combine all the rows of each of the dataframes to get data for years 2017 to 2023."
   ]
  },
  {
   "cell_type": "code",
   "execution_count": 9,
   "id": "b11e8255-8abb-481d-a1dd-f1f3ef1fa9a6",
   "metadata": {
    "tags": []
   },
   "outputs": [],
   "source": [
    "fixture = rbind(fixture_17, fixture_18, fixture_19, fixture_20, fixture_21, fixture_22, fixture_23)"
   ]
  },
  {
   "cell_type": "markdown",
   "id": "d2fcace3-ceee-4857-b96d-4dc7dca059f9",
   "metadata": {},
   "source": [
    "Local time used instead of date as it has the time based on the location of the game. Will split local time into two variables, date and time. Will using venue will create a column for State/region. "
   ]
  },
  {
   "cell_type": "code",
   "execution_count": 10,
   "id": "697b7173-6aed-4eab-b5b6-e0f2cbd341bf",
   "metadata": {
    "tags": []
   },
   "outputs": [],
   "source": [
    "fixture = preprocess_fixture(fixture)"
   ]
  },
  {
   "cell_type": "code",
   "execution_count": 11,
   "id": "c2f30d8b-fda9-4949-a682-cfedb649d9c7",
   "metadata": {
    "tags": []
   },
   "outputs": [
    {
     "data": {
      "text/html": [
       "<style>\n",
       ".dl-inline {width: auto; margin:0; padding: 0}\n",
       ".dl-inline>dt, .dl-inline>dd {float: none; width: auto; display: inline-block}\n",
       ".dl-inline>dt::after {content: \":\\0020\"; padding-right: .5ex}\n",
       ".dl-inline>dt:not(:first-of-type) {padding-left: .5ex}\n",
       "</style><dl class=dl-inline><dt>Adelaide Arena at Jiangwan Stadium</dt><dd>2</dd><dt>Adelaide Hills</dt><dd>1</dd><dt>Adelaide Oval</dt><dd>165</dd><dt>Bellerive Oval</dt><dd>24</dd><dt>Carrara</dt><dd>102</dd><dt>Cazaly's Stadium</dt><dd>8</dd><dt>Docklands</dt><dd>233</dd><dt>Eureka Stadium</dt><dd>9</dd><dt>Gabba</dt><dd>107</dd><dt>GMHBA Stadium</dt><dd>16</dd><dt>Jiangwan Stadium</dt><dd>1</dd><dt>Kardinia Park</dt><dd>41</dd><dt>M.C.G.</dt><dd>307</dd><dt>Manuka Oval</dt><dd>12</dd><dt>Marrara Oval</dt><dd>9</dd><dt>Mars Stadium</dt><dd>3</dd><dt>Marvel Stadium</dt><dd>43</dd><dt>Norwood Oval</dt><dd>2</dd><dt>Optus Stadium</dt><dd>23</dd><dt>Perth Stadium</dt><dd>112</dd><dt>Riverway Stadium</dt><dd>1</dd><dt>S.C.G.</dt><dd>74</dd><dt>Stadium Australia</dt><dd>1</dd><dt>Subiaco</dt><dd>22</dd><dt>Sydney Showground</dt><dd>55</dd><dt>Traeger Park</dt><dd>6</dd><dt>University of Tasmania Stadium</dt><dd>8</dd><dt>UNSW Canberra Oval</dt><dd>6</dd><dt>York Park</dt><dd>20</dd></dl>\n"
      ],
      "text/latex": [
       "\\begin{description*}\n",
       "\\item[Adelaide Arena at Jiangwan Stadium] 2\n",
       "\\item[Adelaide Hills] 1\n",
       "\\item[Adelaide Oval] 165\n",
       "\\item[Bellerive Oval] 24\n",
       "\\item[Carrara] 102\n",
       "\\item[Cazaly's Stadium] 8\n",
       "\\item[Docklands] 233\n",
       "\\item[Eureka Stadium] 9\n",
       "\\item[Gabba] 107\n",
       "\\item[GMHBA Stadium] 16\n",
       "\\item[Jiangwan Stadium] 1\n",
       "\\item[Kardinia Park] 41\n",
       "\\item[M.C.G.] 307\n",
       "\\item[Manuka Oval] 12\n",
       "\\item[Marrara Oval] 9\n",
       "\\item[Mars Stadium] 3\n",
       "\\item[Marvel Stadium] 43\n",
       "\\item[Norwood Oval] 2\n",
       "\\item[Optus Stadium] 23\n",
       "\\item[Perth Stadium] 112\n",
       "\\item[Riverway Stadium] 1\n",
       "\\item[S.C.G.] 74\n",
       "\\item[Stadium Australia] 1\n",
       "\\item[Subiaco] 22\n",
       "\\item[Sydney Showground] 55\n",
       "\\item[Traeger Park] 6\n",
       "\\item[University of Tasmania Stadium] 8\n",
       "\\item[UNSW Canberra Oval] 6\n",
       "\\item[York Park] 20\n",
       "\\end{description*}\n"
      ],
      "text/markdown": [
       "Adelaide Arena at Jiangwan Stadium\n",
       ":   2Adelaide Hills\n",
       ":   1Adelaide Oval\n",
       ":   165Bellerive Oval\n",
       ":   24Carrara\n",
       ":   102Cazaly's Stadium\n",
       ":   8Docklands\n",
       ":   233Eureka Stadium\n",
       ":   9Gabba\n",
       ":   107GMHBA Stadium\n",
       ":   16Jiangwan Stadium\n",
       ":   1Kardinia Park\n",
       ":   41M.C.G.\n",
       ":   307Manuka Oval\n",
       ":   12Marrara Oval\n",
       ":   9Mars Stadium\n",
       ":   3Marvel Stadium\n",
       ":   43Norwood Oval\n",
       ":   2Optus Stadium\n",
       ":   23Perth Stadium\n",
       ":   112Riverway Stadium\n",
       ":   1S.C.G.\n",
       ":   74Stadium Australia\n",
       ":   1Subiaco\n",
       ":   22Sydney Showground\n",
       ":   55Traeger Park\n",
       ":   6University of Tasmania Stadium\n",
       ":   8UNSW Canberra Oval\n",
       ":   6York Park\n",
       ":   20\n",
       "\n"
      ],
      "text/plain": [
       "Adelaide Arena at Jiangwan Stadium                     Adelaide Hills \n",
       "                                 2                                  1 \n",
       "                     Adelaide Oval                     Bellerive Oval \n",
       "                               165                                 24 \n",
       "                           Carrara                   Cazaly's Stadium \n",
       "                               102                                  8 \n",
       "                         Docklands                     Eureka Stadium \n",
       "                               233                                  9 \n",
       "                             Gabba                      GMHBA Stadium \n",
       "                               107                                 16 \n",
       "                  Jiangwan Stadium                      Kardinia Park \n",
       "                                 1                                 41 \n",
       "                            M.C.G.                        Manuka Oval \n",
       "                               307                                 12 \n",
       "                      Marrara Oval                       Mars Stadium \n",
       "                                 9                                  3 \n",
       "                    Marvel Stadium                       Norwood Oval \n",
       "                                43                                  2 \n",
       "                     Optus Stadium                      Perth Stadium \n",
       "                                23                                112 \n",
       "                  Riverway Stadium                             S.C.G. \n",
       "                                 1                                 74 \n",
       "                 Stadium Australia                            Subiaco \n",
       "                                 1                                 22 \n",
       "                 Sydney Showground                       Traeger Park \n",
       "                                55                                  6 \n",
       "    University of Tasmania Stadium                 UNSW Canberra Oval \n",
       "                                 8                                  6 \n",
       "                         York Park \n",
       "                                20 "
      ]
     },
     "metadata": {},
     "output_type": "display_data"
    },
    {
     "data": {
      "text/html": [
       "0"
      ],
      "text/latex": [
       "0"
      ],
      "text/markdown": [
       "0"
      ],
      "text/plain": [
       "[1] 0"
      ]
     },
     "metadata": {},
     "output_type": "display_data"
    }
   ],
   "source": [
    "fixture$venue <- as.factor(fixture$venue)  # convert to factor datatype\n",
    "summary(fixture$venue)\n",
    "\n",
    "# check if region has NA values, to see if new/old stadiums in use\n",
    "check_na_column(fixture, 'region')"
   ]
  },
  {
   "cell_type": "code",
   "execution_count": 14,
   "id": "cfceaf0e-4a2b-4a13-b9f7-8f462f292faf",
   "metadata": {
    "tags": []
   },
   "outputs": [],
   "source": [
    "fixture$home_win <- ifelse(fixture$hscore > fixture$ascore, 1, 0) \n",
    "\n",
    "fixture$hdiff <- fixture$hscore - fixture$ascore"
   ]
  },
  {
   "cell_type": "code",
   "execution_count": 15,
   "id": "f275f922-fbe4-44cd-aed6-2cfe4b1334a9",
   "metadata": {
    "tags": []
   },
   "outputs": [
    {
     "data": {
      "text/html": [
       "<table class=\"dataframe\">\n",
       "<caption>A tibble: 6 × 12</caption>\n",
       "<thead>\n",
       "\t<tr><th scope=col>year</th><th scope=col>round</th><th scope=col>date</th><th scope=col>time</th><th scope=col>region</th><th scope=col>venue</th><th scope=col>hteam</th><th scope=col>ateam</th><th scope=col>hscore</th><th scope=col>ascore</th><th scope=col>home_win</th><th scope=col>hdiff</th></tr>\n",
       "\t<tr><th scope=col>&lt;int&gt;</th><th scope=col>&lt;int&gt;</th><th scope=col>&lt;date&gt;</th><th scope=col>&lt;chr&gt;</th><th scope=col>&lt;chr&gt;</th><th scope=col>&lt;fct&gt;</th><th scope=col>&lt;chr&gt;</th><th scope=col>&lt;chr&gt;</th><th scope=col>&lt;int&gt;</th><th scope=col>&lt;int&gt;</th><th scope=col>&lt;dbl&gt;</th><th scope=col>&lt;int&gt;</th></tr>\n",
       "</thead>\n",
       "<tbody>\n",
       "\t<tr><td>2017</td><td>1</td><td>2017-03-26</td><td>14:50:00</td><td>SA </td><td>Adelaide Oval</td><td>Adelaide   </td><td>Greater Western Sydney</td><td>147</td><td> 91</td><td>1</td><td> 56</td></tr>\n",
       "\t<tr><td>2017</td><td>1</td><td>2017-03-23</td><td>19:20:00</td><td>VIC</td><td>M.C.G.       </td><td>Carlton    </td><td>Richmond              </td><td> 89</td><td>132</td><td>0</td><td>-43</td></tr>\n",
       "\t<tr><td>2017</td><td>1</td><td>2017-03-24</td><td>19:50:00</td><td>VIC</td><td>M.C.G.       </td><td>Collingwood</td><td>Western Bulldogs      </td><td> 86</td><td>100</td><td>0</td><td>-14</td></tr>\n",
       "\t<tr><td>2017</td><td>1</td><td>2017-03-25</td><td>19:25:00</td><td>VIC</td><td>M.C.G.       </td><td>Essendon   </td><td>Hawthorn              </td><td>116</td><td> 91</td><td>1</td><td> 25</td></tr>\n",
       "\t<tr><td>2017</td><td>1</td><td>2017-03-26</td><td>16:40:00</td><td>WA </td><td>Subiaco      </td><td>Fremantle  </td><td>Geelong               </td><td> 73</td><td>115</td><td>0</td><td>-42</td></tr>\n",
       "\t<tr><td>2017</td><td>1</td><td>2017-03-25</td><td>19:05:00</td><td>QLD</td><td>Carrara      </td><td>Gold Coast </td><td>Brisbane Lions        </td><td> 96</td><td> 98</td><td>0</td><td> -2</td></tr>\n",
       "</tbody>\n",
       "</table>\n"
      ],
      "text/latex": [
       "A tibble: 6 × 12\n",
       "\\begin{tabular}{llllllllllll}\n",
       " year & round & date & time & region & venue & hteam & ateam & hscore & ascore & home\\_win & hdiff\\\\\n",
       " <int> & <int> & <date> & <chr> & <chr> & <fct> & <chr> & <chr> & <int> & <int> & <dbl> & <int>\\\\\n",
       "\\hline\n",
       "\t 2017 & 1 & 2017-03-26 & 14:50:00 & SA  & Adelaide Oval & Adelaide    & Greater Western Sydney & 147 &  91 & 1 &  56\\\\\n",
       "\t 2017 & 1 & 2017-03-23 & 19:20:00 & VIC & M.C.G.        & Carlton     & Richmond               &  89 & 132 & 0 & -43\\\\\n",
       "\t 2017 & 1 & 2017-03-24 & 19:50:00 & VIC & M.C.G.        & Collingwood & Western Bulldogs       &  86 & 100 & 0 & -14\\\\\n",
       "\t 2017 & 1 & 2017-03-25 & 19:25:00 & VIC & M.C.G.        & Essendon    & Hawthorn               & 116 &  91 & 1 &  25\\\\\n",
       "\t 2017 & 1 & 2017-03-26 & 16:40:00 & WA  & Subiaco       & Fremantle   & Geelong                &  73 & 115 & 0 & -42\\\\\n",
       "\t 2017 & 1 & 2017-03-25 & 19:05:00 & QLD & Carrara       & Gold Coast  & Brisbane Lions         &  96 &  98 & 0 &  -2\\\\\n",
       "\\end{tabular}\n"
      ],
      "text/markdown": [
       "\n",
       "A tibble: 6 × 12\n",
       "\n",
       "| year &lt;int&gt; | round &lt;int&gt; | date &lt;date&gt; | time &lt;chr&gt; | region &lt;chr&gt; | venue &lt;fct&gt; | hteam &lt;chr&gt; | ateam &lt;chr&gt; | hscore &lt;int&gt; | ascore &lt;int&gt; | home_win &lt;dbl&gt; | hdiff &lt;int&gt; |\n",
       "|---|---|---|---|---|---|---|---|---|---|---|---|\n",
       "| 2017 | 1 | 2017-03-26 | 14:50:00 | SA  | Adelaide Oval | Adelaide    | Greater Western Sydney | 147 |  91 | 1 |  56 |\n",
       "| 2017 | 1 | 2017-03-23 | 19:20:00 | VIC | M.C.G.        | Carlton     | Richmond               |  89 | 132 | 0 | -43 |\n",
       "| 2017 | 1 | 2017-03-24 | 19:50:00 | VIC | M.C.G.        | Collingwood | Western Bulldogs       |  86 | 100 | 0 | -14 |\n",
       "| 2017 | 1 | 2017-03-25 | 19:25:00 | VIC | M.C.G.        | Essendon    | Hawthorn               | 116 |  91 | 1 |  25 |\n",
       "| 2017 | 1 | 2017-03-26 | 16:40:00 | WA  | Subiaco       | Fremantle   | Geelong                |  73 | 115 | 0 | -42 |\n",
       "| 2017 | 1 | 2017-03-25 | 19:05:00 | QLD | Carrara       | Gold Coast  | Brisbane Lions         |  96 |  98 | 0 |  -2 |\n",
       "\n"
      ],
      "text/plain": [
       "  year round date       time     region venue         hteam      \n",
       "1 2017 1     2017-03-26 14:50:00 SA     Adelaide Oval Adelaide   \n",
       "2 2017 1     2017-03-23 19:20:00 VIC    M.C.G.        Carlton    \n",
       "3 2017 1     2017-03-24 19:50:00 VIC    M.C.G.        Collingwood\n",
       "4 2017 1     2017-03-25 19:25:00 VIC    M.C.G.        Essendon   \n",
       "5 2017 1     2017-03-26 16:40:00 WA     Subiaco       Fremantle  \n",
       "6 2017 1     2017-03-25 19:05:00 QLD    Carrara       Gold Coast \n",
       "  ateam                  hscore ascore home_win hdiff\n",
       "1 Greater Western Sydney 147     91    1         56  \n",
       "2 Richmond                89    132    0        -43  \n",
       "3 Western Bulldogs        86    100    0        -14  \n",
       "4 Hawthorn               116     91    1         25  \n",
       "5 Geelong                 73    115    0        -42  \n",
       "6 Brisbane Lions          96     98    0         -2  "
      ]
     },
     "metadata": {},
     "output_type": "display_data"
    }
   ],
   "source": [
    "head(fixture)"
   ]
  },
  {
   "cell_type": "markdown",
   "id": "0d523808-089c-48f8-a905-51ca6846b245",
   "metadata": {},
   "source": [
    "Write to a csv for further python analysis"
   ]
  },
  {
   "cell_type": "code",
   "execution_count": 243,
   "id": "2ed91bb9-810d-4d09-a8d7-56d80ab8c3f3",
   "metadata": {
    "tags": []
   },
   "outputs": [],
   "source": [
    "write.csv(fixture, file='fixture.csv', row.names=FALSE)"
   ]
  },
  {
   "cell_type": "code",
   "execution_count": null,
   "id": "86fd4ec3-abd3-407b-bd89-c8f6e02f33b6",
   "metadata": {},
   "outputs": [],
   "source": []
  }
 ],
 "metadata": {
  "kernelspec": {
   "display_name": "R",
   "language": "R",
   "name": "ir"
  },
  "language_info": {
   "codemirror_mode": "r",
   "file_extension": ".r",
   "mimetype": "text/x-r-source",
   "name": "R",
   "pygments_lexer": "r",
   "version": "4.1.2"
  }
 },
 "nbformat": 4,
 "nbformat_minor": 5
}
