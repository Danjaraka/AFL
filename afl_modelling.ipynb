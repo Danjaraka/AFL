{
 "cells": [
  {
   "cell_type": "markdown",
   "id": "2421715a-990e-43ef-9669-39552f944ad0",
   "metadata": {},
   "source": [
    "# Libraries"
   ]
  },
  {
   "cell_type": "code",
   "execution_count": 1,
   "id": "46b83c50-25bb-4c68-b93a-65931ece5b82",
   "metadata": {
    "tags": []
   },
   "outputs": [],
   "source": [
    "import pandas as pd\n",
    "import numpy as np\n",
    "import optuna\n",
    "import plotly\n",
    "from optuna.visualization import plot_contour, plot_edf, plot_intermediate_values, plot_optimization_history, plot_parallel_coordinate\n",
    "from optuna.visualization import plot_param_importances, plot_rank, plot_slice, plot_timeline\n",
    "from sklearn.linear_model import LogisticRegression\n",
    "from sklearn.model_selection import train_test_split\n",
    "from sklearn.metrics import classification_report, confusion_matrix\n",
    "from sklearn.metrics import accuracy_score\n",
    "from sklearn.preprocessing import OrdinalEncoder\n",
    "from sklearn.linear_model import LinearRegression\n",
    "from sklearn.metrics import mean_squared_error, mean_absolute_error, r2_score\n",
    "from sklearn.neighbors import KNeighborsRegressor\n",
    "from sklearn.preprocessing import StandardScaler\n",
    "from sklearn.metrics import balanced_accuracy_score\n",
    "from math import sqrt\n",
    "\n",
    "pd.set_option('display.max_columns', None)"
   ]
  },
  {
   "cell_type": "markdown",
   "id": "7a7690e5-4915-4035-9fed-c3b55197a169",
   "metadata": {},
   "source": [
    "# Functions"
   ]
  },
  {
   "cell_type": "code",
   "execution_count": 2,
   "id": "bf581a41-14b3-427d-ad32-8b3c719a106a",
   "metadata": {
    "tags": []
   },
   "outputs": [],
   "source": [
    "def na_columns(df):\n",
    "    na_count_per_column = df.isna().sum()\n",
    "    return na_count_per_column"
   ]
  },
  {
   "cell_type": "markdown",
   "id": "bf797b8a-f9b6-4562-89ab-60592d14b130",
   "metadata": {},
   "source": [
    "# Data loading"
   ]
  },
  {
   "cell_type": "code",
   "execution_count": 3,
   "id": "8ad2ea3f-897a-406b-9160-648aed31df4c",
   "metadata": {
    "tags": []
   },
   "outputs": [
    {
     "data": {
      "text/html": [
       "<div>\n",
       "<style scoped>\n",
       "    .dataframe tbody tr th:only-of-type {\n",
       "        vertical-align: middle;\n",
       "    }\n",
       "\n",
       "    .dataframe tbody tr th {\n",
       "        vertical-align: top;\n",
       "    }\n",
       "\n",
       "    .dataframe thead th {\n",
       "        text-align: right;\n",
       "    }\n",
       "</style>\n",
       "<table border=\"1\" class=\"dataframe\">\n",
       "  <thead>\n",
       "    <tr style=\"text-align: right;\">\n",
       "      <th></th>\n",
       "      <th>year</th>\n",
       "      <th>round</th>\n",
       "      <th>date</th>\n",
       "      <th>time</th>\n",
       "      <th>region</th>\n",
       "      <th>venue</th>\n",
       "      <th>hteam</th>\n",
       "      <th>ateam</th>\n",
       "      <th>hscore</th>\n",
       "      <th>ascore</th>\n",
       "      <th>is_grand_final</th>\n",
       "      <th>is_final</th>\n",
       "      <th>home_win</th>\n",
       "      <th>hdiff</th>\n",
       "    </tr>\n",
       "  </thead>\n",
       "  <tbody>\n",
       "    <tr>\n",
       "      <th>0</th>\n",
       "      <td>2012</td>\n",
       "      <td>1</td>\n",
       "      <td>2012-03-31</td>\n",
       "      <td>16:45:00</td>\n",
       "      <td>WA</td>\n",
       "      <td>Subiaco</td>\n",
       "      <td>Fremantle</td>\n",
       "      <td>Geelong</td>\n",
       "      <td>105</td>\n",
       "      <td>101</td>\n",
       "      <td>0</td>\n",
       "      <td>0</td>\n",
       "      <td>1</td>\n",
       "      <td>4</td>\n",
       "    </tr>\n",
       "    <tr>\n",
       "      <th>1</th>\n",
       "      <td>2012</td>\n",
       "      <td>1</td>\n",
       "      <td>2012-03-31</td>\n",
       "      <td>15:45:00</td>\n",
       "      <td>QLD</td>\n",
       "      <td>Carrara</td>\n",
       "      <td>Gold Coast</td>\n",
       "      <td>Adelaide</td>\n",
       "      <td>68</td>\n",
       "      <td>137</td>\n",
       "      <td>0</td>\n",
       "      <td>0</td>\n",
       "      <td>0</td>\n",
       "      <td>-69</td>\n",
       "    </tr>\n",
       "    <tr>\n",
       "      <th>2</th>\n",
       "      <td>2012</td>\n",
       "      <td>1</td>\n",
       "      <td>2012-03-24</td>\n",
       "      <td>19:20:00</td>\n",
       "      <td>NSW</td>\n",
       "      <td>Stadium Australia</td>\n",
       "      <td>Greater Western Sydney</td>\n",
       "      <td>Sydney</td>\n",
       "      <td>37</td>\n",
       "      <td>100</td>\n",
       "      <td>0</td>\n",
       "      <td>0</td>\n",
       "      <td>0</td>\n",
       "      <td>-63</td>\n",
       "    </tr>\n",
       "    <tr>\n",
       "      <th>3</th>\n",
       "      <td>2012</td>\n",
       "      <td>1</td>\n",
       "      <td>2012-03-30</td>\n",
       "      <td>19:50:00</td>\n",
       "      <td>VIC</td>\n",
       "      <td>M.C.G.</td>\n",
       "      <td>Hawthorn</td>\n",
       "      <td>Collingwood</td>\n",
       "      <td>137</td>\n",
       "      <td>115</td>\n",
       "      <td>0</td>\n",
       "      <td>0</td>\n",
       "      <td>1</td>\n",
       "      <td>22</td>\n",
       "    </tr>\n",
       "    <tr>\n",
       "      <th>4</th>\n",
       "      <td>2012</td>\n",
       "      <td>1</td>\n",
       "      <td>2012-03-31</td>\n",
       "      <td>13:45:00</td>\n",
       "      <td>VIC</td>\n",
       "      <td>M.C.G.</td>\n",
       "      <td>Melbourne</td>\n",
       "      <td>Brisbane Lions</td>\n",
       "      <td>78</td>\n",
       "      <td>119</td>\n",
       "      <td>0</td>\n",
       "      <td>0</td>\n",
       "      <td>0</td>\n",
       "      <td>-41</td>\n",
       "    </tr>\n",
       "  </tbody>\n",
       "</table>\n",
       "</div>"
      ],
      "text/plain": [
       "   year  round        date      time region              venue  \\\n",
       "0  2012      1  2012-03-31  16:45:00     WA            Subiaco   \n",
       "1  2012      1  2012-03-31  15:45:00    QLD            Carrara   \n",
       "2  2012      1  2012-03-24  19:20:00    NSW  Stadium Australia   \n",
       "3  2012      1  2012-03-30  19:50:00    VIC             M.C.G.   \n",
       "4  2012      1  2012-03-31  13:45:00    VIC             M.C.G.   \n",
       "\n",
       "                    hteam           ateam  hscore  ascore  is_grand_final  \\\n",
       "0               Fremantle         Geelong     105     101               0   \n",
       "1              Gold Coast        Adelaide      68     137               0   \n",
       "2  Greater Western Sydney          Sydney      37     100               0   \n",
       "3                Hawthorn     Collingwood     137     115               0   \n",
       "4               Melbourne  Brisbane Lions      78     119               0   \n",
       "\n",
       "   is_final  home_win  hdiff  \n",
       "0         0         1      4  \n",
       "1         0         0    -69  \n",
       "2         0         0    -63  \n",
       "3         0         1     22  \n",
       "4         0         0    -41  "
      ]
     },
     "execution_count": 3,
     "metadata": {},
     "output_type": "execute_result"
    }
   ],
   "source": [
    "fixture = pd.read_csv('fixture.csv')\n",
    "fixture.head()"
   ]
  },
  {
   "cell_type": "code",
   "execution_count": 4,
   "id": "cb895dae-d841-46c4-855b-63c61005f0c6",
   "metadata": {
    "tags": []
   },
   "outputs": [
    {
     "data": {
      "text/plain": [
       "year              0\n",
       "round             0\n",
       "date              0\n",
       "time              0\n",
       "region            0\n",
       "venue             0\n",
       "hteam             0\n",
       "ateam             0\n",
       "hscore            0\n",
       "ascore            0\n",
       "is_grand_final    0\n",
       "is_final          0\n",
       "home_win          0\n",
       "hdiff             0\n",
       "dtype: int64"
      ]
     },
     "execution_count": 4,
     "metadata": {},
     "output_type": "execute_result"
    }
   ],
   "source": [
    "na_columns(fixture)"
   ]
  },
  {
   "cell_type": "code",
   "execution_count": 5,
   "id": "1d8aabf4-1518-4614-9aa2-2026fcdd0df9",
   "metadata": {
    "tags": []
   },
   "outputs": [
    {
     "data": {
      "text/html": [
       "<div>\n",
       "<style scoped>\n",
       "    .dataframe tbody tr th:only-of-type {\n",
       "        vertical-align: middle;\n",
       "    }\n",
       "\n",
       "    .dataframe tbody tr th {\n",
       "        vertical-align: top;\n",
       "    }\n",
       "\n",
       "    .dataframe thead th {\n",
       "        text-align: right;\n",
       "    }\n",
       "</style>\n",
       "<table border=\"1\" class=\"dataframe\">\n",
       "  <thead>\n",
       "    <tr style=\"text-align: right;\">\n",
       "      <th></th>\n",
       "      <th>year</th>\n",
       "      <th>round</th>\n",
       "      <th>date</th>\n",
       "      <th>time</th>\n",
       "      <th>region</th>\n",
       "      <th>venue</th>\n",
       "      <th>hteam</th>\n",
       "      <th>ateam</th>\n",
       "      <th>hscore</th>\n",
       "      <th>ascore</th>\n",
       "      <th>is_grand_final</th>\n",
       "      <th>is_final</th>\n",
       "      <th>home_win</th>\n",
       "      <th>hdiff</th>\n",
       "    </tr>\n",
       "  </thead>\n",
       "  <tbody>\n",
       "  </tbody>\n",
       "</table>\n",
       "</div>"
      ],
      "text/plain": [
       "Empty DataFrame\n",
       "Columns: [year, round, date, time, region, venue, hteam, ateam, hscore, ascore, is_grand_final, is_final, home_win, hdiff]\n",
       "Index: []"
      ]
     },
     "execution_count": 5,
     "metadata": {},
     "output_type": "execute_result"
    }
   ],
   "source": [
    "fixture[fixture.isna().any(axis=1)]"
   ]
  },
  {
   "cell_type": "markdown",
   "id": "25cb59b9-7f5e-420a-beab-7806e5144166",
   "metadata": {},
   "source": [
    "# Data Prep"
   ]
  },
  {
   "cell_type": "code",
   "execution_count": 6,
   "id": "7500f37a-a129-4515-9ac5-4ba6c3b1743f",
   "metadata": {
    "tags": []
   },
   "outputs": [
    {
     "data": {
      "text/html": [
       "<div>\n",
       "<style scoped>\n",
       "    .dataframe tbody tr th:only-of-type {\n",
       "        vertical-align: middle;\n",
       "    }\n",
       "\n",
       "    .dataframe tbody tr th {\n",
       "        vertical-align: top;\n",
       "    }\n",
       "\n",
       "    .dataframe thead th {\n",
       "        text-align: right;\n",
       "    }\n",
       "</style>\n",
       "<table border=\"1\" class=\"dataframe\">\n",
       "  <thead>\n",
       "    <tr style=\"text-align: right;\">\n",
       "      <th></th>\n",
       "      <th>year</th>\n",
       "      <th>round</th>\n",
       "      <th>date</th>\n",
       "      <th>time</th>\n",
       "      <th>venue</th>\n",
       "      <th>hscore</th>\n",
       "      <th>ascore</th>\n",
       "      <th>is_grand_final</th>\n",
       "      <th>is_final</th>\n",
       "      <th>home_win</th>\n",
       "      <th>hdiff</th>\n",
       "      <th>month</th>\n",
       "      <th>day</th>\n",
       "      <th>time_int</th>\n",
       "      <th>time_group</th>\n",
       "      <th>region_ACT</th>\n",
       "      <th>region_CHN</th>\n",
       "      <th>region_NSW</th>\n",
       "      <th>region_NT</th>\n",
       "      <th>region_NZL</th>\n",
       "      <th>region_QLD</th>\n",
       "      <th>region_SA</th>\n",
       "      <th>region_TAS</th>\n",
       "      <th>region_VIC</th>\n",
       "      <th>region_WA</th>\n",
       "      <th>hteam_Adelaide</th>\n",
       "      <th>hteam_Brisbane Lions</th>\n",
       "      <th>hteam_Carlton</th>\n",
       "      <th>hteam_Collingwood</th>\n",
       "      <th>hteam_Essendon</th>\n",
       "      <th>hteam_Fremantle</th>\n",
       "      <th>hteam_Geelong</th>\n",
       "      <th>hteam_Gold Coast</th>\n",
       "      <th>hteam_Greater Western Sydney</th>\n",
       "      <th>hteam_Hawthorn</th>\n",
       "      <th>hteam_Melbourne</th>\n",
       "      <th>hteam_North Melbourne</th>\n",
       "      <th>hteam_Port Adelaide</th>\n",
       "      <th>hteam_Richmond</th>\n",
       "      <th>hteam_St Kilda</th>\n",
       "      <th>hteam_Sydney</th>\n",
       "      <th>hteam_West Coast</th>\n",
       "      <th>hteam_Western Bulldogs</th>\n",
       "      <th>ateam_Adelaide</th>\n",
       "      <th>ateam_Brisbane Lions</th>\n",
       "      <th>ateam_Carlton</th>\n",
       "      <th>ateam_Collingwood</th>\n",
       "      <th>ateam_Essendon</th>\n",
       "      <th>ateam_Fremantle</th>\n",
       "      <th>ateam_Geelong</th>\n",
       "      <th>ateam_Gold Coast</th>\n",
       "      <th>ateam_Greater Western Sydney</th>\n",
       "      <th>ateam_Hawthorn</th>\n",
       "      <th>ateam_Melbourne</th>\n",
       "      <th>ateam_North Melbourne</th>\n",
       "      <th>ateam_Port Adelaide</th>\n",
       "      <th>ateam_Richmond</th>\n",
       "      <th>ateam_St Kilda</th>\n",
       "      <th>ateam_Sydney</th>\n",
       "      <th>ateam_West Coast</th>\n",
       "      <th>ateam_Western Bulldogs</th>\n",
       "      <th>day_group_Friday</th>\n",
       "      <th>day_group_Saturday</th>\n",
       "      <th>day_group_Sunday</th>\n",
       "      <th>day_group_Weekday</th>\n",
       "      <th>year_encoded</th>\n",
       "    </tr>\n",
       "  </thead>\n",
       "  <tbody>\n",
       "    <tr>\n",
       "      <th>0</th>\n",
       "      <td>2012</td>\n",
       "      <td>1</td>\n",
       "      <td>2012-03-31</td>\n",
       "      <td>16:45:00</td>\n",
       "      <td>Subiaco</td>\n",
       "      <td>105</td>\n",
       "      <td>101</td>\n",
       "      <td>0</td>\n",
       "      <td>0</td>\n",
       "      <td>1</td>\n",
       "      <td>4</td>\n",
       "      <td>3</td>\n",
       "      <td>Saturday</td>\n",
       "      <td>1645</td>\n",
       "      <td>4</td>\n",
       "      <td>0</td>\n",
       "      <td>0</td>\n",
       "      <td>0</td>\n",
       "      <td>0</td>\n",
       "      <td>0</td>\n",
       "      <td>0</td>\n",
       "      <td>0</td>\n",
       "      <td>0</td>\n",
       "      <td>0</td>\n",
       "      <td>1</td>\n",
       "      <td>0</td>\n",
       "      <td>0</td>\n",
       "      <td>0</td>\n",
       "      <td>0</td>\n",
       "      <td>0</td>\n",
       "      <td>1</td>\n",
       "      <td>0</td>\n",
       "      <td>0</td>\n",
       "      <td>0</td>\n",
       "      <td>0</td>\n",
       "      <td>0</td>\n",
       "      <td>0</td>\n",
       "      <td>0</td>\n",
       "      <td>0</td>\n",
       "      <td>0</td>\n",
       "      <td>0</td>\n",
       "      <td>0</td>\n",
       "      <td>0</td>\n",
       "      <td>0</td>\n",
       "      <td>0</td>\n",
       "      <td>0</td>\n",
       "      <td>0</td>\n",
       "      <td>0</td>\n",
       "      <td>0</td>\n",
       "      <td>1</td>\n",
       "      <td>0</td>\n",
       "      <td>0</td>\n",
       "      <td>0</td>\n",
       "      <td>0</td>\n",
       "      <td>0</td>\n",
       "      <td>0</td>\n",
       "      <td>0</td>\n",
       "      <td>0</td>\n",
       "      <td>0</td>\n",
       "      <td>0</td>\n",
       "      <td>0</td>\n",
       "      <td>0</td>\n",
       "      <td>1</td>\n",
       "      <td>0</td>\n",
       "      <td>0</td>\n",
       "      <td>0.0</td>\n",
       "    </tr>\n",
       "    <tr>\n",
       "      <th>1</th>\n",
       "      <td>2012</td>\n",
       "      <td>1</td>\n",
       "      <td>2012-03-31</td>\n",
       "      <td>15:45:00</td>\n",
       "      <td>Carrara</td>\n",
       "      <td>68</td>\n",
       "      <td>137</td>\n",
       "      <td>0</td>\n",
       "      <td>0</td>\n",
       "      <td>0</td>\n",
       "      <td>-69</td>\n",
       "      <td>3</td>\n",
       "      <td>Saturday</td>\n",
       "      <td>1545</td>\n",
       "      <td>3</td>\n",
       "      <td>0</td>\n",
       "      <td>0</td>\n",
       "      <td>0</td>\n",
       "      <td>0</td>\n",
       "      <td>0</td>\n",
       "      <td>1</td>\n",
       "      <td>0</td>\n",
       "      <td>0</td>\n",
       "      <td>0</td>\n",
       "      <td>0</td>\n",
       "      <td>0</td>\n",
       "      <td>0</td>\n",
       "      <td>0</td>\n",
       "      <td>0</td>\n",
       "      <td>0</td>\n",
       "      <td>0</td>\n",
       "      <td>0</td>\n",
       "      <td>1</td>\n",
       "      <td>0</td>\n",
       "      <td>0</td>\n",
       "      <td>0</td>\n",
       "      <td>0</td>\n",
       "      <td>0</td>\n",
       "      <td>0</td>\n",
       "      <td>0</td>\n",
       "      <td>0</td>\n",
       "      <td>0</td>\n",
       "      <td>0</td>\n",
       "      <td>1</td>\n",
       "      <td>0</td>\n",
       "      <td>0</td>\n",
       "      <td>0</td>\n",
       "      <td>0</td>\n",
       "      <td>0</td>\n",
       "      <td>0</td>\n",
       "      <td>0</td>\n",
       "      <td>0</td>\n",
       "      <td>0</td>\n",
       "      <td>0</td>\n",
       "      <td>0</td>\n",
       "      <td>0</td>\n",
       "      <td>0</td>\n",
       "      <td>0</td>\n",
       "      <td>0</td>\n",
       "      <td>0</td>\n",
       "      <td>0</td>\n",
       "      <td>0</td>\n",
       "      <td>1</td>\n",
       "      <td>0</td>\n",
       "      <td>0</td>\n",
       "      <td>0.0</td>\n",
       "    </tr>\n",
       "    <tr>\n",
       "      <th>2</th>\n",
       "      <td>2012</td>\n",
       "      <td>1</td>\n",
       "      <td>2012-03-24</td>\n",
       "      <td>19:20:00</td>\n",
       "      <td>Stadium Australia</td>\n",
       "      <td>37</td>\n",
       "      <td>100</td>\n",
       "      <td>0</td>\n",
       "      <td>0</td>\n",
       "      <td>0</td>\n",
       "      <td>-63</td>\n",
       "      <td>3</td>\n",
       "      <td>Saturday</td>\n",
       "      <td>1920</td>\n",
       "      <td>7</td>\n",
       "      <td>0</td>\n",
       "      <td>0</td>\n",
       "      <td>1</td>\n",
       "      <td>0</td>\n",
       "      <td>0</td>\n",
       "      <td>0</td>\n",
       "      <td>0</td>\n",
       "      <td>0</td>\n",
       "      <td>0</td>\n",
       "      <td>0</td>\n",
       "      <td>0</td>\n",
       "      <td>0</td>\n",
       "      <td>0</td>\n",
       "      <td>0</td>\n",
       "      <td>0</td>\n",
       "      <td>0</td>\n",
       "      <td>0</td>\n",
       "      <td>0</td>\n",
       "      <td>1</td>\n",
       "      <td>0</td>\n",
       "      <td>0</td>\n",
       "      <td>0</td>\n",
       "      <td>0</td>\n",
       "      <td>0</td>\n",
       "      <td>0</td>\n",
       "      <td>0</td>\n",
       "      <td>0</td>\n",
       "      <td>0</td>\n",
       "      <td>0</td>\n",
       "      <td>0</td>\n",
       "      <td>0</td>\n",
       "      <td>0</td>\n",
       "      <td>0</td>\n",
       "      <td>0</td>\n",
       "      <td>0</td>\n",
       "      <td>0</td>\n",
       "      <td>0</td>\n",
       "      <td>0</td>\n",
       "      <td>0</td>\n",
       "      <td>0</td>\n",
       "      <td>0</td>\n",
       "      <td>0</td>\n",
       "      <td>0</td>\n",
       "      <td>1</td>\n",
       "      <td>0</td>\n",
       "      <td>0</td>\n",
       "      <td>0</td>\n",
       "      <td>1</td>\n",
       "      <td>0</td>\n",
       "      <td>0</td>\n",
       "      <td>0.0</td>\n",
       "    </tr>\n",
       "    <tr>\n",
       "      <th>3</th>\n",
       "      <td>2012</td>\n",
       "      <td>1</td>\n",
       "      <td>2012-03-30</td>\n",
       "      <td>19:50:00</td>\n",
       "      <td>M.C.G.</td>\n",
       "      <td>137</td>\n",
       "      <td>115</td>\n",
       "      <td>0</td>\n",
       "      <td>0</td>\n",
       "      <td>1</td>\n",
       "      <td>22</td>\n",
       "      <td>3</td>\n",
       "      <td>Friday</td>\n",
       "      <td>1950</td>\n",
       "      <td>7</td>\n",
       "      <td>0</td>\n",
       "      <td>0</td>\n",
       "      <td>0</td>\n",
       "      <td>0</td>\n",
       "      <td>0</td>\n",
       "      <td>0</td>\n",
       "      <td>0</td>\n",
       "      <td>0</td>\n",
       "      <td>1</td>\n",
       "      <td>0</td>\n",
       "      <td>0</td>\n",
       "      <td>0</td>\n",
       "      <td>0</td>\n",
       "      <td>0</td>\n",
       "      <td>0</td>\n",
       "      <td>0</td>\n",
       "      <td>0</td>\n",
       "      <td>0</td>\n",
       "      <td>0</td>\n",
       "      <td>1</td>\n",
       "      <td>0</td>\n",
       "      <td>0</td>\n",
       "      <td>0</td>\n",
       "      <td>0</td>\n",
       "      <td>0</td>\n",
       "      <td>0</td>\n",
       "      <td>0</td>\n",
       "      <td>0</td>\n",
       "      <td>0</td>\n",
       "      <td>0</td>\n",
       "      <td>0</td>\n",
       "      <td>1</td>\n",
       "      <td>0</td>\n",
       "      <td>0</td>\n",
       "      <td>0</td>\n",
       "      <td>0</td>\n",
       "      <td>0</td>\n",
       "      <td>0</td>\n",
       "      <td>0</td>\n",
       "      <td>0</td>\n",
       "      <td>0</td>\n",
       "      <td>0</td>\n",
       "      <td>0</td>\n",
       "      <td>0</td>\n",
       "      <td>0</td>\n",
       "      <td>0</td>\n",
       "      <td>1</td>\n",
       "      <td>0</td>\n",
       "      <td>0</td>\n",
       "      <td>0</td>\n",
       "      <td>0.0</td>\n",
       "    </tr>\n",
       "    <tr>\n",
       "      <th>4</th>\n",
       "      <td>2012</td>\n",
       "      <td>1</td>\n",
       "      <td>2012-03-31</td>\n",
       "      <td>13:45:00</td>\n",
       "      <td>M.C.G.</td>\n",
       "      <td>78</td>\n",
       "      <td>119</td>\n",
       "      <td>0</td>\n",
       "      <td>0</td>\n",
       "      <td>0</td>\n",
       "      <td>-41</td>\n",
       "      <td>3</td>\n",
       "      <td>Saturday</td>\n",
       "      <td>1345</td>\n",
       "      <td>1</td>\n",
       "      <td>0</td>\n",
       "      <td>0</td>\n",
       "      <td>0</td>\n",
       "      <td>0</td>\n",
       "      <td>0</td>\n",
       "      <td>0</td>\n",
       "      <td>0</td>\n",
       "      <td>0</td>\n",
       "      <td>1</td>\n",
       "      <td>0</td>\n",
       "      <td>0</td>\n",
       "      <td>0</td>\n",
       "      <td>0</td>\n",
       "      <td>0</td>\n",
       "      <td>0</td>\n",
       "      <td>0</td>\n",
       "      <td>0</td>\n",
       "      <td>0</td>\n",
       "      <td>0</td>\n",
       "      <td>0</td>\n",
       "      <td>1</td>\n",
       "      <td>0</td>\n",
       "      <td>0</td>\n",
       "      <td>0</td>\n",
       "      <td>0</td>\n",
       "      <td>0</td>\n",
       "      <td>0</td>\n",
       "      <td>0</td>\n",
       "      <td>0</td>\n",
       "      <td>1</td>\n",
       "      <td>0</td>\n",
       "      <td>0</td>\n",
       "      <td>0</td>\n",
       "      <td>0</td>\n",
       "      <td>0</td>\n",
       "      <td>0</td>\n",
       "      <td>0</td>\n",
       "      <td>0</td>\n",
       "      <td>0</td>\n",
       "      <td>0</td>\n",
       "      <td>0</td>\n",
       "      <td>0</td>\n",
       "      <td>0</td>\n",
       "      <td>0</td>\n",
       "      <td>0</td>\n",
       "      <td>0</td>\n",
       "      <td>0</td>\n",
       "      <td>1</td>\n",
       "      <td>0</td>\n",
       "      <td>0</td>\n",
       "      <td>0.0</td>\n",
       "    </tr>\n",
       "  </tbody>\n",
       "</table>\n",
       "</div>"
      ],
      "text/plain": [
       "   year  round       date      time              venue  hscore  ascore  \\\n",
       "0  2012      1 2012-03-31  16:45:00            Subiaco     105     101   \n",
       "1  2012      1 2012-03-31  15:45:00            Carrara      68     137   \n",
       "2  2012      1 2012-03-24  19:20:00  Stadium Australia      37     100   \n",
       "3  2012      1 2012-03-30  19:50:00             M.C.G.     137     115   \n",
       "4  2012      1 2012-03-31  13:45:00             M.C.G.      78     119   \n",
       "\n",
       "   is_grand_final  is_final  home_win  hdiff  month       day  time_int  \\\n",
       "0               0         0         1      4      3  Saturday      1645   \n",
       "1               0         0         0    -69      3  Saturday      1545   \n",
       "2               0         0         0    -63      3  Saturday      1920   \n",
       "3               0         0         1     22      3    Friday      1950   \n",
       "4               0         0         0    -41      3  Saturday      1345   \n",
       "\n",
       "   time_group  region_ACT  region_CHN  region_NSW  region_NT  region_NZL  \\\n",
       "0           4           0           0           0          0           0   \n",
       "1           3           0           0           0          0           0   \n",
       "2           7           0           0           1          0           0   \n",
       "3           7           0           0           0          0           0   \n",
       "4           1           0           0           0          0           0   \n",
       "\n",
       "   region_QLD  region_SA  region_TAS  region_VIC  region_WA  hteam_Adelaide  \\\n",
       "0           0          0           0           0          1               0   \n",
       "1           1          0           0           0          0               0   \n",
       "2           0          0           0           0          0               0   \n",
       "3           0          0           0           1          0               0   \n",
       "4           0          0           0           1          0               0   \n",
       "\n",
       "   hteam_Brisbane Lions  hteam_Carlton  hteam_Collingwood  hteam_Essendon  \\\n",
       "0                     0              0                  0               0   \n",
       "1                     0              0                  0               0   \n",
       "2                     0              0                  0               0   \n",
       "3                     0              0                  0               0   \n",
       "4                     0              0                  0               0   \n",
       "\n",
       "   hteam_Fremantle  hteam_Geelong  hteam_Gold Coast  \\\n",
       "0                1              0                 0   \n",
       "1                0              0                 1   \n",
       "2                0              0                 0   \n",
       "3                0              0                 0   \n",
       "4                0              0                 0   \n",
       "\n",
       "   hteam_Greater Western Sydney  hteam_Hawthorn  hteam_Melbourne  \\\n",
       "0                             0               0                0   \n",
       "1                             0               0                0   \n",
       "2                             1               0                0   \n",
       "3                             0               1                0   \n",
       "4                             0               0                1   \n",
       "\n",
       "   hteam_North Melbourne  hteam_Port Adelaide  hteam_Richmond  hteam_St Kilda  \\\n",
       "0                      0                    0               0               0   \n",
       "1                      0                    0               0               0   \n",
       "2                      0                    0               0               0   \n",
       "3                      0                    0               0               0   \n",
       "4                      0                    0               0               0   \n",
       "\n",
       "   hteam_Sydney  hteam_West Coast  hteam_Western Bulldogs  ateam_Adelaide  \\\n",
       "0             0                 0                       0               0   \n",
       "1             0                 0                       0               1   \n",
       "2             0                 0                       0               0   \n",
       "3             0                 0                       0               0   \n",
       "4             0                 0                       0               0   \n",
       "\n",
       "   ateam_Brisbane Lions  ateam_Carlton  ateam_Collingwood  ateam_Essendon  \\\n",
       "0                     0              0                  0               0   \n",
       "1                     0              0                  0               0   \n",
       "2                     0              0                  0               0   \n",
       "3                     0              0                  1               0   \n",
       "4                     1              0                  0               0   \n",
       "\n",
       "   ateam_Fremantle  ateam_Geelong  ateam_Gold Coast  \\\n",
       "0                0              1                 0   \n",
       "1                0              0                 0   \n",
       "2                0              0                 0   \n",
       "3                0              0                 0   \n",
       "4                0              0                 0   \n",
       "\n",
       "   ateam_Greater Western Sydney  ateam_Hawthorn  ateam_Melbourne  \\\n",
       "0                             0               0                0   \n",
       "1                             0               0                0   \n",
       "2                             0               0                0   \n",
       "3                             0               0                0   \n",
       "4                             0               0                0   \n",
       "\n",
       "   ateam_North Melbourne  ateam_Port Adelaide  ateam_Richmond  ateam_St Kilda  \\\n",
       "0                      0                    0               0               0   \n",
       "1                      0                    0               0               0   \n",
       "2                      0                    0               0               0   \n",
       "3                      0                    0               0               0   \n",
       "4                      0                    0               0               0   \n",
       "\n",
       "   ateam_Sydney  ateam_West Coast  ateam_Western Bulldogs  day_group_Friday  \\\n",
       "0             0                 0                       0                 0   \n",
       "1             0                 0                       0                 0   \n",
       "2             1                 0                       0                 0   \n",
       "3             0                 0                       0                 1   \n",
       "4             0                 0                       0                 0   \n",
       "\n",
       "   day_group_Saturday  day_group_Sunday  day_group_Weekday  year_encoded  \n",
       "0                   1                 0                  0           0.0  \n",
       "1                   1                 0                  0           0.0  \n",
       "2                   1                 0                  0           0.0  \n",
       "3                   0                 0                  0           0.0  \n",
       "4                   1                 0                  0           0.0  "
      ]
     },
     "execution_count": 6,
     "metadata": {},
     "output_type": "execute_result"
    }
   ],
   "source": [
    "# convert to datetime dtype and extract month and day\n",
    "fixture['date'] = pd.to_datetime(fixture['date'])\n",
    "fixture['month'] = fixture['date'].dt.month\n",
    "fixture['day'] = fixture['date'].dt.day_name()\n",
    "\n",
    "# convert day into group so that monday, tues, wed, and thurs are all counted as a weekday game.\n",
    "fixture['day_group'] = fixture['day'].apply(lambda x:'Weekday' if x in ['Monday', 'Tuesday', 'Wednesday', 'Thursday'] else x)\n",
    "\n",
    "# Removing colons and converting time to integer\n",
    "fixture['time_int'] = fixture['time'].str.replace(':', '').astype(int) / 100\n",
    "fixture['time_int'] = fixture['time_int'].astype(int)\n",
    "\n",
    "# create a time group column to show the time floor div\n",
    "fixture['time_group'] = (fixture['time_int'] - 1200) // 100\n",
    "\n",
    "# convert dataframe to one-hot vector\n",
    "fixture_oh = pd.get_dummies(fixture, columns=['region', 'hteam', 'ateam', 'day_group'], dtype='int')\n",
    "\n",
    "# ordinal encode the year\n",
    "encoder = OrdinalEncoder()\n",
    "fixture_oh['year_encoded'] = encoder.fit_transform(fixture_oh[['year']])\n",
    "\n",
    "fixture_oh.head()"
   ]
  },
  {
   "cell_type": "code",
   "execution_count": 7,
   "id": "8cb11c16-f726-4834-a8e8-2f65f28b1b2e",
   "metadata": {
    "tags": []
   },
   "outputs": [
    {
     "data": {
      "text/plain": [
       "array(['Saturday', 'Friday', 'Sunday', 'Weekday'], dtype=object)"
      ]
     },
     "execution_count": 7,
     "metadata": {},
     "output_type": "execute_result"
    }
   ],
   "source": [
    "fixture['day_group'].unique()"
   ]
  },
  {
   "cell_type": "markdown",
   "id": "4d91fa77-f068-4308-a0dc-800711d7bfbe",
   "metadata": {},
   "source": [
    "# Regression Modelling"
   ]
  },
  {
   "cell_type": "code",
   "execution_count": 8,
   "id": "ddc08c84-36fa-4fff-a19b-0ac4f34d4f82",
   "metadata": {
    "tags": []
   },
   "outputs": [],
   "source": [
    "# Define your features and target variable\n",
    "X = fixture_oh.drop(['home_win', 'ascore', 'hscore', 'hdiff', 'date', 'time', 'venue', 'time_int', 'year', 'day'], axis=1)\n",
    "y = fixture_oh['hdiff']\n",
    "\n",
    "# Split the data\n",
    "X_train, X_test, y_train, y_test = train_test_split(X, y, test_size=0.1, shuffle=True, random_state=42)\n",
    "# X_train, X_val, y_train, y_val = train_test_split(X_train, y_train, test_size=0.1, shuffle=True, random_state=42)"
   ]
  },
  {
   "cell_type": "code",
   "execution_count": 9,
   "id": "032e02b4-face-4847-99a7-1f6ddaedb7d0",
   "metadata": {
    "tags": []
   },
   "outputs": [
    {
     "data": {
      "text/html": [
       "<div>\n",
       "<style scoped>\n",
       "    .dataframe tbody tr th:only-of-type {\n",
       "        vertical-align: middle;\n",
       "    }\n",
       "\n",
       "    .dataframe tbody tr th {\n",
       "        vertical-align: top;\n",
       "    }\n",
       "\n",
       "    .dataframe thead th {\n",
       "        text-align: right;\n",
       "    }\n",
       "</style>\n",
       "<table border=\"1\" class=\"dataframe\">\n",
       "  <thead>\n",
       "    <tr style=\"text-align: right;\">\n",
       "      <th></th>\n",
       "      <th>round</th>\n",
       "      <th>is_grand_final</th>\n",
       "      <th>is_final</th>\n",
       "      <th>month</th>\n",
       "      <th>time_group</th>\n",
       "      <th>region_ACT</th>\n",
       "      <th>region_CHN</th>\n",
       "      <th>region_NSW</th>\n",
       "      <th>region_NT</th>\n",
       "      <th>region_NZL</th>\n",
       "      <th>region_QLD</th>\n",
       "      <th>region_SA</th>\n",
       "      <th>region_TAS</th>\n",
       "      <th>region_VIC</th>\n",
       "      <th>region_WA</th>\n",
       "      <th>hteam_Adelaide</th>\n",
       "      <th>hteam_Brisbane Lions</th>\n",
       "      <th>hteam_Carlton</th>\n",
       "      <th>hteam_Collingwood</th>\n",
       "      <th>hteam_Essendon</th>\n",
       "      <th>hteam_Fremantle</th>\n",
       "      <th>hteam_Geelong</th>\n",
       "      <th>hteam_Gold Coast</th>\n",
       "      <th>hteam_Greater Western Sydney</th>\n",
       "      <th>hteam_Hawthorn</th>\n",
       "      <th>hteam_Melbourne</th>\n",
       "      <th>hteam_North Melbourne</th>\n",
       "      <th>hteam_Port Adelaide</th>\n",
       "      <th>hteam_Richmond</th>\n",
       "      <th>hteam_St Kilda</th>\n",
       "      <th>hteam_Sydney</th>\n",
       "      <th>hteam_West Coast</th>\n",
       "      <th>hteam_Western Bulldogs</th>\n",
       "      <th>ateam_Adelaide</th>\n",
       "      <th>ateam_Brisbane Lions</th>\n",
       "      <th>ateam_Carlton</th>\n",
       "      <th>ateam_Collingwood</th>\n",
       "      <th>ateam_Essendon</th>\n",
       "      <th>ateam_Fremantle</th>\n",
       "      <th>ateam_Geelong</th>\n",
       "      <th>ateam_Gold Coast</th>\n",
       "      <th>ateam_Greater Western Sydney</th>\n",
       "      <th>ateam_Hawthorn</th>\n",
       "      <th>ateam_Melbourne</th>\n",
       "      <th>ateam_North Melbourne</th>\n",
       "      <th>ateam_Port Adelaide</th>\n",
       "      <th>ateam_Richmond</th>\n",
       "      <th>ateam_St Kilda</th>\n",
       "      <th>ateam_Sydney</th>\n",
       "      <th>ateam_West Coast</th>\n",
       "      <th>ateam_Western Bulldogs</th>\n",
       "      <th>day_group_Friday</th>\n",
       "      <th>day_group_Saturday</th>\n",
       "      <th>day_group_Sunday</th>\n",
       "      <th>day_group_Weekday</th>\n",
       "      <th>year_encoded</th>\n",
       "    </tr>\n",
       "  </thead>\n",
       "  <tbody>\n",
       "    <tr>\n",
       "      <th>1925</th>\n",
       "      <td>13</td>\n",
       "      <td>0</td>\n",
       "      <td>0</td>\n",
       "      <td>6</td>\n",
       "      <td>7</td>\n",
       "      <td>0</td>\n",
       "      <td>0</td>\n",
       "      <td>0</td>\n",
       "      <td>0</td>\n",
       "      <td>0</td>\n",
       "      <td>0</td>\n",
       "      <td>1</td>\n",
       "      <td>0</td>\n",
       "      <td>0</td>\n",
       "      <td>0</td>\n",
       "      <td>0</td>\n",
       "      <td>0</td>\n",
       "      <td>0</td>\n",
       "      <td>0</td>\n",
       "      <td>0</td>\n",
       "      <td>0</td>\n",
       "      <td>0</td>\n",
       "      <td>0</td>\n",
       "      <td>0</td>\n",
       "      <td>0</td>\n",
       "      <td>0</td>\n",
       "      <td>0</td>\n",
       "      <td>1</td>\n",
       "      <td>0</td>\n",
       "      <td>0</td>\n",
       "      <td>0</td>\n",
       "      <td>0</td>\n",
       "      <td>0</td>\n",
       "      <td>0</td>\n",
       "      <td>0</td>\n",
       "      <td>0</td>\n",
       "      <td>0</td>\n",
       "      <td>0</td>\n",
       "      <td>0</td>\n",
       "      <td>1</td>\n",
       "      <td>0</td>\n",
       "      <td>0</td>\n",
       "      <td>0</td>\n",
       "      <td>0</td>\n",
       "      <td>0</td>\n",
       "      <td>0</td>\n",
       "      <td>0</td>\n",
       "      <td>0</td>\n",
       "      <td>0</td>\n",
       "      <td>0</td>\n",
       "      <td>0</td>\n",
       "      <td>0</td>\n",
       "      <td>0</td>\n",
       "      <td>0</td>\n",
       "      <td>1</td>\n",
       "      <td>9.0</td>\n",
       "    </tr>\n",
       "    <tr>\n",
       "      <th>1846</th>\n",
       "      <td>4</td>\n",
       "      <td>0</td>\n",
       "      <td>0</td>\n",
       "      <td>4</td>\n",
       "      <td>7</td>\n",
       "      <td>0</td>\n",
       "      <td>0</td>\n",
       "      <td>0</td>\n",
       "      <td>0</td>\n",
       "      <td>0</td>\n",
       "      <td>1</td>\n",
       "      <td>0</td>\n",
       "      <td>0</td>\n",
       "      <td>0</td>\n",
       "      <td>0</td>\n",
       "      <td>0</td>\n",
       "      <td>0</td>\n",
       "      <td>0</td>\n",
       "      <td>0</td>\n",
       "      <td>0</td>\n",
       "      <td>0</td>\n",
       "      <td>0</td>\n",
       "      <td>1</td>\n",
       "      <td>0</td>\n",
       "      <td>0</td>\n",
       "      <td>0</td>\n",
       "      <td>0</td>\n",
       "      <td>0</td>\n",
       "      <td>0</td>\n",
       "      <td>0</td>\n",
       "      <td>0</td>\n",
       "      <td>0</td>\n",
       "      <td>0</td>\n",
       "      <td>0</td>\n",
       "      <td>0</td>\n",
       "      <td>1</td>\n",
       "      <td>0</td>\n",
       "      <td>0</td>\n",
       "      <td>0</td>\n",
       "      <td>0</td>\n",
       "      <td>0</td>\n",
       "      <td>0</td>\n",
       "      <td>0</td>\n",
       "      <td>0</td>\n",
       "      <td>0</td>\n",
       "      <td>0</td>\n",
       "      <td>0</td>\n",
       "      <td>0</td>\n",
       "      <td>0</td>\n",
       "      <td>0</td>\n",
       "      <td>0</td>\n",
       "      <td>0</td>\n",
       "      <td>1</td>\n",
       "      <td>0</td>\n",
       "      <td>0</td>\n",
       "      <td>9.0</td>\n",
       "    </tr>\n",
       "    <tr>\n",
       "      <th>279</th>\n",
       "      <td>9</td>\n",
       "      <td>0</td>\n",
       "      <td>0</td>\n",
       "      <td>5</td>\n",
       "      <td>7</td>\n",
       "      <td>0</td>\n",
       "      <td>0</td>\n",
       "      <td>0</td>\n",
       "      <td>0</td>\n",
       "      <td>0</td>\n",
       "      <td>1</td>\n",
       "      <td>0</td>\n",
       "      <td>0</td>\n",
       "      <td>0</td>\n",
       "      <td>0</td>\n",
       "      <td>0</td>\n",
       "      <td>1</td>\n",
       "      <td>0</td>\n",
       "      <td>0</td>\n",
       "      <td>0</td>\n",
       "      <td>0</td>\n",
       "      <td>0</td>\n",
       "      <td>0</td>\n",
       "      <td>0</td>\n",
       "      <td>0</td>\n",
       "      <td>0</td>\n",
       "      <td>0</td>\n",
       "      <td>0</td>\n",
       "      <td>0</td>\n",
       "      <td>0</td>\n",
       "      <td>0</td>\n",
       "      <td>0</td>\n",
       "      <td>0</td>\n",
       "      <td>0</td>\n",
       "      <td>0</td>\n",
       "      <td>1</td>\n",
       "      <td>0</td>\n",
       "      <td>0</td>\n",
       "      <td>0</td>\n",
       "      <td>0</td>\n",
       "      <td>0</td>\n",
       "      <td>0</td>\n",
       "      <td>0</td>\n",
       "      <td>0</td>\n",
       "      <td>0</td>\n",
       "      <td>0</td>\n",
       "      <td>0</td>\n",
       "      <td>0</td>\n",
       "      <td>0</td>\n",
       "      <td>0</td>\n",
       "      <td>0</td>\n",
       "      <td>0</td>\n",
       "      <td>1</td>\n",
       "      <td>0</td>\n",
       "      <td>0</td>\n",
       "      <td>1.0</td>\n",
       "    </tr>\n",
       "    <tr>\n",
       "      <th>43</th>\n",
       "      <td>5</td>\n",
       "      <td>0</td>\n",
       "      <td>0</td>\n",
       "      <td>4</td>\n",
       "      <td>4</td>\n",
       "      <td>0</td>\n",
       "      <td>0</td>\n",
       "      <td>0</td>\n",
       "      <td>0</td>\n",
       "      <td>0</td>\n",
       "      <td>0</td>\n",
       "      <td>0</td>\n",
       "      <td>0</td>\n",
       "      <td>1</td>\n",
       "      <td>0</td>\n",
       "      <td>0</td>\n",
       "      <td>0</td>\n",
       "      <td>0</td>\n",
       "      <td>0</td>\n",
       "      <td>0</td>\n",
       "      <td>0</td>\n",
       "      <td>0</td>\n",
       "      <td>0</td>\n",
       "      <td>0</td>\n",
       "      <td>0</td>\n",
       "      <td>0</td>\n",
       "      <td>1</td>\n",
       "      <td>0</td>\n",
       "      <td>0</td>\n",
       "      <td>0</td>\n",
       "      <td>0</td>\n",
       "      <td>0</td>\n",
       "      <td>0</td>\n",
       "      <td>0</td>\n",
       "      <td>0</td>\n",
       "      <td>0</td>\n",
       "      <td>0</td>\n",
       "      <td>0</td>\n",
       "      <td>0</td>\n",
       "      <td>0</td>\n",
       "      <td>1</td>\n",
       "      <td>0</td>\n",
       "      <td>0</td>\n",
       "      <td>0</td>\n",
       "      <td>0</td>\n",
       "      <td>0</td>\n",
       "      <td>0</td>\n",
       "      <td>0</td>\n",
       "      <td>0</td>\n",
       "      <td>0</td>\n",
       "      <td>0</td>\n",
       "      <td>0</td>\n",
       "      <td>1</td>\n",
       "      <td>0</td>\n",
       "      <td>0</td>\n",
       "      <td>0.0</td>\n",
       "    </tr>\n",
       "    <tr>\n",
       "      <th>729</th>\n",
       "      <td>14</td>\n",
       "      <td>0</td>\n",
       "      <td>0</td>\n",
       "      <td>7</td>\n",
       "      <td>7</td>\n",
       "      <td>0</td>\n",
       "      <td>0</td>\n",
       "      <td>0</td>\n",
       "      <td>0</td>\n",
       "      <td>0</td>\n",
       "      <td>0</td>\n",
       "      <td>0</td>\n",
       "      <td>0</td>\n",
       "      <td>1</td>\n",
       "      <td>0</td>\n",
       "      <td>0</td>\n",
       "      <td>0</td>\n",
       "      <td>0</td>\n",
       "      <td>1</td>\n",
       "      <td>0</td>\n",
       "      <td>0</td>\n",
       "      <td>0</td>\n",
       "      <td>0</td>\n",
       "      <td>0</td>\n",
       "      <td>0</td>\n",
       "      <td>0</td>\n",
       "      <td>0</td>\n",
       "      <td>0</td>\n",
       "      <td>0</td>\n",
       "      <td>0</td>\n",
       "      <td>0</td>\n",
       "      <td>0</td>\n",
       "      <td>0</td>\n",
       "      <td>0</td>\n",
       "      <td>0</td>\n",
       "      <td>0</td>\n",
       "      <td>0</td>\n",
       "      <td>0</td>\n",
       "      <td>0</td>\n",
       "      <td>0</td>\n",
       "      <td>0</td>\n",
       "      <td>0</td>\n",
       "      <td>1</td>\n",
       "      <td>0</td>\n",
       "      <td>0</td>\n",
       "      <td>0</td>\n",
       "      <td>0</td>\n",
       "      <td>0</td>\n",
       "      <td>0</td>\n",
       "      <td>0</td>\n",
       "      <td>0</td>\n",
       "      <td>1</td>\n",
       "      <td>0</td>\n",
       "      <td>0</td>\n",
       "      <td>0</td>\n",
       "      <td>3.0</td>\n",
       "    </tr>\n",
       "  </tbody>\n",
       "</table>\n",
       "</div>"
      ],
      "text/plain": [
       "      round  is_grand_final  is_final  month  time_group  region_ACT  \\\n",
       "1925     13               0         0      6           7           0   \n",
       "1846      4               0         0      4           7           0   \n",
       "279       9               0         0      5           7           0   \n",
       "43        5               0         0      4           4           0   \n",
       "729      14               0         0      7           7           0   \n",
       "\n",
       "      region_CHN  region_NSW  region_NT  region_NZL  region_QLD  region_SA  \\\n",
       "1925           0           0          0           0           0          1   \n",
       "1846           0           0          0           0           1          0   \n",
       "279            0           0          0           0           1          0   \n",
       "43             0           0          0           0           0          0   \n",
       "729            0           0          0           0           0          0   \n",
       "\n",
       "      region_TAS  region_VIC  region_WA  hteam_Adelaide  hteam_Brisbane Lions  \\\n",
       "1925           0           0          0               0                     0   \n",
       "1846           0           0          0               0                     0   \n",
       "279            0           0          0               0                     1   \n",
       "43             0           1          0               0                     0   \n",
       "729            0           1          0               0                     0   \n",
       "\n",
       "      hteam_Carlton  hteam_Collingwood  hteam_Essendon  hteam_Fremantle  \\\n",
       "1925              0                  0               0                0   \n",
       "1846              0                  0               0                0   \n",
       "279               0                  0               0                0   \n",
       "43                0                  0               0                0   \n",
       "729               0                  1               0                0   \n",
       "\n",
       "      hteam_Geelong  hteam_Gold Coast  hteam_Greater Western Sydney  \\\n",
       "1925              0                 0                             0   \n",
       "1846              0                 1                             0   \n",
       "279               0                 0                             0   \n",
       "43                0                 0                             0   \n",
       "729               0                 0                             0   \n",
       "\n",
       "      hteam_Hawthorn  hteam_Melbourne  hteam_North Melbourne  \\\n",
       "1925               0                0                      0   \n",
       "1846               0                0                      0   \n",
       "279                0                0                      0   \n",
       "43                 0                0                      1   \n",
       "729                0                0                      0   \n",
       "\n",
       "      hteam_Port Adelaide  hteam_Richmond  hteam_St Kilda  hteam_Sydney  \\\n",
       "1925                    1               0               0             0   \n",
       "1846                    0               0               0             0   \n",
       "279                     0               0               0             0   \n",
       "43                      0               0               0             0   \n",
       "729                     0               0               0             0   \n",
       "\n",
       "      hteam_West Coast  hteam_Western Bulldogs  ateam_Adelaide  \\\n",
       "1925                 0                       0               0   \n",
       "1846                 0                       0               0   \n",
       "279                  0                       0               0   \n",
       "43                   0                       0               0   \n",
       "729                  0                       0               0   \n",
       "\n",
       "      ateam_Brisbane Lions  ateam_Carlton  ateam_Collingwood  ateam_Essendon  \\\n",
       "1925                     0              0                  0               0   \n",
       "1846                     0              1                  0               0   \n",
       "279                      0              1                  0               0   \n",
       "43                       0              0                  0               0   \n",
       "729                      0              0                  0               0   \n",
       "\n",
       "      ateam_Fremantle  ateam_Geelong  ateam_Gold Coast  \\\n",
       "1925                0              1                 0   \n",
       "1846                0              0                 0   \n",
       "279                 0              0                 0   \n",
       "43                  0              0                 1   \n",
       "729                 0              0                 0   \n",
       "\n",
       "      ateam_Greater Western Sydney  ateam_Hawthorn  ateam_Melbourne  \\\n",
       "1925                             0               0                0   \n",
       "1846                             0               0                0   \n",
       "279                              0               0                0   \n",
       "43                               0               0                0   \n",
       "729                              0               1                0   \n",
       "\n",
       "      ateam_North Melbourne  ateam_Port Adelaide  ateam_Richmond  \\\n",
       "1925                      0                    0               0   \n",
       "1846                      0                    0               0   \n",
       "279                       0                    0               0   \n",
       "43                        0                    0               0   \n",
       "729                       0                    0               0   \n",
       "\n",
       "      ateam_St Kilda  ateam_Sydney  ateam_West Coast  ateam_Western Bulldogs  \\\n",
       "1925               0             0                 0                       0   \n",
       "1846               0             0                 0                       0   \n",
       "279                0             0                 0                       0   \n",
       "43                 0             0                 0                       0   \n",
       "729                0             0                 0                       0   \n",
       "\n",
       "      day_group_Friday  day_group_Saturday  day_group_Sunday  \\\n",
       "1925                 0                   0                 0   \n",
       "1846                 0                   1                 0   \n",
       "279                  0                   1                 0   \n",
       "43                   0                   1                 0   \n",
       "729                  1                   0                 0   \n",
       "\n",
       "      day_group_Weekday  year_encoded  \n",
       "1925                  1           9.0  \n",
       "1846                  0           9.0  \n",
       "279                   0           1.0  \n",
       "43                    0           0.0  \n",
       "729                   0           3.0  "
      ]
     },
     "execution_count": 9,
     "metadata": {},
     "output_type": "execute_result"
    }
   ],
   "source": [
    "X_train.head()"
   ]
  },
  {
   "cell_type": "code",
   "execution_count": 10,
   "id": "3e76837f-1a76-49b0-8208-f93e24bb4636",
   "metadata": {
    "tags": []
   },
   "outputs": [
    {
     "data": {
      "text/html": [
       "<style>#sk-container-id-1 {color: black;}#sk-container-id-1 pre{padding: 0;}#sk-container-id-1 div.sk-toggleable {background-color: white;}#sk-container-id-1 label.sk-toggleable__label {cursor: pointer;display: block;width: 100%;margin-bottom: 0;padding: 0.3em;box-sizing: border-box;text-align: center;}#sk-container-id-1 label.sk-toggleable__label-arrow:before {content: \"▸\";float: left;margin-right: 0.25em;color: #696969;}#sk-container-id-1 label.sk-toggleable__label-arrow:hover:before {color: black;}#sk-container-id-1 div.sk-estimator:hover label.sk-toggleable__label-arrow:before {color: black;}#sk-container-id-1 div.sk-toggleable__content {max-height: 0;max-width: 0;overflow: hidden;text-align: left;background-color: #f0f8ff;}#sk-container-id-1 div.sk-toggleable__content pre {margin: 0.2em;color: black;border-radius: 0.25em;background-color: #f0f8ff;}#sk-container-id-1 input.sk-toggleable__control:checked~div.sk-toggleable__content {max-height: 200px;max-width: 100%;overflow: auto;}#sk-container-id-1 input.sk-toggleable__control:checked~label.sk-toggleable__label-arrow:before {content: \"▾\";}#sk-container-id-1 div.sk-estimator input.sk-toggleable__control:checked~label.sk-toggleable__label {background-color: #d4ebff;}#sk-container-id-1 div.sk-label input.sk-toggleable__control:checked~label.sk-toggleable__label {background-color: #d4ebff;}#sk-container-id-1 input.sk-hidden--visually {border: 0;clip: rect(1px 1px 1px 1px);clip: rect(1px, 1px, 1px, 1px);height: 1px;margin: -1px;overflow: hidden;padding: 0;position: absolute;width: 1px;}#sk-container-id-1 div.sk-estimator {font-family: monospace;background-color: #f0f8ff;border: 1px dotted black;border-radius: 0.25em;box-sizing: border-box;margin-bottom: 0.5em;}#sk-container-id-1 div.sk-estimator:hover {background-color: #d4ebff;}#sk-container-id-1 div.sk-parallel-item::after {content: \"\";width: 100%;border-bottom: 1px solid gray;flex-grow: 1;}#sk-container-id-1 div.sk-label:hover label.sk-toggleable__label {background-color: #d4ebff;}#sk-container-id-1 div.sk-serial::before {content: \"\";position: absolute;border-left: 1px solid gray;box-sizing: border-box;top: 0;bottom: 0;left: 50%;z-index: 0;}#sk-container-id-1 div.sk-serial {display: flex;flex-direction: column;align-items: center;background-color: white;padding-right: 0.2em;padding-left: 0.2em;position: relative;}#sk-container-id-1 div.sk-item {position: relative;z-index: 1;}#sk-container-id-1 div.sk-parallel {display: flex;align-items: stretch;justify-content: center;background-color: white;position: relative;}#sk-container-id-1 div.sk-item::before, #sk-container-id-1 div.sk-parallel-item::before {content: \"\";position: absolute;border-left: 1px solid gray;box-sizing: border-box;top: 0;bottom: 0;left: 50%;z-index: -1;}#sk-container-id-1 div.sk-parallel-item {display: flex;flex-direction: column;z-index: 1;position: relative;background-color: white;}#sk-container-id-1 div.sk-parallel-item:first-child::after {align-self: flex-end;width: 50%;}#sk-container-id-1 div.sk-parallel-item:last-child::after {align-self: flex-start;width: 50%;}#sk-container-id-1 div.sk-parallel-item:only-child::after {width: 0;}#sk-container-id-1 div.sk-dashed-wrapped {border: 1px dashed gray;margin: 0 0.4em 0.5em 0.4em;box-sizing: border-box;padding-bottom: 0.4em;background-color: white;}#sk-container-id-1 div.sk-label label {font-family: monospace;font-weight: bold;display: inline-block;line-height: 1.2em;}#sk-container-id-1 div.sk-label-container {text-align: center;}#sk-container-id-1 div.sk-container {/* jupyter's `normalize.less` sets `[hidden] { display: none; }` but bootstrap.min.css set `[hidden] { display: none !important; }` so we also need the `!important` here to be able to override the default hidden behavior on the sphinx rendered scikit-learn.org. See: https://github.com/scikit-learn/scikit-learn/issues/21755 */display: inline-block !important;position: relative;}#sk-container-id-1 div.sk-text-repr-fallback {display: none;}</style><div id=\"sk-container-id-1\" class=\"sk-top-container\"><div class=\"sk-text-repr-fallback\"><pre>LinearRegression()</pre><b>In a Jupyter environment, please rerun this cell to show the HTML representation or trust the notebook. <br />On GitHub, the HTML representation is unable to render, please try loading this page with nbviewer.org.</b></div><div class=\"sk-container\" hidden><div class=\"sk-item\"><div class=\"sk-estimator sk-toggleable\"><input class=\"sk-toggleable__control sk-hidden--visually\" id=\"sk-estimator-id-1\" type=\"checkbox\" checked><label for=\"sk-estimator-id-1\" class=\"sk-toggleable__label sk-toggleable__label-arrow\">LinearRegression</label><div class=\"sk-toggleable__content\"><pre>LinearRegression()</pre></div></div></div></div></div>"
      ],
      "text/plain": [
       "LinearRegression()"
      ]
     },
     "execution_count": 10,
     "metadata": {},
     "output_type": "execute_result"
    }
   ],
   "source": [
    "# Create and fit the model\n",
    "model = LinearRegression()\n",
    "model.fit(X_train, y_train)"
   ]
  },
  {
   "cell_type": "code",
   "execution_count": 11,
   "id": "d25e8281-a1f7-4367-9dc5-4ae3781d8ab2",
   "metadata": {
    "tags": []
   },
   "outputs": [
    {
     "name": "stdout",
     "output_type": "stream",
     "text": [
      "Mean Squared Error (MSE): 1722.7632858276368\n",
      "Root Mean Squared Error (RMSE): 41.5061837058966\n",
      "Mean Absolute Error (MAE): 32.83142538265306\n",
      "R-squared: 0.028106002928966922\n"
     ]
    }
   ],
   "source": [
    "# Make predictions on the test data\n",
    "y_pred = model.predict(X_test)\n",
    "\n",
    "# Evaluate the model\n",
    "mse = mean_squared_error(y_test, y_pred)\n",
    "rmse = sqrt(mse)\n",
    "mae = mean_absolute_error(y_test, y_pred)\n",
    "r2 = r2_score(y_test, y_pred)\n",
    "\n",
    "# Print the evaluation metrics\n",
    "print(\"Mean Squared Error (MSE):\", mse)\n",
    "print(\"Root Mean Squared Error (RMSE):\", rmse)\n",
    "print(\"Mean Absolute Error (MAE):\", mae)\n",
    "print(\"R-squared:\", r2)"
   ]
  },
  {
   "cell_type": "markdown",
   "id": "59019eb0-cb80-4b85-9635-604a13997757",
   "metadata": {},
   "source": [
    "### KNN Regressor"
   ]
  },
  {
   "cell_type": "markdown",
   "id": "a015e27f-7959-49cb-9c0a-61169533b9ae",
   "metadata": {},
   "source": [
    "Use the validation error. "
   ]
  },
  {
   "cell_type": "code",
   "execution_count": 364,
   "id": "3eddc9c9-0ad9-42e4-8630-2d2162f018c1",
   "metadata": {
    "collapsed": true,
    "jupyter": {
     "outputs_hidden": true
    },
    "tags": []
   },
   "outputs": [
    {
     "name": "stdout",
     "output_type": "stream",
     "text": [
      "RMSE value for k=  1 is: 58.01435431100176\n",
      "RMSE value for k=  2 is: 50.05165698902424\n",
      "RMSE value for k=  3 is: 46.713931361211245\n",
      "RMSE value for k=  4 is: 45.08186148212912\n",
      "RMSE value for k=  5 is: 43.35197568644787\n",
      "RMSE value for k=  6 is: 44.04292252954282\n",
      "RMSE value for k=  7 is: 43.471760977661795\n",
      "RMSE value for k=  8 is: 42.09945252685864\n",
      "RMSE value for k=  9 is: 42.37421205540823\n",
      "RMSE value for k=  10 is: 42.3148866553257\n",
      "RMSE value for k=  11 is: 42.15901837278539\n",
      "RMSE value for k=  12 is: 41.72926420307103\n",
      "RMSE value for k=  13 is: 41.88054991636267\n",
      "RMSE value for k=  14 is: 42.06611533220086\n",
      "RMSE value for k=  15 is: 42.16279818774376\n",
      "RMSE value for k=  16 is: 41.86441230755715\n",
      "RMSE value for k=  17 is: 42.01068694928363\n",
      "RMSE value for k=  18 is: 42.200965528759966\n",
      "RMSE value for k=  19 is: 41.997224575766744\n",
      "RMSE value for k=  20 is: 42.03500399933952\n",
      "RMSE value for k=  21 is: 42.19044087159345\n",
      "RMSE value for k=  22 is: 42.245782603099634\n",
      "RMSE value for k=  23 is: 42.18126327518294\n",
      "RMSE value for k=  24 is: 42.229124611096324\n",
      "RMSE value for k=  25 is: 42.10973923898734\n",
      "RMSE value for k=  26 is: 42.334415850068154\n",
      "RMSE value for k=  27 is: 42.318647039304075\n",
      "RMSE value for k=  28 is: 42.44391115983469\n",
      "RMSE value for k=  29 is: 42.55295610341734\n",
      "RMSE value for k=  30 is: 42.55482839233562\n",
      "RMSE value for k=  31 is: 42.481494072791115\n",
      "RMSE value for k=  32 is: 42.34817249478375\n",
      "RMSE value for k=  33 is: 42.53514891914637\n",
      "RMSE value for k=  34 is: 42.531727565761145\n",
      "RMSE value for k=  35 is: 42.462085339495424\n",
      "RMSE value for k=  36 is: 42.62295203214452\n",
      "RMSE value for k=  37 is: 42.70623387412211\n",
      "RMSE value for k=  38 is: 42.61486816269577\n",
      "RMSE value for k=  39 is: 42.80738199422415\n",
      "RMSE value for k=  40 is: 42.85818007673443\n"
     ]
    }
   ],
   "source": [
    "rmse_val = [] #to store rmse values for different k\n",
    "for K in range(40):\n",
    "    K = K+1\n",
    "    model = KNeighborsRegressor(n_neighbors = K)\n",
    "\n",
    "    model.fit(X_train, y_train)  #fit the model\n",
    "    pred=model.predict(X_test) #make prediction on test set\n",
    "    error = sqrt(mean_squared_error(y_test, pred)) #calculate rmse\n",
    "    rmse_val.append(error) #store rmse values\n",
    "    print('RMSE value for k= ' , K , 'is:', error)"
   ]
  },
  {
   "cell_type": "code",
   "execution_count": 365,
   "id": "d0c9d6f7-9e47-4c33-9aeb-bfb2a09c1ed6",
   "metadata": {
    "tags": []
   },
   "outputs": [
    {
     "data": {
      "text/plain": [
       "{'n_neighbors': 147}"
      ]
     },
     "execution_count": 365,
     "metadata": {},
     "output_type": "execute_result"
    }
   ],
   "source": [
    "from sklearn.model_selection import GridSearchCV\n",
    "\n",
    "K_lst = [i for i in range(2, 201)]  # 2 to 50\n",
    "params = {'n_neighbors': K_lst}\n",
    "\n",
    "knn = KNeighborsRegressor()\n",
    "\n",
    "model = GridSearchCV(knn, params, cv=3)\n",
    "model.fit(X_train, y_train)\n",
    "model.best_params_"
   ]
  },
  {
   "cell_type": "code",
   "execution_count": 316,
   "id": "810d41c7-f10b-4bd9-9a01-c117e20d0131",
   "metadata": {
    "tags": []
   },
   "outputs": [
    {
     "name": "stdout",
     "output_type": "stream",
     "text": [
      "Mean Squared Error: 41.9310018775075\n"
     ]
    }
   ],
   "source": [
    "knn_model = KNeighborsRegressor(n_neighbors=104)\n",
    "\n",
    "# Train the model\n",
    "knn_model.fit(X_train, y_train)\n",
    "\n",
    "# Make predictions\n",
    "y_pred = knn_model.predict(X_test)\n",
    "\n",
    "# Evaluate the model\n",
    "mse = sqrt(mean_squared_error(y_test, y_pred))\n",
    "print(\"Mean Squared Error:\", mse)"
   ]
  },
  {
   "cell_type": "markdown",
   "id": "52f25f4e-70a1-4d07-8fe4-395b80d9aa24",
   "metadata": {},
   "source": [
    "### Random Forest"
   ]
  },
  {
   "cell_type": "code",
   "execution_count": 272,
   "id": "417191cc-d503-4e35-94d3-d2cd65a201b0",
   "metadata": {
    "tags": []
   },
   "outputs": [
    {
     "data": {
      "text/html": [
       "<style>#sk-container-id-19 {color: black;}#sk-container-id-19 pre{padding: 0;}#sk-container-id-19 div.sk-toggleable {background-color: white;}#sk-container-id-19 label.sk-toggleable__label {cursor: pointer;display: block;width: 100%;margin-bottom: 0;padding: 0.3em;box-sizing: border-box;text-align: center;}#sk-container-id-19 label.sk-toggleable__label-arrow:before {content: \"▸\";float: left;margin-right: 0.25em;color: #696969;}#sk-container-id-19 label.sk-toggleable__label-arrow:hover:before {color: black;}#sk-container-id-19 div.sk-estimator:hover label.sk-toggleable__label-arrow:before {color: black;}#sk-container-id-19 div.sk-toggleable__content {max-height: 0;max-width: 0;overflow: hidden;text-align: left;background-color: #f0f8ff;}#sk-container-id-19 div.sk-toggleable__content pre {margin: 0.2em;color: black;border-radius: 0.25em;background-color: #f0f8ff;}#sk-container-id-19 input.sk-toggleable__control:checked~div.sk-toggleable__content {max-height: 200px;max-width: 100%;overflow: auto;}#sk-container-id-19 input.sk-toggleable__control:checked~label.sk-toggleable__label-arrow:before {content: \"▾\";}#sk-container-id-19 div.sk-estimator input.sk-toggleable__control:checked~label.sk-toggleable__label {background-color: #d4ebff;}#sk-container-id-19 div.sk-label input.sk-toggleable__control:checked~label.sk-toggleable__label {background-color: #d4ebff;}#sk-container-id-19 input.sk-hidden--visually {border: 0;clip: rect(1px 1px 1px 1px);clip: rect(1px, 1px, 1px, 1px);height: 1px;margin: -1px;overflow: hidden;padding: 0;position: absolute;width: 1px;}#sk-container-id-19 div.sk-estimator {font-family: monospace;background-color: #f0f8ff;border: 1px dotted black;border-radius: 0.25em;box-sizing: border-box;margin-bottom: 0.5em;}#sk-container-id-19 div.sk-estimator:hover {background-color: #d4ebff;}#sk-container-id-19 div.sk-parallel-item::after {content: \"\";width: 100%;border-bottom: 1px solid gray;flex-grow: 1;}#sk-container-id-19 div.sk-label:hover label.sk-toggleable__label {background-color: #d4ebff;}#sk-container-id-19 div.sk-serial::before {content: \"\";position: absolute;border-left: 1px solid gray;box-sizing: border-box;top: 0;bottom: 0;left: 50%;z-index: 0;}#sk-container-id-19 div.sk-serial {display: flex;flex-direction: column;align-items: center;background-color: white;padding-right: 0.2em;padding-left: 0.2em;position: relative;}#sk-container-id-19 div.sk-item {position: relative;z-index: 1;}#sk-container-id-19 div.sk-parallel {display: flex;align-items: stretch;justify-content: center;background-color: white;position: relative;}#sk-container-id-19 div.sk-item::before, #sk-container-id-19 div.sk-parallel-item::before {content: \"\";position: absolute;border-left: 1px solid gray;box-sizing: border-box;top: 0;bottom: 0;left: 50%;z-index: -1;}#sk-container-id-19 div.sk-parallel-item {display: flex;flex-direction: column;z-index: 1;position: relative;background-color: white;}#sk-container-id-19 div.sk-parallel-item:first-child::after {align-self: flex-end;width: 50%;}#sk-container-id-19 div.sk-parallel-item:last-child::after {align-self: flex-start;width: 50%;}#sk-container-id-19 div.sk-parallel-item:only-child::after {width: 0;}#sk-container-id-19 div.sk-dashed-wrapped {border: 1px dashed gray;margin: 0 0.4em 0.5em 0.4em;box-sizing: border-box;padding-bottom: 0.4em;background-color: white;}#sk-container-id-19 div.sk-label label {font-family: monospace;font-weight: bold;display: inline-block;line-height: 1.2em;}#sk-container-id-19 div.sk-label-container {text-align: center;}#sk-container-id-19 div.sk-container {/* jupyter's `normalize.less` sets `[hidden] { display: none; }` but bootstrap.min.css set `[hidden] { display: none !important; }` so we also need the `!important` here to be able to override the default hidden behavior on the sphinx rendered scikit-learn.org. See: https://github.com/scikit-learn/scikit-learn/issues/21755 */display: inline-block !important;position: relative;}#sk-container-id-19 div.sk-text-repr-fallback {display: none;}</style><div id=\"sk-container-id-19\" class=\"sk-top-container\"><div class=\"sk-text-repr-fallback\"><pre>RandomForestRegressor(random_state=42)</pre><b>In a Jupyter environment, please rerun this cell to show the HTML representation or trust the notebook. <br />On GitHub, the HTML representation is unable to render, please try loading this page with nbviewer.org.</b></div><div class=\"sk-container\" hidden><div class=\"sk-item\"><div class=\"sk-estimator sk-toggleable\"><input class=\"sk-toggleable__control sk-hidden--visually\" id=\"sk-estimator-id-19\" type=\"checkbox\" checked><label for=\"sk-estimator-id-19\" class=\"sk-toggleable__label sk-toggleable__label-arrow\">RandomForestRegressor</label><div class=\"sk-toggleable__content\"><pre>RandomForestRegressor(random_state=42)</pre></div></div></div></div></div>"
      ],
      "text/plain": [
       "RandomForestRegressor(random_state=42)"
      ]
     },
     "execution_count": 272,
     "metadata": {},
     "output_type": "execute_result"
    }
   ],
   "source": [
    "from sklearn.ensemble import RandomForestRegressor\n",
    "\n",
    "# You can adjust n_estimators, max_depth, and other parameters as needed\n",
    "rf_model = RandomForestRegressor(n_estimators=100, random_state=42)\n",
    "\n",
    "rf_model.fit(X_train, y_train)"
   ]
  },
  {
   "cell_type": "code",
   "execution_count": 301,
   "id": "ed654d4f-5b04-46b8-8e71-36e1f213ba9b",
   "metadata": {
    "tags": []
   },
   "outputs": [
    {
     "name": "stdout",
     "output_type": "stream",
     "text": [
      "Fitting 3 folds for each of 84 candidates, totalling 252 fits\n",
      "Best parameters: {'max_depth': 50, 'min_samples_leaf': 10, 'min_samples_split': 2, 'n_estimators': 200}\n",
      "Best score: 0.09253094601016836\n",
      "Mean Squared Error on Test Set: 1420.7380986293842\n",
      "Root Mean Squared Error on Test Set: 37.692679642463524\n",
      "R-squared on Test Set: 0.20575780944475963\n"
     ]
    }
   ],
   "source": [
    "# https://www.analyticsvidhya.com/blog/2015/06/tuning-random-forest-model/\n",
    "# Define the parameter grid\n",
    "param_grid = {\n",
    "    'n_estimators': [200],\n",
    "    'max_depth': [3, 5, 10, 20, 50, 100, 200],\n",
    "    'min_samples_split': [2, 5, 10], \n",
    "    'min_samples_leaf': [1, 10, 50, 100]\n",
    "}\n",
    "\n",
    "# Initialize the grid search model\n",
    "grid_search = GridSearchCV(RandomForestRegressor(random_state=42), param_grid, cv=3, n_jobs=-1, verbose=2)\n",
    "\n",
    "# Fit the grid search to the data\n",
    "grid_search.fit(X_train, y_train)\n",
    "\n",
    "# Evaluate the best model\n",
    "best_model = grid_search.best_estimator_\n",
    "y_pred = best_model.predict(X_test)\n",
    "mse = mean_squared_error(y_test, y_pred)\n",
    "rmse = sqrt(mean_squared_error(y_test, y_pred))\n",
    "r2 = r2_score(y_test, y_pred)\n",
    "\n",
    "# Print the best parameters and best score\n",
    "print(\"Best parameters:\", grid_search.best_params_)\n",
    "print(\"Best score:\", grid_search.best_score_)\n",
    "\n",
    "print(\"Mean Squared Error on Test Set:\", mse)\n",
    "print(\"Root Mean Squared Error on Test Set:\", rmse)\n",
    "print(\"R-squared on Test Set:\", r2)"
   ]
  },
  {
   "cell_type": "code",
   "execution_count": 278,
   "id": "247c095e-6411-4270-ba3c-e1a8f0e4b9f1",
   "metadata": {
    "collapsed": true,
    "jupyter": {
     "outputs_hidden": true
    },
    "tags": []
   },
   "outputs": [
    {
     "name": "stderr",
     "output_type": "stream",
     "text": [
      "[I 2023-12-21 04:34:49,556] A new study created in memory with name: no-name-4eebd269-9b12-44f6-b991-06c8603a038e\n",
      "[I 2023-12-21 04:34:50,925] Trial 0 finished with value: 1374.2441946210758 and parameters: {'n_estimators': 300, 'max_depth': 30}. Best is trial 0 with value: 1374.2441946210758.\n",
      "[I 2023-12-21 04:34:51,379] Trial 1 finished with value: 1336.0097627302973 and parameters: {'n_estimators': 100, 'max_depth': 30}. Best is trial 1 with value: 1336.0097627302973.\n",
      "[I 2023-12-21 04:34:51,429] Trial 2 finished with value: 1414.3189436619718 and parameters: {'n_estimators': 10, 'max_depth': 50}. Best is trial 1 with value: 1336.0097627302973.\n",
      "[I 2023-12-21 04:34:51,478] Trial 3 finished with value: 1454.9891551951528 and parameters: {'n_estimators': 10, 'max_depth': 30}. Best is trial 1 with value: 1336.0097627302973.\n",
      "[I 2023-12-21 04:34:51,939] Trial 4 finished with value: 1342.944115523445 and parameters: {'n_estimators': 100, 'max_depth': 30}. Best is trial 1 with value: 1336.0097627302973.\n",
      "[I 2023-12-21 04:34:52,335] Trial 5 finished with value: 1352.7364048238924 and parameters: {'n_estimators': 100, 'max_depth': 20}. Best is trial 1 with value: 1336.0097627302973.\n",
      "[I 2023-12-21 04:34:53,270] Trial 6 finished with value: 1344.4612165492958 and parameters: {'n_estimators': 200, 'max_depth': 50}. Best is trial 1 with value: 1336.0097627302973.\n",
      "[I 2023-12-21 04:34:54,186] Trial 7 finished with value: 1334.0554938376997 and parameters: {'n_estimators': 200, 'max_depth': 30}. Best is trial 7 with value: 1334.0554938376997.\n",
      "[I 2023-12-21 04:34:54,574] Trial 8 finished with value: 1354.5768653995444 and parameters: {'n_estimators': 100, 'max_depth': 20}. Best is trial 7 with value: 1334.0554938376997.\n",
      "[I 2023-12-21 04:34:55,945] Trial 9 finished with value: 1329.0933198748046 and parameters: {'n_estimators': 300, 'max_depth': 60}. Best is trial 9 with value: 1329.0933198748046.\n",
      "[I 2023-12-21 04:34:57,323] Trial 10 finished with value: 1357.8794517996869 and parameters: {'n_estimators': 300, 'max_depth': 60}. Best is trial 9 with value: 1329.0933198748046.\n",
      "[I 2023-12-21 04:34:57,445] Trial 11 finished with value: 1420.2143521972232 and parameters: {'n_estimators': 50, 'max_depth': 10}. Best is trial 9 with value: 1329.0933198748046.\n",
      "[I 2023-12-21 04:34:58,386] Trial 12 finished with value: 1357.3576214788734 and parameters: {'n_estimators': 200, 'max_depth': 60}. Best is trial 9 with value: 1329.0933198748046.\n",
      "[I 2023-12-21 04:34:59,336] Trial 13 finished with value: 1377.553129699726 and parameters: {'n_estimators': 200, 'max_depth': 40}. Best is trial 9 with value: 1329.0933198748046.\n",
      "[I 2023-12-21 04:35:00,747] Trial 14 finished with value: 1379.8916290297338 and parameters: {'n_estimators': 300, 'max_depth': 60}. Best is trial 9 with value: 1329.0933198748046.\n",
      "[I 2023-12-21 04:35:00,985] Trial 15 finished with value: 1342.0447283271055 and parameters: {'n_estimators': 50, 'max_depth': 40}. Best is trial 9 with value: 1329.0933198748046.\n",
      "[I 2023-12-21 04:35:02,410] Trial 16 finished with value: 1347.8865722222222 and parameters: {'n_estimators': 300, 'max_depth': 60}. Best is trial 9 with value: 1329.0933198748046.\n",
      "[I 2023-12-21 04:35:03,342] Trial 17 finished with value: 1368.483785534519 and parameters: {'n_estimators': 200, 'max_depth': 30}. Best is trial 9 with value: 1329.0933198748046.\n",
      "[I 2023-12-21 04:35:03,807] Trial 18 finished with value: 1390.972914476494 and parameters: {'n_estimators': 200, 'max_depth': 10}. Best is trial 9 with value: 1329.0933198748046.\n",
      "[I 2023-12-21 04:35:05,185] Trial 19 finished with value: 1371.5797899061033 and parameters: {'n_estimators': 300, 'max_depth': 60}. Best is trial 9 with value: 1329.0933198748046.\n",
      "[I 2023-12-21 04:35:05,237] Trial 20 finished with value: 1348.3401408450704 and parameters: {'n_estimators': 10, 'max_depth': 50}. Best is trial 9 with value: 1329.0933198748046.\n",
      "[I 2023-12-21 04:35:05,694] Trial 21 finished with value: 1362.3040547368803 and parameters: {'n_estimators': 100, 'max_depth': 30}. Best is trial 9 with value: 1329.0933198748046.\n",
      "[I 2023-12-21 04:35:06,150] Trial 22 finished with value: 1341.9232318622178 and parameters: {'n_estimators': 100, 'max_depth': 30}. Best is trial 9 with value: 1329.0933198748046.\n",
      "[I 2023-12-21 04:35:06,381] Trial 23 finished with value: 1398.5995890890606 and parameters: {'n_estimators': 50, 'max_depth': 30}. Best is trial 9 with value: 1329.0933198748046.\n",
      "[I 2023-12-21 04:35:07,288] Trial 24 finished with value: 1335.5587693377724 and parameters: {'n_estimators': 200, 'max_depth': 30}. Best is trial 9 with value: 1329.0933198748046.\n",
      "[I 2023-12-21 04:35:08,215] Trial 25 finished with value: 1347.4706269231708 and parameters: {'n_estimators': 200, 'max_depth': 40}. Best is trial 9 with value: 1329.0933198748046.\n",
      "[I 2023-12-21 04:35:08,689] Trial 26 finished with value: 1415.495756150739 and parameters: {'n_estimators': 200, 'max_depth': 10}. Best is trial 9 with value: 1329.0933198748046.\n",
      "[I 2023-12-21 04:35:09,473] Trial 27 finished with value: 1340.1457327600967 and parameters: {'n_estimators': 200, 'max_depth': 20}. Best is trial 9 with value: 1329.0933198748046.\n",
      "[I 2023-12-21 04:35:10,881] Trial 28 finished with value: 1348.4615033646323 and parameters: {'n_estimators': 300, 'max_depth': 60}. Best is trial 9 with value: 1329.0933198748046.\n",
      "[I 2023-12-21 04:35:12,286] Trial 29 finished with value: 1360.5186658628659 and parameters: {'n_estimators': 300, 'max_depth': 30}. Best is trial 9 with value: 1329.0933198748046.\n",
      "[I 2023-12-21 04:35:13,199] Trial 30 finished with value: 1361.5053733761365 and parameters: {'n_estimators': 200, 'max_depth': 30}. Best is trial 9 with value: 1329.0933198748046.\n",
      "[I 2023-12-21 04:35:13,657] Trial 31 finished with value: 1382.1626421928065 and parameters: {'n_estimators': 100, 'max_depth': 30}. Best is trial 9 with value: 1329.0933198748046.\n",
      "[I 2023-12-21 04:35:13,707] Trial 32 finished with value: 1469.1904894384554 and parameters: {'n_estimators': 10, 'max_depth': 30}. Best is trial 9 with value: 1329.0933198748046.\n",
      "[I 2023-12-21 04:35:14,613] Trial 33 finished with value: 1369.9511898258643 and parameters: {'n_estimators': 200, 'max_depth': 30}. Best is trial 9 with value: 1329.0933198748046.\n",
      "[I 2023-12-21 04:35:15,072] Trial 34 finished with value: 1350.3413600281617 and parameters: {'n_estimators': 100, 'max_depth': 30}. Best is trial 9 with value: 1329.0933198748046.\n",
      "[I 2023-12-21 04:35:15,124] Trial 35 finished with value: 1516.04838028169 and parameters: {'n_estimators': 10, 'max_depth': 50}. Best is trial 9 with value: 1329.0933198748046.\n",
      "[I 2023-12-21 04:35:16,483] Trial 36 finished with value: 1342.4050962336812 and parameters: {'n_estimators': 300, 'max_depth': 30}. Best is trial 9 with value: 1329.0933198748046.\n",
      "[I 2023-12-21 04:35:16,871] Trial 37 finished with value: 1384.55602155417 and parameters: {'n_estimators': 100, 'max_depth': 20}. Best is trial 9 with value: 1329.0933198748046.\n",
      "[I 2023-12-21 04:35:17,777] Trial 38 finished with value: 1359.2593136828089 and parameters: {'n_estimators': 200, 'max_depth': 30}. Best is trial 9 with value: 1329.0933198748046.\n",
      "[I 2023-12-21 04:35:18,015] Trial 39 finished with value: 1380.7695014084507 and parameters: {'n_estimators': 50, 'max_depth': 60}. Best is trial 9 with value: 1329.0933198748046.\n",
      "[I 2023-12-21 04:35:18,478] Trial 40 finished with value: 1353.0018943661973 and parameters: {'n_estimators': 100, 'max_depth': 50}. Best is trial 9 with value: 1329.0933198748046.\n",
      "[I 2023-12-21 04:35:19,258] Trial 41 finished with value: 1343.2452846216233 and parameters: {'n_estimators': 200, 'max_depth': 20}. Best is trial 9 with value: 1329.0933198748046.\n",
      "[I 2023-12-21 04:35:20,046] Trial 42 finished with value: 1334.0506124563847 and parameters: {'n_estimators': 200, 'max_depth': 20}. Best is trial 9 with value: 1329.0933198748046.\n"
     ]
    },
    {
     "name": "stdout",
     "output_type": "stream",
     "text": [
      "[CV] END max_depth=10, min_samples_split=5, n_estimators=200; total time=   0.6s\n",
      "[CV] END max_depth=20, min_samples_split=5, n_estimators=100; total time=   0.4s\n",
      "[CV] END max_depth=20, min_samples_split=10, n_estimators=300; total time=   1.2s\n",
      "[CV] END max_depth=10, min_samples_split=5, n_estimators=300; total time=   0.8s\n",
      "[CV] END max_depth=20, min_samples_split=10, n_estimators=100; total time=   0.4s\n",
      "[CV] END max_depth=30, min_samples_split=2, n_estimators=200; total time=   1.0s\n",
      "[CV] END max_depth=10, min_samples_split=5, n_estimators=200; total time=   0.6s\n",
      "[CV] END max_depth=20, min_samples_split=5, n_estimators=100; total time=   0.4s\n",
      "[CV] END max_depth=20, min_samples_split=10, n_estimators=300; total time=   1.1s\n",
      "[CV] END max_depth=10, min_samples_split=2, n_estimators=100; total time=   0.3s\n",
      "[CV] END max_depth=20, min_samples_split=2, n_estimators=200; total time=   0.9s\n",
      "[CV] END max_depth=30, min_samples_split=2, n_estimators=200; total time=   1.0s\n",
      "[CV] END max_depth=10, min_samples_split=2, n_estimators=200; total time=   0.6s\n",
      "[CV] END max_depth=20, min_samples_split=5, n_estimators=100; total time=   0.5s\n",
      "[CV] END max_depth=20, min_samples_split=10, n_estimators=300; total time=   1.1s\n",
      "[CV] END max_depth=10, min_samples_split=5, n_estimators=100; total time=   0.3s\n",
      "[CV] END max_depth=20, min_samples_split=2, n_estimators=200; total time=   0.9s\n",
      "[CV] END max_depth=30, min_samples_split=2, n_estimators=200; total time=   1.0s\n",
      "[CV] END max_depth=10, min_samples_split=2, n_estimators=200; total time=   0.6s\n",
      "[CV] END max_depth=20, min_samples_split=5, n_estimators=200; total time=   0.8s\n",
      "[CV] END max_depth=30, min_samples_split=5, n_estimators=100; total time=   0.4s\n",
      "[CV] END max_depth=30, min_samples_split=10, n_estimators=100; total time=   0.4s\n",
      "[CV] END max_depth=10, min_samples_split=10, n_estimators=200; total time=   0.5s\n",
      "[CV] END max_depth=20, min_samples_split=2, n_estimators=300; total time=   1.3s\n",
      "[CV] END max_depth=30, min_samples_split=10, n_estimators=100; total time=   0.4s\n",
      "[CV] END max_depth=10, min_samples_split=10, n_estimators=200; total time=   0.6s\n",
      "[CV] END max_depth=20, min_samples_split=5, n_estimators=200; total time=   0.8s\n",
      "[CV] END max_depth=30, min_samples_split=5, n_estimators=100; total time=   0.4s\n",
      "[CV] END max_depth=30, min_samples_split=10, n_estimators=100; total time=   0.4s\n"
     ]
    },
    {
     "name": "stderr",
     "output_type": "stream",
     "text": [
      "[I 2023-12-21 04:35:20,857] Trial 43 finished with value: 1346.9479648540528 and parameters: {'n_estimators': 200, 'max_depth': 20}. Best is trial 9 with value: 1329.0933198748046.\n"
     ]
    },
    {
     "name": "stdout",
     "output_type": "stream",
     "text": [
      "[CV] END max_depth=10, min_samples_split=10, n_estimators=100; total time=   0.3s\n",
      "[CV] END max_depth=10, min_samples_split=10, n_estimators=300; total time=   0.8s\n",
      "[CV] END max_depth=30, min_samples_split=2, n_estimators=100; total time=   0.5s\n",
      "[CV] END max_depth=30, min_samples_split=5, n_estimators=200; total time=   0.8s\n",
      "[CV] END max_depth=10, min_samples_split=10, n_estimators=100; total time=   0.3s\n",
      "[CV] END max_depth=10, min_samples_split=10, n_estimators=300; total time=   0.8s\n",
      "[CV] END max_depth=30, min_samples_split=2, n_estimators=100; total time=   0.5s\n",
      "[CV] END max_depth=30, min_samples_split=5, n_estimators=200; total time=   0.8s\n",
      "[CV] END max_depth=10, min_samples_split=2, n_estimators=300; total time=   0.9s\n",
      "[CV] END max_depth=20, min_samples_split=10, n_estimators=200; total time=   0.7s\n",
      "[CV] END max_depth=30, min_samples_split=5, n_estimators=200; total time=   0.8s\n",
      "[CV] END max_depth=10, min_samples_split=2, n_estimators=300; total time=   0.9s\n",
      "[CV] END max_depth=20, min_samples_split=10, n_estimators=100; total time=   0.4s\n",
      "[CV] END max_depth=30, min_samples_split=2, n_estimators=300; total time=   1.4s\n",
      "[CV] END max_depth=10, min_samples_split=2, n_estimators=200; total time=   0.6s\n",
      "[CV] END max_depth=20, min_samples_split=2, n_estimators=300; total time=   1.4s\n",
      "[CV] END max_depth=30, min_samples_split=10, n_estimators=200; total time=   0.7s\n",
      "[CV] END max_depth=10, min_samples_split=10, n_estimators=200; total time=   0.6s\n",
      "[CV] END max_depth=20, min_samples_split=2, n_estimators=300; total time=   1.4s\n",
      "[CV] END max_depth=30, min_samples_split=10, n_estimators=200; total time=   0.6s\n",
      "[CV] END max_depth=10, min_samples_split=5, n_estimators=200; total time=   0.6s\n",
      "[CV] END max_depth=20, min_samples_split=5, n_estimators=200; total time=   0.9s\n",
      "[CV] END max_depth=30, min_samples_split=5, n_estimators=100; total time=   0.5s\n",
      "[CV] END max_depth=30, min_samples_split=10, n_estimators=200; total time=   0.6s\n",
      "[CV] END max_depth=10, min_samples_split=5, n_estimators=300; total time=   0.9s\n",
      "[CV] END max_depth=20, min_samples_split=10, n_estimators=100; total time=   0.4s\n",
      "[CV] END max_depth=30, min_samples_split=2, n_estimators=300; total time=   1.4s\n",
      "[CV] END max_depth=10, min_samples_split=2, n_estimators=100; total time=   0.3s\n",
      "[CV] END max_depth=20, min_samples_split=2, n_estimators=200; total time=   0.9s\n",
      "[CV] END max_depth=30, min_samples_split=2, n_estimators=300; total time=   1.4s\n",
      "[CV] END max_depth=10, min_samples_split=5, n_estimators=100; total time=   0.3s\n",
      "[CV] END max_depth=10, min_samples_split=10, n_estimators=300; total time=   0.8s\n",
      "[CV] END max_depth=30, min_samples_split=2, n_estimators=100; total time=   0.5s\n",
      "[CV] END max_depth=30, min_samples_split=5, n_estimators=300; total time=   1.1s\n",
      "[CV] END max_depth=10, min_samples_split=2, n_estimators=300; total time=   0.9s\n",
      "[CV] END max_depth=20, min_samples_split=10, n_estimators=200; total time=   0.7s\n",
      "[CV] END max_depth=30, min_samples_split=5, n_estimators=300; total time=   1.2s\n",
      "[CV] END max_depth=10, min_samples_split=5, n_estimators=300; total time=   0.9s\n",
      "[CV] END max_depth=20, min_samples_split=10, n_estimators=200; total time=   0.8s\n",
      "[CV] END max_depth=30, min_samples_split=5, n_estimators=300; total time=   1.2s\n"
     ]
    },
    {
     "name": "stderr",
     "output_type": "stream",
     "text": [
      "[I 2023-12-21 04:35:21,647] Trial 44 finished with value: 1364.5713465174679 and parameters: {'n_estimators': 200, 'max_depth': 20}. Best is trial 9 with value: 1329.0933198748046.\n"
     ]
    },
    {
     "name": "stdout",
     "output_type": "stream",
     "text": [
      "[CV] END max_depth=10, min_samples_split=2, n_estimators=100; total time=   0.3s\n",
      "[CV] END max_depth=20, min_samples_split=2, n_estimators=100; total time=   0.5s\n",
      "[CV] END max_depth=20, min_samples_split=5, n_estimators=300; total time=   1.3s\n",
      "[CV] END max_depth=30, min_samples_split=10, n_estimators=300; total time=   0.8s\n",
      "[CV] END max_depth=10, min_samples_split=10, n_estimators=100; total time=   0.3s\n",
      "[CV] END max_depth=20, min_samples_split=2, n_estimators=100; total time=   0.5s\n",
      "[CV] END max_depth=20, min_samples_split=5, n_estimators=300; total time=   1.3s\n",
      "[CV] END max_depth=30, min_samples_split=10, n_estimators=300; total time=   0.9s\n",
      "[CV] END max_depth=10, min_samples_split=5, n_estimators=100; total time=   0.3s\n",
      "[CV] END max_depth=20, min_samples_split=2, n_estimators=100; total time=   0.5s\n",
      "[CV] END max_depth=20, min_samples_split=5, n_estimators=300; total time=   1.2s\n",
      "[CV] END max_depth=30, min_samples_split=10, n_estimators=300; total time=   0.9s\n"
     ]
    },
    {
     "name": "stderr",
     "output_type": "stream",
     "text": [
      "[I 2023-12-21 04:35:22,570] Trial 45 finished with value: 1350.5673003380161 and parameters: {'n_estimators': 200, 'max_depth': 40}. Best is trial 9 with value: 1329.0933198748046.\n",
      "[I 2023-12-21 04:35:23,270] Trial 46 finished with value: 1394.4100140917883 and parameters: {'n_estimators': 300, 'max_depth': 10}. Best is trial 9 with value: 1329.0933198748046.\n",
      "[I 2023-12-21 04:35:24,220] Trial 47 finished with value: 1331.044214964789 and parameters: {'n_estimators': 200, 'max_depth': 60}. Best is trial 9 with value: 1329.0933198748046.\n",
      "[I 2023-12-21 04:35:25,149] Trial 48 finished with value: 1370.063700528169 and parameters: {'n_estimators': 200, 'max_depth': 60}. Best is trial 9 with value: 1329.0933198748046.\n",
      "[I 2023-12-21 04:35:26,103] Trial 49 finished with value: 1371.9656985915494 and parameters: {'n_estimators': 200, 'max_depth': 60}. Best is trial 9 with value: 1329.0933198748046.\n"
     ]
    }
   ],
   "source": [
    "def objective(trial):\n",
    "    # Define the hyperparameters' search space\n",
    "    n_estimators = trial.suggest_categorical('n_estimators', [10, 50, 100, 200, 300, 400, 500, 600])\n",
    "    max_depth = trial.suggest_categorical('max_depth', [10, 20, 30, 40, 50, 60])\n",
    "\n",
    "    # Create and train the model\n",
    "    model = RandomForestRegressor(n_estimators=n_estimators, max_depth=max_depth)\n",
    "    model.fit(X_train, y_train)\n",
    "\n",
    "    # Make predictions and calculate the error\n",
    "    preds = model.predict(X_test)\n",
    "    mse = mean_squared_error(y_test, preds)\n",
    "\n",
    "    return mse\n",
    "\n",
    "# Create a study object and specify direction as 'minimize' for MSE\n",
    "study = optuna.create_study(direction='minimize')\n",
    "\n",
    "# Perform optimization\n",
    "study.optimize(objective, n_trials=50)  # Number of trials is combinations of hyperparameters"
   ]
  },
  {
   "cell_type": "code",
   "execution_count": 279,
   "id": "506bb19a-9ac4-4ccf-856a-8f2e42382222",
   "metadata": {
    "tags": []
   },
   "outputs": [
    {
     "name": "stdout",
     "output_type": "stream",
     "text": [
      "Best hyperparameters: {'n_estimators': 300, 'max_depth': 60}\n"
     ]
    }
   ],
   "source": [
    "# Best hyperparameters\n",
    "print('Best hyperparameters:', study.best_params)"
   ]
  },
  {
   "cell_type": "code",
   "execution_count": 280,
   "id": "1703af3a-70c1-4665-b2f2-928cca2ccb18",
   "metadata": {
    "tags": []
   },
   "outputs": [
    {
     "data": {
      "application/vnd.plotly.v1+json": {
       "config": {
        "plotlyServerURL": "https://plot.ly"
       },
       "data": [
        {
         "autocontour": true,
         "colorbar": {
          "title": {
           "text": "Objective Value"
          }
         },
         "colorscale": [
          [
           0,
           "rgb(247,251,255)"
          ],
          [
           0.125,
           "rgb(222,235,247)"
          ],
          [
           0.25,
           "rgb(198,219,239)"
          ],
          [
           0.375,
           "rgb(158,202,225)"
          ],
          [
           0.5,
           "rgb(107,174,214)"
          ],
          [
           0.625,
           "rgb(66,146,198)"
          ],
          [
           0.75,
           "rgb(33,113,181)"
          ],
          [
           0.875,
           "rgb(8,81,156)"
          ],
          [
           1,
           "rgb(8,48,107)"
          ]
         ],
         "connectgaps": true,
         "contours": {
          "coloring": "heatmap",
          "end": 1450,
          "size": 10,
          "start": 1330
         },
         "hoverinfo": "none",
         "line": {
          "smoothing": 1.3
         },
         "reversescale": true,
         "type": "contour",
         "x": [
          7.5,
          10,
          20,
          30,
          40,
          50,
          60,
          62.5
         ],
         "y": [
          -4.5,
          10,
          50,
          100,
          200,
          300,
          314.5
         ],
         "z": [
          [
           null,
           null,
           null,
           null,
           null,
           null,
           null,
           null
          ],
          [
           null,
           null,
           null,
           1454.9891551951528,
           null,
           1348.3401408450704,
           null,
           null
          ],
          [
           null,
           1420.2143521972232,
           null,
           1398.5995890890606,
           1342.0447283271055,
           null,
           1380.7695014084507,
           null
          ],
          [
           null,
           null,
           1352.7364048238924,
           1336.0097627302973,
           null,
           1353.0018943661973,
           null,
           null
          ],
          [
           null,
           1390.972914476494,
           1334.0506124563847,
           1334.0554938376997,
           1347.4706269231708,
           1344.4612165492958,
           1331.044214964789,
           null
          ],
          [
           null,
           1394.4100140917883,
           null,
           1342.4050962336812,
           null,
           null,
           1329.0933198748046,
           null
          ],
          [
           null,
           null,
           null,
           null,
           null,
           null,
           null,
           null
          ]
         ]
        },
        {
         "marker": {
          "color": "black",
          "line": {
           "color": "Gray",
           "width": 2
          }
         },
         "mode": "markers",
         "name": "Feasible Trial",
         "showlegend": false,
         "type": "scatter",
         "x": [
          30,
          30,
          50,
          30,
          30,
          20,
          50,
          30,
          20,
          60,
          60,
          10,
          60,
          40,
          60,
          40,
          60,
          30,
          10,
          60,
          50,
          30,
          30,
          30,
          30,
          40,
          10,
          20,
          60,
          30,
          30,
          30,
          30,
          30,
          30,
          50,
          30,
          20,
          30,
          60,
          50,
          20,
          20,
          20,
          20,
          40,
          10,
          60,
          60,
          60
         ],
         "y": [
          300,
          100,
          10,
          10,
          100,
          100,
          200,
          200,
          100,
          300,
          300,
          50,
          200,
          200,
          300,
          50,
          300,
          200,
          200,
          300,
          10,
          100,
          100,
          50,
          200,
          200,
          200,
          200,
          300,
          300,
          200,
          100,
          10,
          200,
          100,
          10,
          300,
          100,
          200,
          50,
          100,
          200,
          200,
          200,
          200,
          200,
          300,
          200,
          200,
          200
         ]
        },
        {
         "marker": {
          "color": "#cccccc",
          "line": {
           "color": "Gray",
           "width": 2
          }
         },
         "mode": "markers",
         "name": "Infeasible Trial",
         "showlegend": false,
         "type": "scatter",
         "x": [],
         "y": []
        }
       ],
       "layout": {
        "autosize": true,
        "template": {
         "data": {
          "bar": [
           {
            "error_x": {
             "color": "#2a3f5f"
            },
            "error_y": {
             "color": "#2a3f5f"
            },
            "marker": {
             "line": {
              "color": "#E5ECF6",
              "width": 0.5
             },
             "pattern": {
              "fillmode": "overlay",
              "size": 10,
              "solidity": 0.2
             }
            },
            "type": "bar"
           }
          ],
          "barpolar": [
           {
            "marker": {
             "line": {
              "color": "#E5ECF6",
              "width": 0.5
             },
             "pattern": {
              "fillmode": "overlay",
              "size": 10,
              "solidity": 0.2
             }
            },
            "type": "barpolar"
           }
          ],
          "carpet": [
           {
            "aaxis": {
             "endlinecolor": "#2a3f5f",
             "gridcolor": "white",
             "linecolor": "white",
             "minorgridcolor": "white",
             "startlinecolor": "#2a3f5f"
            },
            "baxis": {
             "endlinecolor": "#2a3f5f",
             "gridcolor": "white",
             "linecolor": "white",
             "minorgridcolor": "white",
             "startlinecolor": "#2a3f5f"
            },
            "type": "carpet"
           }
          ],
          "choropleth": [
           {
            "colorbar": {
             "outlinewidth": 0,
             "ticks": ""
            },
            "type": "choropleth"
           }
          ],
          "contour": [
           {
            "colorbar": {
             "outlinewidth": 0,
             "ticks": ""
            },
            "colorscale": [
             [
              0,
              "#0d0887"
             ],
             [
              0.1111111111111111,
              "#46039f"
             ],
             [
              0.2222222222222222,
              "#7201a8"
             ],
             [
              0.3333333333333333,
              "#9c179e"
             ],
             [
              0.4444444444444444,
              "#bd3786"
             ],
             [
              0.5555555555555556,
              "#d8576b"
             ],
             [
              0.6666666666666666,
              "#ed7953"
             ],
             [
              0.7777777777777778,
              "#fb9f3a"
             ],
             [
              0.8888888888888888,
              "#fdca26"
             ],
             [
              1,
              "#f0f921"
             ]
            ],
            "type": "contour"
           }
          ],
          "contourcarpet": [
           {
            "colorbar": {
             "outlinewidth": 0,
             "ticks": ""
            },
            "type": "contourcarpet"
           }
          ],
          "heatmap": [
           {
            "colorbar": {
             "outlinewidth": 0,
             "ticks": ""
            },
            "colorscale": [
             [
              0,
              "#0d0887"
             ],
             [
              0.1111111111111111,
              "#46039f"
             ],
             [
              0.2222222222222222,
              "#7201a8"
             ],
             [
              0.3333333333333333,
              "#9c179e"
             ],
             [
              0.4444444444444444,
              "#bd3786"
             ],
             [
              0.5555555555555556,
              "#d8576b"
             ],
             [
              0.6666666666666666,
              "#ed7953"
             ],
             [
              0.7777777777777778,
              "#fb9f3a"
             ],
             [
              0.8888888888888888,
              "#fdca26"
             ],
             [
              1,
              "#f0f921"
             ]
            ],
            "type": "heatmap"
           }
          ],
          "heatmapgl": [
           {
            "colorbar": {
             "outlinewidth": 0,
             "ticks": ""
            },
            "colorscale": [
             [
              0,
              "#0d0887"
             ],
             [
              0.1111111111111111,
              "#46039f"
             ],
             [
              0.2222222222222222,
              "#7201a8"
             ],
             [
              0.3333333333333333,
              "#9c179e"
             ],
             [
              0.4444444444444444,
              "#bd3786"
             ],
             [
              0.5555555555555556,
              "#d8576b"
             ],
             [
              0.6666666666666666,
              "#ed7953"
             ],
             [
              0.7777777777777778,
              "#fb9f3a"
             ],
             [
              0.8888888888888888,
              "#fdca26"
             ],
             [
              1,
              "#f0f921"
             ]
            ],
            "type": "heatmapgl"
           }
          ],
          "histogram": [
           {
            "marker": {
             "pattern": {
              "fillmode": "overlay",
              "size": 10,
              "solidity": 0.2
             }
            },
            "type": "histogram"
           }
          ],
          "histogram2d": [
           {
            "colorbar": {
             "outlinewidth": 0,
             "ticks": ""
            },
            "colorscale": [
             [
              0,
              "#0d0887"
             ],
             [
              0.1111111111111111,
              "#46039f"
             ],
             [
              0.2222222222222222,
              "#7201a8"
             ],
             [
              0.3333333333333333,
              "#9c179e"
             ],
             [
              0.4444444444444444,
              "#bd3786"
             ],
             [
              0.5555555555555556,
              "#d8576b"
             ],
             [
              0.6666666666666666,
              "#ed7953"
             ],
             [
              0.7777777777777778,
              "#fb9f3a"
             ],
             [
              0.8888888888888888,
              "#fdca26"
             ],
             [
              1,
              "#f0f921"
             ]
            ],
            "type": "histogram2d"
           }
          ],
          "histogram2dcontour": [
           {
            "colorbar": {
             "outlinewidth": 0,
             "ticks": ""
            },
            "colorscale": [
             [
              0,
              "#0d0887"
             ],
             [
              0.1111111111111111,
              "#46039f"
             ],
             [
              0.2222222222222222,
              "#7201a8"
             ],
             [
              0.3333333333333333,
              "#9c179e"
             ],
             [
              0.4444444444444444,
              "#bd3786"
             ],
             [
              0.5555555555555556,
              "#d8576b"
             ],
             [
              0.6666666666666666,
              "#ed7953"
             ],
             [
              0.7777777777777778,
              "#fb9f3a"
             ],
             [
              0.8888888888888888,
              "#fdca26"
             ],
             [
              1,
              "#f0f921"
             ]
            ],
            "type": "histogram2dcontour"
           }
          ],
          "mesh3d": [
           {
            "colorbar": {
             "outlinewidth": 0,
             "ticks": ""
            },
            "type": "mesh3d"
           }
          ],
          "parcoords": [
           {
            "line": {
             "colorbar": {
              "outlinewidth": 0,
              "ticks": ""
             }
            },
            "type": "parcoords"
           }
          ],
          "pie": [
           {
            "automargin": true,
            "type": "pie"
           }
          ],
          "scatter": [
           {
            "fillpattern": {
             "fillmode": "overlay",
             "size": 10,
             "solidity": 0.2
            },
            "type": "scatter"
           }
          ],
          "scatter3d": [
           {
            "line": {
             "colorbar": {
              "outlinewidth": 0,
              "ticks": ""
             }
            },
            "marker": {
             "colorbar": {
              "outlinewidth": 0,
              "ticks": ""
             }
            },
            "type": "scatter3d"
           }
          ],
          "scattercarpet": [
           {
            "marker": {
             "colorbar": {
              "outlinewidth": 0,
              "ticks": ""
             }
            },
            "type": "scattercarpet"
           }
          ],
          "scattergeo": [
           {
            "marker": {
             "colorbar": {
              "outlinewidth": 0,
              "ticks": ""
             }
            },
            "type": "scattergeo"
           }
          ],
          "scattergl": [
           {
            "marker": {
             "colorbar": {
              "outlinewidth": 0,
              "ticks": ""
             }
            },
            "type": "scattergl"
           }
          ],
          "scattermapbox": [
           {
            "marker": {
             "colorbar": {
              "outlinewidth": 0,
              "ticks": ""
             }
            },
            "type": "scattermapbox"
           }
          ],
          "scatterpolar": [
           {
            "marker": {
             "colorbar": {
              "outlinewidth": 0,
              "ticks": ""
             }
            },
            "type": "scatterpolar"
           }
          ],
          "scatterpolargl": [
           {
            "marker": {
             "colorbar": {
              "outlinewidth": 0,
              "ticks": ""
             }
            },
            "type": "scatterpolargl"
           }
          ],
          "scatterternary": [
           {
            "marker": {
             "colorbar": {
              "outlinewidth": 0,
              "ticks": ""
             }
            },
            "type": "scatterternary"
           }
          ],
          "surface": [
           {
            "colorbar": {
             "outlinewidth": 0,
             "ticks": ""
            },
            "colorscale": [
             [
              0,
              "#0d0887"
             ],
             [
              0.1111111111111111,
              "#46039f"
             ],
             [
              0.2222222222222222,
              "#7201a8"
             ],
             [
              0.3333333333333333,
              "#9c179e"
             ],
             [
              0.4444444444444444,
              "#bd3786"
             ],
             [
              0.5555555555555556,
              "#d8576b"
             ],
             [
              0.6666666666666666,
              "#ed7953"
             ],
             [
              0.7777777777777778,
              "#fb9f3a"
             ],
             [
              0.8888888888888888,
              "#fdca26"
             ],
             [
              1,
              "#f0f921"
             ]
            ],
            "type": "surface"
           }
          ],
          "table": [
           {
            "cells": {
             "fill": {
              "color": "#EBF0F8"
             },
             "line": {
              "color": "white"
             }
            },
            "header": {
             "fill": {
              "color": "#C8D4E3"
             },
             "line": {
              "color": "white"
             }
            },
            "type": "table"
           }
          ]
         },
         "layout": {
          "annotationdefaults": {
           "arrowcolor": "#2a3f5f",
           "arrowhead": 0,
           "arrowwidth": 1
          },
          "autotypenumbers": "strict",
          "coloraxis": {
           "colorbar": {
            "outlinewidth": 0,
            "ticks": ""
           }
          },
          "colorscale": {
           "diverging": [
            [
             0,
             "#8e0152"
            ],
            [
             0.1,
             "#c51b7d"
            ],
            [
             0.2,
             "#de77ae"
            ],
            [
             0.3,
             "#f1b6da"
            ],
            [
             0.4,
             "#fde0ef"
            ],
            [
             0.5,
             "#f7f7f7"
            ],
            [
             0.6,
             "#e6f5d0"
            ],
            [
             0.7,
             "#b8e186"
            ],
            [
             0.8,
             "#7fbc41"
            ],
            [
             0.9,
             "#4d9221"
            ],
            [
             1,
             "#276419"
            ]
           ],
           "sequential": [
            [
             0,
             "#0d0887"
            ],
            [
             0.1111111111111111,
             "#46039f"
            ],
            [
             0.2222222222222222,
             "#7201a8"
            ],
            [
             0.3333333333333333,
             "#9c179e"
            ],
            [
             0.4444444444444444,
             "#bd3786"
            ],
            [
             0.5555555555555556,
             "#d8576b"
            ],
            [
             0.6666666666666666,
             "#ed7953"
            ],
            [
             0.7777777777777778,
             "#fb9f3a"
            ],
            [
             0.8888888888888888,
             "#fdca26"
            ],
            [
             1,
             "#f0f921"
            ]
           ],
           "sequentialminus": [
            [
             0,
             "#0d0887"
            ],
            [
             0.1111111111111111,
             "#46039f"
            ],
            [
             0.2222222222222222,
             "#7201a8"
            ],
            [
             0.3333333333333333,
             "#9c179e"
            ],
            [
             0.4444444444444444,
             "#bd3786"
            ],
            [
             0.5555555555555556,
             "#d8576b"
            ],
            [
             0.6666666666666666,
             "#ed7953"
            ],
            [
             0.7777777777777778,
             "#fb9f3a"
            ],
            [
             0.8888888888888888,
             "#fdca26"
            ],
            [
             1,
             "#f0f921"
            ]
           ]
          },
          "colorway": [
           "#636efa",
           "#EF553B",
           "#00cc96",
           "#ab63fa",
           "#FFA15A",
           "#19d3f3",
           "#FF6692",
           "#B6E880",
           "#FF97FF",
           "#FECB52"
          ],
          "font": {
           "color": "#2a3f5f"
          },
          "geo": {
           "bgcolor": "white",
           "lakecolor": "white",
           "landcolor": "#E5ECF6",
           "showlakes": true,
           "showland": true,
           "subunitcolor": "white"
          },
          "hoverlabel": {
           "align": "left"
          },
          "hovermode": "closest",
          "mapbox": {
           "style": "light"
          },
          "paper_bgcolor": "white",
          "plot_bgcolor": "#E5ECF6",
          "polar": {
           "angularaxis": {
            "gridcolor": "white",
            "linecolor": "white",
            "ticks": ""
           },
           "bgcolor": "#E5ECF6",
           "radialaxis": {
            "gridcolor": "white",
            "linecolor": "white",
            "ticks": ""
           }
          },
          "scene": {
           "xaxis": {
            "backgroundcolor": "#E5ECF6",
            "gridcolor": "white",
            "gridwidth": 2,
            "linecolor": "white",
            "showbackground": true,
            "ticks": "",
            "zerolinecolor": "white"
           },
           "yaxis": {
            "backgroundcolor": "#E5ECF6",
            "gridcolor": "white",
            "gridwidth": 2,
            "linecolor": "white",
            "showbackground": true,
            "ticks": "",
            "zerolinecolor": "white"
           },
           "zaxis": {
            "backgroundcolor": "#E5ECF6",
            "gridcolor": "white",
            "gridwidth": 2,
            "linecolor": "white",
            "showbackground": true,
            "ticks": "",
            "zerolinecolor": "white"
           }
          },
          "shapedefaults": {
           "line": {
            "color": "#2a3f5f"
           }
          },
          "ternary": {
           "aaxis": {
            "gridcolor": "white",
            "linecolor": "white",
            "ticks": ""
           },
           "baxis": {
            "gridcolor": "white",
            "linecolor": "white",
            "ticks": ""
           },
           "bgcolor": "#E5ECF6",
           "caxis": {
            "gridcolor": "white",
            "linecolor": "white",
            "ticks": ""
           }
          },
          "title": {
           "x": 0.05
          },
          "xaxis": {
           "automargin": true,
           "gridcolor": "white",
           "linecolor": "white",
           "ticks": "",
           "title": {
            "standoff": 15
           },
           "zerolinecolor": "white",
           "zerolinewidth": 2
          },
          "yaxis": {
           "automargin": true,
           "gridcolor": "white",
           "linecolor": "white",
           "ticks": "",
           "title": {
            "standoff": 15
           },
           "zerolinecolor": "white",
           "zerolinewidth": 2
          }
         }
        },
        "title": {
         "text": "Contour Plot"
        },
        "xaxis": {
         "range": [
          7.5,
          62.5
         ],
         "title": {
          "text": "max_depth"
         },
         "type": "linear"
        },
        "yaxis": {
         "range": [
          -4.5,
          314.5
         ],
         "title": {
          "text": "n_estimators"
         },
         "type": "linear"
        }
       }
      },
      "image/png": "[encoded data removed]",
      "text/html": [
       "<div>                            <div id=\"58b49631-7cbe-4370-b166-2e7c6d7ab43d\" class=\"plotly-graph-div\" style=\"height:525px; width:100%;\"></div>            <script type=\"text/javascript\">                require([\"plotly\"], function(Plotly) {                    window.PLOTLYENV=window.PLOTLYENV || {};                                    if (document.getElementById(\"58b49631-7cbe-4370-b166-2e7c6d7ab43d\")) {                    Plotly.newPlot(                        \"58b49631-7cbe-4370-b166-2e7c6d7ab43d\",                        [{\"colorbar\":{\"title\":{\"text\":\"Objective Value\"}},\"colorscale\":[[0.0,\"rgb(247,251,255)\"],[0.125,\"rgb(222,235,247)\"],[0.25,\"rgb(198,219,239)\"],[0.375,\"rgb(158,202,225)\"],[0.5,\"rgb(107,174,214)\"],[0.625,\"rgb(66,146,198)\"],[0.75,\"rgb(33,113,181)\"],[0.875,\"rgb(8,81,156)\"],[1.0,\"rgb(8,48,107)\"]],\"connectgaps\":true,\"contours\":{\"coloring\":\"heatmap\"},\"hoverinfo\":\"none\",\"line\":{\"smoothing\":1.3},\"reversescale\":true,\"x\":[7.5,10,20,30,40,50,60,62.5],\"y\":[-4.5,10,50,100,200,300,314.5],\"z\":[[null,null,null,null,null,null,null,null],[null,null,null,1454.9891551951528,null,1348.3401408450704,null,null],[null,1420.2143521972232,null,1398.5995890890606,1342.0447283271055,null,1380.7695014084507,null],[null,null,1352.7364048238924,1336.0097627302973,null,1353.0018943661973,null,null],[null,1390.972914476494,1334.0506124563847,1334.0554938376997,1347.4706269231708,1344.4612165492958,1331.044214964789,null],[null,1394.4100140917883,null,1342.4050962336812,null,null,1329.0933198748046,null],[null,null,null,null,null,null,null,null]],\"type\":\"contour\"},{\"marker\":{\"color\":\"black\",\"line\":{\"color\":\"Gray\",\"width\":2.0}},\"mode\":\"markers\",\"name\":\"Feasible Trial\",\"showlegend\":false,\"x\":[30,30,50,30,30,20,50,30,20,60,60,10,60,40,60,40,60,30,10,60,50,30,30,30,30,40,10,20,60,30,30,30,30,30,30,50,30,20,30,60,50,20,20,20,20,40,10,60,60,60],\"y\":[300,100,10,10,100,100,200,200,100,300,300,50,200,200,300,50,300,200,200,300,10,100,100,50,200,200,200,200,300,300,200,100,10,200,100,10,300,100,200,50,100,200,200,200,200,200,300,200,200,200],\"type\":\"scatter\"},{\"marker\":{\"color\":\"#cccccc\",\"line\":{\"color\":\"Gray\",\"width\":2.0}},\"mode\":\"markers\",\"name\":\"Infeasible Trial\",\"showlegend\":false,\"x\":[],\"y\":[],\"type\":\"scatter\"}],                        {\"title\":{\"text\":\"Contour Plot\"},\"template\":{\"data\":{\"histogram2dcontour\":[{\"type\":\"histogram2dcontour\",\"colorbar\":{\"outlinewidth\":0,\"ticks\":\"\"},\"colorscale\":[[0.0,\"#0d0887\"],[0.1111111111111111,\"#46039f\"],[0.2222222222222222,\"#7201a8\"],[0.3333333333333333,\"#9c179e\"],[0.4444444444444444,\"#bd3786\"],[0.5555555555555556,\"#d8576b\"],[0.6666666666666666,\"#ed7953\"],[0.7777777777777778,\"#fb9f3a\"],[0.8888888888888888,\"#fdca26\"],[1.0,\"#f0f921\"]]}],\"choropleth\":[{\"type\":\"choropleth\",\"colorbar\":{\"outlinewidth\":0,\"ticks\":\"\"}}],\"histogram2d\":[{\"type\":\"histogram2d\",\"colorbar\":{\"outlinewidth\":0,\"ticks\":\"\"},\"colorscale\":[[0.0,\"#0d0887\"],[0.1111111111111111,\"#46039f\"],[0.2222222222222222,\"#7201a8\"],[0.3333333333333333,\"#9c179e\"],[0.4444444444444444,\"#bd3786\"],[0.5555555555555556,\"#d8576b\"],[0.6666666666666666,\"#ed7953\"],[0.7777777777777778,\"#fb9f3a\"],[0.8888888888888888,\"#fdca26\"],[1.0,\"#f0f921\"]]}],\"heatmap\":[{\"type\":\"heatmap\",\"colorbar\":{\"outlinewidth\":0,\"ticks\":\"\"},\"colorscale\":[[0.0,\"#0d0887\"],[0.1111111111111111,\"#46039f\"],[0.2222222222222222,\"#7201a8\"],[0.3333333333333333,\"#9c179e\"],[0.4444444444444444,\"#bd3786\"],[0.5555555555555556,\"#d8576b\"],[0.6666666666666666,\"#ed7953\"],[0.7777777777777778,\"#fb9f3a\"],[0.8888888888888888,\"#fdca26\"],[1.0,\"#f0f921\"]]}],\"heatmapgl\":[{\"type\":\"heatmapgl\",\"colorbar\":{\"outlinewidth\":0,\"ticks\":\"\"},\"colorscale\":[[0.0,\"#0d0887\"],[0.1111111111111111,\"#46039f\"],[0.2222222222222222,\"#7201a8\"],[0.3333333333333333,\"#9c179e\"],[0.4444444444444444,\"#bd3786\"],[0.5555555555555556,\"#d8576b\"],[0.6666666666666666,\"#ed7953\"],[0.7777777777777778,\"#fb9f3a\"],[0.8888888888888888,\"#fdca26\"],[1.0,\"#f0f921\"]]}],\"contourcarpet\":[{\"type\":\"contourcarpet\",\"colorbar\":{\"outlinewidth\":0,\"ticks\":\"\"}}],\"contour\":[{\"type\":\"contour\",\"colorbar\":{\"outlinewidth\":0,\"ticks\":\"\"},\"colorscale\":[[0.0,\"#0d0887\"],[0.1111111111111111,\"#46039f\"],[0.2222222222222222,\"#7201a8\"],[0.3333333333333333,\"#9c179e\"],[0.4444444444444444,\"#bd3786\"],[0.5555555555555556,\"#d8576b\"],[0.6666666666666666,\"#ed7953\"],[0.7777777777777778,\"#fb9f3a\"],[0.8888888888888888,\"#fdca26\"],[1.0,\"#f0f921\"]]}],\"surface\":[{\"type\":\"surface\",\"colorbar\":{\"outlinewidth\":0,\"ticks\":\"\"},\"colorscale\":[[0.0,\"#0d0887\"],[0.1111111111111111,\"#46039f\"],[0.2222222222222222,\"#7201a8\"],[0.3333333333333333,\"#9c179e\"],[0.4444444444444444,\"#bd3786\"],[0.5555555555555556,\"#d8576b\"],[0.6666666666666666,\"#ed7953\"],[0.7777777777777778,\"#fb9f3a\"],[0.8888888888888888,\"#fdca26\"],[1.0,\"#f0f921\"]]}],\"mesh3d\":[{\"type\":\"mesh3d\",\"colorbar\":{\"outlinewidth\":0,\"ticks\":\"\"}}],\"scatter\":[{\"fillpattern\":{\"fillmode\":\"overlay\",\"size\":10,\"solidity\":0.2},\"type\":\"scatter\"}],\"parcoords\":[{\"type\":\"parcoords\",\"line\":{\"colorbar\":{\"outlinewidth\":0,\"ticks\":\"\"}}}],\"scatterpolargl\":[{\"type\":\"scatterpolargl\",\"marker\":{\"colorbar\":{\"outlinewidth\":0,\"ticks\":\"\"}}}],\"bar\":[{\"error_x\":{\"color\":\"#2a3f5f\"},\"error_y\":{\"color\":\"#2a3f5f\"},\"marker\":{\"line\":{\"color\":\"#E5ECF6\",\"width\":0.5},\"pattern\":{\"fillmode\":\"overlay\",\"size\":10,\"solidity\":0.2}},\"type\":\"bar\"}],\"scattergeo\":[{\"type\":\"scattergeo\",\"marker\":{\"colorbar\":{\"outlinewidth\":0,\"ticks\":\"\"}}}],\"scatterpolar\":[{\"type\":\"scatterpolar\",\"marker\":{\"colorbar\":{\"outlinewidth\":0,\"ticks\":\"\"}}}],\"histogram\":[{\"marker\":{\"pattern\":{\"fillmode\":\"overlay\",\"size\":10,\"solidity\":0.2}},\"type\":\"histogram\"}],\"scattergl\":[{\"type\":\"scattergl\",\"marker\":{\"colorbar\":{\"outlinewidth\":0,\"ticks\":\"\"}}}],\"scatter3d\":[{\"type\":\"scatter3d\",\"line\":{\"colorbar\":{\"outlinewidth\":0,\"ticks\":\"\"}},\"marker\":{\"colorbar\":{\"outlinewidth\":0,\"ticks\":\"\"}}}],\"scattermapbox\":[{\"type\":\"scattermapbox\",\"marker\":{\"colorbar\":{\"outlinewidth\":0,\"ticks\":\"\"}}}],\"scatterternary\":[{\"type\":\"scatterternary\",\"marker\":{\"colorbar\":{\"outlinewidth\":0,\"ticks\":\"\"}}}],\"scattercarpet\":[{\"type\":\"scattercarpet\",\"marker\":{\"colorbar\":{\"outlinewidth\":0,\"ticks\":\"\"}}}],\"carpet\":[{\"aaxis\":{\"endlinecolor\":\"#2a3f5f\",\"gridcolor\":\"white\",\"linecolor\":\"white\",\"minorgridcolor\":\"white\",\"startlinecolor\":\"#2a3f5f\"},\"baxis\":{\"endlinecolor\":\"#2a3f5f\",\"gridcolor\":\"white\",\"linecolor\":\"white\",\"minorgridcolor\":\"white\",\"startlinecolor\":\"#2a3f5f\"},\"type\":\"carpet\"}],\"table\":[{\"cells\":{\"fill\":{\"color\":\"#EBF0F8\"},\"line\":{\"color\":\"white\"}},\"header\":{\"fill\":{\"color\":\"#C8D4E3\"},\"line\":{\"color\":\"white\"}},\"type\":\"table\"}],\"barpolar\":[{\"marker\":{\"line\":{\"color\":\"#E5ECF6\",\"width\":0.5},\"pattern\":{\"fillmode\":\"overlay\",\"size\":10,\"solidity\":0.2}},\"type\":\"barpolar\"}],\"pie\":[{\"automargin\":true,\"type\":\"pie\"}]},\"layout\":{\"autotypenumbers\":\"strict\",\"colorway\":[\"#636efa\",\"#EF553B\",\"#00cc96\",\"#ab63fa\",\"#FFA15A\",\"#19d3f3\",\"#FF6692\",\"#B6E880\",\"#FF97FF\",\"#FECB52\"],\"font\":{\"color\":\"#2a3f5f\"},\"hovermode\":\"closest\",\"hoverlabel\":{\"align\":\"left\"},\"paper_bgcolor\":\"white\",\"plot_bgcolor\":\"#E5ECF6\",\"polar\":{\"bgcolor\":\"#E5ECF6\",\"angularaxis\":{\"gridcolor\":\"white\",\"linecolor\":\"white\",\"ticks\":\"\"},\"radialaxis\":{\"gridcolor\":\"white\",\"linecolor\":\"white\",\"ticks\":\"\"}},\"ternary\":{\"bgcolor\":\"#E5ECF6\",\"aaxis\":{\"gridcolor\":\"white\",\"linecolor\":\"white\",\"ticks\":\"\"},\"baxis\":{\"gridcolor\":\"white\",\"linecolor\":\"white\",\"ticks\":\"\"},\"caxis\":{\"gridcolor\":\"white\",\"linecolor\":\"white\",\"ticks\":\"\"}},\"coloraxis\":{\"colorbar\":{\"outlinewidth\":0,\"ticks\":\"\"}},\"colorscale\":{\"sequential\":[[0.0,\"#0d0887\"],[0.1111111111111111,\"#46039f\"],[0.2222222222222222,\"#7201a8\"],[0.3333333333333333,\"#9c179e\"],[0.4444444444444444,\"#bd3786\"],[0.5555555555555556,\"#d8576b\"],[0.6666666666666666,\"#ed7953\"],[0.7777777777777778,\"#fb9f3a\"],[0.8888888888888888,\"#fdca26\"],[1.0,\"#f0f921\"]],\"sequentialminus\":[[0.0,\"#0d0887\"],[0.1111111111111111,\"#46039f\"],[0.2222222222222222,\"#7201a8\"],[0.3333333333333333,\"#9c179e\"],[0.4444444444444444,\"#bd3786\"],[0.5555555555555556,\"#d8576b\"],[0.6666666666666666,\"#ed7953\"],[0.7777777777777778,\"#fb9f3a\"],[0.8888888888888888,\"#fdca26\"],[1.0,\"#f0f921\"]],\"diverging\":[[0,\"#8e0152\"],[0.1,\"#c51b7d\"],[0.2,\"#de77ae\"],[0.3,\"#f1b6da\"],[0.4,\"#fde0ef\"],[0.5,\"#f7f7f7\"],[0.6,\"#e6f5d0\"],[0.7,\"#b8e186\"],[0.8,\"#7fbc41\"],[0.9,\"#4d9221\"],[1,\"#276419\"]]},\"xaxis\":{\"gridcolor\":\"white\",\"linecolor\":\"white\",\"ticks\":\"\",\"title\":{\"standoff\":15},\"zerolinecolor\":\"white\",\"automargin\":true,\"zerolinewidth\":2},\"yaxis\":{\"gridcolor\":\"white\",\"linecolor\":\"white\",\"ticks\":\"\",\"title\":{\"standoff\":15},\"zerolinecolor\":\"white\",\"automargin\":true,\"zerolinewidth\":2},\"scene\":{\"xaxis\":{\"backgroundcolor\":\"#E5ECF6\",\"gridcolor\":\"white\",\"linecolor\":\"white\",\"showbackground\":true,\"ticks\":\"\",\"zerolinecolor\":\"white\",\"gridwidth\":2},\"yaxis\":{\"backgroundcolor\":\"#E5ECF6\",\"gridcolor\":\"white\",\"linecolor\":\"white\",\"showbackground\":true,\"ticks\":\"\",\"zerolinecolor\":\"white\",\"gridwidth\":2},\"zaxis\":{\"backgroundcolor\":\"#E5ECF6\",\"gridcolor\":\"white\",\"linecolor\":\"white\",\"showbackground\":true,\"ticks\":\"\",\"zerolinecolor\":\"white\",\"gridwidth\":2}},\"shapedefaults\":{\"line\":{\"color\":\"#2a3f5f\"}},\"annotationdefaults\":{\"arrowcolor\":\"#2a3f5f\",\"arrowhead\":0,\"arrowwidth\":1},\"geo\":{\"bgcolor\":\"white\",\"landcolor\":\"#E5ECF6\",\"subunitcolor\":\"white\",\"showland\":true,\"showlakes\":true,\"lakecolor\":\"white\"},\"title\":{\"x\":0.05},\"mapbox\":{\"style\":\"light\"}}},\"xaxis\":{\"title\":{\"text\":\"max_depth\"},\"range\":[7.5,62.5]},\"yaxis\":{\"title\":{\"text\":\"n_estimators\"},\"range\":[-4.5,314.5]}},                        {\"responsive\": true}                    ).then(function(){\n",
       "                            \n",
       "var gd = document.getElementById('58b49631-7cbe-4370-b166-2e7c6d7ab43d');\n",
       "var x = new MutationObserver(function (mutations, observer) {{\n",
       "        var display = window.getComputedStyle(gd).display;\n",
       "        if (!display || display === 'none') {{\n",
       "            console.log([gd, 'removed!']);\n",
       "            Plotly.purge(gd);\n",
       "            observer.disconnect();\n",
       "        }}\n",
       "}});\n",
       "\n",
       "// Listen for the removal of the full notebook cells\n",
       "var notebookContainer = gd.closest('#notebook-container');\n",
       "if (notebookContainer) {{\n",
       "    x.observe(notebookContainer, {childList: true});\n",
       "}}\n",
       "\n",
       "// Listen for the clearing of the current output cell\n",
       "var outputEl = gd.closest('.output');\n",
       "if (outputEl) {{\n",
       "    x.observe(outputEl, {childList: true});\n",
       "}}\n",
       "\n",
       "                        })                };                });            </script>        </div>"
      ]
     },
     "metadata": {},
     "output_type": "display_data"
    }
   ],
   "source": [
    "plot_contour(study)"
   ]
  },
  {
   "cell_type": "code",
   "execution_count": 282,
   "id": "497e096d-28f9-4ec4-817c-ef3a7c47f347",
   "metadata": {
    "tags": []
   },
   "outputs": [
    {
     "name": "stderr",
     "output_type": "stream",
     "text": [
      "/tmp/ipykernel_21/3430271029.py:1: ExperimentalWarning:\n",
      "\n",
      "plot_rank is experimental (supported from v3.2.0). The interface can change in the future.\n",
      "\n"
     ]
    },
    {
     "data": {
      "application/vnd.plotly.v1+json": {
       "config": {
        "plotlyServerURL": "https://plot.ly"
       },
       "data": [
        {
         "hovertemplate": "%{hovertext}<extra></extra>",
         "hovertext": [
          "Trial #0<br>n_estimators: 300<br>max_depth: 30<br><b>Objective Value: 1374.2441946210758</b>",
          "Trial #1<br>n_estimators: 100<br>max_depth: 30<br><b>Objective Value: 1336.0097627302973</b>",
          "Trial #2<br>n_estimators: 10<br>max_depth: 50<br><b>Objective Value: 1414.3189436619718</b>",
          "Trial #3<br>n_estimators: 10<br>max_depth: 30<br><b>Objective Value: 1454.9891551951528</b>",
          "Trial #4<br>n_estimators: 100<br>max_depth: 30<br><b>Objective Value: 1342.944115523445</b>",
          "Trial #5<br>n_estimators: 100<br>max_depth: 20<br><b>Objective Value: 1352.7364048238924</b>",
          "Trial #6<br>n_estimators: 200<br>max_depth: 50<br><b>Objective Value: 1344.4612165492958</b>",
          "Trial #7<br>n_estimators: 200<br>max_depth: 30<br><b>Objective Value: 1334.0554938376997</b>",
          "Trial #8<br>n_estimators: 100<br>max_depth: 20<br><b>Objective Value: 1354.5768653995444</b>",
          "Trial #9<br>n_estimators: 300<br>max_depth: 60<br><b>Objective Value: 1329.0933198748046</b>",
          "Trial #10<br>n_estimators: 300<br>max_depth: 60<br><b>Objective Value: 1357.8794517996869</b>",
          "Trial #11<br>n_estimators: 50<br>max_depth: 10<br><b>Objective Value: 1420.2143521972232</b>",
          "Trial #12<br>n_estimators: 200<br>max_depth: 60<br><b>Objective Value: 1357.3576214788734</b>",
          "Trial #13<br>n_estimators: 200<br>max_depth: 40<br><b>Objective Value: 1377.553129699726</b>",
          "Trial #14<br>n_estimators: 300<br>max_depth: 60<br><b>Objective Value: 1379.8916290297338</b>",
          "Trial #15<br>n_estimators: 50<br>max_depth: 40<br><b>Objective Value: 1342.0447283271055</b>",
          "Trial #16<br>n_estimators: 300<br>max_depth: 60<br><b>Objective Value: 1347.8865722222222</b>",
          "Trial #17<br>n_estimators: 200<br>max_depth: 30<br><b>Objective Value: 1368.483785534519</b>",
          "Trial #18<br>n_estimators: 200<br>max_depth: 10<br><b>Objective Value: 1390.972914476494</b>",
          "Trial #19<br>n_estimators: 300<br>max_depth: 60<br><b>Objective Value: 1371.5797899061033</b>",
          "Trial #20<br>n_estimators: 10<br>max_depth: 50<br><b>Objective Value: 1348.3401408450704</b>",
          "Trial #21<br>n_estimators: 100<br>max_depth: 30<br><b>Objective Value: 1362.3040547368803</b>",
          "Trial #22<br>n_estimators: 100<br>max_depth: 30<br><b>Objective Value: 1341.9232318622178</b>",
          "Trial #23<br>n_estimators: 50<br>max_depth: 30<br><b>Objective Value: 1398.5995890890606</b>",
          "Trial #24<br>n_estimators: 200<br>max_depth: 30<br><b>Objective Value: 1335.5587693377724</b>",
          "Trial #25<br>n_estimators: 200<br>max_depth: 40<br><b>Objective Value: 1347.4706269231708</b>",
          "Trial #26<br>n_estimators: 200<br>max_depth: 10<br><b>Objective Value: 1415.495756150739</b>",
          "Trial #27<br>n_estimators: 200<br>max_depth: 20<br><b>Objective Value: 1340.1457327600967</b>",
          "Trial #28<br>n_estimators: 300<br>max_depth: 60<br><b>Objective Value: 1348.4615033646323</b>",
          "Trial #29<br>n_estimators: 300<br>max_depth: 30<br><b>Objective Value: 1360.5186658628659</b>",
          "Trial #30<br>n_estimators: 200<br>max_depth: 30<br><b>Objective Value: 1361.5053733761365</b>",
          "Trial #31<br>n_estimators: 100<br>max_depth: 30<br><b>Objective Value: 1382.1626421928065</b>",
          "Trial #32<br>n_estimators: 10<br>max_depth: 30<br><b>Objective Value: 1469.1904894384554</b>",
          "Trial #33<br>n_estimators: 200<br>max_depth: 30<br><b>Objective Value: 1369.9511898258643</b>",
          "Trial #34<br>n_estimators: 100<br>max_depth: 30<br><b>Objective Value: 1350.3413600281617</b>",
          "Trial #35<br>n_estimators: 10<br>max_depth: 50<br><b>Objective Value: 1516.04838028169</b>",
          "Trial #36<br>n_estimators: 300<br>max_depth: 30<br><b>Objective Value: 1342.4050962336812</b>",
          "Trial #37<br>n_estimators: 100<br>max_depth: 20<br><b>Objective Value: 1384.55602155417</b>",
          "Trial #38<br>n_estimators: 200<br>max_depth: 30<br><b>Objective Value: 1359.2593136828089</b>",
          "Trial #39<br>n_estimators: 50<br>max_depth: 60<br><b>Objective Value: 1380.7695014084507</b>",
          "Trial #40<br>n_estimators: 100<br>max_depth: 50<br><b>Objective Value: 1353.0018943661973</b>",
          "Trial #41<br>n_estimators: 200<br>max_depth: 20<br><b>Objective Value: 1343.2452846216233</b>",
          "Trial #42<br>n_estimators: 200<br>max_depth: 20<br><b>Objective Value: 1334.0506124563847</b>",
          "Trial #43<br>n_estimators: 200<br>max_depth: 20<br><b>Objective Value: 1346.9479648540528</b>",
          "Trial #44<br>n_estimators: 200<br>max_depth: 20<br><b>Objective Value: 1364.5713465174679</b>",
          "Trial #45<br>n_estimators: 200<br>max_depth: 40<br><b>Objective Value: 1350.5673003380161</b>",
          "Trial #46<br>n_estimators: 300<br>max_depth: 10<br><b>Objective Value: 1394.4100140917883</b>",
          "Trial #47<br>n_estimators: 200<br>max_depth: 60<br><b>Objective Value: 1331.044214964789</b>",
          "Trial #48<br>n_estimators: 200<br>max_depth: 60<br><b>Objective Value: 1370.063700528169</b>",
          "Trial #49<br>n_estimators: 200<br>max_depth: 60<br><b>Objective Value: 1371.9656985915494</b>"
         ],
         "marker": {
          "color": [
           "rgb(252.0, 165.0, 93.0)",
           "rgb(70.0, 118.0, 181.0)",
           "rgb(216.0, 49.0, 40.0)",
           "rgb(185.0, 20.0, 38.0)",
           "rgb(118.0, 175.0, 210.0)",
           "rgb(227.0, 244.0, 243.0)",
           "rgb(141.0, 193.0, 220.0)",
           "rgb(61.0, 93.0, 168.0)",
           "rgb(239.0, 249.0, 220.0)",
           "rgb(49.0, 54.0, 149.0)",
           "rgb(252.0, 254.0, 197.0)",
           "rgb(196.0, 29.0, 39.0)",
           "rgb(246.0, 251.0, 208.0)",
           "rgb(250.0, 151.0, 87.0)",
           "rgb(248.0, 138.0, 80.0)",
           "rgb(99.0, 152.0, 198.0)",
           "rgb(174.0, 219.0, 234.0)",
           "rgb(254.0, 218.0, 138.0)",
           "rgb(233.0, 87.0, 57.0)",
           "rgb(253.0, 187.0, 109.0)",
           "rgb(185.0, 224.0, 237.0)",
           "rgb(254.0, 233.0, 157.0)",
           "rgb(89.0, 141.0, 192.0)",
           "rgb(222.0, 62.0, 45.0)",
           "rgb(65.0, 105.0, 174.0)",
           "rgb(163.0, 211.0, 230.0)",
           "rgb(206.0, 39.0, 39.0)",
           "rgb(80.0, 130.0, 187.0)",
           "rgb(196.0, 229.0, 240.0)",
           "rgb(255.0, 246.0, 177.0)",
           "rgb(254.0, 239.0, 167.0)",
           "rgb(244.0, 112.0, 68.0)",
           "rgb(175.0, 10.0, 38.0)",
           "rgb(254.0, 208.0, 129.0)",
           "rgb(207.0, 235.0, 243.0)",
           "rgb(165.0, 0.0, 38.0)",
           "rgb(108.0, 164.0, 204.0)",
           "rgb(239.0, 99.0, 62.0)",
           "rgb(255.0, 252.0, 186.0)",
           "rgb(246.0, 125.0, 74.0)",
           "rgb(233.0, 246.0, 232.0)",
           "rgb(129.0, 184.0, 215.0)",
           "rgb(57.0, 80.0, 162.0)",
           "rgb(152.0, 202.0, 225.0)",
           "rgb(254.0, 227.0, 148.0)",
           "rgb(218.0, 240.0, 246.0)",
           "rgb(227.0, 74.0, 51.0)",
           "rgb(53.0, 67.0, 155.0)",
           "rgb(253.0, 197.0, 119.0)",
           "rgb(253.0, 177.0, 100.0)"
          ],
          "line": {
           "color": "Grey",
           "width": 0.5
          }
         },
         "mode": "markers",
         "showlegend": false,
         "type": "scatter",
         "x": [
          30,
          30,
          50,
          30,
          30,
          20,
          50,
          30,
          20,
          60,
          60,
          10,
          60,
          40,
          60,
          40,
          60,
          30,
          10,
          60,
          50,
          30,
          30,
          30,
          30,
          40,
          10,
          20,
          60,
          30,
          30,
          30,
          30,
          30,
          30,
          50,
          30,
          20,
          30,
          60,
          50,
          20,
          20,
          20,
          20,
          40,
          10,
          60,
          60,
          60
         ],
         "y": [
          300,
          100,
          10,
          10,
          100,
          100,
          200,
          200,
          100,
          300,
          300,
          50,
          200,
          200,
          300,
          50,
          300,
          200,
          200,
          300,
          10,
          100,
          100,
          50,
          200,
          200,
          200,
          200,
          300,
          300,
          200,
          100,
          10,
          200,
          100,
          10,
          300,
          100,
          200,
          50,
          100,
          200,
          200,
          200,
          200,
          200,
          300,
          200,
          200,
          200
         ]
        },
        {
         "hoverinfo": "none",
         "marker": {
          "cmax": 1,
          "cmin": 0,
          "colorbar": {
           "thickness": 10,
           "ticktext": [
            "min. (1329.09)",
            "25% (1345.08)",
            "50% (1358.57)",
            "75% (1379.31)",
            "max. (1516.05)"
           ],
           "tickvals": [
            0,
            0.25,
            0.5,
            0.75,
            1
           ]
          },
          "colorscale": [
           [
            0,
            "rgb(49,54,149)"
           ],
           [
            0.1,
            "rgb(69,117,180)"
           ],
           [
            0.2,
            "rgb(116,173,209)"
           ],
           [
            0.3,
            "rgb(171,217,233)"
           ],
           [
            0.4,
            "rgb(224,243,248)"
           ],
           [
            0.5,
            "rgb(255,255,191)"
           ],
           [
            0.6,
            "rgb(254,224,144)"
           ],
           [
            0.7,
            "rgb(253,174,97)"
           ],
           [
            0.8,
            "rgb(244,109,67)"
           ],
           [
            0.9,
            "rgb(215,48,39)"
           ],
           [
            1,
            "rgb(165,0,38)"
           ]
          ],
          "showscale": true
         },
         "mode": "markers",
         "showlegend": false,
         "type": "scatter",
         "x": [
          null
         ],
         "y": [
          null
         ]
        }
       ],
       "layout": {
        "autosize": true,
        "template": {
         "data": {
          "bar": [
           {
            "error_x": {
             "color": "#2a3f5f"
            },
            "error_y": {
             "color": "#2a3f5f"
            },
            "marker": {
             "line": {
              "color": "#E5ECF6",
              "width": 0.5
             },
             "pattern": {
              "fillmode": "overlay",
              "size": 10,
              "solidity": 0.2
             }
            },
            "type": "bar"
           }
          ],
          "barpolar": [
           {
            "marker": {
             "line": {
              "color": "#E5ECF6",
              "width": 0.5
             },
             "pattern": {
              "fillmode": "overlay",
              "size": 10,
              "solidity": 0.2
             }
            },
            "type": "barpolar"
           }
          ],
          "carpet": [
           {
            "aaxis": {
             "endlinecolor": "#2a3f5f",
             "gridcolor": "white",
             "linecolor": "white",
             "minorgridcolor": "white",
             "startlinecolor": "#2a3f5f"
            },
            "baxis": {
             "endlinecolor": "#2a3f5f",
             "gridcolor": "white",
             "linecolor": "white",
             "minorgridcolor": "white",
             "startlinecolor": "#2a3f5f"
            },
            "type": "carpet"
           }
          ],
          "choropleth": [
           {
            "colorbar": {
             "outlinewidth": 0,
             "ticks": ""
            },
            "type": "choropleth"
           }
          ],
          "contour": [
           {
            "colorbar": {
             "outlinewidth": 0,
             "ticks": ""
            },
            "colorscale": [
             [
              0,
              "#0d0887"
             ],
             [
              0.1111111111111111,
              "#46039f"
             ],
             [
              0.2222222222222222,
              "#7201a8"
             ],
             [
              0.3333333333333333,
              "#9c179e"
             ],
             [
              0.4444444444444444,
              "#bd3786"
             ],
             [
              0.5555555555555556,
              "#d8576b"
             ],
             [
              0.6666666666666666,
              "#ed7953"
             ],
             [
              0.7777777777777778,
              "#fb9f3a"
             ],
             [
              0.8888888888888888,
              "#fdca26"
             ],
             [
              1,
              "#f0f921"
             ]
            ],
            "type": "contour"
           }
          ],
          "contourcarpet": [
           {
            "colorbar": {
             "outlinewidth": 0,
             "ticks": ""
            },
            "type": "contourcarpet"
           }
          ],
          "heatmap": [
           {
            "colorbar": {
             "outlinewidth": 0,
             "ticks": ""
            },
            "colorscale": [
             [
              0,
              "#0d0887"
             ],
             [
              0.1111111111111111,
              "#46039f"
             ],
             [
              0.2222222222222222,
              "#7201a8"
             ],
             [
              0.3333333333333333,
              "#9c179e"
             ],
             [
              0.4444444444444444,
              "#bd3786"
             ],
             [
              0.5555555555555556,
              "#d8576b"
             ],
             [
              0.6666666666666666,
              "#ed7953"
             ],
             [
              0.7777777777777778,
              "#fb9f3a"
             ],
             [
              0.8888888888888888,
              "#fdca26"
             ],
             [
              1,
              "#f0f921"
             ]
            ],
            "type": "heatmap"
           }
          ],
          "heatmapgl": [
           {
            "colorbar": {
             "outlinewidth": 0,
             "ticks": ""
            },
            "colorscale": [
             [
              0,
              "#0d0887"
             ],
             [
              0.1111111111111111,
              "#46039f"
             ],
             [
              0.2222222222222222,
              "#7201a8"
             ],
             [
              0.3333333333333333,
              "#9c179e"
             ],
             [
              0.4444444444444444,
              "#bd3786"
             ],
             [
              0.5555555555555556,
              "#d8576b"
             ],
             [
              0.6666666666666666,
              "#ed7953"
             ],
             [
              0.7777777777777778,
              "#fb9f3a"
             ],
             [
              0.8888888888888888,
              "#fdca26"
             ],
             [
              1,
              "#f0f921"
             ]
            ],
            "type": "heatmapgl"
           }
          ],
          "histogram": [
           {
            "marker": {
             "pattern": {
              "fillmode": "overlay",
              "size": 10,
              "solidity": 0.2
             }
            },
            "type": "histogram"
           }
          ],
          "histogram2d": [
           {
            "colorbar": {
             "outlinewidth": 0,
             "ticks": ""
            },
            "colorscale": [
             [
              0,
              "#0d0887"
             ],
             [
              0.1111111111111111,
              "#46039f"
             ],
             [
              0.2222222222222222,
              "#7201a8"
             ],
             [
              0.3333333333333333,
              "#9c179e"
             ],
             [
              0.4444444444444444,
              "#bd3786"
             ],
             [
              0.5555555555555556,
              "#d8576b"
             ],
             [
              0.6666666666666666,
              "#ed7953"
             ],
             [
              0.7777777777777778,
              "#fb9f3a"
             ],
             [
              0.8888888888888888,
              "#fdca26"
             ],
             [
              1,
              "#f0f921"
             ]
            ],
            "type": "histogram2d"
           }
          ],
          "histogram2dcontour": [
           {
            "colorbar": {
             "outlinewidth": 0,
             "ticks": ""
            },
            "colorscale": [
             [
              0,
              "#0d0887"
             ],
             [
              0.1111111111111111,
              "#46039f"
             ],
             [
              0.2222222222222222,
              "#7201a8"
             ],
             [
              0.3333333333333333,
              "#9c179e"
             ],
             [
              0.4444444444444444,
              "#bd3786"
             ],
             [
              0.5555555555555556,
              "#d8576b"
             ],
             [
              0.6666666666666666,
              "#ed7953"
             ],
             [
              0.7777777777777778,
              "#fb9f3a"
             ],
             [
              0.8888888888888888,
              "#fdca26"
             ],
             [
              1,
              "#f0f921"
             ]
            ],
            "type": "histogram2dcontour"
           }
          ],
          "mesh3d": [
           {
            "colorbar": {
             "outlinewidth": 0,
             "ticks": ""
            },
            "type": "mesh3d"
           }
          ],
          "parcoords": [
           {
            "line": {
             "colorbar": {
              "outlinewidth": 0,
              "ticks": ""
             }
            },
            "type": "parcoords"
           }
          ],
          "pie": [
           {
            "automargin": true,
            "type": "pie"
           }
          ],
          "scatter": [
           {
            "fillpattern": {
             "fillmode": "overlay",
             "size": 10,
             "solidity": 0.2
            },
            "type": "scatter"
           }
          ],
          "scatter3d": [
           {
            "line": {
             "colorbar": {
              "outlinewidth": 0,
              "ticks": ""
             }
            },
            "marker": {
             "colorbar": {
              "outlinewidth": 0,
              "ticks": ""
             }
            },
            "type": "scatter3d"
           }
          ],
          "scattercarpet": [
           {
            "marker": {
             "colorbar": {
              "outlinewidth": 0,
              "ticks": ""
             }
            },
            "type": "scattercarpet"
           }
          ],
          "scattergeo": [
           {
            "marker": {
             "colorbar": {
              "outlinewidth": 0,
              "ticks": ""
             }
            },
            "type": "scattergeo"
           }
          ],
          "scattergl": [
           {
            "marker": {
             "colorbar": {
              "outlinewidth": 0,
              "ticks": ""
             }
            },
            "type": "scattergl"
           }
          ],
          "scattermapbox": [
           {
            "marker": {
             "colorbar": {
              "outlinewidth": 0,
              "ticks": ""
             }
            },
            "type": "scattermapbox"
           }
          ],
          "scatterpolar": [
           {
            "marker": {
             "colorbar": {
              "outlinewidth": 0,
              "ticks": ""
             }
            },
            "type": "scatterpolar"
           }
          ],
          "scatterpolargl": [
           {
            "marker": {
             "colorbar": {
              "outlinewidth": 0,
              "ticks": ""
             }
            },
            "type": "scatterpolargl"
           }
          ],
          "scatterternary": [
           {
            "marker": {
             "colorbar": {
              "outlinewidth": 0,
              "ticks": ""
             }
            },
            "type": "scatterternary"
           }
          ],
          "surface": [
           {
            "colorbar": {
             "outlinewidth": 0,
             "ticks": ""
            },
            "colorscale": [
             [
              0,
              "#0d0887"
             ],
             [
              0.1111111111111111,
              "#46039f"
             ],
             [
              0.2222222222222222,
              "#7201a8"
             ],
             [
              0.3333333333333333,
              "#9c179e"
             ],
             [
              0.4444444444444444,
              "#bd3786"
             ],
             [
              0.5555555555555556,
              "#d8576b"
             ],
             [
              0.6666666666666666,
              "#ed7953"
             ],
             [
              0.7777777777777778,
              "#fb9f3a"
             ],
             [
              0.8888888888888888,
              "#fdca26"
             ],
             [
              1,
              "#f0f921"
             ]
            ],
            "type": "surface"
           }
          ],
          "table": [
           {
            "cells": {
             "fill": {
              "color": "#EBF0F8"
             },
             "line": {
              "color": "white"
             }
            },
            "header": {
             "fill": {
              "color": "#C8D4E3"
             },
             "line": {
              "color": "white"
             }
            },
            "type": "table"
           }
          ]
         },
         "layout": {
          "annotationdefaults": {
           "arrowcolor": "#2a3f5f",
           "arrowhead": 0,
           "arrowwidth": 1
          },
          "autotypenumbers": "strict",
          "coloraxis": {
           "colorbar": {
            "outlinewidth": 0,
            "ticks": ""
           }
          },
          "colorscale": {
           "diverging": [
            [
             0,
             "#8e0152"
            ],
            [
             0.1,
             "#c51b7d"
            ],
            [
             0.2,
             "#de77ae"
            ],
            [
             0.3,
             "#f1b6da"
            ],
            [
             0.4,
             "#fde0ef"
            ],
            [
             0.5,
             "#f7f7f7"
            ],
            [
             0.6,
             "#e6f5d0"
            ],
            [
             0.7,
             "#b8e186"
            ],
            [
             0.8,
             "#7fbc41"
            ],
            [
             0.9,
             "#4d9221"
            ],
            [
             1,
             "#276419"
            ]
           ],
           "sequential": [
            [
             0,
             "#0d0887"
            ],
            [
             0.1111111111111111,
             "#46039f"
            ],
            [
             0.2222222222222222,
             "#7201a8"
            ],
            [
             0.3333333333333333,
             "#9c179e"
            ],
            [
             0.4444444444444444,
             "#bd3786"
            ],
            [
             0.5555555555555556,
             "#d8576b"
            ],
            [
             0.6666666666666666,
             "#ed7953"
            ],
            [
             0.7777777777777778,
             "#fb9f3a"
            ],
            [
             0.8888888888888888,
             "#fdca26"
            ],
            [
             1,
             "#f0f921"
            ]
           ],
           "sequentialminus": [
            [
             0,
             "#0d0887"
            ],
            [
             0.1111111111111111,
             "#46039f"
            ],
            [
             0.2222222222222222,
             "#7201a8"
            ],
            [
             0.3333333333333333,
             "#9c179e"
            ],
            [
             0.4444444444444444,
             "#bd3786"
            ],
            [
             0.5555555555555556,
             "#d8576b"
            ],
            [
             0.6666666666666666,
             "#ed7953"
            ],
            [
             0.7777777777777778,
             "#fb9f3a"
            ],
            [
             0.8888888888888888,
             "#fdca26"
            ],
            [
             1,
             "#f0f921"
            ]
           ]
          },
          "colorway": [
           "#636efa",
           "#EF553B",
           "#00cc96",
           "#ab63fa",
           "#FFA15A",
           "#19d3f3",
           "#FF6692",
           "#B6E880",
           "#FF97FF",
           "#FECB52"
          ],
          "font": {
           "color": "#2a3f5f"
          },
          "geo": {
           "bgcolor": "white",
           "lakecolor": "white",
           "landcolor": "#E5ECF6",
           "showlakes": true,
           "showland": true,
           "subunitcolor": "white"
          },
          "hoverlabel": {
           "align": "left"
          },
          "hovermode": "closest",
          "mapbox": {
           "style": "light"
          },
          "paper_bgcolor": "white",
          "plot_bgcolor": "#E5ECF6",
          "polar": {
           "angularaxis": {
            "gridcolor": "white",
            "linecolor": "white",
            "ticks": ""
           },
           "bgcolor": "#E5ECF6",
           "radialaxis": {
            "gridcolor": "white",
            "linecolor": "white",
            "ticks": ""
           }
          },
          "scene": {
           "xaxis": {
            "backgroundcolor": "#E5ECF6",
            "gridcolor": "white",
            "gridwidth": 2,
            "linecolor": "white",
            "showbackground": true,
            "ticks": "",
            "zerolinecolor": "white"
           },
           "yaxis": {
            "backgroundcolor": "#E5ECF6",
            "gridcolor": "white",
            "gridwidth": 2,
            "linecolor": "white",
            "showbackground": true,
            "ticks": "",
            "zerolinecolor": "white"
           },
           "zaxis": {
            "backgroundcolor": "#E5ECF6",
            "gridcolor": "white",
            "gridwidth": 2,
            "linecolor": "white",
            "showbackground": true,
            "ticks": "",
            "zerolinecolor": "white"
           }
          },
          "shapedefaults": {
           "line": {
            "color": "#2a3f5f"
           }
          },
          "ternary": {
           "aaxis": {
            "gridcolor": "white",
            "linecolor": "white",
            "ticks": ""
           },
           "baxis": {
            "gridcolor": "white",
            "linecolor": "white",
            "ticks": ""
           },
           "bgcolor": "#E5ECF6",
           "caxis": {
            "gridcolor": "white",
            "linecolor": "white",
            "ticks": ""
           }
          },
          "title": {
           "x": 0.05
          },
          "xaxis": {
           "automargin": true,
           "gridcolor": "white",
           "linecolor": "white",
           "ticks": "",
           "title": {
            "standoff": 15
           },
           "zerolinecolor": "white",
           "zerolinewidth": 2
          },
          "yaxis": {
           "automargin": true,
           "gridcolor": "white",
           "linecolor": "white",
           "ticks": "",
           "title": {
            "standoff": 15
           },
           "zerolinecolor": "white",
           "zerolinewidth": 2
          }
         }
        },
        "title": {
         "text": "Rank (Objective Value)"
        },
        "xaxis": {
         "range": [
          7.5,
          62.5
         ],
         "title": {
          "text": "max_depth"
         },
         "type": "linear"
        },
        "yaxis": {
         "range": [
          -4.5,
          314.5
         ],
         "title": {
          "text": "n_estimators"
         },
         "type": "linear"
        }
       }
      },
      "image/png": "[encoded data removed]",
      "text/html": [
       "<div>                            <div id=\"d846c84a-96a4-4676-abfc-8f47e94c8ef9\" class=\"plotly-graph-div\" style=\"height:525px; width:100%;\"></div>            <script type=\"text/javascript\">                require([\"plotly\"], function(Plotly) {                    window.PLOTLYENV=window.PLOTLYENV || {};                                    if (document.getElementById(\"d846c84a-96a4-4676-abfc-8f47e94c8ef9\")) {                    Plotly.newPlot(                        \"d846c84a-96a4-4676-abfc-8f47e94c8ef9\",                        [{\"hovertemplate\":\"%{hovertext}\\u003cextra\\u003e\\u003c\\u002fextra\\u003e\",\"hovertext\":[\"Trial #0\\u003cbr\\u003en_estimators: 300\\u003cbr\\u003emax_depth: 30\\u003cbr\\u003e\\u003cb\\u003eObjective Value: 1374.2441946210758\\u003c\\u002fb\\u003e\",\"Trial #1\\u003cbr\\u003en_estimators: 100\\u003cbr\\u003emax_depth: 30\\u003cbr\\u003e\\u003cb\\u003eObjective Value: 1336.0097627302973\\u003c\\u002fb\\u003e\",\"Trial #2\\u003cbr\\u003en_estimators: 10\\u003cbr\\u003emax_depth: 50\\u003cbr\\u003e\\u003cb\\u003eObjective Value: 1414.3189436619718\\u003c\\u002fb\\u003e\",\"Trial #3\\u003cbr\\u003en_estimators: 10\\u003cbr\\u003emax_depth: 30\\u003cbr\\u003e\\u003cb\\u003eObjective Value: 1454.9891551951528\\u003c\\u002fb\\u003e\",\"Trial #4\\u003cbr\\u003en_estimators: 100\\u003cbr\\u003emax_depth: 30\\u003cbr\\u003e\\u003cb\\u003eObjective Value: 1342.944115523445\\u003c\\u002fb\\u003e\",\"Trial #5\\u003cbr\\u003en_estimators: 100\\u003cbr\\u003emax_depth: 20\\u003cbr\\u003e\\u003cb\\u003eObjective Value: 1352.7364048238924\\u003c\\u002fb\\u003e\",\"Trial #6\\u003cbr\\u003en_estimators: 200\\u003cbr\\u003emax_depth: 50\\u003cbr\\u003e\\u003cb\\u003eObjective Value: 1344.4612165492958\\u003c\\u002fb\\u003e\",\"Trial #7\\u003cbr\\u003en_estimators: 200\\u003cbr\\u003emax_depth: 30\\u003cbr\\u003e\\u003cb\\u003eObjective Value: 1334.0554938376997\\u003c\\u002fb\\u003e\",\"Trial #8\\u003cbr\\u003en_estimators: 100\\u003cbr\\u003emax_depth: 20\\u003cbr\\u003e\\u003cb\\u003eObjective Value: 1354.5768653995444\\u003c\\u002fb\\u003e\",\"Trial #9\\u003cbr\\u003en_estimators: 300\\u003cbr\\u003emax_depth: 60\\u003cbr\\u003e\\u003cb\\u003eObjective Value: 1329.0933198748046\\u003c\\u002fb\\u003e\",\"Trial #10\\u003cbr\\u003en_estimators: 300\\u003cbr\\u003emax_depth: 60\\u003cbr\\u003e\\u003cb\\u003eObjective Value: 1357.8794517996869\\u003c\\u002fb\\u003e\",\"Trial #11\\u003cbr\\u003en_estimators: 50\\u003cbr\\u003emax_depth: 10\\u003cbr\\u003e\\u003cb\\u003eObjective Value: 1420.2143521972232\\u003c\\u002fb\\u003e\",\"Trial #12\\u003cbr\\u003en_estimators: 200\\u003cbr\\u003emax_depth: 60\\u003cbr\\u003e\\u003cb\\u003eObjective Value: 1357.3576214788734\\u003c\\u002fb\\u003e\",\"Trial #13\\u003cbr\\u003en_estimators: 200\\u003cbr\\u003emax_depth: 40\\u003cbr\\u003e\\u003cb\\u003eObjective Value: 1377.553129699726\\u003c\\u002fb\\u003e\",\"Trial #14\\u003cbr\\u003en_estimators: 300\\u003cbr\\u003emax_depth: 60\\u003cbr\\u003e\\u003cb\\u003eObjective Value: 1379.8916290297338\\u003c\\u002fb\\u003e\",\"Trial #15\\u003cbr\\u003en_estimators: 50\\u003cbr\\u003emax_depth: 40\\u003cbr\\u003e\\u003cb\\u003eObjective Value: 1342.0447283271055\\u003c\\u002fb\\u003e\",\"Trial #16\\u003cbr\\u003en_estimators: 300\\u003cbr\\u003emax_depth: 60\\u003cbr\\u003e\\u003cb\\u003eObjective Value: 1347.8865722222222\\u003c\\u002fb\\u003e\",\"Trial #17\\u003cbr\\u003en_estimators: 200\\u003cbr\\u003emax_depth: 30\\u003cbr\\u003e\\u003cb\\u003eObjective Value: 1368.483785534519\\u003c\\u002fb\\u003e\",\"Trial #18\\u003cbr\\u003en_estimators: 200\\u003cbr\\u003emax_depth: 10\\u003cbr\\u003e\\u003cb\\u003eObjective Value: 1390.972914476494\\u003c\\u002fb\\u003e\",\"Trial #19\\u003cbr\\u003en_estimators: 300\\u003cbr\\u003emax_depth: 60\\u003cbr\\u003e\\u003cb\\u003eObjective Value: 1371.5797899061033\\u003c\\u002fb\\u003e\",\"Trial #20\\u003cbr\\u003en_estimators: 10\\u003cbr\\u003emax_depth: 50\\u003cbr\\u003e\\u003cb\\u003eObjective Value: 1348.3401408450704\\u003c\\u002fb\\u003e\",\"Trial #21\\u003cbr\\u003en_estimators: 100\\u003cbr\\u003emax_depth: 30\\u003cbr\\u003e\\u003cb\\u003eObjective Value: 1362.3040547368803\\u003c\\u002fb\\u003e\",\"Trial #22\\u003cbr\\u003en_estimators: 100\\u003cbr\\u003emax_depth: 30\\u003cbr\\u003e\\u003cb\\u003eObjective Value: 1341.9232318622178\\u003c\\u002fb\\u003e\",\"Trial #23\\u003cbr\\u003en_estimators: 50\\u003cbr\\u003emax_depth: 30\\u003cbr\\u003e\\u003cb\\u003eObjective Value: 1398.5995890890606\\u003c\\u002fb\\u003e\",\"Trial #24\\u003cbr\\u003en_estimators: 200\\u003cbr\\u003emax_depth: 30\\u003cbr\\u003e\\u003cb\\u003eObjective Value: 1335.5587693377724\\u003c\\u002fb\\u003e\",\"Trial #25\\u003cbr\\u003en_estimators: 200\\u003cbr\\u003emax_depth: 40\\u003cbr\\u003e\\u003cb\\u003eObjective Value: 1347.4706269231708\\u003c\\u002fb\\u003e\",\"Trial #26\\u003cbr\\u003en_estimators: 200\\u003cbr\\u003emax_depth: 10\\u003cbr\\u003e\\u003cb\\u003eObjective Value: 1415.495756150739\\u003c\\u002fb\\u003e\",\"Trial #27\\u003cbr\\u003en_estimators: 200\\u003cbr\\u003emax_depth: 20\\u003cbr\\u003e\\u003cb\\u003eObjective Value: 1340.1457327600967\\u003c\\u002fb\\u003e\",\"Trial #28\\u003cbr\\u003en_estimators: 300\\u003cbr\\u003emax_depth: 60\\u003cbr\\u003e\\u003cb\\u003eObjective Value: 1348.4615033646323\\u003c\\u002fb\\u003e\",\"Trial #29\\u003cbr\\u003en_estimators: 300\\u003cbr\\u003emax_depth: 30\\u003cbr\\u003e\\u003cb\\u003eObjective Value: 1360.5186658628659\\u003c\\u002fb\\u003e\",\"Trial #30\\u003cbr\\u003en_estimators: 200\\u003cbr\\u003emax_depth: 30\\u003cbr\\u003e\\u003cb\\u003eObjective Value: 1361.5053733761365\\u003c\\u002fb\\u003e\",\"Trial #31\\u003cbr\\u003en_estimators: 100\\u003cbr\\u003emax_depth: 30\\u003cbr\\u003e\\u003cb\\u003eObjective Value: 1382.1626421928065\\u003c\\u002fb\\u003e\",\"Trial #32\\u003cbr\\u003en_estimators: 10\\u003cbr\\u003emax_depth: 30\\u003cbr\\u003e\\u003cb\\u003eObjective Value: 1469.1904894384554\\u003c\\u002fb\\u003e\",\"Trial #33\\u003cbr\\u003en_estimators: 200\\u003cbr\\u003emax_depth: 30\\u003cbr\\u003e\\u003cb\\u003eObjective Value: 1369.9511898258643\\u003c\\u002fb\\u003e\",\"Trial #34\\u003cbr\\u003en_estimators: 100\\u003cbr\\u003emax_depth: 30\\u003cbr\\u003e\\u003cb\\u003eObjective Value: 1350.3413600281617\\u003c\\u002fb\\u003e\",\"Trial #35\\u003cbr\\u003en_estimators: 10\\u003cbr\\u003emax_depth: 50\\u003cbr\\u003e\\u003cb\\u003eObjective Value: 1516.04838028169\\u003c\\u002fb\\u003e\",\"Trial #36\\u003cbr\\u003en_estimators: 300\\u003cbr\\u003emax_depth: 30\\u003cbr\\u003e\\u003cb\\u003eObjective Value: 1342.4050962336812\\u003c\\u002fb\\u003e\",\"Trial #37\\u003cbr\\u003en_estimators: 100\\u003cbr\\u003emax_depth: 20\\u003cbr\\u003e\\u003cb\\u003eObjective Value: 1384.55602155417\\u003c\\u002fb\\u003e\",\"Trial #38\\u003cbr\\u003en_estimators: 200\\u003cbr\\u003emax_depth: 30\\u003cbr\\u003e\\u003cb\\u003eObjective Value: 1359.2593136828089\\u003c\\u002fb\\u003e\",\"Trial #39\\u003cbr\\u003en_estimators: 50\\u003cbr\\u003emax_depth: 60\\u003cbr\\u003e\\u003cb\\u003eObjective Value: 1380.7695014084507\\u003c\\u002fb\\u003e\",\"Trial #40\\u003cbr\\u003en_estimators: 100\\u003cbr\\u003emax_depth: 50\\u003cbr\\u003e\\u003cb\\u003eObjective Value: 1353.0018943661973\\u003c\\u002fb\\u003e\",\"Trial #41\\u003cbr\\u003en_estimators: 200\\u003cbr\\u003emax_depth: 20\\u003cbr\\u003e\\u003cb\\u003eObjective Value: 1343.2452846216233\\u003c\\u002fb\\u003e\",\"Trial #42\\u003cbr\\u003en_estimators: 200\\u003cbr\\u003emax_depth: 20\\u003cbr\\u003e\\u003cb\\u003eObjective Value: 1334.0506124563847\\u003c\\u002fb\\u003e\",\"Trial #43\\u003cbr\\u003en_estimators: 200\\u003cbr\\u003emax_depth: 20\\u003cbr\\u003e\\u003cb\\u003eObjective Value: 1346.9479648540528\\u003c\\u002fb\\u003e\",\"Trial #44\\u003cbr\\u003en_estimators: 200\\u003cbr\\u003emax_depth: 20\\u003cbr\\u003e\\u003cb\\u003eObjective Value: 1364.5713465174679\\u003c\\u002fb\\u003e\",\"Trial #45\\u003cbr\\u003en_estimators: 200\\u003cbr\\u003emax_depth: 40\\u003cbr\\u003e\\u003cb\\u003eObjective Value: 1350.5673003380161\\u003c\\u002fb\\u003e\",\"Trial #46\\u003cbr\\u003en_estimators: 300\\u003cbr\\u003emax_depth: 10\\u003cbr\\u003e\\u003cb\\u003eObjective Value: 1394.4100140917883\\u003c\\u002fb\\u003e\",\"Trial #47\\u003cbr\\u003en_estimators: 200\\u003cbr\\u003emax_depth: 60\\u003cbr\\u003e\\u003cb\\u003eObjective Value: 1331.044214964789\\u003c\\u002fb\\u003e\",\"Trial #48\\u003cbr\\u003en_estimators: 200\\u003cbr\\u003emax_depth: 60\\u003cbr\\u003e\\u003cb\\u003eObjective Value: 1370.063700528169\\u003c\\u002fb\\u003e\",\"Trial #49\\u003cbr\\u003en_estimators: 200\\u003cbr\\u003emax_depth: 60\\u003cbr\\u003e\\u003cb\\u003eObjective Value: 1371.9656985915494\\u003c\\u002fb\\u003e\"],\"marker\":{\"color\":[\"rgb(252.0, 165.0, 93.0)\",\"rgb(70.0, 118.0, 181.0)\",\"rgb(216.0, 49.0, 40.0)\",\"rgb(185.0, 20.0, 38.0)\",\"rgb(118.0, 175.0, 210.0)\",\"rgb(227.0, 244.0, 243.0)\",\"rgb(141.0, 193.0, 220.0)\",\"rgb(61.0, 93.0, 168.0)\",\"rgb(239.0, 249.0, 220.0)\",\"rgb(49.0, 54.0, 149.0)\",\"rgb(252.0, 254.0, 197.0)\",\"rgb(196.0, 29.0, 39.0)\",\"rgb(246.0, 251.0, 208.0)\",\"rgb(250.0, 151.0, 87.0)\",\"rgb(248.0, 138.0, 80.0)\",\"rgb(99.0, 152.0, 198.0)\",\"rgb(174.0, 219.0, 234.0)\",\"rgb(254.0, 218.0, 138.0)\",\"rgb(233.0, 87.0, 57.0)\",\"rgb(253.0, 187.0, 109.0)\",\"rgb(185.0, 224.0, 237.0)\",\"rgb(254.0, 233.0, 157.0)\",\"rgb(89.0, 141.0, 192.0)\",\"rgb(222.0, 62.0, 45.0)\",\"rgb(65.0, 105.0, 174.0)\",\"rgb(163.0, 211.0, 230.0)\",\"rgb(206.0, 39.0, 39.0)\",\"rgb(80.0, 130.0, 187.0)\",\"rgb(196.0, 229.0, 240.0)\",\"rgb(255.0, 246.0, 177.0)\",\"rgb(254.0, 239.0, 167.0)\",\"rgb(244.0, 112.0, 68.0)\",\"rgb(175.0, 10.0, 38.0)\",\"rgb(254.0, 208.0, 129.0)\",\"rgb(207.0, 235.0, 243.0)\",\"rgb(165.0, 0.0, 38.0)\",\"rgb(108.0, 164.0, 204.0)\",\"rgb(239.0, 99.0, 62.0)\",\"rgb(255.0, 252.0, 186.0)\",\"rgb(246.0, 125.0, 74.0)\",\"rgb(233.0, 246.0, 232.0)\",\"rgb(129.0, 184.0, 215.0)\",\"rgb(57.0, 80.0, 162.0)\",\"rgb(152.0, 202.0, 225.0)\",\"rgb(254.0, 227.0, 148.0)\",\"rgb(218.0, 240.0, 246.0)\",\"rgb(227.0, 74.0, 51.0)\",\"rgb(53.0, 67.0, 155.0)\",\"rgb(253.0, 197.0, 119.0)\",\"rgb(253.0, 177.0, 100.0)\"],\"line\":{\"color\":\"Grey\",\"width\":0.5}},\"mode\":\"markers\",\"showlegend\":false,\"x\":[30,30,50,30,30,20,50,30,20,60,60,10,60,40,60,40,60,30,10,60,50,30,30,30,30,40,10,20,60,30,30,30,30,30,30,50,30,20,30,60,50,20,20,20,20,40,10,60,60,60],\"y\":[300,100,10,10,100,100,200,200,100,300,300,50,200,200,300,50,300,200,200,300,10,100,100,50,200,200,200,200,300,300,200,100,10,200,100,10,300,100,200,50,100,200,200,200,200,200,300,200,200,200],\"type\":\"scatter\"},{\"hoverinfo\":\"none\",\"marker\":{\"cmax\":1,\"cmin\":0,\"colorbar\":{\"thickness\":10,\"ticktext\":[\"min. (1329.09)\",\"25% (1345.08)\",\"50% (1358.57)\",\"75% (1379.31)\",\"max. (1516.05)\"],\"tickvals\":[0,0.25,0.5,0.75,1]},\"colorscale\":[[0.0,\"rgb(49,54,149)\"],[0.1,\"rgb(69,117,180)\"],[0.2,\"rgb(116,173,209)\"],[0.3,\"rgb(171,217,233)\"],[0.4,\"rgb(224,243,248)\"],[0.5,\"rgb(255,255,191)\"],[0.6,\"rgb(254,224,144)\"],[0.7,\"rgb(253,174,97)\"],[0.8,\"rgb(244,109,67)\"],[0.9,\"rgb(215,48,39)\"],[1.0,\"rgb(165,0,38)\"]],\"showscale\":true},\"mode\":\"markers\",\"showlegend\":false,\"x\":[null],\"y\":[null],\"type\":\"scatter\"}],                        {\"title\":{\"text\":\"Rank (Objective Value)\"},\"template\":{\"data\":{\"histogram2dcontour\":[{\"type\":\"histogram2dcontour\",\"colorbar\":{\"outlinewidth\":0,\"ticks\":\"\"},\"colorscale\":[[0.0,\"#0d0887\"],[0.1111111111111111,\"#46039f\"],[0.2222222222222222,\"#7201a8\"],[0.3333333333333333,\"#9c179e\"],[0.4444444444444444,\"#bd3786\"],[0.5555555555555556,\"#d8576b\"],[0.6666666666666666,\"#ed7953\"],[0.7777777777777778,\"#fb9f3a\"],[0.8888888888888888,\"#fdca26\"],[1.0,\"#f0f921\"]]}],\"choropleth\":[{\"type\":\"choropleth\",\"colorbar\":{\"outlinewidth\":0,\"ticks\":\"\"}}],\"histogram2d\":[{\"type\":\"histogram2d\",\"colorbar\":{\"outlinewidth\":0,\"ticks\":\"\"},\"colorscale\":[[0.0,\"#0d0887\"],[0.1111111111111111,\"#46039f\"],[0.2222222222222222,\"#7201a8\"],[0.3333333333333333,\"#9c179e\"],[0.4444444444444444,\"#bd3786\"],[0.5555555555555556,\"#d8576b\"],[0.6666666666666666,\"#ed7953\"],[0.7777777777777778,\"#fb9f3a\"],[0.8888888888888888,\"#fdca26\"],[1.0,\"#f0f921\"]]}],\"heatmap\":[{\"type\":\"heatmap\",\"colorbar\":{\"outlinewidth\":0,\"ticks\":\"\"},\"colorscale\":[[0.0,\"#0d0887\"],[0.1111111111111111,\"#46039f\"],[0.2222222222222222,\"#7201a8\"],[0.3333333333333333,\"#9c179e\"],[0.4444444444444444,\"#bd3786\"],[0.5555555555555556,\"#d8576b\"],[0.6666666666666666,\"#ed7953\"],[0.7777777777777778,\"#fb9f3a\"],[0.8888888888888888,\"#fdca26\"],[1.0,\"#f0f921\"]]}],\"heatmapgl\":[{\"type\":\"heatmapgl\",\"colorbar\":{\"outlinewidth\":0,\"ticks\":\"\"},\"colorscale\":[[0.0,\"#0d0887\"],[0.1111111111111111,\"#46039f\"],[0.2222222222222222,\"#7201a8\"],[0.3333333333333333,\"#9c179e\"],[0.4444444444444444,\"#bd3786\"],[0.5555555555555556,\"#d8576b\"],[0.6666666666666666,\"#ed7953\"],[0.7777777777777778,\"#fb9f3a\"],[0.8888888888888888,\"#fdca26\"],[1.0,\"#f0f921\"]]}],\"contourcarpet\":[{\"type\":\"contourcarpet\",\"colorbar\":{\"outlinewidth\":0,\"ticks\":\"\"}}],\"contour\":[{\"type\":\"contour\",\"colorbar\":{\"outlinewidth\":0,\"ticks\":\"\"},\"colorscale\":[[0.0,\"#0d0887\"],[0.1111111111111111,\"#46039f\"],[0.2222222222222222,\"#7201a8\"],[0.3333333333333333,\"#9c179e\"],[0.4444444444444444,\"#bd3786\"],[0.5555555555555556,\"#d8576b\"],[0.6666666666666666,\"#ed7953\"],[0.7777777777777778,\"#fb9f3a\"],[0.8888888888888888,\"#fdca26\"],[1.0,\"#f0f921\"]]}],\"surface\":[{\"type\":\"surface\",\"colorbar\":{\"outlinewidth\":0,\"ticks\":\"\"},\"colorscale\":[[0.0,\"#0d0887\"],[0.1111111111111111,\"#46039f\"],[0.2222222222222222,\"#7201a8\"],[0.3333333333333333,\"#9c179e\"],[0.4444444444444444,\"#bd3786\"],[0.5555555555555556,\"#d8576b\"],[0.6666666666666666,\"#ed7953\"],[0.7777777777777778,\"#fb9f3a\"],[0.8888888888888888,\"#fdca26\"],[1.0,\"#f0f921\"]]}],\"mesh3d\":[{\"type\":\"mesh3d\",\"colorbar\":{\"outlinewidth\":0,\"ticks\":\"\"}}],\"scatter\":[{\"fillpattern\":{\"fillmode\":\"overlay\",\"size\":10,\"solidity\":0.2},\"type\":\"scatter\"}],\"parcoords\":[{\"type\":\"parcoords\",\"line\":{\"colorbar\":{\"outlinewidth\":0,\"ticks\":\"\"}}}],\"scatterpolargl\":[{\"type\":\"scatterpolargl\",\"marker\":{\"colorbar\":{\"outlinewidth\":0,\"ticks\":\"\"}}}],\"bar\":[{\"error_x\":{\"color\":\"#2a3f5f\"},\"error_y\":{\"color\":\"#2a3f5f\"},\"marker\":{\"line\":{\"color\":\"#E5ECF6\",\"width\":0.5},\"pattern\":{\"fillmode\":\"overlay\",\"size\":10,\"solidity\":0.2}},\"type\":\"bar\"}],\"scattergeo\":[{\"type\":\"scattergeo\",\"marker\":{\"colorbar\":{\"outlinewidth\":0,\"ticks\":\"\"}}}],\"scatterpolar\":[{\"type\":\"scatterpolar\",\"marker\":{\"colorbar\":{\"outlinewidth\":0,\"ticks\":\"\"}}}],\"histogram\":[{\"marker\":{\"pattern\":{\"fillmode\":\"overlay\",\"size\":10,\"solidity\":0.2}},\"type\":\"histogram\"}],\"scattergl\":[{\"type\":\"scattergl\",\"marker\":{\"colorbar\":{\"outlinewidth\":0,\"ticks\":\"\"}}}],\"scatter3d\":[{\"type\":\"scatter3d\",\"line\":{\"colorbar\":{\"outlinewidth\":0,\"ticks\":\"\"}},\"marker\":{\"colorbar\":{\"outlinewidth\":0,\"ticks\":\"\"}}}],\"scattermapbox\":[{\"type\":\"scattermapbox\",\"marker\":{\"colorbar\":{\"outlinewidth\":0,\"ticks\":\"\"}}}],\"scatterternary\":[{\"type\":\"scatterternary\",\"marker\":{\"colorbar\":{\"outlinewidth\":0,\"ticks\":\"\"}}}],\"scattercarpet\":[{\"type\":\"scattercarpet\",\"marker\":{\"colorbar\":{\"outlinewidth\":0,\"ticks\":\"\"}}}],\"carpet\":[{\"aaxis\":{\"endlinecolor\":\"#2a3f5f\",\"gridcolor\":\"white\",\"linecolor\":\"white\",\"minorgridcolor\":\"white\",\"startlinecolor\":\"#2a3f5f\"},\"baxis\":{\"endlinecolor\":\"#2a3f5f\",\"gridcolor\":\"white\",\"linecolor\":\"white\",\"minorgridcolor\":\"white\",\"startlinecolor\":\"#2a3f5f\"},\"type\":\"carpet\"}],\"table\":[{\"cells\":{\"fill\":{\"color\":\"#EBF0F8\"},\"line\":{\"color\":\"white\"}},\"header\":{\"fill\":{\"color\":\"#C8D4E3\"},\"line\":{\"color\":\"white\"}},\"type\":\"table\"}],\"barpolar\":[{\"marker\":{\"line\":{\"color\":\"#E5ECF6\",\"width\":0.5},\"pattern\":{\"fillmode\":\"overlay\",\"size\":10,\"solidity\":0.2}},\"type\":\"barpolar\"}],\"pie\":[{\"automargin\":true,\"type\":\"pie\"}]},\"layout\":{\"autotypenumbers\":\"strict\",\"colorway\":[\"#636efa\",\"#EF553B\",\"#00cc96\",\"#ab63fa\",\"#FFA15A\",\"#19d3f3\",\"#FF6692\",\"#B6E880\",\"#FF97FF\",\"#FECB52\"],\"font\":{\"color\":\"#2a3f5f\"},\"hovermode\":\"closest\",\"hoverlabel\":{\"align\":\"left\"},\"paper_bgcolor\":\"white\",\"plot_bgcolor\":\"#E5ECF6\",\"polar\":{\"bgcolor\":\"#E5ECF6\",\"angularaxis\":{\"gridcolor\":\"white\",\"linecolor\":\"white\",\"ticks\":\"\"},\"radialaxis\":{\"gridcolor\":\"white\",\"linecolor\":\"white\",\"ticks\":\"\"}},\"ternary\":{\"bgcolor\":\"#E5ECF6\",\"aaxis\":{\"gridcolor\":\"white\",\"linecolor\":\"white\",\"ticks\":\"\"},\"baxis\":{\"gridcolor\":\"white\",\"linecolor\":\"white\",\"ticks\":\"\"},\"caxis\":{\"gridcolor\":\"white\",\"linecolor\":\"white\",\"ticks\":\"\"}},\"coloraxis\":{\"colorbar\":{\"outlinewidth\":0,\"ticks\":\"\"}},\"colorscale\":{\"sequential\":[[0.0,\"#0d0887\"],[0.1111111111111111,\"#46039f\"],[0.2222222222222222,\"#7201a8\"],[0.3333333333333333,\"#9c179e\"],[0.4444444444444444,\"#bd3786\"],[0.5555555555555556,\"#d8576b\"],[0.6666666666666666,\"#ed7953\"],[0.7777777777777778,\"#fb9f3a\"],[0.8888888888888888,\"#fdca26\"],[1.0,\"#f0f921\"]],\"sequentialminus\":[[0.0,\"#0d0887\"],[0.1111111111111111,\"#46039f\"],[0.2222222222222222,\"#7201a8\"],[0.3333333333333333,\"#9c179e\"],[0.4444444444444444,\"#bd3786\"],[0.5555555555555556,\"#d8576b\"],[0.6666666666666666,\"#ed7953\"],[0.7777777777777778,\"#fb9f3a\"],[0.8888888888888888,\"#fdca26\"],[1.0,\"#f0f921\"]],\"diverging\":[[0,\"#8e0152\"],[0.1,\"#c51b7d\"],[0.2,\"#de77ae\"],[0.3,\"#f1b6da\"],[0.4,\"#fde0ef\"],[0.5,\"#f7f7f7\"],[0.6,\"#e6f5d0\"],[0.7,\"#b8e186\"],[0.8,\"#7fbc41\"],[0.9,\"#4d9221\"],[1,\"#276419\"]]},\"xaxis\":{\"gridcolor\":\"white\",\"linecolor\":\"white\",\"ticks\":\"\",\"title\":{\"standoff\":15},\"zerolinecolor\":\"white\",\"automargin\":true,\"zerolinewidth\":2},\"yaxis\":{\"gridcolor\":\"white\",\"linecolor\":\"white\",\"ticks\":\"\",\"title\":{\"standoff\":15},\"zerolinecolor\":\"white\",\"automargin\":true,\"zerolinewidth\":2},\"scene\":{\"xaxis\":{\"backgroundcolor\":\"#E5ECF6\",\"gridcolor\":\"white\",\"linecolor\":\"white\",\"showbackground\":true,\"ticks\":\"\",\"zerolinecolor\":\"white\",\"gridwidth\":2},\"yaxis\":{\"backgroundcolor\":\"#E5ECF6\",\"gridcolor\":\"white\",\"linecolor\":\"white\",\"showbackground\":true,\"ticks\":\"\",\"zerolinecolor\":\"white\",\"gridwidth\":2},\"zaxis\":{\"backgroundcolor\":\"#E5ECF6\",\"gridcolor\":\"white\",\"linecolor\":\"white\",\"showbackground\":true,\"ticks\":\"\",\"zerolinecolor\":\"white\",\"gridwidth\":2}},\"shapedefaults\":{\"line\":{\"color\":\"#2a3f5f\"}},\"annotationdefaults\":{\"arrowcolor\":\"#2a3f5f\",\"arrowhead\":0,\"arrowwidth\":1},\"geo\":{\"bgcolor\":\"white\",\"landcolor\":\"#E5ECF6\",\"subunitcolor\":\"white\",\"showland\":true,\"showlakes\":true,\"lakecolor\":\"white\"},\"title\":{\"x\":0.05},\"mapbox\":{\"style\":\"light\"}}},\"xaxis\":{\"title\":{\"text\":\"max_depth\"},\"range\":[7.5,62.5]},\"yaxis\":{\"title\":{\"text\":\"n_estimators\"},\"range\":[-4.5,314.5]}},                        {\"responsive\": true}                    ).then(function(){\n",
       "                            \n",
       "var gd = document.getElementById('d846c84a-96a4-4676-abfc-8f47e94c8ef9');\n",
       "var x = new MutationObserver(function (mutations, observer) {{\n",
       "        var display = window.getComputedStyle(gd).display;\n",
       "        if (!display || display === 'none') {{\n",
       "            console.log([gd, 'removed!']);\n",
       "            Plotly.purge(gd);\n",
       "            observer.disconnect();\n",
       "        }}\n",
       "}});\n",
       "\n",
       "// Listen for the removal of the full notebook cells\n",
       "var notebookContainer = gd.closest('#notebook-container');\n",
       "if (notebookContainer) {{\n",
       "    x.observe(notebookContainer, {childList: true});\n",
       "}}\n",
       "\n",
       "// Listen for the clearing of the current output cell\n",
       "var outputEl = gd.closest('.output');\n",
       "if (outputEl) {{\n",
       "    x.observe(outputEl, {childList: true});\n",
       "}}\n",
       "\n",
       "                        })                };                });            </script>        </div>"
      ]
     },
     "metadata": {},
     "output_type": "display_data"
    }
   ],
   "source": [
    "plot_rank(study)"
   ]
  },
  {
   "cell_type": "code",
   "execution_count": 283,
   "id": "7aabaef6-06d0-4614-b4f3-99eed4953d6c",
   "metadata": {
    "tags": []
   },
   "outputs": [
    {
     "data": {
      "application/vnd.plotly.v1+json": {
       "config": {
        "plotlyServerURL": "https://plot.ly"
       },
       "data": [
        {
         "cliponaxis": false,
         "hovertemplate": [
          "max_depth (CategoricalDistribution): 0.2603818539071346<extra></extra>",
          "n_estimators (CategoricalDistribution): 0.7396181460928655<extra></extra>"
         ],
         "name": "Objective Value",
         "orientation": "h",
         "text": [
          "0.26",
          "0.74"
         ],
         "textposition": "outside",
         "type": "bar",
         "x": [
          0.2603818539071346,
          0.7396181460928655
         ],
         "y": [
          "max_depth",
          "n_estimators"
         ]
        }
       ],
       "layout": {
        "autosize": true,
        "template": {
         "data": {
          "bar": [
           {
            "error_x": {
             "color": "#2a3f5f"
            },
            "error_y": {
             "color": "#2a3f5f"
            },
            "marker": {
             "line": {
              "color": "#E5ECF6",
              "width": 0.5
             },
             "pattern": {
              "fillmode": "overlay",
              "size": 10,
              "solidity": 0.2
             }
            },
            "type": "bar"
           }
          ],
          "barpolar": [
           {
            "marker": {
             "line": {
              "color": "#E5ECF6",
              "width": 0.5
             },
             "pattern": {
              "fillmode": "overlay",
              "size": 10,
              "solidity": 0.2
             }
            },
            "type": "barpolar"
           }
          ],
          "carpet": [
           {
            "aaxis": {
             "endlinecolor": "#2a3f5f",
             "gridcolor": "white",
             "linecolor": "white",
             "minorgridcolor": "white",
             "startlinecolor": "#2a3f5f"
            },
            "baxis": {
             "endlinecolor": "#2a3f5f",
             "gridcolor": "white",
             "linecolor": "white",
             "minorgridcolor": "white",
             "startlinecolor": "#2a3f5f"
            },
            "type": "carpet"
           }
          ],
          "choropleth": [
           {
            "colorbar": {
             "outlinewidth": 0,
             "ticks": ""
            },
            "type": "choropleth"
           }
          ],
          "contour": [
           {
            "colorbar": {
             "outlinewidth": 0,
             "ticks": ""
            },
            "colorscale": [
             [
              0,
              "#0d0887"
             ],
             [
              0.1111111111111111,
              "#46039f"
             ],
             [
              0.2222222222222222,
              "#7201a8"
             ],
             [
              0.3333333333333333,
              "#9c179e"
             ],
             [
              0.4444444444444444,
              "#bd3786"
             ],
             [
              0.5555555555555556,
              "#d8576b"
             ],
             [
              0.6666666666666666,
              "#ed7953"
             ],
             [
              0.7777777777777778,
              "#fb9f3a"
             ],
             [
              0.8888888888888888,
              "#fdca26"
             ],
             [
              1,
              "#f0f921"
             ]
            ],
            "type": "contour"
           }
          ],
          "contourcarpet": [
           {
            "colorbar": {
             "outlinewidth": 0,
             "ticks": ""
            },
            "type": "contourcarpet"
           }
          ],
          "heatmap": [
           {
            "colorbar": {
             "outlinewidth": 0,
             "ticks": ""
            },
            "colorscale": [
             [
              0,
              "#0d0887"
             ],
             [
              0.1111111111111111,
              "#46039f"
             ],
             [
              0.2222222222222222,
              "#7201a8"
             ],
             [
              0.3333333333333333,
              "#9c179e"
             ],
             [
              0.4444444444444444,
              "#bd3786"
             ],
             [
              0.5555555555555556,
              "#d8576b"
             ],
             [
              0.6666666666666666,
              "#ed7953"
             ],
             [
              0.7777777777777778,
              "#fb9f3a"
             ],
             [
              0.8888888888888888,
              "#fdca26"
             ],
             [
              1,
              "#f0f921"
             ]
            ],
            "type": "heatmap"
           }
          ],
          "heatmapgl": [
           {
            "colorbar": {
             "outlinewidth": 0,
             "ticks": ""
            },
            "colorscale": [
             [
              0,
              "#0d0887"
             ],
             [
              0.1111111111111111,
              "#46039f"
             ],
             [
              0.2222222222222222,
              "#7201a8"
             ],
             [
              0.3333333333333333,
              "#9c179e"
             ],
             [
              0.4444444444444444,
              "#bd3786"
             ],
             [
              0.5555555555555556,
              "#d8576b"
             ],
             [
              0.6666666666666666,
              "#ed7953"
             ],
             [
              0.7777777777777778,
              "#fb9f3a"
             ],
             [
              0.8888888888888888,
              "#fdca26"
             ],
             [
              1,
              "#f0f921"
             ]
            ],
            "type": "heatmapgl"
           }
          ],
          "histogram": [
           {
            "marker": {
             "pattern": {
              "fillmode": "overlay",
              "size": 10,
              "solidity": 0.2
             }
            },
            "type": "histogram"
           }
          ],
          "histogram2d": [
           {
            "colorbar": {
             "outlinewidth": 0,
             "ticks": ""
            },
            "colorscale": [
             [
              0,
              "#0d0887"
             ],
             [
              0.1111111111111111,
              "#46039f"
             ],
             [
              0.2222222222222222,
              "#7201a8"
             ],
             [
              0.3333333333333333,
              "#9c179e"
             ],
             [
              0.4444444444444444,
              "#bd3786"
             ],
             [
              0.5555555555555556,
              "#d8576b"
             ],
             [
              0.6666666666666666,
              "#ed7953"
             ],
             [
              0.7777777777777778,
              "#fb9f3a"
             ],
             [
              0.8888888888888888,
              "#fdca26"
             ],
             [
              1,
              "#f0f921"
             ]
            ],
            "type": "histogram2d"
           }
          ],
          "histogram2dcontour": [
           {
            "colorbar": {
             "outlinewidth": 0,
             "ticks": ""
            },
            "colorscale": [
             [
              0,
              "#0d0887"
             ],
             [
              0.1111111111111111,
              "#46039f"
             ],
             [
              0.2222222222222222,
              "#7201a8"
             ],
             [
              0.3333333333333333,
              "#9c179e"
             ],
             [
              0.4444444444444444,
              "#bd3786"
             ],
             [
              0.5555555555555556,
              "#d8576b"
             ],
             [
              0.6666666666666666,
              "#ed7953"
             ],
             [
              0.7777777777777778,
              "#fb9f3a"
             ],
             [
              0.8888888888888888,
              "#fdca26"
             ],
             [
              1,
              "#f0f921"
             ]
            ],
            "type": "histogram2dcontour"
           }
          ],
          "mesh3d": [
           {
            "colorbar": {
             "outlinewidth": 0,
             "ticks": ""
            },
            "type": "mesh3d"
           }
          ],
          "parcoords": [
           {
            "line": {
             "colorbar": {
              "outlinewidth": 0,
              "ticks": ""
             }
            },
            "type": "parcoords"
           }
          ],
          "pie": [
           {
            "automargin": true,
            "type": "pie"
           }
          ],
          "scatter": [
           {
            "fillpattern": {
             "fillmode": "overlay",
             "size": 10,
             "solidity": 0.2
            },
            "type": "scatter"
           }
          ],
          "scatter3d": [
           {
            "line": {
             "colorbar": {
              "outlinewidth": 0,
              "ticks": ""
             }
            },
            "marker": {
             "colorbar": {
              "outlinewidth": 0,
              "ticks": ""
             }
            },
            "type": "scatter3d"
           }
          ],
          "scattercarpet": [
           {
            "marker": {
             "colorbar": {
              "outlinewidth": 0,
              "ticks": ""
             }
            },
            "type": "scattercarpet"
           }
          ],
          "scattergeo": [
           {
            "marker": {
             "colorbar": {
              "outlinewidth": 0,
              "ticks": ""
             }
            },
            "type": "scattergeo"
           }
          ],
          "scattergl": [
           {
            "marker": {
             "colorbar": {
              "outlinewidth": 0,
              "ticks": ""
             }
            },
            "type": "scattergl"
           }
          ],
          "scattermapbox": [
           {
            "marker": {
             "colorbar": {
              "outlinewidth": 0,
              "ticks": ""
             }
            },
            "type": "scattermapbox"
           }
          ],
          "scatterpolar": [
           {
            "marker": {
             "colorbar": {
              "outlinewidth": 0,
              "ticks": ""
             }
            },
            "type": "scatterpolar"
           }
          ],
          "scatterpolargl": [
           {
            "marker": {
             "colorbar": {
              "outlinewidth": 0,
              "ticks": ""
             }
            },
            "type": "scatterpolargl"
           }
          ],
          "scatterternary": [
           {
            "marker": {
             "colorbar": {
              "outlinewidth": 0,
              "ticks": ""
             }
            },
            "type": "scatterternary"
           }
          ],
          "surface": [
           {
            "colorbar": {
             "outlinewidth": 0,
             "ticks": ""
            },
            "colorscale": [
             [
              0,
              "#0d0887"
             ],
             [
              0.1111111111111111,
              "#46039f"
             ],
             [
              0.2222222222222222,
              "#7201a8"
             ],
             [
              0.3333333333333333,
              "#9c179e"
             ],
             [
              0.4444444444444444,
              "#bd3786"
             ],
             [
              0.5555555555555556,
              "#d8576b"
             ],
             [
              0.6666666666666666,
              "#ed7953"
             ],
             [
              0.7777777777777778,
              "#fb9f3a"
             ],
             [
              0.8888888888888888,
              "#fdca26"
             ],
             [
              1,
              "#f0f921"
             ]
            ],
            "type": "surface"
           }
          ],
          "table": [
           {
            "cells": {
             "fill": {
              "color": "#EBF0F8"
             },
             "line": {
              "color": "white"
             }
            },
            "header": {
             "fill": {
              "color": "#C8D4E3"
             },
             "line": {
              "color": "white"
             }
            },
            "type": "table"
           }
          ]
         },
         "layout": {
          "annotationdefaults": {
           "arrowcolor": "#2a3f5f",
           "arrowhead": 0,
           "arrowwidth": 1
          },
          "autotypenumbers": "strict",
          "coloraxis": {
           "colorbar": {
            "outlinewidth": 0,
            "ticks": ""
           }
          },
          "colorscale": {
           "diverging": [
            [
             0,
             "#8e0152"
            ],
            [
             0.1,
             "#c51b7d"
            ],
            [
             0.2,
             "#de77ae"
            ],
            [
             0.3,
             "#f1b6da"
            ],
            [
             0.4,
             "#fde0ef"
            ],
            [
             0.5,
             "#f7f7f7"
            ],
            [
             0.6,
             "#e6f5d0"
            ],
            [
             0.7,
             "#b8e186"
            ],
            [
             0.8,
             "#7fbc41"
            ],
            [
             0.9,
             "#4d9221"
            ],
            [
             1,
             "#276419"
            ]
           ],
           "sequential": [
            [
             0,
             "#0d0887"
            ],
            [
             0.1111111111111111,
             "#46039f"
            ],
            [
             0.2222222222222222,
             "#7201a8"
            ],
            [
             0.3333333333333333,
             "#9c179e"
            ],
            [
             0.4444444444444444,
             "#bd3786"
            ],
            [
             0.5555555555555556,
             "#d8576b"
            ],
            [
             0.6666666666666666,
             "#ed7953"
            ],
            [
             0.7777777777777778,
             "#fb9f3a"
            ],
            [
             0.8888888888888888,
             "#fdca26"
            ],
            [
             1,
             "#f0f921"
            ]
           ],
           "sequentialminus": [
            [
             0,
             "#0d0887"
            ],
            [
             0.1111111111111111,
             "#46039f"
            ],
            [
             0.2222222222222222,
             "#7201a8"
            ],
            [
             0.3333333333333333,
             "#9c179e"
            ],
            [
             0.4444444444444444,
             "#bd3786"
            ],
            [
             0.5555555555555556,
             "#d8576b"
            ],
            [
             0.6666666666666666,
             "#ed7953"
            ],
            [
             0.7777777777777778,
             "#fb9f3a"
            ],
            [
             0.8888888888888888,
             "#fdca26"
            ],
            [
             1,
             "#f0f921"
            ]
           ]
          },
          "colorway": [
           "#636efa",
           "#EF553B",
           "#00cc96",
           "#ab63fa",
           "#FFA15A",
           "#19d3f3",
           "#FF6692",
           "#B6E880",
           "#FF97FF",
           "#FECB52"
          ],
          "font": {
           "color": "#2a3f5f"
          },
          "geo": {
           "bgcolor": "white",
           "lakecolor": "white",
           "landcolor": "#E5ECF6",
           "showlakes": true,
           "showland": true,
           "subunitcolor": "white"
          },
          "hoverlabel": {
           "align": "left"
          },
          "hovermode": "closest",
          "mapbox": {
           "style": "light"
          },
          "paper_bgcolor": "white",
          "plot_bgcolor": "#E5ECF6",
          "polar": {
           "angularaxis": {
            "gridcolor": "white",
            "linecolor": "white",
            "ticks": ""
           },
           "bgcolor": "#E5ECF6",
           "radialaxis": {
            "gridcolor": "white",
            "linecolor": "white",
            "ticks": ""
           }
          },
          "scene": {
           "xaxis": {
            "backgroundcolor": "#E5ECF6",
            "gridcolor": "white",
            "gridwidth": 2,
            "linecolor": "white",
            "showbackground": true,
            "ticks": "",
            "zerolinecolor": "white"
           },
           "yaxis": {
            "backgroundcolor": "#E5ECF6",
            "gridcolor": "white",
            "gridwidth": 2,
            "linecolor": "white",
            "showbackground": true,
            "ticks": "",
            "zerolinecolor": "white"
           },
           "zaxis": {
            "backgroundcolor": "#E5ECF6",
            "gridcolor": "white",
            "gridwidth": 2,
            "linecolor": "white",
            "showbackground": true,
            "ticks": "",
            "zerolinecolor": "white"
           }
          },
          "shapedefaults": {
           "line": {
            "color": "#2a3f5f"
           }
          },
          "ternary": {
           "aaxis": {
            "gridcolor": "white",
            "linecolor": "white",
            "ticks": ""
           },
           "baxis": {
            "gridcolor": "white",
            "linecolor": "white",
            "ticks": ""
           },
           "bgcolor": "#E5ECF6",
           "caxis": {
            "gridcolor": "white",
            "linecolor": "white",
            "ticks": ""
           }
          },
          "title": {
           "x": 0.05
          },
          "xaxis": {
           "automargin": true,
           "gridcolor": "white",
           "linecolor": "white",
           "ticks": "",
           "title": {
            "standoff": 15
           },
           "zerolinecolor": "white",
           "zerolinewidth": 2
          },
          "yaxis": {
           "automargin": true,
           "gridcolor": "white",
           "linecolor": "white",
           "ticks": "",
           "title": {
            "standoff": 15
           },
           "zerolinecolor": "white",
           "zerolinewidth": 2
          }
         }
        },
        "title": {
         "text": "Hyperparameter Importances"
        },
        "xaxis": {
         "autorange": true,
         "range": [
          0,
          0.7785454169398583
         ],
         "title": {
          "text": "Hyperparameter Importance"
         },
         "type": "linear"
        },
        "yaxis": {
         "autorange": true,
         "range": [
          -0.5,
          1.5
         ],
         "title": {
          "text": "Hyperparameter"
         },
         "type": "category"
        }
       }
      },
      "image/png": "[encoded data removed]",
      "text/html": [
       "<div>                            <div id=\"007b2a17-551b-4517-a5d5-9be69772cf3c\" class=\"plotly-graph-div\" style=\"height:525px; width:100%;\"></div>            <script type=\"text/javascript\">                require([\"plotly\"], function(Plotly) {                    window.PLOTLYENV=window.PLOTLYENV || {};                                    if (document.getElementById(\"007b2a17-551b-4517-a5d5-9be69772cf3c\")) {                    Plotly.newPlot(                        \"007b2a17-551b-4517-a5d5-9be69772cf3c\",                        [{\"cliponaxis\":false,\"hovertemplate\":[\"max_depth (CategoricalDistribution): 0.2603818539071346\\u003cextra\\u003e\\u003c\\u002fextra\\u003e\",\"n_estimators (CategoricalDistribution): 0.7396181460928655\\u003cextra\\u003e\\u003c\\u002fextra\\u003e\"],\"name\":\"Objective Value\",\"orientation\":\"h\",\"text\":[\"0.26\",\"0.74\"],\"textposition\":\"outside\",\"x\":[0.2603818539071346,0.7396181460928655],\"y\":[\"max_depth\",\"n_estimators\"],\"type\":\"bar\"}],                        {\"title\":{\"text\":\"Hyperparameter Importances\"},\"xaxis\":{\"title\":{\"text\":\"Hyperparameter Importance\"}},\"yaxis\":{\"title\":{\"text\":\"Hyperparameter\"}},\"template\":{\"data\":{\"histogram2dcontour\":[{\"type\":\"histogram2dcontour\",\"colorbar\":{\"outlinewidth\":0,\"ticks\":\"\"},\"colorscale\":[[0.0,\"#0d0887\"],[0.1111111111111111,\"#46039f\"],[0.2222222222222222,\"#7201a8\"],[0.3333333333333333,\"#9c179e\"],[0.4444444444444444,\"#bd3786\"],[0.5555555555555556,\"#d8576b\"],[0.6666666666666666,\"#ed7953\"],[0.7777777777777778,\"#fb9f3a\"],[0.8888888888888888,\"#fdca26\"],[1.0,\"#f0f921\"]]}],\"choropleth\":[{\"type\":\"choropleth\",\"colorbar\":{\"outlinewidth\":0,\"ticks\":\"\"}}],\"histogram2d\":[{\"type\":\"histogram2d\",\"colorbar\":{\"outlinewidth\":0,\"ticks\":\"\"},\"colorscale\":[[0.0,\"#0d0887\"],[0.1111111111111111,\"#46039f\"],[0.2222222222222222,\"#7201a8\"],[0.3333333333333333,\"#9c179e\"],[0.4444444444444444,\"#bd3786\"],[0.5555555555555556,\"#d8576b\"],[0.6666666666666666,\"#ed7953\"],[0.7777777777777778,\"#fb9f3a\"],[0.8888888888888888,\"#fdca26\"],[1.0,\"#f0f921\"]]}],\"heatmap\":[{\"type\":\"heatmap\",\"colorbar\":{\"outlinewidth\":0,\"ticks\":\"\"},\"colorscale\":[[0.0,\"#0d0887\"],[0.1111111111111111,\"#46039f\"],[0.2222222222222222,\"#7201a8\"],[0.3333333333333333,\"#9c179e\"],[0.4444444444444444,\"#bd3786\"],[0.5555555555555556,\"#d8576b\"],[0.6666666666666666,\"#ed7953\"],[0.7777777777777778,\"#fb9f3a\"],[0.8888888888888888,\"#fdca26\"],[1.0,\"#f0f921\"]]}],\"heatmapgl\":[{\"type\":\"heatmapgl\",\"colorbar\":{\"outlinewidth\":0,\"ticks\":\"\"},\"colorscale\":[[0.0,\"#0d0887\"],[0.1111111111111111,\"#46039f\"],[0.2222222222222222,\"#7201a8\"],[0.3333333333333333,\"#9c179e\"],[0.4444444444444444,\"#bd3786\"],[0.5555555555555556,\"#d8576b\"],[0.6666666666666666,\"#ed7953\"],[0.7777777777777778,\"#fb9f3a\"],[0.8888888888888888,\"#fdca26\"],[1.0,\"#f0f921\"]]}],\"contourcarpet\":[{\"type\":\"contourcarpet\",\"colorbar\":{\"outlinewidth\":0,\"ticks\":\"\"}}],\"contour\":[{\"type\":\"contour\",\"colorbar\":{\"outlinewidth\":0,\"ticks\":\"\"},\"colorscale\":[[0.0,\"#0d0887\"],[0.1111111111111111,\"#46039f\"],[0.2222222222222222,\"#7201a8\"],[0.3333333333333333,\"#9c179e\"],[0.4444444444444444,\"#bd3786\"],[0.5555555555555556,\"#d8576b\"],[0.6666666666666666,\"#ed7953\"],[0.7777777777777778,\"#fb9f3a\"],[0.8888888888888888,\"#fdca26\"],[1.0,\"#f0f921\"]]}],\"surface\":[{\"type\":\"surface\",\"colorbar\":{\"outlinewidth\":0,\"ticks\":\"\"},\"colorscale\":[[0.0,\"#0d0887\"],[0.1111111111111111,\"#46039f\"],[0.2222222222222222,\"#7201a8\"],[0.3333333333333333,\"#9c179e\"],[0.4444444444444444,\"#bd3786\"],[0.5555555555555556,\"#d8576b\"],[0.6666666666666666,\"#ed7953\"],[0.7777777777777778,\"#fb9f3a\"],[0.8888888888888888,\"#fdca26\"],[1.0,\"#f0f921\"]]}],\"mesh3d\":[{\"type\":\"mesh3d\",\"colorbar\":{\"outlinewidth\":0,\"ticks\":\"\"}}],\"scatter\":[{\"fillpattern\":{\"fillmode\":\"overlay\",\"size\":10,\"solidity\":0.2},\"type\":\"scatter\"}],\"parcoords\":[{\"type\":\"parcoords\",\"line\":{\"colorbar\":{\"outlinewidth\":0,\"ticks\":\"\"}}}],\"scatterpolargl\":[{\"type\":\"scatterpolargl\",\"marker\":{\"colorbar\":{\"outlinewidth\":0,\"ticks\":\"\"}}}],\"bar\":[{\"error_x\":{\"color\":\"#2a3f5f\"},\"error_y\":{\"color\":\"#2a3f5f\"},\"marker\":{\"line\":{\"color\":\"#E5ECF6\",\"width\":0.5},\"pattern\":{\"fillmode\":\"overlay\",\"size\":10,\"solidity\":0.2}},\"type\":\"bar\"}],\"scattergeo\":[{\"type\":\"scattergeo\",\"marker\":{\"colorbar\":{\"outlinewidth\":0,\"ticks\":\"\"}}}],\"scatterpolar\":[{\"type\":\"scatterpolar\",\"marker\":{\"colorbar\":{\"outlinewidth\":0,\"ticks\":\"\"}}}],\"histogram\":[{\"marker\":{\"pattern\":{\"fillmode\":\"overlay\",\"size\":10,\"solidity\":0.2}},\"type\":\"histogram\"}],\"scattergl\":[{\"type\":\"scattergl\",\"marker\":{\"colorbar\":{\"outlinewidth\":0,\"ticks\":\"\"}}}],\"scatter3d\":[{\"type\":\"scatter3d\",\"line\":{\"colorbar\":{\"outlinewidth\":0,\"ticks\":\"\"}},\"marker\":{\"colorbar\":{\"outlinewidth\":0,\"ticks\":\"\"}}}],\"scattermapbox\":[{\"type\":\"scattermapbox\",\"marker\":{\"colorbar\":{\"outlinewidth\":0,\"ticks\":\"\"}}}],\"scatterternary\":[{\"type\":\"scatterternary\",\"marker\":{\"colorbar\":{\"outlinewidth\":0,\"ticks\":\"\"}}}],\"scattercarpet\":[{\"type\":\"scattercarpet\",\"marker\":{\"colorbar\":{\"outlinewidth\":0,\"ticks\":\"\"}}}],\"carpet\":[{\"aaxis\":{\"endlinecolor\":\"#2a3f5f\",\"gridcolor\":\"white\",\"linecolor\":\"white\",\"minorgridcolor\":\"white\",\"startlinecolor\":\"#2a3f5f\"},\"baxis\":{\"endlinecolor\":\"#2a3f5f\",\"gridcolor\":\"white\",\"linecolor\":\"white\",\"minorgridcolor\":\"white\",\"startlinecolor\":\"#2a3f5f\"},\"type\":\"carpet\"}],\"table\":[{\"cells\":{\"fill\":{\"color\":\"#EBF0F8\"},\"line\":{\"color\":\"white\"}},\"header\":{\"fill\":{\"color\":\"#C8D4E3\"},\"line\":{\"color\":\"white\"}},\"type\":\"table\"}],\"barpolar\":[{\"marker\":{\"line\":{\"color\":\"#E5ECF6\",\"width\":0.5},\"pattern\":{\"fillmode\":\"overlay\",\"size\":10,\"solidity\":0.2}},\"type\":\"barpolar\"}],\"pie\":[{\"automargin\":true,\"type\":\"pie\"}]},\"layout\":{\"autotypenumbers\":\"strict\",\"colorway\":[\"#636efa\",\"#EF553B\",\"#00cc96\",\"#ab63fa\",\"#FFA15A\",\"#19d3f3\",\"#FF6692\",\"#B6E880\",\"#FF97FF\",\"#FECB52\"],\"font\":{\"color\":\"#2a3f5f\"},\"hovermode\":\"closest\",\"hoverlabel\":{\"align\":\"left\"},\"paper_bgcolor\":\"white\",\"plot_bgcolor\":\"#E5ECF6\",\"polar\":{\"bgcolor\":\"#E5ECF6\",\"angularaxis\":{\"gridcolor\":\"white\",\"linecolor\":\"white\",\"ticks\":\"\"},\"radialaxis\":{\"gridcolor\":\"white\",\"linecolor\":\"white\",\"ticks\":\"\"}},\"ternary\":{\"bgcolor\":\"#E5ECF6\",\"aaxis\":{\"gridcolor\":\"white\",\"linecolor\":\"white\",\"ticks\":\"\"},\"baxis\":{\"gridcolor\":\"white\",\"linecolor\":\"white\",\"ticks\":\"\"},\"caxis\":{\"gridcolor\":\"white\",\"linecolor\":\"white\",\"ticks\":\"\"}},\"coloraxis\":{\"colorbar\":{\"outlinewidth\":0,\"ticks\":\"\"}},\"colorscale\":{\"sequential\":[[0.0,\"#0d0887\"],[0.1111111111111111,\"#46039f\"],[0.2222222222222222,\"#7201a8\"],[0.3333333333333333,\"#9c179e\"],[0.4444444444444444,\"#bd3786\"],[0.5555555555555556,\"#d8576b\"],[0.6666666666666666,\"#ed7953\"],[0.7777777777777778,\"#fb9f3a\"],[0.8888888888888888,\"#fdca26\"],[1.0,\"#f0f921\"]],\"sequentialminus\":[[0.0,\"#0d0887\"],[0.1111111111111111,\"#46039f\"],[0.2222222222222222,\"#7201a8\"],[0.3333333333333333,\"#9c179e\"],[0.4444444444444444,\"#bd3786\"],[0.5555555555555556,\"#d8576b\"],[0.6666666666666666,\"#ed7953\"],[0.7777777777777778,\"#fb9f3a\"],[0.8888888888888888,\"#fdca26\"],[1.0,\"#f0f921\"]],\"diverging\":[[0,\"#8e0152\"],[0.1,\"#c51b7d\"],[0.2,\"#de77ae\"],[0.3,\"#f1b6da\"],[0.4,\"#fde0ef\"],[0.5,\"#f7f7f7\"],[0.6,\"#e6f5d0\"],[0.7,\"#b8e186\"],[0.8,\"#7fbc41\"],[0.9,\"#4d9221\"],[1,\"#276419\"]]},\"xaxis\":{\"gridcolor\":\"white\",\"linecolor\":\"white\",\"ticks\":\"\",\"title\":{\"standoff\":15},\"zerolinecolor\":\"white\",\"automargin\":true,\"zerolinewidth\":2},\"yaxis\":{\"gridcolor\":\"white\",\"linecolor\":\"white\",\"ticks\":\"\",\"title\":{\"standoff\":15},\"zerolinecolor\":\"white\",\"automargin\":true,\"zerolinewidth\":2},\"scene\":{\"xaxis\":{\"backgroundcolor\":\"#E5ECF6\",\"gridcolor\":\"white\",\"linecolor\":\"white\",\"showbackground\":true,\"ticks\":\"\",\"zerolinecolor\":\"white\",\"gridwidth\":2},\"yaxis\":{\"backgroundcolor\":\"#E5ECF6\",\"gridcolor\":\"white\",\"linecolor\":\"white\",\"showbackground\":true,\"ticks\":\"\",\"zerolinecolor\":\"white\",\"gridwidth\":2},\"zaxis\":{\"backgroundcolor\":\"#E5ECF6\",\"gridcolor\":\"white\",\"linecolor\":\"white\",\"showbackground\":true,\"ticks\":\"\",\"zerolinecolor\":\"white\",\"gridwidth\":2}},\"shapedefaults\":{\"line\":{\"color\":\"#2a3f5f\"}},\"annotationdefaults\":{\"arrowcolor\":\"#2a3f5f\",\"arrowhead\":0,\"arrowwidth\":1},\"geo\":{\"bgcolor\":\"white\",\"landcolor\":\"#E5ECF6\",\"subunitcolor\":\"white\",\"showland\":true,\"showlakes\":true,\"lakecolor\":\"white\"},\"title\":{\"x\":0.05},\"mapbox\":{\"style\":\"light\"}}}},                        {\"responsive\": true}                    ).then(function(){\n",
       "                            \n",
       "var gd = document.getElementById('007b2a17-551b-4517-a5d5-9be69772cf3c');\n",
       "var x = new MutationObserver(function (mutations, observer) {{\n",
       "        var display = window.getComputedStyle(gd).display;\n",
       "        if (!display || display === 'none') {{\n",
       "            console.log([gd, 'removed!']);\n",
       "            Plotly.purge(gd);\n",
       "            observer.disconnect();\n",
       "        }}\n",
       "}});\n",
       "\n",
       "// Listen for the removal of the full notebook cells\n",
       "var notebookContainer = gd.closest('#notebook-container');\n",
       "if (notebookContainer) {{\n",
       "    x.observe(notebookContainer, {childList: true});\n",
       "}}\n",
       "\n",
       "// Listen for the clearing of the current output cell\n",
       "var outputEl = gd.closest('.output');\n",
       "if (outputEl) {{\n",
       "    x.observe(outputEl, {childList: true});\n",
       "}}\n",
       "\n",
       "                        })                };                });            </script>        </div>"
      ]
     },
     "metadata": {},
     "output_type": "display_data"
    }
   ],
   "source": [
    "plot_param_importances(study)"
   ]
  },
  {
   "cell_type": "markdown",
   "id": "ffd4f8b5-b64c-49d8-a12c-e01e93fc452a",
   "metadata": {
    "tags": []
   },
   "source": [
    "# Classifier Modeling\n",
    "\n",
    "## Logistic Regression Model"
   ]
  },
  {
   "cell_type": "code",
   "execution_count": 12,
   "id": "1f8282e9-bca0-495e-a38d-8e894fc1785c",
   "metadata": {
    "tags": []
   },
   "outputs": [],
   "source": [
    "# Define your features and target variable\n",
    "X = fixture_oh.drop(['home_win', 'ascore', 'hscore', 'hdiff', 'date', 'time', 'venue', 'time_int', 'year', 'day'], axis=1)\n",
    "y = fixture_oh['home_win']\n",
    "\n",
    "# Split the data\n",
    "X_train, X_test, y_train, y_test = train_test_split(X, y, test_size=0.1, shuffle=True, random_state=42)\n",
    "X_train, X_val, y_train, y_val = train_test_split(X_train, y_train, test_size=0.1, shuffle=True, random_state=42)"
   ]
  },
  {
   "cell_type": "code",
   "execution_count": 13,
   "id": "83e38d8d-c201-45db-a040-5a28d04a5c4c",
   "metadata": {
    "tags": []
   },
   "outputs": [
    {
     "data": {
      "text/plain": [
       "(221,)"
      ]
     },
     "execution_count": 13,
     "metadata": {},
     "output_type": "execute_result"
    }
   ],
   "source": [
    "y_val.shape"
   ]
  },
  {
   "cell_type": "code",
   "execution_count": 14,
   "id": "7a7fe7b4-1cae-426b-936d-969e49712523",
   "metadata": {
    "tags": []
   },
   "outputs": [
    {
     "data": {
      "text/html": [
       "<style>#sk-container-id-2 {color: black;}#sk-container-id-2 pre{padding: 0;}#sk-container-id-2 div.sk-toggleable {background-color: white;}#sk-container-id-2 label.sk-toggleable__label {cursor: pointer;display: block;width: 100%;margin-bottom: 0;padding: 0.3em;box-sizing: border-box;text-align: center;}#sk-container-id-2 label.sk-toggleable__label-arrow:before {content: \"▸\";float: left;margin-right: 0.25em;color: #696969;}#sk-container-id-2 label.sk-toggleable__label-arrow:hover:before {color: black;}#sk-container-id-2 div.sk-estimator:hover label.sk-toggleable__label-arrow:before {color: black;}#sk-container-id-2 div.sk-toggleable__content {max-height: 0;max-width: 0;overflow: hidden;text-align: left;background-color: #f0f8ff;}#sk-container-id-2 div.sk-toggleable__content pre {margin: 0.2em;color: black;border-radius: 0.25em;background-color: #f0f8ff;}#sk-container-id-2 input.sk-toggleable__control:checked~div.sk-toggleable__content {max-height: 200px;max-width: 100%;overflow: auto;}#sk-container-id-2 input.sk-toggleable__control:checked~label.sk-toggleable__label-arrow:before {content: \"▾\";}#sk-container-id-2 div.sk-estimator input.sk-toggleable__control:checked~label.sk-toggleable__label {background-color: #d4ebff;}#sk-container-id-2 div.sk-label input.sk-toggleable__control:checked~label.sk-toggleable__label {background-color: #d4ebff;}#sk-container-id-2 input.sk-hidden--visually {border: 0;clip: rect(1px 1px 1px 1px);clip: rect(1px, 1px, 1px, 1px);height: 1px;margin: -1px;overflow: hidden;padding: 0;position: absolute;width: 1px;}#sk-container-id-2 div.sk-estimator {font-family: monospace;background-color: #f0f8ff;border: 1px dotted black;border-radius: 0.25em;box-sizing: border-box;margin-bottom: 0.5em;}#sk-container-id-2 div.sk-estimator:hover {background-color: #d4ebff;}#sk-container-id-2 div.sk-parallel-item::after {content: \"\";width: 100%;border-bottom: 1px solid gray;flex-grow: 1;}#sk-container-id-2 div.sk-label:hover label.sk-toggleable__label {background-color: #d4ebff;}#sk-container-id-2 div.sk-serial::before {content: \"\";position: absolute;border-left: 1px solid gray;box-sizing: border-box;top: 0;bottom: 0;left: 50%;z-index: 0;}#sk-container-id-2 div.sk-serial {display: flex;flex-direction: column;align-items: center;background-color: white;padding-right: 0.2em;padding-left: 0.2em;position: relative;}#sk-container-id-2 div.sk-item {position: relative;z-index: 1;}#sk-container-id-2 div.sk-parallel {display: flex;align-items: stretch;justify-content: center;background-color: white;position: relative;}#sk-container-id-2 div.sk-item::before, #sk-container-id-2 div.sk-parallel-item::before {content: \"\";position: absolute;border-left: 1px solid gray;box-sizing: border-box;top: 0;bottom: 0;left: 50%;z-index: -1;}#sk-container-id-2 div.sk-parallel-item {display: flex;flex-direction: column;z-index: 1;position: relative;background-color: white;}#sk-container-id-2 div.sk-parallel-item:first-child::after {align-self: flex-end;width: 50%;}#sk-container-id-2 div.sk-parallel-item:last-child::after {align-self: flex-start;width: 50%;}#sk-container-id-2 div.sk-parallel-item:only-child::after {width: 0;}#sk-container-id-2 div.sk-dashed-wrapped {border: 1px dashed gray;margin: 0 0.4em 0.5em 0.4em;box-sizing: border-box;padding-bottom: 0.4em;background-color: white;}#sk-container-id-2 div.sk-label label {font-family: monospace;font-weight: bold;display: inline-block;line-height: 1.2em;}#sk-container-id-2 div.sk-label-container {text-align: center;}#sk-container-id-2 div.sk-container {/* jupyter's `normalize.less` sets `[hidden] { display: none; }` but bootstrap.min.css set `[hidden] { display: none !important; }` so we also need the `!important` here to be able to override the default hidden behavior on the sphinx rendered scikit-learn.org. See: https://github.com/scikit-learn/scikit-learn/issues/21755 */display: inline-block !important;position: relative;}#sk-container-id-2 div.sk-text-repr-fallback {display: none;}</style><div id=\"sk-container-id-2\" class=\"sk-top-container\"><div class=\"sk-text-repr-fallback\"><pre>LogisticRegression(max_iter=500)</pre><b>In a Jupyter environment, please rerun this cell to show the HTML representation or trust the notebook. <br />On GitHub, the HTML representation is unable to render, please try loading this page with nbviewer.org.</b></div><div class=\"sk-container\" hidden><div class=\"sk-item\"><div class=\"sk-estimator sk-toggleable\"><input class=\"sk-toggleable__control sk-hidden--visually\" id=\"sk-estimator-id-2\" type=\"checkbox\" checked><label for=\"sk-estimator-id-2\" class=\"sk-toggleable__label sk-toggleable__label-arrow\">LogisticRegression</label><div class=\"sk-toggleable__content\"><pre>LogisticRegression(max_iter=500)</pre></div></div></div></div></div>"
      ],
      "text/plain": [
       "LogisticRegression(max_iter=500)"
      ]
     },
     "execution_count": 14,
     "metadata": {},
     "output_type": "execute_result"
    }
   ],
   "source": [
    "# Create and fit the model\n",
    "model = LogisticRegression(max_iter=500)\n",
    "model.fit(X_train, y_train)"
   ]
  },
  {
   "cell_type": "code",
   "execution_count": 15,
   "id": "732ddb1e-26c8-43ee-bd96-0782cc4e015e",
   "metadata": {
    "tags": []
   },
   "outputs": [
    {
     "name": "stdout",
     "output_type": "stream",
     "text": [
      "              precision    recall  f1-score   support\n",
      "\n",
      "           0       0.53      0.36      0.43       105\n",
      "           1       0.61      0.76      0.68       140\n",
      "\n",
      "    accuracy                           0.59       245\n",
      "   macro avg       0.57      0.56      0.55       245\n",
      "weighted avg       0.58      0.59      0.57       245\n",
      "\n"
     ]
    }
   ],
   "source": [
    "# Predict and evaluate\n",
    "y_pred = model.predict(X_test)\n",
    "print(classification_report(y_test, y_pred))"
   ]
  },
  {
   "cell_type": "markdown",
   "id": "75efdd7c-a4a7-4f93-9ace-0c0c8a9da0b6",
   "metadata": {},
   "source": [
    "### Optuna Logistic Regression"
   ]
  },
  {
   "cell_type": "code",
   "execution_count": 16,
   "id": "12589d90-b81e-4b0a-8bf4-8eb9a3d7124b",
   "metadata": {
    "tags": []
   },
   "outputs": [],
   "source": [
    "def objective(trial):\n",
    "    \n",
    "    solver = 'lbfgs'\n",
    "    # Suggest a value for C\n",
    "    C = trial.suggest_float('C', 1e-4, 1e4, log=True)\n",
    "\n",
    "    # Model definition\n",
    "    model = LogisticRegression(max_iter=1000, C=C, solver='lbfgs')\n",
    "\n",
    "    # Fit model\n",
    "    model.fit(X_train, y_train)\n",
    "\n",
    "    # Predict and calculate accuracy\n",
    "    y_pred = model.predict(X_val)\n",
    "    accuracy = accuracy_score(y_val, y_pred)\n",
    "\n",
    "    return accuracy"
   ]
  },
  {
   "cell_type": "code",
   "execution_count": 486,
   "id": "55237ee7-fa33-4052-a274-d4ea567f8aad",
   "metadata": {
    "collapsed": true,
    "jupyter": {
     "outputs_hidden": true
    },
    "tags": []
   },
   "outputs": [
    {
     "name": "stderr",
     "output_type": "stream",
     "text": [
      "[I 2023-12-21 06:02:00,022] A new study created in memory with name: no-name-0a83d656-f30a-4679-a266-8d967b75f9bc\n",
      "[I 2023-12-21 06:02:00,111] Trial 0 finished with value: 0.5429864253393665 and parameters: {'C': 0.10026300859956709}. Best is trial 0 with value: 0.5429864253393665.\n",
      "[I 2023-12-21 06:02:00,149] Trial 1 finished with value: 0.5248868778280543 and parameters: {'C': 0.0002004478792404313}. Best is trial 0 with value: 0.5429864253393665.\n",
      "[I 2023-12-21 06:02:00,318] Trial 2 finished with value: 0.5384615384615384 and parameters: {'C': 80.42095755916775}. Best is trial 0 with value: 0.5429864253393665.\n",
      "[I 2023-12-21 06:02:00,338] Trial 3 finished with value: 0.5248868778280543 and parameters: {'C': 0.001232744419942421}. Best is trial 0 with value: 0.5429864253393665.\n",
      "[I 2023-12-21 06:02:00,446] Trial 4 finished with value: 0.5248868778280543 and parameters: {'C': 1.1002929238307004}. Best is trial 0 with value: 0.5429864253393665.\n",
      "[I 2023-12-21 06:02:00,490] Trial 5 finished with value: 0.5429864253393665 and parameters: {'C': 0.14973393473251403}. Best is trial 0 with value: 0.5429864253393665.\n",
      "[I 2023-12-21 06:02:00,511] Trial 6 finished with value: 0.5384615384615384 and parameters: {'C': 0.0027630560098053604}. Best is trial 0 with value: 0.5429864253393665.\n",
      "[I 2023-12-21 06:02:00,540] Trial 7 finished with value: 0.5294117647058824 and parameters: {'C': 0.0020557119682209665}. Best is trial 0 with value: 0.5429864253393665.\n",
      "[I 2023-12-21 06:02:00,676] Trial 8 finished with value: 0.5384615384615384 and parameters: {'C': 36.66862954998135}. Best is trial 0 with value: 0.5429864253393665.\n",
      "[I 2023-12-21 06:02:00,697] Trial 9 finished with value: 0.5248868778280543 and parameters: {'C': 0.0003876769449315622}. Best is trial 0 with value: 0.5429864253393665.\n",
      "[I 2023-12-21 06:02:00,938] Trial 10 finished with value: 0.5384615384615384 and parameters: {'C': 4824.697132428752}. Best is trial 0 with value: 0.5429864253393665.\n",
      "[I 2023-12-21 06:02:00,995] Trial 11 finished with value: 0.5339366515837104 and parameters: {'C': 0.18203024711947238}. Best is trial 0 with value: 0.5429864253393665.\n",
      "[I 2023-12-21 06:02:01,035] Trial 12 finished with value: 0.5429864253393665 and parameters: {'C': 0.08515441412180738}. Best is trial 0 with value: 0.5429864253393665.\n",
      "[I 2023-12-21 06:02:01,088] Trial 13 finished with value: 0.5294117647058824 and parameters: {'C': 0.043551876146046394}. Best is trial 0 with value: 0.5429864253393665.\n",
      "[I 2023-12-21 06:02:01,231] Trial 14 finished with value: 0.5294117647058824 and parameters: {'C': 3.4245587547069625}. Best is trial 0 with value: 0.5429864253393665.\n",
      "[I 2023-12-21 06:02:01,267] Trial 15 finished with value: 0.5565610859728507 and parameters: {'C': 0.008700292816412252}. Best is trial 15 with value: 0.5565610859728507.\n",
      "[I 2023-12-21 06:02:01,301] Trial 16 finished with value: 0.5475113122171946 and parameters: {'C': 0.012886762252573954}. Best is trial 15 with value: 0.5565610859728507.\n",
      "[I 2023-12-21 06:02:01,333] Trial 17 finished with value: 0.5384615384615384 and parameters: {'C': 0.015582146444570932}. Best is trial 15 with value: 0.5565610859728507.\n",
      "[I 2023-12-21 06:02:01,367] Trial 18 finished with value: 0.5565610859728507 and parameters: {'C': 0.009035415177003018}. Best is trial 15 with value: 0.5565610859728507.\n",
      "[I 2023-12-21 06:02:01,387] Trial 19 finished with value: 0.5248868778280543 and parameters: {'C': 0.00013308265008566913}. Best is trial 15 with value: 0.5565610859728507.\n",
      "[I 2023-12-21 06:02:01,518] Trial 20 finished with value: 0.5384615384615384 and parameters: {'C': 16.593749116582547}. Best is trial 15 with value: 0.5565610859728507.\n",
      "[I 2023-12-21 06:02:01,545] Trial 21 finished with value: 0.5565610859728507 and parameters: {'C': 0.008668428156039949}. Best is trial 15 with value: 0.5565610859728507.\n",
      "[I 2023-12-21 06:02:01,573] Trial 22 finished with value: 0.5610859728506787 and parameters: {'C': 0.006554806898833576}. Best is trial 22 with value: 0.5610859728506787.\n",
      "[I 2023-12-21 06:02:01,655] Trial 23 finished with value: 0.5294117647058824 and parameters: {'C': 0.6122643020068738}. Best is trial 22 with value: 0.5610859728506787.\n",
      "[I 2023-12-21 06:02:01,674] Trial 24 finished with value: 0.5248868778280543 and parameters: {'C': 0.0006409091406226784}. Best is trial 22 with value: 0.5610859728506787.\n",
      "[I 2023-12-21 06:02:01,728] Trial 25 finished with value: 0.5565610859728507 and parameters: {'C': 0.009958843763882747}. Best is trial 22 with value: 0.5610859728506787.\n",
      "[I 2023-12-21 06:02:01,754] Trial 26 finished with value: 0.5429864253393665 and parameters: {'C': 0.0030427697297105527}. Best is trial 22 with value: 0.5610859728506787.\n",
      "[I 2023-12-21 06:02:01,799] Trial 27 finished with value: 0.5203619909502263 and parameters: {'C': 0.030900051127676662}. Best is trial 22 with value: 0.5610859728506787.\n",
      "[I 2023-12-21 06:02:01,881] Trial 28 finished with value: 0.5294117647058824 and parameters: {'C': 0.7041905560386846}. Best is trial 22 with value: 0.5610859728506787.\n",
      "[I 2023-12-21 06:02:02,035] Trial 29 finished with value: 0.5384615384615384 and parameters: {'C': 327.92726589380356}. Best is trial 22 with value: 0.5610859728506787.\n",
      "[I 2023-12-21 06:02:02,062] Trial 30 finished with value: 0.5475113122171946 and parameters: {'C': 0.0050434520330669115}. Best is trial 22 with value: 0.5610859728506787.\n",
      "[I 2023-12-21 06:02:02,105] Trial 31 finished with value: 0.5248868778280543 and parameters: {'C': 0.03711492511734557}. Best is trial 22 with value: 0.5610859728506787.\n",
      "[I 2023-12-21 06:02:02,117] Trial 32 finished with value: 0.5248868778280543 and parameters: {'C': 0.0006399681958555029}. Best is trial 22 with value: 0.5610859728506787.\n",
      "[I 2023-12-21 06:02:02,191] Trial 33 finished with value: 0.5475113122171946 and parameters: {'C': 0.012140518830094918}. Best is trial 22 with value: 0.5610859728506787.\n",
      "[I 2023-12-21 06:02:02,271] Trial 34 finished with value: 0.5339366515837104 and parameters: {'C': 0.25023606077921734}. Best is trial 22 with value: 0.5610859728506787.\n",
      "[I 2023-12-21 06:02:02,294] Trial 35 finished with value: 0.5248868778280543 and parameters: {'C': 0.0011810330878655856}. Best is trial 22 with value: 0.5610859728506787.\n",
      "[I 2023-12-21 06:02:02,318] Trial 36 finished with value: 0.5429864253393665 and parameters: {'C': 0.00561789885352015}. Best is trial 22 with value: 0.5610859728506787.\n",
      "[I 2023-12-21 06:02:02,337] Trial 37 finished with value: 0.5248868778280543 and parameters: {'C': 0.0002882599553117855}. Best is trial 22 with value: 0.5610859728506787.\n",
      "[I 2023-12-21 06:02:02,375] Trial 38 finished with value: 0.5248868778280543 and parameters: {'C': 0.06993701537822734}. Best is trial 22 with value: 0.5610859728506787.\n",
      "[I 2023-12-21 06:02:02,462] Trial 39 finished with value: 0.5294117647058824 and parameters: {'C': 1.8470634228355798}. Best is trial 22 with value: 0.5610859728506787.\n",
      "[I 2023-12-21 06:02:02,485] Trial 40 finished with value: 0.5339366515837104 and parameters: {'C': 0.002213256345907135}. Best is trial 22 with value: 0.5610859728506787.\n",
      "[I 2023-12-21 06:02:02,511] Trial 41 finished with value: 0.5565610859728507 and parameters: {'C': 0.007117436952591234}. Best is trial 22 with value: 0.5610859728506787.\n",
      "[I 2023-12-21 06:02:02,538] Trial 42 finished with value: 0.5294117647058824 and parameters: {'C': 0.02014302554315347}. Best is trial 22 with value: 0.5610859728506787.\n",
      "[I 2023-12-21 06:02:02,550] Trial 43 finished with value: 0.5248868778280543 and parameters: {'C': 0.0012693005289201407}. Best is trial 22 with value: 0.5610859728506787.\n",
      "[I 2023-12-21 06:02:02,580] Trial 44 finished with value: 0.5565610859728507 and parameters: {'C': 0.007542709616921519}. Best is trial 22 with value: 0.5610859728506787.\n",
      "[I 2023-12-21 06:02:02,653] Trial 45 finished with value: 0.5248868778280543 and parameters: {'C': 0.3389490510136399}. Best is trial 22 with value: 0.5610859728506787.\n",
      "[I 2023-12-21 06:02:02,695] Trial 46 finished with value: 0.5429864253393665 and parameters: {'C': 0.10210822881249125}. Best is trial 22 with value: 0.5610859728506787.\n",
      "[I 2023-12-21 06:02:02,720] Trial 47 finished with value: 0.5248868778280543 and parameters: {'C': 0.0009224438414163462}. Best is trial 22 with value: 0.5610859728506787.\n",
      "[I 2023-12-21 06:02:02,743] Trial 48 finished with value: 0.5429864253393665 and parameters: {'C': 0.0031171542838400136}. Best is trial 22 with value: 0.5610859728506787.\n",
      "[I 2023-12-21 06:02:02,761] Trial 49 finished with value: 0.5248868778280543 and parameters: {'C': 0.00011934638962770408}. Best is trial 22 with value: 0.5610859728506787.\n",
      "[I 2023-12-21 06:02:02,804] Trial 50 finished with value: 0.5384615384615384 and parameters: {'C': 0.0502825056094149}. Best is trial 22 with value: 0.5610859728506787.\n",
      "[I 2023-12-21 06:02:02,821] Trial 51 finished with value: 0.5565610859728507 and parameters: {'C': 0.007726834671758271}. Best is trial 22 with value: 0.5610859728506787.\n",
      "[I 2023-12-21 06:02:02,863] Trial 52 finished with value: 0.5475113122171946 and parameters: {'C': 0.01154089061340179}. Best is trial 22 with value: 0.5610859728506787.\n",
      "[I 2023-12-21 06:02:02,905] Trial 53 finished with value: 0.5203619909502263 and parameters: {'C': 0.03053700128215297}. Best is trial 22 with value: 0.5610859728506787.\n",
      "[I 2023-12-21 06:02:02,928] Trial 54 finished with value: 0.5429864253393665 and parameters: {'C': 0.003055094660799811}. Best is trial 22 with value: 0.5610859728506787.\n",
      "[I 2023-12-21 06:02:02,939] Trial 55 finished with value: 0.5248868778280543 and parameters: {'C': 0.00043437440750513214}. Best is trial 22 with value: 0.5610859728506787.\n",
      "[I 2023-12-21 06:02:02,992] Trial 56 finished with value: 0.5384615384615384 and parameters: {'C': 0.16364115737536514}. Best is trial 22 with value: 0.5610859728506787.\n",
      "[I 2023-12-21 06:02:03,018] Trial 57 finished with value: 0.5475113122171946 and parameters: {'C': 0.005298515972556788}. Best is trial 22 with value: 0.5610859728506787.\n",
      "[I 2023-12-21 06:02:03,049] Trial 58 finished with value: 0.5339366515837104 and parameters: {'C': 0.01619275713078625}. Best is trial 22 with value: 0.5610859728506787.\n",
      "[I 2023-12-21 06:02:03,071] Trial 59 finished with value: 0.5248868778280543 and parameters: {'C': 0.0017612756081866927}. Best is trial 22 with value: 0.5610859728506787.\n",
      "[I 2023-12-21 06:02:03,248] Trial 60 finished with value: 0.5384615384615384 and parameters: {'C': 1049.8382050807036}. Best is trial 22 with value: 0.5610859728506787.\n",
      "[I 2023-12-21 06:02:03,288] Trial 61 finished with value: 0.5565610859728507 and parameters: {'C': 0.008691569076250563}. Best is trial 22 with value: 0.5610859728506787.\n",
      "[I 2023-12-21 06:02:03,325] Trial 62 finished with value: 0.5248868778280543 and parameters: {'C': 0.022788421684608404}. Best is trial 22 with value: 0.5610859728506787.\n",
      "[I 2023-12-21 06:02:03,350] Trial 63 finished with value: 0.5475113122171946 and parameters: {'C': 0.005388918375068802}. Best is trial 22 with value: 0.5610859728506787.\n",
      "[I 2023-12-21 06:02:03,397] Trial 64 finished with value: 0.5384615384615384 and parameters: {'C': 0.0761525031176586}. Best is trial 22 with value: 0.5610859728506787.\n",
      "[I 2023-12-21 06:02:03,412] Trial 65 finished with value: 0.5475113122171946 and parameters: {'C': 0.0037710602792030445}. Best is trial 22 with value: 0.5610859728506787.\n",
      "[I 2023-12-21 06:02:03,450] Trial 66 finished with value: 0.5565610859728507 and parameters: {'C': 0.009968272390463417}. Best is trial 22 with value: 0.5610859728506787.\n",
      "[I 2023-12-21 06:02:03,473] Trial 67 finished with value: 0.5248868778280543 and parameters: {'C': 0.0017321988675955125}. Best is trial 22 with value: 0.5610859728506787.\n",
      "[I 2023-12-21 06:02:03,523] Trial 68 finished with value: 0.5339366515837104 and parameters: {'C': 0.04804877078111415}. Best is trial 22 with value: 0.5610859728506787.\n",
      "[I 2023-12-21 06:02:03,543] Trial 69 finished with value: 0.5248868778280543 and parameters: {'C': 0.00024909229944224695}. Best is trial 22 with value: 0.5610859728506787.\n",
      "[I 2023-12-21 06:02:03,569] Trial 70 finished with value: 0.5248868778280543 and parameters: {'C': 0.0007972174404005757}. Best is trial 22 with value: 0.5610859728506787.\n",
      "[I 2023-12-21 06:02:03,594] Trial 71 finished with value: 0.5475113122171946 and parameters: {'C': 0.006256915801369767}. Best is trial 22 with value: 0.5610859728506787.\n",
      "[I 2023-12-21 06:02:03,626] Trial 72 finished with value: 0.5248868778280543 and parameters: {'C': 0.022249376412490782}. Best is trial 22 with value: 0.5610859728506787.\n",
      "[I 2023-12-21 06:02:03,656] Trial 73 finished with value: 0.5520361990950227 and parameters: {'C': 0.007360118810904116}. Best is trial 22 with value: 0.5610859728506787.\n",
      "[I 2023-12-21 06:02:03,840] Trial 74 finished with value: 0.5339366515837104 and parameters: {'C': 5.828923343587287}. Best is trial 22 with value: 0.5610859728506787.\n",
      "[I 2023-12-21 06:02:03,872] Trial 75 finished with value: 0.5429864253393665 and parameters: {'C': 0.013532060440237465}. Best is trial 22 with value: 0.5610859728506787.\n",
      "[I 2023-12-21 06:02:03,894] Trial 76 finished with value: 0.5248868778280543 and parameters: {'C': 0.0017927564346706146}. Best is trial 22 with value: 0.5610859728506787.\n",
      "[I 2023-12-21 06:02:03,909] Trial 77 finished with value: 0.5475113122171946 and parameters: {'C': 0.0037576621579176817}. Best is trial 22 with value: 0.5610859728506787.\n",
      "[I 2023-12-21 06:02:03,952] Trial 78 finished with value: 0.5565610859728507 and parameters: {'C': 0.008559750245725733}. Best is trial 22 with value: 0.5610859728506787.\n",
      "[I 2023-12-21 06:02:03,994] Trial 79 finished with value: 0.5203619909502263 and parameters: {'C': 0.03194706271544198}. Best is trial 22 with value: 0.5610859728506787.\n",
      "[I 2023-12-21 06:02:04,015] Trial 80 finished with value: 0.5248868778280543 and parameters: {'C': 0.0004223611137411622}. Best is trial 22 with value: 0.5610859728506787.\n",
      "[I 2023-12-21 06:02:04,053] Trial 81 finished with value: 0.5565610859728507 and parameters: {'C': 0.008910484706287731}. Best is trial 22 with value: 0.5610859728506787.\n",
      "[I 2023-12-21 06:02:04,086] Trial 82 finished with value: 0.5339366515837104 and parameters: {'C': 0.01686725127053016}. Best is trial 22 with value: 0.5610859728506787.\n",
      "[I 2023-12-21 06:02:04,111] Trial 83 finished with value: 0.5475113122171946 and parameters: {'C': 0.004095135488895019}. Best is trial 22 with value: 0.5610859728506787.\n",
      "[I 2023-12-21 06:02:04,133] Trial 84 finished with value: 0.5339366515837104 and parameters: {'C': 0.0023375451035360095}. Best is trial 22 with value: 0.5610859728506787.\n",
      "[I 2023-12-21 06:02:04,177] Trial 85 finished with value: 0.5429864253393665 and parameters: {'C': 0.056233285090770975}. Best is trial 22 with value: 0.5610859728506787.\n",
      "[I 2023-12-21 06:02:04,225] Trial 86 finished with value: 0.5429864253393665 and parameters: {'C': 0.10782760180838839}. Best is trial 22 with value: 0.5610859728506787.\n",
      "[I 2023-12-21 06:02:04,279] Trial 87 finished with value: 0.5294117647058824 and parameters: {'C': 0.025513373603416833}. Best is trial 22 with value: 0.5610859728506787.\n",
      "[I 2023-12-21 06:02:04,304] Trial 88 finished with value: 0.5248868778280543 and parameters: {'C': 0.0014142015419526732}. Best is trial 22 with value: 0.5610859728506787.\n",
      "[I 2023-12-21 06:02:04,395] Trial 89 finished with value: 0.5565610859728507 and parameters: {'C': 0.008884564257096496}. Best is trial 22 with value: 0.5610859728506787.\n",
      "[I 2023-12-21 06:02:04,564] Trial 90 finished with value: 0.5384615384615384 and parameters: {'C': 62.9719758926169}. Best is trial 22 with value: 0.5610859728506787.\n",
      "[I 2023-12-21 06:02:04,631] Trial 91 finished with value: 0.5429864253393665 and parameters: {'C': 0.01082649205480239}. Best is trial 22 with value: 0.5610859728506787.\n",
      "[I 2023-12-21 06:02:04,661] Trial 92 finished with value: 0.5610859728506787 and parameters: {'C': 0.006695237526034118}. Best is trial 22 with value: 0.5610859728506787.\n",
      "[I 2023-12-21 06:02:04,684] Trial 93 finished with value: 0.5384615384615384 and parameters: {'C': 0.0026692363146314036}. Best is trial 22 with value: 0.5610859728506787.\n",
      "[I 2023-12-21 06:02:04,738] Trial 94 finished with value: 0.5475113122171946 and parameters: {'C': 0.005506790360340291}. Best is trial 22 with value: 0.5610859728506787.\n",
      "[I 2023-12-21 06:02:04,778] Trial 95 finished with value: 0.5203619909502263 and parameters: {'C': 0.03609880358008485}. Best is trial 22 with value: 0.5610859728506787.\n",
      "[I 2023-12-21 06:02:04,809] Trial 96 finished with value: 0.5339366515837104 and parameters: {'C': 0.016475605332479486}. Best is trial 22 with value: 0.5610859728506787.\n",
      "[I 2023-12-21 06:02:04,839] Trial 97 finished with value: 0.5610859728506787 and parameters: {'C': 0.0067821468113020075}. Best is trial 22 with value: 0.5610859728506787.\n",
      "[I 2023-12-21 06:02:04,865] Trial 98 finished with value: 0.5429864253393665 and parameters: {'C': 0.003441820744037098}. Best is trial 22 with value: 0.5610859728506787.\n",
      "[I 2023-12-21 06:02:04,887] Trial 99 finished with value: 0.5248868778280543 and parameters: {'C': 0.000985307222041201}. Best is trial 22 with value: 0.5610859728506787.\n"
     ]
    }
   ],
   "source": [
    "study = optuna.create_study(direction='maximize')\n",
    "study.optimize(objective, n_trials=100)  # You can adjust the number of trials"
   ]
  },
  {
   "cell_type": "code",
   "execution_count": 451,
   "id": "c77c9f6c-2da9-4ed2-9f26-a722b38a24b2",
   "metadata": {
    "tags": []
   },
   "outputs": [
    {
     "name": "stderr",
     "output_type": "stream",
     "text": [
      "/tmp/ipykernel_21/3430271029.py:1: ExperimentalWarning:\n",
      "\n",
      "plot_rank is experimental (supported from v3.2.0). The interface can change in the future.\n",
      "\n"
     ]
    },
    {
     "data": {
      "application/vnd.plotly.v1+json": {
       "config": {
        "plotlyServerURL": "https://plot.ly"
       },
       "data": [
        {
         "hovertemplate": "%{hovertext}<extra></extra>",
         "hovertext": [
          "Trial #0<br>C: 0.00450160798217557<br><b>Objective Value: 0.5475113122171946</b>",
          "Trial #1<br>C: 165.7270132219959<br><b>Objective Value: 0.5429864253393665</b>",
          "Trial #2<br>C: 0.005329013657680159<br><b>Objective Value: 0.5475113122171946</b>",
          "Trial #3<br>C: 0.17935144649384777<br><b>Objective Value: 0.5339366515837104</b>",
          "Trial #4<br>C: 0.0007649053121075082<br><b>Objective Value: 0.5248868778280543</b>",
          "Trial #5<br>C: 105.1699149614788<br><b>Objective Value: 0.5384615384615384</b>",
          "Trial #6<br>C: 0.004270745393497069<br><b>Objective Value: 0.5475113122171946</b>",
          "Trial #7<br>C: 0.014717557834732936<br><b>Objective Value: 0.5339366515837104</b>",
          "Trial #8<br>C: 9100.809616576456<br><b>Objective Value: 0.5384615384615384</b>",
          "Trial #9<br>C: 218.8750595145654<br><b>Objective Value: 0.5384615384615384</b>",
          "Trial #10<br>C: 0.0001556545774410056<br><b>Objective Value: 0.5248868778280543</b>",
          "Trial #11<br>C: 0.24787263486602432<br><b>Objective Value: 0.5339366515837104</b>",
          "Trial #12<br>C: 0.02571135722187275<br><b>Objective Value: 0.5294117647058824</b>",
          "Trial #13<br>C: 1.3462089887760962<br><b>Objective Value: 0.5248868778280543</b>",
          "Trial #14<br>C: 4.631054613618585<br><b>Objective Value: 0.5294117647058824</b>",
          "Trial #15<br>C: 0.0007696778911170887<br><b>Objective Value: 0.5248868778280543</b>",
          "Trial #16<br>C: 0.07309140471747451<br><b>Objective Value: 0.5294117647058824</b>",
          "Trial #17<br>C: 0.00291762798593265<br><b>Objective Value: 0.5429864253393665</b>",
          "Trial #18<br>C: 0.00010628735773302448<br><b>Objective Value: 0.5248868778280543</b>",
          "Trial #19<br>C: 10.995821627525842<br><b>Objective Value: 0.5384615384615384</b>",
          "Trial #20<br>C: 0.009910053021205373<br><b>Objective Value: 0.5565610859728507</b>",
          "Trial #21<br>C: 0.006661571524532892<br><b>Objective Value: 0.5610859728506787</b>",
          "Trial #22<br>C: 0.0007238611172935753<br><b>Objective Value: 0.5248868778280543</b>",
          "Trial #23<br>C: 0.021641662493763085<br><b>Objective Value: 0.5248868778280543</b>",
          "Trial #24<br>C: 0.5734343634866748<br><b>Objective Value: 0.5294117647058824</b>",
          "Trial #25<br>C: 0.08088083603918661<br><b>Objective Value: 0.5429864253393665</b>",
          "Trial #26<br>C: 0.0025495159125979803<br><b>Objective Value: 0.5384615384615384</b>",
          "Trial #27<br>C: 0.00034507319564451447<br><b>Objective Value: 0.5248868778280543</b>",
          "Trial #28<br>C: 0.004785702270048449<br><b>Objective Value: 0.5475113122171946</b>",
          "Trial #29<br>C: 0.03883744540617223<br><b>Objective Value: 0.5248868778280543</b>",
          "Trial #30<br>C: 1.0527360183220422<br><b>Objective Value: 0.5294117647058824</b>",
          "Trial #31<br>C: 0.01000651862535893<br><b>Objective Value: 0.5565610859728507</b>",
          "Trial #32<br>C: 0.007161496144927901<br><b>Objective Value: 0.5565610859728507</b>",
          "Trial #33<br>C: 0.009708623521443764<br><b>Objective Value: 0.5565610859728507</b>",
          "Trial #34<br>C: 0.0016384493858702383<br><b>Objective Value: 0.5248868778280543</b>",
          "Trial #35<br>C: 0.19589616309815802<br><b>Objective Value: 0.5339366515837104</b>",
          "Trial #36<br>C: 0.06827406596620489<br><b>Objective Value: 0.5203619909502263</b>",
          "Trial #37<br>C: 0.007642775587215456<br><b>Objective Value: 0.5565610859728507</b>",
          "Trial #38<br>C: 0.0012481679571802436<br><b>Objective Value: 0.5248868778280543</b>",
          "Trial #39<br>C: 0.013446494157952384<br><b>Objective Value: 0.5429864253393665</b>",
          "Trial #40<br>C: 0.0003820616054464257<br><b>Objective Value: 0.5248868778280543</b>",
          "Trial #41<br>C: 0.012255251400506583<br><b>Objective Value: 0.5475113122171946</b>",
          "Trial #42<br>C: 0.008684409102211332<br><b>Objective Value: 0.5565610859728507</b>",
          "Trial #43<br>C: 0.04395066218587337<br><b>Objective Value: 0.5294117647058824</b>",
          "Trial #44<br>C: 0.005015192869379599<br><b>Objective Value: 0.5475113122171946</b>",
          "Trial #45<br>C: 0.3438405810243331<br><b>Objective Value: 0.5248868778280543</b>",
          "Trial #46<br>C: 7140.970673083896<br><b>Objective Value: 0.5384615384615384</b>",
          "Trial #47<br>C: 0.0003536950261870639<br><b>Objective Value: 0.5248868778280543</b>",
          "Trial #48<br>C: 0.0018447747158436988<br><b>Objective Value: 0.5248868778280543</b>",
          "Trial #49<br>C: 2.8086458713418194<br><b>Objective Value: 0.5294117647058824</b>",
          "Trial #50<br>C: 0.12361982566447331<br><b>Objective Value: 0.5429864253393665</b>",
          "Trial #51<br>C: 0.007206013943062941<br><b>Objective Value: 0.5565610859728507</b>",
          "Trial #52<br>C: 0.023504424332055844<br><b>Objective Value: 0.5203619909502263</b>",
          "Trial #53<br>C: 0.00940590471997023<br><b>Objective Value: 0.5520361990950227</b>",
          "Trial #54<br>C: 0.0042505912214139754<br><b>Objective Value: 0.5475113122171946</b>",
          "Trial #55<br>C: 0.0007067508955580432<br><b>Objective Value: 0.5248868778280543</b>",
          "Trial #56<br>C: 0.02856509557814606<br><b>Objective Value: 0.5294117647058824</b>",
          "Trial #57<br>C: 60.137286600427046<br><b>Objective Value: 0.5384615384615384</b>",
          "Trial #58<br>C: 0.002494201791959721<br><b>Objective Value: 0.5384615384615384</b>",
          "Trial #59<br>C: 0.016746920975121517<br><b>Objective Value: 0.5339366515837104</b>",
          "Trial #60<br>C: 0.0011713346837307099<br><b>Objective Value: 0.5248868778280543</b>",
          "Trial #61<br>C: 0.00703828537661006<br><b>Objective Value: 0.5565610859728507</b>",
          "Trial #62<br>C: 0.04806291759638281<br><b>Objective Value: 0.5339366515837104</b>",
          "Trial #63<br>C: 0.0034475224463985273<br><b>Objective Value: 0.5429864253393665</b>",
          "Trial #64<br>C: 0.009442045823860152<br><b>Objective Value: 0.5520361990950227</b>",
          "Trial #65<br>C: 0.11404423570079313<br><b>Objective Value: 0.5429864253393665</b>",
          "Trial #66<br>C: 0.01778182659399596<br><b>Objective Value: 0.5339366515837104</b>",
          "Trial #67<br>C: 0.006079326673287448<br><b>Objective Value: 0.5429864253393665</b>",
          "Trial #68<br>C: 0.000820064476092963<br><b>Objective Value: 0.5248868778280543</b>",
          "Trial #69<br>C: 0.00015101501103327852<br><b>Objective Value: 0.5248868778280543</b>",
          "Trial #70<br>C: 0.0025424914604314937<br><b>Objective Value: 0.5384615384615384</b>",
          "Trial #71<br>C: 0.010501188097080715<br><b>Objective Value: 0.5520361990950227</b>",
          "Trial #72<br>C: 0.03571535053015782<br><b>Objective Value: 0.5158371040723982</b>",
          "Trial #73<br>C: 0.007198427300601446<br><b>Objective Value: 0.5565610859728507</b>",
          "Trial #74<br>C: 0.019749239864983014<br><b>Objective Value: 0.5294117647058824</b>",
          "Trial #75<br>C: 0.06078946587236991<br><b>Objective Value: 0.5339366515837104</b>",
          "Trial #76<br>C: 0.0036044224933503067<br><b>Objective Value: 0.5429864253393665</b>",
          "Trial #77<br>C: 0.33451074497483707<br><b>Objective Value: 0.5248868778280543</b>",
          "Trial #78<br>C: 0.006216777171534601<br><b>Objective Value: 0.5429864253393665</b>",
          "Trial #79<br>C: 0.09923649556246751<br><b>Objective Value: 0.5475113122171946</b>",
          "Trial #80<br>C: 0.0020844472885502043<br><b>Objective Value: 0.5294117647058824</b>",
          "Trial #81<br>C: 0.009087287110078012<br><b>Objective Value: 0.5565610859728507</b>",
          "Trial #82<br>C: 0.0011744670180507926<br><b>Objective Value: 0.5248868778280543</b>",
          "Trial #83<br>C: 0.01293655920526486<br><b>Objective Value: 0.5475113122171946</b>",
          "Trial #84<br>C: 0.005356674291628675<br><b>Objective Value: 0.5475113122171946</b>",
          "Trial #85<br>C: 0.03760485613783008<br><b>Objective Value: 0.5248868778280543</b>",
          "Trial #86<br>C: 0.021454786146342626<br><b>Objective Value: 0.5248868778280543</b>",
          "Trial #87<br>C: 0.0037404709223868193<br><b>Objective Value: 0.5429864253393665</b>",
          "Trial #88<br>C: 0.007875854280395857<br><b>Objective Value: 0.5565610859728507</b>",
          "Trial #89<br>C: 0.014796275356508097<br><b>Objective Value: 0.5339366515837104</b>",
          "Trial #90<br>C: 0.0018770984452015284<br><b>Objective Value: 0.5248868778280543</b>",
          "Trial #91<br>C: 0.008016228674843515<br><b>Objective Value: 0.5610859728506787</b>",
          "Trial #92<br>C: 0.005234230651134759<br><b>Objective Value: 0.5475113122171946</b>",
          "Trial #93<br>C: 0.030730177582805683<br><b>Objective Value: 0.5203619909502263</b>",
          "Trial #94<br>C: 0.0005198098177235259<br><b>Objective Value: 0.5248868778280543</b>",
          "Trial #95<br>C: 0.0031628050906876226<br><b>Objective Value: 0.5429864253393665</b>",
          "Trial #96<br>C: 0.014240746037170446<br><b>Objective Value: 0.5339366515837104</b>",
          "Trial #97<br>C: 2121.782157384986<br><b>Objective Value: 0.5384615384615384</b>",
          "Trial #98<br>C: 0.0013181716781715078<br><b>Objective Value: 0.5248868778280543</b>",
          "Trial #99<br>C: 0.008895926199759015<br><b>Objective Value: 0.5565610859728507</b>"
         ],
         "marker": {
          "color": [
           "rgb(246.0, 123.0, 74.0)",
           "rgb(253.0, 193.0, 115.0)",
           "rgb(246.0, 123.0, 74.0)",
           "rgb(239.0, 249.0, 220.0)",
           "rgb(100.0, 154.0, 199.0)",
           "rgb(254.0, 239.0, 167.0)",
           "rgb(246.0, 123.0, 74.0)",
           "rgb(239.0, 249.0, 220.0)",
           "rgb(254.0, 239.0, 167.0)",
           "rgb(254.0, 239.0, 167.0)",
           "rgb(100.0, 154.0, 199.0)",
           "rgb(239.0, 249.0, 220.0)",
           "rgb(197.0, 230.0, 240.0)",
           "rgb(100.0, 154.0, 199.0)",
           "rgb(197.0, 230.0, 240.0)",
           "rgb(100.0, 154.0, 199.0)",
           "rgb(197.0, 230.0, 240.0)",
           "rgb(253.0, 193.0, 115.0)",
           "rgb(100.0, 154.0, 199.0)",
           "rgb(254.0, 239.0, 167.0)",
           "rgb(203.0, 36.0, 39.0)",
           "rgb(168.0, 2.0, 38.0)",
           "rgb(100.0, 154.0, 199.0)",
           "rgb(100.0, 154.0, 199.0)",
           "rgb(197.0, 230.0, 240.0)",
           "rgb(253.0, 193.0, 115.0)",
           "rgb(254.0, 239.0, 167.0)",
           "rgb(100.0, 154.0, 199.0)",
           "rgb(246.0, 123.0, 74.0)",
           "rgb(100.0, 154.0, 199.0)",
           "rgb(197.0, 230.0, 240.0)",
           "rgb(203.0, 36.0, 39.0)",
           "rgb(203.0, 36.0, 39.0)",
           "rgb(203.0, 36.0, 39.0)",
           "rgb(100.0, 154.0, 199.0)",
           "rgb(239.0, 249.0, 220.0)",
           "rgb(53.0, 67.0, 155.0)",
           "rgb(203.0, 36.0, 39.0)",
           "rgb(100.0, 154.0, 199.0)",
           "rgb(253.0, 193.0, 115.0)",
           "rgb(100.0, 154.0, 199.0)",
           "rgb(246.0, 123.0, 74.0)",
           "rgb(203.0, 36.0, 39.0)",
           "rgb(197.0, 230.0, 240.0)",
           "rgb(246.0, 123.0, 74.0)",
           "rgb(100.0, 154.0, 199.0)",
           "rgb(254.0, 239.0, 167.0)",
           "rgb(100.0, 154.0, 199.0)",
           "rgb(100.0, 154.0, 199.0)",
           "rgb(197.0, 230.0, 240.0)",
           "rgb(253.0, 193.0, 115.0)",
           "rgb(203.0, 36.0, 39.0)",
           "rgb(53.0, 67.0, 155.0)",
           "rgb(230.0, 79.0, 53.0)",
           "rgb(246.0, 123.0, 74.0)",
           "rgb(100.0, 154.0, 199.0)",
           "rgb(197.0, 230.0, 240.0)",
           "rgb(254.0, 239.0, 167.0)",
           "rgb(254.0, 239.0, 167.0)",
           "rgb(239.0, 249.0, 220.0)",
           "rgb(100.0, 154.0, 199.0)",
           "rgb(203.0, 36.0, 39.0)",
           "rgb(239.0, 249.0, 220.0)",
           "rgb(253.0, 193.0, 115.0)",
           "rgb(230.0, 79.0, 53.0)",
           "rgb(253.0, 193.0, 115.0)",
           "rgb(239.0, 249.0, 220.0)",
           "rgb(253.0, 193.0, 115.0)",
           "rgb(100.0, 154.0, 199.0)",
           "rgb(100.0, 154.0, 199.0)",
           "rgb(254.0, 239.0, 167.0)",
           "rgb(230.0, 79.0, 53.0)",
           "rgb(49.0, 54.0, 149.0)",
           "rgb(203.0, 36.0, 39.0)",
           "rgb(197.0, 230.0, 240.0)",
           "rgb(239.0, 249.0, 220.0)",
           "rgb(253.0, 193.0, 115.0)",
           "rgb(100.0, 154.0, 199.0)",
           "rgb(253.0, 193.0, 115.0)",
           "rgb(246.0, 123.0, 74.0)",
           "rgb(197.0, 230.0, 240.0)",
           "rgb(203.0, 36.0, 39.0)",
           "rgb(100.0, 154.0, 199.0)",
           "rgb(246.0, 123.0, 74.0)",
           "rgb(246.0, 123.0, 74.0)",
           "rgb(100.0, 154.0, 199.0)",
           "rgb(100.0, 154.0, 199.0)",
           "rgb(253.0, 193.0, 115.0)",
           "rgb(203.0, 36.0, 39.0)",
           "rgb(239.0, 249.0, 220.0)",
           "rgb(100.0, 154.0, 199.0)",
           "rgb(168.0, 2.0, 38.0)",
           "rgb(246.0, 123.0, 74.0)",
           "rgb(53.0, 67.0, 155.0)",
           "rgb(100.0, 154.0, 199.0)",
           "rgb(253.0, 193.0, 115.0)",
           "rgb(239.0, 249.0, 220.0)",
           "rgb(254.0, 239.0, 167.0)",
           "rgb(100.0, 154.0, 199.0)",
           "rgb(203.0, 36.0, 39.0)"
          ],
          "line": {
           "color": "Grey",
           "width": 0.5
          }
         },
         "mode": "markers",
         "showlegend": false,
         "type": "scatter",
         "x": [
          0.00450160798217557,
          165.7270132219959,
          0.005329013657680159,
          0.17935144649384777,
          0.0007649053121075082,
          105.1699149614788,
          0.004270745393497069,
          0.014717557834732936,
          9100.809616576456,
          218.8750595145654,
          0.0001556545774410056,
          0.24787263486602432,
          0.02571135722187275,
          1.3462089887760962,
          4.631054613618585,
          0.0007696778911170887,
          0.07309140471747451,
          0.00291762798593265,
          0.00010628735773302448,
          10.995821627525842,
          0.009910053021205373,
          0.006661571524532892,
          0.0007238611172935753,
          0.021641662493763085,
          0.5734343634866748,
          0.08088083603918661,
          0.0025495159125979803,
          0.00034507319564451447,
          0.004785702270048449,
          0.03883744540617223,
          1.0527360183220422,
          0.01000651862535893,
          0.007161496144927901,
          0.009708623521443764,
          0.0016384493858702383,
          0.19589616309815802,
          0.06827406596620489,
          0.007642775587215456,
          0.0012481679571802436,
          0.013446494157952384,
          0.0003820616054464257,
          0.012255251400506583,
          0.008684409102211332,
          0.04395066218587337,
          0.005015192869379599,
          0.3438405810243331,
          7140.970673083896,
          0.0003536950261870639,
          0.0018447747158436988,
          2.8086458713418194,
          0.12361982566447331,
          0.007206013943062941,
          0.023504424332055844,
          0.00940590471997023,
          0.0042505912214139754,
          0.0007067508955580432,
          0.02856509557814606,
          60.137286600427046,
          0.002494201791959721,
          0.016746920975121517,
          0.0011713346837307099,
          0.00703828537661006,
          0.04806291759638281,
          0.0034475224463985273,
          0.009442045823860152,
          0.11404423570079313,
          0.01778182659399596,
          0.006079326673287448,
          0.000820064476092963,
          0.00015101501103327852,
          0.0025424914604314937,
          0.010501188097080715,
          0.03571535053015782,
          0.007198427300601446,
          0.019749239864983014,
          0.06078946587236991,
          0.0036044224933503067,
          0.33451074497483707,
          0.006216777171534601,
          0.09923649556246751,
          0.0020844472885502043,
          0.009087287110078012,
          0.0011744670180507926,
          0.01293655920526486,
          0.005356674291628675,
          0.03760485613783008,
          0.021454786146342626,
          0.0037404709223868193,
          0.007875854280395857,
          0.014796275356508097,
          0.0018770984452015284,
          0.008016228674843515,
          0.005234230651134759,
          0.030730177582805683,
          0.0005198098177235259,
          0.0031628050906876226,
          0.014240746037170446,
          2121.782157384986,
          0.0013181716781715078,
          0.008895926199759015
         ],
         "xaxis": "x",
         "y": [
          0.00450160798217557,
          165.7270132219959,
          0.005329013657680159,
          0.17935144649384777,
          0.0007649053121075082,
          105.1699149614788,
          0.004270745393497069,
          0.014717557834732936,
          9100.809616576456,
          218.8750595145654,
          0.0001556545774410056,
          0.24787263486602432,
          0.02571135722187275,
          1.3462089887760962,
          4.631054613618585,
          0.0007696778911170887,
          0.07309140471747451,
          0.00291762798593265,
          0.00010628735773302448,
          10.995821627525842,
          0.009910053021205373,
          0.006661571524532892,
          0.0007238611172935753,
          0.021641662493763085,
          0.5734343634866748,
          0.08088083603918661,
          0.0025495159125979803,
          0.00034507319564451447,
          0.004785702270048449,
          0.03883744540617223,
          1.0527360183220422,
          0.01000651862535893,
          0.007161496144927901,
          0.009708623521443764,
          0.0016384493858702383,
          0.19589616309815802,
          0.06827406596620489,
          0.007642775587215456,
          0.0012481679571802436,
          0.013446494157952384,
          0.0003820616054464257,
          0.012255251400506583,
          0.008684409102211332,
          0.04395066218587337,
          0.005015192869379599,
          0.3438405810243331,
          7140.970673083896,
          0.0003536950261870639,
          0.0018447747158436988,
          2.8086458713418194,
          0.12361982566447331,
          0.007206013943062941,
          0.023504424332055844,
          0.00940590471997023,
          0.0042505912214139754,
          0.0007067508955580432,
          0.02856509557814606,
          60.137286600427046,
          0.002494201791959721,
          0.016746920975121517,
          0.0011713346837307099,
          0.00703828537661006,
          0.04806291759638281,
          0.0034475224463985273,
          0.009442045823860152,
          0.11404423570079313,
          0.01778182659399596,
          0.006079326673287448,
          0.000820064476092963,
          0.00015101501103327852,
          0.0025424914604314937,
          0.010501188097080715,
          0.03571535053015782,
          0.007198427300601446,
          0.019749239864983014,
          0.06078946587236991,
          0.0036044224933503067,
          0.33451074497483707,
          0.006216777171534601,
          0.09923649556246751,
          0.0020844472885502043,
          0.009087287110078012,
          0.0011744670180507926,
          0.01293655920526486,
          0.005356674291628675,
          0.03760485613783008,
          0.021454786146342626,
          0.0037404709223868193,
          0.007875854280395857,
          0.014796275356508097,
          0.0018770984452015284,
          0.008016228674843515,
          0.005234230651134759,
          0.030730177582805683,
          0.0005198098177235259,
          0.0031628050906876226,
          0.014240746037170446,
          2121.782157384986,
          0.0013181716781715078,
          0.008895926199759015
         ],
         "yaxis": "y"
        },
        {
         "hoverinfo": "none",
         "marker": {
          "cmax": 1,
          "cmin": 0,
          "colorbar": {
           "thickness": 10,
           "ticktext": [
            "min. (0.515837)",
            "25% (0.524887)",
            "50% (0.536199)",
            "75% (0.547511)",
            "max. (0.561086)"
           ],
           "tickvals": [
            0,
            0.25,
            0.5,
            0.75,
            1
           ]
          },
          "colorscale": [
           [
            0,
            "rgb(49,54,149)"
           ],
           [
            0.1,
            "rgb(69,117,180)"
           ],
           [
            0.2,
            "rgb(116,173,209)"
           ],
           [
            0.3,
            "rgb(171,217,233)"
           ],
           [
            0.4,
            "rgb(224,243,248)"
           ],
           [
            0.5,
            "rgb(255,255,191)"
           ],
           [
            0.6,
            "rgb(254,224,144)"
           ],
           [
            0.7,
            "rgb(253,174,97)"
           ],
           [
            0.8,
            "rgb(244,109,67)"
           ],
           [
            0.9,
            "rgb(215,48,39)"
           ],
           [
            1,
            "rgb(165,0,38)"
           ]
          ],
          "showscale": true
         },
         "mode": "markers",
         "showlegend": false,
         "type": "scatter",
         "x": [
          null
         ],
         "y": [
          null
         ]
        }
       ],
       "layout": {
        "autosize": true,
        "template": {
         "data": {
          "bar": [
           {
            "error_x": {
             "color": "#2a3f5f"
            },
            "error_y": {
             "color": "#2a3f5f"
            },
            "marker": {
             "line": {
              "color": "#E5ECF6",
              "width": 0.5
             },
             "pattern": {
              "fillmode": "overlay",
              "size": 10,
              "solidity": 0.2
             }
            },
            "type": "bar"
           }
          ],
          "barpolar": [
           {
            "marker": {
             "line": {
              "color": "#E5ECF6",
              "width": 0.5
             },
             "pattern": {
              "fillmode": "overlay",
              "size": 10,
              "solidity": 0.2
             }
            },
            "type": "barpolar"
           }
          ],
          "carpet": [
           {
            "aaxis": {
             "endlinecolor": "#2a3f5f",
             "gridcolor": "white",
             "linecolor": "white",
             "minorgridcolor": "white",
             "startlinecolor": "#2a3f5f"
            },
            "baxis": {
             "endlinecolor": "#2a3f5f",
             "gridcolor": "white",
             "linecolor": "white",
             "minorgridcolor": "white",
             "startlinecolor": "#2a3f5f"
            },
            "type": "carpet"
           }
          ],
          "choropleth": [
           {
            "colorbar": {
             "outlinewidth": 0,
             "ticks": ""
            },
            "type": "choropleth"
           }
          ],
          "contour": [
           {
            "colorbar": {
             "outlinewidth": 0,
             "ticks": ""
            },
            "colorscale": [
             [
              0,
              "#0d0887"
             ],
             [
              0.1111111111111111,
              "#46039f"
             ],
             [
              0.2222222222222222,
              "#7201a8"
             ],
             [
              0.3333333333333333,
              "#9c179e"
             ],
             [
              0.4444444444444444,
              "#bd3786"
             ],
             [
              0.5555555555555556,
              "#d8576b"
             ],
             [
              0.6666666666666666,
              "#ed7953"
             ],
             [
              0.7777777777777778,
              "#fb9f3a"
             ],
             [
              0.8888888888888888,
              "#fdca26"
             ],
             [
              1,
              "#f0f921"
             ]
            ],
            "type": "contour"
           }
          ],
          "contourcarpet": [
           {
            "colorbar": {
             "outlinewidth": 0,
             "ticks": ""
            },
            "type": "contourcarpet"
           }
          ],
          "heatmap": [
           {
            "colorbar": {
             "outlinewidth": 0,
             "ticks": ""
            },
            "colorscale": [
             [
              0,
              "#0d0887"
             ],
             [
              0.1111111111111111,
              "#46039f"
             ],
             [
              0.2222222222222222,
              "#7201a8"
             ],
             [
              0.3333333333333333,
              "#9c179e"
             ],
             [
              0.4444444444444444,
              "#bd3786"
             ],
             [
              0.5555555555555556,
              "#d8576b"
             ],
             [
              0.6666666666666666,
              "#ed7953"
             ],
             [
              0.7777777777777778,
              "#fb9f3a"
             ],
             [
              0.8888888888888888,
              "#fdca26"
             ],
             [
              1,
              "#f0f921"
             ]
            ],
            "type": "heatmap"
           }
          ],
          "heatmapgl": [
           {
            "colorbar": {
             "outlinewidth": 0,
             "ticks": ""
            },
            "colorscale": [
             [
              0,
              "#0d0887"
             ],
             [
              0.1111111111111111,
              "#46039f"
             ],
             [
              0.2222222222222222,
              "#7201a8"
             ],
             [
              0.3333333333333333,
              "#9c179e"
             ],
             [
              0.4444444444444444,
              "#bd3786"
             ],
             [
              0.5555555555555556,
              "#d8576b"
             ],
             [
              0.6666666666666666,
              "#ed7953"
             ],
             [
              0.7777777777777778,
              "#fb9f3a"
             ],
             [
              0.8888888888888888,
              "#fdca26"
             ],
             [
              1,
              "#f0f921"
             ]
            ],
            "type": "heatmapgl"
           }
          ],
          "histogram": [
           {
            "marker": {
             "pattern": {
              "fillmode": "overlay",
              "size": 10,
              "solidity": 0.2
             }
            },
            "type": "histogram"
           }
          ],
          "histogram2d": [
           {
            "colorbar": {
             "outlinewidth": 0,
             "ticks": ""
            },
            "colorscale": [
             [
              0,
              "#0d0887"
             ],
             [
              0.1111111111111111,
              "#46039f"
             ],
             [
              0.2222222222222222,
              "#7201a8"
             ],
             [
              0.3333333333333333,
              "#9c179e"
             ],
             [
              0.4444444444444444,
              "#bd3786"
             ],
             [
              0.5555555555555556,
              "#d8576b"
             ],
             [
              0.6666666666666666,
              "#ed7953"
             ],
             [
              0.7777777777777778,
              "#fb9f3a"
             ],
             [
              0.8888888888888888,
              "#fdca26"
             ],
             [
              1,
              "#f0f921"
             ]
            ],
            "type": "histogram2d"
           }
          ],
          "histogram2dcontour": [
           {
            "colorbar": {
             "outlinewidth": 0,
             "ticks": ""
            },
            "colorscale": [
             [
              0,
              "#0d0887"
             ],
             [
              0.1111111111111111,
              "#46039f"
             ],
             [
              0.2222222222222222,
              "#7201a8"
             ],
             [
              0.3333333333333333,
              "#9c179e"
             ],
             [
              0.4444444444444444,
              "#bd3786"
             ],
             [
              0.5555555555555556,
              "#d8576b"
             ],
             [
              0.6666666666666666,
              "#ed7953"
             ],
             [
              0.7777777777777778,
              "#fb9f3a"
             ],
             [
              0.8888888888888888,
              "#fdca26"
             ],
             [
              1,
              "#f0f921"
             ]
            ],
            "type": "histogram2dcontour"
           }
          ],
          "mesh3d": [
           {
            "colorbar": {
             "outlinewidth": 0,
             "ticks": ""
            },
            "type": "mesh3d"
           }
          ],
          "parcoords": [
           {
            "line": {
             "colorbar": {
              "outlinewidth": 0,
              "ticks": ""
             }
            },
            "type": "parcoords"
           }
          ],
          "pie": [
           {
            "automargin": true,
            "type": "pie"
           }
          ],
          "scatter": [
           {
            "fillpattern": {
             "fillmode": "overlay",
             "size": 10,
             "solidity": 0.2
            },
            "type": "scatter"
           }
          ],
          "scatter3d": [
           {
            "line": {
             "colorbar": {
              "outlinewidth": 0,
              "ticks": ""
             }
            },
            "marker": {
             "colorbar": {
              "outlinewidth": 0,
              "ticks": ""
             }
            },
            "type": "scatter3d"
           }
          ],
          "scattercarpet": [
           {
            "marker": {
             "colorbar": {
              "outlinewidth": 0,
              "ticks": ""
             }
            },
            "type": "scattercarpet"
           }
          ],
          "scattergeo": [
           {
            "marker": {
             "colorbar": {
              "outlinewidth": 0,
              "ticks": ""
             }
            },
            "type": "scattergeo"
           }
          ],
          "scattergl": [
           {
            "marker": {
             "colorbar": {
              "outlinewidth": 0,
              "ticks": ""
             }
            },
            "type": "scattergl"
           }
          ],
          "scattermapbox": [
           {
            "marker": {
             "colorbar": {
              "outlinewidth": 0,
              "ticks": ""
             }
            },
            "type": "scattermapbox"
           }
          ],
          "scatterpolar": [
           {
            "marker": {
             "colorbar": {
              "outlinewidth": 0,
              "ticks": ""
             }
            },
            "type": "scatterpolar"
           }
          ],
          "scatterpolargl": [
           {
            "marker": {
             "colorbar": {
              "outlinewidth": 0,
              "ticks": ""
             }
            },
            "type": "scatterpolargl"
           }
          ],
          "scatterternary": [
           {
            "marker": {
             "colorbar": {
              "outlinewidth": 0,
              "ticks": ""
             }
            },
            "type": "scatterternary"
           }
          ],
          "surface": [
           {
            "colorbar": {
             "outlinewidth": 0,
             "ticks": ""
            },
            "colorscale": [
             [
              0,
              "#0d0887"
             ],
             [
              0.1111111111111111,
              "#46039f"
             ],
             [
              0.2222222222222222,
              "#7201a8"
             ],
             [
              0.3333333333333333,
              "#9c179e"
             ],
             [
              0.4444444444444444,
              "#bd3786"
             ],
             [
              0.5555555555555556,
              "#d8576b"
             ],
             [
              0.6666666666666666,
              "#ed7953"
             ],
             [
              0.7777777777777778,
              "#fb9f3a"
             ],
             [
              0.8888888888888888,
              "#fdca26"
             ],
             [
              1,
              "#f0f921"
             ]
            ],
            "type": "surface"
           }
          ],
          "table": [
           {
            "cells": {
             "fill": {
              "color": "#EBF0F8"
             },
             "line": {
              "color": "white"
             }
            },
            "header": {
             "fill": {
              "color": "#C8D4E3"
             },
             "line": {
              "color": "white"
             }
            },
            "type": "table"
           }
          ]
         },
         "layout": {
          "annotationdefaults": {
           "arrowcolor": "#2a3f5f",
           "arrowhead": 0,
           "arrowwidth": 1
          },
          "autotypenumbers": "strict",
          "coloraxis": {
           "colorbar": {
            "outlinewidth": 0,
            "ticks": ""
           }
          },
          "colorscale": {
           "diverging": [
            [
             0,
             "#8e0152"
            ],
            [
             0.1,
             "#c51b7d"
            ],
            [
             0.2,
             "#de77ae"
            ],
            [
             0.3,
             "#f1b6da"
            ],
            [
             0.4,
             "#fde0ef"
            ],
            [
             0.5,
             "#f7f7f7"
            ],
            [
             0.6,
             "#e6f5d0"
            ],
            [
             0.7,
             "#b8e186"
            ],
            [
             0.8,
             "#7fbc41"
            ],
            [
             0.9,
             "#4d9221"
            ],
            [
             1,
             "#276419"
            ]
           ],
           "sequential": [
            [
             0,
             "#0d0887"
            ],
            [
             0.1111111111111111,
             "#46039f"
            ],
            [
             0.2222222222222222,
             "#7201a8"
            ],
            [
             0.3333333333333333,
             "#9c179e"
            ],
            [
             0.4444444444444444,
             "#bd3786"
            ],
            [
             0.5555555555555556,
             "#d8576b"
            ],
            [
             0.6666666666666666,
             "#ed7953"
            ],
            [
             0.7777777777777778,
             "#fb9f3a"
            ],
            [
             0.8888888888888888,
             "#fdca26"
            ],
            [
             1,
             "#f0f921"
            ]
           ],
           "sequentialminus": [
            [
             0,
             "#0d0887"
            ],
            [
             0.1111111111111111,
             "#46039f"
            ],
            [
             0.2222222222222222,
             "#7201a8"
            ],
            [
             0.3333333333333333,
             "#9c179e"
            ],
            [
             0.4444444444444444,
             "#bd3786"
            ],
            [
             0.5555555555555556,
             "#d8576b"
            ],
            [
             0.6666666666666666,
             "#ed7953"
            ],
            [
             0.7777777777777778,
             "#fb9f3a"
            ],
            [
             0.8888888888888888,
             "#fdca26"
            ],
            [
             1,
             "#f0f921"
            ]
           ]
          },
          "colorway": [
           "#636efa",
           "#EF553B",
           "#00cc96",
           "#ab63fa",
           "#FFA15A",
           "#19d3f3",
           "#FF6692",
           "#B6E880",
           "#FF97FF",
           "#FECB52"
          ],
          "font": {
           "color": "#2a3f5f"
          },
          "geo": {
           "bgcolor": "white",
           "lakecolor": "white",
           "landcolor": "#E5ECF6",
           "showlakes": true,
           "showland": true,
           "subunitcolor": "white"
          },
          "hoverlabel": {
           "align": "left"
          },
          "hovermode": "closest",
          "mapbox": {
           "style": "light"
          },
          "paper_bgcolor": "white",
          "plot_bgcolor": "#E5ECF6",
          "polar": {
           "angularaxis": {
            "gridcolor": "white",
            "linecolor": "white",
            "ticks": ""
           },
           "bgcolor": "#E5ECF6",
           "radialaxis": {
            "gridcolor": "white",
            "linecolor": "white",
            "ticks": ""
           }
          },
          "scene": {
           "xaxis": {
            "backgroundcolor": "#E5ECF6",
            "gridcolor": "white",
            "gridwidth": 2,
            "linecolor": "white",
            "showbackground": true,
            "ticks": "",
            "zerolinecolor": "white"
           },
           "yaxis": {
            "backgroundcolor": "#E5ECF6",
            "gridcolor": "white",
            "gridwidth": 2,
            "linecolor": "white",
            "showbackground": true,
            "ticks": "",
            "zerolinecolor": "white"
           },
           "zaxis": {
            "backgroundcolor": "#E5ECF6",
            "gridcolor": "white",
            "gridwidth": 2,
            "linecolor": "white",
            "showbackground": true,
            "ticks": "",
            "zerolinecolor": "white"
           }
          },
          "shapedefaults": {
           "line": {
            "color": "#2a3f5f"
           }
          },
          "ternary": {
           "aaxis": {
            "gridcolor": "white",
            "linecolor": "white",
            "ticks": ""
           },
           "baxis": {
            "gridcolor": "white",
            "linecolor": "white",
            "ticks": ""
           },
           "bgcolor": "#E5ECF6",
           "caxis": {
            "gridcolor": "white",
            "linecolor": "white",
            "ticks": ""
           }
          },
          "title": {
           "x": 0.05
          },
          "xaxis": {
           "automargin": true,
           "gridcolor": "white",
           "linecolor": "white",
           "ticks": "",
           "title": {
            "standoff": 15
           },
           "zerolinecolor": "white",
           "zerolinewidth": 2
          },
          "yaxis": {
           "automargin": true,
           "gridcolor": "white",
           "linecolor": "white",
           "ticks": "",
           "title": {
            "standoff": 15
           },
           "zerolinecolor": "white",
           "zerolinewidth": 2
          }
         }
        },
        "title": {
         "text": "Rank (Objective Value)"
        },
        "xaxis": {
         "anchor": "y",
         "domain": [
          0,
          1
         ],
         "range": [
          -4.370148310149105,
          4.355709950210403
         ],
         "title": {
          "text": "C"
         },
         "type": "log"
        },
        "yaxis": {
         "anchor": "x",
         "domain": [
          0,
          1
         ],
         "range": [
          -4.370148310149105,
          4.355709950210403
         ],
         "title": {
          "text": "C"
         },
         "type": "log"
        }
       }
      },
      "image/png": "[encoded data removed]",
      "text/html": [
       "<div>                            <div id=\"7cf47aa5-84ea-42ca-8d36-76033a557c00\" class=\"plotly-graph-div\" style=\"height:525px; width:100%;\"></div>            <script type=\"text/javascript\">                require([\"plotly\"], function(Plotly) {                    window.PLOTLYENV=window.PLOTLYENV || {};                                    if (document.getElementById(\"7cf47aa5-84ea-42ca-8d36-76033a557c00\")) {                    Plotly.newPlot(                        \"7cf47aa5-84ea-42ca-8d36-76033a557c00\",                        [{\"hovertemplate\":\"%{hovertext}\\u003cextra\\u003e\\u003c\\u002fextra\\u003e\",\"hovertext\":[\"Trial #0\\u003cbr\\u003eC: 0.00450160798217557\\u003cbr\\u003e\\u003cb\\u003eObjective Value: 0.5475113122171946\\u003c\\u002fb\\u003e\",\"Trial #1\\u003cbr\\u003eC: 165.7270132219959\\u003cbr\\u003e\\u003cb\\u003eObjective Value: 0.5429864253393665\\u003c\\u002fb\\u003e\",\"Trial #2\\u003cbr\\u003eC: 0.005329013657680159\\u003cbr\\u003e\\u003cb\\u003eObjective Value: 0.5475113122171946\\u003c\\u002fb\\u003e\",\"Trial #3\\u003cbr\\u003eC: 0.17935144649384777\\u003cbr\\u003e\\u003cb\\u003eObjective Value: 0.5339366515837104\\u003c\\u002fb\\u003e\",\"Trial #4\\u003cbr\\u003eC: 0.0007649053121075082\\u003cbr\\u003e\\u003cb\\u003eObjective Value: 0.5248868778280543\\u003c\\u002fb\\u003e\",\"Trial #5\\u003cbr\\u003eC: 105.1699149614788\\u003cbr\\u003e\\u003cb\\u003eObjective Value: 0.5384615384615384\\u003c\\u002fb\\u003e\",\"Trial #6\\u003cbr\\u003eC: 0.004270745393497069\\u003cbr\\u003e\\u003cb\\u003eObjective Value: 0.5475113122171946\\u003c\\u002fb\\u003e\",\"Trial #7\\u003cbr\\u003eC: 0.014717557834732936\\u003cbr\\u003e\\u003cb\\u003eObjective Value: 0.5339366515837104\\u003c\\u002fb\\u003e\",\"Trial #8\\u003cbr\\u003eC: 9100.809616576456\\u003cbr\\u003e\\u003cb\\u003eObjective Value: 0.5384615384615384\\u003c\\u002fb\\u003e\",\"Trial #9\\u003cbr\\u003eC: 218.8750595145654\\u003cbr\\u003e\\u003cb\\u003eObjective Value: 0.5384615384615384\\u003c\\u002fb\\u003e\",\"Trial #10\\u003cbr\\u003eC: 0.0001556545774410056\\u003cbr\\u003e\\u003cb\\u003eObjective Value: 0.5248868778280543\\u003c\\u002fb\\u003e\",\"Trial #11\\u003cbr\\u003eC: 0.24787263486602432\\u003cbr\\u003e\\u003cb\\u003eObjective Value: 0.5339366515837104\\u003c\\u002fb\\u003e\",\"Trial #12\\u003cbr\\u003eC: 0.02571135722187275\\u003cbr\\u003e\\u003cb\\u003eObjective Value: 0.5294117647058824\\u003c\\u002fb\\u003e\",\"Trial #13\\u003cbr\\u003eC: 1.3462089887760962\\u003cbr\\u003e\\u003cb\\u003eObjective Value: 0.5248868778280543\\u003c\\u002fb\\u003e\",\"Trial #14\\u003cbr\\u003eC: 4.631054613618585\\u003cbr\\u003e\\u003cb\\u003eObjective Value: 0.5294117647058824\\u003c\\u002fb\\u003e\",\"Trial #15\\u003cbr\\u003eC: 0.0007696778911170887\\u003cbr\\u003e\\u003cb\\u003eObjective Value: 0.5248868778280543\\u003c\\u002fb\\u003e\",\"Trial #16\\u003cbr\\u003eC: 0.07309140471747451\\u003cbr\\u003e\\u003cb\\u003eObjective Value: 0.5294117647058824\\u003c\\u002fb\\u003e\",\"Trial #17\\u003cbr\\u003eC: 0.00291762798593265\\u003cbr\\u003e\\u003cb\\u003eObjective Value: 0.5429864253393665\\u003c\\u002fb\\u003e\",\"Trial #18\\u003cbr\\u003eC: 0.00010628735773302448\\u003cbr\\u003e\\u003cb\\u003eObjective Value: 0.5248868778280543\\u003c\\u002fb\\u003e\",\"Trial #19\\u003cbr\\u003eC: 10.995821627525842\\u003cbr\\u003e\\u003cb\\u003eObjective Value: 0.5384615384615384\\u003c\\u002fb\\u003e\",\"Trial #20\\u003cbr\\u003eC: 0.009910053021205373\\u003cbr\\u003e\\u003cb\\u003eObjective Value: 0.5565610859728507\\u003c\\u002fb\\u003e\",\"Trial #21\\u003cbr\\u003eC: 0.006661571524532892\\u003cbr\\u003e\\u003cb\\u003eObjective Value: 0.5610859728506787\\u003c\\u002fb\\u003e\",\"Trial #22\\u003cbr\\u003eC: 0.0007238611172935753\\u003cbr\\u003e\\u003cb\\u003eObjective Value: 0.5248868778280543\\u003c\\u002fb\\u003e\",\"Trial #23\\u003cbr\\u003eC: 0.021641662493763085\\u003cbr\\u003e\\u003cb\\u003eObjective Value: 0.5248868778280543\\u003c\\u002fb\\u003e\",\"Trial #24\\u003cbr\\u003eC: 0.5734343634866748\\u003cbr\\u003e\\u003cb\\u003eObjective Value: 0.5294117647058824\\u003c\\u002fb\\u003e\",\"Trial #25\\u003cbr\\u003eC: 0.08088083603918661\\u003cbr\\u003e\\u003cb\\u003eObjective Value: 0.5429864253393665\\u003c\\u002fb\\u003e\",\"Trial #26\\u003cbr\\u003eC: 0.0025495159125979803\\u003cbr\\u003e\\u003cb\\u003eObjective Value: 0.5384615384615384\\u003c\\u002fb\\u003e\",\"Trial #27\\u003cbr\\u003eC: 0.00034507319564451447\\u003cbr\\u003e\\u003cb\\u003eObjective Value: 0.5248868778280543\\u003c\\u002fb\\u003e\",\"Trial #28\\u003cbr\\u003eC: 0.004785702270048449\\u003cbr\\u003e\\u003cb\\u003eObjective Value: 0.5475113122171946\\u003c\\u002fb\\u003e\",\"Trial #29\\u003cbr\\u003eC: 0.03883744540617223\\u003cbr\\u003e\\u003cb\\u003eObjective Value: 0.5248868778280543\\u003c\\u002fb\\u003e\",\"Trial #30\\u003cbr\\u003eC: 1.0527360183220422\\u003cbr\\u003e\\u003cb\\u003eObjective Value: 0.5294117647058824\\u003c\\u002fb\\u003e\",\"Trial #31\\u003cbr\\u003eC: 0.01000651862535893\\u003cbr\\u003e\\u003cb\\u003eObjective Value: 0.5565610859728507\\u003c\\u002fb\\u003e\",\"Trial #32\\u003cbr\\u003eC: 0.007161496144927901\\u003cbr\\u003e\\u003cb\\u003eObjective Value: 0.5565610859728507\\u003c\\u002fb\\u003e\",\"Trial #33\\u003cbr\\u003eC: 0.009708623521443764\\u003cbr\\u003e\\u003cb\\u003eObjective Value: 0.5565610859728507\\u003c\\u002fb\\u003e\",\"Trial #34\\u003cbr\\u003eC: 0.0016384493858702383\\u003cbr\\u003e\\u003cb\\u003eObjective Value: 0.5248868778280543\\u003c\\u002fb\\u003e\",\"Trial #35\\u003cbr\\u003eC: 0.19589616309815802\\u003cbr\\u003e\\u003cb\\u003eObjective Value: 0.5339366515837104\\u003c\\u002fb\\u003e\",\"Trial #36\\u003cbr\\u003eC: 0.06827406596620489\\u003cbr\\u003e\\u003cb\\u003eObjective Value: 0.5203619909502263\\u003c\\u002fb\\u003e\",\"Trial #37\\u003cbr\\u003eC: 0.007642775587215456\\u003cbr\\u003e\\u003cb\\u003eObjective Value: 0.5565610859728507\\u003c\\u002fb\\u003e\",\"Trial #38\\u003cbr\\u003eC: 0.0012481679571802436\\u003cbr\\u003e\\u003cb\\u003eObjective Value: 0.5248868778280543\\u003c\\u002fb\\u003e\",\"Trial #39\\u003cbr\\u003eC: 0.013446494157952384\\u003cbr\\u003e\\u003cb\\u003eObjective Value: 0.5429864253393665\\u003c\\u002fb\\u003e\",\"Trial #40\\u003cbr\\u003eC: 0.0003820616054464257\\u003cbr\\u003e\\u003cb\\u003eObjective Value: 0.5248868778280543\\u003c\\u002fb\\u003e\",\"Trial #41\\u003cbr\\u003eC: 0.012255251400506583\\u003cbr\\u003e\\u003cb\\u003eObjective Value: 0.5475113122171946\\u003c\\u002fb\\u003e\",\"Trial #42\\u003cbr\\u003eC: 0.008684409102211332\\u003cbr\\u003e\\u003cb\\u003eObjective Value: 0.5565610859728507\\u003c\\u002fb\\u003e\",\"Trial #43\\u003cbr\\u003eC: 0.04395066218587337\\u003cbr\\u003e\\u003cb\\u003eObjective Value: 0.5294117647058824\\u003c\\u002fb\\u003e\",\"Trial #44\\u003cbr\\u003eC: 0.005015192869379599\\u003cbr\\u003e\\u003cb\\u003eObjective Value: 0.5475113122171946\\u003c\\u002fb\\u003e\",\"Trial #45\\u003cbr\\u003eC: 0.3438405810243331\\u003cbr\\u003e\\u003cb\\u003eObjective Value: 0.5248868778280543\\u003c\\u002fb\\u003e\",\"Trial #46\\u003cbr\\u003eC: 7140.970673083896\\u003cbr\\u003e\\u003cb\\u003eObjective Value: 0.5384615384615384\\u003c\\u002fb\\u003e\",\"Trial #47\\u003cbr\\u003eC: 0.0003536950261870639\\u003cbr\\u003e\\u003cb\\u003eObjective Value: 0.5248868778280543\\u003c\\u002fb\\u003e\",\"Trial #48\\u003cbr\\u003eC: 0.0018447747158436988\\u003cbr\\u003e\\u003cb\\u003eObjective Value: 0.5248868778280543\\u003c\\u002fb\\u003e\",\"Trial #49\\u003cbr\\u003eC: 2.8086458713418194\\u003cbr\\u003e\\u003cb\\u003eObjective Value: 0.5294117647058824\\u003c\\u002fb\\u003e\",\"Trial #50\\u003cbr\\u003eC: 0.12361982566447331\\u003cbr\\u003e\\u003cb\\u003eObjective Value: 0.5429864253393665\\u003c\\u002fb\\u003e\",\"Trial #51\\u003cbr\\u003eC: 0.007206013943062941\\u003cbr\\u003e\\u003cb\\u003eObjective Value: 0.5565610859728507\\u003c\\u002fb\\u003e\",\"Trial #52\\u003cbr\\u003eC: 0.023504424332055844\\u003cbr\\u003e\\u003cb\\u003eObjective Value: 0.5203619909502263\\u003c\\u002fb\\u003e\",\"Trial #53\\u003cbr\\u003eC: 0.00940590471997023\\u003cbr\\u003e\\u003cb\\u003eObjective Value: 0.5520361990950227\\u003c\\u002fb\\u003e\",\"Trial #54\\u003cbr\\u003eC: 0.0042505912214139754\\u003cbr\\u003e\\u003cb\\u003eObjective Value: 0.5475113122171946\\u003c\\u002fb\\u003e\",\"Trial #55\\u003cbr\\u003eC: 0.0007067508955580432\\u003cbr\\u003e\\u003cb\\u003eObjective Value: 0.5248868778280543\\u003c\\u002fb\\u003e\",\"Trial #56\\u003cbr\\u003eC: 0.02856509557814606\\u003cbr\\u003e\\u003cb\\u003eObjective Value: 0.5294117647058824\\u003c\\u002fb\\u003e\",\"Trial #57\\u003cbr\\u003eC: 60.137286600427046\\u003cbr\\u003e\\u003cb\\u003eObjective Value: 0.5384615384615384\\u003c\\u002fb\\u003e\",\"Trial #58\\u003cbr\\u003eC: 0.002494201791959721\\u003cbr\\u003e\\u003cb\\u003eObjective Value: 0.5384615384615384\\u003c\\u002fb\\u003e\",\"Trial #59\\u003cbr\\u003eC: 0.016746920975121517\\u003cbr\\u003e\\u003cb\\u003eObjective Value: 0.5339366515837104\\u003c\\u002fb\\u003e\",\"Trial #60\\u003cbr\\u003eC: 0.0011713346837307099\\u003cbr\\u003e\\u003cb\\u003eObjective Value: 0.5248868778280543\\u003c\\u002fb\\u003e\",\"Trial #61\\u003cbr\\u003eC: 0.00703828537661006\\u003cbr\\u003e\\u003cb\\u003eObjective Value: 0.5565610859728507\\u003c\\u002fb\\u003e\",\"Trial #62\\u003cbr\\u003eC: 0.04806291759638281\\u003cbr\\u003e\\u003cb\\u003eObjective Value: 0.5339366515837104\\u003c\\u002fb\\u003e\",\"Trial #63\\u003cbr\\u003eC: 0.0034475224463985273\\u003cbr\\u003e\\u003cb\\u003eObjective Value: 0.5429864253393665\\u003c\\u002fb\\u003e\",\"Trial #64\\u003cbr\\u003eC: 0.009442045823860152\\u003cbr\\u003e\\u003cb\\u003eObjective Value: 0.5520361990950227\\u003c\\u002fb\\u003e\",\"Trial #65\\u003cbr\\u003eC: 0.11404423570079313\\u003cbr\\u003e\\u003cb\\u003eObjective Value: 0.5429864253393665\\u003c\\u002fb\\u003e\",\"Trial #66\\u003cbr\\u003eC: 0.01778182659399596\\u003cbr\\u003e\\u003cb\\u003eObjective Value: 0.5339366515837104\\u003c\\u002fb\\u003e\",\"Trial #67\\u003cbr\\u003eC: 0.006079326673287448\\u003cbr\\u003e\\u003cb\\u003eObjective Value: 0.5429864253393665\\u003c\\u002fb\\u003e\",\"Trial #68\\u003cbr\\u003eC: 0.000820064476092963\\u003cbr\\u003e\\u003cb\\u003eObjective Value: 0.5248868778280543\\u003c\\u002fb\\u003e\",\"Trial #69\\u003cbr\\u003eC: 0.00015101501103327852\\u003cbr\\u003e\\u003cb\\u003eObjective Value: 0.5248868778280543\\u003c\\u002fb\\u003e\",\"Trial #70\\u003cbr\\u003eC: 0.0025424914604314937\\u003cbr\\u003e\\u003cb\\u003eObjective Value: 0.5384615384615384\\u003c\\u002fb\\u003e\",\"Trial #71\\u003cbr\\u003eC: 0.010501188097080715\\u003cbr\\u003e\\u003cb\\u003eObjective Value: 0.5520361990950227\\u003c\\u002fb\\u003e\",\"Trial #72\\u003cbr\\u003eC: 0.03571535053015782\\u003cbr\\u003e\\u003cb\\u003eObjective Value: 0.5158371040723982\\u003c\\u002fb\\u003e\",\"Trial #73\\u003cbr\\u003eC: 0.007198427300601446\\u003cbr\\u003e\\u003cb\\u003eObjective Value: 0.5565610859728507\\u003c\\u002fb\\u003e\",\"Trial #74\\u003cbr\\u003eC: 0.019749239864983014\\u003cbr\\u003e\\u003cb\\u003eObjective Value: 0.5294117647058824\\u003c\\u002fb\\u003e\",\"Trial #75\\u003cbr\\u003eC: 0.06078946587236991\\u003cbr\\u003e\\u003cb\\u003eObjective Value: 0.5339366515837104\\u003c\\u002fb\\u003e\",\"Trial #76\\u003cbr\\u003eC: 0.0036044224933503067\\u003cbr\\u003e\\u003cb\\u003eObjective Value: 0.5429864253393665\\u003c\\u002fb\\u003e\",\"Trial #77\\u003cbr\\u003eC: 0.33451074497483707\\u003cbr\\u003e\\u003cb\\u003eObjective Value: 0.5248868778280543\\u003c\\u002fb\\u003e\",\"Trial #78\\u003cbr\\u003eC: 0.006216777171534601\\u003cbr\\u003e\\u003cb\\u003eObjective Value: 0.5429864253393665\\u003c\\u002fb\\u003e\",\"Trial #79\\u003cbr\\u003eC: 0.09923649556246751\\u003cbr\\u003e\\u003cb\\u003eObjective Value: 0.5475113122171946\\u003c\\u002fb\\u003e\",\"Trial #80\\u003cbr\\u003eC: 0.0020844472885502043\\u003cbr\\u003e\\u003cb\\u003eObjective Value: 0.5294117647058824\\u003c\\u002fb\\u003e\",\"Trial #81\\u003cbr\\u003eC: 0.009087287110078012\\u003cbr\\u003e\\u003cb\\u003eObjective Value: 0.5565610859728507\\u003c\\u002fb\\u003e\",\"Trial #82\\u003cbr\\u003eC: 0.0011744670180507926\\u003cbr\\u003e\\u003cb\\u003eObjective Value: 0.5248868778280543\\u003c\\u002fb\\u003e\",\"Trial #83\\u003cbr\\u003eC: 0.01293655920526486\\u003cbr\\u003e\\u003cb\\u003eObjective Value: 0.5475113122171946\\u003c\\u002fb\\u003e\",\"Trial #84\\u003cbr\\u003eC: 0.005356674291628675\\u003cbr\\u003e\\u003cb\\u003eObjective Value: 0.5475113122171946\\u003c\\u002fb\\u003e\",\"Trial #85\\u003cbr\\u003eC: 0.03760485613783008\\u003cbr\\u003e\\u003cb\\u003eObjective Value: 0.5248868778280543\\u003c\\u002fb\\u003e\",\"Trial #86\\u003cbr\\u003eC: 0.021454786146342626\\u003cbr\\u003e\\u003cb\\u003eObjective Value: 0.5248868778280543\\u003c\\u002fb\\u003e\",\"Trial #87\\u003cbr\\u003eC: 0.0037404709223868193\\u003cbr\\u003e\\u003cb\\u003eObjective Value: 0.5429864253393665\\u003c\\u002fb\\u003e\",\"Trial #88\\u003cbr\\u003eC: 0.007875854280395857\\u003cbr\\u003e\\u003cb\\u003eObjective Value: 0.5565610859728507\\u003c\\u002fb\\u003e\",\"Trial #89\\u003cbr\\u003eC: 0.014796275356508097\\u003cbr\\u003e\\u003cb\\u003eObjective Value: 0.5339366515837104\\u003c\\u002fb\\u003e\",\"Trial #90\\u003cbr\\u003eC: 0.0018770984452015284\\u003cbr\\u003e\\u003cb\\u003eObjective Value: 0.5248868778280543\\u003c\\u002fb\\u003e\",\"Trial #91\\u003cbr\\u003eC: 0.008016228674843515\\u003cbr\\u003e\\u003cb\\u003eObjective Value: 0.5610859728506787\\u003c\\u002fb\\u003e\",\"Trial #92\\u003cbr\\u003eC: 0.005234230651134759\\u003cbr\\u003e\\u003cb\\u003eObjective Value: 0.5475113122171946\\u003c\\u002fb\\u003e\",\"Trial #93\\u003cbr\\u003eC: 0.030730177582805683\\u003cbr\\u003e\\u003cb\\u003eObjective Value: 0.5203619909502263\\u003c\\u002fb\\u003e\",\"Trial #94\\u003cbr\\u003eC: 0.0005198098177235259\\u003cbr\\u003e\\u003cb\\u003eObjective Value: 0.5248868778280543\\u003c\\u002fb\\u003e\",\"Trial #95\\u003cbr\\u003eC: 0.0031628050906876226\\u003cbr\\u003e\\u003cb\\u003eObjective Value: 0.5429864253393665\\u003c\\u002fb\\u003e\",\"Trial #96\\u003cbr\\u003eC: 0.014240746037170446\\u003cbr\\u003e\\u003cb\\u003eObjective Value: 0.5339366515837104\\u003c\\u002fb\\u003e\",\"Trial #97\\u003cbr\\u003eC: 2121.782157384986\\u003cbr\\u003e\\u003cb\\u003eObjective Value: 0.5384615384615384\\u003c\\u002fb\\u003e\",\"Trial #98\\u003cbr\\u003eC: 0.0013181716781715078\\u003cbr\\u003e\\u003cb\\u003eObjective Value: 0.5248868778280543\\u003c\\u002fb\\u003e\",\"Trial #99\\u003cbr\\u003eC: 0.008895926199759015\\u003cbr\\u003e\\u003cb\\u003eObjective Value: 0.5565610859728507\\u003c\\u002fb\\u003e\"],\"marker\":{\"color\":[\"rgb(246.0, 123.0, 74.0)\",\"rgb(253.0, 193.0, 115.0)\",\"rgb(246.0, 123.0, 74.0)\",\"rgb(239.0, 249.0, 220.0)\",\"rgb(100.0, 154.0, 199.0)\",\"rgb(254.0, 239.0, 167.0)\",\"rgb(246.0, 123.0, 74.0)\",\"rgb(239.0, 249.0, 220.0)\",\"rgb(254.0, 239.0, 167.0)\",\"rgb(254.0, 239.0, 167.0)\",\"rgb(100.0, 154.0, 199.0)\",\"rgb(239.0, 249.0, 220.0)\",\"rgb(197.0, 230.0, 240.0)\",\"rgb(100.0, 154.0, 199.0)\",\"rgb(197.0, 230.0, 240.0)\",\"rgb(100.0, 154.0, 199.0)\",\"rgb(197.0, 230.0, 240.0)\",\"rgb(253.0, 193.0, 115.0)\",\"rgb(100.0, 154.0, 199.0)\",\"rgb(254.0, 239.0, 167.0)\",\"rgb(203.0, 36.0, 39.0)\",\"rgb(168.0, 2.0, 38.0)\",\"rgb(100.0, 154.0, 199.0)\",\"rgb(100.0, 154.0, 199.0)\",\"rgb(197.0, 230.0, 240.0)\",\"rgb(253.0, 193.0, 115.0)\",\"rgb(254.0, 239.0, 167.0)\",\"rgb(100.0, 154.0, 199.0)\",\"rgb(246.0, 123.0, 74.0)\",\"rgb(100.0, 154.0, 199.0)\",\"rgb(197.0, 230.0, 240.0)\",\"rgb(203.0, 36.0, 39.0)\",\"rgb(203.0, 36.0, 39.0)\",\"rgb(203.0, 36.0, 39.0)\",\"rgb(100.0, 154.0, 199.0)\",\"rgb(239.0, 249.0, 220.0)\",\"rgb(53.0, 67.0, 155.0)\",\"rgb(203.0, 36.0, 39.0)\",\"rgb(100.0, 154.0, 199.0)\",\"rgb(253.0, 193.0, 115.0)\",\"rgb(100.0, 154.0, 199.0)\",\"rgb(246.0, 123.0, 74.0)\",\"rgb(203.0, 36.0, 39.0)\",\"rgb(197.0, 230.0, 240.0)\",\"rgb(246.0, 123.0, 74.0)\",\"rgb(100.0, 154.0, 199.0)\",\"rgb(254.0, 239.0, 167.0)\",\"rgb(100.0, 154.0, 199.0)\",\"rgb(100.0, 154.0, 199.0)\",\"rgb(197.0, 230.0, 240.0)\",\"rgb(253.0, 193.0, 115.0)\",\"rgb(203.0, 36.0, 39.0)\",\"rgb(53.0, 67.0, 155.0)\",\"rgb(230.0, 79.0, 53.0)\",\"rgb(246.0, 123.0, 74.0)\",\"rgb(100.0, 154.0, 199.0)\",\"rgb(197.0, 230.0, 240.0)\",\"rgb(254.0, 239.0, 167.0)\",\"rgb(254.0, 239.0, 167.0)\",\"rgb(239.0, 249.0, 220.0)\",\"rgb(100.0, 154.0, 199.0)\",\"rgb(203.0, 36.0, 39.0)\",\"rgb(239.0, 249.0, 220.0)\",\"rgb(253.0, 193.0, 115.0)\",\"rgb(230.0, 79.0, 53.0)\",\"rgb(253.0, 193.0, 115.0)\",\"rgb(239.0, 249.0, 220.0)\",\"rgb(253.0, 193.0, 115.0)\",\"rgb(100.0, 154.0, 199.0)\",\"rgb(100.0, 154.0, 199.0)\",\"rgb(254.0, 239.0, 167.0)\",\"rgb(230.0, 79.0, 53.0)\",\"rgb(49.0, 54.0, 149.0)\",\"rgb(203.0, 36.0, 39.0)\",\"rgb(197.0, 230.0, 240.0)\",\"rgb(239.0, 249.0, 220.0)\",\"rgb(253.0, 193.0, 115.0)\",\"rgb(100.0, 154.0, 199.0)\",\"rgb(253.0, 193.0, 115.0)\",\"rgb(246.0, 123.0, 74.0)\",\"rgb(197.0, 230.0, 240.0)\",\"rgb(203.0, 36.0, 39.0)\",\"rgb(100.0, 154.0, 199.0)\",\"rgb(246.0, 123.0, 74.0)\",\"rgb(246.0, 123.0, 74.0)\",\"rgb(100.0, 154.0, 199.0)\",\"rgb(100.0, 154.0, 199.0)\",\"rgb(253.0, 193.0, 115.0)\",\"rgb(203.0, 36.0, 39.0)\",\"rgb(239.0, 249.0, 220.0)\",\"rgb(100.0, 154.0, 199.0)\",\"rgb(168.0, 2.0, 38.0)\",\"rgb(246.0, 123.0, 74.0)\",\"rgb(53.0, 67.0, 155.0)\",\"rgb(100.0, 154.0, 199.0)\",\"rgb(253.0, 193.0, 115.0)\",\"rgb(239.0, 249.0, 220.0)\",\"rgb(254.0, 239.0, 167.0)\",\"rgb(100.0, 154.0, 199.0)\",\"rgb(203.0, 36.0, 39.0)\"],\"line\":{\"color\":\"Grey\",\"width\":0.5}},\"mode\":\"markers\",\"showlegend\":false,\"x\":[0.00450160798217557,165.7270132219959,0.005329013657680159,0.17935144649384777,0.0007649053121075082,105.1699149614788,0.004270745393497069,0.014717557834732936,9100.809616576456,218.8750595145654,0.0001556545774410056,0.24787263486602432,0.02571135722187275,1.3462089887760962,4.631054613618585,0.0007696778911170887,0.07309140471747451,0.00291762798593265,0.00010628735773302448,10.995821627525842,0.009910053021205373,0.006661571524532892,0.0007238611172935753,0.021641662493763085,0.5734343634866748,0.08088083603918661,0.0025495159125979803,0.00034507319564451447,0.004785702270048449,0.03883744540617223,1.0527360183220422,0.01000651862535893,0.007161496144927901,0.009708623521443764,0.0016384493858702383,0.19589616309815802,0.06827406596620489,0.007642775587215456,0.0012481679571802436,0.013446494157952384,0.0003820616054464257,0.012255251400506583,0.008684409102211332,0.04395066218587337,0.005015192869379599,0.3438405810243331,7140.970673083896,0.0003536950261870639,0.0018447747158436988,2.8086458713418194,0.12361982566447331,0.007206013943062941,0.023504424332055844,0.00940590471997023,0.0042505912214139754,0.0007067508955580432,0.02856509557814606,60.137286600427046,0.002494201791959721,0.016746920975121517,0.0011713346837307099,0.00703828537661006,0.04806291759638281,0.0034475224463985273,0.009442045823860152,0.11404423570079313,0.01778182659399596,0.006079326673287448,0.000820064476092963,0.00015101501103327852,0.0025424914604314937,0.010501188097080715,0.03571535053015782,0.007198427300601446,0.019749239864983014,0.06078946587236991,0.0036044224933503067,0.33451074497483707,0.006216777171534601,0.09923649556246751,0.0020844472885502043,0.009087287110078012,0.0011744670180507926,0.01293655920526486,0.005356674291628675,0.03760485613783008,0.021454786146342626,0.0037404709223868193,0.007875854280395857,0.014796275356508097,0.0018770984452015284,0.008016228674843515,0.005234230651134759,0.030730177582805683,0.0005198098177235259,0.0031628050906876226,0.014240746037170446,2121.782157384986,0.0013181716781715078,0.008895926199759015],\"y\":[0.00450160798217557,165.7270132219959,0.005329013657680159,0.17935144649384777,0.0007649053121075082,105.1699149614788,0.004270745393497069,0.014717557834732936,9100.809616576456,218.8750595145654,0.0001556545774410056,0.24787263486602432,0.02571135722187275,1.3462089887760962,4.631054613618585,0.0007696778911170887,0.07309140471747451,0.00291762798593265,0.00010628735773302448,10.995821627525842,0.009910053021205373,0.006661571524532892,0.0007238611172935753,0.021641662493763085,0.5734343634866748,0.08088083603918661,0.0025495159125979803,0.00034507319564451447,0.004785702270048449,0.03883744540617223,1.0527360183220422,0.01000651862535893,0.007161496144927901,0.009708623521443764,0.0016384493858702383,0.19589616309815802,0.06827406596620489,0.007642775587215456,0.0012481679571802436,0.013446494157952384,0.0003820616054464257,0.012255251400506583,0.008684409102211332,0.04395066218587337,0.005015192869379599,0.3438405810243331,7140.970673083896,0.0003536950261870639,0.0018447747158436988,2.8086458713418194,0.12361982566447331,0.007206013943062941,0.023504424332055844,0.00940590471997023,0.0042505912214139754,0.0007067508955580432,0.02856509557814606,60.137286600427046,0.002494201791959721,0.016746920975121517,0.0011713346837307099,0.00703828537661006,0.04806291759638281,0.0034475224463985273,0.009442045823860152,0.11404423570079313,0.01778182659399596,0.006079326673287448,0.000820064476092963,0.00015101501103327852,0.0025424914604314937,0.010501188097080715,0.03571535053015782,0.007198427300601446,0.019749239864983014,0.06078946587236991,0.0036044224933503067,0.33451074497483707,0.006216777171534601,0.09923649556246751,0.0020844472885502043,0.009087287110078012,0.0011744670180507926,0.01293655920526486,0.005356674291628675,0.03760485613783008,0.021454786146342626,0.0037404709223868193,0.007875854280395857,0.014796275356508097,0.0018770984452015284,0.008016228674843515,0.005234230651134759,0.030730177582805683,0.0005198098177235259,0.0031628050906876226,0.014240746037170446,2121.782157384986,0.0013181716781715078,0.008895926199759015],\"type\":\"scatter\",\"xaxis\":\"x\",\"yaxis\":\"y\"},{\"hoverinfo\":\"none\",\"marker\":{\"cmax\":1,\"cmin\":0,\"colorbar\":{\"thickness\":10,\"ticktext\":[\"min. (0.515837)\",\"25% (0.524887)\",\"50% (0.536199)\",\"75% (0.547511)\",\"max. (0.561086)\"],\"tickvals\":[0,0.25,0.5,0.75,1]},\"colorscale\":[[0.0,\"rgb(49,54,149)\"],[0.1,\"rgb(69,117,180)\"],[0.2,\"rgb(116,173,209)\"],[0.3,\"rgb(171,217,233)\"],[0.4,\"rgb(224,243,248)\"],[0.5,\"rgb(255,255,191)\"],[0.6,\"rgb(254,224,144)\"],[0.7,\"rgb(253,174,97)\"],[0.8,\"rgb(244,109,67)\"],[0.9,\"rgb(215,48,39)\"],[1.0,\"rgb(165,0,38)\"]],\"showscale\":true},\"mode\":\"markers\",\"showlegend\":false,\"x\":[null],\"y\":[null],\"type\":\"scatter\"}],                        {\"template\":{\"data\":{\"histogram2dcontour\":[{\"type\":\"histogram2dcontour\",\"colorbar\":{\"outlinewidth\":0,\"ticks\":\"\"},\"colorscale\":[[0.0,\"#0d0887\"],[0.1111111111111111,\"#46039f\"],[0.2222222222222222,\"#7201a8\"],[0.3333333333333333,\"#9c179e\"],[0.4444444444444444,\"#bd3786\"],[0.5555555555555556,\"#d8576b\"],[0.6666666666666666,\"#ed7953\"],[0.7777777777777778,\"#fb9f3a\"],[0.8888888888888888,\"#fdca26\"],[1.0,\"#f0f921\"]]}],\"choropleth\":[{\"type\":\"choropleth\",\"colorbar\":{\"outlinewidth\":0,\"ticks\":\"\"}}],\"histogram2d\":[{\"type\":\"histogram2d\",\"colorbar\":{\"outlinewidth\":0,\"ticks\":\"\"},\"colorscale\":[[0.0,\"#0d0887\"],[0.1111111111111111,\"#46039f\"],[0.2222222222222222,\"#7201a8\"],[0.3333333333333333,\"#9c179e\"],[0.4444444444444444,\"#bd3786\"],[0.5555555555555556,\"#d8576b\"],[0.6666666666666666,\"#ed7953\"],[0.7777777777777778,\"#fb9f3a\"],[0.8888888888888888,\"#fdca26\"],[1.0,\"#f0f921\"]]}],\"heatmap\":[{\"type\":\"heatmap\",\"colorbar\":{\"outlinewidth\":0,\"ticks\":\"\"},\"colorscale\":[[0.0,\"#0d0887\"],[0.1111111111111111,\"#46039f\"],[0.2222222222222222,\"#7201a8\"],[0.3333333333333333,\"#9c179e\"],[0.4444444444444444,\"#bd3786\"],[0.5555555555555556,\"#d8576b\"],[0.6666666666666666,\"#ed7953\"],[0.7777777777777778,\"#fb9f3a\"],[0.8888888888888888,\"#fdca26\"],[1.0,\"#f0f921\"]]}],\"heatmapgl\":[{\"type\":\"heatmapgl\",\"colorbar\":{\"outlinewidth\":0,\"ticks\":\"\"},\"colorscale\":[[0.0,\"#0d0887\"],[0.1111111111111111,\"#46039f\"],[0.2222222222222222,\"#7201a8\"],[0.3333333333333333,\"#9c179e\"],[0.4444444444444444,\"#bd3786\"],[0.5555555555555556,\"#d8576b\"],[0.6666666666666666,\"#ed7953\"],[0.7777777777777778,\"#fb9f3a\"],[0.8888888888888888,\"#fdca26\"],[1.0,\"#f0f921\"]]}],\"contourcarpet\":[{\"type\":\"contourcarpet\",\"colorbar\":{\"outlinewidth\":0,\"ticks\":\"\"}}],\"contour\":[{\"type\":\"contour\",\"colorbar\":{\"outlinewidth\":0,\"ticks\":\"\"},\"colorscale\":[[0.0,\"#0d0887\"],[0.1111111111111111,\"#46039f\"],[0.2222222222222222,\"#7201a8\"],[0.3333333333333333,\"#9c179e\"],[0.4444444444444444,\"#bd3786\"],[0.5555555555555556,\"#d8576b\"],[0.6666666666666666,\"#ed7953\"],[0.7777777777777778,\"#fb9f3a\"],[0.8888888888888888,\"#fdca26\"],[1.0,\"#f0f921\"]]}],\"surface\":[{\"type\":\"surface\",\"colorbar\":{\"outlinewidth\":0,\"ticks\":\"\"},\"colorscale\":[[0.0,\"#0d0887\"],[0.1111111111111111,\"#46039f\"],[0.2222222222222222,\"#7201a8\"],[0.3333333333333333,\"#9c179e\"],[0.4444444444444444,\"#bd3786\"],[0.5555555555555556,\"#d8576b\"],[0.6666666666666666,\"#ed7953\"],[0.7777777777777778,\"#fb9f3a\"],[0.8888888888888888,\"#fdca26\"],[1.0,\"#f0f921\"]]}],\"mesh3d\":[{\"type\":\"mesh3d\",\"colorbar\":{\"outlinewidth\":0,\"ticks\":\"\"}}],\"scatter\":[{\"fillpattern\":{\"fillmode\":\"overlay\",\"size\":10,\"solidity\":0.2},\"type\":\"scatter\"}],\"parcoords\":[{\"type\":\"parcoords\",\"line\":{\"colorbar\":{\"outlinewidth\":0,\"ticks\":\"\"}}}],\"scatterpolargl\":[{\"type\":\"scatterpolargl\",\"marker\":{\"colorbar\":{\"outlinewidth\":0,\"ticks\":\"\"}}}],\"bar\":[{\"error_x\":{\"color\":\"#2a3f5f\"},\"error_y\":{\"color\":\"#2a3f5f\"},\"marker\":{\"line\":{\"color\":\"#E5ECF6\",\"width\":0.5},\"pattern\":{\"fillmode\":\"overlay\",\"size\":10,\"solidity\":0.2}},\"type\":\"bar\"}],\"scattergeo\":[{\"type\":\"scattergeo\",\"marker\":{\"colorbar\":{\"outlinewidth\":0,\"ticks\":\"\"}}}],\"scatterpolar\":[{\"type\":\"scatterpolar\",\"marker\":{\"colorbar\":{\"outlinewidth\":0,\"ticks\":\"\"}}}],\"histogram\":[{\"marker\":{\"pattern\":{\"fillmode\":\"overlay\",\"size\":10,\"solidity\":0.2}},\"type\":\"histogram\"}],\"scattergl\":[{\"type\":\"scattergl\",\"marker\":{\"colorbar\":{\"outlinewidth\":0,\"ticks\":\"\"}}}],\"scatter3d\":[{\"type\":\"scatter3d\",\"line\":{\"colorbar\":{\"outlinewidth\":0,\"ticks\":\"\"}},\"marker\":{\"colorbar\":{\"outlinewidth\":0,\"ticks\":\"\"}}}],\"scattermapbox\":[{\"type\":\"scattermapbox\",\"marker\":{\"colorbar\":{\"outlinewidth\":0,\"ticks\":\"\"}}}],\"scatterternary\":[{\"type\":\"scatterternary\",\"marker\":{\"colorbar\":{\"outlinewidth\":0,\"ticks\":\"\"}}}],\"scattercarpet\":[{\"type\":\"scattercarpet\",\"marker\":{\"colorbar\":{\"outlinewidth\":0,\"ticks\":\"\"}}}],\"carpet\":[{\"aaxis\":{\"endlinecolor\":\"#2a3f5f\",\"gridcolor\":\"white\",\"linecolor\":\"white\",\"minorgridcolor\":\"white\",\"startlinecolor\":\"#2a3f5f\"},\"baxis\":{\"endlinecolor\":\"#2a3f5f\",\"gridcolor\":\"white\",\"linecolor\":\"white\",\"minorgridcolor\":\"white\",\"startlinecolor\":\"#2a3f5f\"},\"type\":\"carpet\"}],\"table\":[{\"cells\":{\"fill\":{\"color\":\"#EBF0F8\"},\"line\":{\"color\":\"white\"}},\"header\":{\"fill\":{\"color\":\"#C8D4E3\"},\"line\":{\"color\":\"white\"}},\"type\":\"table\"}],\"barpolar\":[{\"marker\":{\"line\":{\"color\":\"#E5ECF6\",\"width\":0.5},\"pattern\":{\"fillmode\":\"overlay\",\"size\":10,\"solidity\":0.2}},\"type\":\"barpolar\"}],\"pie\":[{\"automargin\":true,\"type\":\"pie\"}]},\"layout\":{\"autotypenumbers\":\"strict\",\"colorway\":[\"#636efa\",\"#EF553B\",\"#00cc96\",\"#ab63fa\",\"#FFA15A\",\"#19d3f3\",\"#FF6692\",\"#B6E880\",\"#FF97FF\",\"#FECB52\"],\"font\":{\"color\":\"#2a3f5f\"},\"hovermode\":\"closest\",\"hoverlabel\":{\"align\":\"left\"},\"paper_bgcolor\":\"white\",\"plot_bgcolor\":\"#E5ECF6\",\"polar\":{\"bgcolor\":\"#E5ECF6\",\"angularaxis\":{\"gridcolor\":\"white\",\"linecolor\":\"white\",\"ticks\":\"\"},\"radialaxis\":{\"gridcolor\":\"white\",\"linecolor\":\"white\",\"ticks\":\"\"}},\"ternary\":{\"bgcolor\":\"#E5ECF6\",\"aaxis\":{\"gridcolor\":\"white\",\"linecolor\":\"white\",\"ticks\":\"\"},\"baxis\":{\"gridcolor\":\"white\",\"linecolor\":\"white\",\"ticks\":\"\"},\"caxis\":{\"gridcolor\":\"white\",\"linecolor\":\"white\",\"ticks\":\"\"}},\"coloraxis\":{\"colorbar\":{\"outlinewidth\":0,\"ticks\":\"\"}},\"colorscale\":{\"sequential\":[[0.0,\"#0d0887\"],[0.1111111111111111,\"#46039f\"],[0.2222222222222222,\"#7201a8\"],[0.3333333333333333,\"#9c179e\"],[0.4444444444444444,\"#bd3786\"],[0.5555555555555556,\"#d8576b\"],[0.6666666666666666,\"#ed7953\"],[0.7777777777777778,\"#fb9f3a\"],[0.8888888888888888,\"#fdca26\"],[1.0,\"#f0f921\"]],\"sequentialminus\":[[0.0,\"#0d0887\"],[0.1111111111111111,\"#46039f\"],[0.2222222222222222,\"#7201a8\"],[0.3333333333333333,\"#9c179e\"],[0.4444444444444444,\"#bd3786\"],[0.5555555555555556,\"#d8576b\"],[0.6666666666666666,\"#ed7953\"],[0.7777777777777778,\"#fb9f3a\"],[0.8888888888888888,\"#fdca26\"],[1.0,\"#f0f921\"]],\"diverging\":[[0,\"#8e0152\"],[0.1,\"#c51b7d\"],[0.2,\"#de77ae\"],[0.3,\"#f1b6da\"],[0.4,\"#fde0ef\"],[0.5,\"#f7f7f7\"],[0.6,\"#e6f5d0\"],[0.7,\"#b8e186\"],[0.8,\"#7fbc41\"],[0.9,\"#4d9221\"],[1,\"#276419\"]]},\"xaxis\":{\"gridcolor\":\"white\",\"linecolor\":\"white\",\"ticks\":\"\",\"title\":{\"standoff\":15},\"zerolinecolor\":\"white\",\"automargin\":true,\"zerolinewidth\":2},\"yaxis\":{\"gridcolor\":\"white\",\"linecolor\":\"white\",\"ticks\":\"\",\"title\":{\"standoff\":15},\"zerolinecolor\":\"white\",\"automargin\":true,\"zerolinewidth\":2},\"scene\":{\"xaxis\":{\"backgroundcolor\":\"#E5ECF6\",\"gridcolor\":\"white\",\"linecolor\":\"white\",\"showbackground\":true,\"ticks\":\"\",\"zerolinecolor\":\"white\",\"gridwidth\":2},\"yaxis\":{\"backgroundcolor\":\"#E5ECF6\",\"gridcolor\":\"white\",\"linecolor\":\"white\",\"showbackground\":true,\"ticks\":\"\",\"zerolinecolor\":\"white\",\"gridwidth\":2},\"zaxis\":{\"backgroundcolor\":\"#E5ECF6\",\"gridcolor\":\"white\",\"linecolor\":\"white\",\"showbackground\":true,\"ticks\":\"\",\"zerolinecolor\":\"white\",\"gridwidth\":2}},\"shapedefaults\":{\"line\":{\"color\":\"#2a3f5f\"}},\"annotationdefaults\":{\"arrowcolor\":\"#2a3f5f\",\"arrowhead\":0,\"arrowwidth\":1},\"geo\":{\"bgcolor\":\"white\",\"landcolor\":\"#E5ECF6\",\"subunitcolor\":\"white\",\"showland\":true,\"showlakes\":true,\"lakecolor\":\"white\"},\"title\":{\"x\":0.05},\"mapbox\":{\"style\":\"light\"}}},\"xaxis\":{\"anchor\":\"y\",\"domain\":[0.0,1.0],\"range\":[-4.370148310149105,4.355709950210403],\"type\":\"log\",\"title\":{\"text\":\"C\"}},\"yaxis\":{\"anchor\":\"x\",\"domain\":[0.0,1.0],\"range\":[-4.370148310149105,4.355709950210403],\"type\":\"log\",\"title\":{\"text\":\"C\"}},\"title\":{\"text\":\"Rank (Objective Value)\"}},                        {\"responsive\": true}                    ).then(function(){\n",
       "                            \n",
       "var gd = document.getElementById('7cf47aa5-84ea-42ca-8d36-76033a557c00');\n",
       "var x = new MutationObserver(function (mutations, observer) {{\n",
       "        var display = window.getComputedStyle(gd).display;\n",
       "        if (!display || display === 'none') {{\n",
       "            console.log([gd, 'removed!']);\n",
       "            Plotly.purge(gd);\n",
       "            observer.disconnect();\n",
       "        }}\n",
       "}});\n",
       "\n",
       "// Listen for the removal of the full notebook cells\n",
       "var notebookContainer = gd.closest('#notebook-container');\n",
       "if (notebookContainer) {{\n",
       "    x.observe(notebookContainer, {childList: true});\n",
       "}}\n",
       "\n",
       "// Listen for the clearing of the current output cell\n",
       "var outputEl = gd.closest('.output');\n",
       "if (outputEl) {{\n",
       "    x.observe(outputEl, {childList: true});\n",
       "}}\n",
       "\n",
       "                        })                };                });            </script>        </div>"
      ]
     },
     "metadata": {},
     "output_type": "display_data"
    }
   ],
   "source": [
    "plot_rank(study)"
   ]
  },
  {
   "cell_type": "code",
   "execution_count": 452,
   "id": "8e018fc2-fcab-47ef-8863-134392af094d",
   "metadata": {
    "tags": []
   },
   "outputs": [
    {
     "data": {
      "application/vnd.plotly.v1+json": {
       "config": {
        "plotlyServerURL": "https://plot.ly"
       },
       "data": [
        {
         "marker": {
          "color": [
           0,
           1,
           2,
           3,
           4,
           5,
           6,
           7,
           8,
           9,
           10,
           11,
           12,
           13,
           14,
           15,
           16,
           17,
           18,
           19,
           20,
           21,
           22,
           23,
           24,
           25,
           26,
           27,
           28,
           29,
           30,
           31,
           32,
           33,
           34,
           35,
           36,
           37,
           38,
           39,
           40,
           41,
           42,
           43,
           44,
           45,
           46,
           47,
           48,
           49,
           50,
           51,
           52,
           53,
           54,
           55,
           56,
           57,
           58,
           59,
           60,
           61,
           62,
           63,
           64,
           65,
           66,
           67,
           68,
           69,
           70,
           71,
           72,
           73,
           74,
           75,
           76,
           77,
           78,
           79,
           80,
           81,
           82,
           83,
           84,
           85,
           86,
           87,
           88,
           89,
           90,
           91,
           92,
           93,
           94,
           95,
           96,
           97,
           98,
           99
          ],
          "colorbar": {
           "title": {
            "text": "Trial"
           },
           "x": 1,
           "xpad": 40,
           "y": 0.5
          },
          "colorscale": [
           [
            0,
            "rgb(247,251,255)"
           ],
           [
            0.125,
            "rgb(222,235,247)"
           ],
           [
            0.25,
            "rgb(198,219,239)"
           ],
           [
            0.375,
            "rgb(158,202,225)"
           ],
           [
            0.5,
            "rgb(107,174,214)"
           ],
           [
            0.625,
            "rgb(66,146,198)"
           ],
           [
            0.75,
            "rgb(33,113,181)"
           ],
           [
            0.875,
            "rgb(8,81,156)"
           ],
           [
            1,
            "rgb(8,48,107)"
           ]
          ],
          "line": {
           "color": "Grey",
           "width": 0.5
          }
         },
         "mode": "markers",
         "name": "Feasible Trial",
         "showlegend": false,
         "type": "scatter",
         "x": [
          0.00450160798217557,
          165.7270132219959,
          0.005329013657680159,
          0.17935144649384777,
          0.0007649053121075082,
          105.1699149614788,
          0.004270745393497069,
          0.014717557834732936,
          9100.809616576456,
          218.8750595145654,
          0.0001556545774410056,
          0.24787263486602432,
          0.02571135722187275,
          1.3462089887760962,
          4.631054613618585,
          0.0007696778911170887,
          0.07309140471747451,
          0.00291762798593265,
          0.00010628735773302448,
          10.995821627525842,
          0.009910053021205373,
          0.006661571524532892,
          0.0007238611172935753,
          0.021641662493763085,
          0.5734343634866748,
          0.08088083603918661,
          0.0025495159125979803,
          0.00034507319564451447,
          0.004785702270048449,
          0.03883744540617223,
          1.0527360183220422,
          0.01000651862535893,
          0.007161496144927901,
          0.009708623521443764,
          0.0016384493858702383,
          0.19589616309815802,
          0.06827406596620489,
          0.007642775587215456,
          0.0012481679571802436,
          0.013446494157952384,
          0.0003820616054464257,
          0.012255251400506583,
          0.008684409102211332,
          0.04395066218587337,
          0.005015192869379599,
          0.3438405810243331,
          7140.970673083896,
          0.0003536950261870639,
          0.0018447747158436988,
          2.8086458713418194,
          0.12361982566447331,
          0.007206013943062941,
          0.023504424332055844,
          0.00940590471997023,
          0.0042505912214139754,
          0.0007067508955580432,
          0.02856509557814606,
          60.137286600427046,
          0.002494201791959721,
          0.016746920975121517,
          0.0011713346837307099,
          0.00703828537661006,
          0.04806291759638281,
          0.0034475224463985273,
          0.009442045823860152,
          0.11404423570079313,
          0.01778182659399596,
          0.006079326673287448,
          0.000820064476092963,
          0.00015101501103327852,
          0.0025424914604314937,
          0.010501188097080715,
          0.03571535053015782,
          0.007198427300601446,
          0.019749239864983014,
          0.06078946587236991,
          0.0036044224933503067,
          0.33451074497483707,
          0.006216777171534601,
          0.09923649556246751,
          0.0020844472885502043,
          0.009087287110078012,
          0.0011744670180507926,
          0.01293655920526486,
          0.005356674291628675,
          0.03760485613783008,
          0.021454786146342626,
          0.0037404709223868193,
          0.007875854280395857,
          0.014796275356508097,
          0.0018770984452015284,
          0.008016228674843515,
          0.005234230651134759,
          0.030730177582805683,
          0.0005198098177235259,
          0.0031628050906876226,
          0.014240746037170446,
          2121.782157384986,
          0.0013181716781715078,
          0.008895926199759015
         ],
         "y": [
          0.5475113122171946,
          0.5429864253393665,
          0.5475113122171946,
          0.5339366515837104,
          0.5248868778280543,
          0.5384615384615384,
          0.5475113122171946,
          0.5339366515837104,
          0.5384615384615384,
          0.5384615384615384,
          0.5248868778280543,
          0.5339366515837104,
          0.5294117647058824,
          0.5248868778280543,
          0.5294117647058824,
          0.5248868778280543,
          0.5294117647058824,
          0.5429864253393665,
          0.5248868778280543,
          0.5384615384615384,
          0.5565610859728507,
          0.5610859728506787,
          0.5248868778280543,
          0.5248868778280543,
          0.5294117647058824,
          0.5429864253393665,
          0.5384615384615384,
          0.5248868778280543,
          0.5475113122171946,
          0.5248868778280543,
          0.5294117647058824,
          0.5565610859728507,
          0.5565610859728507,
          0.5565610859728507,
          0.5248868778280543,
          0.5339366515837104,
          0.5203619909502263,
          0.5565610859728507,
          0.5248868778280543,
          0.5429864253393665,
          0.5248868778280543,
          0.5475113122171946,
          0.5565610859728507,
          0.5294117647058824,
          0.5475113122171946,
          0.5248868778280543,
          0.5384615384615384,
          0.5248868778280543,
          0.5248868778280543,
          0.5294117647058824,
          0.5429864253393665,
          0.5565610859728507,
          0.5203619909502263,
          0.5520361990950227,
          0.5475113122171946,
          0.5248868778280543,
          0.5294117647058824,
          0.5384615384615384,
          0.5384615384615384,
          0.5339366515837104,
          0.5248868778280543,
          0.5565610859728507,
          0.5339366515837104,
          0.5429864253393665,
          0.5520361990950227,
          0.5429864253393665,
          0.5339366515837104,
          0.5429864253393665,
          0.5248868778280543,
          0.5248868778280543,
          0.5384615384615384,
          0.5520361990950227,
          0.5158371040723982,
          0.5565610859728507,
          0.5294117647058824,
          0.5339366515837104,
          0.5429864253393665,
          0.5248868778280543,
          0.5429864253393665,
          0.5475113122171946,
          0.5294117647058824,
          0.5565610859728507,
          0.5248868778280543,
          0.5475113122171946,
          0.5475113122171946,
          0.5248868778280543,
          0.5248868778280543,
          0.5429864253393665,
          0.5565610859728507,
          0.5339366515837104,
          0.5248868778280543,
          0.5610859728506787,
          0.5475113122171946,
          0.5203619909502263,
          0.5248868778280543,
          0.5429864253393665,
          0.5339366515837104,
          0.5384615384615384,
          0.5248868778280543,
          0.5565610859728507
         ]
        }
       ],
       "layout": {
        "autosize": true,
        "template": {
         "data": {
          "bar": [
           {
            "error_x": {
             "color": "#2a3f5f"
            },
            "error_y": {
             "color": "#2a3f5f"
            },
            "marker": {
             "line": {
              "color": "#E5ECF6",
              "width": 0.5
             },
             "pattern": {
              "fillmode": "overlay",
              "size": 10,
              "solidity": 0.2
             }
            },
            "type": "bar"
           }
          ],
          "barpolar": [
           {
            "marker": {
             "line": {
              "color": "#E5ECF6",
              "width": 0.5
             },
             "pattern": {
              "fillmode": "overlay",
              "size": 10,
              "solidity": 0.2
             }
            },
            "type": "barpolar"
           }
          ],
          "carpet": [
           {
            "aaxis": {
             "endlinecolor": "#2a3f5f",
             "gridcolor": "white",
             "linecolor": "white",
             "minorgridcolor": "white",
             "startlinecolor": "#2a3f5f"
            },
            "baxis": {
             "endlinecolor": "#2a3f5f",
             "gridcolor": "white",
             "linecolor": "white",
             "minorgridcolor": "white",
             "startlinecolor": "#2a3f5f"
            },
            "type": "carpet"
           }
          ],
          "choropleth": [
           {
            "colorbar": {
             "outlinewidth": 0,
             "ticks": ""
            },
            "type": "choropleth"
           }
          ],
          "contour": [
           {
            "colorbar": {
             "outlinewidth": 0,
             "ticks": ""
            },
            "colorscale": [
             [
              0,
              "#0d0887"
             ],
             [
              0.1111111111111111,
              "#46039f"
             ],
             [
              0.2222222222222222,
              "#7201a8"
             ],
             [
              0.3333333333333333,
              "#9c179e"
             ],
             [
              0.4444444444444444,
              "#bd3786"
             ],
             [
              0.5555555555555556,
              "#d8576b"
             ],
             [
              0.6666666666666666,
              "#ed7953"
             ],
             [
              0.7777777777777778,
              "#fb9f3a"
             ],
             [
              0.8888888888888888,
              "#fdca26"
             ],
             [
              1,
              "#f0f921"
             ]
            ],
            "type": "contour"
           }
          ],
          "contourcarpet": [
           {
            "colorbar": {
             "outlinewidth": 0,
             "ticks": ""
            },
            "type": "contourcarpet"
           }
          ],
          "heatmap": [
           {
            "colorbar": {
             "outlinewidth": 0,
             "ticks": ""
            },
            "colorscale": [
             [
              0,
              "#0d0887"
             ],
             [
              0.1111111111111111,
              "#46039f"
             ],
             [
              0.2222222222222222,
              "#7201a8"
             ],
             [
              0.3333333333333333,
              "#9c179e"
             ],
             [
              0.4444444444444444,
              "#bd3786"
             ],
             [
              0.5555555555555556,
              "#d8576b"
             ],
             [
              0.6666666666666666,
              "#ed7953"
             ],
             [
              0.7777777777777778,
              "#fb9f3a"
             ],
             [
              0.8888888888888888,
              "#fdca26"
             ],
             [
              1,
              "#f0f921"
             ]
            ],
            "type": "heatmap"
           }
          ],
          "heatmapgl": [
           {
            "colorbar": {
             "outlinewidth": 0,
             "ticks": ""
            },
            "colorscale": [
             [
              0,
              "#0d0887"
             ],
             [
              0.1111111111111111,
              "#46039f"
             ],
             [
              0.2222222222222222,
              "#7201a8"
             ],
             [
              0.3333333333333333,
              "#9c179e"
             ],
             [
              0.4444444444444444,
              "#bd3786"
             ],
             [
              0.5555555555555556,
              "#d8576b"
             ],
             [
              0.6666666666666666,
              "#ed7953"
             ],
             [
              0.7777777777777778,
              "#fb9f3a"
             ],
             [
              0.8888888888888888,
              "#fdca26"
             ],
             [
              1,
              "#f0f921"
             ]
            ],
            "type": "heatmapgl"
           }
          ],
          "histogram": [
           {
            "marker": {
             "pattern": {
              "fillmode": "overlay",
              "size": 10,
              "solidity": 0.2
             }
            },
            "type": "histogram"
           }
          ],
          "histogram2d": [
           {
            "colorbar": {
             "outlinewidth": 0,
             "ticks": ""
            },
            "colorscale": [
             [
              0,
              "#0d0887"
             ],
             [
              0.1111111111111111,
              "#46039f"
             ],
             [
              0.2222222222222222,
              "#7201a8"
             ],
             [
              0.3333333333333333,
              "#9c179e"
             ],
             [
              0.4444444444444444,
              "#bd3786"
             ],
             [
              0.5555555555555556,
              "#d8576b"
             ],
             [
              0.6666666666666666,
              "#ed7953"
             ],
             [
              0.7777777777777778,
              "#fb9f3a"
             ],
             [
              0.8888888888888888,
              "#fdca26"
             ],
             [
              1,
              "#f0f921"
             ]
            ],
            "type": "histogram2d"
           }
          ],
          "histogram2dcontour": [
           {
            "colorbar": {
             "outlinewidth": 0,
             "ticks": ""
            },
            "colorscale": [
             [
              0,
              "#0d0887"
             ],
             [
              0.1111111111111111,
              "#46039f"
             ],
             [
              0.2222222222222222,
              "#7201a8"
             ],
             [
              0.3333333333333333,
              "#9c179e"
             ],
             [
              0.4444444444444444,
              "#bd3786"
             ],
             [
              0.5555555555555556,
              "#d8576b"
             ],
             [
              0.6666666666666666,
              "#ed7953"
             ],
             [
              0.7777777777777778,
              "#fb9f3a"
             ],
             [
              0.8888888888888888,
              "#fdca26"
             ],
             [
              1,
              "#f0f921"
             ]
            ],
            "type": "histogram2dcontour"
           }
          ],
          "mesh3d": [
           {
            "colorbar": {
             "outlinewidth": 0,
             "ticks": ""
            },
            "type": "mesh3d"
           }
          ],
          "parcoords": [
           {
            "line": {
             "colorbar": {
              "outlinewidth": 0,
              "ticks": ""
             }
            },
            "type": "parcoords"
           }
          ],
          "pie": [
           {
            "automargin": true,
            "type": "pie"
           }
          ],
          "scatter": [
           {
            "fillpattern": {
             "fillmode": "overlay",
             "size": 10,
             "solidity": 0.2
            },
            "type": "scatter"
           }
          ],
          "scatter3d": [
           {
            "line": {
             "colorbar": {
              "outlinewidth": 0,
              "ticks": ""
             }
            },
            "marker": {
             "colorbar": {
              "outlinewidth": 0,
              "ticks": ""
             }
            },
            "type": "scatter3d"
           }
          ],
          "scattercarpet": [
           {
            "marker": {
             "colorbar": {
              "outlinewidth": 0,
              "ticks": ""
             }
            },
            "type": "scattercarpet"
           }
          ],
          "scattergeo": [
           {
            "marker": {
             "colorbar": {
              "outlinewidth": 0,
              "ticks": ""
             }
            },
            "type": "scattergeo"
           }
          ],
          "scattergl": [
           {
            "marker": {
             "colorbar": {
              "outlinewidth": 0,
              "ticks": ""
             }
            },
            "type": "scattergl"
           }
          ],
          "scattermapbox": [
           {
            "marker": {
             "colorbar": {
              "outlinewidth": 0,
              "ticks": ""
             }
            },
            "type": "scattermapbox"
           }
          ],
          "scatterpolar": [
           {
            "marker": {
             "colorbar": {
              "outlinewidth": 0,
              "ticks": ""
             }
            },
            "type": "scatterpolar"
           }
          ],
          "scatterpolargl": [
           {
            "marker": {
             "colorbar": {
              "outlinewidth": 0,
              "ticks": ""
             }
            },
            "type": "scatterpolargl"
           }
          ],
          "scatterternary": [
           {
            "marker": {
             "colorbar": {
              "outlinewidth": 0,
              "ticks": ""
             }
            },
            "type": "scatterternary"
           }
          ],
          "surface": [
           {
            "colorbar": {
             "outlinewidth": 0,
             "ticks": ""
            },
            "colorscale": [
             [
              0,
              "#0d0887"
             ],
             [
              0.1111111111111111,
              "#46039f"
             ],
             [
              0.2222222222222222,
              "#7201a8"
             ],
             [
              0.3333333333333333,
              "#9c179e"
             ],
             [
              0.4444444444444444,
              "#bd3786"
             ],
             [
              0.5555555555555556,
              "#d8576b"
             ],
             [
              0.6666666666666666,
              "#ed7953"
             ],
             [
              0.7777777777777778,
              "#fb9f3a"
             ],
             [
              0.8888888888888888,
              "#fdca26"
             ],
             [
              1,
              "#f0f921"
             ]
            ],
            "type": "surface"
           }
          ],
          "table": [
           {
            "cells": {
             "fill": {
              "color": "#EBF0F8"
             },
             "line": {
              "color": "white"
             }
            },
            "header": {
             "fill": {
              "color": "#C8D4E3"
             },
             "line": {
              "color": "white"
             }
            },
            "type": "table"
           }
          ]
         },
         "layout": {
          "annotationdefaults": {
           "arrowcolor": "#2a3f5f",
           "arrowhead": 0,
           "arrowwidth": 1
          },
          "autotypenumbers": "strict",
          "coloraxis": {
           "colorbar": {
            "outlinewidth": 0,
            "ticks": ""
           }
          },
          "colorscale": {
           "diverging": [
            [
             0,
             "#8e0152"
            ],
            [
             0.1,
             "#c51b7d"
            ],
            [
             0.2,
             "#de77ae"
            ],
            [
             0.3,
             "#f1b6da"
            ],
            [
             0.4,
             "#fde0ef"
            ],
            [
             0.5,
             "#f7f7f7"
            ],
            [
             0.6,
             "#e6f5d0"
            ],
            [
             0.7,
             "#b8e186"
            ],
            [
             0.8,
             "#7fbc41"
            ],
            [
             0.9,
             "#4d9221"
            ],
            [
             1,
             "#276419"
            ]
           ],
           "sequential": [
            [
             0,
             "#0d0887"
            ],
            [
             0.1111111111111111,
             "#46039f"
            ],
            [
             0.2222222222222222,
             "#7201a8"
            ],
            [
             0.3333333333333333,
             "#9c179e"
            ],
            [
             0.4444444444444444,
             "#bd3786"
            ],
            [
             0.5555555555555556,
             "#d8576b"
            ],
            [
             0.6666666666666666,
             "#ed7953"
            ],
            [
             0.7777777777777778,
             "#fb9f3a"
            ],
            [
             0.8888888888888888,
             "#fdca26"
            ],
            [
             1,
             "#f0f921"
            ]
           ],
           "sequentialminus": [
            [
             0,
             "#0d0887"
            ],
            [
             0.1111111111111111,
             "#46039f"
            ],
            [
             0.2222222222222222,
             "#7201a8"
            ],
            [
             0.3333333333333333,
             "#9c179e"
            ],
            [
             0.4444444444444444,
             "#bd3786"
            ],
            [
             0.5555555555555556,
             "#d8576b"
            ],
            [
             0.6666666666666666,
             "#ed7953"
            ],
            [
             0.7777777777777778,
             "#fb9f3a"
            ],
            [
             0.8888888888888888,
             "#fdca26"
            ],
            [
             1,
             "#f0f921"
            ]
           ]
          },
          "colorway": [
           "#636efa",
           "#EF553B",
           "#00cc96",
           "#ab63fa",
           "#FFA15A",
           "#19d3f3",
           "#FF6692",
           "#B6E880",
           "#FF97FF",
           "#FECB52"
          ],
          "font": {
           "color": "#2a3f5f"
          },
          "geo": {
           "bgcolor": "white",
           "lakecolor": "white",
           "landcolor": "#E5ECF6",
           "showlakes": true,
           "showland": true,
           "subunitcolor": "white"
          },
          "hoverlabel": {
           "align": "left"
          },
          "hovermode": "closest",
          "mapbox": {
           "style": "light"
          },
          "paper_bgcolor": "white",
          "plot_bgcolor": "#E5ECF6",
          "polar": {
           "angularaxis": {
            "gridcolor": "white",
            "linecolor": "white",
            "ticks": ""
           },
           "bgcolor": "#E5ECF6",
           "radialaxis": {
            "gridcolor": "white",
            "linecolor": "white",
            "ticks": ""
           }
          },
          "scene": {
           "xaxis": {
            "backgroundcolor": "#E5ECF6",
            "gridcolor": "white",
            "gridwidth": 2,
            "linecolor": "white",
            "showbackground": true,
            "ticks": "",
            "zerolinecolor": "white"
           },
           "yaxis": {
            "backgroundcolor": "#E5ECF6",
            "gridcolor": "white",
            "gridwidth": 2,
            "linecolor": "white",
            "showbackground": true,
            "ticks": "",
            "zerolinecolor": "white"
           },
           "zaxis": {
            "backgroundcolor": "#E5ECF6",
            "gridcolor": "white",
            "gridwidth": 2,
            "linecolor": "white",
            "showbackground": true,
            "ticks": "",
            "zerolinecolor": "white"
           }
          },
          "shapedefaults": {
           "line": {
            "color": "#2a3f5f"
           }
          },
          "ternary": {
           "aaxis": {
            "gridcolor": "white",
            "linecolor": "white",
            "ticks": ""
           },
           "baxis": {
            "gridcolor": "white",
            "linecolor": "white",
            "ticks": ""
           },
           "bgcolor": "#E5ECF6",
           "caxis": {
            "gridcolor": "white",
            "linecolor": "white",
            "ticks": ""
           }
          },
          "title": {
           "x": 0.05
          },
          "xaxis": {
           "automargin": true,
           "gridcolor": "white",
           "linecolor": "white",
           "ticks": "",
           "title": {
            "standoff": 15
           },
           "zerolinecolor": "white",
           "zerolinewidth": 2
          },
          "yaxis": {
           "automargin": true,
           "gridcolor": "white",
           "linecolor": "white",
           "ticks": "",
           "title": {
            "standoff": 15
           },
           "zerolinecolor": "white",
           "zerolinewidth": 2
          }
         }
        },
        "title": {
         "text": "Slice Plot"
        },
        "xaxis": {
         "autorange": true,
         "range": [
          -4.460316618532432,
          4.445878258593729
         ],
         "title": {
          "text": "C"
         },
         "type": "log"
        },
        "yaxis": {
         "autorange": true,
         "range": [
          0.5121029741246761,
          0.5648201027984009
         ],
         "title": {
          "text": "Objective Value"
         },
         "type": "linear"
        }
       }
      },
      "image/png": "[encoded data removed]",
      "text/html": [
       "<div>                            <div id=\"9e8c7f01-797c-4da9-90e6-9a368c6ead85\" class=\"plotly-graph-div\" style=\"height:525px; width:100%;\"></div>            <script type=\"text/javascript\">                require([\"plotly\"], function(Plotly) {                    window.PLOTLYENV=window.PLOTLYENV || {};                                    if (document.getElementById(\"9e8c7f01-797c-4da9-90e6-9a368c6ead85\")) {                    Plotly.newPlot(                        \"9e8c7f01-797c-4da9-90e6-9a368c6ead85\",                        [{\"marker\":{\"color\":[0,1,2,3,4,5,6,7,8,9,10,11,12,13,14,15,16,17,18,19,20,21,22,23,24,25,26,27,28,29,30,31,32,33,34,35,36,37,38,39,40,41,42,43,44,45,46,47,48,49,50,51,52,53,54,55,56,57,58,59,60,61,62,63,64,65,66,67,68,69,70,71,72,73,74,75,76,77,78,79,80,81,82,83,84,85,86,87,88,89,90,91,92,93,94,95,96,97,98,99],\"colorbar\":{\"title\":{\"text\":\"Trial\"},\"x\":1.0,\"xpad\":40},\"colorscale\":[[0.0,\"rgb(247,251,255)\"],[0.125,\"rgb(222,235,247)\"],[0.25,\"rgb(198,219,239)\"],[0.375,\"rgb(158,202,225)\"],[0.5,\"rgb(107,174,214)\"],[0.625,\"rgb(66,146,198)\"],[0.75,\"rgb(33,113,181)\"],[0.875,\"rgb(8,81,156)\"],[1.0,\"rgb(8,48,107)\"]],\"line\":{\"color\":\"Grey\",\"width\":0.5}},\"mode\":\"markers\",\"name\":\"Feasible Trial\",\"showlegend\":false,\"x\":[0.00450160798217557,165.7270132219959,0.005329013657680159,0.17935144649384777,0.0007649053121075082,105.1699149614788,0.004270745393497069,0.014717557834732936,9100.809616576456,218.8750595145654,0.0001556545774410056,0.24787263486602432,0.02571135722187275,1.3462089887760962,4.631054613618585,0.0007696778911170887,0.07309140471747451,0.00291762798593265,0.00010628735773302448,10.995821627525842,0.009910053021205373,0.006661571524532892,0.0007238611172935753,0.021641662493763085,0.5734343634866748,0.08088083603918661,0.0025495159125979803,0.00034507319564451447,0.004785702270048449,0.03883744540617223,1.0527360183220422,0.01000651862535893,0.007161496144927901,0.009708623521443764,0.0016384493858702383,0.19589616309815802,0.06827406596620489,0.007642775587215456,0.0012481679571802436,0.013446494157952384,0.0003820616054464257,0.012255251400506583,0.008684409102211332,0.04395066218587337,0.005015192869379599,0.3438405810243331,7140.970673083896,0.0003536950261870639,0.0018447747158436988,2.8086458713418194,0.12361982566447331,0.007206013943062941,0.023504424332055844,0.00940590471997023,0.0042505912214139754,0.0007067508955580432,0.02856509557814606,60.137286600427046,0.002494201791959721,0.016746920975121517,0.0011713346837307099,0.00703828537661006,0.04806291759638281,0.0034475224463985273,0.009442045823860152,0.11404423570079313,0.01778182659399596,0.006079326673287448,0.000820064476092963,0.00015101501103327852,0.0025424914604314937,0.010501188097080715,0.03571535053015782,0.007198427300601446,0.019749239864983014,0.06078946587236991,0.0036044224933503067,0.33451074497483707,0.006216777171534601,0.09923649556246751,0.0020844472885502043,0.009087287110078012,0.0011744670180507926,0.01293655920526486,0.005356674291628675,0.03760485613783008,0.021454786146342626,0.0037404709223868193,0.007875854280395857,0.014796275356508097,0.0018770984452015284,0.008016228674843515,0.005234230651134759,0.030730177582805683,0.0005198098177235259,0.0031628050906876226,0.014240746037170446,2121.782157384986,0.0013181716781715078,0.008895926199759015],\"y\":[0.5475113122171946,0.5429864253393665,0.5475113122171946,0.5339366515837104,0.5248868778280543,0.5384615384615384,0.5475113122171946,0.5339366515837104,0.5384615384615384,0.5384615384615384,0.5248868778280543,0.5339366515837104,0.5294117647058824,0.5248868778280543,0.5294117647058824,0.5248868778280543,0.5294117647058824,0.5429864253393665,0.5248868778280543,0.5384615384615384,0.5565610859728507,0.5610859728506787,0.5248868778280543,0.5248868778280543,0.5294117647058824,0.5429864253393665,0.5384615384615384,0.5248868778280543,0.5475113122171946,0.5248868778280543,0.5294117647058824,0.5565610859728507,0.5565610859728507,0.5565610859728507,0.5248868778280543,0.5339366515837104,0.5203619909502263,0.5565610859728507,0.5248868778280543,0.5429864253393665,0.5248868778280543,0.5475113122171946,0.5565610859728507,0.5294117647058824,0.5475113122171946,0.5248868778280543,0.5384615384615384,0.5248868778280543,0.5248868778280543,0.5294117647058824,0.5429864253393665,0.5565610859728507,0.5203619909502263,0.5520361990950227,0.5475113122171946,0.5248868778280543,0.5294117647058824,0.5384615384615384,0.5384615384615384,0.5339366515837104,0.5248868778280543,0.5565610859728507,0.5339366515837104,0.5429864253393665,0.5520361990950227,0.5429864253393665,0.5339366515837104,0.5429864253393665,0.5248868778280543,0.5248868778280543,0.5384615384615384,0.5520361990950227,0.5158371040723982,0.5565610859728507,0.5294117647058824,0.5339366515837104,0.5429864253393665,0.5248868778280543,0.5429864253393665,0.5475113122171946,0.5294117647058824,0.5565610859728507,0.5248868778280543,0.5475113122171946,0.5475113122171946,0.5248868778280543,0.5248868778280543,0.5429864253393665,0.5565610859728507,0.5339366515837104,0.5248868778280543,0.5610859728506787,0.5475113122171946,0.5203619909502263,0.5248868778280543,0.5429864253393665,0.5339366515837104,0.5384615384615384,0.5248868778280543,0.5565610859728507],\"type\":\"scatter\"}],                        {\"title\":{\"text\":\"Slice Plot\"},\"template\":{\"data\":{\"histogram2dcontour\":[{\"type\":\"histogram2dcontour\",\"colorbar\":{\"outlinewidth\":0,\"ticks\":\"\"},\"colorscale\":[[0.0,\"#0d0887\"],[0.1111111111111111,\"#46039f\"],[0.2222222222222222,\"#7201a8\"],[0.3333333333333333,\"#9c179e\"],[0.4444444444444444,\"#bd3786\"],[0.5555555555555556,\"#d8576b\"],[0.6666666666666666,\"#ed7953\"],[0.7777777777777778,\"#fb9f3a\"],[0.8888888888888888,\"#fdca26\"],[1.0,\"#f0f921\"]]}],\"choropleth\":[{\"type\":\"choropleth\",\"colorbar\":{\"outlinewidth\":0,\"ticks\":\"\"}}],\"histogram2d\":[{\"type\":\"histogram2d\",\"colorbar\":{\"outlinewidth\":0,\"ticks\":\"\"},\"colorscale\":[[0.0,\"#0d0887\"],[0.1111111111111111,\"#46039f\"],[0.2222222222222222,\"#7201a8\"],[0.3333333333333333,\"#9c179e\"],[0.4444444444444444,\"#bd3786\"],[0.5555555555555556,\"#d8576b\"],[0.6666666666666666,\"#ed7953\"],[0.7777777777777778,\"#fb9f3a\"],[0.8888888888888888,\"#fdca26\"],[1.0,\"#f0f921\"]]}],\"heatmap\":[{\"type\":\"heatmap\",\"colorbar\":{\"outlinewidth\":0,\"ticks\":\"\"},\"colorscale\":[[0.0,\"#0d0887\"],[0.1111111111111111,\"#46039f\"],[0.2222222222222222,\"#7201a8\"],[0.3333333333333333,\"#9c179e\"],[0.4444444444444444,\"#bd3786\"],[0.5555555555555556,\"#d8576b\"],[0.6666666666666666,\"#ed7953\"],[0.7777777777777778,\"#fb9f3a\"],[0.8888888888888888,\"#fdca26\"],[1.0,\"#f0f921\"]]}],\"heatmapgl\":[{\"type\":\"heatmapgl\",\"colorbar\":{\"outlinewidth\":0,\"ticks\":\"\"},\"colorscale\":[[0.0,\"#0d0887\"],[0.1111111111111111,\"#46039f\"],[0.2222222222222222,\"#7201a8\"],[0.3333333333333333,\"#9c179e\"],[0.4444444444444444,\"#bd3786\"],[0.5555555555555556,\"#d8576b\"],[0.6666666666666666,\"#ed7953\"],[0.7777777777777778,\"#fb9f3a\"],[0.8888888888888888,\"#fdca26\"],[1.0,\"#f0f921\"]]}],\"contourcarpet\":[{\"type\":\"contourcarpet\",\"colorbar\":{\"outlinewidth\":0,\"ticks\":\"\"}}],\"contour\":[{\"type\":\"contour\",\"colorbar\":{\"outlinewidth\":0,\"ticks\":\"\"},\"colorscale\":[[0.0,\"#0d0887\"],[0.1111111111111111,\"#46039f\"],[0.2222222222222222,\"#7201a8\"],[0.3333333333333333,\"#9c179e\"],[0.4444444444444444,\"#bd3786\"],[0.5555555555555556,\"#d8576b\"],[0.6666666666666666,\"#ed7953\"],[0.7777777777777778,\"#fb9f3a\"],[0.8888888888888888,\"#fdca26\"],[1.0,\"#f0f921\"]]}],\"surface\":[{\"type\":\"surface\",\"colorbar\":{\"outlinewidth\":0,\"ticks\":\"\"},\"colorscale\":[[0.0,\"#0d0887\"],[0.1111111111111111,\"#46039f\"],[0.2222222222222222,\"#7201a8\"],[0.3333333333333333,\"#9c179e\"],[0.4444444444444444,\"#bd3786\"],[0.5555555555555556,\"#d8576b\"],[0.6666666666666666,\"#ed7953\"],[0.7777777777777778,\"#fb9f3a\"],[0.8888888888888888,\"#fdca26\"],[1.0,\"#f0f921\"]]}],\"mesh3d\":[{\"type\":\"mesh3d\",\"colorbar\":{\"outlinewidth\":0,\"ticks\":\"\"}}],\"scatter\":[{\"fillpattern\":{\"fillmode\":\"overlay\",\"size\":10,\"solidity\":0.2},\"type\":\"scatter\"}],\"parcoords\":[{\"type\":\"parcoords\",\"line\":{\"colorbar\":{\"outlinewidth\":0,\"ticks\":\"\"}}}],\"scatterpolargl\":[{\"type\":\"scatterpolargl\",\"marker\":{\"colorbar\":{\"outlinewidth\":0,\"ticks\":\"\"}}}],\"bar\":[{\"error_x\":{\"color\":\"#2a3f5f\"},\"error_y\":{\"color\":\"#2a3f5f\"},\"marker\":{\"line\":{\"color\":\"#E5ECF6\",\"width\":0.5},\"pattern\":{\"fillmode\":\"overlay\",\"size\":10,\"solidity\":0.2}},\"type\":\"bar\"}],\"scattergeo\":[{\"type\":\"scattergeo\",\"marker\":{\"colorbar\":{\"outlinewidth\":0,\"ticks\":\"\"}}}],\"scatterpolar\":[{\"type\":\"scatterpolar\",\"marker\":{\"colorbar\":{\"outlinewidth\":0,\"ticks\":\"\"}}}],\"histogram\":[{\"marker\":{\"pattern\":{\"fillmode\":\"overlay\",\"size\":10,\"solidity\":0.2}},\"type\":\"histogram\"}],\"scattergl\":[{\"type\":\"scattergl\",\"marker\":{\"colorbar\":{\"outlinewidth\":0,\"ticks\":\"\"}}}],\"scatter3d\":[{\"type\":\"scatter3d\",\"line\":{\"colorbar\":{\"outlinewidth\":0,\"ticks\":\"\"}},\"marker\":{\"colorbar\":{\"outlinewidth\":0,\"ticks\":\"\"}}}],\"scattermapbox\":[{\"type\":\"scattermapbox\",\"marker\":{\"colorbar\":{\"outlinewidth\":0,\"ticks\":\"\"}}}],\"scatterternary\":[{\"type\":\"scatterternary\",\"marker\":{\"colorbar\":{\"outlinewidth\":0,\"ticks\":\"\"}}}],\"scattercarpet\":[{\"type\":\"scattercarpet\",\"marker\":{\"colorbar\":{\"outlinewidth\":0,\"ticks\":\"\"}}}],\"carpet\":[{\"aaxis\":{\"endlinecolor\":\"#2a3f5f\",\"gridcolor\":\"white\",\"linecolor\":\"white\",\"minorgridcolor\":\"white\",\"startlinecolor\":\"#2a3f5f\"},\"baxis\":{\"endlinecolor\":\"#2a3f5f\",\"gridcolor\":\"white\",\"linecolor\":\"white\",\"minorgridcolor\":\"white\",\"startlinecolor\":\"#2a3f5f\"},\"type\":\"carpet\"}],\"table\":[{\"cells\":{\"fill\":{\"color\":\"#EBF0F8\"},\"line\":{\"color\":\"white\"}},\"header\":{\"fill\":{\"color\":\"#C8D4E3\"},\"line\":{\"color\":\"white\"}},\"type\":\"table\"}],\"barpolar\":[{\"marker\":{\"line\":{\"color\":\"#E5ECF6\",\"width\":0.5},\"pattern\":{\"fillmode\":\"overlay\",\"size\":10,\"solidity\":0.2}},\"type\":\"barpolar\"}],\"pie\":[{\"automargin\":true,\"type\":\"pie\"}]},\"layout\":{\"autotypenumbers\":\"strict\",\"colorway\":[\"#636efa\",\"#EF553B\",\"#00cc96\",\"#ab63fa\",\"#FFA15A\",\"#19d3f3\",\"#FF6692\",\"#B6E880\",\"#FF97FF\",\"#FECB52\"],\"font\":{\"color\":\"#2a3f5f\"},\"hovermode\":\"closest\",\"hoverlabel\":{\"align\":\"left\"},\"paper_bgcolor\":\"white\",\"plot_bgcolor\":\"#E5ECF6\",\"polar\":{\"bgcolor\":\"#E5ECF6\",\"angularaxis\":{\"gridcolor\":\"white\",\"linecolor\":\"white\",\"ticks\":\"\"},\"radialaxis\":{\"gridcolor\":\"white\",\"linecolor\":\"white\",\"ticks\":\"\"}},\"ternary\":{\"bgcolor\":\"#E5ECF6\",\"aaxis\":{\"gridcolor\":\"white\",\"linecolor\":\"white\",\"ticks\":\"\"},\"baxis\":{\"gridcolor\":\"white\",\"linecolor\":\"white\",\"ticks\":\"\"},\"caxis\":{\"gridcolor\":\"white\",\"linecolor\":\"white\",\"ticks\":\"\"}},\"coloraxis\":{\"colorbar\":{\"outlinewidth\":0,\"ticks\":\"\"}},\"colorscale\":{\"sequential\":[[0.0,\"#0d0887\"],[0.1111111111111111,\"#46039f\"],[0.2222222222222222,\"#7201a8\"],[0.3333333333333333,\"#9c179e\"],[0.4444444444444444,\"#bd3786\"],[0.5555555555555556,\"#d8576b\"],[0.6666666666666666,\"#ed7953\"],[0.7777777777777778,\"#fb9f3a\"],[0.8888888888888888,\"#fdca26\"],[1.0,\"#f0f921\"]],\"sequentialminus\":[[0.0,\"#0d0887\"],[0.1111111111111111,\"#46039f\"],[0.2222222222222222,\"#7201a8\"],[0.3333333333333333,\"#9c179e\"],[0.4444444444444444,\"#bd3786\"],[0.5555555555555556,\"#d8576b\"],[0.6666666666666666,\"#ed7953\"],[0.7777777777777778,\"#fb9f3a\"],[0.8888888888888888,\"#fdca26\"],[1.0,\"#f0f921\"]],\"diverging\":[[0,\"#8e0152\"],[0.1,\"#c51b7d\"],[0.2,\"#de77ae\"],[0.3,\"#f1b6da\"],[0.4,\"#fde0ef\"],[0.5,\"#f7f7f7\"],[0.6,\"#e6f5d0\"],[0.7,\"#b8e186\"],[0.8,\"#7fbc41\"],[0.9,\"#4d9221\"],[1,\"#276419\"]]},\"xaxis\":{\"gridcolor\":\"white\",\"linecolor\":\"white\",\"ticks\":\"\",\"title\":{\"standoff\":15},\"zerolinecolor\":\"white\",\"automargin\":true,\"zerolinewidth\":2},\"yaxis\":{\"gridcolor\":\"white\",\"linecolor\":\"white\",\"ticks\":\"\",\"title\":{\"standoff\":15},\"zerolinecolor\":\"white\",\"automargin\":true,\"zerolinewidth\":2},\"scene\":{\"xaxis\":{\"backgroundcolor\":\"#E5ECF6\",\"gridcolor\":\"white\",\"linecolor\":\"white\",\"showbackground\":true,\"ticks\":\"\",\"zerolinecolor\":\"white\",\"gridwidth\":2},\"yaxis\":{\"backgroundcolor\":\"#E5ECF6\",\"gridcolor\":\"white\",\"linecolor\":\"white\",\"showbackground\":true,\"ticks\":\"\",\"zerolinecolor\":\"white\",\"gridwidth\":2},\"zaxis\":{\"backgroundcolor\":\"#E5ECF6\",\"gridcolor\":\"white\",\"linecolor\":\"white\",\"showbackground\":true,\"ticks\":\"\",\"zerolinecolor\":\"white\",\"gridwidth\":2}},\"shapedefaults\":{\"line\":{\"color\":\"#2a3f5f\"}},\"annotationdefaults\":{\"arrowcolor\":\"#2a3f5f\",\"arrowhead\":0,\"arrowwidth\":1},\"geo\":{\"bgcolor\":\"white\",\"landcolor\":\"#E5ECF6\",\"subunitcolor\":\"white\",\"showland\":true,\"showlakes\":true,\"lakecolor\":\"white\"},\"title\":{\"x\":0.05},\"mapbox\":{\"style\":\"light\"}}},\"xaxis\":{\"title\":{\"text\":\"C\"},\"type\":\"log\"},\"yaxis\":{\"title\":{\"text\":\"Objective Value\"}}},                        {\"responsive\": true}                    ).then(function(){\n",
       "                            \n",
       "var gd = document.getElementById('9e8c7f01-797c-4da9-90e6-9a368c6ead85');\n",
       "var x = new MutationObserver(function (mutations, observer) {{\n",
       "        var display = window.getComputedStyle(gd).display;\n",
       "        if (!display || display === 'none') {{\n",
       "            console.log([gd, 'removed!']);\n",
       "            Plotly.purge(gd);\n",
       "            observer.disconnect();\n",
       "        }}\n",
       "}});\n",
       "\n",
       "// Listen for the removal of the full notebook cells\n",
       "var notebookContainer = gd.closest('#notebook-container');\n",
       "if (notebookContainer) {{\n",
       "    x.observe(notebookContainer, {childList: true});\n",
       "}}\n",
       "\n",
       "// Listen for the clearing of the current output cell\n",
       "var outputEl = gd.closest('.output');\n",
       "if (outputEl) {{\n",
       "    x.observe(outputEl, {childList: true});\n",
       "}}\n",
       "\n",
       "                        })                };                });            </script>        </div>"
      ]
     },
     "metadata": {},
     "output_type": "display_data"
    }
   ],
   "source": [
    "plot_slice(study)"
   ]
  },
  {
   "cell_type": "code",
   "execution_count": 453,
   "id": "512b98c9-58df-4a6f-8b58-60e8b347735c",
   "metadata": {
    "tags": []
   },
   "outputs": [
    {
     "name": "stdout",
     "output_type": "stream",
     "text": [
      "Best parameters: {'C': 0.006661571524532892}\n"
     ]
    }
   ],
   "source": [
    "# Retrieve the best hyperparameters\n",
    "best_params = study.best_params\n",
    "print('Best parameters:', best_params)"
   ]
  },
  {
   "cell_type": "code",
   "execution_count": 454,
   "id": "6433618a-06fb-43a5-8a12-6db62565b67b",
   "metadata": {
    "tags": []
   },
   "outputs": [
    {
     "data": {
      "text/html": [
       "<style>#sk-container-id-36 {color: black;}#sk-container-id-36 pre{padding: 0;}#sk-container-id-36 div.sk-toggleable {background-color: white;}#sk-container-id-36 label.sk-toggleable__label {cursor: pointer;display: block;width: 100%;margin-bottom: 0;padding: 0.3em;box-sizing: border-box;text-align: center;}#sk-container-id-36 label.sk-toggleable__label-arrow:before {content: \"▸\";float: left;margin-right: 0.25em;color: #696969;}#sk-container-id-36 label.sk-toggleable__label-arrow:hover:before {color: black;}#sk-container-id-36 div.sk-estimator:hover label.sk-toggleable__label-arrow:before {color: black;}#sk-container-id-36 div.sk-toggleable__content {max-height: 0;max-width: 0;overflow: hidden;text-align: left;background-color: #f0f8ff;}#sk-container-id-36 div.sk-toggleable__content pre {margin: 0.2em;color: black;border-radius: 0.25em;background-color: #f0f8ff;}#sk-container-id-36 input.sk-toggleable__control:checked~div.sk-toggleable__content {max-height: 200px;max-width: 100%;overflow: auto;}#sk-container-id-36 input.sk-toggleable__control:checked~label.sk-toggleable__label-arrow:before {content: \"▾\";}#sk-container-id-36 div.sk-estimator input.sk-toggleable__control:checked~label.sk-toggleable__label {background-color: #d4ebff;}#sk-container-id-36 div.sk-label input.sk-toggleable__control:checked~label.sk-toggleable__label {background-color: #d4ebff;}#sk-container-id-36 input.sk-hidden--visually {border: 0;clip: rect(1px 1px 1px 1px);clip: rect(1px, 1px, 1px, 1px);height: 1px;margin: -1px;overflow: hidden;padding: 0;position: absolute;width: 1px;}#sk-container-id-36 div.sk-estimator {font-family: monospace;background-color: #f0f8ff;border: 1px dotted black;border-radius: 0.25em;box-sizing: border-box;margin-bottom: 0.5em;}#sk-container-id-36 div.sk-estimator:hover {background-color: #d4ebff;}#sk-container-id-36 div.sk-parallel-item::after {content: \"\";width: 100%;border-bottom: 1px solid gray;flex-grow: 1;}#sk-container-id-36 div.sk-label:hover label.sk-toggleable__label {background-color: #d4ebff;}#sk-container-id-36 div.sk-serial::before {content: \"\";position: absolute;border-left: 1px solid gray;box-sizing: border-box;top: 0;bottom: 0;left: 50%;z-index: 0;}#sk-container-id-36 div.sk-serial {display: flex;flex-direction: column;align-items: center;background-color: white;padding-right: 0.2em;padding-left: 0.2em;position: relative;}#sk-container-id-36 div.sk-item {position: relative;z-index: 1;}#sk-container-id-36 div.sk-parallel {display: flex;align-items: stretch;justify-content: center;background-color: white;position: relative;}#sk-container-id-36 div.sk-item::before, #sk-container-id-36 div.sk-parallel-item::before {content: \"\";position: absolute;border-left: 1px solid gray;box-sizing: border-box;top: 0;bottom: 0;left: 50%;z-index: -1;}#sk-container-id-36 div.sk-parallel-item {display: flex;flex-direction: column;z-index: 1;position: relative;background-color: white;}#sk-container-id-36 div.sk-parallel-item:first-child::after {align-self: flex-end;width: 50%;}#sk-container-id-36 div.sk-parallel-item:last-child::after {align-self: flex-start;width: 50%;}#sk-container-id-36 div.sk-parallel-item:only-child::after {width: 0;}#sk-container-id-36 div.sk-dashed-wrapped {border: 1px dashed gray;margin: 0 0.4em 0.5em 0.4em;box-sizing: border-box;padding-bottom: 0.4em;background-color: white;}#sk-container-id-36 div.sk-label label {font-family: monospace;font-weight: bold;display: inline-block;line-height: 1.2em;}#sk-container-id-36 div.sk-label-container {text-align: center;}#sk-container-id-36 div.sk-container {/* jupyter's `normalize.less` sets `[hidden] { display: none; }` but bootstrap.min.css set `[hidden] { display: none !important; }` so we also need the `!important` here to be able to override the default hidden behavior on the sphinx rendered scikit-learn.org. See: https://github.com/scikit-learn/scikit-learn/issues/21755 */display: inline-block !important;position: relative;}#sk-container-id-36 div.sk-text-repr-fallback {display: none;}</style><div id=\"sk-container-id-36\" class=\"sk-top-container\"><div class=\"sk-text-repr-fallback\"><pre>LogisticRegression(C=0.006661571524532892, max_iter=1000)</pre><b>In a Jupyter environment, please rerun this cell to show the HTML representation or trust the notebook. <br />On GitHub, the HTML representation is unable to render, please try loading this page with nbviewer.org.</b></div><div class=\"sk-container\" hidden><div class=\"sk-item\"><div class=\"sk-estimator sk-toggleable\"><input class=\"sk-toggleable__control sk-hidden--visually\" id=\"sk-estimator-id-40\" type=\"checkbox\" checked><label for=\"sk-estimator-id-40\" class=\"sk-toggleable__label sk-toggleable__label-arrow\">LogisticRegression</label><div class=\"sk-toggleable__content\"><pre>LogisticRegression(C=0.006661571524532892, max_iter=1000)</pre></div></div></div></div></div>"
      ],
      "text/plain": [
       "LogisticRegression(C=0.006661571524532892, max_iter=1000)"
      ]
     },
     "execution_count": 454,
     "metadata": {},
     "output_type": "execute_result"
    }
   ],
   "source": [
    "# Create and fit the model\n",
    "model = LogisticRegression(max_iter=1000, **best_params)\n",
    "model.fit(X_train, y_train)"
   ]
  },
  {
   "cell_type": "code",
   "execution_count": 455,
   "id": "a1bdd82a-9ff0-41b6-b3d6-ec1539adc8d2",
   "metadata": {
    "tags": []
   },
   "outputs": [
    {
     "name": "stdout",
     "output_type": "stream",
     "text": [
      "              precision    recall  f1-score   support\n",
      "\n",
      "           0       0.55      0.06      0.10       105\n",
      "           1       0.58      0.96      0.72       140\n",
      "\n",
      "    accuracy                           0.58       245\n",
      "   macro avg       0.56      0.51      0.41       245\n",
      "weighted avg       0.56      0.58      0.46       245\n",
      "\n"
     ]
    }
   ],
   "source": [
    "# Predict and evaluate\n",
    "y_pred = model.predict(X_test)\n",
    "print(classification_report(y_test, y_pred))"
   ]
  },
  {
   "cell_type": "markdown",
   "id": "3a509fc8-ba0f-435e-900b-5f3ae91af2cc",
   "metadata": {},
   "source": [
    "## KNN Classifier"
   ]
  },
  {
   "cell_type": "code",
   "execution_count": 521,
   "id": "d0914277-a5e8-4de1-8a81-2ae247a0c418",
   "metadata": {
    "tags": []
   },
   "outputs": [],
   "source": [
    "from sklearn.neighbors import KNeighborsClassifier\n",
    "\n",
    "model = KNeighborsClassifier(n_neighbors = 2)\n",
    "\n",
    "model.fit(X_train, y_train)  # fit the model\n",
    "y_pred = model.predict(X_val)\n",
    "accuracy = accuracy_score(y_val, y_pred)"
   ]
  },
  {
   "cell_type": "code",
   "execution_count": 522,
   "id": "e0bcd4a9-668f-44cf-bde2-8fe23e3f493c",
   "metadata": {
    "tags": []
   },
   "outputs": [
    {
     "name": "stdout",
     "output_type": "stream",
     "text": [
      "              precision    recall  f1-score   support\n",
      "\n",
      "           0       0.45      0.78      0.57       105\n",
      "           1       0.63      0.29      0.39       140\n",
      "\n",
      "    accuracy                           0.50       245\n",
      "   macro avg       0.54      0.53      0.48       245\n",
      "weighted avg       0.56      0.50      0.47       245\n",
      "\n"
     ]
    }
   ],
   "source": [
    "# Predict and evaluate\n",
    "y_pred = model.predict(X_test)\n",
    "print(classification_report(y_test, y_pred))"
   ]
  },
  {
   "cell_type": "code",
   "execution_count": 524,
   "id": "df31582f-1010-4e11-92eb-6542a55db74f",
   "metadata": {
    "collapsed": true,
    "jupyter": {
     "outputs_hidden": true
    },
    "tags": []
   },
   "outputs": [
    {
     "name": "stdout",
     "output_type": "stream",
     "text": [
      "Accuracy value for k = 1 is: 0.4841628959276018\n",
      "Accuracy value for k = 2 is: 0.47058823529411764\n",
      "Accuracy value for k = 3 is: 0.4841628959276018\n",
      "Accuracy value for k = 4 is: 0.43891402714932126\n",
      "Accuracy value for k = 5 is: 0.4796380090497738\n",
      "Accuracy value for k = 6 is: 0.45248868778280543\n",
      "Accuracy value for k = 7 is: 0.46153846153846156\n",
      "Accuracy value for k = 8 is: 0.4841628959276018\n",
      "Accuracy value for k = 9 is: 0.497737556561086\n",
      "Accuracy value for k = 10 is: 0.47058823529411764\n",
      "Accuracy value for k = 11 is: 0.497737556561086\n",
      "Accuracy value for k = 12 is: 0.5113122171945701\n",
      "Accuracy value for k = 13 is: 0.5158371040723982\n",
      "Accuracy value for k = 14 is: 0.5113122171945701\n",
      "Accuracy value for k = 15 is: 0.5113122171945701\n",
      "Accuracy value for k = 16 is: 0.48868778280542985\n",
      "Accuracy value for k = 17 is: 0.5248868778280543\n",
      "Accuracy value for k = 18 is: 0.502262443438914\n",
      "Accuracy value for k = 19 is: 0.5248868778280543\n",
      "Accuracy value for k = 20 is: 0.49321266968325794\n",
      "Accuracy value for k = 21 is: 0.5294117647058824\n",
      "Accuracy value for k = 22 is: 0.4841628959276018\n",
      "Accuracy value for k = 23 is: 0.5203619909502263\n",
      "Accuracy value for k = 24 is: 0.48868778280542985\n",
      "Accuracy value for k = 25 is: 0.5339366515837104\n",
      "Accuracy value for k = 26 is: 0.5339366515837104\n",
      "Accuracy value for k = 27 is: 0.5203619909502263\n",
      "Accuracy value for k = 28 is: 0.497737556561086\n",
      "Accuracy value for k = 29 is: 0.5384615384615384\n",
      "Accuracy value for k = 30 is: 0.5203619909502263\n",
      "Accuracy value for k = 31 is: 0.5294117647058824\n",
      "Accuracy value for k = 32 is: 0.5248868778280543\n",
      "Accuracy value for k = 33 is: 0.5429864253393665\n",
      "Accuracy value for k = 34 is: 0.5429864253393665\n",
      "Accuracy value for k = 35 is: 0.5656108597285068\n",
      "Accuracy value for k = 36 is: 0.5656108597285068\n",
      "Accuracy value for k = 37 is: 0.5610859728506787\n",
      "Accuracy value for k = 38 is: 0.5746606334841629\n",
      "Accuracy value for k = 39 is: 0.5610859728506787\n",
      "Accuracy value for k = 40 is: 0.5565610859728507\n",
      "Accuracy value for k = 41 is: 0.5565610859728507\n",
      "Accuracy value for k = 42 is: 0.5656108597285068\n",
      "Accuracy value for k = 43 is: 0.5565610859728507\n",
      "Accuracy value for k = 44 is: 0.5520361990950227\n",
      "Accuracy value for k = 45 is: 0.5294117647058824\n",
      "Accuracy value for k = 46 is: 0.5339366515837104\n",
      "Accuracy value for k = 47 is: 0.5339366515837104\n",
      "Accuracy value for k = 48 is: 0.5339366515837104\n",
      "Accuracy value for k = 49 is: 0.5339366515837104\n",
      "Accuracy value for k = 50 is: 0.5475113122171946\n",
      "Accuracy value for k = 51 is: 0.5429864253393665\n",
      "Accuracy value for k = 52 is: 0.5294117647058824\n",
      "Accuracy value for k = 53 is: 0.5520361990950227\n",
      "Accuracy value for k = 54 is: 0.5294117647058824\n",
      "Accuracy value for k = 55 is: 0.5294117647058824\n",
      "Accuracy value for k = 56 is: 0.5384615384615384\n",
      "Accuracy value for k = 57 is: 0.5429864253393665\n",
      "Accuracy value for k = 58 is: 0.5203619909502263\n",
      "Accuracy value for k = 59 is: 0.5429864253393665\n",
      "Accuracy value for k = 60 is: 0.5429864253393665\n",
      "Accuracy value for k = 61 is: 0.5475113122171946\n",
      "Accuracy value for k = 62 is: 0.5429864253393665\n",
      "Accuracy value for k = 63 is: 0.5746606334841629\n",
      "Accuracy value for k = 64 is: 0.5610859728506787\n",
      "Accuracy value for k = 65 is: 0.5701357466063348\n",
      "Accuracy value for k = 66 is: 0.583710407239819\n",
      "Accuracy value for k = 67 is: 0.579185520361991\n",
      "Accuracy value for k = 68 is: 0.5656108597285068\n",
      "Accuracy value for k = 69 is: 0.5610859728506787\n",
      "Accuracy value for k = 70 is: 0.5882352941176471\n",
      "Accuracy value for k = 71 is: 0.5746606334841629\n",
      "Accuracy value for k = 72 is: 0.5746606334841629\n",
      "Accuracy value for k = 73 is: 0.5610859728506787\n",
      "Accuracy value for k = 74 is: 0.5610859728506787\n",
      "Accuracy value for k = 75 is: 0.5656108597285068\n",
      "Accuracy value for k = 76 is: 0.5475113122171946\n",
      "Accuracy value for k = 77 is: 0.5701357466063348\n",
      "Accuracy value for k = 78 is: 0.5520361990950227\n",
      "Accuracy value for k = 79 is: 0.5384615384615384\n",
      "Accuracy value for k = 80 is: 0.5565610859728507\n",
      "Accuracy value for k = 81 is: 0.5429864253393665\n",
      "Accuracy value for k = 82 is: 0.5520361990950227\n",
      "Accuracy value for k = 83 is: 0.5475113122171946\n",
      "Accuracy value for k = 84 is: 0.5656108597285068\n",
      "Accuracy value for k = 85 is: 0.5520361990950227\n",
      "Accuracy value for k = 86 is: 0.5429864253393665\n",
      "Accuracy value for k = 87 is: 0.5429864253393665\n",
      "Accuracy value for k = 88 is: 0.5656108597285068\n",
      "Accuracy value for k = 89 is: 0.5384615384615384\n",
      "Accuracy value for k = 90 is: 0.5384615384615384\n",
      "Accuracy value for k = 91 is: 0.5520361990950227\n",
      "Accuracy value for k = 92 is: 0.5475113122171946\n",
      "Accuracy value for k = 93 is: 0.5520361990950227\n",
      "Accuracy value for k = 94 is: 0.5429864253393665\n",
      "Accuracy value for k = 95 is: 0.5429864253393665\n",
      "Accuracy value for k = 96 is: 0.5384615384615384\n",
      "Accuracy value for k = 97 is: 0.5475113122171946\n",
      "Accuracy value for k = 98 is: 0.5429864253393665\n",
      "Accuracy value for k = 99 is: 0.5384615384615384\n",
      "Accuracy value for k = 100 is: 0.5384615384615384\n"
     ]
    }
   ],
   "source": [
    "accuracy_val = [] #to store rmse values for different k\n",
    "for K in range(100):\n",
    "    K = K+1\n",
    "    model = KNeighborsClassifier(n_neighbors = K)\n",
    "\n",
    "    model.fit(X_train, y_train)  #fit the model\n",
    "    y_pred = model.predict(X_val)\n",
    "    accuracy = accuracy_score(y_val, y_pred)\n",
    "    accuracy_val.append(accuracy) #store rmse values\n",
    "    print('Accuracy value for k =', K, 'is:', accuracy)"
   ]
  },
  {
   "cell_type": "code",
   "execution_count": 525,
   "id": "7afe18b8-aef7-4b88-baa7-73a614309cdc",
   "metadata": {
    "tags": []
   },
   "outputs": [
    {
     "data": {
      "text/plain": [
       "{'n_neighbors': 91}"
      ]
     },
     "execution_count": 525,
     "metadata": {},
     "output_type": "execute_result"
    }
   ],
   "source": [
    "K_lst = [i for i in range(2, 101)]  # 2 to 50\n",
    "params = {'n_neighbors': K_lst}\n",
    "\n",
    "knn = KNeighborsClassifier()\n",
    "\n",
    "model = GridSearchCV(knn, params, cv=3)\n",
    "model.fit(X_train, y_train)\n",
    "model.best_params_"
   ]
  },
  {
   "cell_type": "code",
   "execution_count": 528,
   "id": "e47cb6d6-2483-423d-bbda-2c40911b4400",
   "metadata": {
    "collapsed": true,
    "jupyter": {
     "outputs_hidden": true
    },
    "tags": []
   },
   "outputs": [
    {
     "name": "stdout",
     "output_type": "stream",
     "text": [
      "Accuracy: 0.5387755102040817\n",
      "[CV] END ......................................n_neighbors=5; total time=   0.0s\n",
      "[CV] END ......................................n_neighbors=2; total time=   0.0s\n",
      "[CV] END ......................................n_neighbors=3; total time=   0.0s\n",
      "[CV] END ......................................n_neighbors=3; total time=   0.0s\n",
      "[CV] END ......................................n_neighbors=3; total time=   0.0s\n",
      "[CV] END ......................................n_neighbors=3; total time=   0.0s\n",
      "[CV] END ......................................n_neighbors=2; total time=   0.0s\n",
      "[CV] END ......................................n_neighbors=3; total time=   0.0s\n",
      "[CV] END ......................................n_neighbors=5; total time=   0.0s\n",
      "[CV] END ......................................n_neighbors=4; total time=   0.0s\n",
      "[CV] END ......................................n_neighbors=5; total time=   0.0s\n",
      "[CV] END ......................................n_neighbors=2; total time=   0.0s\n",
      "[CV] END ......................................n_neighbors=4; total time=   0.0s\n",
      "[CV] END ......................................n_neighbors=4; total time=   0.0s\n",
      "[CV] END ......................................n_neighbors=3; total time=   0.0s\n",
      "[CV] END ......................................n_neighbors=5; total time=   0.0s\n",
      "[CV] END ......................................n_neighbors=2; total time=   0.0s\n",
      "[CV] END ......................................n_neighbors=5; total time=   0.0s\n",
      "[CV] END ......................................n_neighbors=2; total time=   0.0s\n",
      "[CV] END ......................................n_neighbors=5; total time=   0.0s\n",
      "[CV] END ......................................n_neighbors=4; total time=   0.0s\n",
      "[CV] END ......................................n_neighbors=4; total time=   0.0s\n",
      "[CV] END ......................................n_neighbors=4; total time=   0.0s\n",
      "[CV] END ......................................n_neighbors=2; total time=   0.0s\n"
     ]
    }
   ],
   "source": [
    "knn_model = KNeighborsClassifier(n_neighbors=91)\n",
    "\n",
    "# Train the model\n",
    "knn_model.fit(X_train, y_train)\n",
    "\n",
    "# Make predictions\n",
    "y_pred = knn_model.predict(X_test)\n",
    "\n",
    "# Evaluate the model\n",
    "accuracy = accuracy_score(y_test, y_pred)\n",
    "print(\"Accuracy:\", accuracy)"
   ]
  },
  {
   "cell_type": "markdown",
   "id": "4513b734-221b-4e5a-8bbf-ac088ea4ce91",
   "metadata": {},
   "source": [
    "### KNN Optuna"
   ]
  },
  {
   "cell_type": "code",
   "execution_count": 533,
   "id": "dc3674e1-ec7c-4474-b10c-ba847a7a5337",
   "metadata": {
    "tags": []
   },
   "outputs": [],
   "source": [
    "def objective(trial):\n",
    "    \n",
    "    solver = 'lbfgs'\n",
    "    # Suggest a value for C\n",
    "    n_neighbors = trial.suggest_int('n_neighbors', 2, 100)\n",
    "\n",
    "    # Model definition\n",
    "    knn_model = KNeighborsClassifier(n_neighbors=n_neighbors)\n",
    "\n",
    "    # Fit model\n",
    "    knn_model.fit(X_train, y_train)\n",
    "\n",
    "    # Predict and calculate accuracy\n",
    "    y_pred = knn_model.predict(X_val)\n",
    "    accuracy = accuracy_score(y_val, y_pred)\n",
    "\n",
    "    return accuracy"
   ]
  },
  {
   "cell_type": "code",
   "execution_count": 534,
   "id": "862189b6-dfcf-406b-8b6e-272ae404137d",
   "metadata": {
    "collapsed": true,
    "jupyter": {
     "outputs_hidden": true
    },
    "tags": []
   },
   "outputs": [
    {
     "name": "stderr",
     "output_type": "stream",
     "text": [
      "[I 2023-12-21 06:21:19,385] A new study created in memory with name: no-name-4f933a2e-ee9e-4b1b-a6d3-1e297a9896fa\n",
      "[I 2023-12-21 06:21:19,401] Trial 0 finished with value: 0.5520361990950227 and parameters: {'n_neighbors': 53}. Best is trial 0 with value: 0.5520361990950227.\n",
      "[I 2023-12-21 06:21:19,415] Trial 1 finished with value: 0.5429864253393665 and parameters: {'n_neighbors': 34}. Best is trial 0 with value: 0.5520361990950227.\n",
      "[I 2023-12-21 06:21:19,426] Trial 2 finished with value: 0.4796380090497738 and parameters: {'n_neighbors': 5}. Best is trial 0 with value: 0.5520361990950227.\n",
      "[I 2023-12-21 06:21:19,438] Trial 3 finished with value: 0.5113122171945701 and parameters: {'n_neighbors': 15}. Best is trial 0 with value: 0.5520361990950227.\n",
      "[I 2023-12-21 06:21:19,451] Trial 4 finished with value: 0.5294117647058824 and parameters: {'n_neighbors': 21}. Best is trial 0 with value: 0.5520361990950227.\n",
      "[I 2023-12-21 06:21:19,462] Trial 5 finished with value: 0.5339366515837104 and parameters: {'n_neighbors': 48}. Best is trial 0 with value: 0.5520361990950227.\n",
      "[I 2023-12-21 06:21:19,474] Trial 6 finished with value: 0.5339366515837104 and parameters: {'n_neighbors': 49}. Best is trial 0 with value: 0.5520361990950227.\n",
      "[I 2023-12-21 06:21:19,485] Trial 7 finished with value: 0.5610859728506787 and parameters: {'n_neighbors': 64}. Best is trial 7 with value: 0.5610859728506787.\n",
      "[I 2023-12-21 06:21:19,497] Trial 8 finished with value: 0.5429864253393665 and parameters: {'n_neighbors': 87}. Best is trial 7 with value: 0.5610859728506787.\n",
      "[I 2023-12-21 06:21:19,508] Trial 9 finished with value: 0.5701357466063348 and parameters: {'n_neighbors': 77}. Best is trial 9 with value: 0.5701357466063348.\n",
      "[I 2023-12-21 06:21:19,526] Trial 10 finished with value: 0.5429864253393665 and parameters: {'n_neighbors': 98}. Best is trial 9 with value: 0.5701357466063348.\n",
      "[I 2023-12-21 06:21:19,541] Trial 11 finished with value: 0.5610859728506787 and parameters: {'n_neighbors': 73}. Best is trial 9 with value: 0.5701357466063348.\n",
      "[I 2023-12-21 06:21:19,558] Trial 12 finished with value: 0.5746606334841629 and parameters: {'n_neighbors': 71}. Best is trial 12 with value: 0.5746606334841629.\n",
      "[I 2023-12-21 06:21:19,572] Trial 13 finished with value: 0.5520361990950227 and parameters: {'n_neighbors': 78}. Best is trial 12 with value: 0.5746606334841629.\n",
      "[I 2023-12-21 06:21:19,587] Trial 14 finished with value: 0.5384615384615384 and parameters: {'n_neighbors': 100}. Best is trial 12 with value: 0.5746606334841629.\n",
      "[I 2023-12-21 06:21:19,601] Trial 15 finished with value: 0.5746606334841629 and parameters: {'n_neighbors': 63}. Best is trial 12 with value: 0.5746606334841629.\n",
      "[I 2023-12-21 06:21:19,618] Trial 16 finished with value: 0.5429864253393665 and parameters: {'n_neighbors': 62}. Best is trial 12 with value: 0.5746606334841629.\n",
      "[I 2023-12-21 06:21:19,634] Trial 17 finished with value: 0.5610859728506787 and parameters: {'n_neighbors': 37}. Best is trial 12 with value: 0.5746606334841629.\n",
      "[I 2023-12-21 06:21:19,648] Trial 18 finished with value: 0.5610859728506787 and parameters: {'n_neighbors': 64}. Best is trial 12 with value: 0.5746606334841629.\n",
      "[I 2023-12-21 06:21:19,663] Trial 19 finished with value: 0.5429864253393665 and parameters: {'n_neighbors': 86}. Best is trial 12 with value: 0.5746606334841629.\n",
      "[I 2023-12-21 06:21:19,677] Trial 20 finished with value: 0.5746606334841629 and parameters: {'n_neighbors': 38}. Best is trial 12 with value: 0.5746606334841629.\n",
      "[I 2023-12-21 06:21:19,691] Trial 21 finished with value: 0.5656108597285068 and parameters: {'n_neighbors': 35}. Best is trial 12 with value: 0.5746606334841629.\n",
      "[I 2023-12-21 06:21:19,706] Trial 22 finished with value: 0.5294117647058824 and parameters: {'n_neighbors': 55}. Best is trial 12 with value: 0.5746606334841629.\n",
      "[I 2023-12-21 06:21:19,720] Trial 23 finished with value: 0.5565610859728507 and parameters: {'n_neighbors': 41}. Best is trial 12 with value: 0.5746606334841629.\n",
      "[I 2023-12-21 06:21:19,734] Trial 24 finished with value: 0.5339366515837104 and parameters: {'n_neighbors': 26}. Best is trial 12 with value: 0.5746606334841629.\n",
      "[I 2023-12-21 06:21:19,749] Trial 25 finished with value: 0.5429864253393665 and parameters: {'n_neighbors': 60}. Best is trial 12 with value: 0.5746606334841629.\n",
      "[I 2023-12-21 06:21:19,766] Trial 26 finished with value: 0.5746606334841629 and parameters: {'n_neighbors': 71}. Best is trial 12 with value: 0.5746606334841629.\n",
      "[I 2023-12-21 06:21:19,782] Trial 27 finished with value: 0.5882352941176471 and parameters: {'n_neighbors': 70}. Best is trial 27 with value: 0.5882352941176471.\n",
      "[I 2023-12-21 06:21:19,798] Trial 28 finished with value: 0.5429864253393665 and parameters: {'n_neighbors': 86}. Best is trial 27 with value: 0.5882352941176471.\n",
      "[I 2023-12-21 06:21:19,815] Trial 29 finished with value: 0.5610859728506787 and parameters: {'n_neighbors': 69}. Best is trial 27 with value: 0.5882352941176471.\n",
      "[I 2023-12-21 06:21:19,829] Trial 30 finished with value: 0.5384615384615384 and parameters: {'n_neighbors': 56}. Best is trial 27 with value: 0.5882352941176471.\n",
      "[I 2023-12-21 06:21:19,844] Trial 31 finished with value: 0.5520361990950227 and parameters: {'n_neighbors': 44}. Best is trial 27 with value: 0.5882352941176471.\n",
      "[I 2023-12-21 06:21:19,861] Trial 32 finished with value: 0.5565610859728507 and parameters: {'n_neighbors': 80}. Best is trial 27 with value: 0.5882352941176471.\n",
      "[I 2023-12-21 06:21:19,878] Trial 33 finished with value: 0.5520361990950227 and parameters: {'n_neighbors': 53}. Best is trial 27 with value: 0.5882352941176471.\n",
      "[I 2023-12-21 06:21:19,899] Trial 34 finished with value: 0.5610859728506787 and parameters: {'n_neighbors': 69}. Best is trial 27 with value: 0.5882352941176471.\n",
      "[I 2023-12-21 06:21:19,915] Trial 35 finished with value: 0.5113122171945701 and parameters: {'n_neighbors': 12}. Best is trial 27 with value: 0.5882352941176471.\n",
      "[I 2023-12-21 06:21:19,931] Trial 36 finished with value: 0.5339366515837104 and parameters: {'n_neighbors': 25}. Best is trial 27 with value: 0.5882352941176471.\n",
      "[I 2023-12-21 06:21:19,948] Trial 37 finished with value: 0.5339366515837104 and parameters: {'n_neighbors': 46}. Best is trial 27 with value: 0.5882352941176471.\n",
      "[I 2023-12-21 06:21:19,963] Trial 38 finished with value: 0.5203619909502263 and parameters: {'n_neighbors': 30}. Best is trial 27 with value: 0.5882352941176471.\n",
      "[I 2023-12-21 06:21:19,977] Trial 39 finished with value: 0.5203619909502263 and parameters: {'n_neighbors': 58}. Best is trial 27 with value: 0.5882352941176471.\n",
      "[I 2023-12-21 06:21:19,992] Trial 40 finished with value: 0.5520361990950227 and parameters: {'n_neighbors': 91}. Best is trial 27 with value: 0.5882352941176471.\n",
      "[I 2023-12-21 06:21:20,010] Trial 41 finished with value: 0.5746606334841629 and parameters: {'n_neighbors': 72}. Best is trial 27 with value: 0.5882352941176471.\n",
      "[I 2023-12-21 06:21:20,028] Trial 42 finished with value: 0.583710407239819 and parameters: {'n_neighbors': 66}. Best is trial 27 with value: 0.5882352941176471.\n",
      "[I 2023-12-21 06:21:20,042] Trial 43 finished with value: 0.5475113122171946 and parameters: {'n_neighbors': 50}. Best is trial 27 with value: 0.5882352941176471.\n",
      "[I 2023-12-21 06:21:20,056] Trial 44 finished with value: 0.583710407239819 and parameters: {'n_neighbors': 66}. Best is trial 27 with value: 0.5882352941176471.\n",
      "[I 2023-12-21 06:21:20,071] Trial 45 finished with value: 0.579185520361991 and parameters: {'n_neighbors': 67}. Best is trial 27 with value: 0.5882352941176471.\n",
      "[I 2023-12-21 06:21:20,089] Trial 46 finished with value: 0.5565610859728507 and parameters: {'n_neighbors': 80}. Best is trial 27 with value: 0.5882352941176471.\n",
      "[I 2023-12-21 06:21:20,104] Trial 47 finished with value: 0.5656108597285068 and parameters: {'n_neighbors': 75}. Best is trial 27 with value: 0.5882352941176471.\n",
      "[I 2023-12-21 06:21:20,121] Trial 48 finished with value: 0.5701357466063348 and parameters: {'n_neighbors': 65}. Best is trial 27 with value: 0.5882352941176471.\n",
      "[I 2023-12-21 06:21:20,136] Trial 49 finished with value: 0.5656108597285068 and parameters: {'n_neighbors': 68}. Best is trial 27 with value: 0.5882352941176471.\n",
      "[I 2023-12-21 06:21:20,153] Trial 50 finished with value: 0.5429864253393665 and parameters: {'n_neighbors': 81}. Best is trial 27 with value: 0.5882352941176471.\n",
      "[I 2023-12-21 06:21:20,168] Trial 51 finished with value: 0.5701357466063348 and parameters: {'n_neighbors': 65}. Best is trial 27 with value: 0.5882352941176471.\n",
      "[I 2023-12-21 06:21:20,183] Trial 52 finished with value: 0.5429864253393665 and parameters: {'n_neighbors': 60}. Best is trial 27 with value: 0.5882352941176471.\n",
      "[I 2023-12-21 06:21:20,198] Trial 53 finished with value: 0.5610859728506787 and parameters: {'n_neighbors': 73}. Best is trial 27 with value: 0.5882352941176471.\n",
      "[I 2023-12-21 06:21:20,213] Trial 54 finished with value: 0.583710407239819 and parameters: {'n_neighbors': 66}. Best is trial 27 with value: 0.5882352941176471.\n",
      "[I 2023-12-21 06:21:20,228] Trial 55 finished with value: 0.5701357466063348 and parameters: {'n_neighbors': 77}. Best is trial 27 with value: 0.5882352941176471.\n",
      "[I 2023-12-21 06:21:20,243] Trial 56 finished with value: 0.579185520361991 and parameters: {'n_neighbors': 67}. Best is trial 27 with value: 0.5882352941176471.\n",
      "[I 2023-12-21 06:21:20,260] Trial 57 finished with value: 0.5656108597285068 and parameters: {'n_neighbors': 68}. Best is trial 27 with value: 0.5882352941176471.\n",
      "[I 2023-12-21 06:21:20,276] Trial 58 finished with value: 0.5294117647058824 and parameters: {'n_neighbors': 52}. Best is trial 27 with value: 0.5882352941176471.\n",
      "[I 2023-12-21 06:21:20,293] Trial 59 finished with value: 0.5475113122171946 and parameters: {'n_neighbors': 83}. Best is trial 27 with value: 0.5882352941176471.\n",
      "[I 2023-12-21 06:21:20,310] Trial 60 finished with value: 0.5384615384615384 and parameters: {'n_neighbors': 90}. Best is trial 27 with value: 0.5882352941176471.\n",
      "[I 2023-12-21 06:21:20,326] Trial 61 finished with value: 0.5610859728506787 and parameters: {'n_neighbors': 74}. Best is trial 27 with value: 0.5882352941176471.\n",
      "[I 2023-12-21 06:21:20,341] Trial 62 finished with value: 0.5746606334841629 and parameters: {'n_neighbors': 63}. Best is trial 27 with value: 0.5882352941176471.\n",
      "[I 2023-12-21 06:21:20,357] Trial 63 finished with value: 0.5203619909502263 and parameters: {'n_neighbors': 58}. Best is trial 27 with value: 0.5882352941176471.\n",
      "[I 2023-12-21 06:21:20,372] Trial 64 finished with value: 0.5475113122171946 and parameters: {'n_neighbors': 61}. Best is trial 27 with value: 0.5882352941176471.\n",
      "[I 2023-12-21 06:21:20,389] Trial 65 finished with value: 0.583710407239819 and parameters: {'n_neighbors': 66}. Best is trial 27 with value: 0.5882352941176471.\n",
      "[I 2023-12-21 06:21:20,404] Trial 66 finished with value: 0.583710407239819 and parameters: {'n_neighbors': 66}. Best is trial 27 with value: 0.5882352941176471.\n",
      "[I 2023-12-21 06:21:20,420] Trial 67 finished with value: 0.5294117647058824 and parameters: {'n_neighbors': 55}. Best is trial 27 with value: 0.5882352941176471.\n",
      "[I 2023-12-21 06:21:20,436] Trial 68 finished with value: 0.5475113122171946 and parameters: {'n_neighbors': 76}. Best is trial 27 with value: 0.5882352941176471.\n",
      "[I 2023-12-21 06:21:20,454] Trial 69 finished with value: 0.583710407239819 and parameters: {'n_neighbors': 66}. Best is trial 27 with value: 0.5882352941176471.\n",
      "[I 2023-12-21 06:21:20,469] Trial 70 finished with value: 0.5746606334841629 and parameters: {'n_neighbors': 71}. Best is trial 27 with value: 0.5882352941176471.\n",
      "[I 2023-12-21 06:21:20,486] Trial 71 finished with value: 0.583710407239819 and parameters: {'n_neighbors': 66}. Best is trial 27 with value: 0.5882352941176471.\n",
      "[I 2023-12-21 06:21:20,504] Trial 72 finished with value: 0.5610859728506787 and parameters: {'n_neighbors': 64}. Best is trial 27 with value: 0.5882352941176471.\n",
      "[I 2023-12-21 06:21:20,520] Trial 73 finished with value: 0.5429864253393665 and parameters: {'n_neighbors': 59}. Best is trial 27 with value: 0.5882352941176471.\n",
      "[I 2023-12-21 06:21:20,536] Trial 74 finished with value: 0.5882352941176471 and parameters: {'n_neighbors': 70}. Best is trial 27 with value: 0.5882352941176471.\n",
      "[I 2023-12-21 06:21:20,552] Trial 75 finished with value: 0.5882352941176471 and parameters: {'n_neighbors': 70}. Best is trial 27 with value: 0.5882352941176471.\n",
      "[I 2023-12-21 06:21:20,567] Trial 76 finished with value: 0.5746606334841629 and parameters: {'n_neighbors': 71}. Best is trial 27 with value: 0.5882352941176471.\n",
      "[I 2023-12-21 06:21:20,582] Trial 77 finished with value: 0.5520361990950227 and parameters: {'n_neighbors': 78}. Best is trial 27 with value: 0.5882352941176471.\n",
      "[I 2023-12-21 06:21:20,600] Trial 78 finished with value: 0.5429864253393665 and parameters: {'n_neighbors': 62}. Best is trial 27 with value: 0.5882352941176471.\n",
      "[I 2023-12-21 06:21:20,615] Trial 79 finished with value: 0.5882352941176471 and parameters: {'n_neighbors': 70}. Best is trial 27 with value: 0.5882352941176471.\n",
      "[I 2023-12-21 06:21:20,633] Trial 80 finished with value: 0.5656108597285068 and parameters: {'n_neighbors': 84}. Best is trial 27 with value: 0.5882352941176471.\n",
      "[I 2023-12-21 06:21:20,651] Trial 81 finished with value: 0.5610859728506787 and parameters: {'n_neighbors': 69}. Best is trial 27 with value: 0.5882352941176471.\n",
      "[I 2023-12-21 06:21:20,667] Trial 82 finished with value: 0.5656108597285068 and parameters: {'n_neighbors': 75}. Best is trial 27 with value: 0.5882352941176471.\n",
      "[I 2023-12-21 06:21:20,682] Trial 83 finished with value: 0.5429864253393665 and parameters: {'n_neighbors': 57}. Best is trial 27 with value: 0.5882352941176471.\n",
      "[I 2023-12-21 06:21:20,700] Trial 84 finished with value: 0.5882352941176471 and parameters: {'n_neighbors': 70}. Best is trial 27 with value: 0.5882352941176471.\n",
      "[I 2023-12-21 06:21:20,715] Trial 85 finished with value: 0.5746606334841629 and parameters: {'n_neighbors': 71}. Best is trial 27 with value: 0.5882352941176471.\n",
      "[I 2023-12-21 06:21:20,730] Trial 86 finished with value: 0.5429864253393665 and parameters: {'n_neighbors': 62}. Best is trial 27 with value: 0.5882352941176471.\n",
      "[I 2023-12-21 06:21:20,746] Trial 87 finished with value: 0.5610859728506787 and parameters: {'n_neighbors': 69}. Best is trial 27 with value: 0.5882352941176471.\n",
      "[I 2023-12-21 06:21:20,763] Trial 88 finished with value: 0.5384615384615384 and parameters: {'n_neighbors': 79}. Best is trial 27 with value: 0.5882352941176471.\n",
      "[I 2023-12-21 06:21:20,779] Trial 89 finished with value: 0.5610859728506787 and parameters: {'n_neighbors': 73}. Best is trial 27 with value: 0.5882352941176471.\n",
      "[I 2023-12-21 06:21:20,797] Trial 90 finished with value: 0.5882352941176471 and parameters: {'n_neighbors': 70}. Best is trial 27 with value: 0.5882352941176471.\n",
      "[I 2023-12-21 06:21:20,812] Trial 91 finished with value: 0.5656108597285068 and parameters: {'n_neighbors': 75}. Best is trial 27 with value: 0.5882352941176471.\n",
      "[I 2023-12-21 06:21:20,826] Trial 92 finished with value: 0.5882352941176471 and parameters: {'n_neighbors': 70}. Best is trial 27 with value: 0.5882352941176471.\n",
      "[I 2023-12-21 06:21:20,847] Trial 93 finished with value: 0.5882352941176471 and parameters: {'n_neighbors': 70}. Best is trial 27 with value: 0.5882352941176471.\n",
      "[I 2023-12-21 06:21:20,865] Trial 94 finished with value: 0.5610859728506787 and parameters: {'n_neighbors': 73}. Best is trial 27 with value: 0.5882352941176471.\n",
      "[I 2023-12-21 06:21:20,881] Trial 95 finished with value: 0.5520361990950227 and parameters: {'n_neighbors': 82}. Best is trial 27 with value: 0.5882352941176471.\n",
      "[I 2023-12-21 06:21:20,898] Trial 96 finished with value: 0.5701357466063348 and parameters: {'n_neighbors': 77}. Best is trial 27 with value: 0.5882352941176471.\n",
      "[I 2023-12-21 06:21:20,917] Trial 97 finished with value: 0.5610859728506787 and parameters: {'n_neighbors': 69}. Best is trial 27 with value: 0.5882352941176471.\n",
      "[I 2023-12-21 06:21:20,936] Trial 98 finished with value: 0.5746606334841629 and parameters: {'n_neighbors': 71}. Best is trial 27 with value: 0.5882352941176471.\n",
      "[I 2023-12-21 06:21:20,953] Trial 99 finished with value: 0.5746606334841629 and parameters: {'n_neighbors': 63}. Best is trial 27 with value: 0.5882352941176471.\n"
     ]
    }
   ],
   "source": [
    "study = optuna.create_study(direction='maximize')\n",
    "study.optimize(objective, n_trials=100)  # You can adjust the number of trials"
   ]
  },
  {
   "cell_type": "code",
   "execution_count": 535,
   "id": "c089ccb4-03b3-4fd8-b730-5af482316ed4",
   "metadata": {
    "tags": []
   },
   "outputs": [
    {
     "name": "stdout",
     "output_type": "stream",
     "text": [
      "Best parameters: {'n_neighbors': 70}\n"
     ]
    }
   ],
   "source": [
    "# Retrieve the best hyperparameters\n",
    "best_params = study.best_params\n",
    "print('Best parameters:', best_params)"
   ]
  },
  {
   "cell_type": "code",
   "execution_count": 536,
   "id": "12f9f0ac-4f45-417e-81d6-17757d073e7c",
   "metadata": {
    "tags": []
   },
   "outputs": [
    {
     "data": {
      "text/html": [
       "<style>#sk-container-id-43 {color: black;}#sk-container-id-43 pre{padding: 0;}#sk-container-id-43 div.sk-toggleable {background-color: white;}#sk-container-id-43 label.sk-toggleable__label {cursor: pointer;display: block;width: 100%;margin-bottom: 0;padding: 0.3em;box-sizing: border-box;text-align: center;}#sk-container-id-43 label.sk-toggleable__label-arrow:before {content: \"▸\";float: left;margin-right: 0.25em;color: #696969;}#sk-container-id-43 label.sk-toggleable__label-arrow:hover:before {color: black;}#sk-container-id-43 div.sk-estimator:hover label.sk-toggleable__label-arrow:before {color: black;}#sk-container-id-43 div.sk-toggleable__content {max-height: 0;max-width: 0;overflow: hidden;text-align: left;background-color: #f0f8ff;}#sk-container-id-43 div.sk-toggleable__content pre {margin: 0.2em;color: black;border-radius: 0.25em;background-color: #f0f8ff;}#sk-container-id-43 input.sk-toggleable__control:checked~div.sk-toggleable__content {max-height: 200px;max-width: 100%;overflow: auto;}#sk-container-id-43 input.sk-toggleable__control:checked~label.sk-toggleable__label-arrow:before {content: \"▾\";}#sk-container-id-43 div.sk-estimator input.sk-toggleable__control:checked~label.sk-toggleable__label {background-color: #d4ebff;}#sk-container-id-43 div.sk-label input.sk-toggleable__control:checked~label.sk-toggleable__label {background-color: #d4ebff;}#sk-container-id-43 input.sk-hidden--visually {border: 0;clip: rect(1px 1px 1px 1px);clip: rect(1px, 1px, 1px, 1px);height: 1px;margin: -1px;overflow: hidden;padding: 0;position: absolute;width: 1px;}#sk-container-id-43 div.sk-estimator {font-family: monospace;background-color: #f0f8ff;border: 1px dotted black;border-radius: 0.25em;box-sizing: border-box;margin-bottom: 0.5em;}#sk-container-id-43 div.sk-estimator:hover {background-color: #d4ebff;}#sk-container-id-43 div.sk-parallel-item::after {content: \"\";width: 100%;border-bottom: 1px solid gray;flex-grow: 1;}#sk-container-id-43 div.sk-label:hover label.sk-toggleable__label {background-color: #d4ebff;}#sk-container-id-43 div.sk-serial::before {content: \"\";position: absolute;border-left: 1px solid gray;box-sizing: border-box;top: 0;bottom: 0;left: 50%;z-index: 0;}#sk-container-id-43 div.sk-serial {display: flex;flex-direction: column;align-items: center;background-color: white;padding-right: 0.2em;padding-left: 0.2em;position: relative;}#sk-container-id-43 div.sk-item {position: relative;z-index: 1;}#sk-container-id-43 div.sk-parallel {display: flex;align-items: stretch;justify-content: center;background-color: white;position: relative;}#sk-container-id-43 div.sk-item::before, #sk-container-id-43 div.sk-parallel-item::before {content: \"\";position: absolute;border-left: 1px solid gray;box-sizing: border-box;top: 0;bottom: 0;left: 50%;z-index: -1;}#sk-container-id-43 div.sk-parallel-item {display: flex;flex-direction: column;z-index: 1;position: relative;background-color: white;}#sk-container-id-43 div.sk-parallel-item:first-child::after {align-self: flex-end;width: 50%;}#sk-container-id-43 div.sk-parallel-item:last-child::after {align-self: flex-start;width: 50%;}#sk-container-id-43 div.sk-parallel-item:only-child::after {width: 0;}#sk-container-id-43 div.sk-dashed-wrapped {border: 1px dashed gray;margin: 0 0.4em 0.5em 0.4em;box-sizing: border-box;padding-bottom: 0.4em;background-color: white;}#sk-container-id-43 div.sk-label label {font-family: monospace;font-weight: bold;display: inline-block;line-height: 1.2em;}#sk-container-id-43 div.sk-label-container {text-align: center;}#sk-container-id-43 div.sk-container {/* jupyter's `normalize.less` sets `[hidden] { display: none; }` but bootstrap.min.css set `[hidden] { display: none !important; }` so we also need the `!important` here to be able to override the default hidden behavior on the sphinx rendered scikit-learn.org. See: https://github.com/scikit-learn/scikit-learn/issues/21755 */display: inline-block !important;position: relative;}#sk-container-id-43 div.sk-text-repr-fallback {display: none;}</style><div id=\"sk-container-id-43\" class=\"sk-top-container\"><div class=\"sk-text-repr-fallback\"><pre>KNeighborsClassifier(n_neighbors=70)</pre><b>In a Jupyter environment, please rerun this cell to show the HTML representation or trust the notebook. <br />On GitHub, the HTML representation is unable to render, please try loading this page with nbviewer.org.</b></div><div class=\"sk-container\" hidden><div class=\"sk-item\"><div class=\"sk-estimator sk-toggleable\"><input class=\"sk-toggleable__control sk-hidden--visually\" id=\"sk-estimator-id-53\" type=\"checkbox\" checked><label for=\"sk-estimator-id-53\" class=\"sk-toggleable__label sk-toggleable__label-arrow\">KNeighborsClassifier</label><div class=\"sk-toggleable__content\"><pre>KNeighborsClassifier(n_neighbors=70)</pre></div></div></div></div></div>"
      ],
      "text/plain": [
       "KNeighborsClassifier(n_neighbors=70)"
      ]
     },
     "execution_count": 536,
     "metadata": {},
     "output_type": "execute_result"
    }
   ],
   "source": [
    "# Create and fit the model\n",
    "model = KNeighborsClassifier(**best_params)\n",
    "model.fit(X_train, y_train)"
   ]
  },
  {
   "cell_type": "code",
   "execution_count": 537,
   "id": "8412affd-bb07-49e0-86bd-eb8131f73cf5",
   "metadata": {
    "tags": []
   },
   "outputs": [
    {
     "name": "stdout",
     "output_type": "stream",
     "text": [
      "              precision    recall  f1-score   support\n",
      "\n",
      "           0       0.36      0.16      0.22       105\n",
      "           1       0.56      0.79      0.65       140\n",
      "\n",
      "    accuracy                           0.52       245\n",
      "   macro avg       0.46      0.47      0.44       245\n",
      "weighted avg       0.47      0.52      0.47       245\n",
      "\n"
     ]
    }
   ],
   "source": [
    "# Predict and evaluate\n",
    "y_pred = model.predict(X_test)\n",
    "print(classification_report(y_test, y_pred))"
   ]
  },
  {
   "cell_type": "code",
   "execution_count": 17,
   "id": "165e4bce-fcf4-4052-870a-a166bc351175",
   "metadata": {
    "tags": []
   },
   "outputs": [
    {
     "data": {
      "text/plain": [
       "0.42857142857142855"
      ]
     },
     "execution_count": 17,
     "metadata": {},
     "output_type": "execute_result"
    }
   ],
   "source": [
    "105 / (140 + 105)"
   ]
  },
  {
   "cell_type": "code",
   "execution_count": null,
   "id": "4297e453-ec81-4684-a3b6-3d714fa76808",
   "metadata": {},
   "outputs": [],
   "source": []
  }
 ],
 "metadata": {
  "kernelspec": {
   "display_name": "Python 3 (ipykernel)",
   "language": "python",
   "name": "python3"
  },
  "language_info": {
   "codemirror_mode": {
    "name": "ipython",
    "version": 3
   },
   "file_extension": ".py",
   "mimetype": "text/x-python",
   "name": "python",
   "nbconvert_exporter": "python",
   "pygments_lexer": "ipython3",
   "version": "3.11.0rc1"
  }
 },
 "nbformat": 4,
 "nbformat_minor": 5
}
